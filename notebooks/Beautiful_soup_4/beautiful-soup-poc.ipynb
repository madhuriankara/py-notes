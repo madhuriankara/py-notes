{
 "cells": [
  {
   "cell_type": "code",
   "execution_count": 3,
   "id": "09c42b76-27ce-4e75-a75b-0e84ec6b4d28",
   "metadata": {},
   "outputs": [],
   "source": [
    "from bs4 import BeautifulSoup\n",
    "import requests\n",
    "\n"
   ]
  },
  {
   "cell_type": "code",
   "execution_count": 4,
   "id": "e00bd8f8-4305-4f99-8e02-e90fe3c54802",
   "metadata": {},
   "outputs": [],
   "source": [
    "url = \"https://books.toscrape.com/catalogue/sharp-objects_997/index.html\"\n",
    "\n",
    "\n"
   ]
  },
  {
   "cell_type": "code",
   "execution_count": 5,
   "id": "8ce6c9e3-4f72-4518-a450-ef7512025606",
   "metadata": {},
   "outputs": [],
   "source": [
    "response = requests.get(url)\n",
    "\n",
    "\n"
   ]
  },
  {
   "cell_type": "code",
   "execution_count": 6,
   "id": "d9f7476b-e1da-46dc-bffd-dd5b350478e8",
   "metadata": {},
   "outputs": [
    {
     "name": "stdout",
     "output_type": "stream",
     "text": [
      "Title tag: Sharp Objects\n"
     ]
    }
   ],
   "source": [
    "if response.status_code == 200:\n",
    "    soup = BeautifulSoup(response.content, 'html.parser')\n",
    "    \n",
    "    title = soup.find('h1').text\n",
    "    print(\"Title tag:\", title )\n",
    "    \n",
    "else:\n",
    "    print(\"Failed to get the page.\", response.status_code)"
   ]
  },
  {
   "cell_type": "code",
   "execution_count": 9,
   "id": "2a1a9037-496f-454c-a7f5-aa57d2fecaca",
   "metadata": {},
   "outputs": [
    {
     "name": "stdout",
     "output_type": "stream",
     "text": [
      "List item 1 : <p class=\"price_color\">£47.82</p>\n",
      "List item 2 : <p class=\"instock availability\">\n",
      "<i class=\"icon-ok\"></i>\n",
      "    \n",
      "        In stock (20 available)\n",
      "    \n",
      "</p>\n",
      "List item 3 : <p class=\"star-rating Four\">\n",
      "<i class=\"icon-star\"></i>\n",
      "<i class=\"icon-star\"></i>\n",
      "<i class=\"icon-star\"></i>\n",
      "<i class=\"icon-star\"></i>\n",
      "<i class=\"icon-star\"></i>\n",
      "<!-- <small><a href=\"/catalogue/sharp-objects_997/reviews/\">\n",
      "        \n",
      "                \n",
      "                    0 customer reviews\n",
      "                \n",
      "        </a></small>\n",
      "         --> \n",
      "\n",
      "\n",
      "<!-- \n",
      "    <a id=\"write_review\" href=\"/catalogue/sharp-objects_997/reviews/add/#addreview\" class=\"btn btn-success btn-sm\">\n",
      "        Write a review\n",
      "    </a>\n",
      "\n",
      " --></p>\n",
      "List item 4 : <p>WICKED above her hipbone, GIRL across her heart Words are like a road map to reporter Camille Preaker’s troubled past. Fresh from a brief stay at a psych hospital, Camille’s first assignment from the second-rate daily paper where she works brings her reluctantly back to her hometown to cover the murders of two preteen girls. NASTY on her kneecap, BABYDOLL on her leg Since WICKED above her hipbone, GIRL across her heart Words are like a road map to reporter Camille Preaker’s troubled past. Fresh from a brief stay at a psych hospital, Camille’s first assignment from the second-rate daily paper where she works brings her reluctantly back to her hometown to cover the murders of two preteen girls. NASTY on her kneecap, BABYDOLL on her leg Since she left town eight years ago, Camille has hardly spoken to her neurotic, hypochondriac mother or to the half-sister she barely knows: a beautiful thirteen-year-old with an eerie grip on the town. Now, installed again in her family’s Victorian mansion, Camille is haunted by the childhood tragedy she has spent her whole life trying to cut from her memory. HARMFUL on her wrist, WHORE on her ankle As Camille works to uncover the truth about these violent crimes, she finds herself identifying with the young victims—a bit too strongly. Clues keep leading to dead ends, forcing Camille to unravel the psychological puzzle of her own past to get at the story. Dogged by her own demons, Camille will have to confront what happened to her years before if she wants to survive this homecoming.With its taut, crafted writing, Sharp Objects is addictive, haunting, and unforgettable. ...more</p>\n",
      "List item 5 : <p class=\"star-rating One\">\n",
      "<i class=\"icon-star\"></i>\n",
      "<i class=\"icon-star\"></i>\n",
      "<i class=\"icon-star\"></i>\n",
      "<i class=\"icon-star\"></i>\n",
      "<i class=\"icon-star\"></i>\n",
      "</p>\n",
      "List item 6 : <p class=\"price_color\">£50.10</p>\n",
      "List item 7 : <p class=\"instock availability\">\n",
      "<i class=\"icon-ok\"></i>\n",
      "    \n",
      "        In stock\n",
      "    \n",
      "</p>\n",
      "List item 8 : <p class=\"star-rating One\">\n",
      "<i class=\"icon-star\"></i>\n",
      "<i class=\"icon-star\"></i>\n",
      "<i class=\"icon-star\"></i>\n",
      "<i class=\"icon-star\"></i>\n",
      "<i class=\"icon-star\"></i>\n",
      "</p>\n",
      "List item 9 : <p class=\"price_color\">£53.74</p>\n",
      "List item 10 : <p class=\"instock availability\">\n",
      "<i class=\"icon-ok\"></i>\n",
      "    \n",
      "        In stock\n",
      "    \n",
      "</p>\n",
      "List item 11 : <p class=\"star-rating Three\">\n",
      "<i class=\"icon-star\"></i>\n",
      "<i class=\"icon-star\"></i>\n",
      "<i class=\"icon-star\"></i>\n",
      "<i class=\"icon-star\"></i>\n",
      "<i class=\"icon-star\"></i>\n",
      "</p>\n",
      "List item 12 : <p class=\"price_color\">£51.77</p>\n",
      "List item 13 : <p class=\"instock availability\">\n",
      "<i class=\"icon-ok\"></i>\n",
      "    \n",
      "        In stock\n",
      "    \n",
      "</p>\n"
     ]
    }
   ],
   "source": [
    "from bs4 import BeautifulSoup\n",
    "import requests\n",
    "\n",
    "url = \"https://books.toscrape.com/catalogue/sharp-objects_997/index.html\"\n",
    "\n",
    "response = requests.get(url)\n",
    "soup = BeautifulSoup(response.content,'html.parser')\n",
    "\n",
    "\n",
    "\n",
    "#Extact list items\n",
    "list_items = soup.find_all('p')\n",
    "for idx, item in enumerate(list_items, start=1):    \n",
    "    print(f\"List item {idx} : {item}\")\n",
    "\n"
   ]
  },
  {
   "cell_type": "code",
   "execution_count": 19,
   "id": "41cdd765-dc2f-4592-b035-82b72ec076bc",
   "metadata": {},
   "outputs": [
    {
     "name": "stdout",
     "output_type": "stream",
     "text": [
      "h1\n",
      "h2\n",
      "h3\n",
      "h4\n",
      "h5\n",
      "h6\n"
     ]
    },
    {
     "data": {
      "text/plain": [
       "['h1', 'h2', 'h3', 'h4', 'h5', 'h6']"
      ]
     },
     "execution_count": 19,
     "metadata": {},
     "output_type": "execute_result"
    }
   ],
   "source": [
    "def tags_iterater():\n",
    "    result = []\n",
    "    for i in range(1,7):\n",
    "        print(f'h{i}')\n",
    "        result.append(f'h{i}')\n",
    "    return result\n",
    "    \n",
    "tags_iterater()  "
   ]
  },
  {
   "cell_type": "code",
   "execution_count": 22,
   "id": "fff7587d-24c7-4fc5-b2b4-3478758cab4d",
   "metadata": {},
   "outputs": [],
   "source": [
    "from bs4 import BeautifulSoup\n",
    "import requests\n"
   ]
  },
  {
   "cell_type": "code",
   "execution_count": 23,
   "id": "3555c492-2c42-4edf-9fa4-2128c88cdf68",
   "metadata": {},
   "outputs": [],
   "source": [
    "url = \"https://books.toscrape.com/catalogue/sharp-objects_997/index.html\""
   ]
  },
  {
   "cell_type": "code",
   "execution_count": 24,
   "id": "cbc5a5cf-fe0b-4e9e-820b-e75dd43dbf4a",
   "metadata": {},
   "outputs": [],
   "source": [
    "response = requests.get(url)"
   ]
  },
  {
   "cell_type": "code",
   "execution_count": 25,
   "id": "ec2f625f-c216-4c9e-9088-529c0487e866",
   "metadata": {},
   "outputs": [],
   "source": [
    "soup = BeautifulSoup(response.content,'html.parser')"
   ]
  },
  {
   "cell_type": "code",
   "execution_count": 28,
   "id": "399b2c88-25ce-411f-9978-69bbbe72cb03",
   "metadata": {},
   "outputs": [
    {
     "name": "stdout",
     "output_type": "stream",
     "text": [
      "h1\n",
      "h2\n",
      "h3\n",
      "h4\n",
      "h5\n",
      "h6\n",
      "List item 1 : <h1>Sharp Objects</h1>\n",
      "List item 1 : <h2>Product Description</h2>\n",
      "List item 2 : <h2>Product Information</h2>\n",
      "List item 3 : <h2>Products you recently viewed</h2>\n",
      "List item 1 : <h3><a href=\"../soumission_998/index.html\" title=\"Soumission\">Soumission</a></h3>\n",
      "List item 2 : <h3><a href=\"../tipping-the-velvet_999/index.html\" title=\"Tipping the Velvet\">Tipping the Velvet</a></h3>\n",
      "List item 3 : <h3><a href=\"../a-light-in-the-attic_1000/index.html\" title=\"A Light in the Attic\">A Light in the ...</a></h3>\n"
     ]
    }
   ],
   "source": [
    "\n",
    "for idx, item in tags_iterater():\n",
    "    list_items = soup.find_all(f'{idx}{item}')\n",
    "    for idx, item in enumerate(list_items, start=1):    \n",
    "        print(f\"List item {idx} : {item}\")\n",
    "    \n",
    "    \n"
   ]
  },
  {
   "cell_type": "code",
   "execution_count": null,
   "id": "7b730d58-e2bb-4402-a55b-2d237220270f",
   "metadata": {},
   "outputs": [],
   "source": []
  },
  {
   "cell_type": "code",
   "execution_count": 29,
   "id": "3555a0e1-3e70-4e50-bc01-4432a2c5d4b9",
   "metadata": {},
   "outputs": [],
   "source": [
    "from bs4 import BeautifulSoup\n",
    "import requests"
   ]
  },
  {
   "cell_type": "code",
   "execution_count": 30,
   "id": "09623cae-60b7-43d5-a166-048a43aee53d",
   "metadata": {},
   "outputs": [],
   "source": [
    "url = \"https://books.toscrape.com/catalogue/sharp-objects_997/index.html\""
   ]
  },
  {
   "cell_type": "code",
   "execution_count": 31,
   "id": "f1794346-dfa8-4e89-81ee-541a08d1a64f",
   "metadata": {},
   "outputs": [],
   "source": [
    "response = requests.get(url)\n",
    "soup = BeautifulSoup(response.content,'html.parser')"
   ]
  },
  {
   "cell_type": "code",
   "execution_count": 32,
   "id": "a9b34b27-b47b-41b1-80a3-e25a5a47f9aa",
   "metadata": {},
   "outputs": [
    {
     "name": "stdout",
     "output_type": "stream",
     "text": [
      "List item 1 : <a href=\"../../index.html\">Books to Scrape</a>\n",
      "List item 2 : <a href=\"../../index.html\">Home</a>\n",
      "List item 3 : <a href=\"../category/books_1/index.html\">Books</a>\n",
      "List item 4 : <a href=\"../category/books/mystery_3/index.html\">Mystery</a>\n",
      "List item 5 : <a href=\"../soumission_998/index.html\"><img alt=\"Soumission\" class=\"thumbnail\" src=\"../../media/cache/3e/ef/3eef99c9d9adef34639f510662022830.jpg\"/></a>\n",
      "List item 6 : <a href=\"../soumission_998/index.html\" title=\"Soumission\">Soumission</a>\n",
      "List item 7 : <a href=\"../tipping-the-velvet_999/index.html\"><img alt=\"Tipping the Velvet\" class=\"thumbnail\" src=\"../../media/cache/26/0c/260c6ae16bce31c8f8c95daddd9f4a1c.jpg\"/></a>\n",
      "List item 8 : <a href=\"../tipping-the-velvet_999/index.html\" title=\"Tipping the Velvet\">Tipping the Velvet</a>\n",
      "List item 9 : <a href=\"../a-light-in-the-attic_1000/index.html\"><img alt=\"A Light in the Attic\" class=\"thumbnail\" src=\"../../media/cache/2c/da/2cdad67c44b002e7ead0cc35693c0e8b.jpg\"/></a>\n",
      "List item 10 : <a href=\"../a-light-in-the-attic_1000/index.html\" title=\"A Light in the Attic\">A Light in the ...</a>\n"
     ]
    }
   ],
   "source": [
    "list_items = soup.find_all('a')\n",
    "for idx, item in enumerate(list_items, start=1):    \n",
    "    print(f\"List item {idx} : {item}\")"
   ]
  },
  {
   "cell_type": "code",
   "execution_count": 33,
   "id": "f17e50d8-c0f3-4dd4-b1a8-4bdf8c90d314",
   "metadata": {},
   "outputs": [],
   "source": [
    "#image sourcing"
   ]
  },
  {
   "cell_type": "code",
   "execution_count": 34,
   "id": "9b16edba-2dd9-4342-b5e3-14eb1fbdb600",
   "metadata": {},
   "outputs": [],
   "source": [
    "from bs4 import BeautifulSoup\n",
    "import requests"
   ]
  },
  {
   "cell_type": "code",
   "execution_count": 35,
   "id": "9df0f982-b405-40e5-96cd-ea000318ebe9",
   "metadata": {},
   "outputs": [],
   "source": [
    "url = \"https://books.toscrape.com/catalogue/sharp-objects_997/index.html\""
   ]
  },
  {
   "cell_type": "code",
   "execution_count": 36,
   "id": "89456ef7-e255-4322-923e-2c1caea62cd1",
   "metadata": {},
   "outputs": [],
   "source": [
    "response = requests.get(url)\n",
    "soup = BeautifulSoup(response.content,'html.parser')"
   ]
  },
  {
   "cell_type": "code",
   "execution_count": 37,
   "id": "88444de9-2aa1-40a1-9834-e759e4e43c2e",
   "metadata": {},
   "outputs": [
    {
     "name": "stdout",
     "output_type": "stream",
     "text": [
      "List item 1 : <img alt=\"Sharp Objects\" src=\"../../media/cache/c0/59/c05972805aa7201171b8fc71a5b00292.jpg\"/>\n",
      "List item 2 : <img alt=\"Soumission\" class=\"thumbnail\" src=\"../../media/cache/3e/ef/3eef99c9d9adef34639f510662022830.jpg\"/>\n",
      "List item 3 : <img alt=\"Tipping the Velvet\" class=\"thumbnail\" src=\"../../media/cache/26/0c/260c6ae16bce31c8f8c95daddd9f4a1c.jpg\"/>\n",
      "List item 4 : <img alt=\"A Light in the Attic\" class=\"thumbnail\" src=\"../../media/cache/2c/da/2cdad67c44b002e7ead0cc35693c0e8b.jpg\"/>\n"
     ]
    }
   ],
   "source": [
    "list_items = soup.find_all('img')\n",
    "for idx, item in enumerate(list_items, start=1):    \n",
    "    print(f\"List item {idx} : {item}\")"
   ]
  },
  {
   "cell_type": "code",
   "execution_count": 38,
   "id": "78d7f1d8-cfb5-43cc-be02-992fdb30620a",
   "metadata": {},
   "outputs": [],
   "source": [
    "#metadata scraping"
   ]
  },
  {
   "cell_type": "code",
   "execution_count": 39,
   "id": "bda6dda6-2efe-447b-a12e-aaedd3b06b68",
   "metadata": {},
   "outputs": [],
   "source": [
    "from bs4 import BeautifulSoup\n",
    "import requests"
   ]
  },
  {
   "cell_type": "code",
   "execution_count": 40,
   "id": "414e3cc0-a88e-4783-9555-c346c2d6304b",
   "metadata": {},
   "outputs": [],
   "source": [
    "url = \"https://books.toscrape.com/catalogue/sharp-objects_997/index.html\""
   ]
  },
  {
   "cell_type": "code",
   "execution_count": 41,
   "id": "e752ea1f-d49d-49a7-bfa0-6d8d57d0a0b0",
   "metadata": {},
   "outputs": [],
   "source": [
    "response = requests.get(url)\n",
    "soup = BeautifulSoup(response.content,'html.parser')"
   ]
  },
  {
   "cell_type": "code",
   "execution_count": 42,
   "id": "7e2165c5-31b4-4dce-8a61-2785de700780",
   "metadata": {},
   "outputs": [
    {
     "name": "stdout",
     "output_type": "stream",
     "text": [
      "List item 1 : <meta content=\"text/html; charset=utf-8\" http-equiv=\"content-type\"/>\n",
      "List item 2 : <meta content=\"24th Jun 2016 09:29\" name=\"created\"/>\n",
      "List item 3 : <meta content=\"\n",
      "    WICKED above her hipbone, GIRL across her heart Words are like a road map to reporter Camille Preaker’s troubled past. Fresh from a brief stay at a psych hospital, Camille’s first assignment from the second-rate daily paper where she works brings her reluctantly back to her hometown to cover the murders of two preteen girls. NASTY on her kneecap, BABYDOLL on her leg Since WICKED above her hipbone, GIRL across her heart Words are like a road map to reporter Camille Preaker’s troubled past. Fresh from a brief stay at a psych hospital, Camille’s first assignment from the second-rate daily paper where she works brings her reluctantly back to her hometown to cover the murders of two preteen girls. NASTY on her kneecap, BABYDOLL on her leg Since she left town eight years ago, Camille has hardly spoken to her neurotic, hypochondriac mother or to the half-sister she barely knows: a beautiful thirteen-year-old with an eerie grip on the town. Now, installed again in her family’s Victorian mansion, Camille is haunted by the childhood tragedy she has spent her whole life trying to cut from her memory. HARMFUL on her wrist, WHORE on her ankle As Camille works to uncover the truth about these violent crimes, she finds herself identifying with the young victims—a bit too strongly. Clues keep leading to dead ends, forcing Camille to unravel the psychological puzzle of her own past to get at the story. Dogged by her own demons, Camille will have to confront what happened to her years before if she wants to survive this homecoming.With its taut, crafted writing, Sharp Objects is addictive, haunting, and unforgettable. ...more\n",
      "\" name=\"description\"/>\n",
      "List item 4 : <meta content=\"width=device-width\" name=\"viewport\"/>\n",
      "List item 5 : <meta content=\"NOARCHIVE,NOCACHE\" name=\"robots\"/>\n"
     ]
    }
   ],
   "source": [
    "list_items = soup.find_all('meta')\n",
    "for idx, item in enumerate(list_items, start=1):    \n",
    "    print(f\"List item {idx} : {item}\")"
   ]
  },
  {
   "cell_type": "code",
   "execution_count": 43,
   "id": "22c73d1c-871e-47b4-ad34-638207445ecd",
   "metadata": {},
   "outputs": [],
   "source": [
    "#Webpage table contents"
   ]
  },
  {
   "cell_type": "code",
   "execution_count": 44,
   "id": "5d4ccd8b-7ffd-4fda-b7cf-276a99f1fedd",
   "metadata": {},
   "outputs": [],
   "source": [
    "from bs4 import BeautifulSoup\n",
    "import requests"
   ]
  },
  {
   "cell_type": "code",
   "execution_count": 45,
   "id": "8d5deaf5-8da6-4836-94c4-333fb1b99245",
   "metadata": {},
   "outputs": [],
   "source": [
    "url = \"https://books.toscrape.com/catalogue/sharp-objects_997/index.html\""
   ]
  },
  {
   "cell_type": "code",
   "execution_count": 46,
   "id": "e0f9e29b-70d7-409c-96ff-ca8713238d88",
   "metadata": {},
   "outputs": [],
   "source": [
    "response = requests.get(url)\n",
    "soup = BeautifulSoup(response.content,'html.parser')"
   ]
  },
  {
   "cell_type": "code",
   "execution_count": 47,
   "id": "76dd5529-e5e3-476d-89f4-4c9f45f6e0ca",
   "metadata": {},
   "outputs": [
    {
     "name": "stdout",
     "output_type": "stream",
     "text": [
      "List item 1 : <table class=\"table table-striped\">\n",
      "<tr>\n",
      "<th>UPC</th><td>e00eb4fd7b871a48</td>\n",
      "</tr>\n",
      "<tr>\n",
      "<th>Product Type</th><td>Books</td>\n",
      "</tr>\n",
      "<tr>\n",
      "<th>Price (excl. tax)</th><td>£47.82</td>\n",
      "</tr>\n",
      "<tr>\n",
      "<th>Price (incl. tax)</th><td>£47.82</td>\n",
      "</tr>\n",
      "<tr>\n",
      "<th>Tax</th><td>£0.00</td>\n",
      "</tr>\n",
      "<tr>\n",
      "<th>Availability</th>\n",
      "<td>In stock (20 available)</td>\n",
      "</tr>\n",
      "<tr>\n",
      "<th>Number of reviews</th>\n",
      "<td>0</td>\n",
      "</tr>\n",
      "</table>\n"
     ]
    }
   ],
   "source": [
    "list_items = soup.find_all('table')\n",
    "for idx, item in enumerate(list_items, start=1):    \n",
    "    print(f\"List item {idx} : {item}\")"
   ]
  },
  {
   "cell_type": "code",
   "execution_count": 51,
   "id": "a602ae95-fc4e-409b-9f3b-0bec8dc9523f",
   "metadata": {},
   "outputs": [],
   "source": [
    "from bs4 import BeautifulSoup\n",
    "import requests"
   ]
  },
  {
   "cell_type": "code",
   "execution_count": 52,
   "id": "64ea73b2-fb5a-4843-938b-4ff0623992e7",
   "metadata": {},
   "outputs": [],
   "source": [
    "url = \"https://books.toscrape.com/catalogue/sharp-objects_997/index.html\""
   ]
  },
  {
   "cell_type": "code",
   "execution_count": 53,
   "id": "98c14143-fb73-4ffb-ad5a-0e7f5dc3764e",
   "metadata": {},
   "outputs": [],
   "source": [
    "response = requests.get(url)\n",
    "soup = BeautifulSoup(response.content,'html.parser')"
   ]
  },
  {
   "cell_type": "code",
   "execution_count": 56,
   "id": "2559c512-fdb7-4ad2-a15e-9e18d785a825",
   "metadata": {},
   "outputs": [],
   "source": [
    "#There is no span tags present in the url\n",
    "list_items = soup.find_all('span')\n",
    "for idx, item in enumerate(list_items, start=1):    \n",
    "    print(f\"List item {idx} : {item}\")"
   ]
  },
  {
   "cell_type": "code",
   "execution_count": null,
   "id": "8b30d8c2-5144-48c8-b82a-38f21af50c1f",
   "metadata": {},
   "outputs": [],
   "source": []
  },
  {
   "cell_type": "code",
   "execution_count": null,
   "id": "a7c9f290-7db3-4d5f-805b-441a7c74366d",
   "metadata": {},
   "outputs": [],
   "source": [
    "#Class and ID-Based Selection"
   ]
  },
  {
   "cell_type": "code",
   "execution_count": 58,
   "id": "be5bae92-5890-4f3c-bcd4-8e7423ce0b2a",
   "metadata": {},
   "outputs": [],
   "source": [
    "from bs4 import BeautifulSoup\n",
    "import requests"
   ]
  },
  {
   "cell_type": "code",
   "execution_count": 59,
   "id": "fb7cf501-0610-4069-a181-89ab79f46c6f",
   "metadata": {},
   "outputs": [],
   "source": [
    "url = \"https://books.toscrape.com/catalogue/sharp-objects_997/index.html\""
   ]
  },
  {
   "cell_type": "code",
   "execution_count": 60,
   "id": "0bcd1bfa-1616-477f-a4c9-c2de380fc611",
   "metadata": {},
   "outputs": [],
   "source": [
    "response = requests.get(url)\n",
    "soup = BeautifulSoup(response.content,'html.parser')"
   ]
  },
  {
   "cell_type": "code",
   "execution_count": 61,
   "id": "481e6397-f485-4417-97d6-53bbef978d56",
   "metadata": {},
   "outputs": [],
   "source": [
    "#product_gallery"
   ]
  },
  {
   "cell_type": "code",
   "execution_count": 87,
   "id": "b16fb69f-4d0a-4731-9e98-8ce4ae6662aa",
   "metadata": {},
   "outputs": [],
   "source": [
    "items = soup.find('div' ,class_='col-sm-6 product_main').text"
   ]
  },
  {
   "cell_type": "code",
   "execution_count": 83,
   "id": "aa2f8287-707c-4b4e-a4e2-7e94389b0d3a",
   "metadata": {},
   "outputs": [],
   "source": [
    "#items_id = items.get('id')"
   ]
  },
  {
   "cell_type": "code",
   "execution_count": 85,
   "id": "ac7ddc59-f7d6-4e6f-943e-a6449dad9b60",
   "metadata": {},
   "outputs": [],
   "source": [
    "#items_text = items.text"
   ]
  },
  {
   "cell_type": "code",
   "execution_count": 89,
   "id": "641dc8cb-b2ae-4ce5-9410-6b6e23b9c962",
   "metadata": {},
   "outputs": [],
   "source": [
    "#items_id"
   ]
  },
  {
   "cell_type": "code",
   "execution_count": 90,
   "id": "37ae270c-a744-4bd9-94ce-5ca888896be7",
   "metadata": {},
   "outputs": [],
   "source": [
    "#content_inner > article > div.row > div.col-sm-6.product_main"
   ]
  },
  {
   "cell_type": "code",
   "execution_count": 91,
   "id": "b54fe36a-2858-4bdc-b23f-f010306514d6",
   "metadata": {},
   "outputs": [
    {
     "data": {
      "text/plain": [
       "'\\nSharp Objects\\n£47.82\\n\\n\\n    \\n        In stock (20 available)\\n    \\n\\n\\n\\n\\n\\n\\n\\n\\xa0\\n\\n\\n\\n\\nWarning! This is a demo website for web scraping purposes. Prices and ratings here were randomly assigned and have no real meaning.\\n'"
      ]
     },
     "execution_count": 91,
     "metadata": {},
     "output_type": "execute_result"
    }
   ],
   "source": [
    "items"
   ]
  },
  {
   "cell_type": "code",
   "execution_count": null,
   "id": "0e843fad-4571-41da-8302-48aab38603b9",
   "metadata": {},
   "outputs": [],
   "source": []
  },
  {
   "cell_type": "code",
   "execution_count": null,
   "id": "f7464a46-1a81-47dc-af82-6c89ac532923",
   "metadata": {},
   "outputs": [],
   "source": [
    "#Form Data Extraction"
   ]
  },
  {
   "cell_type": "code",
   "execution_count": null,
   "id": "c624aa74-4ed1-4409-84df-8fdd0aa31261",
   "metadata": {},
   "outputs": [],
   "source": [
    "from bs4 import BeautifulSoup\n",
    "import requests"
   ]
  },
  {
   "cell_type": "code",
   "execution_count": 92,
   "id": "1e25f291-6881-4915-b678-0e72cde10560",
   "metadata": {},
   "outputs": [],
   "source": [
    "url = \"https://books.toscrape.com/catalogue/sharp-objects_997/index.html\""
   ]
  },
  {
   "cell_type": "code",
   "execution_count": 93,
   "id": "e100ed67-869e-4987-8cd1-13f4078925c2",
   "metadata": {},
   "outputs": [],
   "source": [
    "response = requests.get(url)\n",
    "soup = BeautifulSoup(response.content,'html.parser')"
   ]
  },
  {
   "cell_type": "code",
   "execution_count": 97,
   "id": "4558466f-956d-4c25-9f93-1ea5f51eb2ed",
   "metadata": {},
   "outputs": [
    {
     "name": "stdout",
     "output_type": "stream",
     "text": [
      "List item 1 : <button class=\"btn btn-primary btn-block\" data-loading-text=\"Adding...\" type=\"submit\">Add to basket</button>\n",
      "List item 2 : <button class=\"btn btn-primary btn-block\" data-loading-text=\"Adding...\" type=\"submit\">Add to basket</button>\n",
      "List item 3 : <button class=\"btn btn-primary btn-block\" data-loading-text=\"Adding...\" type=\"submit\">Add to basket</button>\n"
     ]
    }
   ],
   "source": [
    "list_items = soup.find_all('button')\n",
    "for idx, item in enumerate(list_items, start=1):    \n",
    "    print(f\"List item {idx} : {item}\")"
   ]
  },
  {
   "cell_type": "code",
   "execution_count": 95,
   "id": "0a2a6282-7214-46da-97d7-e9de37bbd4fd",
   "metadata": {},
   "outputs": [],
   "source": []
  },
  {
   "cell_type": "code",
   "execution_count": 110,
   "id": "cec47595-2a80-44f3-9e3e-cf7b9ca8a2e5",
   "metadata": {},
   "outputs": [],
   "source": [
    "from bs4 import BeautifulSoup\n",
    "import requests"
   ]
  },
  {
   "cell_type": "code",
   "execution_count": 111,
   "id": "a6c461fc-7fdb-4f93-9669-ceb7dac1f99d",
   "metadata": {},
   "outputs": [],
   "source": [
    "url = \"https://books.toscrape.com/catalogue/sharp-objects_997/index.html\""
   ]
  },
  {
   "cell_type": "code",
   "execution_count": 112,
   "id": "49bdfe98-f560-49fd-af5c-634e3cbbc746",
   "metadata": {},
   "outputs": [],
   "source": [
    "response = requests.get(url)\n",
    "soup = BeautifulSoup(response.content,'html.parser')"
   ]
  },
  {
   "cell_type": "code",
   "execution_count": 116,
   "id": "37182a98-b202-4042-afa8-231a8cca5fd9",
   "metadata": {},
   "outputs": [],
   "source": [
    "tags = ['form','input','button']"
   ]
  },
  {
   "cell_type": "code",
   "execution_count": 117,
   "id": "8d268f5c-b7ff-4f4b-b307-d75a898b3fd7",
   "metadata": {},
   "outputs": [
    {
     "name": "stdout",
     "output_type": "stream",
     "text": [
      "List item 1 : <form>\n",
      "<button class=\"btn btn-primary btn-block\" data-loading-text=\"Adding...\" type=\"submit\">Add to basket</button>\n",
      "</form>\n",
      "List item 2 : <form>\n",
      "<button class=\"btn btn-primary btn-block\" data-loading-text=\"Adding...\" type=\"submit\">Add to basket</button>\n",
      "</form>\n",
      "List item 3 : <form>\n",
      "<button class=\"btn btn-primary btn-block\" data-loading-text=\"Adding...\" type=\"submit\">Add to basket</button>\n",
      "</form>\n",
      "List item 1 : <button class=\"btn btn-primary btn-block\" data-loading-text=\"Adding...\" type=\"submit\">Add to basket</button>\n",
      "List item 2 : <button class=\"btn btn-primary btn-block\" data-loading-text=\"Adding...\" type=\"submit\">Add to basket</button>\n",
      "List item 3 : <button class=\"btn btn-primary btn-block\" data-loading-text=\"Adding...\" type=\"submit\">Add to basket</button>\n"
     ]
    }
   ],
   "source": [
    "for item in tags:\n",
    "    list_items = soup.find_all(item)\n",
    "    for idx, item in enumerate(list_items, start=1):    \n",
    "        print(f\"List item {idx} : {item}\")"
   ]
  },
  {
   "cell_type": "code",
   "execution_count": null,
   "id": "f787f659-1858-440b-89c0-1335061c884c",
   "metadata": {},
   "outputs": [],
   "source": []
  },
  {
   "cell_type": "code",
   "execution_count": null,
   "id": "13582358-9f12-440a-a419-49f1120a0111",
   "metadata": {},
   "outputs": [],
   "source": [
    "#12. Scraping JSON Data Embedded in HTML"
   ]
  },
  {
   "cell_type": "code",
   "execution_count": null,
   "id": "33b6f8ec-28d2-46be-ae5e-5718a4adcf90",
   "metadata": {},
   "outputs": [],
   "source": [
    "from bs4 import BeautifulSoup\n",
    "import requests"
   ]
  },
  {
   "cell_type": "code",
   "execution_count": null,
   "id": "775c63ee-9dd5-4c44-9bb6-c785b32d5c14",
   "metadata": {},
   "outputs": [],
   "source": [
    "url = \"https://books.toscrape.com/catalogue/sharp-objects_997/index.html\""
   ]
  },
  {
   "cell_type": "code",
   "execution_count": 102,
   "id": "3fbf7eb6-e662-47f0-bd74-d633ecf047e1",
   "metadata": {},
   "outputs": [],
   "source": [
    "response = requests.get(url)\n",
    "soup = BeautifulSoup(response.content,'html.parser')"
   ]
  },
  {
   "cell_type": "code",
   "execution_count": 103,
   "id": "b7d46f99-f96c-4540-b518-34fea2e046f8",
   "metadata": {},
   "outputs": [
    {
     "name": "stdout",
     "output_type": "stream",
     "text": [
      "List item 1 : <script src=\"http://ajax.googleapis.com/ajax/libs/jquery/1.9.1/jquery.min.js\"></script>\n",
      "List item 2 : <script>window.jQuery || document.write('<script src=\"../../static/oscar/js/jquery/jquery-1.9.1.min.js\"><\\/script>')</script>\n",
      "List item 3 : <script src=\"../../static/oscar/js/bootstrap3/bootstrap.min.js\" type=\"text/javascript\"></script>\n",
      "List item 4 : <script charset=\"utf-8\" src=\"../../static/oscar/js/oscar/ui.js\" type=\"text/javascript\"></script>\n",
      "List item 5 : <script charset=\"utf-8\" src=\"../../static/oscar/js/bootstrap-datetimepicker/bootstrap-datetimepicker.js\" type=\"text/javascript\"></script>\n",
      "List item 6 : <script charset=\"utf-8\" src=\"../../static/oscar/js/bootstrap-datetimepicker/locales/bootstrap-datetimepicker.all.js\" type=\"text/javascript\"></script>\n",
      "List item 7 : <script type=\"text/javascript\">\n",
      "            $(function() {\n",
      "                \n",
      "    \n",
      "    oscar.init();\n",
      "\n",
      "            });\n",
      "        </script>\n"
     ]
    }
   ],
   "source": [
    "list_items = soup.find_all('script')\n",
    "for idx, item in enumerate(list_items, start=1):    \n",
    "    print(f\"List item {idx} : {item}\")"
   ]
  },
  {
   "cell_type": "code",
   "execution_count": null,
   "id": "c0ed2cf5-d83a-4001-9b5f-fb2cbc15b50a",
   "metadata": {},
   "outputs": [],
   "source": []
  },
  {
   "cell_type": "code",
   "execution_count": null,
   "id": "41f21f67-d8da-4207-aa20-26a98c44dbbe",
   "metadata": {},
   "outputs": [],
   "source": []
  },
  {
   "cell_type": "code",
   "execution_count": 119,
   "id": "b4419633-5560-43d5-9647-46e7eb473884",
   "metadata": {},
   "outputs": [],
   "source": [
    "##default > div > div > div.content"
   ]
  },
  {
   "cell_type": "code",
   "execution_count": 121,
   "id": "a4e97d4a-e834-458a-bec3-ce39fbfde69e",
   "metadata": {},
   "outputs": [],
   "source": [
    "from bs4 import BeautifulSoup\n",
    "import requests"
   ]
  },
  {
   "cell_type": "code",
   "execution_count": 122,
   "id": "3aa14280-f06f-44fe-ad8c-1858b7ad627b",
   "metadata": {},
   "outputs": [],
   "source": [
    "url = \"https://books.toscrape.com/catalogue/sharp-objects_997/index.html\""
   ]
  },
  {
   "cell_type": "code",
   "execution_count": 123,
   "id": "411f5d3e-56e1-401d-ac2d-fd2a6f6f0761",
   "metadata": {},
   "outputs": [],
   "source": [
    "response = requests.get(url)\n",
    "soup = BeautifulSoup(response.content,'html.parser')"
   ]
  },
  {
   "cell_type": "code",
   "execution_count": 127,
   "id": "8987f59a-c9e4-4003-a437-50b96a55ff2d",
   "metadata": {},
   "outputs": [],
   "source": [
    "items = soup.find('div', class_='content')"
   ]
  },
  {
   "cell_type": "code",
   "execution_count": 128,
   "id": "084da07b-2544-47a7-b778-588f5645e8a5",
   "metadata": {},
   "outputs": [
    {
     "data": {
      "text/plain": [
       "<div class=\"content\">\n",
       "<div id=\"promotions\">\n",
       "</div>\n",
       "<div id=\"content_inner\">\n",
       "<article class=\"product_page\"><!-- Start of product page -->\n",
       "<div class=\"row\">\n",
       "<div class=\"col-sm-6\">\n",
       "<div class=\"carousel\" id=\"product_gallery\">\n",
       "<div class=\"thumbnail\">\n",
       "<div class=\"carousel-inner\">\n",
       "<div class=\"item active\">\n",
       "<img alt=\"Sharp Objects\" src=\"../../media/cache/c0/59/c05972805aa7201171b8fc71a5b00292.jpg\"/>\n",
       "</div>\n",
       "</div>\n",
       "</div>\n",
       "</div>\n",
       "</div>\n",
       "<div class=\"col-sm-6 product_main\">\n",
       "<h1>Sharp Objects</h1>\n",
       "<p class=\"price_color\">£47.82</p>\n",
       "<p class=\"instock availability\">\n",
       "<i class=\"icon-ok\"></i>\n",
       "    \n",
       "        In stock (20 available)\n",
       "    \n",
       "</p>\n",
       "<p class=\"star-rating Four\">\n",
       "<i class=\"icon-star\"></i>\n",
       "<i class=\"icon-star\"></i>\n",
       "<i class=\"icon-star\"></i>\n",
       "<i class=\"icon-star\"></i>\n",
       "<i class=\"icon-star\"></i>\n",
       "<!-- <small><a href=\"/catalogue/sharp-objects_997/reviews/\">\n",
       "        \n",
       "                \n",
       "                    0 customer reviews\n",
       "                \n",
       "        </a></small>\n",
       "         --> \n",
       "\n",
       "\n",
       "<!-- \n",
       "    <a id=\"write_review\" href=\"/catalogue/sharp-objects_997/reviews/add/#addreview\" class=\"btn btn-success btn-sm\">\n",
       "        Write a review\n",
       "    </a>\n",
       "\n",
       " --></p>\n",
       "<hr/>\n",
       "<div class=\"alert alert-warning\" role=\"alert\"><strong>Warning!</strong> This is a demo website for web scraping purposes. Prices and ratings here were randomly assigned and have no real meaning.</div>\n",
       "</div><!-- /col-sm-6 -->\n",
       "</div><!-- /row -->\n",
       "<div class=\"sub-header\" id=\"product_description\">\n",
       "<h2>Product Description</h2>\n",
       "</div>\n",
       "<p>WICKED above her hipbone, GIRL across her heart Words are like a road map to reporter Camille Preaker’s troubled past. Fresh from a brief stay at a psych hospital, Camille’s first assignment from the second-rate daily paper where she works brings her reluctantly back to her hometown to cover the murders of two preteen girls. NASTY on her kneecap, BABYDOLL on her leg Since WICKED above her hipbone, GIRL across her heart Words are like a road map to reporter Camille Preaker’s troubled past. Fresh from a brief stay at a psych hospital, Camille’s first assignment from the second-rate daily paper where she works brings her reluctantly back to her hometown to cover the murders of two preteen girls. NASTY on her kneecap, BABYDOLL on her leg Since she left town eight years ago, Camille has hardly spoken to her neurotic, hypochondriac mother or to the half-sister she barely knows: a beautiful thirteen-year-old with an eerie grip on the town. Now, installed again in her family’s Victorian mansion, Camille is haunted by the childhood tragedy she has spent her whole life trying to cut from her memory. HARMFUL on her wrist, WHORE on her ankle As Camille works to uncover the truth about these violent crimes, she finds herself identifying with the young victims—a bit too strongly. Clues keep leading to dead ends, forcing Camille to unravel the psychological puzzle of her own past to get at the story. Dogged by her own demons, Camille will have to confront what happened to her years before if she wants to survive this homecoming.With its taut, crafted writing, Sharp Objects is addictive, haunting, and unforgettable. ...more</p>\n",
       "<div class=\"sub-header\">\n",
       "<h2>Product Information</h2>\n",
       "</div>\n",
       "<table class=\"table table-striped\">\n",
       "<tr>\n",
       "<th>UPC</th><td>e00eb4fd7b871a48</td>\n",
       "</tr>\n",
       "<tr>\n",
       "<th>Product Type</th><td>Books</td>\n",
       "</tr>\n",
       "<tr>\n",
       "<th>Price (excl. tax)</th><td>£47.82</td>\n",
       "</tr>\n",
       "<tr>\n",
       "<th>Price (incl. tax)</th><td>£47.82</td>\n",
       "</tr>\n",
       "<tr>\n",
       "<th>Tax</th><td>£0.00</td>\n",
       "</tr>\n",
       "<tr>\n",
       "<th>Availability</th>\n",
       "<td>In stock (20 available)</td>\n",
       "</tr>\n",
       "<tr>\n",
       "<th>Number of reviews</th>\n",
       "<td>0</td>\n",
       "</tr>\n",
       "</table>\n",
       "<section>\n",
       "<div class=\"sub-header\" id=\"reviews\">\n",
       "</div>\n",
       "</section>\n",
       "<div class=\"sub-header\">\n",
       "<h2>Products you recently viewed</h2>\n",
       "</div>\n",
       "<ul class=\"row\">\n",
       "<li class=\"col-xs-6 col-sm-4 col-md-3 col-lg-3\">\n",
       "<article class=\"product_pod\">\n",
       "<div class=\"image_container\">\n",
       "<a href=\"../soumission_998/index.html\"><img alt=\"Soumission\" class=\"thumbnail\" src=\"../../media/cache/3e/ef/3eef99c9d9adef34639f510662022830.jpg\"/></a>\n",
       "</div>\n",
       "<p class=\"star-rating One\">\n",
       "<i class=\"icon-star\"></i>\n",
       "<i class=\"icon-star\"></i>\n",
       "<i class=\"icon-star\"></i>\n",
       "<i class=\"icon-star\"></i>\n",
       "<i class=\"icon-star\"></i>\n",
       "</p>\n",
       "<h3><a href=\"../soumission_998/index.html\" title=\"Soumission\">Soumission</a></h3>\n",
       "<div class=\"product_price\">\n",
       "<p class=\"price_color\">£50.10</p>\n",
       "<p class=\"instock availability\">\n",
       "<i class=\"icon-ok\"></i>\n",
       "    \n",
       "        In stock\n",
       "    \n",
       "</p>\n",
       "<form>\n",
       "<button class=\"btn btn-primary btn-block\" data-loading-text=\"Adding...\" type=\"submit\">Add to basket</button>\n",
       "</form>\n",
       "</div>\n",
       "</article>\n",
       "</li>\n",
       "<li class=\"col-xs-6 col-sm-4 col-md-3 col-lg-3\">\n",
       "<article class=\"product_pod\">\n",
       "<div class=\"image_container\">\n",
       "<a href=\"../tipping-the-velvet_999/index.html\"><img alt=\"Tipping the Velvet\" class=\"thumbnail\" src=\"../../media/cache/26/0c/260c6ae16bce31c8f8c95daddd9f4a1c.jpg\"/></a>\n",
       "</div>\n",
       "<p class=\"star-rating One\">\n",
       "<i class=\"icon-star\"></i>\n",
       "<i class=\"icon-star\"></i>\n",
       "<i class=\"icon-star\"></i>\n",
       "<i class=\"icon-star\"></i>\n",
       "<i class=\"icon-star\"></i>\n",
       "</p>\n",
       "<h3><a href=\"../tipping-the-velvet_999/index.html\" title=\"Tipping the Velvet\">Tipping the Velvet</a></h3>\n",
       "<div class=\"product_price\">\n",
       "<p class=\"price_color\">£53.74</p>\n",
       "<p class=\"instock availability\">\n",
       "<i class=\"icon-ok\"></i>\n",
       "    \n",
       "        In stock\n",
       "    \n",
       "</p>\n",
       "<form>\n",
       "<button class=\"btn btn-primary btn-block\" data-loading-text=\"Adding...\" type=\"submit\">Add to basket</button>\n",
       "</form>\n",
       "</div>\n",
       "</article>\n",
       "</li>\n",
       "<li class=\"col-xs-6 col-sm-4 col-md-3 col-lg-3\">\n",
       "<article class=\"product_pod\">\n",
       "<div class=\"image_container\">\n",
       "<a href=\"../a-light-in-the-attic_1000/index.html\"><img alt=\"A Light in the Attic\" class=\"thumbnail\" src=\"../../media/cache/2c/da/2cdad67c44b002e7ead0cc35693c0e8b.jpg\"/></a>\n",
       "</div>\n",
       "<p class=\"star-rating Three\">\n",
       "<i class=\"icon-star\"></i>\n",
       "<i class=\"icon-star\"></i>\n",
       "<i class=\"icon-star\"></i>\n",
       "<i class=\"icon-star\"></i>\n",
       "<i class=\"icon-star\"></i>\n",
       "</p>\n",
       "<h3><a href=\"../a-light-in-the-attic_1000/index.html\" title=\"A Light in the Attic\">A Light in the ...</a></h3>\n",
       "<div class=\"product_price\">\n",
       "<p class=\"price_color\">£51.77</p>\n",
       "<p class=\"instock availability\">\n",
       "<i class=\"icon-ok\"></i>\n",
       "    \n",
       "        In stock\n",
       "    \n",
       "</p>\n",
       "<form>\n",
       "<button class=\"btn btn-primary btn-block\" data-loading-text=\"Adding...\" type=\"submit\">Add to basket</button>\n",
       "</form>\n",
       "</div>\n",
       "</article>\n",
       "</li>\n",
       "</ul>\n",
       "</article><!-- End of product page -->\n",
       "</div>\n",
       "</div>"
      ]
     },
     "execution_count": 128,
     "metadata": {},
     "output_type": "execute_result"
    }
   ],
   "source": [
    "items"
   ]
  },
  {
   "cell_type": "code",
   "execution_count": null,
   "id": "272db017-79f3-4d4b-887d-dbedd7b3638d",
   "metadata": {},
   "outputs": [],
   "source": []
  },
  {
   "cell_type": "code",
   "execution_count": null,
   "id": "91899f7a-388d-4f24-94fe-2c43a19bd8aa",
   "metadata": {},
   "outputs": [],
   "source": []
  },
  {
   "cell_type": "code",
   "execution_count": null,
   "id": "067946cd-f45f-4e13-8f08-7ab9438c6d38",
   "metadata": {},
   "outputs": [],
   "source": []
  }
 ],
 "metadata": {
  "kernelspec": {
   "display_name": "Python 3 (ipykernel)",
   "language": "python",
   "name": "python3"
  },
  "language_info": {
   "codemirror_mode": {
    "name": "ipython",
    "version": 3
   },
   "file_extension": ".py",
   "mimetype": "text/x-python",
   "name": "python",
   "nbconvert_exporter": "python",
   "pygments_lexer": "ipython3",
   "version": "3.12.7"
  }
 },
 "nbformat": 4,
 "nbformat_minor": 5
}
