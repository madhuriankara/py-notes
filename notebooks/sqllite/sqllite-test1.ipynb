{
 "cells": [
  {
   "cell_type": "code",
   "execution_count": 12,
   "id": "1136defd-c282-4619-ad2d-59670f990aa2",
   "metadata": {},
   "outputs": [],
   "source": [
    "import sqlite3\n",
    "import pandas as pd\n"
   ]
  },
  {
   "cell_type": "code",
   "execution_count": 13,
   "id": "06d84957-70a7-4e94-8f61-c3354887c010",
   "metadata": {},
   "outputs": [],
   "source": [
    "# Load CSV file into a DataFrame\n",
    "df = pd.read_csv('/Users/madhuriankaraboyina/Downloads/student_data.csv')\n"
   ]
  },
  {
   "cell_type": "code",
   "execution_count": 14,
   "id": "cad8a0fe-9c2f-49a7-a1a2-731437b7604c",
   "metadata": {},
   "outputs": [],
   "source": [
    "# Connect to SQLite\n",
    "conn = sqlite3.connect(':memory:')\n"
   ]
  },
  {
   "cell_type": "code",
   "execution_count": 15,
   "id": "a74131d6-782e-4e88-b7c9-8db4b2c3fb96",
   "metadata": {},
   "outputs": [],
   "source": [
    "#conn = sqlite3.connect(\"abc.db\")"
   ]
  },
  {
   "cell_type": "code",
   "execution_count": 16,
   "id": "b7c46421-4018-441f-a25e-94831b2d5928",
   "metadata": {},
   "outputs": [
    {
     "data": {
      "text/plain": [
       "100"
      ]
     },
     "execution_count": 16,
     "metadata": {},
     "output_type": "execute_result"
    }
   ],
   "source": [
    "# Write DataFrame to SQLite\n",
    "df.to_sql('my_table', conn, index=False)\n"
   ]
  },
  {
   "cell_type": "code",
   "execution_count": 17,
   "id": "acd0abae-0e3c-4fd1-a109-525152bf4714",
   "metadata": {},
   "outputs": [
    {
     "name": "stdout",
     "output_type": "stream",
     "text": [
      "   student_id student_name  test_scores  attendance  participation  \\\n",
      "0           1     John Doe           85          90             80   \n",
      "\n",
      "   project_scores  got_job  \n",
      "0              88        1  \n"
     ]
    }
   ],
   "source": [
    "# Perform SQL query\n",
    "result = pd.read_sql_query(\"SELECT * FROM my_table WHERE student_id = 1\", conn)\n",
    "\n",
    "print(result)"
   ]
  },
  {
   "cell_type": "code",
   "execution_count": null,
   "id": "a1d7be14-d49b-4dcc-b891-985007b0c24f",
   "metadata": {},
   "outputs": [],
   "source": []
  }
 ],
 "metadata": {
  "kernelspec": {
   "display_name": "Python 3 (ipykernel)",
   "language": "python",
   "name": "python3"
  },
  "language_info": {
   "codemirror_mode": {
    "name": "ipython",
    "version": 3
   },
   "file_extension": ".py",
   "mimetype": "text/x-python",
   "name": "python",
   "nbconvert_exporter": "python",
   "pygments_lexer": "ipython3",
   "version": "3.12.7"
  }
 },
 "nbformat": 4,
 "nbformat_minor": 5
}
