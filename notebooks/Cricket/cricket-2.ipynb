{
 "cells": [
  {
   "cell_type": "code",
   "execution_count": 1,
   "id": "f26e775d-b584-4c51-8f76-54520e36000f",
   "metadata": {},
   "outputs": [],
   "source": [
    "import random\n",
    "import asyncio"
   ]
  },
  {
   "cell_type": "code",
   "execution_count": 2,
   "id": "4e02cd60-461e-4e59-9f9e-af3fe95dcaac",
   "metadata": {},
   "outputs": [],
   "source": [
    "from langchain.llms import Ollama\n",
    "from langchain.prompts import PromptTemplate\n",
    "from langchain.chains import LLMChain"
   ]
  },
  {
   "cell_type": "code",
   "execution_count": 3,
   "id": "80ec81eb-251a-4e95-95e0-ff92df828cef",
   "metadata": {},
   "outputs": [
    {
     "name": "stderr",
     "output_type": "stream",
     "text": [
      "/var/folders/26/1_zstvd1579g9j700z2jnmp40000gn/T/ipykernel_41177/2325888272.py:2: LangChainDeprecationWarning: The class `Ollama` was deprecated in LangChain 0.3.1 and will be removed in 1.0.0. An updated version of the class exists in the :class:`~langchain-ollama package and should be used instead. To use it run `pip install -U :class:`~langchain-ollama` and import as `from :class:`~langchain_ollama import OllamaLLM``.\n",
      "  llm = Ollama(\n"
     ]
    }
   ],
   "source": [
    "# Initialize the Ollama LLM with the Mistral model\n",
    "llm = Ollama(\n",
    "    model       = \"mistral\",\n",
    "    base_url    = \"http://localhost:11434\"\n",
    ")"
   ]
  },
  {
   "cell_type": "code",
   "execution_count": 4,
   "id": "80689e50-ddbd-48df-9b1b-56985ffe6bff",
   "metadata": {},
   "outputs": [],
   "source": [
    "# Define a prompt template\n",
    "template = \"\"\"\n",
    "You are a Cricket Commentator who makes one line Cricket Commentary. Please provide one line commentary about the given run.\n",
    "It's a plain commentary for a ball, don't add batsman's name.\n",
    "Your commentary should be between 20 to 40 words:\n",
    "\n",
    "{run}\n",
    "\"\"\""
   ]
  },
  {
   "cell_type": "code",
   "execution_count": 5,
   "id": "d14d3034-40f0-4d26-a557-e498029347ee",
   "metadata": {},
   "outputs": [],
   "source": [
    "\n",
    "# Define the prompt template and chain\n",
    "prompt = PromptTemplate(\n",
    "    input_variables=[\"run\"],\n",
    "    template=template,\n",
    ")"
   ]
  },
  {
   "cell_type": "code",
   "execution_count": 6,
   "id": "cbe9dd88-8cd2-4ba1-a9dc-3c5c8687c8d3",
   "metadata": {},
   "outputs": [
    {
     "name": "stderr",
     "output_type": "stream",
     "text": [
      "/var/folders/26/1_zstvd1579g9j700z2jnmp40000gn/T/ipykernel_41177/2298729601.py:2: LangChainDeprecationWarning: The class `LLMChain` was deprecated in LangChain 0.1.17 and will be removed in 1.0. Use :meth:`~RunnableSequence, e.g., `prompt | llm`` instead.\n",
      "  llm_chain = LLMChain(\n"
     ]
    }
   ],
   "source": [
    "# Create the chain for generating commentary\n",
    "llm_chain = LLMChain(\n",
    "    llm=llm,\n",
    "    prompt=prompt\n",
    ")\n"
   ]
  },
  {
   "cell_type": "code",
   "execution_count": 7,
   "id": "86977932-bdfb-4498-8ef7-41ce30ceb72c",
   "metadata": {},
   "outputs": [],
   "source": [
    "# Asynchronous function to simulate the innings and commentary\n",
    "async def first_innings():\n",
    "    over_count = 2\n",
    "    current_over_balls = 6\n",
    "\n",
    "    # Initialize two batsmen (start with batsman 1)\n",
    "    batsmen = [\"Dhoni\", \"Kohli\"]\n",
    "    current_batsman_index = 0  # Start with the first batsman\n",
    "\n",
    "    for current_over in range(over_count):\n",
    "        log_content = f'\\nPlaying: over {current_over + 1}'\n",
    "        yield f\"{log_content}\"\n",
    "\n",
    "        for current_ball in range(current_over_balls):\n",
    "            current_ball += 1\n",
    "\n",
    "            # Get the current batsman\n",
    "            current_batsman = batsmen[current_batsman_index]\n",
    "\n",
    "            total_score = []\n",
    "            \n",
    "            # Generate a random run\n",
    "            c_run = get_random_run()\n",
    "\n",
    "            total_score.append(c_run)\n",
    "            print (f'{total_score}')\n",
    "            \n",
    "\n",
    "            # If the run is odd, switch the batsman\n",
    "            if c_run % 2 != 0:\n",
    "                current_batsman_index = 1 - current_batsman_index  # Toggle between 0 and 1\n",
    "\n",
    "            # Get the magic commentary for the run\n",
    "            magic_commentary = get_magic_commentary(c_run)\n",
    "\n",
    "            # Format the ball commentary\n",
    "            ball_commentary = f'[{current_over + 1}.{current_ball}]: {current_batsman} scored: {c_run}   {magic_commentary}'\n",
    "\n",
    "            # Yield the ball commentary\n",
    "            yield f\"{ball_commentary}\"\n",
    "\n",
    "            # Wait for a short time before the next ball (simulate time delay between balls)\n",
    "            await asyncio.sleep(0.2)\n",
    "\n",
    "        # Wait for a short time before the next over (simulate break between overs)\n",
    "            await asyncio.sleep(0.2)\n",
    "    print(\"The first innings is done\")\n",
    "   \n",
    "\n",
    "\n",
    "\n"
   ]
  },
  {
   "cell_type": "code",
   "execution_count": 8,
   "id": "2b1cd4d8-6c1d-4419-973c-f0ae6c9795bb",
   "metadata": {},
   "outputs": [],
   "source": [
    "async def second_innings():\n",
    "    over_count = 2\n",
    "    current_over_balls = 6\n",
    "\n",
    "    # Initialize two batsmen (start with batsman 1)\n",
    "    batsmen = [\"Ben Stokes\", \"Buttler\"]\n",
    "    current_batsman_index = 0  # Start with the first batsman\n",
    "\n",
    "    for current_over in range(over_count):\n",
    "        log_content = f'\\nPlaying: over {current_over + 1}'\n",
    "        yield f\"{log_content}\"\n",
    "\n",
    "        for current_ball in range(current_over_balls):\n",
    "            current_ball += 1\n",
    "\n",
    "            # Get the current batsman\n",
    "            current_batsman = batsmen[current_batsman_index]\n",
    "\n",
    "            # Generate a random run\n",
    "            c_run = get_random_run()\n",
    "\n",
    "            # If the run is odd, switch the batsman\n",
    "            if c_run % 2 != 0:\n",
    "                current_batsman_index = 1 - current_batsman_index  # Toggle between 0 and 1\n",
    "\n",
    "            # Get the magic commentary for the run\n",
    "            magic_commentary = get_magic_commentary(c_run)\n",
    "\n",
    "            # Format the ball commentary\n",
    "            ball_commentary = f'[{current_over + 1}.{current_ball}]: {current_batsman} scored: {c_run}   {magic_commentary}'\n",
    "\n",
    "            # Yield the ball commentary\n",
    "            yield f\"{ball_commentary}\"\n",
    "\n",
    "            # Wait for a short time before the next ball (simulate time delay between balls)\n",
    "            await asyncio.sleep(0.2)\n",
    "\n",
    "        # Wait for a short time before the next over (simulate break between overs)\n",
    "        await asyncio.sleep(0.2)\n",
    "    print(\"The second innings is done\")  \n",
    "\n",
    "\n",
    "\n"
   ]
  },
  {
   "cell_type": "code",
   "execution_count": 9,
   "id": "16dcb433-098a-4be5-89b5-ea4ef8160219",
   "metadata": {},
   "outputs": [
    {
     "ename": "RuntimeError",
     "evalue": "asyncio.run() cannot be called from a running event loop",
     "output_type": "error",
     "traceback": [
      "\u001b[0;31m---------------------------------------------------------------------------\u001b[0m",
      "\u001b[0;31mRuntimeError\u001b[0m                              Traceback (most recent call last)",
      "Cell \u001b[0;32mIn[9], line 7\u001b[0m\n\u001b[1;32m      4\u001b[0m     \u001b[38;5;28;01masync\u001b[39;00m \u001b[38;5;28;01mfor\u001b[39;00m result \u001b[38;5;129;01min\u001b[39;00m second_innings():\n\u001b[1;32m      5\u001b[0m         \u001b[38;5;28mprint\u001b[39m(result)\n\u001b[0;32m----> 7\u001b[0m \u001b[43masyncio\u001b[49m\u001b[38;5;241;43m.\u001b[39;49m\u001b[43mrun\u001b[49m\u001b[43m(\u001b[49m\u001b[43mmain\u001b[49m\u001b[43m(\u001b[49m\u001b[43m)\u001b[49m\u001b[43m)\u001b[49m\n",
      "File \u001b[0;32m/opt/homebrew/Caskroom/miniconda/base/envs/py312/lib/python3.12/asyncio/runners.py:190\u001b[0m, in \u001b[0;36mrun\u001b[0;34m(main, debug, loop_factory)\u001b[0m\n\u001b[1;32m    161\u001b[0m \u001b[38;5;250m\u001b[39m\u001b[38;5;124;03m\"\"\"Execute the coroutine and return the result.\u001b[39;00m\n\u001b[1;32m    162\u001b[0m \n\u001b[1;32m    163\u001b[0m \u001b[38;5;124;03mThis function runs the passed coroutine, taking care of\u001b[39;00m\n\u001b[0;32m   (...)\u001b[0m\n\u001b[1;32m    186\u001b[0m \u001b[38;5;124;03m    asyncio.run(main())\u001b[39;00m\n\u001b[1;32m    187\u001b[0m \u001b[38;5;124;03m\"\"\"\u001b[39;00m\n\u001b[1;32m    188\u001b[0m \u001b[38;5;28;01mif\u001b[39;00m events\u001b[38;5;241m.\u001b[39m_get_running_loop() \u001b[38;5;129;01mis\u001b[39;00m \u001b[38;5;129;01mnot\u001b[39;00m \u001b[38;5;28;01mNone\u001b[39;00m:\n\u001b[1;32m    189\u001b[0m     \u001b[38;5;66;03m# fail fast with short traceback\u001b[39;00m\n\u001b[0;32m--> 190\u001b[0m     \u001b[38;5;28;01mraise\u001b[39;00m \u001b[38;5;167;01mRuntimeError\u001b[39;00m(\n\u001b[1;32m    191\u001b[0m         \u001b[38;5;124m\"\u001b[39m\u001b[38;5;124masyncio.run() cannot be called from a running event loop\u001b[39m\u001b[38;5;124m\"\u001b[39m)\n\u001b[1;32m    193\u001b[0m \u001b[38;5;28;01mwith\u001b[39;00m Runner(debug\u001b[38;5;241m=\u001b[39mdebug, loop_factory\u001b[38;5;241m=\u001b[39mloop_factory) \u001b[38;5;28;01mas\u001b[39;00m runner:\n\u001b[1;32m    194\u001b[0m     \u001b[38;5;28;01mreturn\u001b[39;00m runner\u001b[38;5;241m.\u001b[39mrun(main)\n",
      "\u001b[0;31mRuntimeError\u001b[0m: asyncio.run() cannot be called from a running event loop"
     ]
    }
   ],
   "source": [
    "async def main():\n",
    "    async for result in first_innings():\n",
    "        print(result)\n",
    "    async for result in second_innings():\n",
    "        print(result)\n",
    "\n",
    "asyncio.run(main())"
   ]
  },
  {
   "cell_type": "code",
   "execution_count": null,
   "id": "97194456-14dc-4fd5-a1e2-3a8f58b25279",
   "metadata": {},
   "outputs": [],
   "source": []
  }
 ],
 "metadata": {
  "kernelspec": {
   "display_name": "Python 3 (ipykernel)",
   "language": "python",
   "name": "python3"
  },
  "language_info": {
   "codemirror_mode": {
    "name": "ipython",
    "version": 3
   },
   "file_extension": ".py",
   "mimetype": "text/x-python",
   "name": "python",
   "nbconvert_exporter": "python",
   "pygments_lexer": "ipython3",
   "version": "3.12.7"
  }
 },
 "nbformat": 4,
 "nbformat_minor": 5
}
