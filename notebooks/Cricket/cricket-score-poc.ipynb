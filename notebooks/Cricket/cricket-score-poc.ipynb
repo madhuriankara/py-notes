{
 "cells": [
  {
   "cell_type": "code",
   "execution_count": 5,
   "id": "ab342168-5e2b-4ae7-82b7-49a3651f861f",
   "metadata": {},
   "outputs": [],
   "source": [
    "import random\n",
    "import time\n",
    "\n",
    "def get_random_number(minimum = 0, maximum = 6):\n",
    "    return random.randint(minimum, maximum)\n"
   ]
  },
  {
   "cell_type": "code",
   "execution_count": 6,
   "id": "5889de9f-31ab-4c02-8e49-516d18c891a2",
   "metadata": {},
   "outputs": [],
   "source": [
    "def get_random_run():\n",
    "    r_run = get_random_number(0, 6)\n",
    "\n",
    "    if r_run == 5:\n",
    "        return 4\n",
    "\n",
    "    return r_run"
   ]
  },
  {
   "cell_type": "code",
   "execution_count": 7,
   "id": "8cc806ea-dc03-44c4-a6c8-22d2a3539790",
   "metadata": {},
   "outputs": [],
   "source": [
    "#First over\n",
    "current_over_balls  = 6\n",
    "\n"
   ]
  },
  {
   "cell_type": "code",
   "execution_count": 8,
   "id": "726bd9a8-d467-4dd6-b238-1587f33e5bf1",
   "metadata": {},
   "outputs": [
    {
     "name": "stdout",
     "output_type": "stream",
     "text": [
      "[1]: Dhoni scored: 1\n",
      "[2]: Dhoni scored: 2\n",
      "[3]: Dhoni scored: 4\n",
      "[4]: Dhoni scored: 4\n",
      "[5]: Dhoni scored: 6\n",
      "[6]: Dhoni scored: 1\n"
     ]
    }
   ],
   "source": [
    "for current_ball in range(current_over_balls):\n",
    "\n",
    "    current_batsman = \"Dhoni\"\n",
    "\n",
    "    c_run = get_random_run()\n",
    "\n",
    "    ball_commentary = f'[{current_ball+1}]: {current_batsman} scored: {c_run}'\n",
    "\n",
    "    print(f\"{ball_commentary}\")\n",
    "    time.sleep(0.2)"
   ]
  },
  {
   "cell_type": "code",
   "execution_count": 9,
   "id": "c36b29cf-c413-4c82-98a6-4dbdf251eecb",
   "metadata": {},
   "outputs": [],
   "source": [
    "current_over_balls  = 6\n",
    "over_count          = 2\n",
    "\n"
   ]
  },
  {
   "cell_type": "code",
   "execution_count": 20,
   "id": "465e1862-4852-4e46-ba65-d916965f66d7",
   "metadata": {},
   "outputs": [
    {
     "name": "stdout",
     "output_type": "stream",
     "text": [
      "[1]: Dhoni scored: 1\n",
      "[2]: Dhoni scored: 3\n",
      "[3]: Dhoni scored: 0\n",
      "[4]: Dhoni scored: 6\n",
      "[5]: Dhoni scored: 0\n",
      "[6]: Dhoni scored: 3\n",
      "1 over is completed\n",
      "[1]: Dhoni scored: 1\n",
      "[2]: Dhoni scored: 2\n",
      "[3]: Dhoni scored: 1\n",
      "[4]: Dhoni scored: 4\n",
      "[5]: Dhoni scored: 2\n",
      "[6]: Dhoni scored: 0\n",
      "2 over is completed\n"
     ]
    }
   ],
   "source": [
    "for current_over in range(over_count):\n",
    "\n",
    "    for current_ball in range(current_over_balls):\n",
    "\n",
    "        current_batsman = \"Dhoni\"\n",
    "\n",
    "        c_run = get_random_run()\n",
    "\n",
    "        ball_commentary = f'[{current_ball+1}]: {current_batsman} scored: {c_run}'\n",
    "        print(f\"{ball_commentary}\")\n",
    "        time.sleep(0.2)\n",
    "    print(f\"{current_over+1} over is completed\")\n",
    "        \n",
    "    "
   ]
  },
  {
   "cell_type": "code",
   "execution_count": 21,
   "id": "57eeac53-0ada-4ee9-96c0-c58bebbf3de7",
   "metadata": {},
   "outputs": [],
   "source": [
    "current_over_balls  = 6\n",
    "over_count          = 2\n",
    "\n"
   ]
  },
  {
   "cell_type": "code",
   "execution_count": 22,
   "id": "40c05477-2e96-4b51-b5ba-c20002ad7a15",
   "metadata": {},
   "outputs": [
    {
     "name": "stdout",
     "output_type": "stream",
     "text": [
      "\n",
      "playing : over 1\n",
      "--------------------\n",
      "\n",
      "[1]: Dhoni scored: 6\n",
      "[2]: Dhoni scored: 3\n",
      "[3]: Dhoni scored: 0\n",
      "[4]: Dhoni scored: 0\n",
      "[5]: Dhoni scored: 4\n",
      "[6]: Dhoni scored: 1\n",
      "\n",
      "playing : over 2\n",
      "--------------------\n",
      "\n",
      "[1]: Dhoni scored: 6\n",
      "[2]: Dhoni scored: 6\n",
      "[3]: Dhoni scored: 4\n",
      "[4]: Dhoni scored: 1\n",
      "[5]: Dhoni scored: 0\n",
      "[6]: Dhoni scored: 1\n"
     ]
    }
   ],
   "source": [
    "for current_over in range(over_count):\n",
    "\n",
    "    print(f'\\nplaying : over {current_over+1}')\n",
    "    print('-'*20)\n",
    "    print('')\n",
    "\n",
    "    for current_ball in range(current_over_balls):\n",
    "\n",
    "        current_batsman = \"Dhoni\"\n",
    "\n",
    "        c_run = get_random_run()\n",
    "        ball_commentary = f'[{current_ball+1}]: {current_batsman} scored: {c_run}'\n",
    "\n",
    "        print(f\"{ball_commentary}\")\n",
    "        time.sleep(0.2)"
   ]
  },
  {
   "cell_type": "code",
   "execution_count": null,
   "id": "aadfc2ea-c0b6-42fc-94cd-039a5b87e606",
   "metadata": {},
   "outputs": [],
   "source": []
  },
  {
   "cell_type": "code",
   "execution_count": null,
   "id": "872359db-7b80-4295-b5e8-36c5f818339b",
   "metadata": {},
   "outputs": [],
   "source": []
  },
  {
   "cell_type": "code",
   "execution_count": null,
   "id": "7529fe7f-7ffc-4d2a-b3d1-2f1706d93122",
   "metadata": {},
   "outputs": [],
   "source": []
  },
  {
   "cell_type": "code",
   "execution_count": 23,
   "id": "4f697d7f-11e9-4521-ab2f-12ee21981cd8",
   "metadata": {},
   "outputs": [],
   "source": [
    "import random\n",
    "import time\n",
    "\n"
   ]
  },
  {
   "cell_type": "code",
   "execution_count": 25,
   "id": "d2605319-ab82-49fe-abb6-5bb3e6048026",
   "metadata": {},
   "outputs": [],
   "source": [
    "def get_random_number(minimum = 0, maximum = 6):\n",
    "    return random.randint(minimum, maximum)\n",
    "\n"
   ]
  },
  {
   "cell_type": "code",
   "execution_count": 26,
   "id": "6169c8de-e9f2-4860-8c22-2b7ea07ad23b",
   "metadata": {},
   "outputs": [],
   "source": [
    "def get_random_run():\n",
    "    r_run = get_random_number(0, 6)\n",
    "\n",
    "    if r_run == 5:\n",
    "        return 4\n",
    "\n",
    "    return r_run\n",
    "\n",
    "\n"
   ]
  },
  {
   "cell_type": "code",
   "execution_count": 27,
   "id": "ea71484e-da48-4a76-b2df-cd235346d305",
   "metadata": {},
   "outputs": [
    {
     "name": "stdout",
     "output_type": "stream",
     "text": [
      "\n",
      "playing : over 1\n",
      "--------------------\n",
      "\n",
      "[0]: Dhoni scored: 2\n",
      "[1]: Dhoni scored: 4\n",
      "[2]: Dhoni scored: 2\n",
      "[3]: Dhoni scored: 3\n",
      "[4]: Dhoni scored: 2\n",
      "[5]: Dhoni scored: 0\n",
      "\n",
      "playing : over 2\n",
      "--------------------\n",
      "\n",
      "[0]: Dhoni scored: 4\n",
      "[1]: Dhoni scored: 4\n",
      "[2]: Dhoni scored: 4\n",
      "[3]: Dhoni scored: 2\n",
      "[4]: Dhoni scored: 6\n",
      "[5]: Dhoni scored: 4\n"
     ]
    }
   ],
   "source": [
    "def play_inninings():\n",
    "\n",
    "    current_over_balls  = 6\n",
    "    over_count          = 2\n",
    "\n",
    "    for current_over in range(over_count):\n",
    "\n",
    "        print(f'\\nplaying : over {current_over+1}')\n",
    "        print('-'*20)\n",
    "        print('')\n",
    "\n",
    "        for current_ball in range(current_over_balls):\n",
    "            current_batsman = \"Dhoni\"\n",
    "\n",
    "            c_run = get_random_run()\n",
    "\n",
    "            ball_commentary = f'[{current_ball}]: {current_batsman} scored: {c_run}'\n",
    "\n",
    "            print(f\"{ball_commentary}\")\n",
    "            time.sleep(0.2)\n",
    "\n",
    "\n",
    "play_inninings()"
   ]
  },
  {
   "cell_type": "code",
   "execution_count": 28,
   "id": "59584b97-1d02-43fb-9928-c8fe03a630c9",
   "metadata": {},
   "outputs": [
    {
     "name": "stdout",
     "output_type": "stream",
     "text": [
      "Name: langchain\n",
      "Version: 0.3.8\n",
      "Summary: Building applications with LLMs through composability\n",
      "Home-page: https://github.com/langchain-ai/langchain\n",
      "Author: \n",
      "Author-email: \n",
      "License: MIT\n",
      "Location: /opt/homebrew/Caskroom/miniconda/base/envs/py312/lib/python3.12/site-packages\n",
      "Requires: aiohttp, langchain-core, langchain-text-splitters, langsmith, numpy, pydantic, PyYAML, requests, SQLAlchemy, tenacity\n",
      "Required-by: langchain-community\n"
     ]
    }
   ],
   "source": [
    "!pip show langchain"
   ]
  },
  {
   "cell_type": "code",
   "execution_count": null,
   "id": "bf922bba-cd92-4320-aa3c-a9003b85c2c4",
   "metadata": {},
   "outputs": [],
   "source": []
  },
  {
   "cell_type": "code",
   "execution_count": null,
   "id": "70af71c8-fa6e-41f2-b0d3-bc2f4df6156c",
   "metadata": {},
   "outputs": [],
   "source": []
  },
  {
   "cell_type": "code",
   "execution_count": 29,
   "id": "29b6d735-57d9-4b43-bd19-13e5e5723403",
   "metadata": {},
   "outputs": [],
   "source": [
    "import random\n",
    "import asyncio\n",
    "\n",
    "from langchain.llms import Ollama\n",
    "from langchain.prompts import PromptTemplate\n",
    "from langchain.chains import LLMChain"
   ]
  },
  {
   "cell_type": "code",
   "execution_count": 30,
   "id": "620231ba-dd40-43f9-8d3d-086b94a66f85",
   "metadata": {},
   "outputs": [
    {
     "name": "stderr",
     "output_type": "stream",
     "text": [
      "/var/folders/26/1_zstvd1579g9j700z2jnmp40000gn/T/ipykernel_21328/1983929500.py:1: LangChainDeprecationWarning: The class `Ollama` was deprecated in LangChain 0.3.1 and will be removed in 1.0.0. An updated version of the class exists in the :class:`~langchain-ollama package and should be used instead. To use it run `pip install -U :class:`~langchain-ollama` and import as `from :class:`~langchain_ollama import OllamaLLM``.\n",
      "  llm = Ollama(\n"
     ]
    }
   ],
   "source": [
    "llm = Ollama(\n",
    "    model       = \"mistral\",\n",
    "    base_url    = \"http://localhost:11434\"\n",
    ")"
   ]
  },
  {
   "cell_type": "code",
   "execution_count": 31,
   "id": "12e4eb77-4069-4248-a894-823ad9b466ac",
   "metadata": {},
   "outputs": [],
   "source": [
    "template = \"\"\"\n",
    "You are a Cricket Commentator who makes one line Criket Commentary. Please provide one line commentary about the given run.\n",
    "Your commentary shoud be between 20 to 40 words:\n",
    "\n",
    "{run}\n",
    "\"\"\""
   ]
  },
  {
   "cell_type": "code",
   "execution_count": 32,
   "id": "1afffc80-d1d3-4f2f-8afa-2bb9329907d4",
   "metadata": {},
   "outputs": [],
   "source": [
    "prompt = PromptTemplate(\n",
    "    input_variables = [\"run\"],\n",
    "    template        = template,\n",
    ")\n"
   ]
  },
  {
   "cell_type": "code",
   "execution_count": 33,
   "id": "4ead4bb3-0d96-4bdb-b952-7d8a11efc8ca",
   "metadata": {},
   "outputs": [
    {
     "name": "stderr",
     "output_type": "stream",
     "text": [
      "/var/folders/26/1_zstvd1579g9j700z2jnmp40000gn/T/ipykernel_21328/1737174222.py:1: LangChainDeprecationWarning: The class `LLMChain` was deprecated in LangChain 0.1.17 and will be removed in 1.0. Use :meth:`~RunnableSequence, e.g., `prompt | llm`` instead.\n",
      "  llm_chain = LLMChain(\n"
     ]
    }
   ],
   "source": [
    "llm_chain = LLMChain(\n",
    "    llm     = llm,\n",
    "    prompt  = prompt\n",
    ")"
   ]
  },
  {
   "cell_type": "code",
   "execution_count": 34,
   "id": "654a6b07-7133-444b-b6e6-3ff8eb6d3f98",
   "metadata": {},
   "outputs": [],
   "source": [
    "def get_magic_commentary(score):\n",
    "    return llm_chain.run(score = score)"
   ]
  },
  {
   "cell_type": "code",
   "execution_count": 35,
   "id": "2363ef8b-3e49-4f69-bbbb-1245fe23db7f",
   "metadata": {},
   "outputs": [],
   "source": [
    "from langchain.llms import Ollama\n",
    "from langchain.prompts import PromptTemplate\n",
    "from langchain.chains import LLMChain\n",
    "\n"
   ]
  },
  {
   "cell_type": "code",
   "execution_count": 64,
   "id": "af69f2d9-f320-4290-9db5-7f0b3e0e5786",
   "metadata": {},
   "outputs": [
    {
     "name": "stdout",
     "output_type": "stream",
     "text": [
      " A towering six over midwicket! Boundary brings momentum swinging back in favor of the batsman.\n"
     ]
    }
   ],
   "source": [
    "# Initialize the Ollama LLM with the Mistral model\n",
    "llm = Ollama(\n",
    "    model       = \"mistral\",\n",
    "    base_url    = \"http://localhost:11434\"\n",
    ")\n",
    "\n",
    "# Define a prompt template\n",
    "template = \"\"\"\n",
    "You are a Cricket Commentator who makes one line Criket Commentary. Please provide one line commentary about the given run.\n",
    "Its a plain commentary for a ball, dont add batsmen name.\n",
    "You commentary shoud be between 20 to 40 words:\n",
    "\n",
    "{run}\n",
    "\"\"\"\n",
    "\n",
    "prompt = PromptTemplate(\n",
    "    input_variables = [\"run\"],\n",
    "    template        = template,\n",
    ")\n",
    "\n",
    "# Create a chain\n",
    "llm_chain = LLMChain(\n",
    "    llm     = llm,\n",
    "    prompt  = prompt\n",
    ")\n",
    "\n",
    "def q(run):\n",
    "    return llm_chain.run(run = run)\n",
    "\n",
    "def get_magic_commentary(run):\n",
    "    return llm_chain.run(run = run)\n",
    "\n",
    "print(get_magic_commentary(6))\n"
   ]
  },
  {
   "cell_type": "code",
   "execution_count": 65,
   "id": "d61fdcf8-8a65-431b-beba-d1dedc730fc7",
   "metadata": {},
   "outputs": [],
   "source": [
    "from langchain.llms import Ollama\n",
    "from langchain.prompts import PromptTemplate\n",
    "from langchain.chains import LLMChain\n",
    "import asyncio\n",
    "\n",
    "\n",
    "async def play_inninings():\n",
    "\n",
    "    over_count          = 2\n",
    "    current_over_balls  = 6\n",
    "\n",
    "    for current_over in range(over_count):\n",
    "\n",
    "        log_content = f'\\nplaying : over {current_over + 1}'\n",
    "        yield f\"{log_content}\"\n",
    "\n",
    "        for current_ball in range(current_over_balls):\n",
    "            current_ball += 1\n",
    "\n",
    "            current_batsman = \"Sachin\"\n",
    "\n",
    "            c_run = get_random_run()\n",
    "\n",
    "            magic_commentary = get_magic_commentary(c_run)\n",
    "            ball_commentary = f'[{current_over}.{current_ball}]: {current_batsman} scored: {c_run}   {magic_commentary}'\n",
    "\n",
    "            yield f\"{ball_commentary}\"\n",
    "            await asyncio.sleep(0.2)\n",
    "\n",
    "        await asyncio.sleep(0.2)\n",
    "\n"
   ]
  },
  {
   "cell_type": "code",
   "execution_count": 66,
   "id": "6227817c-dae1-4bcb-bac0-4d3c3889d776",
   "metadata": {},
   "outputs": [],
   "source": [
    "import nest_asyncio\n",
    "nest_asyncio.apply()"
   ]
  },
  {
   "cell_type": "code",
   "execution_count": 67,
   "id": "df6cfa50-270b-4685-bf65-3dd3d3de6fa8",
   "metadata": {},
   "outputs": [
    {
     "name": "stdout",
     "output_type": "stream",
     "text": [
      "\n",
      "playing : over 1\n",
      "[0.1]: Sachin scored: 3    Three runs, beautifully orchestrated with a delicate touch and accurate placement, reminiscent of an artist painting with precision.\n",
      "[0.2]: Sachin scored: 4    Four! Cleanly dispatched over mid-wicket, no chance for the fielder.\n",
      "[0.3]: Sachin scored: 1    Single converted through delicate wrists, neatly placed for easy pickings.\n",
      "[0.4]: Sachin scored: 4    Four! Cleanly dispatched over the ropes, no chance for the fielders there.\n",
      "[0.5]: Sachin scored: 3    Three runs off a well-timed drive and a swift scamper by the batsmen. Fine execution under pressure.\n",
      "[0.6]: Sachin scored: 0    Dot ball! Batsman looking to break free, but bowler maintains tight lines.\n",
      "\n",
      "playing : over 2\n",
      "[1.1]: Sachin scored: 3    Three runs scampered through a mix-up, no direct hit from the deep.\n",
      "[1.2]: Sachin scored: 3    Three runs scampered through tight fielding as batsman made full use of the gap.\n",
      "[1.3]: Sachin scored: 6    Six! Cleanly dispatched over the ropes as the crowd erupts in delight. Superb shot!\n",
      "[1.4]: Sachin scored: 0    Run missed as the delivery slides past the batsman's attempted drive, narrowly avoiding the stumps.\n",
      "[1.5]: Sachin scored: 3    Three runs scampered through a mix-up, narrowly avoiding an incoming fielder's grab.\n",
      "[1.6]: Sachin scored: 2    Two runs scampered through a mix-up, close call at the non-striker's end.\n"
     ]
    }
   ],
   "source": [
    "async def main():\n",
    "    async for result in play_inninings():\n",
    "        print(result)\n",
    "\n",
    "asyncio.run(main())"
   ]
  },
  {
   "cell_type": "code",
   "execution_count": null,
   "id": "18f6e8b1-fcd0-493a-b237-aff87e304568",
   "metadata": {},
   "outputs": [],
   "source": []
  },
  {
   "cell_type": "code",
   "execution_count": 68,
   "id": "90c70f7d-f744-4dbf-8f0c-0c3282edab7d",
   "metadata": {},
   "outputs": [],
   "source": [
    "#!pip install nest_asyncio"
   ]
  },
  {
   "cell_type": "code",
   "execution_count": 70,
   "id": "201d5bf8-2dd3-4fbc-a941-547c92ad2904",
   "metadata": {},
   "outputs": [
    {
     "name": "stdout",
     "output_type": "stream",
     "text": [
      "\n",
      "playing : over 1\n",
      "[0.1]: Dhoni scored: 4    Four! Beautifully timed, finds the gap between third man and deep backward point.\n",
      "[0.2]: Dhoni scored: 1    Single secured with a well-timed push towards cover, no need for a dash this time.\n",
      "[0.3]: Dhoni scored: 4    Four! Majestic drive finds the boundary, cleanly timed. Great shot!\n",
      "[0.4]: Dhoni scored: 4    A well-timed drive finds the gap as the batsman races to four runs!\n",
      "[0.5]: Dhoni scored: 4    Four! Beautifully dispatched, that's raced away to the boundary!\n",
      "[0.6]: Dhoni scored: 4    Four! Cleanly dispatched over the rope for another boundary. Timing perfect from the batsman.\n",
      "\n",
      "playing : over 2\n",
      "[1.1]: Dhoni scored: 6    Six! Clean hit over long-on, crowd goes wild!\n",
      "[1.2]: Dhoni scored: 4    Four! Boundary off the edges, perfect placement from the batsman.\n",
      "[1.3]: Dhoni scored: 2    Fluent drive, perfectly timed, pair adds another twosome to the tally.\n",
      "[1.4]: Dhoni scored: 6    Six! Powerful hit clears the ropes for another maximum. Spectacular shot!\n",
      "[1.5]: Dhoni scored: 4    Four! Superbly timed drive finds the gap, clean as a whistle.\n",
      "[1.6]: Dhoni scored: 1    Single converted, fielders' concentration wanes under pressure.\n"
     ]
    }
   ],
   "source": [
    "import random\n",
    "import asyncio\n",
    "\n",
    "from langchain.llms import Ollama\n",
    "from langchain.prompts import PromptTemplate\n",
    "from langchain.chains import LLMChain\n",
    "\n",
    "# Initialize the Ollama LLM with the Mistral model\n",
    "llm = Ollama(\n",
    "    model       = \"mistral\",\n",
    "    base_url    = \"http://localhost:11434\"\n",
    ")\n",
    "\n",
    "# Define a prompt template\n",
    "template = \"\"\"\n",
    "You are a Cricket Commentator who makes one line Criket Commentary. Please provide one line commentary about the given run.\n",
    "Its a plain commentary for a ball, dont add batsmen name.\n",
    "You commentary shoud be between 20 to 40 words:\n",
    "\n",
    "{run}\n",
    "\"\"\"\n",
    "\n",
    "prompt = PromptTemplate(\n",
    "    input_variables = [\"run\"],\n",
    "    template        = template,\n",
    ")\n",
    "\n",
    "# Create a chain\n",
    "llm_chain = LLMChain(\n",
    "    llm     = llm,\n",
    "    prompt  = prompt\n",
    ")\n",
    "\n",
    "def q(run):\n",
    "    return llm_chain.run(run = run)\n",
    "\n",
    "def get_magic_commentary(run):\n",
    "    return llm_chain.run(run = run)\n",
    "\n",
    "def get_random_number(minimum = 0, maximum = 6):\n",
    "    return random.randint(minimum, maximum)\n",
    "\n",
    "def get_random_run():\n",
    "    r_run = get_random_number(0, 6)\n",
    "\n",
    "    if r_run == 5:\n",
    "        return 4\n",
    "\n",
    "    return r_run\n",
    "\n",
    "async def play_inninings():\n",
    "\n",
    "    over_count          = 2\n",
    "    current_over_balls  = 6\n",
    "\n",
    "    for current_over in range(over_count):\n",
    "\n",
    "        log_content = f'\\nplaying : over {current_over + 1}'\n",
    "        yield f\"{log_content}\"\n",
    "\n",
    "        for current_ball in range(current_over_balls):\n",
    "            current_ball += 1\n",
    "\n",
    "            current_batsman = \"Dhoni\"\n",
    "\n",
    "            c_run = get_random_run()\n",
    "\n",
    "            magic_commentary = get_magic_commentary(c_run)\n",
    "            ball_commentary = f'[{current_over}.{current_ball}]: {current_batsman} scored: {c_run}   {magic_commentary}'\n",
    "\n",
    "            yield f\"{ball_commentary}\"\n",
    "            await asyncio.sleep(0.2)\n",
    "\n",
    "        await asyncio.sleep(0.2)\n",
    "\n",
    "\n",
    "async def main():\n",
    "    async for result in play_inninings():\n",
    "        print(result)\n",
    "\n",
    "asyncio.run(main())"
   ]
  },
  {
   "cell_type": "code",
   "execution_count": null,
   "id": "3a8f314b-91a3-4c16-a824-b291c838e073",
   "metadata": {},
   "outputs": [],
   "source": []
  },
  {
   "cell_type": "code",
   "execution_count": null,
   "id": "6e5a06a0-1beb-4a4a-a8f4-65eae2bbc31d",
   "metadata": {},
   "outputs": [],
   "source": []
  },
  {
   "cell_type": "code",
   "execution_count": null,
   "id": "5ba47618-2794-46e0-a138-b76edf47f8f5",
   "metadata": {},
   "outputs": [],
   "source": []
  },
  {
   "cell_type": "code",
   "execution_count": null,
   "id": "daa09e19-ed64-4453-8bfd-630a854fd658",
   "metadata": {},
   "outputs": [],
   "source": []
  },
  {
   "cell_type": "code",
   "execution_count": null,
   "id": "472574f8-8ae0-4ec7-82bd-3843baaaa4cd",
   "metadata": {},
   "outputs": [],
   "source": []
  },
  {
   "cell_type": "code",
   "execution_count": null,
   "id": "6a6b5e19-657f-4d1b-a479-dca83aa7b687",
   "metadata": {},
   "outputs": [],
   "source": []
  },
  {
   "cell_type": "code",
   "execution_count": null,
   "id": "3ed7298d-ffde-4540-90df-30009e2555c9",
   "metadata": {},
   "outputs": [],
   "source": []
  },
  {
   "cell_type": "code",
   "execution_count": null,
   "id": "086e832e-6bbb-49ee-9eb6-f3dbe0eaeaa3",
   "metadata": {},
   "outputs": [],
   "source": []
  },
  {
   "cell_type": "code",
   "execution_count": 75,
   "id": "55b66d55-90e6-4993-a26f-74da504e2dce",
   "metadata": {},
   "outputs": [
    {
     "name": "stdout",
     "output_type": "stream",
     "text": [
      "\n",
      "Playing: over 1\n",
      "[1.1]: Dhoni scored: 6    Six! Cleanly dispatched over the ropes for another maximum.\n",
      "[1.2]: Dhoni scored: 3    Three runs scampered through a mix-up as the throw found the striker short of his ground. Tense moments in the outfield!\n",
      "[1.3]: Kohli scored: 3    Three runs scampered through a mix-up, fielder's throw narrowly missing the stumps!\n",
      "[1.4]: Dhoni scored: 6    Six! Cleanly dispatched over the boundary rope, no chance for the fielders. Spectacular strike!\n",
      "[1.5]: Dhoni scored: 1    Single down to long-on, deftly worked by the middle order.\n",
      "[1.6]: Kohli scored: 4    Four! Beautifully timed, finding the gap through point.\n",
      "\n",
      "Playing: over 2\n",
      "[2.1]: Kohli scored: 4    A well-timed drive finds the gap, another boundary for the team.\n",
      "[2.2]: Kohli scored: 4    Four! Seamer strays on the pads, batsman makes room and flicks it fine for four.\n",
      "[2.3]: Kohli scored: 0    Nothing much to write home about, just a dot ball.\n",
      "[2.4]: Kohli scored: 4    Another boundary off the free hit, no need for a second invitation!\n",
      "[2.5]: Kohli scored: 3    Three runs scampered through a mix-up, no-one's bat in sight. Splendid fielding keeps them on their toes.\n",
      "[2.6]: Dhoni scored: 6    Six over deep mid-wicket, cleanly dispatched!\n"
     ]
    }
   ],
   "source": [
    "import random\n",
    "import asyncio\n",
    "\n",
    "from langchain.llms import Ollama\n",
    "from langchain.prompts import PromptTemplate\n",
    "from langchain.chains import LLMChain\n",
    "\n",
    "# Initialize the Ollama LLM with the Mistral model\n",
    "llm = Ollama(\n",
    "    model       = \"mistral\",\n",
    "    base_url    = \"http://localhost:11434\"\n",
    ")\n",
    "\n",
    "# Define a prompt template\n",
    "template = \"\"\"\n",
    "You are a Cricket Commentator who makes one line Cricket Commentary. Please provide one line commentary about the given run.\n",
    "It's a plain commentary for a ball, don't add batsman's name.\n",
    "Your commentary should be between 20 to 40 words:\n",
    "\n",
    "{run}\n",
    "\"\"\"\n",
    "\n",
    "# Define the prompt template and chain\n",
    "prompt = PromptTemplate(\n",
    "    input_variables=[\"run\"],\n",
    "    template=template,\n",
    ")\n",
    "\n",
    "# Create the chain for generating commentary\n",
    "llm_chain = LLMChain(\n",
    "    llm=llm,\n",
    "    prompt=prompt\n",
    ")\n",
    "\n",
    "# Function to get magic commentary for a given run\n",
    "def get_magic_commentary(run):\n",
    "    return llm_chain.run(run=run)\n",
    "\n",
    "# Function to generate a random number (0-6) for the run\n",
    "def get_random_number(minimum=0, maximum=6):\n",
    "    return random.randint(minimum, maximum)\n",
    "\n",
    "# Function to get a random run (with special case for 5)\n",
    "def get_random_run():\n",
    "    r_run = get_random_number(0, 6)\n",
    "    if r_run == 5:\n",
    "        return 4  # Special case for 5; treating it as 4\n",
    "    return r_run\n",
    "\n",
    "# Asynchronous function to simulate the innings and commentary\n",
    "async def play_innings():\n",
    "    over_count = 2\n",
    "    current_over_balls = 6\n",
    "\n",
    "    # Initialize two batsmen (start with batsman 1)\n",
    "    batsmen = [\"Dhoni\", \"Kohli\"]\n",
    "    current_batsman_index = 0  # Start with the first batsman\n",
    "\n",
    "    for current_over in range(over_count):\n",
    "        log_content = f'\\nPlaying: over {current_over + 1}'\n",
    "        yield f\"{log_content}\"\n",
    "\n",
    "        for current_ball in range(current_over_balls):\n",
    "            current_ball += 1\n",
    "\n",
    "            # Get the current batsman\n",
    "            current_batsman = batsmen[current_batsman_index]\n",
    "\n",
    "            # Generate a random run\n",
    "            c_run = get_random_run()\n",
    "\n",
    "            # If the run is odd, switch the batsman\n",
    "            if c_run % 2 != 0:\n",
    "                current_batsman_index = 1 - current_batsman_index  # Toggle between 0 and 1\n",
    "\n",
    "            # Get the magic commentary for the run\n",
    "            magic_commentary = get_magic_commentary(c_run)\n",
    "\n",
    "            # Format the ball commentary\n",
    "            ball_commentary = f'[{current_over + 1}.{current_ball}]: {current_batsman} scored: {c_run}   {magic_commentary}'\n",
    "\n",
    "            # Yield the ball commentary\n",
    "            yield f\"{ball_commentary}\"\n",
    "\n",
    "            # Wait for a short time before the next ball (simulate time delay between balls)\n",
    "            await asyncio.sleep(0.2)\n",
    "\n",
    "        # Wait for a short time before the next over (simulate break between overs)\n",
    "        await asyncio.sleep(0.2)\n",
    "\n",
    "# Main function to run the simulation\n",
    "async def main():\n",
    "    async for result in play_innings():\n",
    "        print(result)\n",
    "\n",
    "# Run the main function asynchronously\n",
    "asyncio.run(main())\n"
   ]
  },
  {
   "cell_type": "code",
   "execution_count": null,
   "id": "75e0d7d3-cf97-47e3-a594-4917b65c1b8b",
   "metadata": {},
   "outputs": [],
   "source": []
  },
  {
   "cell_type": "code",
   "execution_count": null,
   "id": "cd68c40c-9b12-4b69-9735-98a8b820e385",
   "metadata": {},
   "outputs": [],
   "source": []
  },
  {
   "cell_type": "code",
   "execution_count": null,
   "id": "272845a7-045c-4075-b478-7c9a9d7e222f",
   "metadata": {},
   "outputs": [],
   "source": []
  },
  {
   "cell_type": "code",
   "execution_count": 78,
   "id": "0ef8e365-99eb-43f5-aad6-7bf5c9fd92d5",
   "metadata": {},
   "outputs": [],
   "source": [
    "import random\n",
    "import asyncio"
   ]
  },
  {
   "cell_type": "code",
   "execution_count": 79,
   "id": "141668c0-6f29-4e96-a651-e5ed0bcc83f8",
   "metadata": {},
   "outputs": [],
   "source": [
    "from langchain.llms import Ollama\n",
    "from langchain.prompts import PromptTemplate\n",
    "from langchain.chains import LLMChain"
   ]
  },
  {
   "cell_type": "code",
   "execution_count": 80,
   "id": "967e1776-da29-4aff-bfa2-5610b6d2a701",
   "metadata": {},
   "outputs": [],
   "source": [
    "# Initialize the Ollama LLM with the Mistral model\n",
    "llm = Ollama(\n",
    "    model       = \"mistral\",\n",
    "    base_url    = \"http://localhost:11434\"\n",
    ")"
   ]
  },
  {
   "cell_type": "code",
   "execution_count": 81,
   "id": "8c31838a-3aac-4b9e-97fd-aebdeaa65137",
   "metadata": {},
   "outputs": [],
   "source": [
    "# Define a prompt template\n",
    "template = \"\"\"\n",
    "You are a Cricket Commentator who makes one line Cricket Commentary. Please provide one line commentary about the given run.\n",
    "It's a plain commentary for a ball, don't add batsman's name.\n",
    "Your commentary should be between 20 to 40 words:\n",
    "\n",
    "{run}\n",
    "\"\"\""
   ]
  },
  {
   "cell_type": "code",
   "execution_count": 82,
   "id": "a1f422bc-df25-4eb9-99f3-c9a2b4be907d",
   "metadata": {},
   "outputs": [],
   "source": [
    "\n",
    "# Define the prompt template and chain\n",
    "prompt = PromptTemplate(\n",
    "    input_variables=[\"run\"],\n",
    "    template=template,\n",
    ")"
   ]
  },
  {
   "cell_type": "code",
   "execution_count": 83,
   "id": "e49a49f6-7e81-428d-931a-b0ce1c0b8edd",
   "metadata": {},
   "outputs": [],
   "source": [
    "# Create the chain for generating commentary\n",
    "llm_chain = LLMChain(\n",
    "    llm=llm,\n",
    "    prompt=prompt\n",
    ")\n",
    "\n"
   ]
  },
  {
   "cell_type": "code",
   "execution_count": 98,
   "id": "781270b6-1839-458b-8409-0a62af04165d",
   "metadata": {},
   "outputs": [],
   "source": [
    "# Asynchronous function to simulate the innings and commentary\n",
    "async def first_innings():\n",
    "    over_count = 2\n",
    "    current_over_balls = 6\n",
    "\n",
    "    # Initialize two batsmen (start with batsman 1)\n",
    "    batsmen = [\"Dhoni\", \"Kohli\"]\n",
    "    current_batsman_index = 0  # Start with the first batsman\n",
    "\n",
    "    for current_over in range(over_count):\n",
    "        log_content = f'\\nPlaying: over {current_over + 1}'\n",
    "        yield f\"{log_content}\"\n",
    "\n",
    "        for current_ball in range(current_over_balls):\n",
    "            current_ball += 1\n",
    "\n",
    "            # Get the current batsman\n",
    "            current_batsman = batsmen[current_batsman_index]\n",
    "\n",
    "            # Generate a random run\n",
    "            c_run = get_random_run()\n",
    "\n",
    "            # If the run is odd, switch the batsman\n",
    "            if c_run % 2 != 0:\n",
    "                current_batsman_index = 1 - current_batsman_index  # Toggle between 0 and 1\n",
    "\n",
    "            # Get the magic commentary for the run\n",
    "            magic_commentary = get_magic_commentary(c_run)\n",
    "\n",
    "            # Format the ball commentary\n",
    "            ball_commentary = f'[{current_over + 1}.{current_ball}]: {current_batsman} scored: {c_run}   {magic_commentary}'\n",
    "\n",
    "            # Yield the ball commentary\n",
    "            yield f\"{ball_commentary}\"\n",
    "\n",
    "            # Wait for a short time before the next ball (simulate time delay between balls)\n",
    "            await asyncio.sleep(0.2)\n",
    "\n",
    "        # Wait for a short time before the next over (simulate break between overs)\n",
    "            await asyncio.sleep(0.2)\n",
    "    print(\"The first innings is done\")\n",
    "   \n",
    "\n",
    "\n",
    "\n"
   ]
  },
  {
   "cell_type": "code",
   "execution_count": 101,
   "id": "fadf438b-e744-42ad-b1d7-0a35ba01bd5a",
   "metadata": {},
   "outputs": [],
   "source": [
    "async def second_innings():\n",
    "    over_count = 2\n",
    "    current_over_balls = 6\n",
    "\n",
    "    # Initialize two batsmen (start with batsman 1)\n",
    "    batsmen = [\"Ben Stokes\", \"Buttler\"]\n",
    "    current_batsman_index = 0  # Start with the first batsman\n",
    "\n",
    "    for current_over in range(over_count):\n",
    "        log_content = f'\\nPlaying: over {current_over + 1}'\n",
    "        yield f\"{log_content}\"\n",
    "\n",
    "        for current_ball in range(current_over_balls):\n",
    "            current_ball += 1\n",
    "\n",
    "            # Get the current batsman\n",
    "            current_batsman = batsmen[current_batsman_index]\n",
    "\n",
    "            # Generate a random run\n",
    "            c_run = get_random_run()\n",
    "\n",
    "            # If the run is odd, switch the batsman\n",
    "            if c_run % 2 != 0:\n",
    "                current_batsman_index = 1 - current_batsman_index  # Toggle between 0 and 1\n",
    "\n",
    "            # Get the magic commentary for the run\n",
    "            magic_commentary = get_magic_commentary(c_run)\n",
    "\n",
    "            # Format the ball commentary\n",
    "            ball_commentary = f'[{current_over + 1}.{current_ball}]: {current_batsman} scored: {c_run}   {magic_commentary}'\n",
    "\n",
    "            # Yield the ball commentary\n",
    "            yield f\"{ball_commentary}\"\n",
    "\n",
    "            # Wait for a short time before the next ball (simulate time delay between balls)\n",
    "            await asyncio.sleep(0.2)\n",
    "\n",
    "        # Wait for a short time before the next over (simulate break between overs)\n",
    "        await asyncio.sleep(0.2)\n",
    "    print(\"The second innings is done\")  \n",
    "\n",
    "\n",
    "\n"
   ]
  },
  {
   "cell_type": "code",
   "execution_count": 102,
   "id": "d73d72fb-0a3f-4895-874e-138632f911bd",
   "metadata": {},
   "outputs": [
    {
     "name": "stdout",
     "output_type": "stream",
     "text": [
      "\n",
      "Playing: over 1\n",
      "[1.1]: Dhoni scored: 4    A well-timed drive finds the gap as the fielder watches in dismay. Four runs on the card.\n",
      "[1.2]: Dhoni scored: 1    Single down to long-on, neatly executed.\n",
      "[1.3]: Kohli scored: 1    Single down to long-on, clean hit off the middle of the bat.\n",
      "[1.4]: Dhoni scored: 1    Single down to third man, neatly placed by the batsman. Clean hitting on display.\n",
      "[1.5]: Kohli scored: 0    Slippery conditions as another delivery goes straight to the fielder, no runs added.\n",
      "[1.6]: Kohli scored: 1    Single steered past point, easy pickings for the runner at the non-striker's end.\n",
      "\n",
      "Playing: over 2\n",
      "[2.1]: Dhoni scored: 4    Four! Beautifully timed drive finds the boundary ropes. Clean hit!\n",
      "[2.2]: Dhoni scored: 3    Easy pickings for the batsman, straight down the ground.\n",
      "[2.3]: Kohli scored: 4    Four! Cleanly dispatched to the boundary ropes, no need for any extra effort.\n",
      "[2.4]: Kohli scored: 3    Three runs off the over, no boundary hit this time.\n",
      "[2.5]: Dhoni scored: 4    Four! Cleanly dispatched over the ropes, that one. Superb strike!\n",
      "[2.6]: Dhoni scored: 4    Four! Beauty finds its way through the gap, no chance for the fielder there.\n",
      "The first innings is done\n",
      "\n",
      "Playing: over 1\n",
      "[1.1]: Ben Stokes scored: 4    Four! Cleanly struck through the covers, races away to the boundary.\n",
      "[1.2]: Ben Stokes scored: 1    Easy pick-up and convert, straightforward running between the wickets.\n",
      "[1.3]: Buttler scored: 0    Dot ball! Bowler maintains the pressure on the batsman.\n",
      "[1.4]: Buttler scored: 4    A lofted drive finds the gap, four runs added to the total.\n",
      "[1.5]: Buttler scored: 2    A well-timed drive finds the gap, two runs added to the tally.\n",
      "[1.6]: Buttler scored: 4    Four! A well-timed boundary off the back foot, the fielder in the deep has no chance.\n",
      "\n",
      "Playing: over 2\n",
      "[2.1]: Buttler scored: 1    Single converts into a quick two as fielder misses the throw at the non-striker's end. Exciting stuff!\n",
      "[2.2]: Ben Stokes scored: 6    Six! Brilliantly dispatched over the ropes, that one. Clean hitting on show!\n",
      "[2.3]: Ben Stokes scored: 6    Six! Clean hit over mid-wicket, no chance for the fielder.\n",
      "[2.4]: Ben Stokes scored: 0    A dot ball from the pacemaker, maintaining pressure in this tense encounter.\n",
      "[2.5]: Ben Stokes scored: 1    Easy pick-up and deposit; no fuss, just one more to the tally.\n",
      "[2.6]: Buttler scored: 0    A dot ball from Smith, tight bowling maintains pressure.\n",
      "The second innings is done\n"
     ]
    }
   ],
   "source": [
    "# Main function to run the simulation\n",
    "async def main():\n",
    "    async for result in first_innings():\n",
    "        print(result)\n",
    "    async for result in second_innings():\n",
    "        print(result)\n",
    "  \n",
    "\n",
    "# Run the main function asynchronously\n",
    "asyncio.run(main())"
   ]
  },
  {
   "cell_type": "code",
   "execution_count": null,
   "id": "50e329d2-2ec6-4ed1-b6b7-23f781244327",
   "metadata": {},
   "outputs": [],
   "source": []
  }
 ],
 "metadata": {
  "kernelspec": {
   "display_name": "Python 3 (ipykernel)",
   "language": "python",
   "name": "python3"
  },
  "language_info": {
   "codemirror_mode": {
    "name": "ipython",
    "version": 3
   },
   "file_extension": ".py",
   "mimetype": "text/x-python",
   "name": "python",
   "nbconvert_exporter": "python",
   "pygments_lexer": "ipython3",
   "version": "3.12.7"
  }
 },
 "nbformat": 4,
 "nbformat_minor": 5
}
