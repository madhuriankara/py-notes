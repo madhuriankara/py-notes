{
 "cells": [
  {
   "cell_type": "code",
   "execution_count": 100,
   "id": "4cd94f50-84ed-4a93-8845-1df3de43e857",
   "metadata": {},
   "outputs": [],
   "source": [
    "from magicattr import get, set"
   ]
  },
  {
   "cell_type": "code",
   "execution_count": 101,
   "id": "259422ca-dddd-4198-a768-30466604c1bf",
   "metadata": {},
   "outputs": [
    {
     "name": "stdout",
     "output_type": "stream",
     "text": [
      "Requirement already satisfied: magicattr in /opt/homebrew/Caskroom/miniconda/base/envs/py312/lib/python3.12/site-packages (0.1.6)\n"
     ]
    }
   ],
   "source": [
    "!pip install magicattr"
   ]
  },
  {
   "cell_type": "code",
   "execution_count": 102,
   "id": "ada51f8b-c628-4d15-83a5-aed0812b1b87",
   "metadata": {},
   "outputs": [],
   "source": [
    "class Address:\n",
    "    def __init__(self, city, country):\n",
    "        self.city = city\n",
    "        self.country = country"
   ]
  },
  {
   "cell_type": "code",
   "execution_count": 94,
   "id": "bf810442-267f-40fc-953d-379128b74634",
   "metadata": {},
   "outputs": [],
   "source": [
    "class User:\n",
    "    def __init__(self, name, age, address):\n",
    "        self.name = name\n",
    "        self.age = age\n",
    "        self.address = address"
   ]
  },
  {
   "cell_type": "code",
   "execution_count": 95,
   "id": "f90140d3-0c82-4bfa-9e53-7fe3959e770f",
   "metadata": {},
   "outputs": [],
   "source": [
    "address = Address(\"New York\", \"USA\")\n",
    "user = User(\"Alice\", 30, address)\n"
   ]
  },
  {
   "cell_type": "code",
   "execution_count": 96,
   "id": "3bd390d7-a54e-4427-965f-048125bd7090",
   "metadata": {},
   "outputs": [],
   "source": [
    "user_city = get(user, \"address.city\")\n",
    "user_country = get(user, \"address.country\")"
   ]
  },
  {
   "cell_type": "code",
   "execution_count": 97,
   "id": "12b8a924-ac29-47e6-aaf9-692ef7f718bb",
   "metadata": {},
   "outputs": [
    {
     "name": "stdout",
     "output_type": "stream",
     "text": [
      "User's city: New York\n",
      "User's country: USA\n"
     ]
    }
   ],
   "source": [
    "print(f\"User's city: {user_city}\")  \n",
    "print(f\"User's country: {user_country}\") \n"
   ]
  },
  {
   "cell_type": "code",
   "execution_count": 98,
   "id": "94ea6870-3006-4aaf-9aec-b0e3455c6c9a",
   "metadata": {},
   "outputs": [],
   "source": [
    "set(user, \"address.city\", \"Los Angeles\")\n",
    "set(user, \"address.country\", \"Canada\")"
   ]
  },
  {
   "cell_type": "code",
   "execution_count": 99,
   "id": "d34d5d9a-3ab4-402c-a65a-8df087440b4a",
   "metadata": {},
   "outputs": [
    {
     "name": "stdout",
     "output_type": "stream",
     "text": [
      "Updated city: Los Angeles\n",
      "Updated country: Canada\n"
     ]
    }
   ],
   "source": [
    "print(f\"Updated city: {user.address.city}\") \n",
    "print(f\"Updated country: {user.address.country}\") "
   ]
  },
  {
   "cell_type": "code",
   "execution_count": null,
   "id": "005bace3-920c-47fc-a273-b3255d66106c",
   "metadata": {},
   "outputs": [],
   "source": []
  },
  {
   "cell_type": "code",
   "execution_count": null,
   "id": "9a49a5c7-63f0-445a-b1b8-0eecfd828c36",
   "metadata": {},
   "outputs": [],
   "source": []
  }
 ],
 "metadata": {
  "kernelspec": {
   "display_name": "Python 3 (ipykernel)",
   "language": "python",
   "name": "python3"
  },
  "language_info": {
   "codemirror_mode": {
    "name": "ipython",
    "version": 3
   },
   "file_extension": ".py",
   "mimetype": "text/x-python",
   "name": "python",
   "nbconvert_exporter": "python",
   "pygments_lexer": "ipython3",
   "version": "3.12.7"
  }
 },
 "nbformat": 4,
 "nbformat_minor": 5
}
