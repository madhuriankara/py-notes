{
 "cells": [
  {
   "cell_type": "code",
   "execution_count": 1,
   "id": "3fbdf9a6-aca6-48da-ad9b-bc06efb37c3e",
   "metadata": {},
   "outputs": [],
   "source": [
    "import re"
   ]
  },
  {
   "cell_type": "code",
   "execution_count": 7,
   "id": "587167f5-d1ea-4892-acfc-3b24236d2458",
   "metadata": {},
   "outputs": [],
   "source": [
    "text = \"My email addresses are madhuri@gmail.com, ankaraboyina@yahoo.com, and keerthi@hotmail.com.\"\n"
   ]
  },
  {
   "cell_type": "code",
   "execution_count": 8,
   "id": "87b3fef7-ab48-4666-85df-ae1affe30fd8",
   "metadata": {},
   "outputs": [],
   "source": [
    "email_pattern = r\"[a-zA-Z0-9._%+-]+@[a-zA-Z0-9.-]+\\.[a-zA-Z]{2,}\""
   ]
  },
  {
   "cell_type": "code",
   "execution_count": 9,
   "id": "4c50801a-9b64-4725-9bda-1e11709fc7c1",
   "metadata": {},
   "outputs": [
    {
     "name": "stdout",
     "output_type": "stream",
     "text": [
      "Found email addresses: ['madhuri@gmail.com', 'ankaraboyina@yahoo.com', 'keerthi@hotmail.com']\n"
     ]
    }
   ],
   "source": [
    "emails = re.findall(email_pattern, text)\n",
    "print(\"Found email addresses:\", emails)\n"
   ]
  },
  {
   "cell_type": "code",
   "execution_count": 10,
   "id": "f80d904e-8e33-4c75-9b95-adc773195cc4",
   "metadata": {},
   "outputs": [
    {
     "name": "stdout",
     "output_type": "stream",
     "text": [
      "\n",
      "Text with replaced email addresses: My email addresses are [email protected], [email protected], and [email protected].\n"
     ]
    }
   ],
   "source": [
    "text_with_placeholder = re.sub(email_pattern, \"[email protected]\", text)\n",
    "print(\"\\nText with replaced email addresses:\", text_with_placeholder)\n"
   ]
  },
  {
   "cell_type": "code",
   "execution_count": 11,
   "id": "594002a5-a5e1-48ba-9993-97343a0421a9",
   "metadata": {},
   "outputs": [
    {
     "name": "stdout",
     "output_type": "stream",
     "text": [
      "\n",
      "Valid email address found: madhuri@gmail.com\n"
     ]
    }
   ],
   "source": [
    "email_check = re.search(email_pattern, text)\n",
    "if email_check:\n",
    "    print(\"\\nValid email address found:\", email_check.group())\n",
    "else:\n",
    "    print(\"\\nNo valid email address found.\")"
   ]
  },
  {
   "cell_type": "code",
   "execution_count": null,
   "id": "8a728911-27d3-4129-b35b-bf3a0962fcbe",
   "metadata": {},
   "outputs": [],
   "source": []
  }
 ],
 "metadata": {
  "kernelspec": {
   "display_name": "Python 3 (ipykernel)",
   "language": "python",
   "name": "python3"
  },
  "language_info": {
   "codemirror_mode": {
    "name": "ipython",
    "version": 3
   },
   "file_extension": ".py",
   "mimetype": "text/x-python",
   "name": "python",
   "nbconvert_exporter": "python",
   "pygments_lexer": "ipython3",
   "version": "3.12.7"
  }
 },
 "nbformat": 4,
 "nbformat_minor": 5
}
