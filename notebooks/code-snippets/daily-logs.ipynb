{
 "cells": [
  {
   "cell_type": "code",
   "execution_count": 1,
   "id": "594a1a68-224f-4394-980a-5fcec50399dd",
   "metadata": {},
   "outputs": [],
   "source": [
    "import datetime\n",
    "from datetime import datetime,timedelta\n",
    "import os.path\n",
    "from os import path"
   ]
  },
  {
   "cell_type": "code",
   "execution_count": 13,
   "id": "b686cb20-ba50-46c9-95c6-5c9f227f6663",
   "metadata": {},
   "outputs": [],
   "source": [
    "def file_exists(fn):\n",
    "    file_valid = open(fn, \"a\")\n",
    "    # print (\"Name of the file: \", file_valid.name)\n",
    "    # print (\"Closed or not : \", file_valid.closed)\n",
    "    # print (\"Opening mode : \", file_valid.mode)\n",
    "    # print(\"Current cursor position is : \" + str(file_valid.tell()))\n",
    "    if (file_valid.tell() == 0):\n",
    "        print(\"Empty file\")\n",
    "    else:\n",
    "        print(\"Appending existing file\")\n",
    "    file_valid.close()"
   ]
  },
  {
   "cell_type": "code",
   "execution_count": null,
   "id": "1cc265ec-fbbd-49f2-8979-fbeccdbb3db0",
   "metadata": {},
   "outputs": [],
   "source": []
  },
  {
   "cell_type": "code",
   "execution_count": 15,
   "id": "980d4c4a-ad02-4154-9ebf-a0d32e748336",
   "metadata": {},
   "outputs": [
    {
     "name": "stdin",
     "output_type": "stream",
     "text": [
      "Enter total_days for log :  2\n",
      "Enter start date for log (i.e. 2017,7,15):  2024 ,11, 22\n",
      "Enter Log file name :  Logs-daily\n"
     ]
    },
    {
     "name": "stdout",
     "output_type": "stream",
     "text": [
      "Creating / Updating log data in Logs-daily starting Nov 22, 2024 - Friday for 2 days \n",
      "Empty file\n"
     ]
    }
   ],
   "source": [
    "def log_write(fname):\n",
    "    file_exists(fname)\n",
    "    fo = open(fname, \"a\")\n",
    "    for i in range(0,total_days,1):\n",
    "        new_date = start_date + timedelta(days=i)\n",
    "        var_date = new_date.strftime('%b %d, %Y - %A')\n",
    "        header_string_text = ('Day # ' + str(i+1) + \" / \" + str(total_days) + ' - ' + var_date + ' (' + str(total_days - i-1) + \" days remaining) \")\n",
    "        header_string=\"\\n\"+\"-\"*len(header_string_text)+\"\\n\"+header_string_text\n",
    "        header_string=header_string+\"\\n\"+\"-\"*len(header_string_text)+\"\\n\\n\"\n",
    "        # print(header_string)\n",
    "        fo.write(header_string)\n",
    "        \n",
    "total_days = int(input(\"Enter total_days for log : \"))\n",
    "input_date = input(\"Enter start date for log (i.e. 2017,7,15): \")\n",
    "file_name = str(input(\"Enter Log file name : \"))\n",
    "year, month, day = map(int, input_date.split(','))\n",
    "start_date = datetime(year, month, day)\n",
    "print(\"Creating / Updating log data in \" +  file_name + \" starting \" + str(start_date.strftime('%b %d, %Y - %A')) + \" for \" + str(total_days) + \" days \" )\n",
    "log_write(file_name)   "
   ]
  },
  {
   "cell_type": "code",
   "execution_count": null,
   "id": "2698091f-1b69-4583-93da-c1ac5264b037",
   "metadata": {},
   "outputs": [],
   "source": []
  }
 ],
 "metadata": {
  "kernelspec": {
   "display_name": "Python 3 (ipykernel)",
   "language": "python",
   "name": "python3"
  },
  "language_info": {
   "codemirror_mode": {
    "name": "ipython",
    "version": 3
   },
   "file_extension": ".py",
   "mimetype": "text/x-python",
   "name": "python",
   "nbconvert_exporter": "python",
   "pygments_lexer": "ipython3",
   "version": "3.12.7"
  }
 },
 "nbformat": 4,
 "nbformat_minor": 5
}
