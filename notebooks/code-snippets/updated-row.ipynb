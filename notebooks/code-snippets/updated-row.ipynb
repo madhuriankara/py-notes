{
 "cells": [
  {
   "cell_type": "code",
   "execution_count": 1,
   "id": "ae26424d-be3f-4642-8006-7cd7401e5099",
   "metadata": {},
   "outputs": [],
   "source": [
    "from pypika import Query, Table, functions as fn\n",
    "import sqlite3  # Use your preferred database connector (e.g., psycopg2 for PostgreSQL)\n",
    "\n",
    "# Define the table\n",
    "users = Table(\"users\")\n",
    "\n",
    "# Build a query to fetch updated rows based on an `updated_at` column\n",
    "last_checked_time = \"2024-11-01 00:00:00\"\n",
    "query = (\n",
    "    Query.from_(users)\n",
    "    .select(users.id, users.name, users.updated_at)\n",
    "    .where(users.updated_at > last_checked_time)\n",
    ")"
   ]
  },
  {
   "cell_type": "code",
   "execution_count": 2,
   "id": "f7cc7d8a-8f71-404e-8cad-75266e9261d0",
   "metadata": {},
   "outputs": [
    {
     "name": "stdout",
     "output_type": "stream",
     "text": [
      "Generated SQL: SELECT \"id\",\"name\",\"updated_at\" FROM \"users\" WHERE \"updated_at\">'2024-11-01 00:00:00'\n",
      "Error: no such table: users\n"
     ]
    }
   ],
   "source": [
    "# Generate the SQL string\n",
    "sql_query = str(query)\n",
    "print(\"Generated SQL:\", sql_query)\n",
    "\n",
    "# Execute the query using SQLite (or adapt to your database)\n",
    "def execute_query(sql):\n",
    "    try:\n",
    "        # Connect to the database\n",
    "        conn = sqlite3.connect(\"example.db\")  # Replace with your database path/connection string\n",
    "        cursor = conn.cursor()\n",
    "\n",
    "        # Execute the query\n",
    "        cursor.execute(sql)\n",
    "        rows = cursor.fetchall()\n",
    "\n",
    "        # Print the results\n",
    "        print(\"Updated rows:\")\n",
    "        for row in rows:\n",
    "            print(row)\n",
    "    except Exception as e:\n",
    "        print(\"Error:\", e)\n",
    "    finally:\n",
    "        # Ensure the connection is closed\n",
    "        conn.close()\n",
    "\n",
    "# Run the function with the generated query\n",
    "execute_query(sql_query)\n"
   ]
  },
  {
   "cell_type": "code",
   "execution_count": null,
   "id": "f7fcb2d5-8f31-403b-863a-616cd784217a",
   "metadata": {},
   "outputs": [],
   "source": []
  }
 ],
 "metadata": {
  "kernelspec": {
   "display_name": "Python 3 (ipykernel)",
   "language": "python",
   "name": "python3"
  },
  "language_info": {
   "codemirror_mode": {
    "name": "ipython",
    "version": 3
   },
   "file_extension": ".py",
   "mimetype": "text/x-python",
   "name": "python",
   "nbconvert_exporter": "python",
   "pygments_lexer": "ipython3",
   "version": "3.12.7"
  }
 },
 "nbformat": 4,
 "nbformat_minor": 5
}
