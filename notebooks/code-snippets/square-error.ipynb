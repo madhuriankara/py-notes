{
 "cells": [
  {
   "cell_type": "code",
   "execution_count": 60,
   "id": "798ed1e4-3379-41ac-9850-27eca4ef6bb3",
   "metadata": {},
   "outputs": [],
   "source": [
    "from sklearn.metrics import mean_squared_error\n",
    "from math import sqrt"
   ]
  },
  {
   "cell_type": "code",
   "execution_count": 61,
   "id": "a28c70b0-2374-4644-95bb-e5e1f50d33d3",
   "metadata": {},
   "outputs": [],
   "source": [
    "def main():\n",
    "    #print(\"inside main method\")\n",
    "    \n",
    "    y_actual = [1, 6, 7]\n",
    "    y_predicted = [1, 6, 8]\n",
    "    \n",
    "    rms = sqrt(mean_squared_error(y_actual, y_predicted))\n",
    "    \n",
    "    print(rms)    "
   ]
  },
  {
   "cell_type": "code",
   "execution_count": 62,
   "id": "83338f69-7140-4b6a-9616-4d23e136dc0c",
   "metadata": {},
   "outputs": [
    {
     "name": "stdout",
     "output_type": "stream",
     "text": [
      "0.5773502691896257\n"
     ]
    }
   ],
   "source": [
    "if __name__ == '__main__':\n",
    "    main()"
   ]
  },
  {
   "cell_type": "code",
   "execution_count": null,
   "id": "a6ff7037-31d3-4eff-bcfa-5a817d912afa",
   "metadata": {},
   "outputs": [],
   "source": []
  },
  {
   "cell_type": "code",
   "execution_count": null,
   "id": "fc2e3cd0-14b8-4b43-a1ab-8ef1b2552b52",
   "metadata": {},
   "outputs": [],
   "source": []
  },
  {
   "cell_type": "code",
   "execution_count": null,
   "id": "5dae820f-cbb8-4eda-9893-2d76729848b1",
   "metadata": {},
   "outputs": [],
   "source": []
  },
  {
   "cell_type": "code",
   "execution_count": null,
   "id": "e7912ba9-9ee3-452b-b41f-adef4436ee63",
   "metadata": {},
   "outputs": [],
   "source": []
  },
  {
   "cell_type": "code",
   "execution_count": null,
   "id": "034fd495-1cb3-4807-984e-1d8dbf09a480",
   "metadata": {},
   "outputs": [],
   "source": []
  },
  {
   "cell_type": "code",
   "execution_count": null,
   "id": "463eecc6-4110-43a3-ac34-0bbfc0ff7ff3",
   "metadata": {},
   "outputs": [],
   "source": []
  },
  {
   "cell_type": "code",
   "execution_count": null,
   "id": "a42e754e-c4c6-44d9-a194-92f7472396e7",
   "metadata": {},
   "outputs": [],
   "source": []
  },
  {
   "cell_type": "code",
   "execution_count": null,
   "id": "ba278104-e6a4-4ad0-8d73-23542200f236",
   "metadata": {},
   "outputs": [],
   "source": []
  }
 ],
 "metadata": {
  "kernelspec": {
   "display_name": "Python 3 (ipykernel)",
   "language": "python",
   "name": "python3"
  },
  "language_info": {
   "codemirror_mode": {
    "name": "ipython",
    "version": 3
   },
   "file_extension": ".py",
   "mimetype": "text/x-python",
   "name": "python",
   "nbconvert_exporter": "python",
   "pygments_lexer": "ipython3",
   "version": "3.12.7"
  }
 },
 "nbformat": 4,
 "nbformat_minor": 5
}
