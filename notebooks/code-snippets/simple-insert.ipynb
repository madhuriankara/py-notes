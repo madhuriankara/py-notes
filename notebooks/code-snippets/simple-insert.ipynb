{
 "cells": [
  {
   "cell_type": "code",
   "execution_count": 13,
   "id": "404d74a2-3fe4-498e-bcb1-4749f9edeb63",
   "metadata": {},
   "outputs": [],
   "source": []
  },
  {
   "cell_type": "code",
   "execution_count": null,
   "id": "9fc361b2-c959-421d-a0a4-5e0fbaf7ae94",
   "metadata": {},
   "outputs": [],
   "source": []
  },
  {
   "cell_type": "code",
   "execution_count": 20,
   "id": "48fa3896-f410-448f-a6f3-9a37efa3e754",
   "metadata": {},
   "outputs": [],
   "source": [
    "from pypika import Query, Table\n",
    "\n"
   ]
  },
  {
   "cell_type": "code",
   "execution_count": 21,
   "id": "c2e0f81a-4c73-4afd-864a-2798dac448fd",
   "metadata": {},
   "outputs": [],
   "source": [
    "# Define the table\n",
    "users = Table('users')\n",
    "\n"
   ]
  },
  {
   "cell_type": "code",
   "execution_count": 22,
   "id": "5bdb13a2-8309-4e52-9700-3add5ddb356e",
   "metadata": {},
   "outputs": [],
   "source": [
    "# Build the INSERT query\n",
    "query = Query.into(users).columns('name', 'age').insert('Alice', 25)\n",
    "\n"
   ]
  },
  {
   "cell_type": "code",
   "execution_count": 23,
   "id": "e9df9e1a-9c2b-435e-b428-e567472cc4f4",
   "metadata": {},
   "outputs": [
    {
     "name": "stdout",
     "output_type": "stream",
     "text": [
      "INSERT INTO \"users\" (\"name\",\"age\") VALUES ('Alice',25)\n"
     ]
    }
   ],
   "source": [
    "# Print the query\n",
    "print(str(query))"
   ]
  },
  {
   "cell_type": "code",
   "execution_count": null,
   "id": "4317b352-f9aa-49fa-8157-dc6fdc16f706",
   "metadata": {},
   "outputs": [],
   "source": []
  }
 ],
 "metadata": {
  "kernelspec": {
   "display_name": "Python 3 (ipykernel)",
   "language": "python",
   "name": "python3"
  },
  "language_info": {
   "codemirror_mode": {
    "name": "ipython",
    "version": 3
   },
   "file_extension": ".py",
   "mimetype": "text/x-python",
   "name": "python",
   "nbconvert_exporter": "python",
   "pygments_lexer": "ipython3",
   "version": "3.12.7"
  }
 },
 "nbformat": 4,
 "nbformat_minor": 5
}
