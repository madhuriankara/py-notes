{
 "cells": [
  {
   "cell_type": "code",
   "execution_count": 1,
   "id": "404d74a2-3fe4-498e-bcb1-4749f9edeb63",
   "metadata": {},
   "outputs": [],
   "source": [
    "from pypika import Query, Table\n",
    "\n",
    "# Define a table\n",
    "users = Table(\"users\")\n",
    "\n",
    "# Build an INSERT query\n",
    "query = Query.into(users).columns(\"id\", \"name\", \"age\").insert(1, \"John Doe\", 28)\n",
    "\n",
    "\n"
   ]
  },
  {
   "cell_type": "code",
   "execution_count": 2,
   "id": "8e857803-06fc-46cb-88ab-4806e0007540",
   "metadata": {},
   "outputs": [
    {
     "name": "stdout",
     "output_type": "stream",
     "text": [
      "INSERT INTO \"users\" (\"id\",\"name\",\"age\") VALUES (1,'John Doe',28)\n"
     ]
    }
   ],
   "source": [
    "print(query)  # Output: INSERT INTO \"users\" (\"id\",\"name\",\"age\") VALUES (1,'John Doe',28)"
   ]
  },
  {
   "cell_type": "code",
   "execution_count": null,
   "id": "9fc361b2-c959-421d-a0a4-5e0fbaf7ae94",
   "metadata": {},
   "outputs": [],
   "source": []
  },
  {
   "cell_type": "code",
   "execution_count": null,
   "id": "48fa3896-f410-448f-a6f3-9a37efa3e754",
   "metadata": {},
   "outputs": [],
   "source": []
  }
 ],
 "metadata": {
  "kernelspec": {
   "display_name": "Python 3 (ipykernel)",
   "language": "python",
   "name": "python3"
  },
  "language_info": {
   "codemirror_mode": {
    "name": "ipython",
    "version": 3
   },
   "file_extension": ".py",
   "mimetype": "text/x-python",
   "name": "python",
   "nbconvert_exporter": "python",
   "pygments_lexer": "ipython3",
   "version": "3.12.7"
  }
 },
 "nbformat": 4,
 "nbformat_minor": 5
}
