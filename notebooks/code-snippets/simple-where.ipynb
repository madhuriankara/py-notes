{
 "cells": [
  {
   "cell_type": "code",
   "execution_count": 1,
   "id": "a1339c8c-1721-4d94-b169-93c60b52e969",
   "metadata": {},
   "outputs": [],
   "source": [
    "from pypika import Query, Table\n",
    "\n",
    "# Define a table\n",
    "users = Table(\"users\")\n",
    "\n",
    "# Build a SELECT query with a WHERE clause\n",
    "query = Query.from_(users).select(users.id, users.name).where(users.age > 30)\n",
    "\n",
    "\n"
   ]
  },
  {
   "cell_type": "code",
   "execution_count": 2,
   "id": "fb98f13c-7660-49e9-9816-0b32eba81087",
   "metadata": {},
   "outputs": [
    {
     "name": "stdout",
     "output_type": "stream",
     "text": [
      "SELECT \"id\",\"name\" FROM \"users\" WHERE \"age\">30\n"
     ]
    }
   ],
   "source": [
    "print(query)  # Output: SELECT \"id\",\"name\" FROM \"users\" WHERE \"age\">30"
   ]
  },
  {
   "cell_type": "code",
   "execution_count": null,
   "id": "a8602e85-dc48-440a-9ce8-5575563dc9d2",
   "metadata": {},
   "outputs": [],
   "source": []
  }
 ],
 "metadata": {
  "kernelspec": {
   "display_name": "Python 3 (ipykernel)",
   "language": "python",
   "name": "python3"
  },
  "language_info": {
   "codemirror_mode": {
    "name": "ipython",
    "version": 3
   },
   "file_extension": ".py",
   "mimetype": "text/x-python",
   "name": "python",
   "nbconvert_exporter": "python",
   "pygments_lexer": "ipython3",
   "version": "3.12.7"
  }
 },
 "nbformat": 4,
 "nbformat_minor": 5
}
