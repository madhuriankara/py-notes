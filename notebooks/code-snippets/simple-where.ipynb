{
 "cells": [
  {
   "cell_type": "code",
   "execution_count": 43,
   "id": "a1339c8c-1721-4d94-b169-93c60b52e969",
   "metadata": {},
   "outputs": [],
   "source": [
    "from pypika import Query, Table"
   ]
  },
  {
   "cell_type": "code",
   "execution_count": 44,
   "id": "fb98f13c-7660-49e9-9816-0b32eba81087",
   "metadata": {},
   "outputs": [],
   "source": [
    "# Define a table\n",
    "users = Table(\"users\")"
   ]
  },
  {
   "cell_type": "code",
   "execution_count": 45,
   "id": "a8602e85-dc48-440a-9ce8-5575563dc9d2",
   "metadata": {},
   "outputs": [],
   "source": [
    "# Build a SELECT query with a WHERE clause\n",
    "query = Query.from_(users).select(users.id, users.name).where(users.age > 30)"
   ]
  },
  {
   "cell_type": "code",
   "execution_count": 46,
   "id": "2d0b0dc7-5b91-4af0-8039-399cac0e1585",
   "metadata": {},
   "outputs": [
    {
     "name": "stdout",
     "output_type": "stream",
     "text": [
      "SELECT \"id\",\"name\" FROM \"users\" WHERE \"age\">30\n"
     ]
    }
   ],
   "source": [
    "print(query)"
   ]
  },
  {
   "cell_type": "code",
   "execution_count": null,
   "id": "bfac01ff-7ac2-4a8f-b525-039d49d84efc",
   "metadata": {},
   "outputs": [],
   "source": []
  },
  {
   "cell_type": "code",
   "execution_count": null,
   "id": "1d9cf9c6-6e92-4aee-b864-ab73d714ae24",
   "metadata": {},
   "outputs": [],
   "source": []
  }
 ],
 "metadata": {
  "kernelspec": {
   "display_name": "Python 3 (ipykernel)",
   "language": "python",
   "name": "python3"
  },
  "language_info": {
   "codemirror_mode": {
    "name": "ipython",
    "version": 3
   },
   "file_extension": ".py",
   "mimetype": "text/x-python",
   "name": "python",
   "nbconvert_exporter": "python",
   "pygments_lexer": "ipython3",
   "version": "3.12.7"
  }
 },
 "nbformat": 4,
 "nbformat_minor": 5
}
