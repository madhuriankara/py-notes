{
 "cells": [
  {
   "cell_type": "code",
   "execution_count": 1,
   "id": "6b0a550c-3672-452b-96e6-8647cc34b7b0",
   "metadata": {},
   "outputs": [],
   "source": [
    "import hashlib\n",
    "import os\n"
   ]
  },
  {
   "cell_type": "code",
   "execution_count": 2,
   "id": "dd65ef7e-2c1b-45c2-9232-04b12f6e78ea",
   "metadata": {},
   "outputs": [],
   "source": [
    "def get_file_hash(file_path):\n",
    "    \"\"\"Generate a hash for the contents of a file.\"\"\"\n",
    "    hash_sha256 = hashlib.sha256()\n",
    "    with open(file_path, 'rb') as f:\n",
    "        while chunk := f.read(4096):\n",
    "            hash_sha256.update(chunk)\n",
    "    return hash_sha256.hexdigest()"
   ]
  },
  {
   "cell_type": "code",
   "execution_count": 5,
   "id": "2b13b242-6b53-45da-9b40-713be151f11d",
   "metadata": {},
   "outputs": [
    {
     "name": "stdout",
     "output_type": "stream",
     "text": [
      "Duplicate files: []\n"
     ]
    }
   ],
   "source": [
    "def find_duplicate_files(directory):\n",
    "    seen = {}\n",
    "    duplicates = []\n",
    "\n",
    "    for root, _, files in os.walk(directory):\n",
    "        for file in files:\n",
    "            file_path = os.path.join(root, file)\n",
    "            file_hash = get_file_hash(file_path)\n",
    "\n",
    "            if file_hash in seen:\n",
    "                duplicates.append(file_path)\n",
    "            else:\n",
    "                seen[file_hash] = file_path\n",
    "\n",
    "    return duplicates\n",
    "\n",
    "\n",
    "# Example usage: Replace with your directory path\n",
    "directory_path = \"/path/to/your/files\"\n",
    "duplicates = find_duplicate_files(directory_path)\n",
    "print(\"Duplicate files:\", duplicates)"
   ]
  },
  {
   "cell_type": "code",
   "execution_count": null,
   "id": "96c1fd87-7477-4cb6-9b25-0057c35eae53",
   "metadata": {},
   "outputs": [],
   "source": []
  },
  {
   "cell_type": "code",
   "execution_count": null,
   "id": "faf578fa-a9e6-4973-99d9-88a8c3cb85f2",
   "metadata": {},
   "outputs": [],
   "source": []
  }
 ],
 "metadata": {
  "kernelspec": {
   "display_name": "Python 3 (ipykernel)",
   "language": "python",
   "name": "python3"
  },
  "language_info": {
   "codemirror_mode": {
    "name": "ipython",
    "version": 3
   },
   "file_extension": ".py",
   "mimetype": "text/x-python",
   "name": "python",
   "nbconvert_exporter": "python",
   "pygments_lexer": "ipython3",
   "version": "3.12.7"
  }
 },
 "nbformat": 4,
 "nbformat_minor": 5
}
