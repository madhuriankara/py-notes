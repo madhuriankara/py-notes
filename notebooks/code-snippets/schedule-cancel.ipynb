{
 "cells": [
  {
   "cell_type": "code",
   "execution_count": null,
   "id": "6549f235-de45-436a-ad70-02355001a347",
   "metadata": {},
   "outputs": [],
   "source": [
    "!pip install schedule\n"
   ]
  },
  {
   "cell_type": "code",
   "execution_count": null,
   "id": "ba4e01a0-f3f0-409e-a1fd-f63cfc2f7340",
   "metadata": {},
   "outputs": [],
   "source": [
    "import schedule\n",
    "import time\n",
    "\n"
   ]
  },
  {
   "cell_type": "code",
   "execution_count": null,
   "id": "dcb0a311-a82a-4ba4-ab15-91be2be6fd98",
   "metadata": {},
   "outputs": [],
   "source": [
    "# Define task function\n",
    "def print_message():\n",
    "    print(\"This job will be canceled.\")\n",
    "# Schedule the task to run every 2 seconds\n",
    "job = schedule.every(2).seconds.do(print_message)\n",
    "\n",
    "# Run the job for 5 seconds and then cancel it\n",
    "time.sleep(5)\n",
    "schedule.cancel_job(job)\n",
    "print(\"Job has been canceled.\")\n",
    "\n",
    "# Keep the program running\n",
    "while True:\n",
    "    schedule.run_pending()\n",
    "    time.sleep(1)\n"
   ]
  },
  {
   "cell_type": "code",
   "execution_count": null,
   "id": "12852e28-406f-4693-bf25-42263d923b0f",
   "metadata": {},
   "outputs": [],
   "source": []
  },
  {
   "cell_type": "code",
   "execution_count": null,
   "id": "320bd96e-eec8-4826-bd5e-ba358f6f2cc0",
   "metadata": {},
   "outputs": [],
   "source": [
    "\n"
   ]
  },
  {
   "cell_type": "code",
   "execution_count": null,
   "id": "216c1c67-fb59-4f0a-85e3-fa67ab1728b8",
   "metadata": {},
   "outputs": [],
   "source": []
  },
  {
   "cell_type": "code",
   "execution_count": null,
   "id": "d44bdacd-80c4-41ad-a66f-ed2cc5a21b3d",
   "metadata": {},
   "outputs": [],
   "source": []
  },
  {
   "cell_type": "code",
   "execution_count": null,
   "id": "97646434-3aaf-449b-9d8c-5825b65e6c10",
   "metadata": {},
   "outputs": [],
   "source": []
  }
 ],
 "metadata": {
  "kernelspec": {
   "display_name": "Python 3 (ipykernel)",
   "language": "python",
   "name": "python3"
  },
  "language_info": {
   "codemirror_mode": {
    "name": "ipython",
    "version": 3
   },
   "file_extension": ".py",
   "mimetype": "text/x-python",
   "name": "python",
   "nbconvert_exporter": "python",
   "pygments_lexer": "ipython3",
   "version": "3.12.7"
  }
 },
 "nbformat": 4,
 "nbformat_minor": 5
}
