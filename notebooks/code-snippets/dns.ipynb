{
 "cells": [
  {
   "cell_type": "code",
   "execution_count": 1,
   "id": "efd55925-935c-4efd-b809-bdce4642f4a0",
   "metadata": {},
   "outputs": [
    {
     "data": {
      "text/plain": [
       "'\\nCreated on Nov 22, 2024\\n\\nCourse work: \\n\\n@author: Madhuri Ankaraboyina\\n\\nSource:\\n    http://www.pythonforbeginners.com/python/dns-lookup-python\\n'"
      ]
     },
     "execution_count": 1,
     "metadata": {},
     "output_type": "execute_result"
    }
   ],
   "source": [
    "'''\n",
    "Created on Nov 22, 2024\n",
    "\n",
    "Course work: \n",
    "\n",
    "@author: Madhuri Ankaraboyina\n",
    "\n",
    "Source:\n",
    "    http://www.pythonforbeginners.com/python/dns-lookup-python\n",
    "'''\n",
    "\n",
    "# Import necessary modules\n",
    "\n"
   ]
  },
  {
   "cell_type": "code",
   "execution_count": 10,
   "id": "abdc0e7e-12e2-4a26-b282-9c228af1b11c",
   "metadata": {},
   "outputs": [],
   "source": [
    "import socket"
   ]
  },
  {
   "cell_type": "code",
   "execution_count": 11,
   "id": "7540bd3a-5ebf-428a-ba7c-b99ebe6ad813",
   "metadata": {},
   "outputs": [],
   "source": [
    "addr1 = socket.gethostbyname('google.com')"
   ]
  },
  {
   "cell_type": "code",
   "execution_count": 12,
   "id": "dd4a9a05-6768-44cc-9303-3d0701da0a38",
   "metadata": {},
   "outputs": [],
   "source": [
    "addr2 = socket.gethostbyname('yahoo.com')"
   ]
  },
  {
   "cell_type": "code",
   "execution_count": 13,
   "id": "e047b305-12e6-4b1d-80e8-549e84483630",
   "metadata": {},
   "outputs": [
    {
     "name": "stdout",
     "output_type": "stream",
     "text": [
      "142.251.32.78 74.6.143.26\n"
     ]
    }
   ],
   "source": [
    "print(addr1, addr2)"
   ]
  },
  {
   "cell_type": "code",
   "execution_count": null,
   "id": "92eeb135-1b80-40e3-96c3-9e0bf8b5775d",
   "metadata": {},
   "outputs": [],
   "source": []
  },
  {
   "cell_type": "code",
   "execution_count": null,
   "id": "8a68190c-f511-460d-9ed0-a0837e7543bb",
   "metadata": {},
   "outputs": [],
   "source": []
  }
 ],
 "metadata": {
  "kernelspec": {
   "display_name": "Python 3 (ipykernel)",
   "language": "python",
   "name": "python3"
  },
  "language_info": {
   "codemirror_mode": {
    "name": "ipython",
    "version": 3
   },
   "file_extension": ".py",
   "mimetype": "text/x-python",
   "name": "python",
   "nbconvert_exporter": "python",
   "pygments_lexer": "ipython3",
   "version": "3.12.7"
  }
 },
 "nbformat": 4,
 "nbformat_minor": 5
}
