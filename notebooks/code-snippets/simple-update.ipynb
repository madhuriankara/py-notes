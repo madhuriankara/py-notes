{
 "cells": [
  {
   "cell_type": "code",
   "execution_count": 8,
   "id": "e0e7513c-b32b-45f2-a16e-2ae7f9d1c83f",
   "metadata": {},
   "outputs": [],
   "source": [
    "from pypika import Query, Table"
   ]
  },
  {
   "cell_type": "code",
   "execution_count": 9,
   "id": "a3985c3c-b957-4207-88c8-a8af8c9b1281",
   "metadata": {},
   "outputs": [],
   "source": [
    "# Define a table\n",
    "users = Table(\"users\")"
   ]
  },
  {
   "cell_type": "code",
   "execution_count": 10,
   "id": "380a7083-d388-4b42-b1b6-0e6f05a42c16",
   "metadata": {},
   "outputs": [],
   "source": [
    "# Build an UPDATE query\n",
    "query = Query.update(users).set(users.name, \"Jane Doe\").where(users.id == 1)"
   ]
  },
  {
   "cell_type": "code",
   "execution_count": 11,
   "id": "fec2776a-8448-48d4-8a01-3b929202e1ce",
   "metadata": {},
   "outputs": [
    {
     "name": "stdout",
     "output_type": "stream",
     "text": [
      "UPDATE \"users\" SET \"name\"='Jane Doe' WHERE \"id\"=1\n"
     ]
    }
   ],
   "source": [
    "print(query)"
   ]
  },
  {
   "cell_type": "code",
   "execution_count": null,
   "id": "2a5e8cd7-f930-421c-a111-083fac5ac4a0",
   "metadata": {},
   "outputs": [],
   "source": []
  }
 ],
 "metadata": {
  "kernelspec": {
   "display_name": "Python 3 (ipykernel)",
   "language": "python",
   "name": "python3"
  },
  "language_info": {
   "codemirror_mode": {
    "name": "ipython",
    "version": 3
   },
   "file_extension": ".py",
   "mimetype": "text/x-python",
   "name": "python",
   "nbconvert_exporter": "python",
   "pygments_lexer": "ipython3",
   "version": "3.12.7"
  }
 },
 "nbformat": 4,
 "nbformat_minor": 5
}
