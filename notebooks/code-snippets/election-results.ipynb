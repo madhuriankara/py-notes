{
 "cells": [
  {
   "cell_type": "code",
   "execution_count": 9,
   "id": "238227a4-b63d-432f-a320-f75d44b03815",
   "metadata": {},
   "outputs": [],
   "source": [
    "\n",
    "\n",
    "import requests\n",
    "from bs4 import BeautifulSoup\n",
    "\n"
   ]
  },
  {
   "cell_type": "code",
   "execution_count": 10,
   "id": "c972781e-28aa-41fe-a57e-124cdb856af8",
   "metadata": {},
   "outputs": [],
   "source": [
    "\n",
    "def main():\n",
    "    \n",
    "    #print('Main')\n",
    "    \n",
    "    # Collect and parse first page\n",
    "    page = requests.get('https://newsinteractives.cbc.ca/elections/federal/2019/results/')\n",
    "    soup = BeautifulSoup(page.text, 'html.parser')    \n",
    "    \n",
    "    #print(soup)    \n",
    "\n",
    "    items = soup.select('div.party-standings__table__row span')\n",
    "\n",
    "    item_list = ''\n",
    "    for item in items:\n",
    "\n",
    "        print(item)\n",
    "\n",
    "        name = item.get_text().strip()\n",
    "\n",
    "        \n",
    "        print('['+str(name)+']')\n",
    "        #item_list =  item_list + ',' +str(item.get_text())\n",
    "    \n",
    "    #print(item_list)\n",
    "        \n"
   ]
  },
  {
   "cell_type": "code",
   "execution_count": 11,
   "id": "3d20a7c2-2e66-4f7e-9d67-89beb1590ad8",
   "metadata": {},
   "outputs": [
    {
     "name": "stdout",
     "output_type": "stream",
     "text": [
      "<span>170 seats to majority</span>\n",
      "[170 seats to majority]\n",
      "<span class=\"triangle\"></span>\n",
      "[]\n",
      "<span aria-label=\"Elected\" class=\"elected-container\"><img alt=\"\" src=\"/elections/federal/2019/results/assets/images/icons/icon-check-white.svg\"/></span>\n",
      "[]\n",
      "<span class=\"party-name\" v-text=\"formatPartyName(party.englishName)\"></span>\n",
      "[]\n",
      "<span class=\"party-code\" v-text=\"party.englishCode\"></span>\n",
      "[]\n",
      "<span class=\"hide-sm\">Vote Share</span>\n",
      "[Vote Share]\n",
      "<span class=\"hide-lg\">Share</span>\n",
      "[Share]\n",
      "<span aria-label=\"Elected\" class=\"elected-container\"><img alt=\"\" src=\"/elections/federal/2019/results/assets/images/icons/icon-check-white.svg\"/></span>\n",
      "[]\n",
      "<span class=\"party-name\" v-text=\"formatPartyName(party.englishName)\"></span>\n",
      "[]\n",
      "<span class=\"party-code\" v-text=\"party.englishCode\"></span>\n",
      "[]\n",
      "<span role=\"cell\"><p v-text=\"party.electedSeats\"></p></span>\n",
      "[]\n",
      "<span role=\"cell\"><p v-text=\"party.leadingSeats\"></p></span>\n",
      "[]\n",
      "<span role=\"cell\"><p v-text=\"(parseFloat(party.totalVotesPercentage * 100) || 0).toFixed(1) + '%'\"></p></span>\n",
      "[]\n",
      "<span role=\"cell\"><p v-text=\"party.totalVotes.toLocaleString()\"></p></span>\n",
      "[]\n",
      "<span class=\"bar loss\">\n",
      "<span class=\"fill\" v-bind:style=\"getPartyStyle(party.englishCode)\" v-if=\"getPartyAttribute(party.englishCode, 'net') &lt; 0\"></span>\n",
      "</span>\n",
      "[]\n",
      "<span class=\"fill\" v-bind:style=\"getPartyStyle(party.englishCode)\" v-if=\"getPartyAttribute(party.englishCode, 'net') &lt; 0\"></span>\n",
      "[]\n",
      "<span class=\"bar gain\">\n",
      "<span class=\"fill\" v-bind:style=\"getPartyStyle(party.englishCode)\" v-if=\"getPartyAttribute(party.englishCode, 'net') &gt; 0\"></span>\n",
      "</span>\n",
      "[]\n",
      "<span class=\"fill\" v-bind:style=\"getPartyStyle(party.englishCode)\" v-if=\"getPartyAttribute(party.englishCode, 'net') &gt; 0\"></span>\n",
      "[]\n"
     ]
    }
   ],
   "source": [
    "if __name__ == '__main__':\n",
    "    main()\n",
    "\n"
   ]
  },
  {
   "cell_type": "code",
   "execution_count": null,
   "id": "f7d9aff8-7c2d-4cf2-aafb-f95ff8e78037",
   "metadata": {},
   "outputs": [],
   "source": []
  }
 ],
 "metadata": {
  "kernelspec": {
   "display_name": "Python 3 (ipykernel)",
   "language": "python",
   "name": "python3"
  },
  "language_info": {
   "codemirror_mode": {
    "name": "ipython",
    "version": 3
   },
   "file_extension": ".py",
   "mimetype": "text/x-python",
   "name": "python",
   "nbconvert_exporter": "python",
   "pygments_lexer": "ipython3",
   "version": "3.12.7"
  }
 },
 "nbformat": 4,
 "nbformat_minor": 5
}
