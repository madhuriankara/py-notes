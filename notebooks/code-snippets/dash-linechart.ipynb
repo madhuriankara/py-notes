{
 "cells": [
  {
   "cell_type": "code",
   "execution_count": null,
   "id": "0e8cec7a-a94e-4187-af22-0644b44457ed",
   "metadata": {},
   "outputs": [],
   "source": []
  },
  {
   "cell_type": "code",
   "execution_count": 9,
   "id": "f4a6a8eb-79ef-4b47-b89a-85718f524d68",
   "metadata": {},
   "outputs": [
    {
     "name": "stdout",
     "output_type": "stream",
     "text": [
      "Requirement already satisfied: dash in /opt/homebrew/Caskroom/miniconda/base/envs/py312/lib/python3.12/site-packages (2.18.2)\n",
      "Requirement already satisfied: Flask<3.1,>=1.0.4 in /opt/homebrew/Caskroom/miniconda/base/envs/py312/lib/python3.12/site-packages (from dash) (3.0.3)\n",
      "Requirement already satisfied: Werkzeug<3.1 in /opt/homebrew/Caskroom/miniconda/base/envs/py312/lib/python3.12/site-packages (from dash) (3.0.6)\n",
      "Requirement already satisfied: plotly>=5.0.0 in /opt/homebrew/Caskroom/miniconda/base/envs/py312/lib/python3.12/site-packages (from dash) (5.24.1)\n",
      "Requirement already satisfied: dash-html-components==2.0.0 in /opt/homebrew/Caskroom/miniconda/base/envs/py312/lib/python3.12/site-packages (from dash) (2.0.0)\n",
      "Requirement already satisfied: dash-core-components==2.0.0 in /opt/homebrew/Caskroom/miniconda/base/envs/py312/lib/python3.12/site-packages (from dash) (2.0.0)\n",
      "Requirement already satisfied: dash-table==5.0.0 in /opt/homebrew/Caskroom/miniconda/base/envs/py312/lib/python3.12/site-packages (from dash) (5.0.0)\n",
      "Requirement already satisfied: importlib-metadata in /opt/homebrew/Caskroom/miniconda/base/envs/py312/lib/python3.12/site-packages (from dash) (8.5.0)\n",
      "Requirement already satisfied: typing-extensions>=4.1.1 in /opt/homebrew/Caskroom/miniconda/base/envs/py312/lib/python3.12/site-packages (from dash) (4.12.2)\n",
      "Requirement already satisfied: requests in /opt/homebrew/Caskroom/miniconda/base/envs/py312/lib/python3.12/site-packages (from dash) (2.32.3)\n",
      "Requirement already satisfied: retrying in /opt/homebrew/Caskroom/miniconda/base/envs/py312/lib/python3.12/site-packages (from dash) (1.3.4)\n",
      "Requirement already satisfied: nest-asyncio in /opt/homebrew/Caskroom/miniconda/base/envs/py312/lib/python3.12/site-packages (from dash) (1.6.0)\n",
      "Requirement already satisfied: setuptools in /opt/homebrew/Caskroom/miniconda/base/envs/py312/lib/python3.12/site-packages (from dash) (75.1.0)\n",
      "Requirement already satisfied: Jinja2>=3.1.2 in /opt/homebrew/Caskroom/miniconda/base/envs/py312/lib/python3.12/site-packages (from Flask<3.1,>=1.0.4->dash) (3.1.4)\n",
      "Requirement already satisfied: itsdangerous>=2.1.2 in /opt/homebrew/Caskroom/miniconda/base/envs/py312/lib/python3.12/site-packages (from Flask<3.1,>=1.0.4->dash) (2.2.0)\n",
      "Requirement already satisfied: click>=8.1.3 in /opt/homebrew/Caskroom/miniconda/base/envs/py312/lib/python3.12/site-packages (from Flask<3.1,>=1.0.4->dash) (8.1.7)\n",
      "Requirement already satisfied: blinker>=1.6.2 in /opt/homebrew/Caskroom/miniconda/base/envs/py312/lib/python3.12/site-packages (from Flask<3.1,>=1.0.4->dash) (1.9.0)\n",
      "Requirement already satisfied: tenacity>=6.2.0 in /opt/homebrew/Caskroom/miniconda/base/envs/py312/lib/python3.12/site-packages (from plotly>=5.0.0->dash) (9.0.0)\n",
      "Requirement already satisfied: packaging in /opt/homebrew/Caskroom/miniconda/base/envs/py312/lib/python3.12/site-packages (from plotly>=5.0.0->dash) (24.1)\n",
      "Requirement already satisfied: MarkupSafe>=2.1.1 in /opt/homebrew/Caskroom/miniconda/base/envs/py312/lib/python3.12/site-packages (from Werkzeug<3.1->dash) (3.0.2)\n",
      "Requirement already satisfied: zipp>=3.20 in /opt/homebrew/Caskroom/miniconda/base/envs/py312/lib/python3.12/site-packages (from importlib-metadata->dash) (3.21.0)\n",
      "Requirement already satisfied: charset-normalizer<4,>=2 in /opt/homebrew/Caskroom/miniconda/base/envs/py312/lib/python3.12/site-packages (from requests->dash) (3.4.0)\n",
      "Requirement already satisfied: idna<4,>=2.5 in /opt/homebrew/Caskroom/miniconda/base/envs/py312/lib/python3.12/site-packages (from requests->dash) (3.10)\n",
      "Requirement already satisfied: urllib3<3,>=1.21.1 in /opt/homebrew/Caskroom/miniconda/base/envs/py312/lib/python3.12/site-packages (from requests->dash) (2.2.3)\n",
      "Requirement already satisfied: certifi>=2017.4.17 in /opt/homebrew/Caskroom/miniconda/base/envs/py312/lib/python3.12/site-packages (from requests->dash) (2024.8.30)\n",
      "Requirement already satisfied: six>=1.7.0 in /opt/homebrew/Caskroom/miniconda/base/envs/py312/lib/python3.12/site-packages (from retrying->dash) (1.16.0)\n"
     ]
    }
   ],
   "source": [
    "!pip install dash"
   ]
  },
  {
   "cell_type": "code",
   "execution_count": 10,
   "id": "f422a8cb-40a3-4386-94cc-4af7430ffc11",
   "metadata": {},
   "outputs": [],
   "source": [
    "import dash\n",
    "from dash import dcc, html\n",
    "from dash.dependencies import Input, Output\n",
    "import plotly.express as px\n",
    "import pandas as pd"
   ]
  },
  {
   "cell_type": "code",
   "execution_count": 11,
   "id": "bcff2277-b540-4073-a585-3f571f82cef6",
   "metadata": {},
   "outputs": [],
   "source": [
    "app = dash.Dash(__name__)"
   ]
  },
  {
   "cell_type": "code",
   "execution_count": 12,
   "id": "12440694-821f-449d-8acf-2d69b11d3a92",
   "metadata": {},
   "outputs": [],
   "source": [
    "df = pd.DataFrame({\n",
    "    'X': [1, 2, 3, 4, 5],\n",
    "    'Y': [2, 4, 6, 8, 10]\n",
    "})"
   ]
  },
  {
   "cell_type": "code",
   "execution_count": 13,
   "id": "c1a07902-b929-46de-9355-05be011b7b67",
   "metadata": {},
   "outputs": [],
   "source": [
    "app.layout = html.Div([\n",
    "    # Title of the app\n",
    "    html.H1(\"Simple Line Chart in Dash\"),\n",
    "    \n",
    "    # Dropdown for selecting a color for the line\n",
    "    dcc.Dropdown(\n",
    "        id='color-dropdown',\n",
    "        options=[\n",
    "            {'label': 'Blue', 'value': 'blue'},\n",
    "            {'label': 'Red', 'value': 'red'},\n",
    "            {'label': 'Green', 'value': 'green'}\n",
    "        ],\n",
    "        value='blue',  # Default value\n",
    "        style={'width': '50%'}\n",
    "    ),\n",
    "    \n",
    "    # Graph to display the line chart\n",
    "    dcc.Graph(id='line-chart')\n",
    "])\n"
   ]
  },
  {
   "cell_type": "code",
   "execution_count": 14,
   "id": "31355763-0ddd-4f74-81ca-73a24ef3b223",
   "metadata": {},
   "outputs": [
    {
     "data": {
      "text/html": [
       "\n",
       "        <iframe\n",
       "            width=\"100%\"\n",
       "            height=\"650\"\n",
       "            src=\"http://127.0.0.1:8050/\"\n",
       "            frameborder=\"0\"\n",
       "            allowfullscreen\n",
       "            \n",
       "        ></iframe>\n",
       "        "
      ],
      "text/plain": [
       "<IPython.lib.display.IFrame at 0x1083d0b90>"
      ]
     },
     "metadata": {},
     "output_type": "display_data"
    }
   ],
   "source": [
    "def update_chart(selected_color):\n",
    "    fig = px.line(df, x='X', y='Y', title=\"Line Chart Example\")\n",
    "    fig.update_traces(line=dict(color=selected_color))  # Update the line color based on the dropdown\n",
    "    return fig\n",
    "\n",
    "# Run the app\n",
    "if __name__ == '__main__':\n",
    "    app.run_server(debug=True)\n"
   ]
  },
  {
   "cell_type": "code",
   "execution_count": null,
   "id": "c5ea11f8-1f64-4edd-b16b-a8334ce042c7",
   "metadata": {},
   "outputs": [],
   "source": []
  }
 ],
 "metadata": {
  "kernelspec": {
   "display_name": "Python 3 (ipykernel)",
   "language": "python",
   "name": "python3"
  },
  "language_info": {
   "codemirror_mode": {
    "name": "ipython",
    "version": 3
   },
   "file_extension": ".py",
   "mimetype": "text/x-python",
   "name": "python",
   "nbconvert_exporter": "python",
   "pygments_lexer": "ipython3",
   "version": "3.12.7"
  }
 },
 "nbformat": 4,
 "nbformat_minor": 5
}
