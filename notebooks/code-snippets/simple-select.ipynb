{
 "cells": [
  {
   "cell_type": "code",
   "execution_count": 4,
   "id": "a2c480ca-f7a1-423a-aedc-53d5985e9bfa",
   "metadata": {},
   "outputs": [],
   "source": [
    "from pypika import Query, Table\n",
    "\n",
    "# Define a table\n",
    "users = Table(\"users\")\n",
    "\n",
    "# Build a SELECT query\n",
    "query = Query.from_(users).select(users.id, users.name)\n",
    "\n",
    "\n"
   ]
  },
  {
   "cell_type": "code",
   "execution_count": 5,
   "id": "39e88f68-31a1-43db-aee6-c1e53458af9b",
   "metadata": {},
   "outputs": [
    {
     "name": "stdout",
     "output_type": "stream",
     "text": [
      "Requirement already satisfied: pypika in /opt/homebrew/Caskroom/miniconda/base/envs/py312/lib/python3.12/site-packages (0.48.9)\n"
     ]
    }
   ],
   "source": [
    "!pip install pypika"
   ]
  },
  {
   "cell_type": "code",
   "execution_count": 6,
   "id": "6dc74ae1-18db-4530-aadf-b9c312ffce60",
   "metadata": {},
   "outputs": [
    {
     "name": "stdout",
     "output_type": "stream",
     "text": [
      "SELECT \"id\",\"name\" FROM \"users\"\n"
     ]
    }
   ],
   "source": [
    "print(query)  # Output: SELECT \"id\",\"name\" FROM \"users\""
   ]
  },
  {
   "cell_type": "code",
   "execution_count": null,
   "id": "801a2e5e-dbfd-442d-bac3-4370e3065f2f",
   "metadata": {},
   "outputs": [],
   "source": []
  }
 ],
 "metadata": {
  "kernelspec": {
   "display_name": "Python 3 (ipykernel)",
   "language": "python",
   "name": "python3"
  },
  "language_info": {
   "codemirror_mode": {
    "name": "ipython",
    "version": 3
   },
   "file_extension": ".py",
   "mimetype": "text/x-python",
   "name": "python",
   "nbconvert_exporter": "python",
   "pygments_lexer": "ipython3",
   "version": "3.12.7"
  }
 },
 "nbformat": 4,
 "nbformat_minor": 5
}
