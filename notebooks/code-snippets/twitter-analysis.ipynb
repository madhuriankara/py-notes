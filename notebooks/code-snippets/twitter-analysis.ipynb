{
 "cells": [
  {
   "cell_type": "code",
   "execution_count": 12,
   "id": "b26cc608-c9e3-482a-b021-b69a531feb3e",
   "metadata": {},
   "outputs": [],
   "source": [
    "import nltk;\n",
    "from nltk.probability import FreqDist, DictionaryProbDist, ELEProbDist"
   ]
  },
  {
   "cell_type": "code",
   "execution_count": 5,
   "id": "f7d4a0ec-a915-4c03-8fc0-054adcca1b24",
   "metadata": {},
   "outputs": [],
   "source": [
    "pos_tweets = [('I love this car', 'positive'),\n",
    "              ('This view is amazing', 'positive'),\n",
    "              ('I feel great this morning', 'positive'),\n",
    "              ('I am so excited about the concert', 'positive'),\n",
    "              ('He is my best friend', 'positive')]\n",
    "\n",
    "neg_tweets = [('I do not like this car', 'negative'),\n",
    "              ('This view is horrible', 'negative'),\n",
    "              ('I feel tired this morning', 'negative'),\n",
    "              ('I am not looking forward to the concert', 'negative'),\n",
    "              ('He is my enemy', 'negative')]"
   ]
  },
  {
   "cell_type": "code",
   "execution_count": 13,
   "id": "d416c126-08be-4984-8619-264e42989612",
   "metadata": {},
   "outputs": [],
   "source": [
    "tweets = []\n",
    "for (words, sentiment) in pos_tweets + neg_tweets:\n",
    "    words_filtered = [e.lower() for e in words.split() if len(e) >= 3] \n",
    "    tweets.append((words_filtered, sentiment))\n",
    "    \n",
    "    \n",
    "#print(tweets);"
   ]
  },
  {
   "cell_type": "code",
   "execution_count": 14,
   "id": "4aa3cc87-d643-412c-8b2e-f7b8366630e4",
   "metadata": {},
   "outputs": [],
   "source": [
    "test_tweets = [\n",
    "    (['feel', 'happy', 'this', 'morning'], 'positive'),\n",
    "    (['larry', 'friend'], 'positive'),\n",
    "    (['not', 'like', 'that', 'man'], 'negative'),\n",
    "    (['house', 'not', 'great'], 'negative'),\n",
    "    (['your', 'song', 'annoying'], 'negative')]"
   ]
  },
  {
   "cell_type": "code",
   "execution_count": 15,
   "id": "9a24b35a-1ff1-4a23-8577-faa7d026fc25",
   "metadata": {},
   "outputs": [],
   "source": [
    "\n",
    "def get_words_in_tweets(tweets):\n",
    "    all_words = []\n",
    "    for (words, sentiment) in tweets:\n",
    "      all_words.extend(words)\n",
    "    return all_words"
   ]
  },
  {
   "cell_type": "code",
   "execution_count": 16,
   "id": "5788724f-c1ea-4e85-8848-29c222553093",
   "metadata": {},
   "outputs": [],
   "source": [
    "def get_word_features(wordlist):\n",
    "    wordlist = nltk.FreqDist(wordlist)\n",
    "    word_features = wordlist.keys()\n",
    "    return word_features\n",
    "\n",
    "word_features = get_word_features(get_words_in_tweets(tweets))"
   ]
  },
  {
   "cell_type": "code",
   "execution_count": 17,
   "id": "9d5c4ab6-0e5d-4e5c-85a5-bac87b07189b",
   "metadata": {},
   "outputs": [],
   "source": [
    "#print(word_features);\n",
    "\n",
    "def extract_features(document):\n",
    "    document_words = set(document)\n",
    "    features = {}\n",
    "    for word in word_features:\n",
    "        features['contains(%s)' % word] = (word in document_words)\n",
    "    return features\n",
    "\n",
    "training_set = nltk.classify.apply_features(extract_features, tweets)"
   ]
  },
  {
   "cell_type": "code",
   "execution_count": 18,
   "id": "cd5c3c5b-914d-4c68-8e35-8d1743acb4e4",
   "metadata": {},
   "outputs": [
    {
     "name": "stdout",
     "output_type": "stream",
     "text": [
      "positive\n"
     ]
    }
   ],
   "source": [
    "#print(training_set);\n",
    "\n",
    "classifier = nltk.NaiveBayesClassifier.train(training_set)\n",
    "\n",
    "tweet = 'Go to Hell'\n",
    "print(classifier.classify(extract_features(tweet.split())))"
   ]
  },
  {
   "cell_type": "code",
   "execution_count": null,
   "id": "160edbeb-14d1-4326-87d0-bfb3a28ddb93",
   "metadata": {},
   "outputs": [],
   "source": []
  },
  {
   "cell_type": "code",
   "execution_count": null,
   "id": "b435630c-a4d8-44fc-a072-6900930c8160",
   "metadata": {},
   "outputs": [],
   "source": []
  }
 ],
 "metadata": {
  "kernelspec": {
   "display_name": "Python 3 (ipykernel)",
   "language": "python",
   "name": "python3"
  },
  "language_info": {
   "codemirror_mode": {
    "name": "ipython",
    "version": 3
   },
   "file_extension": ".py",
   "mimetype": "text/x-python",
   "name": "python",
   "nbconvert_exporter": "python",
   "pygments_lexer": "ipython3",
   "version": "3.12.7"
  }
 },
 "nbformat": 4,
 "nbformat_minor": 5
}
