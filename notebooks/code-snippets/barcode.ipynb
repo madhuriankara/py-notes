{
 "cells": [
  {
   "cell_type": "code",
   "execution_count": 1,
   "id": "d497a098-a5a2-40ab-8430-cb5074d64a2a",
   "metadata": {},
   "outputs": [
    {
     "name": "stdout",
     "output_type": "stream",
     "text": [
      "Collecting python-barcode\n",
      "  Downloading python_barcode-0.15.1-py3-none-any.whl.metadata (2.3 kB)\n",
      "Downloading python_barcode-0.15.1-py3-none-any.whl (212 kB)\n",
      "Installing collected packages: python-barcode\n",
      "Successfully installed python-barcode-0.15.1\n",
      "Note: you may need to restart the kernel to use updated packages.\n"
     ]
    }
   ],
   "source": [
    "pip install python-barcode\n"
   ]
  },
  {
   "cell_type": "code",
   "execution_count": 2,
   "id": "97ed9e23-2ee4-4be5-b92d-d3a8e3ac4cc6",
   "metadata": {},
   "outputs": [],
   "source": [
    "from barcode import EAN13"
   ]
  },
  {
   "cell_type": "code",
   "execution_count": 3,
   "id": "b76b268f-a0f6-4b12-ba8e-8324e3b64955",
   "metadata": {},
   "outputs": [],
   "source": [
    "from barcode.writer import ImageWriter"
   ]
  },
  {
   "cell_type": "code",
   "execution_count": 21,
   "id": "82a858ae-043b-4680-ae66-09e0fbebda51",
   "metadata": {},
   "outputs": [
    {
     "name": "stdout",
     "output_type": "stream",
     "text": [
      "Barcode saved as ean13_barcode.png\n",
      "The barcode 1234567890128 is valid.\n"
     ]
    }
   ],
   "source": [
    "def generate_ean13_barcode(number, filename):\n",
    "    \"\"\"\n",
    "    Generates an EAN-13 barcode and saves it as an image.\n",
    "    :param number: 12-digit string for the barcode.\n",
    "    :param filename: Name of the output file (without extension).\n",
    "    \"\"\"\n",
    "    if len(number) != 12 or not number.isdigit():\n",
    "        raise ValueError(\"EAN-13 requires a 12-digit input.\")\n",
    "\n",
    "    # Create an EAN-13 barcode\n",
    "    ean = EAN13(number, writer=ImageWriter())\n",
    "\n",
    "    # Save the barcode as an image\n",
    "    ean.save(filename)\n",
    "    print(f\"Barcode saved as {filename}.png\")\n",
    "\n",
    "def validate_ean13(number):\n",
    "    \"\"\"\n",
    "    Validates an EAN-13 barcode by calculating its checksum.\n",
    "    :param number: 13-digit string for the barcode.\n",
    "    :return: True if valid, False otherwise.\n",
    "    \"\"\"\n",
    "    if len(number) != 13 or not number.isdigit():\n",
    "        return False\n",
    "\n",
    "    # Calculate checksum\n",
    "    digits = list(map(int, number))\n",
    "    checksum = sum(digits[i] if i % 2 == 0 else digits[i] * 3 for i in range(12))\n",
    "    check_digit = (10 - (checksum % 10)) % 10\n",
    "\n",
    "    return check_digit == digits[-1]\n",
    "\n",
    "if __name__ == \"__main__\":\n",
    "    try:\n",
    "        # Example barcode number (12 digits for generation, 13 digits for validation)\n",
    "        barcode_number = \"123456789012\"  # Must be 12 digits for generation\n",
    "        validate_number = \"1234567890128\"  # Full 13 digits for validation\n",
    "\n",
    "        # Generate an EAN-13 barcode\n",
    "        generate_ean13_barcode(barcode_number, \"ean13_barcode\")\n",
    "\n",
    "        # Validate the EAN-13 barcode\n",
    "        is_valid = validate_ean13(validate_number)\n",
    "        print(f\"The barcode {validate_number} is {'valid' if is_valid else 'invalid'}.\")\n",
    "    except Exception as e:\n",
    "        print(f\"Error: {e}\")\n"
   ]
  },
  {
   "cell_type": "code",
   "execution_count": null,
   "id": "fd95ef3d-b596-420f-a151-3cff7bb90dfb",
   "metadata": {},
   "outputs": [],
   "source": []
  },
  {
   "cell_type": "code",
   "execution_count": null,
   "id": "89c75faf-4d80-451f-a2bb-896eba040f32",
   "metadata": {},
   "outputs": [],
   "source": [
    "\n",
    "            "
   ]
  },
  {
   "cell_type": "code",
   "execution_count": null,
   "id": "edc138fd-7050-4286-83f0-ae905c7a7e1e",
   "metadata": {},
   "outputs": [],
   "source": []
  }
 ],
 "metadata": {
  "kernelspec": {
   "display_name": "Python 3 (ipykernel)",
   "language": "python",
   "name": "python3"
  },
  "language_info": {
   "codemirror_mode": {
    "name": "ipython",
    "version": 3
   },
   "file_extension": ".py",
   "mimetype": "text/x-python",
   "name": "python",
   "nbconvert_exporter": "python",
   "pygments_lexer": "ipython3",
   "version": "3.12.7"
  }
 },
 "nbformat": 4,
 "nbformat_minor": 5
}
