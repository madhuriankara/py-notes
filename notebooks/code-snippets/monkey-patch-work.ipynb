{
 "cells": [
  {
   "cell_type": "code",
   "execution_count": null,
   "id": "d7c87ebd-b65f-41e2-9661-17d6d9bc2832",
   "metadata": {},
   "outputs": [],
   "source": []
  },
  {
   "cell_type": "code",
   "execution_count": 11,
   "id": "d795f0c1-09fa-4249-8ee4-9e395b1e617b",
   "metadata": {},
   "outputs": [
    {
     "name": "stdout",
     "output_type": "stream",
     "text": [
      "Requirement already satisfied: gevent in /opt/homebrew/Caskroom/miniconda/base/envs/py312/lib/python3.12/site-packages (24.11.1)\n",
      "Requirement already satisfied: zope.event in /opt/homebrew/Caskroom/miniconda/base/envs/py312/lib/python3.12/site-packages (from gevent) (5.0)\n",
      "Requirement already satisfied: zope.interface in /opt/homebrew/Caskroom/miniconda/base/envs/py312/lib/python3.12/site-packages (from gevent) (7.1.1)\n",
      "Requirement already satisfied: greenlet>=3.1.1 in /opt/homebrew/Caskroom/miniconda/base/envs/py312/lib/python3.12/site-packages (from gevent) (3.1.1)\n",
      "Requirement already satisfied: setuptools in /opt/homebrew/Caskroom/miniconda/base/envs/py312/lib/python3.12/site-packages (from zope.event->gevent) (75.1.0)\n"
     ]
    }
   ],
   "source": [
    "!pip install gevent"
   ]
  },
  {
   "cell_type": "code",
   "execution_count": 12,
   "id": "98bd6013-777e-441d-bd36-9f1989aca26c",
   "metadata": {},
   "outputs": [
    {
     "name": "stdout",
     "output_type": "stream",
     "text": [
      "working\n",
      "this will be printed after the first call to sleep\n",
      "working\n",
      "working\n",
      "working\n",
      "working\n",
      "working\n",
      "working\n",
      "working\n",
      "working\n",
      "working\n"
     ]
    }
   ],
   "source": [
    "\n",
    "\n",
    "from gevent import monkey, sleep\n",
    "monkey.patch_all()\n",
    "\n",
    "import threading \n",
    "\n",
    "\n",
    "class ExampleThread(threading.Thread):\n",
    "    def run(self):\n",
    "        for i in range(10):\n",
    "            print('working')\n",
    "            sleep()\n",
    "\n",
    "if __name__ == '__main__':\n",
    "    worker = ExampleThread()\n",
    "    worker.start()\n",
    "    print('this will be printed after the first call to sleep')"
   ]
  },
  {
   "cell_type": "code",
   "execution_count": null,
   "id": "ef6cdf4b-d9c4-4e7c-9d6f-df6f4b892f92",
   "metadata": {},
   "outputs": [],
   "source": []
  },
  {
   "cell_type": "code",
   "execution_count": null,
   "id": "6a0babef-bc09-44a6-b334-596b3f309d49",
   "metadata": {},
   "outputs": [],
   "source": []
  },
  {
   "cell_type": "code",
   "execution_count": null,
   "id": "99d83446-ebd8-40e2-a41f-a452cc6f2b25",
   "metadata": {},
   "outputs": [],
   "source": []
  }
 ],
 "metadata": {
  "kernelspec": {
   "display_name": "Python 3 (ipykernel)",
   "language": "python",
   "name": "python3"
  },
  "language_info": {
   "codemirror_mode": {
    "name": "ipython",
    "version": 3
   },
   "file_extension": ".py",
   "mimetype": "text/x-python",
   "name": "python",
   "nbconvert_exporter": "python",
   "pygments_lexer": "ipython3",
   "version": "3.12.7"
  }
 },
 "nbformat": 4,
 "nbformat_minor": 5
}
