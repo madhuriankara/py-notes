{
 "cells": [
  {
   "cell_type": "code",
   "execution_count": 1,
   "id": "596c4ca4-42e6-4824-8251-67f847cbbd8c",
   "metadata": {},
   "outputs": [],
   "source": [
    "#Reverse a string"
   ]
  },
  {
   "cell_type": "code",
   "execution_count": null,
   "id": "d6366611-7b36-49a8-bfc3-afcee433870a",
   "metadata": {},
   "outputs": [],
   "source": []
  },
  {
   "cell_type": "code",
   "execution_count": 13,
   "id": "7c085b0f-2d60-4ff9-95f1-44b003ba1b46",
   "metadata": {},
   "outputs": [
    {
     "name": "stdout",
     "output_type": "stream",
     "text": [
      "olleh\n"
     ]
    }
   ],
   "source": [
    "def rev_string(s:str) -> str:\n",
    "    return s[::-1]\n",
    "\n",
    "print(rev_string(\"hello\"))"
   ]
  },
  {
   "cell_type": "code",
   "execution_count": 35,
   "id": "c7fa9adf-e2ee-4efc-b0d4-900a3c057caa",
   "metadata": {},
   "outputs": [],
   "source": [
    "def reverse_string(word):\n",
    "    return word[::-1]\n",
    "    sentence = word.split()\n",
    "    \n",
    "    \n",
    "    print(f'{sentence}')"
   ]
  },
  {
   "cell_type": "code",
   "execution_count": 36,
   "id": "d9e089e9-5a87-4ad2-8698-1c2cd1ca2949",
   "metadata": {},
   "outputs": [
    {
     "data": {
      "text/plain": [
       "'dlrow olleH'"
      ]
     },
     "execution_count": 36,
     "metadata": {},
     "output_type": "execute_result"
    }
   ],
   "source": [
    "reverse_string(\"Hello world\")"
   ]
  },
  {
   "cell_type": "code",
   "execution_count": 37,
   "id": "17b589de-4774-49f9-81a5-c8fa2fab7f11",
   "metadata": {},
   "outputs": [],
   "source": [
    "#2.4. Find the Largest Element in an Array"
   ]
  },
  {
   "cell_type": "code",
   "execution_count": 43,
   "id": "3e7ed0a4-ba24-4596-84d5-1346bbcc4b3c",
   "metadata": {},
   "outputs": [
    {
     "name": "stdout",
     "output_type": "stream",
     "text": [
      "99\n"
     ]
    }
   ],
   "source": [
    "def find_largest_number(arr:list) -> int:\n",
    "    return max(arr)\n",
    "    \n",
    "print(find_largest_number([1,20,67,89,99]))\n",
    "    \n",
    "    "
   ]
  },
  {
   "cell_type": "code",
   "execution_count": 44,
   "id": "95ab105f-60b6-4e72-943c-a9572f2e48b6",
   "metadata": {},
   "outputs": [],
   "source": [
    "#6. Find Duplicates in an Array"
   ]
  },
  {
   "cell_type": "code",
   "execution_count": 45,
   "id": "4a51519d-277d-4a72-9aa2-c9b864a6ab03",
   "metadata": {},
   "outputs": [],
   "source": [
    "#count vowels"
   ]
  },
  {
   "cell_type": "code",
   "execution_count": 46,
   "id": "c4827de6-1a91-4e40-9090-6395f5ed1ba1",
   "metadata": {},
   "outputs": [],
   "source": [
    "def count_vowels(s: str) -> str:\n",
    "    vowels = len(aeiou)\n",
    "    "
   ]
  },
  {
   "cell_type": "code",
   "execution_count": 47,
   "id": "a00eb63d-27a7-4022-90c4-8ce08211d25e",
   "metadata": {},
   "outputs": [
    {
     "name": "stdout",
     "output_type": "stream",
     "text": [
      "<function count_vowels at 0x1068ef060>\n"
     ]
    }
   ],
   "source": [
    "print(count_vowels)"
   ]
  },
  {
   "cell_type": "code",
   "execution_count": null,
   "id": "cda71a79-8022-4912-bb4e-29a5870973b6",
   "metadata": {},
   "outputs": [],
   "source": []
  }
 ],
 "metadata": {
  "kernelspec": {
   "display_name": "Python 3 (ipykernel)",
   "language": "python",
   "name": "python3"
  },
  "language_info": {
   "codemirror_mode": {
    "name": "ipython",
    "version": 3
   },
   "file_extension": ".py",
   "mimetype": "text/x-python",
   "name": "python",
   "nbconvert_exporter": "python",
   "pygments_lexer": "ipython3",
   "version": "3.12.7"
  }
 },
 "nbformat": 4,
 "nbformat_minor": 5
}
