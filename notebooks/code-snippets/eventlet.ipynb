{
 "cells": [
  {
   "cell_type": "code",
   "execution_count": null,
   "id": "f07e88c2-2a5d-4238-a296-223d65480eb1",
   "metadata": {},
   "outputs": [],
   "source": []
  },
  {
   "cell_type": "code",
   "execution_count": 20,
   "id": "445b1778-f352-4c32-adc4-c2eff0a2abc0",
   "metadata": {},
   "outputs": [
    {
     "name": "stdout",
     "output_type": "stream",
     "text": [
      "Requirement already satisfied: eventlet in /opt/homebrew/Caskroom/miniconda/base/envs/py312/lib/python3.12/site-packages (0.38.0)\n",
      "Requirement already satisfied: dnspython>=1.15.0 in /opt/homebrew/Caskroom/miniconda/base/envs/py312/lib/python3.12/site-packages (from eventlet) (2.7.0)\n",
      "Requirement already satisfied: greenlet>=1.0 in /opt/homebrew/Caskroom/miniconda/base/envs/py312/lib/python3.12/site-packages (from eventlet) (3.1.1)\n"
     ]
    }
   ],
   "source": [
    "!pip install eventlet"
   ]
  },
  {
   "cell_type": "code",
   "execution_count": 25,
   "id": "7bf00817-ad0c-45f4-a606-27ee32557f8e",
   "metadata": {},
   "outputs": [
    {
     "name": "stdout",
     "output_type": "stream",
     "text": [
      "Got body: 527625\n",
      "Got body: 19395\n"
     ]
    }
   ],
   "source": [
    "import eventlet\n",
    "import urllib.request  # Use the Python 3 urllib.request\n",
    "\n",
    "def startpy():\n",
    "    urls = [\n",
    "        \"https://www.youtube.com/\",\n",
    "        \"https://www.google.com/\",\n",
    "    ]\n",
    "\n",
    "    def fetch(url):\n",
    "        # Use urllib from Python 3 to fetch data\n",
    "        with urllib.request.urlopen(url) as response:\n",
    "            return response.read()\n",
    "\n",
    "    pool = eventlet.GreenPool()\n",
    "\n",
    "    for body in pool.imap(fetch, urls):\n",
    "        print(\"Got body:\", len(body))\n",
    "\n",
    "if __name__ == '__main__':\n",
    "    startpy()\n"
   ]
  },
  {
   "cell_type": "code",
   "execution_count": 22,
   "id": "b6f29a6d-a64a-475d-8f81-ef63a8b816c9",
   "metadata": {},
   "outputs": [],
   "source": []
  },
  {
   "cell_type": "code",
   "execution_count": 18,
   "id": "3cf0e9ff-0dc6-4f76-9398-0f7aacc1fec4",
   "metadata": {},
   "outputs": [],
   "source": [
    "\n"
   ]
  },
  {
   "cell_type": "code",
   "execution_count": 17,
   "id": "0f0592aa-29cc-4237-93c5-59cf8e55b152",
   "metadata": {},
   "outputs": [],
   "source": []
  },
  {
   "cell_type": "code",
   "execution_count": null,
   "id": "b80c03b3-e85c-439f-8d74-87cedb647338",
   "metadata": {},
   "outputs": [],
   "source": []
  }
 ],
 "metadata": {
  "kernelspec": {
   "display_name": "Python 3 (ipykernel)",
   "language": "python",
   "name": "python3"
  },
  "language_info": {
   "codemirror_mode": {
    "name": "ipython",
    "version": 3
   },
   "file_extension": ".py",
   "mimetype": "text/x-python",
   "name": "python",
   "nbconvert_exporter": "python",
   "pygments_lexer": "ipython3",
   "version": "3.12.7"
  }
 },
 "nbformat": 4,
 "nbformat_minor": 5
}
