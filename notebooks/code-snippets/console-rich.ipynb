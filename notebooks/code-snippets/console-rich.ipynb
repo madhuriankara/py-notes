{
 "cells": [
  {
   "cell_type": "code",
   "execution_count": 1,
   "id": "fb5fbd15-834d-4e4d-875e-5896aaa99f2e",
   "metadata": {},
   "outputs": [
    {
     "name": "stdout",
     "output_type": "stream",
     "text": [
      "Requirement already satisfied: rich in /opt/homebrew/Caskroom/miniconda/base/envs/py312/lib/python3.12/site-packages (13.9.4)\n",
      "Requirement already satisfied: markdown-it-py>=2.2.0 in /opt/homebrew/Caskroom/miniconda/base/envs/py312/lib/python3.12/site-packages (from rich) (3.0.0)\n",
      "Requirement already satisfied: pygments<3.0.0,>=2.13.0 in /opt/homebrew/Caskroom/miniconda/base/envs/py312/lib/python3.12/site-packages (from rich) (2.18.0)\n",
      "Requirement already satisfied: mdurl~=0.1 in /opt/homebrew/Caskroom/miniconda/base/envs/py312/lib/python3.12/site-packages (from markdown-it-py>=2.2.0->rich) (0.1.2)\n",
      "Note: you may need to restart the kernel to use updated packages.\n"
     ]
    }
   ],
   "source": [
    "pip install rich\n"
   ]
  },
  {
   "cell_type": "code",
   "execution_count": 11,
   "id": "4304e411-6efe-4690-b061-511fe38e9368",
   "metadata": {},
   "outputs": [],
   "source": [
    "from rich.console import Console\n",
    "from rich.text import Text"
   ]
  },
  {
   "cell_type": "code",
   "execution_count": 12,
   "id": "fb0411c2-e542-4285-ab37-29eebb798630",
   "metadata": {},
   "outputs": [],
   "source": [
    "# Create a console object\n",
    "console = Console()"
   ]
  },
  {
   "cell_type": "code",
   "execution_count": null,
   "id": "9c58377a-d60f-456e-a17f-afbee8bed667",
   "metadata": {},
   "outputs": [],
   "source": []
  },
  {
   "cell_type": "code",
   "execution_count": 13,
   "id": "8b43ac30-d04c-43be-b328-07f8db358181",
   "metadata": {},
   "outputs": [
    {
     "data": {
      "text/html": [
       "<pre style=\"white-space:pre;overflow-x:auto;line-height:normal;font-family:Menlo,'DejaVu Sans Mono',consolas,'Courier New',monospace\"><span style=\"color: #008000; text-decoration-color: #008000; background-color: #000000; font-weight: bold\">Hello, world!</span><span style=\"color: #808000; text-decoration-color: #808000; background-color: #000000; font-weight: bold; text-decoration: underline\"> This is rich text!</span>\n",
       "</pre>\n"
      ],
      "text/plain": [
       "\u001b[1;32;40mHello, world!\u001b[0m\u001b[1;4;33;40m This is rich text!\u001b[0m\n"
      ]
     },
     "metadata": {},
     "output_type": "display_data"
    }
   ],
   "source": [
    "# Create rich text with styles\n",
    "text = Text(\"Hello, world!\", style=\"bold green on black\")\n",
    "text.append(\" This is rich text!\", style=\"underline yellow\")\n",
    "# Print the styled text to the console\n",
    "console.print(text)"
   ]
  },
  {
   "cell_type": "code",
   "execution_count": null,
   "id": "87087f1f-0c38-4d25-8d89-3ce0cee836be",
   "metadata": {},
   "outputs": [],
   "source": []
  },
  {
   "cell_type": "code",
   "execution_count": null,
   "id": "e0a18edd-2b38-487a-94f6-c8f9f914a43d",
   "metadata": {},
   "outputs": [],
   "source": []
  },
  {
   "cell_type": "code",
   "execution_count": null,
   "id": "58e65ea9-9ac4-48a0-98d0-579203c76b7f",
   "metadata": {},
   "outputs": [],
   "source": [
    "\n"
   ]
  },
  {
   "cell_type": "code",
   "execution_count": null,
   "id": "09c868d6-65e9-4248-b537-1859a7b44f45",
   "metadata": {},
   "outputs": [],
   "source": []
  }
 ],
 "metadata": {
  "kernelspec": {
   "display_name": "Python 3 (ipykernel)",
   "language": "python",
   "name": "python3"
  },
  "language_info": {
   "codemirror_mode": {
    "name": "ipython",
    "version": 3
   },
   "file_extension": ".py",
   "mimetype": "text/x-python",
   "name": "python",
   "nbconvert_exporter": "python",
   "pygments_lexer": "ipython3",
   "version": "3.12.7"
  }
 },
 "nbformat": 4,
 "nbformat_minor": 5
}
