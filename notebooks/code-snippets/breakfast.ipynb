{
 "cells": [
  {
   "cell_type": "code",
   "execution_count": 2,
   "id": "c110f703-87d2-4df0-b69e-3064392044c0",
   "metadata": {},
   "outputs": [],
   "source": [
    "import random as rd"
   ]
  },
  {
   "cell_type": "code",
   "execution_count": 3,
   "id": "3a7d50c5-a0cc-485a-8571-176f3a325402",
   "metadata": {},
   "outputs": [],
   "source": [
    "random_breakfast_bundle = [\n",
    "    [\"Tim Hortons\", \"Chicken Wrap\", 8.45],\n",
    "    [\"Tim Hortons\", \"Bacon Wrap\", 9.45],\n",
    "    [\"Tim Hortons\", \"Farmers Wrap and Medium double double\", 9.45],\n",
    "]"
   ]
  },
  {
   "cell_type": "code",
   "execution_count": 4,
   "id": "9950a4ae-b9b1-4a10-b082-6e2ec74d23d1",
   "metadata": {},
   "outputs": [],
   "source": [
    "random_breakfast = [\n",
    "    \"Scrambled Omelette\",\n",
    "    \"Chicken Wrap\"\n",
    "]\n",
    "\n",
    "random_amount = [\n",
    "    11.95,\n",
    "    12.95,\n",
    "    11.45,\n",
    "    9.45\n",
    "]\n",
    "\n"
   ]
  },
  {
   "cell_type": "code",
   "execution_count": 6,
   "id": "0f5a12a8-561b-4df8-9fe6-e6d3aa0f47d7",
   "metadata": {},
   "outputs": [],
   "source": [
    "def get_basic():\n",
    "    r_food = random_breakfast[ rd.randint(1, len(random_breakfast)-1)]\n",
    "    r_amount = random_amount[ rd.randint(1, len(random_breakfast)-1)]\n",
    "    \n",
    "    print(r_food, r_amount)\n",
    "\n"
   ]
  },
  {
   "cell_type": "code",
   "execution_count": 7,
   "id": "9c979aeb-97db-4997-a469-67f1d7ef8c09",
   "metadata": {},
   "outputs": [],
   "source": [
    "def get_advanced():\n",
    "    \n",
    "    r_food = random_breakfast_bundle[rd.randint(0, len(random_breakfast_bundle))-1]\n",
    "\n",
    "    print(r_food[0], r_food[1], r_food[2])\n",
    "\n",
    "    print(\"Jake Breakfast Details : \\n\")\n",
    "    print(\"Food : \", r_food[1])\n",
    "    print(\"at : \", r_food[0])\n",
    "    print(\"cost : \", r_food[2])\n",
    "\n"
   ]
  },
  {
   "cell_type": "code",
   "execution_count": 9,
   "id": "91ec8cef-bd00-408e-ba25-80b94e8554f2",
   "metadata": {},
   "outputs": [],
   "source": [
    "def startpy():\n",
    "    #get_basic()\n",
    "\n",
    "    get_advanced()\n",
    "\n"
   ]
  },
  {
   "cell_type": "code",
   "execution_count": 10,
   "id": "adb6738f-c50d-481a-83b8-2b9106794b76",
   "metadata": {},
   "outputs": [
    {
     "name": "stdout",
     "output_type": "stream",
     "text": [
      "Tim Hortons Farmers Wrap and Medium double double 9.45\n",
      "Jake Breakfast Details : \n",
      "\n",
      "Food :  Farmers Wrap and Medium double double\n",
      "at :  Tim Hortons\n",
      "cost :  9.45\n"
     ]
    }
   ],
   "source": [
    "if __name__ == '__main__':\n",
    "    startpy()"
   ]
  },
  {
   "cell_type": "code",
   "execution_count": null,
   "id": "03f79664-2a71-4478-b5d9-5770f8d66184",
   "metadata": {},
   "outputs": [],
   "source": []
  }
 ],
 "metadata": {
  "kernelspec": {
   "display_name": "Python 3 (ipykernel)",
   "language": "python",
   "name": "python3"
  },
  "language_info": {
   "codemirror_mode": {
    "name": "ipython",
    "version": 3
   },
   "file_extension": ".py",
   "mimetype": "text/x-python",
   "name": "python",
   "nbconvert_exporter": "python",
   "pygments_lexer": "ipython3",
   "version": "3.12.7"
  }
 },
 "nbformat": 4,
 "nbformat_minor": 5
}
