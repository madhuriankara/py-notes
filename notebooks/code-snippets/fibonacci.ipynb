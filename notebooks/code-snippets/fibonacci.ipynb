{
 "cells": [
  {
   "cell_type": "code",
   "execution_count": 6,
   "id": "c81e32ed-45d9-4778-9e0c-790a5890d67b",
   "metadata": {},
   "outputs": [],
   "source": [
    "def fibonacci(n):\n",
    "    if n == 0: return 0\n",
    "    elif n == 1: return 1\n",
    "    else: return fibonacci(n-1)+fibonacci(n-2)"
   ]
  },
  {
   "cell_type": "code",
   "execution_count": 7,
   "id": "b84e9681-341c-4d63-a619-2b2df2ae1394",
   "metadata": {},
   "outputs": [],
   "source": [
    "## Example 1: Using looping technique\n",
    "def fib(n):\n",
    "    \n",
    "    a, b = 1, 1\n",
    "\n",
    "    for i in range(n-1):\n",
    "        a, b = b, a+b\n",
    "        print('b : ', b)\n",
    "\n",
    "    return b"
   ]
  },
  {
   "cell_type": "code",
   "execution_count": 8,
   "id": "cb18d8d5-5b8e-4e13-9a6f-243549f659d9",
   "metadata": {},
   "outputs": [],
   "source": [
    "## Example 1: Using looping technique\n",
    "def fib_with_target(size, list):\n",
    "    \n",
    "    a, b = 0, 1\n",
    "\n",
    "    for i in range(size):\n",
    "        a, b = b, a+b\n",
    "        print('Target#  '+str(i)+' - ', b)\n",
    "\n",
    "        list.append(b)\n",
    "\n",
    "    return b     "
   ]
  },
  {
   "cell_type": "code",
   "execution_count": 9,
   "id": "95598131-05c0-47e3-8ad4-369ff35e287e",
   "metadata": {},
   "outputs": [],
   "source": [
    "def startpy():\n",
    "    #a = fibonacci(10)\n",
    "    #print(a)\n",
    "\n",
    "    print(fib_with_target(23, []))"
   ]
  },
  {
   "cell_type": "code",
   "execution_count": 10,
   "id": "202a90b6-6139-4d9a-b0c1-3c76e02da3c6",
   "metadata": {},
   "outputs": [
    {
     "name": "stdout",
     "output_type": "stream",
     "text": [
      "Target#  0 -  1\n",
      "Target#  1 -  2\n",
      "Target#  2 -  3\n",
      "Target#  3 -  5\n",
      "Target#  4 -  8\n",
      "Target#  5 -  13\n",
      "Target#  6 -  21\n",
      "Target#  7 -  34\n",
      "Target#  8 -  55\n",
      "Target#  9 -  89\n",
      "Target#  10 -  144\n",
      "Target#  11 -  233\n",
      "Target#  12 -  377\n",
      "Target#  13 -  610\n",
      "Target#  14 -  987\n",
      "Target#  15 -  1597\n",
      "Target#  16 -  2584\n",
      "Target#  17 -  4181\n",
      "Target#  18 -  6765\n",
      "Target#  19 -  10946\n",
      "Target#  20 -  17711\n",
      "Target#  21 -  28657\n",
      "Target#  22 -  46368\n",
      "46368\n"
     ]
    }
   ],
   "source": [
    "if __name__ == '__main__':\n",
    "    startpy()"
   ]
  },
  {
   "cell_type": "code",
   "execution_count": null,
   "id": "0c7c804c-d0a0-4b17-bc77-d6eafb79c47d",
   "metadata": {},
   "outputs": [],
   "source": []
  },
  {
   "cell_type": "code",
   "execution_count": null,
   "id": "e477a92c-141b-480c-97df-9b749d3b4d02",
   "metadata": {},
   "outputs": [],
   "source": []
  },
  {
   "cell_type": "code",
   "execution_count": null,
   "id": "77645d86-d301-4a35-9bbd-8748a6cfe3ab",
   "metadata": {},
   "outputs": [],
   "source": []
  },
  {
   "cell_type": "code",
   "execution_count": null,
   "id": "c319e5c6-5374-4331-916e-c4aebccea529",
   "metadata": {},
   "outputs": [],
   "source": []
  }
 ],
 "metadata": {
  "kernelspec": {
   "display_name": "Python 3 (ipykernel)",
   "language": "python",
   "name": "python3"
  },
  "language_info": {
   "codemirror_mode": {
    "name": "ipython",
    "version": 3
   },
   "file_extension": ".py",
   "mimetype": "text/x-python",
   "name": "python",
   "nbconvert_exporter": "python",
   "pygments_lexer": "ipython3",
   "version": "3.12.7"
  }
 },
 "nbformat": 4,
 "nbformat_minor": 5
}
