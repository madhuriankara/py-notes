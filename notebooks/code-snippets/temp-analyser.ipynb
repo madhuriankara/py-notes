{
 "cells": [
  {
   "cell_type": "code",
   "execution_count": null,
   "id": "0e4dbd15-6eb6-49e2-8f1b-a1ffda99f1a2",
   "metadata": {},
   "outputs": [],
   "source": []
  },
  {
   "cell_type": "code",
   "execution_count": 4,
   "id": "c3c14a0f-0cfe-436e-a827-83649d3803ef",
   "metadata": {},
   "outputs": [
    {
     "name": "stdout",
     "output_type": "stream",
     "text": [
      "Requirement already satisfied: selenium in /opt/homebrew/Caskroom/miniconda/base/envs/py312/lib/python3.12/site-packages (4.26.1)\n",
      "Requirement already satisfied: urllib3<3,>=1.26 in /opt/homebrew/Caskroom/miniconda/base/envs/py312/lib/python3.12/site-packages (from urllib3[socks]<3,>=1.26->selenium) (2.2.3)\n",
      "Requirement already satisfied: trio~=0.17 in /opt/homebrew/Caskroom/miniconda/base/envs/py312/lib/python3.12/site-packages (from selenium) (0.27.0)\n",
      "Requirement already satisfied: trio-websocket~=0.9 in /opt/homebrew/Caskroom/miniconda/base/envs/py312/lib/python3.12/site-packages (from selenium) (0.11.1)\n",
      "Requirement already satisfied: certifi>=2021.10.8 in /opt/homebrew/Caskroom/miniconda/base/envs/py312/lib/python3.12/site-packages (from selenium) (2024.8.30)\n",
      "Requirement already satisfied: typing_extensions~=4.9 in /opt/homebrew/Caskroom/miniconda/base/envs/py312/lib/python3.12/site-packages (from selenium) (4.12.2)\n",
      "Requirement already satisfied: websocket-client~=1.8 in /opt/homebrew/Caskroom/miniconda/base/envs/py312/lib/python3.12/site-packages (from selenium) (1.8.0)\n",
      "Requirement already satisfied: attrs>=23.2.0 in /opt/homebrew/Caskroom/miniconda/base/envs/py312/lib/python3.12/site-packages (from trio~=0.17->selenium) (24.2.0)\n",
      "Requirement already satisfied: sortedcontainers in /opt/homebrew/Caskroom/miniconda/base/envs/py312/lib/python3.12/site-packages (from trio~=0.17->selenium) (2.4.0)\n",
      "Requirement already satisfied: idna in /opt/homebrew/Caskroom/miniconda/base/envs/py312/lib/python3.12/site-packages (from trio~=0.17->selenium) (3.10)\n",
      "Requirement already satisfied: outcome in /opt/homebrew/Caskroom/miniconda/base/envs/py312/lib/python3.12/site-packages (from trio~=0.17->selenium) (1.3.0.post0)\n",
      "Requirement already satisfied: sniffio>=1.3.0 in /opt/homebrew/Caskroom/miniconda/base/envs/py312/lib/python3.12/site-packages (from trio~=0.17->selenium) (1.3.1)\n",
      "Requirement already satisfied: wsproto>=0.14 in /opt/homebrew/Caskroom/miniconda/base/envs/py312/lib/python3.12/site-packages (from trio-websocket~=0.9->selenium) (1.2.0)\n",
      "Requirement already satisfied: pysocks!=1.5.7,<2.0,>=1.5.6 in /opt/homebrew/Caskroom/miniconda/base/envs/py312/lib/python3.12/site-packages (from urllib3[socks]<3,>=1.26->selenium) (1.7.1)\n",
      "Requirement already satisfied: h11<1,>=0.9.0 in /opt/homebrew/Caskroom/miniconda/base/envs/py312/lib/python3.12/site-packages (from wsproto>=0.14->trio-websocket~=0.9->selenium) (0.14.0)\n"
     ]
    }
   ],
   "source": [
    "!pip install selenium"
   ]
  },
  {
   "cell_type": "code",
   "execution_count": 8,
   "id": "134c3f9c-f480-4b2a-aaa8-01e96d84a837",
   "metadata": {},
   "outputs": [],
   "source": [
    "from bs4 import BeautifulSoup\n",
    "from selenium import webdriver\n",
    "from selenium.webdriver.common.by import By\n",
    "from selenium.webdriver.support.select import Select\n",
    "from selenium.webdriver.support.ui import WebDriverWait\n",
    "from selenium.webdriver.support import expected_conditions as EC\n",
    "import os"
   ]
  },
  {
   "cell_type": "code",
   "execution_count": 21,
   "id": "6468930f-ab66-4ac4-af79-29b43f366911",
   "metadata": {},
   "outputs": [],
   "source": [
    "filename = \"temp_emails.txt\""
   ]
  },
  {
   "cell_type": "code",
   "execution_count": 22,
   "id": "024cddf7-e110-4fea-825c-052442ff50f3",
   "metadata": {},
   "outputs": [],
   "source": [
    "email_map = {}\n",
    "\n",
    "def get_email():\n",
    "    \n",
    "    phantomjs_path = r'C:\\Phantom\\phantomjs-2.1.1-windows\\bin\\phantomjs.exe';\n",
    "    driver = webdriver.PhantomJS(phantomjs_path)\n",
    "    wait = WebDriverWait(driver, 10)\n",
    "\n",
    "    url = 'https://temp-mail.org/'\n",
    "    driver.get(url)\n",
    "\n",
    "    #print(driver);\n",
    "\n",
    "    pagehtml = driver.page_source;\n",
    "    soup = BeautifulSoup(pagehtml, \"html5lib\")\n",
    "    emailInput = soup.find('input', {\"class\": \"mail\"});\n",
    "    print(emailInput.get('value'));\n",
    "    #print()\n",
    "    return emailInput.get('value')"
   ]
  },
  {
   "cell_type": "code",
   "execution_count": 30,
   "id": "452836dd-b478-4afd-abc4-0608fb7ae44e",
   "metadata": {},
   "outputs": [],
   "source": [
    "def storeEmailInFile(email, localFilename):\n",
    "    hs = open(localFilename,\"a\")\n",
    "    if(os.path.getsize(localFilename) > 0):\n",
    "        hs.write(\"\\n\"+email)\n",
    "    else:\n",
    "        hs.write(email)\n",
    "\n",
    "    hs.close()"
   ]
  },
  {
   "cell_type": "code",
   "execution_count": 33,
   "id": "582c08ef-b802-4af3-b95f-e2c3bb62e690",
   "metadata": {},
   "outputs": [],
   "source": [
    "def get_dummy_emails():\n",
    "    for x in range(10):\n",
    "        email = get_email()\n",
    "        \n",
    "        storeEmailInFile(email, filename)"
   ]
  },
  {
   "cell_type": "code",
   "execution_count": 34,
   "id": "97170f9b-e563-4d9a-b075-830f11db4954",
   "metadata": {},
   "outputs": [
    {
     "name": "stdout",
     "output_type": "stream",
     "text": [
      "example.com\n",
      "testmail.com\n",
      "domain.com\n",
      "mailbox.org\n",
      "fastmail.com\n",
      "outlook.com\n",
      "protonmail.com\n",
      "gmail.com\n",
      "yahoo.com\n",
      "customdomain.net\n",
      "{'69postix.info\\\\n\",': 31, 'kumail8.info\\\\n\",': 29, 'youzend.net\\\\n\",': 31, 'ugimail.net\\\\n\",': 27, 'endrix.org\\\\n\",': 31, 'cryp.email\\\\n\",': 33, '0mixmail.info\\\\n\",': 36, 'crypemail.info\\\\n\",': 23, '20boxme.org\\\\n\",': 30, 'send22u.info\\\\n\",': 38, 'mail4-us.org\\\\n\",': 29, 'kumail8.info\"': 0, 'example.com': 3, 'testmail.com': 3, 'domain.com': 3, 'mailbox.org': 3, 'fastmail.com': 3, 'outlook.com': 3, 'protonmail.com': 3, 'gmail.com': 3, 'yahoo.com': 3, 'customdomain.net': 3}\n"
     ]
    }
   ],
   "source": [
    "def read_email_file(localFilename):\n",
    "    f = open(localFilename)\n",
    "\n",
    "    for line in f.readlines():\n",
    "        email = line.strip()\n",
    "        \n",
    "        username = email.split('@')[0]\n",
    "        domain = email.split('@')[1]\n",
    "        print(domain)\n",
    "        \n",
    "        if(domain in email_map):\n",
    "            email_map[domain] += 1\n",
    "        else:\n",
    "            email_map[domain] = 0\n",
    "\n",
    "read_email_file(filename)\n",
    "\n",
    "print(email_map)"
   ]
  },
  {
   "cell_type": "code",
   "execution_count": null,
   "id": "77319936-91d6-41d4-972c-de936be56281",
   "metadata": {},
   "outputs": [],
   "source": []
  },
  {
   "cell_type": "code",
   "execution_count": null,
   "id": "19f641a0-b04d-4868-91e1-ab4655df2129",
   "metadata": {},
   "outputs": [],
   "source": []
  },
  {
   "cell_type": "code",
   "execution_count": null,
   "id": "e140f667-0abd-4daf-9172-41413275e3cd",
   "metadata": {},
   "outputs": [],
   "source": []
  }
 ],
 "metadata": {
  "kernelspec": {
   "display_name": "Python 3 (ipykernel)",
   "language": "python",
   "name": "python3"
  },
  "language_info": {
   "codemirror_mode": {
    "name": "ipython",
    "version": 3
   },
   "file_extension": ".py",
   "mimetype": "text/x-python",
   "name": "python",
   "nbconvert_exporter": "python",
   "pygments_lexer": "ipython3",
   "version": "3.12.7"
  }
 },
 "nbformat": 4,
 "nbformat_minor": 5
}
