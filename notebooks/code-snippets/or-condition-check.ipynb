{
 "cells": [
  {
   "cell_type": "code",
   "execution_count": 15,
   "id": "c161fe0a-c63b-4484-b52b-86e1d116b065",
   "metadata": {},
   "outputs": [
    {
     "name": "stdout",
     "output_type": "stream",
     "text": [
      "one two\n"
     ]
    }
   ],
   "source": [
    "def get_master_data(namespace, \n",
    "                    entity,\n",
    "                    filter_in = None,\n",
    "                    return_ = None,\n",
    "                    return_expect = None):\n",
    "\n",
    "    param_available = False\n",
    "\n",
    "    \n",
    "    if(filter_in or return_ or return_expect):\n",
    "        param_available = True\n",
    "\n",
    "    print(f'param available : {param_available}')\n",
    "\n",
    "\n",
    "def append_test():\n",
    "\n",
    "    x = \"one\"\n",
    "\n",
    "    x += \" two\"\n",
    "\n",
    "    print(x)\n",
    "\n",
    "\n",
    "\n",
    "def startpy():\n",
    "    \n",
    "    # get_master_data('ns', 'en')\n",
    "    # get_master_data('ns', 'en', filter_in='a>4')\n",
    "\n",
    "    append_test()\n",
    "\n",
    "\n",
    "if __name__ == '__main__':\n",
    "    startpy()"
   ]
  },
  {
   "cell_type": "code",
   "execution_count": null,
   "id": "e645e1ec-482a-427b-9f51-74d68ecb790b",
   "metadata": {},
   "outputs": [],
   "source": []
  }
 ],
 "metadata": {
  "kernelspec": {
   "display_name": "Python 3 (ipykernel)",
   "language": "python",
   "name": "python3"
  },
  "language_info": {
   "codemirror_mode": {
    "name": "ipython",
    "version": 3
   },
   "file_extension": ".py",
   "mimetype": "text/x-python",
   "name": "python",
   "nbconvert_exporter": "python",
   "pygments_lexer": "ipython3",
   "version": "3.12.7"
  }
 },
 "nbformat": 4,
 "nbformat_minor": 5
}
