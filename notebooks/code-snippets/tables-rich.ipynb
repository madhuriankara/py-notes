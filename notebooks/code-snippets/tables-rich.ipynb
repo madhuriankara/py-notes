{
 "cells": [
  {
   "cell_type": "code",
   "execution_count": 35,
   "id": "e36704ec-9139-4035-8ba5-96262f6d353d",
   "metadata": {},
   "outputs": [],
   "source": [
    "from rich.console import Console\n",
    "from rich.table import Table"
   ]
  },
  {
   "cell_type": "code",
   "execution_count": 36,
   "id": "4958ea2c-fbc6-4ca7-acd4-a8b436c0f980",
   "metadata": {},
   "outputs": [],
   "source": [
    "# Create a table object\n",
    "table = Table(title=\"Example Table\")"
   ]
  },
  {
   "cell_type": "code",
   "execution_count": 37,
   "id": "e0642d62-b7d9-4089-a175-e77028be9bfd",
   "metadata": {},
   "outputs": [],
   "source": [
    "# Add columns to the table\n",
    "table.add_column(\"ID\", justify=\"right\", style=\"cyan\", no_wrap=True)\n",
    "table.add_column(\"Name\", style=\"magenta\")\n",
    "table.add_column(\"Age\", justify=\"center\", style=\"green\")"
   ]
  },
  {
   "cell_type": "code",
   "execution_count": 38,
   "id": "6d2c61ca-739b-4178-9e33-6da2fe82b83c",
   "metadata": {},
   "outputs": [],
   "source": [
    "# Add rows to the table\n",
    "table.add_row(\"1\", \"Alice\", \"24\")\n",
    "table.add_row(\"2\", \"Bob\", \"30\")\n",
    "table.add_row(\"3\", \"Charlie\", \"22\")"
   ]
  },
  {
   "cell_type": "code",
   "execution_count": 39,
   "id": "5330cdea-4e72-4594-8272-230b16fed4ec",
   "metadata": {},
   "outputs": [
    {
     "data": {
      "text/html": [
       "<pre style=\"white-space:pre;overflow-x:auto;line-height:normal;font-family:Menlo,'DejaVu Sans Mono',consolas,'Courier New',monospace\"><span style=\"font-style: italic\">    Example Table     </span>\n",
       "┏━━━━┳━━━━━━━━━┳━━━━━┓\n",
       "┃<span style=\"font-weight: bold\"> ID </span>┃<span style=\"font-weight: bold\"> Name    </span>┃<span style=\"font-weight: bold\"> Age </span>┃\n",
       "┡━━━━╇━━━━━━━━━╇━━━━━┩\n",
       "│<span style=\"color: #008080; text-decoration-color: #008080\">  1 </span>│<span style=\"color: #800080; text-decoration-color: #800080\"> Alice   </span>│<span style=\"color: #008000; text-decoration-color: #008000\"> 24  </span>│\n",
       "│<span style=\"color: #008080; text-decoration-color: #008080\">  2 </span>│<span style=\"color: #800080; text-decoration-color: #800080\"> Bob     </span>│<span style=\"color: #008000; text-decoration-color: #008000\"> 30  </span>│\n",
       "│<span style=\"color: #008080; text-decoration-color: #008080\">  3 </span>│<span style=\"color: #800080; text-decoration-color: #800080\"> Charlie </span>│<span style=\"color: #008000; text-decoration-color: #008000\"> 22  </span>│\n",
       "└────┴─────────┴─────┘\n",
       "</pre>\n"
      ],
      "text/plain": [
       "\u001b[3m    Example Table     \u001b[0m\n",
       "┏━━━━┳━━━━━━━━━┳━━━━━┓\n",
       "┃\u001b[1m \u001b[0m\u001b[1mID\u001b[0m\u001b[1m \u001b[0m┃\u001b[1m \u001b[0m\u001b[1mName   \u001b[0m\u001b[1m \u001b[0m┃\u001b[1m \u001b[0m\u001b[1mAge\u001b[0m\u001b[1m \u001b[0m┃\n",
       "┡━━━━╇━━━━━━━━━╇━━━━━┩\n",
       "│\u001b[36m \u001b[0m\u001b[36m 1\u001b[0m\u001b[36m \u001b[0m│\u001b[35m \u001b[0m\u001b[35mAlice  \u001b[0m\u001b[35m \u001b[0m│\u001b[32m \u001b[0m\u001b[32m24 \u001b[0m\u001b[32m \u001b[0m│\n",
       "│\u001b[36m \u001b[0m\u001b[36m 2\u001b[0m\u001b[36m \u001b[0m│\u001b[35m \u001b[0m\u001b[35mBob    \u001b[0m\u001b[35m \u001b[0m│\u001b[32m \u001b[0m\u001b[32m30 \u001b[0m\u001b[32m \u001b[0m│\n",
       "│\u001b[36m \u001b[0m\u001b[36m 3\u001b[0m\u001b[36m \u001b[0m│\u001b[35m \u001b[0m\u001b[35mCharlie\u001b[0m\u001b[35m \u001b[0m│\u001b[32m \u001b[0m\u001b[32m22 \u001b[0m\u001b[32m \u001b[0m│\n",
       "└────┴─────────┴─────┘\n"
      ]
     },
     "metadata": {},
     "output_type": "display_data"
    }
   ],
   "source": [
    "# Create a console object\n",
    "console = Console()\n",
    "\n",
    "# Print the table to the console\n",
    "console.print(table)"
   ]
  },
  {
   "cell_type": "code",
   "execution_count": 40,
   "id": "dd17f4cd-0691-4ad3-b5e0-15544356a8cd",
   "metadata": {},
   "outputs": [],
   "source": [
    "# Add rows to the table\n",
    "table.add_row(\"1\", \"Madhuri\", \"36\")\n",
    "table.add_row(\"2\", \"Keerthi\", \"33\")\n",
    "table.add_row(\"3\", \"Anu\", \"32\")"
   ]
  },
  {
   "cell_type": "code",
   "execution_count": 41,
   "id": "4575787e-b3f2-4f52-bb69-c1e736efc4b1",
   "metadata": {},
   "outputs": [
    {
     "data": {
      "text/html": [
       "<pre style=\"white-space:pre;overflow-x:auto;line-height:normal;font-family:Menlo,'DejaVu Sans Mono',consolas,'Courier New',monospace\"><span style=\"font-style: italic\">    Example Table     </span>\n",
       "┏━━━━┳━━━━━━━━━┳━━━━━┓\n",
       "┃<span style=\"font-weight: bold\"> ID </span>┃<span style=\"font-weight: bold\"> Name    </span>┃<span style=\"font-weight: bold\"> Age </span>┃\n",
       "┡━━━━╇━━━━━━━━━╇━━━━━┩\n",
       "│<span style=\"color: #008080; text-decoration-color: #008080\">  1 </span>│<span style=\"color: #800080; text-decoration-color: #800080\"> Alice   </span>│<span style=\"color: #008000; text-decoration-color: #008000\"> 24  </span>│\n",
       "│<span style=\"color: #008080; text-decoration-color: #008080\">  2 </span>│<span style=\"color: #800080; text-decoration-color: #800080\"> Bob     </span>│<span style=\"color: #008000; text-decoration-color: #008000\"> 30  </span>│\n",
       "│<span style=\"color: #008080; text-decoration-color: #008080\">  3 </span>│<span style=\"color: #800080; text-decoration-color: #800080\"> Charlie </span>│<span style=\"color: #008000; text-decoration-color: #008000\"> 22  </span>│\n",
       "│<span style=\"color: #008080; text-decoration-color: #008080\">  1 </span>│<span style=\"color: #800080; text-decoration-color: #800080\"> Madhuri </span>│<span style=\"color: #008000; text-decoration-color: #008000\"> 36  </span>│\n",
       "│<span style=\"color: #008080; text-decoration-color: #008080\">  2 </span>│<span style=\"color: #800080; text-decoration-color: #800080\"> Keerthi </span>│<span style=\"color: #008000; text-decoration-color: #008000\"> 33  </span>│\n",
       "│<span style=\"color: #008080; text-decoration-color: #008080\">  3 </span>│<span style=\"color: #800080; text-decoration-color: #800080\"> Anu     </span>│<span style=\"color: #008000; text-decoration-color: #008000\"> 32  </span>│\n",
       "└────┴─────────┴─────┘\n",
       "</pre>\n"
      ],
      "text/plain": [
       "\u001b[3m    Example Table     \u001b[0m\n",
       "┏━━━━┳━━━━━━━━━┳━━━━━┓\n",
       "┃\u001b[1m \u001b[0m\u001b[1mID\u001b[0m\u001b[1m \u001b[0m┃\u001b[1m \u001b[0m\u001b[1mName   \u001b[0m\u001b[1m \u001b[0m┃\u001b[1m \u001b[0m\u001b[1mAge\u001b[0m\u001b[1m \u001b[0m┃\n",
       "┡━━━━╇━━━━━━━━━╇━━━━━┩\n",
       "│\u001b[36m \u001b[0m\u001b[36m 1\u001b[0m\u001b[36m \u001b[0m│\u001b[35m \u001b[0m\u001b[35mAlice  \u001b[0m\u001b[35m \u001b[0m│\u001b[32m \u001b[0m\u001b[32m24 \u001b[0m\u001b[32m \u001b[0m│\n",
       "│\u001b[36m \u001b[0m\u001b[36m 2\u001b[0m\u001b[36m \u001b[0m│\u001b[35m \u001b[0m\u001b[35mBob    \u001b[0m\u001b[35m \u001b[0m│\u001b[32m \u001b[0m\u001b[32m30 \u001b[0m\u001b[32m \u001b[0m│\n",
       "│\u001b[36m \u001b[0m\u001b[36m 3\u001b[0m\u001b[36m \u001b[0m│\u001b[35m \u001b[0m\u001b[35mCharlie\u001b[0m\u001b[35m \u001b[0m│\u001b[32m \u001b[0m\u001b[32m22 \u001b[0m\u001b[32m \u001b[0m│\n",
       "│\u001b[36m \u001b[0m\u001b[36m 1\u001b[0m\u001b[36m \u001b[0m│\u001b[35m \u001b[0m\u001b[35mMadhuri\u001b[0m\u001b[35m \u001b[0m│\u001b[32m \u001b[0m\u001b[32m36 \u001b[0m\u001b[32m \u001b[0m│\n",
       "│\u001b[36m \u001b[0m\u001b[36m 2\u001b[0m\u001b[36m \u001b[0m│\u001b[35m \u001b[0m\u001b[35mKeerthi\u001b[0m\u001b[35m \u001b[0m│\u001b[32m \u001b[0m\u001b[32m33 \u001b[0m\u001b[32m \u001b[0m│\n",
       "│\u001b[36m \u001b[0m\u001b[36m 3\u001b[0m\u001b[36m \u001b[0m│\u001b[35m \u001b[0m\u001b[35mAnu    \u001b[0m\u001b[35m \u001b[0m│\u001b[32m \u001b[0m\u001b[32m32 \u001b[0m\u001b[32m \u001b[0m│\n",
       "└────┴─────────┴─────┘\n"
      ]
     },
     "metadata": {},
     "output_type": "display_data"
    }
   ],
   "source": [
    "console.print(table)"
   ]
  },
  {
   "cell_type": "code",
   "execution_count": null,
   "id": "50dac365-1d5d-43f2-9350-5f8dcb20299a",
   "metadata": {},
   "outputs": [],
   "source": []
  }
 ],
 "metadata": {
  "kernelspec": {
   "display_name": "Python 3 (ipykernel)",
   "language": "python",
   "name": "python3"
  },
  "language_info": {
   "codemirror_mode": {
    "name": "ipython",
    "version": 3
   },
   "file_extension": ".py",
   "mimetype": "text/x-python",
   "name": "python",
   "nbconvert_exporter": "python",
   "pygments_lexer": "ipython3",
   "version": "3.12.7"
  }
 },
 "nbformat": 4,
 "nbformat_minor": 5
}
