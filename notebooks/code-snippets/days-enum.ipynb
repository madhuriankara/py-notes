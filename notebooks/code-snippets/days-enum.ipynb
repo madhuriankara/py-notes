{
 "cells": [
  {
   "cell_type": "code",
   "execution_count": 1,
   "id": "15c8f125-15a0-4257-b7aa-623aff96cba7",
   "metadata": {},
   "outputs": [],
   "source": [
    "from enum import Enum, auto"
   ]
  },
  {
   "cell_type": "code",
   "execution_count": 2,
   "id": "0421516b-e236-4c80-80b6-12dfc3a26122",
   "metadata": {},
   "outputs": [],
   "source": [
    "# Define an enumeration for days of the week\n",
    "class Weekday(Enum):\n",
    "    MONDAY = auto()\n",
    "    TUESDAY = auto()\n",
    "    WEDNESDAY = auto()\n",
    "    THURSDAY = auto()\n",
    "    FRIDAY = auto()\n",
    "    SATURDAY = auto()\n",
    "    SUNDAY = auto()"
   ]
  },
  {
   "cell_type": "code",
   "execution_count": 4,
   "id": "b8e31afa-94e3-470a-9242-66c76800db18",
   "metadata": {},
   "outputs": [],
   "source": [
    " #Function to check if a given day is a weekday or weekend\n",
    "def is_weekend(day):\n",
    "    if day in (Weekday.SATURDAY, Weekday.SUNDAY):\n",
    "        return True\n",
    "    return False"
   ]
  },
  {
   "cell_type": "code",
   "execution_count": 11,
   "id": "55b6c655-70c4-4a9f-9deb-d68d119808bc",
   "metadata": {},
   "outputs": [
    {
     "name": "stdout",
     "output_type": "stream",
     "text": [
      "Day: THURSDAY\n",
      "Is it a weekend? No\n"
     ]
    }
   ],
   "source": [
    "# Example usage\n",
    "day = Weekday.THURSDAY\n",
    "\n",
    "print(f\"Day: {day.name}\")\n",
    "print(f\"Is it a weekend? {'Yes' if is_weekend(day) else 'No'}\")\n"
   ]
  },
  {
   "cell_type": "code",
   "execution_count": 13,
   "id": "7541f786-3ad2-43da-bdf7-d9fc5d738483",
   "metadata": {},
   "outputs": [
    {
     "name": "stdout",
     "output_type": "stream",
     "text": [
      "Day: SATURDAY\n",
      "Is it a weekend? Yes\n"
     ]
    }
   ],
   "source": [
    "# Example usage\n",
    "day = Weekday.SATURDAY\n",
    "\n",
    "print(f\"Day: {day.name}\")\n",
    "print(f\"Is it a weekend? {'Yes' if is_weekend(day) else 'No'}\")\n"
   ]
  },
  {
   "cell_type": "code",
   "execution_count": null,
   "id": "e6e2f444-7d91-4f05-8026-74519e7f300e",
   "metadata": {},
   "outputs": [],
   "source": []
  }
 ],
 "metadata": {
  "kernelspec": {
   "display_name": "Python 3 (ipykernel)",
   "language": "python",
   "name": "python3"
  },
  "language_info": {
   "codemirror_mode": {
    "name": "ipython",
    "version": 3
   },
   "file_extension": ".py",
   "mimetype": "text/x-python",
   "name": "python",
   "nbconvert_exporter": "python",
   "pygments_lexer": "ipython3",
   "version": "3.12.7"
  }
 },
 "nbformat": 4,
 "nbformat_minor": 5
}
