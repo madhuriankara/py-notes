{
 "cells": [
  {
   "cell_type": "code",
   "execution_count": 3,
   "id": "9fe6ed95-c8fc-4edf-a748-4ca60c7a9fff",
   "metadata": {},
   "outputs": [],
   "source": [
    "import smtplib\n",
    "from email.mime.multipart import MIMEMultipart\n",
    "from email.mime.text import MIMEText\n",
    "\n"
   ]
  },
  {
   "cell_type": "code",
   "execution_count": 11,
   "id": "919481ca-4f71-4ea7-8a7c-6e2107d15118",
   "metadata": {},
   "outputs": [],
   "source": [
    "# Sender and receiver email addresses\n",
    "sender_email = 'your_email@gmail.com'\n",
    "receiver_email = 'receiver_email@example.com'\n",
    "password = 'your_email_password'"
   ]
  },
  {
   "cell_type": "code",
   "execution_count": 12,
   "id": "6f742269-cc93-4f50-ac31-6bbce1b1e165",
   "metadata": {},
   "outputs": [],
   "source": [
    "# Create the MIME message\n",
    "message = MIMEMultipart()\n",
    "message['From'] = sender_email\n",
    "message['To'] = receiver_email\n",
    "message['Subject'] = 'Test Email from Python'"
   ]
  },
  {
   "cell_type": "code",
   "execution_count": 13,
   "id": "1938d355-4d41-47c9-9f9f-093bbfed0166",
   "metadata": {},
   "outputs": [],
   "source": [
    "# Body of the email\n",
    "body = 'Hello, this is a test email sent from Python using smtplib!'\n",
    "message.attach(MIMEText(body, 'plain'))"
   ]
  },
  {
   "cell_type": "code",
   "execution_count": 14,
   "id": "eef301a4-9c06-4311-a0fd-40bc145534bc",
   "metadata": {},
   "outputs": [
    {
     "name": "stdout",
     "output_type": "stream",
     "text": [
      "Error: (535, b'5.7.8 Username and Password not accepted. For more information, go to\\n5.7.8  https://support.google.com/mail/?p=BadCredentials 6a1803df08f44-6d451a83a97sm12404156d6.7 - gsmtp')\n"
     ]
    }
   ],
   "source": [
    "# Connect to the Gmail SMTP server\n",
    "try:\n",
    "    with smtplib.SMTP('smtp.gmail.com', 587) as server:\n",
    "        server.starttls()  # Start TLS encryption\n",
    "        server.login(sender_email, password)  # Login to the server\n",
    "        \n",
    "        # Send the email\n",
    "        text = message.as_string()\n",
    "        server.sendmail(sender_email, receiver_email, text)\n",
    "        \n",
    "        print(\"Email sent successfully!\")\n",
    "except Exception as e:\n",
    "    print(f\"Error: {e}\")\n"
   ]
  },
  {
   "cell_type": "code",
   "execution_count": null,
   "id": "e6fb89e2-99a5-4738-b86f-a6ddd98d2ce3",
   "metadata": {},
   "outputs": [],
   "source": []
  }
 ],
 "metadata": {
  "kernelspec": {
   "display_name": "Python 3 (ipykernel)",
   "language": "python",
   "name": "python3"
  },
  "language_info": {
   "codemirror_mode": {
    "name": "ipython",
    "version": 3
   },
   "file_extension": ".py",
   "mimetype": "text/x-python",
   "name": "python",
   "nbconvert_exporter": "python",
   "pygments_lexer": "ipython3",
   "version": "3.12.7"
  }
 },
 "nbformat": 4,
 "nbformat_minor": 5
}
