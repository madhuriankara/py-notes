{
 "cells": [
  {
   "cell_type": "code",
   "execution_count": null,
   "id": "21f4fcc2-ed02-4698-a31b-e6fb3c0a8750",
   "metadata": {},
   "outputs": [
    {
     "name": "stdout",
     "output_type": "stream",
     "text": [
      "Job is running!\n",
      "Job is running!\n",
      "Job is running!\n",
      "Job is running!\n",
      "Job is running!\n",
      "Job is running!\n",
      "Job is running!\n",
      "Job is running!\n",
      "Job is running!\n",
      "Job is running!\n",
      "Job is running!\n",
      "Job is running!\n",
      "Job is running!\n",
      "Job is running!\n",
      "Job is running!\n",
      "Job is running!\n"
     ]
    }
   ],
   "source": [
    "import schedule\n",
    "import time\n",
    "\n",
    "# Define the task function\n",
    "def job():\n",
    "    print(\"Job is running!\")\n",
    "\n",
    "# Schedule the job to run every 2 seconds\n",
    "schedule.every(2).seconds.do(job)\n",
    "\n",
    "# Keep the program running\n",
    "while True:\n",
    "    schedule.run_pending()  # Run all pending tasks\n",
    "    time.sleep(1)  # Wait for 1 second\n"
   ]
  },
  {
   "cell_type": "code",
   "execution_count": null,
   "id": "cdce73ce-8f45-4d86-be9d-2a88c2abba82",
   "metadata": {},
   "outputs": [],
   "source": []
  },
  {
   "cell_type": "code",
   "execution_count": null,
   "id": "c3a2e3cb-4708-4a77-8e4e-d1ae41aac40f",
   "metadata": {},
   "outputs": [],
   "source": []
  },
  {
   "cell_type": "code",
   "execution_count": null,
   "id": "5527a26f-c109-4937-8bad-1c3d99b6959c",
   "metadata": {},
   "outputs": [],
   "source": []
  },
  {
   "cell_type": "code",
   "execution_count": null,
   "id": "017c5e40-97b3-4e46-aeec-b886024454eb",
   "metadata": {},
   "outputs": [],
   "source": []
  },
  {
   "cell_type": "code",
   "execution_count": null,
   "id": "f36b8a2b-da56-40fe-8feb-d3aa63a35a50",
   "metadata": {},
   "outputs": [],
   "source": []
  },
  {
   "cell_type": "code",
   "execution_count": null,
   "id": "2c14b64c-9c63-4e65-a5f7-8f29741d7528",
   "metadata": {},
   "outputs": [],
   "source": []
  },
  {
   "cell_type": "code",
   "execution_count": null,
   "id": "ec532d43-d5dc-460f-97c7-fcc72750e653",
   "metadata": {},
   "outputs": [],
   "source": []
  },
  {
   "cell_type": "code",
   "execution_count": null,
   "id": "1dadf1da-891f-4c96-acfc-c2d6f7633069",
   "metadata": {},
   "outputs": [],
   "source": []
  },
  {
   "cell_type": "code",
   "execution_count": null,
   "id": "494f2330-6345-45cd-9340-2cc7ae9d9413",
   "metadata": {},
   "outputs": [],
   "source": []
  },
  {
   "cell_type": "code",
   "execution_count": null,
   "id": "b03a2047-48df-49e4-88f7-90733819165a",
   "metadata": {},
   "outputs": [],
   "source": []
  }
 ],
 "metadata": {
  "kernelspec": {
   "display_name": "Python 3 (ipykernel)",
   "language": "python",
   "name": "python3"
  },
  "language_info": {
   "codemirror_mode": {
    "name": "ipython",
    "version": 3
   },
   "file_extension": ".py",
   "mimetype": "text/x-python",
   "name": "python",
   "nbconvert_exporter": "python",
   "pygments_lexer": "ipython3",
   "version": "3.12.7"
  }
 },
 "nbformat": 4,
 "nbformat_minor": 5
}
