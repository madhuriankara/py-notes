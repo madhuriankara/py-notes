{
 "cells": [
  {
   "cell_type": "code",
   "execution_count": null,
   "id": "6b438bd5-4b48-482a-a773-7d6751685a5f",
   "metadata": {},
   "outputs": [],
   "source": []
  },
  {
   "cell_type": "code",
   "execution_count": null,
   "id": "c64cc0de-3712-45d2-94c1-28cb53a7c1fd",
   "metadata": {},
   "outputs": [],
   "source": []
  },
  {
   "cell_type": "code",
   "execution_count": null,
   "id": "ed04a58e-88a4-4593-b5dc-b3ee392211f9",
   "metadata": {},
   "outputs": [],
   "source": [
    "\n"
   ]
  },
  {
   "cell_type": "code",
   "execution_count": null,
   "id": "4e26190d-d877-4ac7-9b07-1352c620e457",
   "metadata": {},
   "outputs": [],
   "source": [
    "import schedule\n",
    "import time\n",
    "\n",
    "# Define task functions\n",
    "def task_1():\n",
    "    print(\"Task 1: Running every 5 seconds\")\n",
    "\n",
    "def task_2():\n",
    "    print(\"Task 2: Running every 10 seconds\")\n",
    "\n",
    "# Schedule tasks\n",
    "schedule.every(5).seconds.do(task_1)\n",
    "schedule.every(10).seconds.do(task_2)\n",
    "\n",
    "# Keep the program running\n",
    "while True:\n",
    "    schedule.run_pending()  # Run all pending tasks\n",
    "    time.sleep(1)  # Wait for 1 second\n",
    "\n"
   ]
  },
  {
   "cell_type": "code",
   "execution_count": null,
   "id": "16a96440-ab74-4dfe-a0e2-872c62e7bf60",
   "metadata": {},
   "outputs": [],
   "source": []
  },
  {
   "cell_type": "code",
   "execution_count": null,
   "id": "c7c13a91-4241-47e9-b5e5-790de51f6e09",
   "metadata": {},
   "outputs": [],
   "source": []
  },
  {
   "cell_type": "code",
   "execution_count": null,
   "id": "71e65d7d-d88a-4915-a3a0-5c5dd594c07c",
   "metadata": {},
   "outputs": [],
   "source": []
  },
  {
   "cell_type": "code",
   "execution_count": null,
   "id": "4fc5ad01-7819-48b8-940b-810ce60fbcc9",
   "metadata": {},
   "outputs": [],
   "source": []
  },
  {
   "cell_type": "code",
   "execution_count": null,
   "id": "08a5e82b-3d54-4e15-8129-7d6b1b110ad3",
   "metadata": {},
   "outputs": [],
   "source": []
  },
  {
   "cell_type": "code",
   "execution_count": null,
   "id": "aa243bf3-9880-478e-bc77-0c3000c33b6b",
   "metadata": {},
   "outputs": [],
   "source": []
  }
 ],
 "metadata": {
  "kernelspec": {
   "display_name": "Python 3 (ipykernel)",
   "language": "python",
   "name": "python3"
  },
  "language_info": {
   "codemirror_mode": {
    "name": "ipython",
    "version": 3
   },
   "file_extension": ".py",
   "mimetype": "text/x-python",
   "name": "python",
   "nbconvert_exporter": "python",
   "pygments_lexer": "ipython3",
   "version": "3.12.7"
  }
 },
 "nbformat": 4,
 "nbformat_minor": 5
}
