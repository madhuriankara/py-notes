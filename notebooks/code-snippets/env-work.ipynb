{
 "cells": [
  {
   "cell_type": "code",
   "execution_count": 10,
   "id": "1455d7d7-566f-4781-a3f1-4d69e4ab080b",
   "metadata": {},
   "outputs": [],
   "source": [
    "import os"
   ]
  },
  {
   "cell_type": "code",
   "execution_count": 11,
   "id": "98db5240-54da-4c8b-bc83-4b48c3d1d36c",
   "metadata": {},
   "outputs": [],
   "source": [
    "import json"
   ]
  },
  {
   "cell_type": "code",
   "execution_count": 12,
   "id": "34ff86e0-5808-4e4c-b978-76834ef06971",
   "metadata": {},
   "outputs": [],
   "source": [
    "# Convert environment variables to a dictionary\n",
    "env_vars = dict(os.environ)"
   ]
  },
  {
   "cell_type": "code",
   "execution_count": 13,
   "id": "1a12173f-8a00-4b53-9338-56210e164840",
   "metadata": {},
   "outputs": [],
   "source": [
    "# Convert dictionary to JSON string\n",
    "env_vars_json = json.dumps(env_vars, indent=4)"
   ]
  },
  {
   "cell_type": "code",
   "execution_count": 14,
   "id": "7e42e798-68ed-4c73-8c40-8e8a076327e6",
   "metadata": {},
   "outputs": [
    {
     "name": "stdout",
     "output_type": "stream",
     "text": [
      "{\n",
      "    \"TERM_SESSION_ID\": \"w0t11p0:730CFA34-89B1-4DCB-A032-5C447F2FFA8F\",\n",
      "    \"SSH_AUTH_SOCK\": \"/private/tmp/com.apple.launchd.fkke2I3hcY/Listeners\",\n",
      "    \"LC_TERMINAL_VERSION\": \"3.5.8\",\n",
      "    \"COLORFGBG\": \"15;0\",\n",
      "    \"ITERM_PROFILE\": \"Default\",\n",
      "    \"SQLITE_EXEMPT_PATH_FROM_VNODE_GUARDS\": \"/Users/madhuriankaraboyina/Library/WebKit/Databases\",\n",
      "    \"XPC_FLAGS\": \"0x0\",\n",
      "    \"LANG\": \"en_CA.UTF-8\",\n",
      "    \"PWD\": \"/Users/madhuriankaraboyina/tact/madhuri_space/pynotes\",\n",
      "    \"SHELL\": \"/bin/zsh\",\n",
      "    \"__CFBundleIdentifier\": \"com.googlecode.iterm2\",\n",
      "    \"TERM_FEATURES\": \"T3LrMSc7UUw9Ts3BFGsSyHNoSxF\",\n",
      "    \"TERM_PROGRAM_VERSION\": \"3.5.8\",\n",
      "    \"TERM_PROGRAM\": \"iTerm.app\",\n",
      "    \"PATH\": \"/Users/madhuriankaraboyina/.gem/ruby/3.3.5/bin:/Users/madhuriankaraboyina/.rubies/ruby-3.3.5/lib/ruby/gems/3.3.0/bin:/Users/madhuriankaraboyina/.rubies/ruby-3.3.5/bin:/opt/homebrew/Caskroom/miniconda/base/envs/py312/bin:/opt/homebrew/Caskroom/miniconda/base/condabin:/opt/homebrew/bin:/opt/homebrew/sbin:/usr/local/bin:/System/Cryptexes/App/usr/bin:/usr/bin:/bin:/usr/sbin:/sbin:/var/run/com.apple.security.cryptexd/codex.system/bootstrap/usr/local/bin:/var/run/com.apple.security.cryptexd/codex.system/bootstrap/usr/bin:/var/run/com.apple.security.cryptexd/codex.system/bootstrap/usr/appleinternal/bin:/Applications/iTerm.app/Contents/Resources/utilities\",\n",
      "    \"LC_TERMINAL\": \"iTerm2\",\n",
      "    \"COLORTERM\": \"truecolor\",\n",
      "    \"COMMAND_MODE\": \"unix2003\",\n",
      "    \"TERM\": \"xterm-color\",\n",
      "    \"TERMINFO_DIRS\": \"/Applications/iTerm.app/Contents/Resources/terminfo:/usr/share/terminfo\",\n",
      "    \"HOME\": \"/Users/madhuriankaraboyina\",\n",
      "    \"TMPDIR\": \"/var/folders/26/1_zstvd1579g9j700z2jnmp40000gn/T/\",\n",
      "    \"USER\": \"madhuriankaraboyina\",\n",
      "    \"XPC_SERVICE_NAME\": \"0\",\n",
      "    \"LOGNAME\": \"madhuriankaraboyina\",\n",
      "    \"__CF_USER_TEXT_ENCODING\": \"0x0:0:0\",\n",
      "    \"ITERM_SESSION_ID\": \"w0t11p0:730CFA34-89B1-4DCB-A032-5C447F2FFA8F\",\n",
      "    \"SHLVL\": \"1\",\n",
      "    \"OLDPWD\": \"/Users/madhuriankaraboyina/tact/madhuri_space\",\n",
      "    \"HOMEBREW_PREFIX\": \"/opt/homebrew\",\n",
      "    \"HOMEBREW_CELLAR\": \"/opt/homebrew/Cellar\",\n",
      "    \"HOMEBREW_REPOSITORY\": \"/opt/homebrew\",\n",
      "    \"INFOPATH\": \"/opt/homebrew/share/info:\",\n",
      "    \"P9K_TTY\": \"old\",\n",
      "    \"_P9K_TTY\": \"/dev/ttys015\",\n",
      "    \"ZSH\": \"/Users/madhuriankaraboyina/.oh-my-zsh\",\n",
      "    \"PAGER\": \"cat\",\n",
      "    \"LESS\": \"-R\",\n",
      "    \"LSCOLORS\": \"Gxfxcxdxbxegedabagacad\",\n",
      "    \"LS_COLORS\": \"di=1;36:ln=35:so=32:pi=33:ex=31:bd=34;46:cd=34;43:su=30;41:sg=30;46:tw=30;42:ow=30;43\",\n",
      "    \"P9K_SSH\": \"0\",\n",
      "    \"_P9K_SSH_TTY\": \"/dev/ttys015\",\n",
      "    \"CONDA_EXE\": \"/opt/homebrew/Caskroom/miniconda/base/bin/conda\",\n",
      "    \"_CE_M\": \"\",\n",
      "    \"_CE_CONDA\": \"\",\n",
      "    \"CONDA_PYTHON_EXE\": \"/opt/homebrew/Caskroom/miniconda/base/bin/python\",\n",
      "    \"CONDA_SHLVL\": \"2\",\n",
      "    \"CONDA_PREFIX\": \"/opt/homebrew/Caskroom/miniconda/base/envs/py312\",\n",
      "    \"CONDA_DEFAULT_ENV\": \"py312\",\n",
      "    \"CONDA_PROMPT_MODIFIER\": \"(py312) \",\n",
      "    \"RUBY_ROOT\": \"/Users/madhuriankaraboyina/.rubies/ruby-3.3.5\",\n",
      "    \"RUBYOPT\": \"\",\n",
      "    \"RUBY_ENGINE\": \"ruby\",\n",
      "    \"RUBY_VERSION\": \"3.3.5\",\n",
      "    \"GEM_ROOT\": \"/Users/madhuriankaraboyina/.rubies/ruby-3.3.5/lib/ruby/gems/3.3.0\",\n",
      "    \"GEM_HOME\": \"/Users/madhuriankaraboyina/.gem/ruby/3.3.5\",\n",
      "    \"GEM_PATH\": \"/Users/madhuriankaraboyina/.gem/ruby/3.3.5:/Users/madhuriankaraboyina/.rubies/ruby-3.3.5/lib/ruby/gems/3.3.0\",\n",
      "    \"CONDA_PREFIX_1\": \"/opt/homebrew/Caskroom/miniconda/base\",\n",
      "    \"_\": \"/opt/homebrew/Caskroom/miniconda/base/envs/py312/bin/jupyter\",\n",
      "    \"JPY_SESSION_NAME\": \"/Users/madhuriankaraboyina/tact/madhuri_space/pynotes/notebooks/code-snippets/Untitled.ipynb\",\n",
      "    \"JPY_PARENT_PID\": \"68562\",\n",
      "    \"PYDEVD_USE_FRAME_EVAL\": \"NO\",\n",
      "    \"CLICOLOR\": \"1\",\n",
      "    \"FORCE_COLOR\": \"1\",\n",
      "    \"CLICOLOR_FORCE\": \"1\",\n",
      "    \"GIT_PAGER\": \"cat\",\n",
      "    \"MPLBACKEND\": \"module://matplotlib_inline.backend_inline\"\n",
      "}\n"
     ]
    }
   ],
   "source": [
    "# Print or save the JSON string\n",
    "print(env_vars_json)\n",
    "# Optionally, you can write it to a file\n",
    "with open(\"env_vars.json\", \"w\") as f:\n",
    "    f.write(env_vars_json)\n"
   ]
  },
  {
   "cell_type": "code",
   "execution_count": null,
   "id": "ed96649c-5fdf-4659-a468-c7fbbb7daf2a",
   "metadata": {},
   "outputs": [],
   "source": []
  },
  {
   "cell_type": "code",
   "execution_count": null,
   "id": "c48493c8-6cd4-417d-9216-35b627c38f60",
   "metadata": {},
   "outputs": [],
   "source": []
  }
 ],
 "metadata": {
  "kernelspec": {
   "display_name": "Python 3 (ipykernel)",
   "language": "python",
   "name": "python3"
  },
  "language_info": {
   "codemirror_mode": {
    "name": "ipython",
    "version": 3
   },
   "file_extension": ".py",
   "mimetype": "text/x-python",
   "name": "python",
   "nbconvert_exporter": "python",
   "pygments_lexer": "ipython3",
   "version": "3.12.7"
  }
 },
 "nbformat": 4,
 "nbformat_minor": 5
}
