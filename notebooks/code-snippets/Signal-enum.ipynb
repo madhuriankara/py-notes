{
 "cells": [
  {
   "cell_type": "code",
   "execution_count": 5,
   "id": "934df31e-8e35-4c23-ae04-1ae3c732e76d",
   "metadata": {},
   "outputs": [],
   "source": [
    "from enum import Enum"
   ]
  },
  {
   "cell_type": "code",
   "execution_count": 6,
   "id": "15ad0d16-589e-4fa6-9afb-ec4918518a83",
   "metadata": {},
   "outputs": [],
   "source": [
    "class TrafficLight(Enum):\n",
    "    RED = 1\n",
    "    YELLOW = 2\n",
    "    GREEN = 3"
   ]
  },
  {
   "cell_type": "code",
   "execution_count": 7,
   "id": "f421ce49-c1f2-4336-a9e0-db4d0910c97e",
   "metadata": {},
   "outputs": [],
   "source": [
    "def traffic_light_action(light):\n",
    "    if light == TrafficLight.RED:\n",
    "        return \"Stop\"\n",
    "    elif light == TrafficLight.YELLOW:\n",
    "        return \"Slow down\"\n",
    "    elif light == TrafficLight.GREEN:\n",
    "        return \"Go\"\n",
    "    else:\n",
    "        return \"Invalid light\""
   ]
  },
  {
   "cell_type": "code",
   "execution_count": 8,
   "id": "fb321fed-c8da-41e1-8c7b-4a82226bfa72",
   "metadata": {},
   "outputs": [
    {
     "name": "stdout",
     "output_type": "stream",
     "text": [
      "Traffic light is RED: Stop\n"
     ]
    }
   ],
   "source": [
    "# Example usage\n",
    "light = TrafficLight.RED\n",
    "print(f\"Traffic light is {light.name}: {traffic_light_action(light)}\")"
   ]
  },
  {
   "cell_type": "code",
   "execution_count": 9,
   "id": "a3eab58b-1b47-4db3-8e37-22b929428021",
   "metadata": {},
   "outputs": [
    {
     "name": "stdout",
     "output_type": "stream",
     "text": [
      "Traffic light is YELLOW: Slow down\n"
     ]
    }
   ],
   "source": [
    "light = TrafficLight.YELLOW\n",
    "print(f\"Traffic light is {light.name}: {traffic_light_action(light)}\")"
   ]
  },
  {
   "cell_type": "code",
   "execution_count": 11,
   "id": "fbf5f6ca-51e8-4aa7-92e3-a861ae158dd1",
   "metadata": {},
   "outputs": [
    {
     "name": "stdout",
     "output_type": "stream",
     "text": [
      "Traffic light is GREEN: Go\n"
     ]
    }
   ],
   "source": [
    "light = TrafficLight.GREEN\n",
    "print(f\"Traffic light is {light.name}: {traffic_light_action(light)}\")"
   ]
  },
  {
   "cell_type": "code",
   "execution_count": null,
   "id": "2ee8a4a2-236f-433f-9e32-8e247827555d",
   "metadata": {},
   "outputs": [],
   "source": []
  }
 ],
 "metadata": {
  "kernelspec": {
   "display_name": "Python 3 (ipykernel)",
   "language": "python",
   "name": "python3"
  },
  "language_info": {
   "codemirror_mode": {
    "name": "ipython",
    "version": 3
   },
   "file_extension": ".py",
   "mimetype": "text/x-python",
   "name": "python",
   "nbconvert_exporter": "python",
   "pygments_lexer": "ipython3",
   "version": "3.12.7"
  }
 },
 "nbformat": 4,
 "nbformat_minor": 5
}
