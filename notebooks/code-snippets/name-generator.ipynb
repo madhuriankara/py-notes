{
 "cells": [
  {
   "cell_type": "code",
   "execution_count": 1,
   "id": "4271341f-e2eb-4a3c-a90f-919d8f4aa1b0",
   "metadata": {},
   "outputs": [],
   "source": [
    "import random"
   ]
  },
  {
   "cell_type": "code",
   "execution_count": 17,
   "id": "785460ae-4dd7-41d6-9d37-d7594efeb2fe",
   "metadata": {},
   "outputs": [],
   "source": [
    "def generate_random_name():\n",
    "    first_names = [\"Alice\", \"Bob\", \"Charlie\", \"Diana\", \"Eve\", \"Frank\", \"Grace\", \"Hank\"]\n",
    "    last_names = [\"Smith\", \"Johnson\", \"Williams\", \"Brown\", \"Jones\", \"Garcia\", \"Miller\", \"Davis\"]\n",
    "    first_name = random.choice(first_names)\n",
    "    last_name  = random.choice(last_names)\n",
    "    full_name = f\"{first_name}{last_name}\"\n",
    "    return full_name"
   ]
  },
  {
   "cell_type": "code",
   "execution_count": 18,
   "id": "c258b33e-fef2-4145-8a93-f3fc6a34fb5f",
   "metadata": {},
   "outputs": [
    {
     "name": "stdout",
     "output_type": "stream",
     "text": [
      "Randomly Generated Names:\n",
      "GraceGarcia\n",
      "EveJones\n",
      "FrankBrown\n",
      "FrankJohnson\n",
      "DianaBrown\n"
     ]
    }
   ],
   "source": [
    "if __name__ == \"__main__\":\n",
    "    print(\"Randomly Generated Names:\")\n",
    "    for _ in range(5):\n",
    "        print(generate_random_name())"
   ]
  },
  {
   "cell_type": "code",
   "execution_count": 19,
   "id": "3cb2d4a6-6656-4f4a-a675-b565e3e92da8",
   "metadata": {},
   "outputs": [
    {
     "name": "stdout",
     "output_type": "stream",
     "text": [
      "Randomly Generated Names:\n",
      "DianaMiller\n",
      "EveJones\n",
      "EveJohnson\n",
      "BobBrown\n",
      "DianaJohnson\n"
     ]
    }
   ],
   "source": [
    "if __name__ == \"__main__\":\n",
    "    print(\"Randomly Generated Names:\")\n",
    "    for _ in range(5):\n",
    "        print(generate_random_name())"
   ]
  },
  {
   "cell_type": "code",
   "execution_count": null,
   "id": "d4ed69ee-f5f1-41a0-a7b2-386e59a31f1b",
   "metadata": {},
   "outputs": [],
   "source": []
  }
 ],
 "metadata": {
  "kernelspec": {
   "display_name": "Python 3 (ipykernel)",
   "language": "python",
   "name": "python3"
  },
  "language_info": {
   "codemirror_mode": {
    "name": "ipython",
    "version": 3
   },
   "file_extension": ".py",
   "mimetype": "text/x-python",
   "name": "python",
   "nbconvert_exporter": "python",
   "pygments_lexer": "ipython3",
   "version": "3.12.7"
  }
 },
 "nbformat": 4,
 "nbformat_minor": 5
}
