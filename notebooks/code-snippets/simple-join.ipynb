{
 "cells": [
  {
   "cell_type": "code",
   "execution_count": 27,
   "id": "79a39e30-25b6-481a-9f38-d36b204abcfb",
   "metadata": {},
   "outputs": [],
   "source": [
    "from pypika import Query, Table"
   ]
  },
  {
   "cell_type": "code",
   "execution_count": null,
   "id": "7aff695c-373e-454d-8a66-048c60563a36",
   "metadata": {},
   "outputs": [],
   "source": []
  },
  {
   "cell_type": "code",
   "execution_count": 28,
   "id": "8dd05304-8050-42ac-93c0-341d8b77814f",
   "metadata": {},
   "outputs": [],
   "source": [
    "# Define tables\n",
    "users = Table(\"users\")\n",
    "orders = Table(\"orders\")\n",
    "\n"
   ]
  },
  {
   "cell_type": "code",
   "execution_count": 29,
   "id": "ff269b5a-a564-447e-8d7d-5c06ccc46750",
   "metadata": {},
   "outputs": [],
   "source": [
    "# Build a JOIN query\n",
    "query = (\n",
    "    Query.from_(users)\n",
    "    .join(orders)\n",
    "    .on(users.id == orders.user_id)\n",
    "    .select(users.name, orders.order_date)\n",
    ")"
   ]
  },
  {
   "cell_type": "code",
   "execution_count": 30,
   "id": "6dc96bc3-fd80-4a01-8e17-76d8718ffb83",
   "metadata": {},
   "outputs": [
    {
     "name": "stdout",
     "output_type": "stream",
     "text": [
      "SELECT \"users\".\"name\",\"orders\".\"order_date\" FROM \"users\" JOIN \"orders\" ON \"users\".\"id\"=\"orders\".\"user_id\"\n"
     ]
    }
   ],
   "source": [
    "print(query)"
   ]
  },
  {
   "cell_type": "code",
   "execution_count": null,
   "id": "4c91d25a-df95-4c2a-9e43-d3a4e42d99fd",
   "metadata": {},
   "outputs": [],
   "source": []
  }
 ],
 "metadata": {
  "kernelspec": {
   "display_name": "Python 3 (ipykernel)",
   "language": "python",
   "name": "python3"
  },
  "language_info": {
   "codemirror_mode": {
    "name": "ipython",
    "version": 3
   },
   "file_extension": ".py",
   "mimetype": "text/x-python",
   "name": "python",
   "nbconvert_exporter": "python",
   "pygments_lexer": "ipython3",
   "version": "3.12.7"
  }
 },
 "nbformat": 4,
 "nbformat_minor": 5
}
