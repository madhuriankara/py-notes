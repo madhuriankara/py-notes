{
 "cells": [
  {
   "cell_type": "code",
   "execution_count": 1,
   "id": "79a39e30-25b6-481a-9f38-d36b204abcfb",
   "metadata": {},
   "outputs": [],
   "source": [
    "from pypika import Query, Table\n",
    "\n",
    "# Define tables\n",
    "users = Table(\"users\")\n",
    "orders = Table(\"orders\")\n",
    "\n",
    "# Build a JOIN query\n",
    "query = (\n",
    "    Query.from_(users)\n",
    "    .join(orders)\n",
    "    .on(users.id == orders.user_id)\n",
    "    .select(users.name, orders.order_date)\n",
    ")\n",
    "\n",
    "\n"
   ]
  },
  {
   "cell_type": "code",
   "execution_count": 2,
   "id": "7aff695c-373e-454d-8a66-048c60563a36",
   "metadata": {},
   "outputs": [
    {
     "name": "stdout",
     "output_type": "stream",
     "text": [
      "SELECT \"users\".\"name\",\"orders\".\"order_date\" FROM \"users\" JOIN \"orders\" ON \"users\".\"id\"=\"orders\".\"user_id\"\n"
     ]
    }
   ],
   "source": [
    "print(query)"
   ]
  },
  {
   "cell_type": "code",
   "execution_count": null,
   "id": "8dd05304-8050-42ac-93c0-341d8b77814f",
   "metadata": {},
   "outputs": [],
   "source": []
  }
 ],
 "metadata": {
  "kernelspec": {
   "display_name": "Python 3 (ipykernel)",
   "language": "python",
   "name": "python3"
  },
  "language_info": {
   "codemirror_mode": {
    "name": "ipython",
    "version": 3
   },
   "file_extension": ".py",
   "mimetype": "text/x-python",
   "name": "python",
   "nbconvert_exporter": "python",
   "pygments_lexer": "ipython3",
   "version": "3.12.7"
  }
 },
 "nbformat": 4,
 "nbformat_minor": 5
}
