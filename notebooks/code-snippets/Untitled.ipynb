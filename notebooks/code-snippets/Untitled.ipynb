{
 "cells": [
  {
   "cell_type": "code",
   "execution_count": 4,
   "id": "dbf2135d-a63d-4b13-917a-9ce0c29893ba",
   "metadata": {},
   "outputs": [
    {
     "ename": "ModuleNotFoundError",
     "evalue": "No module named 'nmap'",
     "output_type": "error",
     "traceback": [
      "\u001b[0;31m---------------------------------------------------------------------------\u001b[0m",
      "\u001b[0;31mModuleNotFoundError\u001b[0m                       Traceback (most recent call last)",
      "Cell \u001b[0;32mIn[4], line 1\u001b[0m\n\u001b[0;32m----> 1\u001b[0m \u001b[38;5;28;01mimport\u001b[39;00m \u001b[38;5;21;01mnmap\u001b[39;00m                         \u001b[38;5;66;03m# import nmap.py module\u001b[39;00m\n\u001b[1;32m      2\u001b[0m nm \u001b[38;5;241m=\u001b[39m nmap\u001b[38;5;241m.\u001b[39mPortScanner()             \u001b[38;5;66;03m# instantiate nmap.PortScanner object\u001b[39;00m\n\u001b[1;32m      3\u001b[0m nm\u001b[38;5;241m.\u001b[39mscan(\u001b[38;5;124m'\u001b[39m\u001b[38;5;124m127.0.0.1\u001b[39m\u001b[38;5;124m'\u001b[39m, \u001b[38;5;124m'\u001b[39m\u001b[38;5;124m22-443\u001b[39m\u001b[38;5;124m'\u001b[39m)      \u001b[38;5;66;03m# scan host 127.0.0.1, ports from 22 to 443\u001b[39;00m\n",
      "\u001b[0;31mModuleNotFoundError\u001b[0m: No module named 'nmap'"
     ]
    }
   ],
   "source": [
    "import nmap                         # import nmap.py module\n",
    "nm = nmap.PortScanner()             # instantiate nmap.PortScanner object\n",
    "nm.scan('127.0.0.1', '22-443')      # scan host 127.0.0.1, ports from 22 to 443\n",
    "nm.command_line()                   # get command line used for the scan : nmap -oX - -p 22-443 127.0.0.1\n",
    "nm.scaninfo()                       # get nmap scan informations {'tcp': {'services': '22-443', 'method': 'connect'}}"
   ]
  },
  {
   "cell_type": "code",
   "execution_count": null,
   "id": "93d869bd-fc4e-4b46-aa21-d1c8d7be6688",
   "metadata": {},
   "outputs": [],
   "source": []
  },
  {
   "cell_type": "code",
   "execution_count": null,
   "id": "41cb500f-29db-4af1-8413-ded95a2a7a7a",
   "metadata": {},
   "outputs": [],
   "source": []
  }
 ],
 "metadata": {
  "kernelspec": {
   "display_name": "Python 3 (ipykernel)",
   "language": "python",
   "name": "python3"
  },
  "language_info": {
   "codemirror_mode": {
    "name": "ipython",
    "version": 3
   },
   "file_extension": ".py",
   "mimetype": "text/x-python",
   "name": "python",
   "nbconvert_exporter": "python",
   "pygments_lexer": "ipython3",
   "version": "3.12.7"
  }
 },
 "nbformat": 4,
 "nbformat_minor": 5
}
