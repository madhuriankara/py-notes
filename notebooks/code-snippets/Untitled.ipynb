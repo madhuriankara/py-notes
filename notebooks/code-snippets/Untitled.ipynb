{
 "cells": [
  {
   "cell_type": "markdown",
   "id": "dcd4ec89-6f69-4cdd-90cd-065a061e59c0",
   "metadata": {},
   "source": [
    "Created on November 22, 2024\n",
    "\n",
    "Course work: \n",
    "\n",
    "@author: Madhuri\n"
   ]
  },
  {
   "cell_type": "code",
   "execution_count": 1,
   "id": "d6b2ae88-0c49-4573-bbfd-3c408b3faab0",
   "metadata": {},
   "outputs": [],
   "source": [
    "import pandas as pd\n",
    "from pandas_datareader import data as pdr\n",
    "import numpy as np\n",
    "import datetime"
   ]
  },
  {
   "cell_type": "code",
   "execution_count": 2,
   "id": "472eb39c-7995-41b4-b67e-710774b34f7d",
   "metadata": {},
   "outputs": [
    {
     "ename": "AttributeError",
     "evalue": "module 'pandas_datareader.data' has no attribute 'get_data_google'",
     "output_type": "error",
     "traceback": [
      "\u001b[0;31m---------------------------------------------------------------------------\u001b[0m",
      "\u001b[0;31mAttributeError\u001b[0m                            Traceback (most recent call last)",
      "Cell \u001b[0;32mIn[2], line 10\u001b[0m\n\u001b[1;32m      5\u001b[0m st\u001b[38;5;241m=\u001b[39mbegin\u001b[38;5;241m.\u001b[39mstrftime(\u001b[38;5;124m'\u001b[39m\u001b[38;5;124m%\u001b[39m\u001b[38;5;124mY-\u001b[39m\u001b[38;5;124m%\u001b[39m\u001b[38;5;124mm-\u001b[39m\u001b[38;5;132;01m%d\u001b[39;00m\u001b[38;5;124m'\u001b[39m)\n\u001b[1;32m      7\u001b[0m ed\u001b[38;5;241m=\u001b[39mend\u001b[38;5;241m.\u001b[39mstrftime(\u001b[38;5;124m'\u001b[39m\u001b[38;5;124m%\u001b[39m\u001b[38;5;124mY-\u001b[39m\u001b[38;5;124m%\u001b[39m\u001b[38;5;124mm-\u001b[39m\u001b[38;5;132;01m%d\u001b[39;00m\u001b[38;5;124m'\u001b[39m)\n\u001b[0;32m---> 10\u001b[0m df \u001b[38;5;241m=\u001b[39m \u001b[43mpdr\u001b[49m\u001b[38;5;241;43m.\u001b[39;49m\u001b[43mget_data_google\u001b[49m(\u001b[38;5;124m\"\u001b[39m\u001b[38;5;124mAAPL\u001b[39m\u001b[38;5;124m\"\u001b[39m,st,ed)\n\u001b[1;32m     13\u001b[0m no_of_std \u001b[38;5;241m=\u001b[39m \u001b[38;5;241m12\u001b[39m\n\u001b[1;32m     17\u001b[0m \u001b[38;5;28;01mdef\u001b[39;00m \u001b[38;5;21mbollinger_strat\u001b[39m(df,window,std):\n",
      "\u001b[0;31mAttributeError\u001b[0m: module 'pandas_datareader.data' has no attribute 'get_data_google'"
     ]
    }
   ],
   "source": [
    "end = datetime.date.today()\n",
    "\n",
    "begin=end-pd.DateOffset(365*10)\n",
    "\n",
    "st=begin.strftime('%Y-%m-%d')\n",
    "\n",
    "ed=end.strftime('%Y-%m-%d')\n",
    "\n",
    "\n",
    "df = pdr.get_data_google(\"AAPL\",st,ed)\n",
    "\n",
    "\n",
    "no_of_std = 12\n",
    "\n",
    "\n",
    "\n",
    "def bollinger_strat(df,window,std):\n",
    "    rolling_mean = df['Close'].rolling(window).mean()\n",
    "    rolling_std = df['Close'].rolling(window).std()\n",
    "\n",
    "    df['Bollinger High'] = rolling_mean + (rolling_std * no_of_std)\n",
    "    df['Bollinger Low'] = rolling_mean - (rolling_std * no_of_std)\n",
    "\n",
    "\n",
    "data = [1, 2, 4, 5, 5, 3]\n",
    "\n",
    "bollinger_strat(data,20,2)"
   ]
  },
  {
   "cell_type": "code",
   "execution_count": null,
   "id": "69537cd4-9336-45f4-8740-757b3810d17d",
   "metadata": {},
   "outputs": [],
   "source": []
  },
  {
   "cell_type": "code",
   "execution_count": null,
   "id": "2adcf650-22d7-498a-a4a8-3079f94ba267",
   "metadata": {},
   "outputs": [],
   "source": []
  }
 ],
 "metadata": {
  "kernelspec": {
   "display_name": "Python 3 (ipykernel)",
   "language": "python",
   "name": "python3"
  },
  "language_info": {
   "codemirror_mode": {
    "name": "ipython",
    "version": 3
   },
   "file_extension": ".py",
   "mimetype": "text/x-python",
   "name": "python",
   "nbconvert_exporter": "python",
   "pygments_lexer": "ipython3",
   "version": "3.12.7"
  }
 },
 "nbformat": 4,
 "nbformat_minor": 5
}
