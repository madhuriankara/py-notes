{
 "cells": [
  {
   "cell_type": "code",
   "execution_count": 5,
   "id": "80a4cce2-8811-4107-a889-e24b39b00a39",
   "metadata": {},
   "outputs": [],
   "source": [
    "from enum import Enum"
   ]
  },
  {
   "cell_type": "code",
   "execution_count": 11,
   "id": "eeacb456-54de-446f-8a80-35ab1ee9a558",
   "metadata": {},
   "outputs": [],
   "source": [
    "class ErrorCode(Enum):\n",
    "    FILE_NOT_FOUND = 100\n",
    "    ACCESS_DENIED = 101\n",
    "    SERVER_ERROR = 500"
   ]
  },
  {
   "cell_type": "code",
   "execution_count": 12,
   "id": "13390cd5-1cbb-4407-bd00-d2c8a7cfeca2",
   "metadata": {},
   "outputs": [],
   "source": [
    "def handle_error(code):\n",
    "    if code == ErrorCode.FILE_NOT_FOUND:\n",
    "        return \"File not found!\"\n",
    "    elif code == ErrorCode.ACCESS_DENIED:\n",
    "        return \"Access denied!\"\n",
    "    elif code == ErrorCode.SERVER_ERROR:\n",
    "        return \"Server error!\"\n",
    "    else:\n",
    "        return \"Unknown error\""
   ]
  },
  {
   "cell_type": "code",
   "execution_count": 13,
   "id": "4a5da89d-6561-4f9f-8865-b4d614444c62",
   "metadata": {},
   "outputs": [
    {
     "name": "stdout",
     "output_type": "stream",
     "text": [
      "Error code 101: Access denied!\n"
     ]
    }
   ],
   "source": [
    "# Example usage\n",
    "error_code = ErrorCode.ACCESS_DENIED\n",
    "print(f\"Error code {error_code.value}: {handle_error(error_code)}\")"
   ]
  },
  {
   "cell_type": "code",
   "execution_count": 14,
   "id": "a6ea2cec-1c2f-4f97-91eb-92047bf085df",
   "metadata": {},
   "outputs": [
    {
     "name": "stdout",
     "output_type": "stream",
     "text": [
      "Error code 100: File not found!\n"
     ]
    }
   ],
   "source": [
    "error_code = ErrorCode.FILE_NOT_FOUND\n",
    "print(f\"Error code {error_code.value}: {handle_error(error_code)}\")"
   ]
  },
  {
   "cell_type": "code",
   "execution_count": 15,
   "id": "b1ef0f2c-0373-440f-8c1e-bfcde0f36f3d",
   "metadata": {},
   "outputs": [
    {
     "name": "stdout",
     "output_type": "stream",
     "text": [
      "Error code 500: Server error!\n"
     ]
    }
   ],
   "source": [
    "error_code = ErrorCode.SERVER_ERROR\n",
    "print(f\"Error code {error_code.value}: {handle_error(error_code)}\")"
   ]
  },
  {
   "cell_type": "code",
   "execution_count": null,
   "id": "664d2027-e6e4-4eea-ac13-10fa459bb59b",
   "metadata": {},
   "outputs": [],
   "source": []
  }
 ],
 "metadata": {
  "kernelspec": {
   "display_name": "Python 3 (ipykernel)",
   "language": "python",
   "name": "python3"
  },
  "language_info": {
   "codemirror_mode": {
    "name": "ipython",
    "version": 3
   },
   "file_extension": ".py",
   "mimetype": "text/x-python",
   "name": "python",
   "nbconvert_exporter": "python",
   "pygments_lexer": "ipython3",
   "version": "3.12.7"
  }
 },
 "nbformat": 4,
 "nbformat_minor": 5
}
