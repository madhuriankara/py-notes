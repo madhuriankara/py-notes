{
 "cells": [
  {
   "cell_type": "code",
   "execution_count": 1,
   "id": "78a9c6f4-2bb2-40d7-895b-83c47efa81c3",
   "metadata": {},
   "outputs": [],
   "source": [
    "#List students who have a total score (sum of test, participation, and project scores) above 250."
   ]
  },
  {
   "cell_type": "code",
   "execution_count": 2,
   "id": "691df5aa-883f-4e89-abe6-af2d6e35c056",
   "metadata": {},
   "outputs": [],
   "source": [
    "from google.cloud import bigquery"
   ]
  },
  {
   "cell_type": "code",
   "execution_count": 3,
   "id": "f4d6dea0-409b-4349-8027-45027c3872ee",
   "metadata": {},
   "outputs": [
    {
     "name": "stderr",
     "output_type": "stream",
     "text": [
      "/opt/homebrew/Caskroom/miniconda/base/envs/py312/lib/python3.12/site-packages/google/auth/_default.py:76: UserWarning: Your application has authenticated using end user credentials from Google Cloud SDK without a quota project. You might receive a \"quota exceeded\" or \"API not enabled\" error. See the following page for troubleshooting: https://cloud.google.com/docs/authentication/adc-troubleshooting/user-creds. \n",
      "  warnings.warn(_CLOUD_SDK_CREDENTIALS_WARNING)\n",
      "/opt/homebrew/Caskroom/miniconda/base/envs/py312/lib/python3.12/site-packages/google/auth/_default.py:76: UserWarning: Your application has authenticated using end user credentials from Google Cloud SDK without a quota project. You might receive a \"quota exceeded\" or \"API not enabled\" error. See the following page for troubleshooting: https://cloud.google.com/docs/authentication/adc-troubleshooting/user-creds. \n",
      "  warnings.warn(_CLOUD_SDK_CREDENTIALS_WARNING)\n"
     ]
    }
   ],
   "source": [
    "client = bigquery.Client()"
   ]
  },
  {
   "cell_type": "code",
   "execution_count": 8,
   "id": "7ef6b726-18b5-4b9d-964b-d4a447f7800b",
   "metadata": {},
   "outputs": [
    {
     "name": "stdout",
     "output_type": "stream",
     "text": [
      "Students with total scores above 250:\n",
      "Andrew Baker - Total Score: 278\n",
      "Paul Washington - Total Score: 275\n",
      "Edward Parker - Total Score: 274\n",
      "Gary Hamilton - Total Score: 274\n",
      "Chris Martin - Total Score: 274\n",
      "Scott Howard - Total Score: 272\n",
      "Timothy Reed - Total Score: 271\n",
      "Peter Sanders - Total Score: 271\n",
      "Dennis Myers - Total Score: 271\n",
      "Michael Miller - Total Score: 270\n",
      "Justin Long - Total Score: 269\n",
      "Mark Roberts - Total Score: 269\n",
      "Keith Russell - Total Score: 269\n",
      "Benjamin Gray - Total Score: 268\n",
      "Joshua Wright - Total Score: 268\n",
      "Joshua Russell - Total Score: 268\n",
      "Raymond Murphy - Total Score: 267\n",
      "Bob Johnson - Total Score: 267\n",
      "Jason Stewart - Total Score: 266\n",
      "Ryan Coleman - Total Score: 266\n",
      "Matthew Walker - Total Score: 264\n",
      "Patrick Watson - Total Score: 263\n",
      "Stephen Foster - Total Score: 262\n",
      "George Phillips - Total Score: 261\n",
      "Eric Wallace - Total Score: 261\n",
      "Jacob Richardson - Total Score: 261\n",
      "Brandon Perry - Total Score: 261\n",
      "Gregory Rivera - Total Score: 260\n",
      "Kevin Wallace - Total Score: 260\n",
      "Richard Ross - Total Score: 259\n",
      "Timothy Alexander - Total Score: 259\n",
      "Joseph Nelson - Total Score: 258\n",
      "Steven Green - Total Score: 257\n",
      "Eric Morris - Total Score: 257\n",
      "James White - Total Score: 257\n",
      "Jeffrey Hughes - Total Score: 256\n",
      "Charles James - Total Score: 256\n",
      "Charlie Davis - Total Score: 256\n",
      "Kevin Young - Total Score: 254\n",
      "Frank Morgan - Total Score: 253\n",
      "Frank Palmer - Total Score: 253\n",
      "John Doe - Total Score: 253\n",
      "Alexander Torres - Total Score: 252\n",
      "Brian Edwards - Total Score: 251\n",
      "Kenneth Butler - Total Score: 251\n"
     ]
    }
   ],
   "source": [
    "def query_bigquery():\n",
    "    query = \"\"\"\n",
    "        SELECT\n",
    "            student_name,\n",
    "            test_scores,\n",
    "            participation,\n",
    "            project_scores,\n",
    "            (test_scores + participation + project_scores) AS total_score\n",
    "        FROM\n",
    "            `plucky-order-444214-g8.student_data.student_data_madhuri`\n",
    "        WHERE\n",
    "            (test_scores + participation + project_scores) > 250\n",
    "        ORDER BY\n",
    "            total_score DESC;\n",
    "    \"\"\"\n",
    "    \n",
    "    # Execute the query\n",
    "    result = client.query(query)\n",
    "\n",
    "    print(\"Students with total scores above 250:\")\n",
    "    for row in result:\n",
    "        print(f\"{row.student_name} - Total Score: {row.total_score}\")\n",
    "\n",
    "query_bigquery()"
   ]
  },
  {
   "cell_type": "code",
   "execution_count": null,
   "id": "ede2a501-cbeb-49a8-b28d-9e912ce04d7a",
   "metadata": {},
   "outputs": [],
   "source": []
  },
  {
   "cell_type": "code",
   "execution_count": null,
   "id": "61b790a8-02fc-4feb-834e-ccf94fd454f5",
   "metadata": {},
   "outputs": [],
   "source": []
  }
 ],
 "metadata": {
  "kernelspec": {
   "display_name": "Python 3 (ipykernel)",
   "language": "python",
   "name": "python3"
  },
  "language_info": {
   "codemirror_mode": {
    "name": "ipython",
    "version": 3
   },
   "file_extension": ".py",
   "mimetype": "text/x-python",
   "name": "python",
   "nbconvert_exporter": "python",
   "pygments_lexer": "ipython3",
   "version": "3.12.7"
  }
 },
 "nbformat": 4,
 "nbformat_minor": 5
}
