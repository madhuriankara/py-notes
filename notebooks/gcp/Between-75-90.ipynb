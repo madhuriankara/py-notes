{
 "cells": [
  {
   "cell_type": "code",
   "execution_count": 1,
   "id": "9d79cef6-4567-4646-97c8-e2ad4e71947a",
   "metadata": {},
   "outputs": [],
   "source": [
    "#Find students with test scores between 75 and 90."
   ]
  },
  {
   "cell_type": "code",
   "execution_count": 2,
   "id": "4fe86c38-af13-41ed-a85e-96ac8476a6af",
   "metadata": {},
   "outputs": [],
   "source": [
    "from google.cloud import bigquery"
   ]
  },
  {
   "cell_type": "code",
   "execution_count": 3,
   "id": "71d0566c-48ff-4a4d-a585-da52ebb38c39",
   "metadata": {},
   "outputs": [
    {
     "name": "stderr",
     "output_type": "stream",
     "text": [
      "/opt/homebrew/Caskroom/miniconda/base/envs/py312/lib/python3.12/site-packages/google/auth/_default.py:76: UserWarning: Your application has authenticated using end user credentials from Google Cloud SDK without a quota project. You might receive a \"quota exceeded\" or \"API not enabled\" error. See the following page for troubleshooting: https://cloud.google.com/docs/authentication/adc-troubleshooting/user-creds. \n",
      "  warnings.warn(_CLOUD_SDK_CREDENTIALS_WARNING)\n",
      "/opt/homebrew/Caskroom/miniconda/base/envs/py312/lib/python3.12/site-packages/google/auth/_default.py:76: UserWarning: Your application has authenticated using end user credentials from Google Cloud SDK without a quota project. You might receive a \"quota exceeded\" or \"API not enabled\" error. See the following page for troubleshooting: https://cloud.google.com/docs/authentication/adc-troubleshooting/user-creds. \n",
      "  warnings.warn(_CLOUD_SDK_CREDENTIALS_WARNING)\n"
     ]
    }
   ],
   "source": [
    "client = bigquery.Client()"
   ]
  },
  {
   "cell_type": "code",
   "execution_count": 5,
   "id": "2181606e-7b00-4426-aa5c-4c623f4e32cf",
   "metadata": {},
   "outputs": [
    {
     "name": "stdout",
     "output_type": "stream",
     "text": [
      "result\n",
      "Top 10 GitHub repositories by commit count:\n",
      "Sarah Taylor - 75\n",
      "Sharon Cook - 75\n",
      "Sandra Turner - 76\n",
      "Jane Smith - 78\n",
      "Paul Mitchell - 82\n",
      "David Anderson - 82\n",
      "Justin Bennett - 83\n",
      "Ronald Lee - 83\n",
      "Daniel Lewis - 83\n",
      "Brian Edwards - 84\n",
      "Kenneth Butler - 84\n",
      "Kevin Young - 85\n",
      "Frank Morgan - 85\n",
      "Frank Palmer - 85\n",
      "John Doe - 85\n",
      "Alexander Torres - 85\n",
      "Steven Green - 86\n",
      "Jeffrey Hughes - 86\n",
      "Eric Morris - 86\n",
      "Charles James - 86\n",
      "James White - 87\n",
      "Gregory Rivera - 87\n",
      "Richard Ross - 87\n",
      "Timothy Alexander - 87\n",
      "Joseph Nelson - 88\n",
      "Kevin Wallace - 88\n",
      "George Phillips - 87\n",
      "Eric Wallace - 87\n",
      "Charlie Davis - 88\n",
      "Jacob Richardson - 88\n",
      "Brandon Perry - 88\n",
      "Matthew Walker - 89\n",
      "Patrick Watson - 89\n",
      "Stephen Foster - 89\n",
      "Jason Stewart - 89\n",
      "Michael Miller - 90\n",
      "Benjamin Gray - 90\n",
      "Ryan Coleman - 90\n",
      "Mark Roberts - 90\n"
     ]
    }
   ],
   "source": [
    "def query_bigquery():\n",
    "    query = \"\"\"\n",
    "    SELECT student_name, test_scores FROM `plucky-order-444214-g8.student_data.student_data_madhuri` \n",
    "    WHERE test_scores BETWEEN 75 AND 90\n",
    "    \"\"\"\n",
    "    result = client.query(query)\n",
    "    print(\"result\")\n",
    "    \n",
    "    print(\"Top 10 GitHub repositories by commit count:\")\n",
    "    for i in result:\n",
    "        print(f'{i.student_name} - {i.test_scores}')\n",
    "query_bigquery()"
   ]
  },
  {
   "cell_type": "code",
   "execution_count": null,
   "id": "a283531a-46a8-4cbd-9223-3256663303bb",
   "metadata": {},
   "outputs": [],
   "source": []
  }
 ],
 "metadata": {
  "kernelspec": {
   "display_name": "Python 3 (ipykernel)",
   "language": "python",
   "name": "python3"
  },
  "language_info": {
   "codemirror_mode": {
    "name": "ipython",
    "version": 3
   },
   "file_extension": ".py",
   "mimetype": "text/x-python",
   "name": "python",
   "nbconvert_exporter": "python",
   "pygments_lexer": "ipython3",
   "version": "3.12.7"
  }
 },
 "nbformat": 4,
 "nbformat_minor": 5
}
