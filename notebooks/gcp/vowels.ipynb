{
 "cells": [
  {
   "cell_type": "code",
   "execution_count": 1,
   "id": "9ae14011-8076-4a31-a64c-ef16c609a882",
   "metadata": {},
   "outputs": [],
   "source": [
    "from google.cloud import bigquery"
   ]
  },
  {
   "cell_type": "code",
   "execution_count": 2,
   "id": "1a56b082-9873-4f2d-814d-0023b6b36af8",
   "metadata": {},
   "outputs": [
    {
     "name": "stderr",
     "output_type": "stream",
     "text": [
      "/opt/homebrew/Caskroom/miniconda/base/envs/py312/lib/python3.12/site-packages/google/auth/_default.py:76: UserWarning: Your application has authenticated using end user credentials from Google Cloud SDK without a quota project. You might receive a \"quota exceeded\" or \"API not enabled\" error. See the following page for troubleshooting: https://cloud.google.com/docs/authentication/adc-troubleshooting/user-creds. \n",
      "  warnings.warn(_CLOUD_SDK_CREDENTIALS_WARNING)\n",
      "/opt/homebrew/Caskroom/miniconda/base/envs/py312/lib/python3.12/site-packages/google/auth/_default.py:76: UserWarning: Your application has authenticated using end user credentials from Google Cloud SDK without a quota project. You might receive a \"quota exceeded\" or \"API not enabled\" error. See the following page for troubleshooting: https://cloud.google.com/docs/authentication/adc-troubleshooting/user-creds. \n",
      "  warnings.warn(_CLOUD_SDK_CREDENTIALS_WARNING)\n"
     ]
    }
   ],
   "source": [
    "client = bigquery.Client()"
   ]
  },
  {
   "cell_type": "code",
   "execution_count": 7,
   "id": "b6386fbe-7e53-4cd2-a300-29425bb4df4b",
   "metadata": {},
   "outputs": [
    {
     "name": "stdout",
     "output_type": "stream",
     "text": [
      "Students with exactly three vowels in their names:\n",
      "Amy Thomas\n",
      "Mary Carter\n",
      "Ann Griffin\n",
      "Karen Kelly\n",
      "Nancy Sanchez\n",
      "Mary Price\n",
      "Megan Ward\n",
      "Jane Smith\n",
      "Frank Morgan\n",
      "Frank Palmer\n",
      "John Doe\n",
      "Richard Ross\n",
      "Brandon Perry\n",
      "Raymond Murphy\n",
      "Justin Long\n",
      "Mark Roberts\n",
      "Bob Johnson\n",
      "Scott Howard\n",
      "Dennis Myers\n",
      "Chris Martin\n"
     ]
    }
   ],
   "source": [
    "def query_bigquery():\n",
    "    query = \"\"\"\n",
    "        SELECT student_name FROM `plucky-order-444214-g8.student_data.student_data_madhuri`\n",
    "        WHERE \n",
    "            (\n",
    "                LENGTH(REGEXP_REPLACE(student_name, '[^aeiouAEIOU]', '')) = 3\n",
    "            )\n",
    "    \"\"\"\n",
    "    result = client.query(query)\n",
    "\n",
    "    print(\"Students with exactly three vowels in their names:\")\n",
    "    for row in result:\n",
    "        print(row.student_name)\n",
    "\n",
    "query_bigquery()"
   ]
  },
  {
   "cell_type": "code",
   "execution_count": null,
   "id": "bcdeb2fe-ec33-44f7-a2ca-33ada8108b7e",
   "metadata": {},
   "outputs": [],
   "source": []
  },
  {
   "cell_type": "code",
   "execution_count": null,
   "id": "4f435227-5c12-4333-97f5-f7eb6ad838aa",
   "metadata": {},
   "outputs": [],
   "source": [
    "\n",
    "\n",
    "\n",
    "\n"
   ]
  },
  {
   "cell_type": "code",
   "execution_count": null,
   "id": "9a89ca73-f2ca-4274-ae2d-6890f3489729",
   "metadata": {},
   "outputs": [],
   "source": []
  }
 ],
 "metadata": {
  "kernelspec": {
   "display_name": "Python 3 (ipykernel)",
   "language": "python",
   "name": "python3"
  },
  "language_info": {
   "codemirror_mode": {
    "name": "ipython",
    "version": 3
   },
   "file_extension": ".py",
   "mimetype": "text/x-python",
   "name": "python",
   "nbconvert_exporter": "python",
   "pygments_lexer": "ipython3",
   "version": "3.12.7"
  }
 },
 "nbformat": 4,
 "nbformat_minor": 5
}
