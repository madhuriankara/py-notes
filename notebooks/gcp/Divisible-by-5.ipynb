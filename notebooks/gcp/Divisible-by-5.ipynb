{
 "cells": [
  {
   "cell_type": "code",
   "execution_count": null,
   "id": "efc24e2c-d2e6-41f9-89c9-e56c07f07b27",
   "metadata": {},
   "outputs": [],
   "source": [
    "#Identify students whose participation scores are exactly divisible by 5."
   ]
  },
  {
   "cell_type": "code",
   "execution_count": 2,
   "id": "b6023389-a434-4840-8847-d75d23d5c7b5",
   "metadata": {},
   "outputs": [],
   "source": [
    "from google.cloud import bigquery"
   ]
  },
  {
   "cell_type": "code",
   "execution_count": 3,
   "id": "b1785d22-0269-468e-b715-13a22188f394",
   "metadata": {},
   "outputs": [
    {
     "name": "stderr",
     "output_type": "stream",
     "text": [
      "/opt/homebrew/Caskroom/miniconda/base/envs/py312/lib/python3.12/site-packages/google/auth/_default.py:76: UserWarning: Your application has authenticated using end user credentials from Google Cloud SDK without a quota project. You might receive a \"quota exceeded\" or \"API not enabled\" error. See the following page for troubleshooting: https://cloud.google.com/docs/authentication/adc-troubleshooting/user-creds. \n",
      "  warnings.warn(_CLOUD_SDK_CREDENTIALS_WARNING)\n",
      "/opt/homebrew/Caskroom/miniconda/base/envs/py312/lib/python3.12/site-packages/google/auth/_default.py:76: UserWarning: Your application has authenticated using end user credentials from Google Cloud SDK without a quota project. You might receive a \"quota exceeded\" or \"API not enabled\" error. See the following page for troubleshooting: https://cloud.google.com/docs/authentication/adc-troubleshooting/user-creds. \n",
      "  warnings.warn(_CLOUD_SDK_CREDENTIALS_WARNING)\n"
     ]
    }
   ],
   "source": [
    "client = bigquery.Client()"
   ]
  },
  {
   "cell_type": "code",
   "execution_count": 6,
   "id": "3813c7d3-2f3b-4fa4-adf4-01b7d5ed2d07",
   "metadata": {},
   "outputs": [
    {
     "name": "stdout",
     "output_type": "stream",
     "text": [
      "result\n",
      "Top 10 GitHub repositories by commit count:\n",
      "Amy Thomas - 55\n",
      "Barbara King - 60\n",
      "Dorothy Rogers - 60\n",
      "Laura Simmons - 60\n",
      "Emily Wilson - 60\n",
      "Karen Kelly - 65\n",
      "Nancy Sanchez - 65\n",
      "Patricia Hall - 70\n",
      "Megan Ward - 70\n",
      "Alice Brown - 70\n",
      "Jane Smith - 75\n",
      "Paul Mitchell - 80\n",
      "David Anderson - 80\n",
      "Justin Bennett - 80\n",
      "Ronald Lee - 80\n",
      "John Doe - 80\n",
      "Gregory Rivera - 85\n",
      "George Phillips - 85\n",
      "Eric Wallace - 85\n",
      "Matthew Walker - 85\n",
      "Patrick Watson - 85\n",
      "Stephen Foster - 85\n",
      "Bob Johnson - 85\n",
      "Andrew Baker - 90\n"
     ]
    }
   ],
   "source": [
    "def query_bigquery():\n",
    "    query = \"\"\"\n",
    "    SELECT student_name, participation FROM `plucky-order-444214-g8.student_data.student_data_madhuri` \n",
    "    WHERE MOD(participation, 5) = 0\n",
    "    \"\"\"\n",
    "    result = client.query(query)\n",
    "    print(\"result\")\n",
    "    \n",
    "    print(\"Top 10 GitHub repositories by commit count:\")\n",
    "    for i in result:\n",
    "        print(f'{i.student_name} - {i.participation}')\n",
    "query_bigquery()"
   ]
  },
  {
   "cell_type": "code",
   "execution_count": null,
   "id": "5d1b244f-dcde-4ec0-a520-7bcc3a94505a",
   "metadata": {},
   "outputs": [],
   "source": []
  }
 ],
 "metadata": {
  "kernelspec": {
   "display_name": "Python 3 (ipykernel)",
   "language": "python",
   "name": "python3"
  },
  "language_info": {
   "codemirror_mode": {
    "name": "ipython",
    "version": 3
   },
   "file_extension": ".py",
   "mimetype": "text/x-python",
   "name": "python",
   "nbconvert_exporter": "python",
   "pygments_lexer": "ipython3",
   "version": "3.12.7"
  }
 },
 "nbformat": 4,
 "nbformat_minor": 5
}
