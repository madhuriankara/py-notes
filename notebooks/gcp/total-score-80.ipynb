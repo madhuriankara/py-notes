{
 "cells": [
  {
   "cell_type": "code",
   "execution_count": 1,
   "id": "c57ac3f5-60f1-4036-99e5-4e65e965ecc0",
   "metadata": {},
   "outputs": [],
   "source": [
    "#Find students who got a job and have all scores (test, participation, and project) above 80."
   ]
  },
  {
   "cell_type": "code",
   "execution_count": 2,
   "id": "b21cfcf6-c563-4e43-ab57-a890408365d8",
   "metadata": {},
   "outputs": [],
   "source": [
    "from google.cloud import bigquery"
   ]
  },
  {
   "cell_type": "code",
   "execution_count": 3,
   "id": "488cb163-8e88-4417-b84a-04de17014284",
   "metadata": {},
   "outputs": [
    {
     "name": "stderr",
     "output_type": "stream",
     "text": [
      "/opt/homebrew/Caskroom/miniconda/base/envs/py312/lib/python3.12/site-packages/google/auth/_default.py:76: UserWarning: Your application has authenticated using end user credentials from Google Cloud SDK without a quota project. You might receive a \"quota exceeded\" or \"API not enabled\" error. See the following page for troubleshooting: https://cloud.google.com/docs/authentication/adc-troubleshooting/user-creds. \n",
      "  warnings.warn(_CLOUD_SDK_CREDENTIALS_WARNING)\n",
      "/opt/homebrew/Caskroom/miniconda/base/envs/py312/lib/python3.12/site-packages/google/auth/_default.py:76: UserWarning: Your application has authenticated using end user credentials from Google Cloud SDK without a quota project. You might receive a \"quota exceeded\" or \"API not enabled\" error. See the following page for troubleshooting: https://cloud.google.com/docs/authentication/adc-troubleshooting/user-creds. \n",
      "  warnings.warn(_CLOUD_SDK_CREDENTIALS_WARNING)\n"
     ]
    }
   ],
   "source": [
    "client = bigquery.Client()"
   ]
  },
  {
   "cell_type": "code",
   "execution_count": 11,
   "id": "6e4dd6f1-456e-4672-8e46-e5f366446c1c",
   "metadata": {},
   "outputs": [
    {
     "name": "stdout",
     "output_type": "stream",
     "text": [
      "The total score of students above 80 are:\n",
      "Paul Mitchell - 245 - 1\n",
      "David Anderson - 246 - 1\n",
      "Ronald Lee - 246 - 1\n",
      "Justin Bennett - 247 - 1\n",
      "Daniel Lewis - 249 - 1\n",
      "Brian Edwards - 251 - 1\n",
      "Kenneth Butler - 251 - 1\n",
      "Alexander Torres - 252 - 1\n",
      "Frank Morgan - 253 - 1\n",
      "Frank Palmer - 253 - 1\n",
      "John Doe - 253 - 1\n",
      "Kevin Young - 254 - 1\n",
      "Jeffrey Hughes - 256 - 1\n",
      "Charles James - 256 - 1\n",
      "Charlie Davis - 256 - 1\n",
      "Steven Green - 257 - 1\n",
      "Eric Morris - 257 - 1\n",
      "James White - 257 - 1\n",
      "Joseph Nelson - 258 - 1\n",
      "Richard Ross - 259 - 1\n",
      "Timothy Alexander - 259 - 1\n",
      "Gregory Rivera - 260 - 1\n",
      "Kevin Wallace - 260 - 1\n",
      "George Phillips - 261 - 1\n",
      "Eric Wallace - 261 - 1\n",
      "Jacob Richardson - 261 - 1\n",
      "Brandon Perry - 261 - 1\n",
      "Stephen Foster - 262 - 1\n",
      "Patrick Watson - 263 - 1\n",
      "Matthew Walker - 264 - 1\n",
      "Jason Stewart - 266 - 1\n",
      "Ryan Coleman - 266 - 1\n",
      "Raymond Murphy - 267 - 1\n",
      "Bob Johnson - 267 - 1\n",
      "Benjamin Gray - 268 - 1\n",
      "Joshua Wright - 268 - 1\n",
      "Joshua Russell - 268 - 1\n",
      "Justin Long - 269 - 1\n",
      "Mark Roberts - 269 - 1\n",
      "Keith Russell - 269 - 1\n",
      "Michael Miller - 270 - 1\n",
      "Timothy Reed - 271 - 1\n",
      "Peter Sanders - 271 - 1\n",
      "Dennis Myers - 271 - 1\n",
      "Scott Howard - 272 - 1\n",
      "Edward Parker - 274 - 1\n",
      "Gary Hamilton - 274 - 1\n",
      "Chris Martin - 274 - 1\n",
      "Paul Washington - 275 - 1\n",
      "Andrew Baker - 278 - 1\n"
     ]
    }
   ],
   "source": [
    "def query_bigquery():\n",
    "    query = \"\"\"\n",
    "    SELECT student_name,\n",
    "    got_job,\n",
    "    test_scores,\n",
    "    participation,\n",
    "    project_scores,\n",
    "   (test_scores + participation + project_scores) AS total_score \n",
    "    FROM `plucky-order-444214-g8.student_data.student_data_madhuri`\n",
    "    WHERE (test_scores + participation + project_scores) > 80 AND got_job = 1\n",
    "    ORDER BY total_score ASC;\n",
    "    \"\"\"\n",
    "    result = client.query(query)\n",
    "    print(\"The total score of students above 80 are:\")\n",
    "    for i in result:\n",
    "        print(f'{i.student_name} - {i.total_score} - {i.got_job}')\n",
    "query_bigquery()\n",
    "    "
   ]
  },
  {
   "cell_type": "code",
   "execution_count": null,
   "id": "72c2d166-7257-4155-83fc-a625e9eca0f1",
   "metadata": {},
   "outputs": [],
   "source": []
  }
 ],
 "metadata": {
  "kernelspec": {
   "display_name": "Python 3 (ipykernel)",
   "language": "python",
   "name": "python3"
  },
  "language_info": {
   "codemirror_mode": {
    "name": "ipython",
    "version": 3
   },
   "file_extension": ".py",
   "mimetype": "text/x-python",
   "name": "python",
   "nbconvert_exporter": "python",
   "pygments_lexer": "ipython3",
   "version": "3.12.7"
  }
 },
 "nbformat": 4,
 "nbformat_minor": 5
}
