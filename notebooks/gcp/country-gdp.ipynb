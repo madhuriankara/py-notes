{
 "cells": [
  {
   "cell_type": "code",
   "execution_count": 1,
   "id": "d170dd03-1135-465d-8ed2-2af76c1b5638",
   "metadata": {},
   "outputs": [],
   "source": [
    "from google.cloud import bigquery"
   ]
  },
  {
   "cell_type": "code",
   "execution_count": 2,
   "id": "e5c4fef2-79d1-4d2b-92f5-49f0e8b4603f",
   "metadata": {},
   "outputs": [
    {
     "name": "stderr",
     "output_type": "stream",
     "text": [
      "/opt/homebrew/Caskroom/miniconda/base/envs/py312/lib/python3.12/site-packages/google/auth/_default.py:76: UserWarning: Your application has authenticated using end user credentials from Google Cloud SDK without a quota project. You might receive a \"quota exceeded\" or \"API not enabled\" error. See the following page for troubleshooting: https://cloud.google.com/docs/authentication/adc-troubleshooting/user-creds. \n",
      "  warnings.warn(_CLOUD_SDK_CREDENTIALS_WARNING)\n",
      "/opt/homebrew/Caskroom/miniconda/base/envs/py312/lib/python3.12/site-packages/google/auth/_default.py:76: UserWarning: Your application has authenticated using end user credentials from Google Cloud SDK without a quota project. You might receive a \"quota exceeded\" or \"API not enabled\" error. See the following page for troubleshooting: https://cloud.google.com/docs/authentication/adc-troubleshooting/user-creds. \n",
      "  warnings.warn(_CLOUD_SDK_CREDENTIALS_WARNING)\n"
     ]
    }
   ],
   "source": [
    "client = bigquery.Client()"
   ]
  },
  {
   "cell_type": "code",
   "execution_count": 10,
   "id": "d56b974e-b9a9-4d69-b5e1-1e2fb21a0007",
   "metadata": {},
   "outputs": [
    {
     "name": "stdout",
     "output_type": "stream",
     "text": [
      "The GDP above 9000:\n",
      "Lithuania  - 11400.0\n",
      "Croatia  - 10600.0\n",
      "Slovenia  - 19000.0\n",
      "Canada  - 29800.0\n",
      "Faroe Islands  - 22000.0\n",
      "Gibraltar  - 17500.0\n",
      "Italy  - 26700.0\n",
      "Luxembourg  - 55100.0\n",
      "Malta  - 17700.0\n",
      "Monaco  - 27000.0\n",
      "San Marino  - 34600.0\n",
      "Bahrain  - 16900.0\n",
      "Kuwait  - 19000.0\n",
      "Oman  - 13100.0\n",
      "Qatar  - 21500.0\n",
      "Saudi Arabia  - 11800.0\n",
      "United Arab Emirates  - 23200.0\n",
      "Greenland  - 20000.0\n",
      "Australia  - 29000.0\n",
      "South Africa  - 10700.0\n",
      "Antigua & Barbuda  - 11000.0\n",
      "Aruba  - 28000.0\n",
      "Bahamas, The  - 16700.0\n",
      "Barbados  - 15700.0\n",
      "British Virgin Is.  - 16000.0\n",
      "Cayman Islands  - 35000.0\n",
      "Costa Rica  - 9100.0\n",
      "Martinique  - 14400.0\n",
      "Netherlands Antilles  - 11400.0\n",
      "Puerto Rico  - 16800.0\n",
      "Trinidad & Tobago  - 9500.0\n",
      "Turks & Caicos Is  - 9600.0\n",
      "Virgin Islands  - 17200.0\n",
      "Brunei  - 18600.0\n",
      "Hong Kong  - 28800.0\n",
      "Macau  - 19400.0\n",
      "Singapore  - 23700.0\n",
      "Taiwan  - 23400.0\n",
      "Bermuda  - 36000.0\n",
      "French Polynesia  - 17500.0\n",
      "Guam  - 21000.0\n",
      "New Caledonia  - 15000.0\n",
      "N. Mariana Islands  - 12500.0\n",
      "Mauritius  - 11400.0\n",
      "Argentina  - 11200.0\n",
      "Chile  - 9900.0\n",
      "Uruguay  - 12800.0\n",
      "Japan  - 28200.0\n",
      "Korea, South  - 17800.0\n",
      "Estonia  - 12300.0\n",
      "Latvia  - 10200.0\n",
      "Czech Republic  - 15700.0\n",
      "Hungary  - 13900.0\n",
      "Poland  - 11100.0\n",
      "Slovakia  - 13300.0\n",
      "Cyprus  - 19200.0\n",
      "Israel  - 19800.0\n",
      "United States  - 37800.0\n",
      "New Zealand  - 21600.0\n",
      "Andorra  - 19000.0\n",
      "Austria  - 30000.0\n",
      "Belgium  - 29100.0\n",
      "Denmark  - 31100.0\n",
      "Finland  - 27400.0\n",
      "Germany  - 27600.0\n",
      "Greece  - 20000.0\n",
      "Guernsey  - 20000.0\n",
      "Iceland  - 30900.0\n",
      "Ireland  - 29600.0\n",
      "Isle of Man  - 21000.0\n",
      "Jersey  - 24800.0\n",
      "Netherlands  - 28600.0\n",
      "Norway  - 37800.0\n",
      "Portugal  - 18000.0\n",
      "Spain  - 22000.0\n",
      "Sweden  - 26800.0\n",
      "Switzerland  - 32700.0\n",
      "United Kingdom  - 27700.0\n",
      "France  - 27600.0\n",
      "Liechtenstein  - 25000.0\n"
     ]
    }
   ],
   "source": [
    "def get_gdp_by_country():\n",
    "    query = \"\"\"\n",
    "    SELECT  country,gdp__per_capita FROM `plucky-order-444214-g8.student_data.country_table` \n",
    "    WHERE gdp__per_capita > 9000\n",
    "    \"\"\"\n",
    "    result = client.query(query)\n",
    "    print(\"The GDP above 9000:\")\n",
    "    for i in result:\n",
    "        print(f'{i.country} - {i.gdp__per_capita}')\n",
    "\n",
    "get_gdp_by_country()"
   ]
  },
  {
   "cell_type": "code",
   "execution_count": null,
   "id": "34a7990f-f35c-41e8-9c87-4d6830d88262",
   "metadata": {},
   "outputs": [],
   "source": []
  }
 ],
 "metadata": {
  "kernelspec": {
   "display_name": "Python 3 (ipykernel)",
   "language": "python",
   "name": "python3"
  },
  "language_info": {
   "codemirror_mode": {
    "name": "ipython",
    "version": 3
   },
   "file_extension": ".py",
   "mimetype": "text/x-python",
   "name": "python",
   "nbconvert_exporter": "python",
   "pygments_lexer": "ipython3",
   "version": "3.12.7"
  }
 },
 "nbformat": 4,
 "nbformat_minor": 5
}
