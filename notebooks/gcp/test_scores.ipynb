{
 "cells": [
  {
   "cell_type": "code",
   "execution_count": 1,
   "id": "ec664299-821f-4aa9-afd6-f94c19e80d43",
   "metadata": {},
   "outputs": [],
   "source": [
    "#Get all students whoever got more than 90"
   ]
  },
  {
   "cell_type": "code",
   "execution_count": 4,
   "id": "cea15fb7-077e-47fe-b71d-eafde4e0f215",
   "metadata": {},
   "outputs": [],
   "source": [
    "from google.cloud import bigquery"
   ]
  },
  {
   "cell_type": "code",
   "execution_count": 5,
   "id": "8c60564c-b1fb-440c-b7cf-94835f335624",
   "metadata": {},
   "outputs": [
    {
     "name": "stderr",
     "output_type": "stream",
     "text": [
      "/opt/homebrew/Caskroom/miniconda/base/envs/py312/lib/python3.12/site-packages/google/auth/_default.py:76: UserWarning: Your application has authenticated using end user credentials from Google Cloud SDK without a quota project. You might receive a \"quota exceeded\" or \"API not enabled\" error. See the following page for troubleshooting: https://cloud.google.com/docs/authentication/adc-troubleshooting/user-creds. \n",
      "  warnings.warn(_CLOUD_SDK_CREDENTIALS_WARNING)\n",
      "/opt/homebrew/Caskroom/miniconda/base/envs/py312/lib/python3.12/site-packages/google/auth/_default.py:76: UserWarning: Your application has authenticated using end user credentials from Google Cloud SDK without a quota project. You might receive a \"quota exceeded\" or \"API not enabled\" error. See the following page for troubleshooting: https://cloud.google.com/docs/authentication/adc-troubleshooting/user-creds. \n",
      "  warnings.warn(_CLOUD_SDK_CREDENTIALS_WARNING)\n"
     ]
    }
   ],
   "source": [
    "client = bigquery.Client()"
   ]
  },
  {
   "cell_type": "code",
   "execution_count": 14,
   "id": "cc54d3f7-86ed-43f2-9fbc-08a902482458",
   "metadata": {},
   "outputs": [
    {
     "name": "stderr",
     "output_type": "stream",
     "text": [
      "/opt/homebrew/Caskroom/miniconda/base/envs/py312/lib/python3.12/site-packages/google/auth/_default.py:76: UserWarning: Your application has authenticated using end user credentials from Google Cloud SDK without a quota project. You might receive a \"quota exceeded\" or \"API not enabled\" error. See the following page for troubleshooting: https://cloud.google.com/docs/authentication/adc-troubleshooting/user-creds. \n",
      "  warnings.warn(_CLOUD_SDK_CREDENTIALS_WARNING)\n",
      "/opt/homebrew/Caskroom/miniconda/base/envs/py312/lib/python3.12/site-packages/google/auth/_default.py:76: UserWarning: Your application has authenticated using end user credentials from Google Cloud SDK without a quota project. You might receive a \"quota exceeded\" or \"API not enabled\" error. See the following page for troubleshooting: https://cloud.google.com/docs/authentication/adc-troubleshooting/user-creds. \n",
      "  warnings.warn(_CLOUD_SDK_CREDENTIALS_WARNING)\n"
     ]
    },
    {
     "name": "stdout",
     "output_type": "stream",
     "text": [
      "QueryJob<project=plucky-order-444214-g8, location=northamerica-northeast2, id=c6e6c21d-6f64-4fe4-8301-76cdbf485e93>\n",
      "Top 10 GitHub repositories by commit count:\n",
      "Repository: Joshua Wright - 91\n",
      "Repository: Raymond Murphy - 91\n",
      "Repository: Justin Long - 91\n",
      "Repository: Joshua Russell - 91\n",
      "Repository: Keith Russell - 91\n",
      "Repository: Timothy Reed - 92\n",
      "Repository: Peter Sanders - 92\n",
      "Repository: Bob Johnson - 92\n",
      "Repository: Scott Howard - 92\n",
      "Repository: Dennis Myers - 92\n",
      "Repository: Edward Parker - 93\n",
      "Repository: Gary Hamilton - 93\n",
      "Repository: Chris Martin - 94\n",
      "Repository: Paul Washington - 94\n",
      "Repository: Andrew Baker - 95\n"
     ]
    }
   ],
   "source": [
    "def query_bigquery():\n",
    "    client = bigquery.Client()\n",
    "    query = \"\"\"\n",
    "        SELECT student_name,test_scores FROM `plucky-order-444214-g8.student_data.student_data_madhuri` \n",
    "        WHERE test_scores > 90\n",
    "    \"\"\"\n",
    "    query_job = client.query(query)\n",
    "    print(query_job) \n",
    "\n",
    "    print(\"Top 10 GitHub repositories by commit count:\")\n",
    "    for row in query_job:\n",
    "        print(f\"Repository: {row.student_name} - {row.test_scores}\")\n",
    "\n",
    "query_bigquery()\n",
    "    \n",
    "    "
   ]
  },
  {
   "cell_type": "code",
   "execution_count": null,
   "id": "99850714-b14e-488e-b9f9-8ebdb27eac44",
   "metadata": {},
   "outputs": [],
   "source": []
  }
 ],
 "metadata": {
  "kernelspec": {
   "display_name": "Python 3 (ipykernel)",
   "language": "python",
   "name": "python3"
  },
  "language_info": {
   "codemirror_mode": {
    "name": "ipython",
    "version": 3
   },
   "file_extension": ".py",
   "mimetype": "text/x-python",
   "name": "python",
   "nbconvert_exporter": "python",
   "pygments_lexer": "ipython3",
   "version": "3.12.7"
  }
 },
 "nbformat": 4,
 "nbformat_minor": 5
}
