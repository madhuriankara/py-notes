{
 "cells": [
  {
   "cell_type": "code",
   "execution_count": 1,
   "id": "61345d32-ae17-4ce3-b727-1312f37b409e",
   "metadata": {},
   "outputs": [],
   "source": [
    "from google.cloud import bigquery"
   ]
  },
  {
   "cell_type": "code",
   "execution_count": 3,
   "id": "ced78633-505d-4fdd-806b-50ddc7ce2b66",
   "metadata": {},
   "outputs": [
    {
     "name": "stderr",
     "output_type": "stream",
     "text": [
      "/opt/homebrew/Caskroom/miniconda/base/envs/py312/lib/python3.12/site-packages/google/auth/_default.py:76: UserWarning: Your application has authenticated using end user credentials from Google Cloud SDK without a quota project. You might receive a \"quota exceeded\" or \"API not enabled\" error. See the following page for troubleshooting: https://cloud.google.com/docs/authentication/adc-troubleshooting/user-creds. \n",
      "  warnings.warn(_CLOUD_SDK_CREDENTIALS_WARNING)\n",
      "/opt/homebrew/Caskroom/miniconda/base/envs/py312/lib/python3.12/site-packages/google/auth/_default.py:76: UserWarning: Your application has authenticated using end user credentials from Google Cloud SDK without a quota project. You might receive a \"quota exceeded\" or \"API not enabled\" error. See the following page for troubleshooting: https://cloud.google.com/docs/authentication/adc-troubleshooting/user-creds. \n",
      "  warnings.warn(_CLOUD_SDK_CREDENTIALS_WARNING)\n"
     ]
    }
   ],
   "source": [
    "client = bigquery.Client()"
   ]
  },
  {
   "cell_type": "code",
   "execution_count": 6,
   "id": "ffed2d51-5a2c-4f2c-b5c7-cec525f78fba",
   "metadata": {},
   "outputs": [
    {
     "name": "stdout",
     "output_type": "stream",
     "text": [
      "result\n",
      "Top 10 GitHub repositories by commit count:\n",
      "Amy Thomas - 65\n",
      "Alice Flores - 65\n",
      "Sharon Woods - 65\n",
      "Karen Campbell - 65\n",
      "Angela Cox - 66\n",
      "Elizabeth Hayes - 66\n",
      "Barbara King - 66\n",
      "Dorothy Rogers - 67\n",
      "Victoria Brooks - 67\n",
      "Debra Jenkins - 67\n",
      "Donna Adams - 68\n",
      "Laura Simmons - 68\n",
      "Lisa Perez - 69\n",
      "Michelle Bell - 69\n",
      "Dorothy Barnes - 69\n",
      "Rebecca West - 69\n",
      "Emily Wilson - 70\n",
      "Deborah Collins - 70\n",
      "Stephanie Peterson - 70\n",
      "Janet Powell - 70\n",
      "Christine Barnes - 70\n",
      "Jessica Robinson - 70\n",
      "Mary Carter - 70\n",
      "Emily Cooper - 71\n",
      "Ann Griffin - 71\n",
      "Karen Kelly - 71\n",
      "Linda Reed - 71\n",
      "Laura Clark - 72\n",
      "Nancy Sanchez - 72\n",
      "Amanda Price - 73\n",
      "Diane Gonzalez - 73\n",
      "Stephanie Henderson - 74\n",
      "Rachel Gonzalez - 74\n",
      "Kimberly Bailey - 75\n",
      "Heather Bryant - 75\n",
      "Patricia Hall - 75\n",
      "Mary Price - 75\n",
      "Megan Ward - 76\n",
      "Rebecca Evans - 76\n",
      "Margaret Stone - 77\n",
      "Linda Harris - 77\n",
      "Christina Patterson - 78\n",
      "Betty Scott - 79\n",
      "Samantha Ramirez - 79\n",
      "Tina Coleman - 79\n",
      "Alice Brown - 80\n",
      "Sarah Taylor - 80\n",
      "Sharon Cook - 80\n",
      "Sandra Turner - 81\n"
     ]
    }
   ],
   "source": [
    "def query_bigquery():\n",
    "    query = \"\"\"\n",
    "    SELECT student_name, attendance FROM `plucky-order-444214-g8.student_data.student_data_madhuri` \n",
    "    WHERE attendance < 85\n",
    "    \"\"\"\n",
    "    result = client.query(query)\n",
    "    print(\"result\")\n",
    "    \n",
    "    print(\"Top 10 GitHub repositories by commit count:\")\n",
    "    for i in result:\n",
    "        print(f'{i.student_name} - {i.attendance}')\n",
    "query_bigquery()"
   ]
  },
  {
   "cell_type": "code",
   "execution_count": null,
   "id": "72dddc7f-4391-4642-b2cb-5bc82e35edbf",
   "metadata": {},
   "outputs": [],
   "source": []
  }
 ],
 "metadata": {
  "kernelspec": {
   "display_name": "Python 3 (ipykernel)",
   "language": "python",
   "name": "python3"
  },
  "language_info": {
   "codemirror_mode": {
    "name": "ipython",
    "version": 3
   },
   "file_extension": ".py",
   "mimetype": "text/x-python",
   "name": "python",
   "nbconvert_exporter": "python",
   "pygments_lexer": "ipython3",
   "version": "3.12.7"
  }
 },
 "nbformat": 4,
 "nbformat_minor": 5
}
