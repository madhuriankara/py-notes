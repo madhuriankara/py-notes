{
 "cells": [
  {
   "cell_type": "code",
   "execution_count": 1,
   "id": "6ea8fad4-1898-4e4f-9bea-09edd119db71",
   "metadata": {},
   "outputs": [],
   "source": [
    "#Select students who have both high project scores (e.g., above 85) and got a job."
   ]
  },
  {
   "cell_type": "code",
   "execution_count": 2,
   "id": "c8f65fa0-6f3f-4f59-8fa4-ce833dcf237f",
   "metadata": {},
   "outputs": [],
   "source": [
    "from google.cloud import bigquery"
   ]
  },
  {
   "cell_type": "code",
   "execution_count": 3,
   "id": "3d9f9d93-6124-4482-997e-5fbe0e1d6344",
   "metadata": {},
   "outputs": [
    {
     "name": "stderr",
     "output_type": "stream",
     "text": [
      "/opt/homebrew/Caskroom/miniconda/base/envs/py312/lib/python3.12/site-packages/google/auth/_default.py:76: UserWarning: Your application has authenticated using end user credentials from Google Cloud SDK without a quota project. You might receive a \"quota exceeded\" or \"API not enabled\" error. See the following page for troubleshooting: https://cloud.google.com/docs/authentication/adc-troubleshooting/user-creds. \n",
      "  warnings.warn(_CLOUD_SDK_CREDENTIALS_WARNING)\n",
      "/opt/homebrew/Caskroom/miniconda/base/envs/py312/lib/python3.12/site-packages/google/auth/_default.py:76: UserWarning: Your application has authenticated using end user credentials from Google Cloud SDK without a quota project. You might receive a \"quota exceeded\" or \"API not enabled\" error. See the following page for troubleshooting: https://cloud.google.com/docs/authentication/adc-troubleshooting/user-creds. \n",
      "  warnings.warn(_CLOUD_SDK_CREDENTIALS_WARNING)\n"
     ]
    }
   ],
   "source": [
    "client = bigquery.Client()"
   ]
  },
  {
   "cell_type": "code",
   "execution_count": 9,
   "id": "b49428b2-9722-4578-92d3-17840e22d835",
   "metadata": {},
   "outputs": [
    {
     "name": "stdout",
     "output_type": "stream",
     "text": [
      "result\n",
      "Top 10 GitHub repositories by commit count:\n",
      "Kevin Young - 87- 1\n",
      "Frank Morgan - 86- 1\n",
      "Frank Palmer - 86- 1\n",
      "John Doe - 88- 1\n",
      "Alexander Torres - 86- 1\n",
      "Steven Green - 88- 1\n",
      "Jeffrey Hughes - 87- 1\n",
      "Eric Morris - 87- 1\n",
      "Charles James - 87- 1\n",
      "James White - 86- 1\n",
      "Gregory Rivera - 88- 1\n",
      "Richard Ross - 88- 1\n",
      "Timothy Alexander - 88- 1\n",
      "Joseph Nelson - 86- 1\n",
      "Kevin Wallace - 88- 1\n",
      "George Phillips - 89- 1\n",
      "Eric Wallace - 89- 1\n",
      "Jacob Richardson - 89- 1\n",
      "Brandon Perry - 89- 1\n",
      "Matthew Walker - 90- 1\n",
      "Patrick Watson - 89- 1\n",
      "Stephen Foster - 88- 1\n",
      "Jason Stewart - 90- 1\n",
      "Michael Miller - 92- 1\n",
      "Benjamin Gray - 91- 1\n",
      "Ryan Coleman - 90- 1\n",
      "Joshua Wright - 90- 1\n",
      "Raymond Murphy - 90- 1\n",
      "Justin Long - 91- 1\n",
      "Mark Roberts - 91- 1\n",
      "Joshua Russell - 90- 1\n",
      "Keith Russell - 91- 1\n",
      "Timothy Reed - 91- 1\n",
      "Peter Sanders - 91- 1\n",
      "Bob Johnson - 90- 1\n",
      "Scott Howard - 91- 1\n",
      "Dennis Myers - 91- 1\n",
      "Edward Parker - 92- 1\n",
      "Gary Hamilton - 92- 1\n",
      "Chris Martin - 91- 1\n",
      "Paul Washington - 92- 1\n",
      "Andrew Baker - 93- 1\n"
     ]
    }
   ],
   "source": [
    "def query_bigquery():\n",
    "    query = \"\"\"\n",
    "    SELECT student_name, project_scores, got_job FROM `plucky-order-444214-g8.student_data.student_data_madhuri` \n",
    "    WHERE project_scores > 85 AND got_job = 1\n",
    "    \"\"\"\n",
    "    result = client.query(query)\n",
    "    print(\"result\")\n",
    "    \n",
    "    print(\"Top 10 GitHub repositories by commit count:\")\n",
    "    for i in result:\n",
    "        print(f'{i.student_name} - {i.project_scores}- {i.got_job}')\n",
    "query_bigquery()"
   ]
  },
  {
   "cell_type": "code",
   "execution_count": null,
   "id": "24035938-0490-4fe3-829f-bf3550e606c9",
   "metadata": {},
   "outputs": [],
   "source": []
  }
 ],
 "metadata": {
  "kernelspec": {
   "display_name": "Python 3 (ipykernel)",
   "language": "python",
   "name": "python3"
  },
  "language_info": {
   "codemirror_mode": {
    "name": "ipython",
    "version": 3
   },
   "file_extension": ".py",
   "mimetype": "text/x-python",
   "name": "python",
   "nbconvert_exporter": "python",
   "pygments_lexer": "ipython3",
   "version": "3.12.7"
  }
 },
 "nbformat": 4,
 "nbformat_minor": 5
}
