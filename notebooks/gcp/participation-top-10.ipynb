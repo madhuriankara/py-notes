{
 "cells": [
  {
   "cell_type": "code",
   "execution_count": 1,
   "id": "2eda34f3-445f-4ae5-8731-1fee55c302a4",
   "metadata": {},
   "outputs": [],
   "source": [
    "#Sort students in descending order of their participation scores and list the top 10."
   ]
  },
  {
   "cell_type": "code",
   "execution_count": 2,
   "id": "8bdd07c3-e7ab-4418-a3e1-f2cbb14a6012",
   "metadata": {},
   "outputs": [],
   "source": [
    "from google.cloud import bigquery"
   ]
  },
  {
   "cell_type": "code",
   "execution_count": 3,
   "id": "f8330d68-733f-4d65-afa6-7c9f1f60cbe3",
   "metadata": {},
   "outputs": [
    {
     "name": "stderr",
     "output_type": "stream",
     "text": [
      "/opt/homebrew/Caskroom/miniconda/base/envs/py312/lib/python3.12/site-packages/google/auth/_default.py:76: UserWarning: Your application has authenticated using end user credentials from Google Cloud SDK without a quota project. You might receive a \"quota exceeded\" or \"API not enabled\" error. See the following page for troubleshooting: https://cloud.google.com/docs/authentication/adc-troubleshooting/user-creds. \n",
      "  warnings.warn(_CLOUD_SDK_CREDENTIALS_WARNING)\n",
      "/opt/homebrew/Caskroom/miniconda/base/envs/py312/lib/python3.12/site-packages/google/auth/_default.py:76: UserWarning: Your application has authenticated using end user credentials from Google Cloud SDK without a quota project. You might receive a \"quota exceeded\" or \"API not enabled\" error. See the following page for troubleshooting: https://cloud.google.com/docs/authentication/adc-troubleshooting/user-creds. \n",
      "  warnings.warn(_CLOUD_SDK_CREDENTIALS_WARNING)\n"
     ]
    }
   ],
   "source": [
    "client = bigquery.Client()"
   ]
  },
  {
   "cell_type": "code",
   "execution_count": 5,
   "id": "1d777016-d046-4222-a10a-b01f397a5b04",
   "metadata": {},
   "outputs": [
    {
     "name": "stdout",
     "output_type": "stream",
     "text": [
      "The students in descending order\n",
      "Andrew Baker - 90\n",
      "Gary Hamilton - 89\n",
      "Paul Washington - 89\n",
      "Edward Parker - 89\n",
      "Chris Martin - 89\n",
      "Scott Howard - 89\n",
      "Mark Roberts - 88\n",
      "Michael Miller - 88\n",
      "Dennis Myers - 88\n",
      "Peter Sanders - 88\n"
     ]
    }
   ],
   "source": [
    "def query_bigquery():\n",
    "    query = \"\"\"\n",
    "    SELECT student_name, participation FROM `plucky-order-444214-g8.student_data.student_data_madhuri` \n",
    "    ORDER BY participation DESC\n",
    "    LIMIT 10;\n",
    "    \"\"\"\n",
    "    result = client.query(query)\n",
    "    print(\"The students in descending order\")\n",
    "    for i in result:\n",
    "        print(f'{i.student_name} - {i.participation}')\n",
    "query_bigquery()"
   ]
  },
  {
   "cell_type": "code",
   "execution_count": null,
   "id": "857d946d-b270-4113-9d4f-4c558738fc4d",
   "metadata": {},
   "outputs": [],
   "source": []
  }
 ],
 "metadata": {
  "kernelspec": {
   "display_name": "Python 3 (ipykernel)",
   "language": "python",
   "name": "python3"
  },
  "language_info": {
   "codemirror_mode": {
    "name": "ipython",
    "version": 3
   },
   "file_extension": ".py",
   "mimetype": "text/x-python",
   "name": "python",
   "nbconvert_exporter": "python",
   "pygments_lexer": "ipython3",
   "version": "3.12.7"
  }
 },
 "nbformat": 4,
 "nbformat_minor": 5
}
