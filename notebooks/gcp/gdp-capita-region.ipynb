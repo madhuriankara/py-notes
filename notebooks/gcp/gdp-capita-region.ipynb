{
 "cells": [
  {
   "cell_type": "code",
   "execution_count": null,
   "id": "630dbc24-67ec-4acd-9f21-ca071e34c5be",
   "metadata": {},
   "outputs": [],
   "source": [
    "#Which region has the highest average GDP per capita"
   ]
  },
  {
   "cell_type": "code",
   "execution_count": 3,
   "id": "03ea9ba3-5196-4b11-bcfa-7f99dd590332",
   "metadata": {},
   "outputs": [],
   "source": [
    "from google.cloud import bigquery"
   ]
  },
  {
   "cell_type": "code",
   "execution_count": 4,
   "id": "584b50fc-d4d2-4152-838e-274bc2f052ef",
   "metadata": {},
   "outputs": [
    {
     "name": "stderr",
     "output_type": "stream",
     "text": [
      "/opt/homebrew/Caskroom/miniconda/base/envs/py312/lib/python3.12/site-packages/google/auth/_default.py:76: UserWarning: Your application has authenticated using end user credentials from Google Cloud SDK without a quota project. You might receive a \"quota exceeded\" or \"API not enabled\" error. See the following page for troubleshooting: https://cloud.google.com/docs/authentication/adc-troubleshooting/user-creds. \n",
      "  warnings.warn(_CLOUD_SDK_CREDENTIALS_WARNING)\n",
      "/opt/homebrew/Caskroom/miniconda/base/envs/py312/lib/python3.12/site-packages/google/auth/_default.py:76: UserWarning: Your application has authenticated using end user credentials from Google Cloud SDK without a quota project. You might receive a \"quota exceeded\" or \"API not enabled\" error. See the following page for troubleshooting: https://cloud.google.com/docs/authentication/adc-troubleshooting/user-creds. \n",
      "  warnings.warn(_CLOUD_SDK_CREDENTIALS_WARNING)\n"
     ]
    }
   ],
   "source": [
    "client = bigquery.Client()"
   ]
  },
  {
   "cell_type": "code",
   "execution_count": 6,
   "id": "bf283236-ea0d-4e03-9f3b-1c5af9f6bff1",
   "metadata": {},
   "outputs": [
    {
     "name": "stdout",
     "output_type": "stream",
     "text": [
      "The top 5 most populated countries are:\n",
      "WESTERN EUROPE                      - 27046.428571428572\n",
      "NORTHERN AMERICA                    - 26100.0\n",
      "BALTICS                             - 11300.0\n",
      "NEAR EAST                           - 10456.25\n",
      "EASTERN EUROPE                      - 9808.333333333334\n",
      "LATIN AMER. & CARIB     - 8682.22222222222\n",
      "OCEANIA                             - 8247.619047619048\n",
      "ASIA (EX. NEAR EAST)          - 8053.5714285714275\n",
      "NORTHERN AFRICA                     - 5460.0\n",
      "C.W. OF IND. STATES  - 4000.0\n",
      "SUB-SAHARAN AFRICA                  - 2323.529411764706\n"
     ]
    }
   ],
   "source": [
    "def get_highest_average():\n",
    "    query = \"\"\"\n",
    "    SELECT region, AVG(gdp__per_capita) AS gdp_capita \n",
    "    FROM `plucky-order-444214-g8.student_data.country_table`\n",
    "    GROUP BY region\n",
    "    ORDER BY gdp_capita DESC\n",
    "    \"\"\"\n",
    "    result = client.query(query)\n",
    "    print(\"The top 5 most populated countries are:\")\n",
    "    for i in result:\n",
    "        print(f'{i.region} - {i.gdp_capita}')\n",
    "\n",
    "get_highest_average()"
   ]
  },
  {
   "cell_type": "code",
   "execution_count": null,
   "id": "16b239fb-3d0b-4f64-b7a4-c3b400cc9add",
   "metadata": {},
   "outputs": [],
   "source": []
  }
 ],
 "metadata": {
  "kernelspec": {
   "display_name": "Python 3 (ipykernel)",
   "language": "python",
   "name": "python3"
  },
  "language_info": {
   "codemirror_mode": {
    "name": "ipython",
    "version": 3
   },
   "file_extension": ".py",
   "mimetype": "text/x-python",
   "name": "python",
   "nbconvert_exporter": "python",
   "pygments_lexer": "ipython3",
   "version": "3.12.7"
  }
 },
 "nbformat": 4,
 "nbformat_minor": 5
}
