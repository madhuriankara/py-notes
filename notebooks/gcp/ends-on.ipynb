{
 "cells": [
  {
   "cell_type": "code",
   "execution_count": 1,
   "id": "75162ab6-923b-495c-a7bc-24060cfd44b8",
   "metadata": {},
   "outputs": [],
   "source": [
    "#Filter students whose names end with \"on\"."
   ]
  },
  {
   "cell_type": "code",
   "execution_count": 2,
   "id": "88654d31-8482-4b31-bf71-50b970a02de3",
   "metadata": {},
   "outputs": [],
   "source": [
    "from google.cloud import bigquery"
   ]
  },
  {
   "cell_type": "code",
   "execution_count": 3,
   "id": "23e19178-0e65-463f-971b-e0be84697b72",
   "metadata": {},
   "outputs": [
    {
     "name": "stderr",
     "output_type": "stream",
     "text": [
      "/opt/homebrew/Caskroom/miniconda/base/envs/py312/lib/python3.12/site-packages/google/auth/_default.py:76: UserWarning: Your application has authenticated using end user credentials from Google Cloud SDK without a quota project. You might receive a \"quota exceeded\" or \"API not enabled\" error. See the following page for troubleshooting: https://cloud.google.com/docs/authentication/adc-troubleshooting/user-creds. \n",
      "  warnings.warn(_CLOUD_SDK_CREDENTIALS_WARNING)\n",
      "/opt/homebrew/Caskroom/miniconda/base/envs/py312/lib/python3.12/site-packages/google/auth/_default.py:76: UserWarning: Your application has authenticated using end user credentials from Google Cloud SDK without a quota project. You might receive a \"quota exceeded\" or \"API not enabled\" error. See the following page for troubleshooting: https://cloud.google.com/docs/authentication/adc-troubleshooting/user-creds. \n",
      "  warnings.warn(_CLOUD_SDK_CREDENTIALS_WARNING)\n"
     ]
    }
   ],
   "source": [
    "client = bigquery.Client()"
   ]
  },
  {
   "cell_type": "code",
   "execution_count": 5,
   "id": "c5001e28-7cc6-440b-9e75-7338064a7654",
   "metadata": {},
   "outputs": [
    {
     "name": "stdout",
     "output_type": "stream",
     "text": [
      "result\n",
      "Top 10 GitHub repositories by commit count:\n",
      "Repository:Emily Wilson\n",
      "Repository:Stephanie Peterson\n",
      "Repository:Jessica Robinson\n",
      "Repository:Stephanie Henderson\n",
      "Repository:Christina Patterson\n",
      "Repository:David Anderson\n",
      "Repository:Joseph Nelson\n",
      "Repository:Jacob Richardson\n",
      "Repository:Patrick Watson\n",
      "Repository:Bob Johnson\n",
      "Repository:Gary Hamilton\n",
      "Repository:Paul Washington\n"
     ]
    }
   ],
   "source": [
    "def query_bigquery():\n",
    "    query = \"\"\"\n",
    "        SELECT student_name FROM `plucky-order-444214-g8.student_data.student_data_madhuri` \n",
    "        WHERE student_name LIKE '%on'\n",
    "        \"\"\"\n",
    "    result = client.query(query)\n",
    "    print(\"result\")\n",
    "\n",
    "    print(\"Top 10 GitHub repositories by commit count:\")\n",
    "    for i in result:\n",
    "        print(f\"Repository:{i.student_name}\")\n",
    "query_bigquery()\n",
    "    "
   ]
  },
  {
   "cell_type": "code",
   "execution_count": null,
   "id": "a791ef0d-9ce9-4836-a4f9-1e3d6f496fc4",
   "metadata": {},
   "outputs": [],
   "source": []
  },
  {
   "cell_type": "code",
   "execution_count": null,
   "id": "b894f9e3-4331-4848-95c8-711beb826fcc",
   "metadata": {},
   "outputs": [],
   "source": []
  }
 ],
 "metadata": {
  "kernelspec": {
   "display_name": "Python 3 (ipykernel)",
   "language": "python",
   "name": "python3"
  },
  "language_info": {
   "codemirror_mode": {
    "name": "ipython",
    "version": 3
   },
   "file_extension": ".py",
   "mimetype": "text/x-python",
   "name": "python",
   "nbconvert_exporter": "python",
   "pygments_lexer": "ipython3",
   "version": "3.12.7"
  }
 },
 "nbformat": 4,
 "nbformat_minor": 5
}
