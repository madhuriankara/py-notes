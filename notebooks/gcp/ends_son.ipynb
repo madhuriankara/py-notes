{
 "cells": [
  {
   "cell_type": "code",
   "execution_count": 1,
   "id": "0599ae0e-d634-4b1d-ad1e-4df5db0a5a55",
   "metadata": {},
   "outputs": [],
   "source": [
    "from google.cloud import bigquery"
   ]
  },
  {
   "cell_type": "code",
   "execution_count": 2,
   "id": "085abf91-267d-484f-9f7e-f8715c7ac4a2",
   "metadata": {},
   "outputs": [
    {
     "name": "stderr",
     "output_type": "stream",
     "text": [
      "/opt/homebrew/Caskroom/miniconda/base/envs/py312/lib/python3.12/site-packages/google/auth/_default.py:76: UserWarning: Your application has authenticated using end user credentials from Google Cloud SDK without a quota project. You might receive a \"quota exceeded\" or \"API not enabled\" error. See the following page for troubleshooting: https://cloud.google.com/docs/authentication/adc-troubleshooting/user-creds. \n",
      "  warnings.warn(_CLOUD_SDK_CREDENTIALS_WARNING)\n",
      "/opt/homebrew/Caskroom/miniconda/base/envs/py312/lib/python3.12/site-packages/google/auth/_default.py:76: UserWarning: Your application has authenticated using end user credentials from Google Cloud SDK without a quota project. You might receive a \"quota exceeded\" or \"API not enabled\" error. See the following page for troubleshooting: https://cloud.google.com/docs/authentication/adc-troubleshooting/user-creds. \n",
      "  warnings.warn(_CLOUD_SDK_CREDENTIALS_WARNING)\n"
     ]
    }
   ],
   "source": [
    "client = bigquery.Client()"
   ]
  },
  {
   "cell_type": "code",
   "execution_count": 6,
   "id": "aa52e45d-fedf-4eea-ad04-632eb89daf82",
   "metadata": {},
   "outputs": [
    {
     "name": "stderr",
     "output_type": "stream",
     "text": [
      "/opt/homebrew/Caskroom/miniconda/base/envs/py312/lib/python3.12/site-packages/google/auth/_default.py:76: UserWarning: Your application has authenticated using end user credentials from Google Cloud SDK without a quota project. You might receive a \"quota exceeded\" or \"API not enabled\" error. See the following page for troubleshooting: https://cloud.google.com/docs/authentication/adc-troubleshooting/user-creds. \n",
      "  warnings.warn(_CLOUD_SDK_CREDENTIALS_WARNING)\n",
      "/opt/homebrew/Caskroom/miniconda/base/envs/py312/lib/python3.12/site-packages/google/auth/_default.py:76: UserWarning: Your application has authenticated using end user credentials from Google Cloud SDK without a quota project. You might receive a \"quota exceeded\" or \"API not enabled\" error. See the following page for troubleshooting: https://cloud.google.com/docs/authentication/adc-troubleshooting/user-creds. \n",
      "  warnings.warn(_CLOUD_SDK_CREDENTIALS_WARNING)\n"
     ]
    },
    {
     "name": "stdout",
     "output_type": "stream",
     "text": [
      "QueryJob<project=plucky-order-444214-g8, location=northamerica-northeast2, id=23c0f535-592c-41f8-9eb0-2207c0c8d07a>\n",
      "Top 10 GitHub repositories by commit count:\n",
      "Repository: Emily Wilson\n",
      "Repository: Stephanie Peterson\n",
      "Repository: Jessica Robinson\n",
      "Repository: Stephanie Henderson\n",
      "Repository: Christina Patterson\n",
      "Repository: David Anderson\n",
      "Repository: Joseph Nelson\n",
      "Repository: Jacob Richardson\n",
      "Repository: Patrick Watson\n",
      "Repository: Bob Johnson\n"
     ]
    }
   ],
   "source": [
    "def query_bigquery():\n",
    "    client = bigquery.Client()\n",
    "    query = \"\"\"\n",
    "        SELECT student_name FROM `plucky-order-444214-g8.student_data.student_data_madhuri` \n",
    "        WHERE student_name Like '%son'\n",
    "    \"\"\"\n",
    "    query_job = client.query(query)\n",
    "    print(query_job) \n",
    "\n",
    "    print(\"Top 10 GitHub repositories by commit count:\")\n",
    "    for row in query_job:\n",
    "        print(f\"Repository: {row.student_name}\")\n",
    "\n",
    "query_bigquery()\n",
    "    "
   ]
  },
  {
   "cell_type": "code",
   "execution_count": null,
   "id": "ea072c79-46df-4b1c-bcf2-4d7f4a6d67a4",
   "metadata": {},
   "outputs": [],
   "source": []
  }
 ],
 "metadata": {
  "kernelspec": {
   "display_name": "Python 3 (ipykernel)",
   "language": "python",
   "name": "python3"
  },
  "language_info": {
   "codemirror_mode": {
    "name": "ipython",
    "version": 3
   },
   "file_extension": ".py",
   "mimetype": "text/x-python",
   "name": "python",
   "nbconvert_exporter": "python",
   "pygments_lexer": "ipython3",
   "version": "3.12.7"
  }
 },
 "nbformat": 4,
 "nbformat_minor": 5
}
