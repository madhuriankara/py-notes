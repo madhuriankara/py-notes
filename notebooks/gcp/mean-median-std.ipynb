{
 "cells": [
  {
   "cell_type": "code",
   "execution_count": null,
   "id": "ff0cdd03-b60c-45e7-9a89-fbe793054c20",
   "metadata": {},
   "outputs": [],
   "source": [
    "#Calculate the mean, median, and standard deviation of test scores for the entire class."
   ]
  },
  {
   "cell_type": "code",
   "execution_count": 1,
   "id": "7f59aaea-3dac-4909-92df-bdc88b0eb4bd",
   "metadata": {},
   "outputs": [],
   "source": [
    "from google.cloud import bigquery"
   ]
  },
  {
   "cell_type": "code",
   "execution_count": 2,
   "id": "018b2b52-ac99-42a5-9bcf-8c86ba672e8b",
   "metadata": {},
   "outputs": [
    {
     "name": "stderr",
     "output_type": "stream",
     "text": [
      "/opt/homebrew/Caskroom/miniconda/base/envs/py312/lib/python3.12/site-packages/google/auth/_default.py:76: UserWarning: Your application has authenticated using end user credentials from Google Cloud SDK without a quota project. You might receive a \"quota exceeded\" or \"API not enabled\" error. See the following page for troubleshooting: https://cloud.google.com/docs/authentication/adc-troubleshooting/user-creds. \n",
      "  warnings.warn(_CLOUD_SDK_CREDENTIALS_WARNING)\n",
      "/opt/homebrew/Caskroom/miniconda/base/envs/py312/lib/python3.12/site-packages/google/auth/_default.py:76: UserWarning: Your application has authenticated using end user credentials from Google Cloud SDK without a quota project. You might receive a \"quota exceeded\" or \"API not enabled\" error. See the following page for troubleshooting: https://cloud.google.com/docs/authentication/adc-troubleshooting/user-creds. \n",
      "  warnings.warn(_CLOUD_SDK_CREDENTIALS_WARNING)\n"
     ]
    }
   ],
   "source": [
    "client = bigquery.Client()"
   ]
  },
  {
   "cell_type": "code",
   "execution_count": 8,
   "id": "9cbbe704-9346-40c6-8992-6306107b2406",
   "metadata": {},
   "outputs": [
    {
     "name": "stdout",
     "output_type": "stream",
     "text": [
      "Mean Test Score: 77.78999999999998\n",
      "Median Test Score: 78\n",
      "Standard Deviation of Test Scores: 11.28536640740988\n"
     ]
    }
   ],
   "source": [
    "def query_bigquery():\n",
    "    query = \"\"\"\n",
    "    WITH test_scores_data AS (\n",
    "    SELECT test_scores FROM `plucky-order-444214-g8.student_data.student_data_madhuri` \n",
    "    )\n",
    "    SELECT\n",
    "    AVG(test_scores) AS mean_score,\n",
    "    APPROX_QUANTILES(test_scores, 2)[OFFSET(1)] AS median_score,\n",
    "    STDDEV(test_scores) AS std_dev_score\n",
    "      FROM\n",
    "            test_scores_data;\n",
    "    \"\"\"\n",
    "    result = client.query(query)\n",
    "    for row in result:\n",
    "        print(f\"Mean Test Score: {row.mean_score}\")\n",
    "        print(f\"Median Test Score: {row.median_score}\")\n",
    "        print(f\"Standard Deviation of Test Scores: {row.std_dev_score}\")\n",
    "\n",
    "    \n",
    "query_bigquery()"
   ]
  },
  {
   "cell_type": "code",
   "execution_count": null,
   "id": "4841b4fc-3347-4512-8e0b-6620187532e2",
   "metadata": {},
   "outputs": [],
   "source": []
  }
 ],
 "metadata": {
  "kernelspec": {
   "display_name": "Python 3 (ipykernel)",
   "language": "python",
   "name": "python3"
  },
  "language_info": {
   "codemirror_mode": {
    "name": "ipython",
    "version": 3
   },
   "file_extension": ".py",
   "mimetype": "text/x-python",
   "name": "python",
   "nbconvert_exporter": "python",
   "pygments_lexer": "ipython3",
   "version": "3.12.7"
  }
 },
 "nbformat": 4,
 "nbformat_minor": 5
}
