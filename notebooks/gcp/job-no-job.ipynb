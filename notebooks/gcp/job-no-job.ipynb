{
 "cells": [
  {
   "cell_type": "code",
   "execution_count": 1,
   "id": "beaa30c7-0ec4-40b6-9a6e-b280b7501c40",
   "metadata": {},
   "outputs": [],
   "source": [
    "#Group students by whether they got a job or not and count the number of students in each group."
   ]
  },
  {
   "cell_type": "code",
   "execution_count": 2,
   "id": "6ff9874b-6f04-41e2-bfbf-93a508d358ba",
   "metadata": {},
   "outputs": [],
   "source": [
    "from google.cloud import bigquery"
   ]
  },
  {
   "cell_type": "code",
   "execution_count": 3,
   "id": "ac1f6de8-358d-4168-8432-aabc3356993e",
   "metadata": {},
   "outputs": [
    {
     "name": "stderr",
     "output_type": "stream",
     "text": [
      "/opt/homebrew/Caskroom/miniconda/base/envs/py312/lib/python3.12/site-packages/google/auth/_default.py:76: UserWarning: Your application has authenticated using end user credentials from Google Cloud SDK without a quota project. You might receive a \"quota exceeded\" or \"API not enabled\" error. See the following page for troubleshooting: https://cloud.google.com/docs/authentication/adc-troubleshooting/user-creds. \n",
      "  warnings.warn(_CLOUD_SDK_CREDENTIALS_WARNING)\n",
      "/opt/homebrew/Caskroom/miniconda/base/envs/py312/lib/python3.12/site-packages/google/auth/_default.py:76: UserWarning: Your application has authenticated using end user credentials from Google Cloud SDK without a quota project. You might receive a \"quota exceeded\" or \"API not enabled\" error. See the following page for troubleshooting: https://cloud.google.com/docs/authentication/adc-troubleshooting/user-creds. \n",
      "  warnings.warn(_CLOUD_SDK_CREDENTIALS_WARNING)\n"
     ]
    }
   ],
   "source": [
    "client = bigquery.Client()"
   ]
  },
  {
   "cell_type": "code",
   "execution_count": 19,
   "id": "0dc3fc53-fd18-4f70-9c71-d1c3e1b3396b",
   "metadata": {},
   "outputs": [
    {
     "name": "stdout",
     "output_type": "stream",
     "text": [
      "Number of students grouped by job status:\n",
      "Did Not Get Job: 50 students\n",
      "Got Job: 50 students\n"
     ]
    }
   ],
   "source": [
    "def query_bigquery():\n",
    "    query = \"\"\"\n",
    "    SELECT got_job, COUNT(*) AS student_number FROM `plucky-order-444214-g8.student_data.student_data_madhuri` \n",
    "    GROUP BY got_job;\n",
    "    \"\"\"\n",
    "    result = client.query(query)\n",
    "    print(\"Number of students grouped by job status:\")\n",
    "    for row in result:\n",
    "        job_status = \"Got Job\" if row.got_job == 1 else \"Did Not Get Job\"\n",
    "        print(f'{job_status}: {row.student_number} students')\n",
    "  \n",
    "query_bigquery()"
   ]
  },
  {
   "cell_type": "code",
   "execution_count": null,
   "id": "befae015-debb-4e9c-a883-5a45730ec6fd",
   "metadata": {},
   "outputs": [],
   "source": []
  }
 ],
 "metadata": {
  "kernelspec": {
   "display_name": "Python 3 (ipykernel)",
   "language": "python",
   "name": "python3"
  },
  "language_info": {
   "codemirror_mode": {
    "name": "ipython",
    "version": 3
   },
   "file_extension": ".py",
   "mimetype": "text/x-python",
   "name": "python",
   "nbconvert_exporter": "python",
   "pygments_lexer": "ipython3",
   "version": "3.12.7"
  }
 },
 "nbformat": 4,
 "nbformat_minor": 5
}
