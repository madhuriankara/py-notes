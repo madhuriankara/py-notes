{
 "cells": [
  {
   "cell_type": "code",
   "execution_count": null,
   "id": "630dbc24-67ec-4acd-9f21-ca071e34c5be",
   "metadata": {},
   "outputs": [],
   "source": [
    "#What is the population of the top 5 most populated countries?"
   ]
  },
  {
   "cell_type": "code",
   "execution_count": 1,
   "id": "03ea9ba3-5196-4b11-bcfa-7f99dd590332",
   "metadata": {},
   "outputs": [],
   "source": [
    "from google.cloud import bigquery"
   ]
  },
  {
   "cell_type": "code",
   "execution_count": 2,
   "id": "584b50fc-d4d2-4152-838e-274bc2f052ef",
   "metadata": {},
   "outputs": [
    {
     "name": "stderr",
     "output_type": "stream",
     "text": [
      "/opt/homebrew/Caskroom/miniconda/base/envs/py312/lib/python3.12/site-packages/google/auth/_default.py:76: UserWarning: Your application has authenticated using end user credentials from Google Cloud SDK without a quota project. You might receive a \"quota exceeded\" or \"API not enabled\" error. See the following page for troubleshooting: https://cloud.google.com/docs/authentication/adc-troubleshooting/user-creds. \n",
      "  warnings.warn(_CLOUD_SDK_CREDENTIALS_WARNING)\n",
      "/opt/homebrew/Caskroom/miniconda/base/envs/py312/lib/python3.12/site-packages/google/auth/_default.py:76: UserWarning: Your application has authenticated using end user credentials from Google Cloud SDK without a quota project. You might receive a \"quota exceeded\" or \"API not enabled\" error. See the following page for troubleshooting: https://cloud.google.com/docs/authentication/adc-troubleshooting/user-creds. \n",
      "  warnings.warn(_CLOUD_SDK_CREDENTIALS_WARNING)\n"
     ]
    }
   ],
   "source": [
    "client = bigquery.Client()"
   ]
  },
  {
   "cell_type": "code",
   "execution_count": 9,
   "id": "bf283236-ea0d-4e03-9f3b-1c5af9f6bff1",
   "metadata": {},
   "outputs": [
    {
     "name": "stdout",
     "output_type": "stream",
     "text": [
      "The top 5 most populated countries are:\n",
      "China  - 1313973713\n",
      "India  - 1095351995\n",
      "United States  - 298444215\n",
      "Indonesia  - 245452739\n",
      "Brazil  - 188078227\n"
     ]
    }
   ],
   "source": [
    "def get_populated_countries():\n",
    "    query = \"\"\"\n",
    "    SELECT country, population FROM `plucky-order-444214-g8.student_data.country_table`\n",
    "    ORDER BY population DESC\n",
    "    \n",
    "    LIMIT 5;\n",
    "    \n",
    "\"\"\"\n",
    "    result = client.query(query)\n",
    "    print(\"The top 5 most populated countries are:\")\n",
    "    for i in result:\n",
    "        print(f'{i.country} - {i.population}')\n",
    "\n",
    "get_populated_countries()"
   ]
  },
  {
   "cell_type": "code",
   "execution_count": null,
   "id": "16b239fb-3d0b-4f64-b7a4-c3b400cc9add",
   "metadata": {},
   "outputs": [],
   "source": []
  }
 ],
 "metadata": {
  "kernelspec": {
   "display_name": "Python 3 (ipykernel)",
   "language": "python",
   "name": "python3"
  },
  "language_info": {
   "codemirror_mode": {
    "name": "ipython",
    "version": 3
   },
   "file_extension": ".py",
   "mimetype": "text/x-python",
   "name": "python",
   "nbconvert_exporter": "python",
   "pygments_lexer": "ipython3",
   "version": "3.12.7"
  }
 },
 "nbformat": 4,
 "nbformat_minor": 5
}
