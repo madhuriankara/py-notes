{
 "cells": [
  {
   "cell_type": "code",
   "execution_count": null,
   "id": "630dbc24-67ec-4acd-9f21-ca071e34c5be",
   "metadata": {},
   "outputs": [],
   "source": [
    "#What is the distribution of climate types across regions?"
   ]
  },
  {
   "cell_type": "code",
   "execution_count": 1,
   "id": "03ea9ba3-5196-4b11-bcfa-7f99dd590332",
   "metadata": {},
   "outputs": [],
   "source": [
    "from google.cloud import bigquery"
   ]
  },
  {
   "cell_type": "code",
   "execution_count": 2,
   "id": "584b50fc-d4d2-4152-838e-274bc2f052ef",
   "metadata": {},
   "outputs": [
    {
     "name": "stderr",
     "output_type": "stream",
     "text": [
      "/opt/homebrew/Caskroom/miniconda/base/envs/py312/lib/python3.12/site-packages/google/auth/_default.py:76: UserWarning: Your application has authenticated using end user credentials from Google Cloud SDK without a quota project. You might receive a \"quota exceeded\" or \"API not enabled\" error. See the following page for troubleshooting: https://cloud.google.com/docs/authentication/adc-troubleshooting/user-creds. \n",
      "  warnings.warn(_CLOUD_SDK_CREDENTIALS_WARNING)\n",
      "/opt/homebrew/Caskroom/miniconda/base/envs/py312/lib/python3.12/site-packages/google/auth/_default.py:76: UserWarning: Your application has authenticated using end user credentials from Google Cloud SDK without a quota project. You might receive a \"quota exceeded\" or \"API not enabled\" error. See the following page for troubleshooting: https://cloud.google.com/docs/authentication/adc-troubleshooting/user-creds. \n",
      "  warnings.warn(_CLOUD_SDK_CREDENTIALS_WARNING)\n"
     ]
    }
   ],
   "source": [
    "client = bigquery.Client()"
   ]
  },
  {
   "cell_type": "code",
   "execution_count": 6,
   "id": "bf283236-ea0d-4e03-9f3b-1c5af9f6bff1",
   "metadata": {},
   "outputs": [
    {
     "name": "stdout",
     "output_type": "stream",
     "text": [
      "The distribution of climate types across regions\n",
      "C.W. OF IND. STATES  -  2\n",
      "ASIA (EX. NEAR EAST)          -  1\n",
      "BALTICS                             -  1\n",
      "EASTERN EUROPE                      -  3\n",
      "NEAR EAST                           -  1\n",
      "NORTHERN AFRICA                     -  2\n",
      "NORTHERN AMERICA                    -  2\n",
      "SUB-SAHARAN AFRICA                  -  3\n",
      "WESTERN EUROPE                      -  7\n",
      "C.W. OF IND. STATES  -  3\n",
      "ASIA (EX. NEAR EAST)          -  4\n",
      "NEAR EAST                           -  10\n",
      "NORTHERN AFRICA                     -  3\n",
      "NORTHERN AMERICA                    -  1\n",
      "OCEANIA                             -  1\n",
      "SUB-SAHARAN AFRICA                  -  7\n",
      "C.W. OF IND. STATES  -  1\n",
      "LATIN AMER. & CARIB     -  39\n",
      "ASIA (EX. NEAR EAST)          -  18\n",
      "NORTHERN AMERICA                    -  1\n",
      "OCEANIA                             -  19\n",
      "SUB-SAHARAN AFRICA                  -  33\n",
      "C.W. OF IND. STATES  -  2\n",
      "LATIN AMER. & CARIB     -  3\n",
      "ASIA (EX. NEAR EAST)          -  3\n",
      "BALTICS                             -  2\n",
      "EASTERN EUROPE                      -  8\n",
      "NEAR EAST                           -  5\n",
      "NORTHERN AFRICA                     -  1\n",
      "NORTHERN AMERICA                    -  1\n",
      "OCEANIA                             -  1\n",
      "SUB-SAHARAN AFRICA                  -  3\n",
      "WESTERN EUROPE                      -  19\n",
      "C.W. OF IND. STATES  -  3\n",
      "EASTERN EUROPE                      -  1\n",
      "WESTERN EUROPE                      -  2\n",
      "LATIN AMER. & CARIB     -  3\n",
      "ASIA (EX. NEAR EAST)          -  1\n",
      "SUB-SAHARAN AFRICA                  -  4\n",
      "C.W. OF IND. STATES  -  1\n",
      "ASIA (EX. NEAR EAST)          -  1\n",
      "SUB-SAHARAN AFRICA                  -  1\n"
     ]
    }
   ],
   "source": [
    "def get_climate_type():\n",
    "    query = \"\"\"\n",
    "    SELECT region,\n",
    "    climate, COUNT(*) AS count,\n",
    "    FROM `plucky-order-444214-g8.student_data.country_table` \n",
    "    GROUP BY region, climate;\n",
    "    \"\"\"\n",
    "    result = client.query(query)\n",
    "    print(\"The distribution of climate types across regions\")\n",
    "    for i in result:\n",
    "        print(f'{i.region} -  {i.count}')\n",
    "\n",
    "get_climate_type()"
   ]
  },
  {
   "cell_type": "code",
   "execution_count": null,
   "id": "16b239fb-3d0b-4f64-b7a4-c3b400cc9add",
   "metadata": {},
   "outputs": [],
   "source": []
  }
 ],
 "metadata": {
  "kernelspec": {
   "display_name": "Python 3 (ipykernel)",
   "language": "python",
   "name": "python3"
  },
  "language_info": {
   "codemirror_mode": {
    "name": "ipython",
    "version": 3
   },
   "file_extension": ".py",
   "mimetype": "text/x-python",
   "name": "python",
   "nbconvert_exporter": "python",
   "pygments_lexer": "ipython3",
   "version": "3.12.7"
  }
 },
 "nbformat": 4,
 "nbformat_minor": 5
}
