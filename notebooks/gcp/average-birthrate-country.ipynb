{
 "cells": [
  {
   "cell_type": "code",
   "execution_count": null,
   "id": "630dbc24-67ec-4acd-9f21-ca071e34c5be",
   "metadata": {},
   "outputs": [],
   "source": [
    "#What is the average birthrate for countries in each climate type?"
   ]
  },
  {
   "cell_type": "code",
   "execution_count": 2,
   "id": "03ea9ba3-5196-4b11-bcfa-7f99dd590332",
   "metadata": {},
   "outputs": [],
   "source": [
    "from google.cloud import bigquery"
   ]
  },
  {
   "cell_type": "code",
   "execution_count": 3,
   "id": "584b50fc-d4d2-4152-838e-274bc2f052ef",
   "metadata": {},
   "outputs": [
    {
     "name": "stderr",
     "output_type": "stream",
     "text": [
      "/opt/homebrew/Caskroom/miniconda/base/envs/py312/lib/python3.12/site-packages/google/auth/_default.py:76: UserWarning: Your application has authenticated using end user credentials from Google Cloud SDK without a quota project. You might receive a \"quota exceeded\" or \"API not enabled\" error. See the following page for troubleshooting: https://cloud.google.com/docs/authentication/adc-troubleshooting/user-creds. \n",
      "  warnings.warn(_CLOUD_SDK_CREDENTIALS_WARNING)\n",
      "/opt/homebrew/Caskroom/miniconda/base/envs/py312/lib/python3.12/site-packages/google/auth/_default.py:76: UserWarning: Your application has authenticated using end user credentials from Google Cloud SDK without a quota project. You might receive a \"quota exceeded\" or \"API not enabled\" error. See the following page for troubleshooting: https://cloud.google.com/docs/authentication/adc-troubleshooting/user-creds. \n",
      "  warnings.warn(_CLOUD_SDK_CREDENTIALS_WARNING)\n"
     ]
    }
   ],
   "source": [
    "client = bigquery.Client()"
   ]
  },
  {
   "cell_type": "code",
   "execution_count": 7,
   "id": "bf283236-ea0d-4e03-9f3b-1c5af9f6bff1",
   "metadata": {},
   "outputs": [
    {
     "name": "stdout",
     "output_type": "stream",
     "text": [
      "The average birthrate of countries in each climate type is:\n",
      "None - 1576.0\n",
      "1 - 2401.1428571428573\n",
      "2 - 2402.7454545454552\n",
      "3 - 1288.333333333333\n",
      "4 - 906.0\n",
      "15 - 2563.9999999999995\n",
      "25 - 1723.3333333333333\n"
     ]
    }
   ],
   "source": [
    "def get_average_birthrate():\n",
    "    query = \"\"\"\n",
    "    SELECT climate,\n",
    "    AVG(birthrate) AS birthrate,\n",
    "    FROM `plucky-order-444214-g8.student_data.country_table` \n",
    "    GROUP BY climate;\n",
    "    \"\"\"\n",
    "    result = client.query(query)\n",
    "    print(\"The average birthrate of countries in each climate type is:\")\n",
    "    for i in result:\n",
    "        print(f'{i.climate} - {i.birthrate}')\n",
    "\n",
    "get_average_birthrate()"
   ]
  },
  {
   "cell_type": "code",
   "execution_count": null,
   "id": "16b239fb-3d0b-4f64-b7a4-c3b400cc9add",
   "metadata": {},
   "outputs": [],
   "source": []
  }
 ],
 "metadata": {
  "kernelspec": {
   "display_name": "Python 3 (ipykernel)",
   "language": "python",
   "name": "python3"
  },
  "language_info": {
   "codemirror_mode": {
    "name": "ipython",
    "version": 3
   },
   "file_extension": ".py",
   "mimetype": "text/x-python",
   "name": "python",
   "nbconvert_exporter": "python",
   "pygments_lexer": "ipython3",
   "version": "3.12.7"
  }
 },
 "nbformat": 4,
 "nbformat_minor": 5
}
