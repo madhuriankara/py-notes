{
 "cells": [
  {
   "cell_type": "code",
   "execution_count": 1,
   "id": "192d7b58-ff8a-45e6-84e2-1e27b60f4d86",
   "metadata": {},
   "outputs": [],
   "source": [
    "#!pip install google-cloud-bigquery\n"
   ]
  },
  {
   "cell_type": "code",
   "execution_count": 2,
   "id": "c1ecf314-3b75-40e5-98af-6119f92f6f8e",
   "metadata": {},
   "outputs": [],
   "source": [
    "from google.cloud import bigquery"
   ]
  },
  {
   "cell_type": "code",
   "execution_count": 3,
   "id": "9f509f55-899d-410f-8696-6d4912c3a7a0",
   "metadata": {},
   "outputs": [
    {
     "name": "stderr",
     "output_type": "stream",
     "text": [
      "/opt/homebrew/Caskroom/miniconda/base/envs/py312/lib/python3.12/site-packages/google/auth/_default.py:76: UserWarning: Your application has authenticated using end user credentials from Google Cloud SDK without a quota project. You might receive a \"quota exceeded\" or \"API not enabled\" error. See the following page for troubleshooting: https://cloud.google.com/docs/authentication/adc-troubleshooting/user-creds. \n",
      "  warnings.warn(_CLOUD_SDK_CREDENTIALS_WARNING)\n",
      "/opt/homebrew/Caskroom/miniconda/base/envs/py312/lib/python3.12/site-packages/google/auth/_default.py:76: UserWarning: Your application has authenticated using end user credentials from Google Cloud SDK without a quota project. You might receive a \"quota exceeded\" or \"API not enabled\" error. See the following page for troubleshooting: https://cloud.google.com/docs/authentication/adc-troubleshooting/user-creds. \n",
      "  warnings.warn(_CLOUD_SDK_CREDENTIALS_WARNING)\n"
     ]
    }
   ],
   "source": [
    "client = bigquery.Client()"
   ]
  },
  {
   "cell_type": "code",
   "execution_count": 12,
   "id": "22367e97-5a6c-4ba8-9567-30da22017c7b",
   "metadata": {},
   "outputs": [
    {
     "name": "stderr",
     "output_type": "stream",
     "text": [
      "/opt/homebrew/Caskroom/miniconda/base/envs/py312/lib/python3.12/site-packages/google/auth/_default.py:76: UserWarning: Your application has authenticated using end user credentials from Google Cloud SDK without a quota project. You might receive a \"quota exceeded\" or \"API not enabled\" error. See the following page for troubleshooting: https://cloud.google.com/docs/authentication/adc-troubleshooting/user-creds. \n",
      "  warnings.warn(_CLOUD_SDK_CREDENTIALS_WARNING)\n",
      "/opt/homebrew/Caskroom/miniconda/base/envs/py312/lib/python3.12/site-packages/google/auth/_default.py:76: UserWarning: Your application has authenticated using end user credentials from Google Cloud SDK without a quota project. You might receive a \"quota exceeded\" or \"API not enabled\" error. See the following page for troubleshooting: https://cloud.google.com/docs/authentication/adc-troubleshooting/user-creds. \n",
      "  warnings.warn(_CLOUD_SDK_CREDENTIALS_WARNING)\n"
     ]
    },
    {
     "name": "stdout",
     "output_type": "stream",
     "text": [
      "QueryJob<project=plucky-order-444214-g8, location=northamerica-northeast2, id=97dd66f7-ce69-4cbd-ad5b-13d5d69ea0ed>\n",
      "Top 10 GitHub repositories by commit count:\n",
      "Repository: Amy Thomas\n",
      "Repository: Alice Flores\n"
     ]
    }
   ],
   "source": [
    "def query_bigquery():\n",
    "    # Initialize BigQuery client\n",
    "    client = bigquery.Client()\n",
    "    query = \"\"\"\n",
    "        SELECT student_name, participation FROM `plucky-order-444214-g8.student_data.student_data_madhuri` LIMIT 2\n",
    "    \"\"\"\n",
    "\n",
    "    # Run the query\n",
    "    query_job = client.query(query)\n",
    "    print(query_job)\n",
    "\n",
    "    # Fetch and print results\n",
    "    print(\"Top 10 GitHub repositories by commit count:\")\n",
    "    for row in query_job:\n",
    "        print(f\"Repository: {row.student_name}\")\n",
    "\n",
    "# Run the example\n",
    "query_bigquery()"
   ]
  },
  {
   "cell_type": "code",
   "execution_count": null,
   "id": "0c7d89c2-3470-4f44-8b20-c84fcec0353e",
   "metadata": {},
   "outputs": [],
   "source": []
  }
 ],
 "metadata": {
  "kernelspec": {
   "display_name": "Python 3 (ipykernel)",
   "language": "python",
   "name": "python3"
  },
  "language_info": {
   "codemirror_mode": {
    "name": "ipython",
    "version": 3
   },
   "file_extension": ".py",
   "mimetype": "text/x-python",
   "name": "python",
   "nbconvert_exporter": "python",
   "pygments_lexer": "ipython3",
   "version": "3.12.7"
  }
 },
 "nbformat": 4,
 "nbformat_minor": 5
}
