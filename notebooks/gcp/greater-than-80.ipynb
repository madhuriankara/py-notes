{
 "cells": [
  {
   "cell_type": "code",
   "execution_count": 1,
   "id": "9a0b4493-5189-4127-a5a1-953106e04a78",
   "metadata": {},
   "outputs": [],
   "source": [
    "#Find students with test scores greater than 80."
   ]
  },
  {
   "cell_type": "code",
   "execution_count": 2,
   "id": "86eefd97-d67d-4eca-82a7-91bea547b8f2",
   "metadata": {},
   "outputs": [],
   "source": [
    "from google.cloud import bigquery"
   ]
  },
  {
   "cell_type": "code",
   "execution_count": 3,
   "id": "15f0dfa7-511a-4129-a99f-6e83a0232bf5",
   "metadata": {},
   "outputs": [
    {
     "name": "stderr",
     "output_type": "stream",
     "text": [
      "/opt/homebrew/Caskroom/miniconda/base/envs/py312/lib/python3.12/site-packages/google/auth/_default.py:76: UserWarning: Your application has authenticated using end user credentials from Google Cloud SDK without a quota project. You might receive a \"quota exceeded\" or \"API not enabled\" error. See the following page for troubleshooting: https://cloud.google.com/docs/authentication/adc-troubleshooting/user-creds. \n",
      "  warnings.warn(_CLOUD_SDK_CREDENTIALS_WARNING)\n",
      "/opt/homebrew/Caskroom/miniconda/base/envs/py312/lib/python3.12/site-packages/google/auth/_default.py:76: UserWarning: Your application has authenticated using end user credentials from Google Cloud SDK without a quota project. You might receive a \"quota exceeded\" or \"API not enabled\" error. See the following page for troubleshooting: https://cloud.google.com/docs/authentication/adc-troubleshooting/user-creds. \n",
      "  warnings.warn(_CLOUD_SDK_CREDENTIALS_WARNING)\n"
     ]
    }
   ],
   "source": [
    "client = bigquery.Client()"
   ]
  },
  {
   "cell_type": "code",
   "execution_count": 5,
   "id": "8bd88a45-050a-4297-952f-519533a60b85",
   "metadata": {},
   "outputs": [
    {
     "name": "stdout",
     "output_type": "stream",
     "text": [
      "result\n",
      "Top 10 GitHub repositories by commit count:\n",
      "Paul Mitchell - 82\n",
      "David Anderson - 82\n",
      "Justin Bennett - 83\n",
      "Ronald Lee - 83\n",
      "Daniel Lewis - 83\n",
      "Brian Edwards - 84\n",
      "Kenneth Butler - 84\n",
      "Kevin Young - 85\n",
      "Frank Morgan - 85\n",
      "Frank Palmer - 85\n",
      "John Doe - 85\n",
      "Alexander Torres - 85\n",
      "Steven Green - 86\n",
      "Jeffrey Hughes - 86\n",
      "Eric Morris - 86\n",
      "Charles James - 86\n",
      "James White - 87\n",
      "Gregory Rivera - 87\n",
      "Richard Ross - 87\n",
      "Timothy Alexander - 87\n",
      "Joseph Nelson - 88\n",
      "Kevin Wallace - 88\n",
      "George Phillips - 87\n",
      "Eric Wallace - 87\n",
      "Charlie Davis - 88\n",
      "Jacob Richardson - 88\n",
      "Brandon Perry - 88\n",
      "Matthew Walker - 89\n",
      "Patrick Watson - 89\n",
      "Stephen Foster - 89\n",
      "Jason Stewart - 89\n",
      "Michael Miller - 90\n",
      "Benjamin Gray - 90\n",
      "Ryan Coleman - 90\n",
      "Joshua Wright - 91\n",
      "Raymond Murphy - 91\n",
      "Justin Long - 91\n",
      "Mark Roberts - 90\n",
      "Joshua Russell - 91\n",
      "Keith Russell - 91\n",
      "Timothy Reed - 92\n",
      "Peter Sanders - 92\n",
      "Bob Johnson - 92\n",
      "Scott Howard - 92\n",
      "Dennis Myers - 92\n",
      "Edward Parker - 93\n",
      "Gary Hamilton - 93\n",
      "Chris Martin - 94\n",
      "Paul Washington - 94\n",
      "Andrew Baker - 95\n"
     ]
    }
   ],
   "source": [
    "def query_bigquery():\n",
    "    query = \"\"\"\n",
    "    SELECT student_name, test_scores FROM `plucky-order-444214-g8.student_data.student_data_madhuri` \n",
    "    WHERE test_scores > 80\n",
    "    \"\"\"\n",
    "    result = client.query(query)\n",
    "    print(\"result\")\n",
    "    \n",
    "    print(\"Top 10 GitHub repositories by commit count:\")\n",
    "    for i in result:\n",
    "        print(f'{i.student_name} - {i.test_scores}')\n",
    "query_bigquery()"
   ]
  },
  {
   "cell_type": "code",
   "execution_count": null,
   "id": "c5180594-1cf0-4332-8efa-7bad5e257f41",
   "metadata": {},
   "outputs": [],
   "source": []
  }
 ],
 "metadata": {
  "kernelspec": {
   "display_name": "Python 3 (ipykernel)",
   "language": "python",
   "name": "python3"
  },
  "language_info": {
   "codemirror_mode": {
    "name": "ipython",
    "version": 3
   },
   "file_extension": ".py",
   "mimetype": "text/x-python",
   "name": "python",
   "nbconvert_exporter": "python",
   "pygments_lexer": "ipython3",
   "version": "3.12.7"
  }
 },
 "nbformat": 4,
 "nbformat_minor": 5
}
