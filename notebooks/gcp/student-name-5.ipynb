{
 "cells": [
  {
   "cell_type": "code",
   "execution_count": 1,
   "id": "ca8e9458-8e1a-4922-a78a-bb5a34031a39",
   "metadata": {},
   "outputs": [],
   "source": [
    "#Filter students whose names contain exactly 5 letters.\n"
   ]
  },
  {
   "cell_type": "code",
   "execution_count": 2,
   "id": "d2d098a7-7346-4212-8c93-b96289aac844",
   "metadata": {},
   "outputs": [],
   "source": [
    "from google.cloud import bigquery"
   ]
  },
  {
   "cell_type": "code",
   "execution_count": 3,
   "id": "1cb07426-4e9d-4c75-a663-7a9abbdb7ece",
   "metadata": {},
   "outputs": [
    {
     "name": "stderr",
     "output_type": "stream",
     "text": [
      "/opt/homebrew/Caskroom/miniconda/base/envs/py312/lib/python3.12/site-packages/google/auth/_default.py:76: UserWarning: Your application has authenticated using end user credentials from Google Cloud SDK without a quota project. You might receive a \"quota exceeded\" or \"API not enabled\" error. See the following page for troubleshooting: https://cloud.google.com/docs/authentication/adc-troubleshooting/user-creds. \n",
      "  warnings.warn(_CLOUD_SDK_CREDENTIALS_WARNING)\n",
      "/opt/homebrew/Caskroom/miniconda/base/envs/py312/lib/python3.12/site-packages/google/auth/_default.py:76: UserWarning: Your application has authenticated using end user credentials from Google Cloud SDK without a quota project. You might receive a \"quota exceeded\" or \"API not enabled\" error. See the following page for troubleshooting: https://cloud.google.com/docs/authentication/adc-troubleshooting/user-creds. \n",
      "  warnings.warn(_CLOUD_SDK_CREDENTIALS_WARNING)\n"
     ]
    }
   ],
   "source": [
    "client = bigquery.Client()"
   ]
  },
  {
   "cell_type": "code",
   "execution_count": 6,
   "id": "6bbf65db-3450-451a-875b-f25eedbcab47",
   "metadata": {},
   "outputs": [
    {
     "name": "stdout",
     "output_type": "stream",
     "text": [
      "result\n",
      "Top 10 GitHub repositories by commit count:\n",
      "Amy Thomas\n",
      "Angela Cox\n",
      "Lisa Perez\n",
      "Linda Reed\n",
      "Mary Price\n",
      "Megan Ward\n",
      "Jane Smith\n",
      "Ronald Lee\n"
     ]
    }
   ],
   "source": [
    "def query_bigquery():\n",
    "    query = \"\"\"\n",
    "    SELECT student_name, project_scores, got_job FROM `plucky-order-444214-g8.student_data.student_data_madhuri` \n",
    "    WHERE LENGTH(student_name) = 10\n",
    "    \"\"\"\n",
    "    result = client.query(query)\n",
    "    print(\"result\")\n",
    "    \n",
    "    print(\"Top 10 GitHub repositories by commit count:\")\n",
    "    for i in result:\n",
    "        print(f'{i.student_name}')\n",
    "query_bigquery()"
   ]
  },
  {
   "cell_type": "code",
   "execution_count": null,
   "id": "b60ede4c-0d66-40a4-80fc-3a71891b2247",
   "metadata": {},
   "outputs": [],
   "source": []
  }
 ],
 "metadata": {
  "kernelspec": {
   "display_name": "Python 3 (ipykernel)",
   "language": "python",
   "name": "python3"
  },
  "language_info": {
   "codemirror_mode": {
    "name": "ipython",
    "version": 3
   },
   "file_extension": ".py",
   "mimetype": "text/x-python",
   "name": "python",
   "nbconvert_exporter": "python",
   "pygments_lexer": "ipython3",
   "version": "3.12.7"
  }
 },
 "nbformat": 4,
 "nbformat_minor": 5
}
