{
 "cells": [
  {
   "cell_type": "code",
   "execution_count": 1,
   "id": "0ee7591d-2ab8-4880-b256-d315a2248775",
   "metadata": {},
   "outputs": [],
   "source": [
    "#List students whose attendance is within 5% of the class median attendance."
   ]
  },
  {
   "cell_type": "code",
   "execution_count": 2,
   "id": "c511bed3-5179-43f1-b0b8-811a316abe5f",
   "metadata": {},
   "outputs": [],
   "source": [
    "from google.cloud import bigquery"
   ]
  },
  {
   "cell_type": "code",
   "execution_count": 3,
   "id": "2dabdde9-02ce-408f-8cc0-aadab0db3d32",
   "metadata": {},
   "outputs": [
    {
     "name": "stderr",
     "output_type": "stream",
     "text": [
      "/opt/homebrew/Caskroom/miniconda/base/envs/py312/lib/python3.12/site-packages/google/auth/_default.py:76: UserWarning: Your application has authenticated using end user credentials from Google Cloud SDK without a quota project. You might receive a \"quota exceeded\" or \"API not enabled\" error. See the following page for troubleshooting: https://cloud.google.com/docs/authentication/adc-troubleshooting/user-creds. \n",
      "  warnings.warn(_CLOUD_SDK_CREDENTIALS_WARNING)\n",
      "/opt/homebrew/Caskroom/miniconda/base/envs/py312/lib/python3.12/site-packages/google/auth/_default.py:76: UserWarning: Your application has authenticated using end user credentials from Google Cloud SDK without a quota project. You might receive a \"quota exceeded\" or \"API not enabled\" error. See the following page for troubleshooting: https://cloud.google.com/docs/authentication/adc-troubleshooting/user-creds. \n",
      "  warnings.warn(_CLOUD_SDK_CREDENTIALS_WARNING)\n"
     ]
    }
   ],
   "source": [
    "client = bigquery.Client()"
   ]
  },
  {
   "cell_type": "code",
   "execution_count": 10,
   "id": "d8412901-8ae5-46df-9e16-549a5dfef738",
   "metadata": {},
   "outputs": [
    {
     "name": "stdout",
     "output_type": "stream",
     "text": [
      "Students with attendance within 5% of the class median attendance:\n",
      "John Doe - Attendance: 90% - Median Attendance: 85%\n",
      "Alexander Torres - Attendance: 90% - Median Attendance: 85%\n",
      "Steven Green - Attendance: 90% - Median Attendance: 85%\n",
      "Jeffrey Hughes - Attendance: 90% - Median Attendance: 85%\n",
      "Kevin Young - Attendance: 89% - Median Attendance: 85%\n",
      "Frank Morgan - Attendance: 89% - Median Attendance: 85%\n",
      "Frank Palmer - Attendance: 89% - Median Attendance: 85%\n",
      "Daniel Lewis - Attendance: 88% - Median Attendance: 85%\n",
      "Brian Edwards - Attendance: 88% - Median Attendance: 85%\n",
      "Kenneth Butler - Attendance: 88% - Median Attendance: 85%\n",
      "David Anderson - Attendance: 87% - Median Attendance: 85%\n",
      "Justin Bennett - Attendance: 87% - Median Attendance: 85%\n",
      "Ronald Lee - Attendance: 87% - Median Attendance: 85%\n",
      "Paul Mitchell - Attendance: 86% - Median Attendance: 85%\n",
      "Jane Smith - Attendance: 85% - Median Attendance: 85%\n",
      "Sandra Turner - Attendance: 81% - Median Attendance: 85%\n",
      "Alice Brown - Attendance: 80% - Median Attendance: 85%\n",
      "Sarah Taylor - Attendance: 80% - Median Attendance: 85%\n",
      "Sharon Cook - Attendance: 80% - Median Attendance: 85%\n"
     ]
    }
   ],
   "source": [
    "def query_bigquery():\n",
    "    query = \"\"\"\n",
    "        WITH median_attendance AS (\n",
    "            SELECT \n",
    "                APPROX_QUANTILES(attendance, 2)[OFFSET(1)] AS median_attendance\n",
    "            FROM \n",
    "                `plucky-order-444214-g8.student_data.student_data_madhuri`\n",
    "        )\n",
    "        SELECT \n",
    "            s.student_name, \n",
    "            s.attendance, \n",
    "            m.median_attendance\n",
    "        FROM \n",
    "            `plucky-order-444214-g8.student_data.student_data_madhuri` AS s, \n",
    "            median_attendance AS m\n",
    "        WHERE \n",
    "            ABS(s.attendance - m.median_attendance) <= 5\n",
    "        ORDER BY \n",
    "            s.attendance DESC;\n",
    "    \"\"\"\n",
    "\n",
    "    result = client.query(query).result()\n",
    "\n",
    "    print(\"Students with attendance within 5% of the class median attendance:\")\n",
    "    for row in result:\n",
    "        print(f\"{row.student_name} - Attendance: {row.attendance}% - Median Attendance: {row.median_attendance}%\")\n",
    "\n",
    "query_bigquery()\n"
   ]
  },
  {
   "cell_type": "code",
   "execution_count": null,
   "id": "bef15542-15d1-4c61-bf86-c64cb7aec22a",
   "metadata": {},
   "outputs": [],
   "source": []
  }
 ],
 "metadata": {
  "kernelspec": {
   "display_name": "Python 3 (ipykernel)",
   "language": "python",
   "name": "python3"
  },
  "language_info": {
   "codemirror_mode": {
    "name": "ipython",
    "version": 3
   },
   "file_extension": ".py",
   "mimetype": "text/x-python",
   "name": "python",
   "nbconvert_exporter": "python",
   "pygments_lexer": "ipython3",
   "version": "3.12.7"
  }
 },
 "nbformat": 4,
 "nbformat_minor": 5
}
