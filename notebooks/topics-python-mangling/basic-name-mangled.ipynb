{
 "cells": [
  {
   "cell_type": "code",
   "execution_count": 1,
   "id": "a35b27d5-ae75-4951-9c6e-72143366b61f",
   "metadata": {},
   "outputs": [],
   "source": [
    "#created on 20250115"
   ]
  },
  {
   "cell_type": "code",
   "execution_count": 2,
   "id": "87a74340-659a-46db-b840-e7c0dbc1062c",
   "metadata": {},
   "outputs": [],
   "source": [
    " #Basic Name-Mangled Method"
   ]
  },
  {
   "cell_type": "code",
   "execution_count": 4,
   "id": "cbbccb6d-b6fb-41d6-887a-07f34376a4da",
   "metadata": {},
   "outputs": [
    {
     "name": "stdout",
     "output_type": "stream",
     "text": [
      "This is a hidden method!\n",
      "This is a hidden method!\n"
     ]
    }
   ],
   "source": [
    "class MyClass:\n",
    "    def __hidden_method(self):\n",
    "        print(\"This is a hidden method!\")\n",
    "\n",
    "    def call_hidden(self):\n",
    "        self.__hidden_method()\n",
    "\n",
    "obj = MyClass()\n",
    "obj.call_hidden()  \n",
    "\n",
    "obj._MyClass__hidden_method()  \n"
   ]
  },
  {
   "cell_type": "code",
   "execution_count": 5,
   "id": "0da11c9a-fe80-4f7a-abf3-8c9014f7d65e",
   "metadata": {},
   "outputs": [],
   "source": [
    "#dunder method"
   ]
  },
  {
   "cell_type": "code",
   "execution_count": 6,
   "id": "6c3a74f7-d505-497d-a8a8-2e3ffe11268f",
   "metadata": {},
   "outputs": [
    {
     "name": "stdout",
     "output_type": "stream",
     "text": [
      "Alice, 30 years old\n"
     ]
    }
   ],
   "source": [
    "class Person:\n",
    "    def __init__(self, name, age):\n",
    "        self.name = name\n",
    "        self.age = age\n",
    "\n",
    "    def __str__(self):\n",
    "        return f\"{self.name}, {self.age} years old\"\n",
    "\n",
    "person = Person(\"Alice\", 30)\n",
    "print(person)  # Output: Alice, 30 years old\n"
   ]
  },
  {
   "cell_type": "code",
   "execution_count": 7,
   "id": "06412b5f-bf92-4c19-a80a-9c9c82eebb7d",
   "metadata": {},
   "outputs": [
    {
     "name": "stdout",
     "output_type": "stream",
     "text": [
      "Person(name='Alice', age=30)\n"
     ]
    }
   ],
   "source": [
    "class Person:\n",
    "    def __init__(self, name, age):\n",
    "        self.name = name\n",
    "        self.age = age\n",
    "\n",
    "    def __repr__(self):\n",
    "        return f\"Person(name='{self.name}', age={self.age})\"\n",
    "\n",
    "p = Person(\"Alice\", 30)\n",
    "print(repr(p))  # Output: Person(name='Alice', age=30)\n"
   ]
  },
  {
   "cell_type": "code",
   "execution_count": 8,
   "id": "ec72174a-9e97-418b-bf26-30c3f21a6542",
   "metadata": {},
   "outputs": [],
   "source": [
    "#self vs class"
   ]
  },
  {
   "cell_type": "code",
   "execution_count": 9,
   "id": "7a6d39c2-df60-4ec0-9e7f-d6de22cd5739",
   "metadata": {},
   "outputs": [
    {
     "name": "stdout",
     "output_type": "stream",
     "text": [
      "10\n",
      "20\n"
     ]
    }
   ],
   "source": [
    "class MyClass:\n",
    "    def __init__(self, value):\n",
    "        self.value = value \n",
    "\n",
    "    def display_value(self):\n",
    "        print(self.value)  \n",
    "\n",
    "obj1 = MyClass(10)\n",
    "obj2 = MyClass(20)\n",
    "\n",
    "obj1.display_value()  # Output: 10\n",
    "obj2.display_value()  # Output: 20\n"
   ]
  },
  {
   "cell_type": "code",
   "execution_count": 11,
   "id": "55913f15-6f33-44d9-a70f-d55a6fcffb49",
   "metadata": {},
   "outputs": [
    {
     "name": "stdout",
     "output_type": "stream",
     "text": [
      "Buddy says woof!\n",
      "Charlie says woof!\n"
     ]
    }
   ],
   "source": [
    "class Dog:\n",
    "    def __init__(self, name):\n",
    "        self.name = name  # 'self.name' belongs to the specific dog\n",
    "\n",
    "    def speak(self):\n",
    "        print(f\"{self.name} says woof!\")\n",
    "\n",
    "dog1 = Dog(\"Buddy\")  \n",
    "dog2 = Dog(\"Charlie\")  \n",
    "\n",
    "dog1.speak() \n",
    "dog2.speak() \n"
   ]
  },
  {
   "cell_type": "code",
   "execution_count": 13,
   "id": "68ac8405-28a5-419f-9f0f-675ad6846fdd",
   "metadata": {},
   "outputs": [
    {
     "name": "stdout",
     "output_type": "stream",
     "text": [
      "Toyota\n",
      "Blue\n",
      "The Red Toyota is driving.\n",
      "The Blue Honda is driving.\n"
     ]
    }
   ],
   "source": [
    "class Car:\n",
    "    def __init__(self, brand, color):\n",
    "        self.brand = brand  \n",
    "        self.color = color  \n",
    "\n",
    "    def drive(self):\n",
    "        print(f\"The {self.color} {self.brand} is driving.\")\n",
    "\n",
    "\n",
    "car1 = Car(\"Toyota\", \"Red\")\n",
    "car2 = Car(\"Honda\", \"Blue\")\n",
    "\n",
    "print(car1.brand)  \n",
    "print(car2.color)  \n",
    "\n",
    "car1.drive()  \n",
    "car2.drive()  \n"
   ]
  },
  {
   "cell_type": "code",
   "execution_count": 14,
   "id": "2db82675-11aa-4577-8e31-35b43d87c94b",
   "metadata": {},
   "outputs": [],
   "source": [
    "#__str__"
   ]
  },
  {
   "cell_type": "code",
   "execution_count": 15,
   "id": "0b636f8e-7e29-442d-b93d-b9cc4b70542a",
   "metadata": {},
   "outputs": [
    {
     "name": "stdout",
     "output_type": "stream",
     "text": [
      "Alice, 30 years old\n"
     ]
    }
   ],
   "source": [
    "class Person:\n",
    "    def __init__(self, name, age):\n",
    "        self.name = name\n",
    "        self.age = age\n",
    "\n",
    "    def __str__(self):\n",
    "        return f\"{self.name}, {self.age} years old\"\n",
    "\n",
    "p = Person(\"Alice\", 30)\n",
    "print(p)  \n"
   ]
  },
  {
   "cell_type": "code",
   "execution_count": 16,
   "id": "6d884727-1559-443c-a617-44ac419181e0",
   "metadata": {},
   "outputs": [
    {
     "name": "stdout",
     "output_type": "stream",
     "text": [
      "Charlie, 40 years old\n",
      "Person(name='Charlie', age=40)\n"
     ]
    }
   ],
   "source": [
    "class Person:\n",
    "    def __init__(self, name, age):\n",
    "        self.name = name\n",
    "        self.age = age\n",
    "\n",
    "    def __str__(self):\n",
    "        return f\"{self.name}, {self.age} years old\"  # User-friendly\n",
    "\n",
    "    def __repr__(self):\n",
    "        return f\"Person(name='{self.name}', age={self.age})\"  # Developer-friendly\n",
    "\n",
    "p = Person(\"Charlie\", 40)\n",
    "print(str(p))   \n",
    "print(repr(p))  "
   ]
  },
  {
   "cell_type": "code",
   "execution_count": null,
   "id": "bac246af-456f-4a2f-a7c5-a38b02f5300d",
   "metadata": {},
   "outputs": [],
   "source": []
  }
 ],
 "metadata": {
  "kernelspec": {
   "display_name": "Python 3 (ipykernel)",
   "language": "python",
   "name": "python3"
  },
  "language_info": {
   "codemirror_mode": {
    "name": "ipython",
    "version": 3
   },
   "file_extension": ".py",
   "mimetype": "text/x-python",
   "name": "python",
   "nbconvert_exporter": "python",
   "pygments_lexer": "ipython3",
   "version": "3.12.7"
  }
 },
 "nbformat": 4,
 "nbformat_minor": 5
}
