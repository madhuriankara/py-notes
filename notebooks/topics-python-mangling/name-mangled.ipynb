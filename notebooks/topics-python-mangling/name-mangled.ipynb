{
 "cells": [
  {
   "cell_type": "code",
   "execution_count": 1,
   "id": "5fa9f36c-41bf-4f7d-a8d1-cca6d42886c9",
   "metadata": {},
   "outputs": [],
   "source": [
    "#created on 20250116"
   ]
  },
  {
   "cell_type": "code",
   "execution_count": 2,
   "id": "b8554ecb-b2cd-4555-8cbf-1ce379ad5c01",
   "metadata": {},
   "outputs": [],
   "source": [
    "#Name Mangling in a Base and Subclass"
   ]
  },
  {
   "cell_type": "code",
   "execution_count": 5,
   "id": "6ab5a798-b926-4474-bd4c-494e97c00da9",
   "metadata": {},
   "outputs": [
    {
     "name": "stdout",
     "output_type": "stream",
     "text": [
      "Base private variable\n",
      "Base private variable\n",
      "Subclass private variable\n"
     ]
    }
   ],
   "source": [
    "class Base:\n",
    "    def __init__(self):\n",
    "        self.__private_var = \"Base private variable\"\n",
    "    \n",
    "    def show_private_var(self):\n",
    "        return self.__private_var\n",
    "\n",
    "class Sub(Base):\n",
    "    def __init__(self):\n",
    "        super().__init__()\n",
    "        self.__private_var = \"Subclass private variable\"\n",
    "\n",
    "base_obj = Base()\n",
    "print(base_obj.show_private_var())  \n",
    "\n",
    "sub_obj = Sub()\n",
    "print(sub_obj.show_private_var())  \n",
    "print(sub_obj._Sub__private_var)    "
   ]
  },
  {
   "cell_type": "code",
   "execution_count": 4,
   "id": "c924bd10-b635-4171-a4fd-effff2bcd9d8",
   "metadata": {},
   "outputs": [],
   "source": [
    "#Accessing Mangled Attributes"
   ]
  },
  {
   "cell_type": "code",
   "execution_count": 6,
   "id": "a4fdebaa-dd6c-47ef-99bc-3460959b3e2c",
   "metadata": {},
   "outputs": [
    {
     "name": "stdout",
     "output_type": "stream",
     "text": [
      "Hidden Value\n",
      "Hidden Value\n"
     ]
    }
   ],
   "source": [
    "class Example:\n",
    "    def __init__(self):\n",
    "        self.__hidden = \"Hidden Value\"\n",
    "\n",
    "    def get_hidden(self):\n",
    "        return self.__hidden\n",
    "\n",
    "obj = Example()\n",
    "print(obj.get_hidden())        \n",
    "print(obj._Example__hidden)    \n"
   ]
  },
  {
   "cell_type": "code",
   "execution_count": null,
   "id": "b0844c22-c5e6-40a8-b401-80e35fc4afef",
   "metadata": {},
   "outputs": [],
   "source": []
  }
 ],
 "metadata": {
  "kernelspec": {
   "display_name": "Python 3 (ipykernel)",
   "language": "python",
   "name": "python3"
  },
  "language_info": {
   "codemirror_mode": {
    "name": "ipython",
    "version": 3
   },
   "file_extension": ".py",
   "mimetype": "text/x-python",
   "name": "python",
   "nbconvert_exporter": "python",
   "pygments_lexer": "ipython3",
   "version": "3.12.7"
  }
 },
 "nbformat": 4,
 "nbformat_minor": 5
}
