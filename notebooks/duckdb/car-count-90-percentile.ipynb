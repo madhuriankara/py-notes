{
 "cells": [
  {
   "cell_type": "code",
   "execution_count": 1,
   "id": "819bfd52-eb6a-48f1-a44f-548ce2e45936",
   "metadata": {},
   "outputs": [],
   "source": [
    "#!pip install duckdb"
   ]
  },
  {
   "cell_type": "code",
   "execution_count": 1,
   "id": "cccdfa10-2e53-49e9-af2c-fdef0d6b8404",
   "metadata": {},
   "outputs": [],
   "source": [
    "import duckdb"
   ]
  },
  {
   "cell_type": "code",
   "execution_count": 2,
   "id": "a47ddf1f-2aee-442e-836b-550cd86977e6",
   "metadata": {},
   "outputs": [],
   "source": [
    "# Connect to DuckDB\n",
    "con = duckdb.connect()\n"
   ]
  },
  {
   "cell_type": "code",
   "execution_count": 3,
   "id": "97f24a69-abc2-4a1e-9bb8-de0e702bfd16",
   "metadata": {},
   "outputs": [
    {
     "data": {
      "text/plain": [
       "<duckdb.duckdb.DuckDBPyConnection at 0x1062feb30>"
      ]
     },
     "execution_count": 3,
     "metadata": {},
     "output_type": "execute_result"
    }
   ],
   "source": [
    "# Load CSV file\n",
    "con.execute(\"CREATE TABLE automobile AS SELECT * FROM 'automobile_data.csv'\")\n"
   ]
  },
  {
   "cell_type": "code",
   "execution_count": 4,
   "id": "0b475d60-7166-49bc-90fd-3bb9e0932225",
   "metadata": {},
   "outputs": [],
   "source": [
    "#Count how many cars have a height above the 90th percentile."
   ]
  },
  {
   "cell_type": "code",
   "execution_count": 14,
   "id": "37d48059-ff17-4f46-857e-29d7efe4f368",
   "metadata": {},
   "outputs": [],
   "source": [
    "result = con.execute(\"\"\"SELECT \"height\" ,make, COUNT(*) AS num_cars FROM automobile\n",
    "                        WHERE height > 0.9\n",
    "                        GROUP BY make, \"height\" \"\"\").fetchall()\n",
    "                        "
   ]
  },
  {
   "cell_type": "code",
   "execution_count": 15,
   "id": "7b814885-48a8-492b-b266-c90b8cbd3d82",
   "metadata": {},
   "outputs": [
    {
     "data": {
      "text/plain": [
       "[(52.6, 'honda', 3),\n",
       " (54.5, 'honda', 1),\n",
       " (50.8, 'mercedes-benz', 1),\n",
       " (49.4, 'mitsubishi', 2),\n",
       " (50.6, 'plymouth', 1),\n",
       " (54.5, 'toyota', 3),\n",
       " (52.6, 'toyota', 4),\n",
       " (48.8, 'alfa-romero', 2),\n",
       " (53.7, 'bmw', 1),\n",
       " (59.8, 'dodge', 1),\n",
       " (50.2, 'dodge', 1),\n",
       " (50.8, 'honda', 2),\n",
       " (54.1, 'mazda', 5),\n",
       " (54.4, 'mazda', 2),\n",
       " (56.7, 'mercedes-benz', 1),\n",
       " (55.4, 'mercedes-benz', 1),\n",
       " (50.2, 'mitsubishi', 3),\n",
       " (50.2, 'porsche', 1),\n",
       " (54.3, 'subaru', 2),\n",
       " (59.1, 'toyota', 3),\n",
       " (53.2, 'chevrolet', 1),\n",
       " (51.4, 'isuzu', 1),\n",
       " (53.7, 'mazda', 2),\n",
       " (56.5, 'mercedes-benz', 2),\n",
       " (54.8, 'mercury', 1),\n",
       " (49.7, 'nissan', 3),\n",
       " (59.8, 'plymouth', 1),\n",
       " (50.2, 'plymouth', 1),\n",
       " (55.2, 'renault', 1),\n",
       " (55.7, 'subaru', 1),\n",
       " (54.9, 'subaru', 2),\n",
       " (54.9, 'toyota', 3),\n",
       " (54.3, 'audi', 2),\n",
       " (58.3, 'honda', 1),\n",
       " (53.3, 'honda', 2),\n",
       " (52.0, 'isuzu', 2),\n",
       " (52.8, 'jaguar', 2),\n",
       " (47.8, 'jaguar', 1),\n",
       " (55.5, 'mazda', 4),\n",
       " (51.6, 'mitsubishi', 4),\n",
       " (51.6, 'porsche', 3),\n",
       " (52.5, 'subaru', 3),\n",
       " (53.0, 'subaru', 2),\n",
       " (53.0, 'toyota', 4),\n",
       " (55.6, 'volkswagen', 1),\n",
       " (51.4, 'volkswagen', 1),\n",
       " (56.2, 'volvo', 3),\n",
       " (55.7, 'audi', 2),\n",
       " (51.0, 'honda', 1),\n",
       " (54.5, 'nissan', 6),\n",
       " (54.7, 'nissan', 2),\n",
       " (56.1, 'nissan', 1),\n",
       " (58.7, 'peugot', 3),\n",
       " (56.0, 'peugot', 1),\n",
       " (50.5, 'porsche', 1),\n",
       " (50.5, 'renault', 1),\n",
       " (53.9, 'toyota', 2),\n",
       " (57.5, 'volvo', 3),\n",
       " (55.5, 'volvo', 5),\n",
       " (53.1, 'audi', 1),\n",
       " (55.7, 'bmw', 2),\n",
       " (50.8, 'dodge', 3),\n",
       " (54.1, 'honda', 3),\n",
       " (49.6, 'mazda', 4),\n",
       " (56.3, 'mercedes-benz', 1),\n",
       " (50.8, 'mitsubishi', 4),\n",
       " (55.1, 'nissan', 2),\n",
       " (56.7, 'peugot', 7),\n",
       " (56.1, 'saab', 6),\n",
       " (54.1, 'toyota', 2),\n",
       " (55.9, 'audi', 1),\n",
       " (54.3, 'bmw', 4),\n",
       " (53.5, 'isuzu', 1),\n",
       " (50.8, 'plymouth', 4),\n",
       " (53.7, 'subaru', 2),\n",
       " (52.8, 'toyota', 4),\n",
       " (52.0, 'toyota', 7),\n",
       " (55.7, 'volkswagen', 7),\n",
       " (55.1, 'volkswagen', 3),\n",
       " (52.4, 'alfa-romero', 1),\n",
       " (52.0, 'audi', 1),\n",
       " (56.3, 'bmw', 1),\n",
       " (52.0, 'chevrolet', 2),\n",
       " (50.6, 'dodge', 4),\n",
       " (58.7, 'mercedes-benz', 1),\n",
       " (54.9, 'mercedes-benz', 1),\n",
       " (53.5, 'nissan', 2),\n",
       " (53.3, 'nissan', 2)]"
      ]
     },
     "execution_count": 15,
     "metadata": {},
     "output_type": "execute_result"
    }
   ],
   "source": [
    "result"
   ]
  },
  {
   "cell_type": "code",
   "execution_count": 21,
   "id": "ddd14e2d-93b9-4874-a801-265bcd71a320",
   "metadata": {},
   "outputs": [],
   "source": [
    "\n"
   ]
  },
  {
   "cell_type": "code",
   "execution_count": null,
   "id": "06767ef1-b2f4-4dcf-84d9-f3c0962fe8a9",
   "metadata": {},
   "outputs": [],
   "source": []
  },
  {
   "cell_type": "code",
   "execution_count": null,
   "id": "39ac3026-d488-4e7d-91e7-c05715a80530",
   "metadata": {},
   "outputs": [],
   "source": []
  },
  {
   "cell_type": "code",
   "execution_count": null,
   "id": "67444de4-bb23-4212-b2f3-ca2c174b616a",
   "metadata": {},
   "outputs": [],
   "source": []
  }
 ],
 "metadata": {
  "kernelspec": {
   "display_name": "Python 3 (ipykernel)",
   "language": "python",
   "name": "python3"
  },
  "language_info": {
   "codemirror_mode": {
    "name": "ipython",
    "version": 3
   },
   "file_extension": ".py",
   "mimetype": "text/x-python",
   "name": "python",
   "nbconvert_exporter": "python",
   "pygments_lexer": "ipython3",
   "version": "3.12.7"
  }
 },
 "nbformat": 4,
 "nbformat_minor": 5
}
