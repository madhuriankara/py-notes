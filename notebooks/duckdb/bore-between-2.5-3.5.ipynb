{
 "cells": [
  {
   "cell_type": "code",
   "execution_count": 2,
   "id": "dcc45873-5a9b-4e0f-9b8f-e05ec41b0eac",
   "metadata": {},
   "outputs": [],
   "source": [
    "import duckdb"
   ]
  },
  {
   "cell_type": "code",
   "execution_count": 3,
   "id": "fbdfdb2c-d31a-4ed2-b293-d68be095c3c0",
   "metadata": {},
   "outputs": [],
   "source": [
    "con = duckdb.connect()"
   ]
  },
  {
   "cell_type": "code",
   "execution_count": 4,
   "id": "583e160e-c0c2-4b32-a8da-8ebbf4cc7d19",
   "metadata": {},
   "outputs": [
    {
     "data": {
      "text/plain": [
       "<duckdb.duckdb.DuckDBPyConnection at 0x113c33470>"
      ]
     },
     "execution_count": 4,
     "metadata": {},
     "output_type": "execute_result"
    }
   ],
   "source": [
    "con.execute(\"CREATE TABLE automobile AS SELECT * FROM 'automobile_data.csv'\")"
   ]
  },
  {
   "cell_type": "code",
   "execution_count": 5,
   "id": "d6ea8a31-005f-4757-a198-97142ac543ef",
   "metadata": {},
   "outputs": [],
   "source": [
    "#Find cars where the bore is between 2.5 and 3.5, inclusive."
   ]
  },
  {
   "cell_type": "code",
   "execution_count": 13,
   "id": "78e14ff2-846a-43a0-9c4a-abb4748cc966",
   "metadata": {},
   "outputs": [],
   "source": [
    "result = con.execute(\"\"\"SELECT make,\"bore\"\n",
    "                     FROM automobile\n",
    "                     WHERE CAST(\"bore\" AS FLOAT) BETWEEN 2.5 AND 3.5\n",
    "                     AND bore != '?' \"\"\").fetchall()"
   ]
  },
  {
   "cell_type": "code",
   "execution_count": 14,
   "id": "4e7a7eec-c9a2-4be8-b707-b7d5f0d35d91",
   "metadata": {},
   "outputs": [
    {
     "data": {
      "text/plain": [
       "[('alfa-romero', '3.47'),\n",
       " ('alfa-romero', '3.47'),\n",
       " ('alfa-romero', '2.68'),\n",
       " ('audi', '3.19'),\n",
       " ('audi', '3.19'),\n",
       " ('audi', '3.19'),\n",
       " ('audi', '3.19'),\n",
       " ('audi', '3.19'),\n",
       " ('audi', '3.13'),\n",
       " ('audi', '3.13'),\n",
       " ('bmw', '3.5'),\n",
       " ('bmw', '3.5'),\n",
       " ('bmw', '3.31'),\n",
       " ('bmw', '3.31'),\n",
       " ('bmw', '3.31'),\n",
       " ('chevrolet', '2.91'),\n",
       " ('chevrolet', '3.03'),\n",
       " ('chevrolet', '3.03'),\n",
       " ('dodge', '2.97'),\n",
       " ('dodge', '2.97'),\n",
       " ('dodge', '3.03'),\n",
       " ('dodge', '2.97'),\n",
       " ('dodge', '2.97'),\n",
       " ('dodge', '2.97'),\n",
       " ('dodge', '3.03'),\n",
       " ('dodge', '3.34'),\n",
       " ('honda', '2.91'),\n",
       " ('honda', '2.91'),\n",
       " ('honda', '2.91'),\n",
       " ('honda', '2.91'),\n",
       " ('honda', '2.91'),\n",
       " ('honda', '2.91'),\n",
       " ('honda', '2.92'),\n",
       " ('honda', '3.15'),\n",
       " ('honda', '3.15'),\n",
       " ('honda', '3.15'),\n",
       " ('honda', '3.15'),\n",
       " ('honda', '3.15'),\n",
       " ('honda', '3.15'),\n",
       " ('isuzu', '3.31'),\n",
       " ('isuzu', '3.03'),\n",
       " ('isuzu', '3.03'),\n",
       " ('isuzu', '3.43'),\n",
       " ('mazda', '3.03'),\n",
       " ('mazda', '3.03'),\n",
       " ('mazda', '3.03'),\n",
       " ('mazda', '3.03'),\n",
       " ('mazda', '3.08'),\n",
       " ('mazda', '3.39'),\n",
       " ('mazda', '3.39'),\n",
       " ('mazda', '3.39'),\n",
       " ('mazda', '3.39'),\n",
       " ('mazda', '3.39'),\n",
       " ('mazda', '3.39'),\n",
       " ('mazda', '3.43'),\n",
       " ('mercedes-benz', '3.46'),\n",
       " ('mercedes-benz', '3.46'),\n",
       " ('mitsubishi', '2.97'),\n",
       " ('mitsubishi', '2.97'),\n",
       " ('mitsubishi', '2.97'),\n",
       " ('mitsubishi', '3.03'),\n",
       " ('mitsubishi', '3.17'),\n",
       " ('mitsubishi', '3.35'),\n",
       " ('mitsubishi', '3.35'),\n",
       " ('mitsubishi', '3.35'),\n",
       " ('mitsubishi', '3.17'),\n",
       " ('mitsubishi', '3.17'),\n",
       " ('nissan', '3.15'),\n",
       " ('nissan', '2.99'),\n",
       " ('nissan', '3.15'),\n",
       " ('nissan', '3.15'),\n",
       " ('nissan', '3.15'),\n",
       " ('nissan', '3.15'),\n",
       " ('nissan', '3.15'),\n",
       " ('nissan', '3.15'),\n",
       " ('nissan', '3.15'),\n",
       " ('nissan', '3.15'),\n",
       " ('nissan', '3.33'),\n",
       " ('nissan', '3.33'),\n",
       " ('nissan', '3.43'),\n",
       " ('nissan', '3.43'),\n",
       " ('nissan', '3.43'),\n",
       " ('nissan', '3.43'),\n",
       " ('nissan', '3.43'),\n",
       " ('nissan', '3.43'),\n",
       " ('peugot', '3.46'),\n",
       " ('peugot', '3.46'),\n",
       " ('peugot', '3.46'),\n",
       " ('peugot', '3.46'),\n",
       " ('peugot', '3.46'),\n",
       " ('plymouth', '2.97'),\n",
       " ('plymouth', '3.03'),\n",
       " ('plymouth', '2.97'),\n",
       " ('plymouth', '2.97'),\n",
       " ('plymouth', '2.97'),\n",
       " ('plymouth', '3.35'),\n",
       " ('renault', '3.46'),\n",
       " ('renault', '3.46'),\n",
       " ('saab', '2.54'),\n",
       " ('toyota', '3.05'),\n",
       " ('toyota', '3.05'),\n",
       " ('toyota', '3.05'),\n",
       " ('toyota', '3.05'),\n",
       " ('toyota', '3.05'),\n",
       " ('toyota', '3.05'),\n",
       " ('toyota', '3.19'),\n",
       " ('toyota', '3.19'),\n",
       " ('toyota', '3.27'),\n",
       " ('toyota', '3.27'),\n",
       " ('toyota', '3.19'),\n",
       " ('toyota', '3.19'),\n",
       " ('toyota', '3.19'),\n",
       " ('toyota', '3.19'),\n",
       " ('toyota', '3.19'),\n",
       " ('toyota', '3.24'),\n",
       " ('toyota', '3.24'),\n",
       " ('toyota', '3.31'),\n",
       " ('toyota', '3.27'),\n",
       " ('toyota', '3.31'),\n",
       " ('toyota', '3.31'),\n",
       " ('toyota', '3.31'),\n",
       " ('toyota', '3.27'),\n",
       " ('toyota', '3.27'),\n",
       " ('toyota', '3.27'),\n",
       " ('toyota', '3.27'),\n",
       " ('volkswagen', '3.01'),\n",
       " ('volkswagen', '3.19'),\n",
       " ('volkswagen', '3.01'),\n",
       " ('volkswagen', '3.19'),\n",
       " ('volkswagen', '3.19'),\n",
       " ('volkswagen', '3.01'),\n",
       " ('volkswagen', '3.19'),\n",
       " ('volkswagen', '3.19'),\n",
       " ('volkswagen', '3.19'),\n",
       " ('volkswagen', '3.19'),\n",
       " ('volkswagen', '3.01'),\n",
       " ('volkswagen', '3.19'),\n",
       " ('volvo', '3.01')]"
      ]
     },
     "execution_count": 14,
     "metadata": {},
     "output_type": "execute_result"
    }
   ],
   "source": [
    "result"
   ]
  },
  {
   "cell_type": "code",
   "execution_count": null,
   "id": "def74829-7569-4e9d-b1e3-43765fbe1adb",
   "metadata": {},
   "outputs": [],
   "source": []
  }
 ],
 "metadata": {
  "kernelspec": {
   "display_name": "Python 3 (ipykernel)",
   "language": "python",
   "name": "python3"
  },
  "language_info": {
   "codemirror_mode": {
    "name": "ipython",
    "version": 3
   },
   "file_extension": ".py",
   "mimetype": "text/x-python",
   "name": "python",
   "nbconvert_exporter": "python",
   "pygments_lexer": "ipython3",
   "version": "3.12.7"
  }
 },
 "nbformat": 4,
 "nbformat_minor": 5
}
