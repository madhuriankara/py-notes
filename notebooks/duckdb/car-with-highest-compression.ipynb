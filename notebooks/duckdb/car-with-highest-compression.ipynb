{
 "cells": [
  {
   "cell_type": "code",
   "execution_count": 2,
   "id": "dcc45873-5a9b-4e0f-9b8f-e05ec41b0eac",
   "metadata": {},
   "outputs": [],
   "source": [
    "import duckdb"
   ]
  },
  {
   "cell_type": "code",
   "execution_count": 3,
   "id": "fbdfdb2c-d31a-4ed2-b293-d68be095c3c0",
   "metadata": {},
   "outputs": [],
   "source": [
    "con = duckdb.connect()"
   ]
  },
  {
   "cell_type": "code",
   "execution_count": 4,
   "id": "583e160e-c0c2-4b32-a8da-8ebbf4cc7d19",
   "metadata": {},
   "outputs": [
    {
     "data": {
      "text/plain": [
       "<duckdb.duckdb.DuckDBPyConnection at 0x104f395b0>"
      ]
     },
     "execution_count": 4,
     "metadata": {},
     "output_type": "execute_result"
    }
   ],
   "source": [
    "con.execute(\"CREATE TABLE automobile AS SELECT * FROM 'automobile_data.csv'\")"
   ]
  },
  {
   "cell_type": "code",
   "execution_count": 5,
   "id": "d6ea8a31-005f-4757-a198-97142ac543ef",
   "metadata": {},
   "outputs": [],
   "source": [
    "#Find the car with the highest compression-ratio for each fuel-type."
   ]
  },
  {
   "cell_type": "code",
   "execution_count": 40,
   "id": "78e14ff2-846a-43a0-9c4a-abb4748cc966",
   "metadata": {},
   "outputs": [],
   "source": [
    "result = con.execute(\"\"\"SELECT MAX(\"compression-ratio\"), \"fuel-type\"\n",
    "                            FROM automobile\n",
    "                            GROUP BY \"fuel-type\"\n",
    "                            \"\"\").fetchall()"
   ]
  },
  {
   "cell_type": "code",
   "execution_count": 41,
   "id": "4e7a7eec-c9a2-4be8-b707-b7d5f0d35d91",
   "metadata": {},
   "outputs": [
    {
     "data": {
      "text/plain": [
       "[(23.0, 'diesel'), (11.5, 'gas')]"
      ]
     },
     "execution_count": 41,
     "metadata": {},
     "output_type": "execute_result"
    }
   ],
   "source": [
    "result"
   ]
  },
  {
   "cell_type": "code",
   "execution_count": null,
   "id": "def74829-7569-4e9d-b1e3-43765fbe1adb",
   "metadata": {},
   "outputs": [],
   "source": []
  }
 ],
 "metadata": {
  "kernelspec": {
   "display_name": "Python 3 (ipykernel)",
   "language": "python",
   "name": "python3"
  },
  "language_info": {
   "codemirror_mode": {
    "name": "ipython",
    "version": 3
   },
   "file_extension": ".py",
   "mimetype": "text/x-python",
   "name": "python",
   "nbconvert_exporter": "python",
   "pygments_lexer": "ipython3",
   "version": "3.12.7"
  }
 },
 "nbformat": 4,
 "nbformat_minor": 5
}
