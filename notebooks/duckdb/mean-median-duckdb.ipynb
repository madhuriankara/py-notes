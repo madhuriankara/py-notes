{
 "cells": [
  {
   "cell_type": "code",
   "execution_count": 1,
   "id": "16eb07bf-aeb1-469a-a1fe-880da87234bf",
   "metadata": {},
   "outputs": [],
   "source": [
    "#Find the mean, median, and standard deviation of the price column."
   ]
  },
  {
   "cell_type": "code",
   "execution_count": 19,
   "id": "8cffe6bd-e13a-4bb4-9fae-bcd427453ddf",
   "metadata": {},
   "outputs": [],
   "source": [
    "import duckdb"
   ]
  },
  {
   "cell_type": "code",
   "execution_count": 20,
   "id": "340fb978-aec1-4b22-93b0-0c680aa345e5",
   "metadata": {},
   "outputs": [],
   "source": [
    "con = duckdb.connect()"
   ]
  },
  {
   "cell_type": "code",
   "execution_count": 21,
   "id": "1a99e684-aaf7-4902-98c2-ae0dd6e6d9f0",
   "metadata": {},
   "outputs": [
    {
     "data": {
      "text/plain": [
       "<duckdb.duckdb.DuckDBPyConnection at 0x113d68070>"
      ]
     },
     "execution_count": 21,
     "metadata": {},
     "output_type": "execute_result"
    }
   ],
   "source": [
    "con.execute(\"CREATE TABLE automobile AS SELECT * FROM 'automobile_data.csv'\")"
   ]
  },
  {
   "cell_type": "code",
   "execution_count": null,
   "id": "62625e3b-9a59-4609-87db-8cef04efb104",
   "metadata": {},
   "outputs": [],
   "source": []
  },
  {
   "cell_type": "code",
   "execution_count": 45,
   "id": "ea2dd2b8-4816-4a28-92cf-5725e46f8655",
   "metadata": {},
   "outputs": [],
   "source": [
    "result = con.execute(\"SELECT AVG(CAST(price AS INT)) FROM automobile WHERE price != '?'\").fetchall()"
   ]
  },
  {
   "cell_type": "code",
   "execution_count": 46,
   "id": "a838b2d3-138b-438d-88fc-7f31647aad8d",
   "metadata": {},
   "outputs": [
    {
     "data": {
      "text/plain": [
       "[(13207.129353233831,)]"
      ]
     },
     "execution_count": 46,
     "metadata": {},
     "output_type": "execute_result"
    }
   ],
   "source": [
    "result"
   ]
  },
  {
   "cell_type": "code",
   "execution_count": 47,
   "id": "8b6f3728-336c-4461-abb0-8ceec590dc47",
   "metadata": {},
   "outputs": [],
   "source": [
    "#Identify the number of cars for each fuel-type."
   ]
  },
  {
   "cell_type": "code",
   "execution_count": 92,
   "id": "f01ce8a3-5d97-480a-878e-688491ec8452",
   "metadata": {},
   "outputs": [],
   "source": [
    "result = con.execute(\"\"\" SELECT \"fuel-type\",make, COUNT(*) AS number_cars\n",
    "                        FROM automobile\n",
    "                        WHERE \"fuel-type\" IN ('gas','diesel')\n",
    "                        GROUP BY make, \"fuel-type\" \"\"\").fetchall()"
   ]
  },
  {
   "cell_type": "code",
   "execution_count": 93,
   "id": "497e76ca-861a-4c83-b901-2785a72af38b",
   "metadata": {},
   "outputs": [
    {
     "data": {
      "text/plain": [
       "[('gas', 'honda', 13),\n",
       " ('diesel', 'mazda', 2),\n",
       " ('gas', 'subaru', 12),\n",
       " ('gas', 'toyota', 29),\n",
       " ('diesel', 'volkswagen', 4),\n",
       " ('gas', 'isuzu', 4),\n",
       " ('gas', 'jaguar', 3),\n",
       " ('gas', 'bmw', 8),\n",
       " ('gas', 'mercury', 1),\n",
       " ('gas', 'nissan', 17),\n",
       " ('gas', 'plymouth', 7),\n",
       " ('gas', 'volvo', 10),\n",
       " ('gas', 'audi', 7),\n",
       " ('gas', 'chevrolet', 3),\n",
       " ('diesel', 'mercedes-benz', 4),\n",
       " ('gas', 'peugot', 6),\n",
       " ('gas', 'saab', 6),\n",
       " ('gas', 'dodge', 9),\n",
       " ('gas', 'mazda', 15),\n",
       " ('gas', 'mitsubishi', 13),\n",
       " ('gas', 'porsche', 5),\n",
       " ('gas', 'renault', 2),\n",
       " ('diesel', 'toyota', 3),\n",
       " ('gas', 'volkswagen', 8),\n",
       " ('gas', 'alfa-romero', 3),\n",
       " ('gas', 'mercedes-benz', 4),\n",
       " ('diesel', 'peugot', 5),\n",
       " ('diesel', 'nissan', 1),\n",
       " ('diesel', 'volvo', 1)]"
      ]
     },
     "execution_count": 93,
     "metadata": {},
     "output_type": "execute_result"
    }
   ],
   "source": [
    "result"
   ]
  },
  {
   "cell_type": "code",
   "execution_count": 89,
   "id": "bc406ca8-9610-43e3-98d1-2cdc571fdf9f",
   "metadata": {},
   "outputs": [
    {
     "data": {
      "text/plain": [
       "[(3,\n",
       "  '?',\n",
       "  'alfa-romero',\n",
       "  'gas',\n",
       "  'std',\n",
       "  'two',\n",
       "  'convertible',\n",
       "  'rwd',\n",
       "  'front',\n",
       "  88.6,\n",
       "  168.8,\n",
       "  64.1,\n",
       "  48.8,\n",
       "  2548,\n",
       "  'dohc',\n",
       "  'four',\n",
       "  130,\n",
       "  'mpfi',\n",
       "  '3.47',\n",
       "  '2.68',\n",
       "  9.0,\n",
       "  '111',\n",
       "  '5000',\n",
       "  21,\n",
       "  27,\n",
       "  '13495'),\n",
       " (3,\n",
       "  '?',\n",
       "  'alfa-romero',\n",
       "  'gas',\n",
       "  'std',\n",
       "  'two',\n",
       "  'convertible',\n",
       "  'rwd',\n",
       "  'front',\n",
       "  88.6,\n",
       "  168.8,\n",
       "  64.1,\n",
       "  48.8,\n",
       "  2548,\n",
       "  'dohc',\n",
       "  'four',\n",
       "  130,\n",
       "  'mpfi',\n",
       "  '3.47',\n",
       "  '2.68',\n",
       "  9.0,\n",
       "  '111',\n",
       "  '5000',\n",
       "  21,\n",
       "  27,\n",
       "  '16500')]"
      ]
     },
     "execution_count": 89,
     "metadata": {},
     "output_type": "execute_result"
    }
   ],
   "source": [
    "con.execute(\"\"\"SELECT * FROM automobile WHERE \"fuel-type\" IN ('gas') LIMIT 2\"\"\").fetchall()"
   ]
  },
  {
   "cell_type": "code",
   "execution_count": 88,
   "id": "94a80fc7-bbf6-41b9-adbb-2ada8f00e233",
   "metadata": {},
   "outputs": [
    {
     "data": {
      "text/plain": [
       "[('gas',), ('diesel',)]"
      ]
     },
     "execution_count": 88,
     "metadata": {},
     "output_type": "execute_result"
    }
   ],
   "source": [
    "con.execute(\"\"\"SELECT DISTINCT(\"fuel-type\") FROM automobile\"\"\").fetchall()"
   ]
  },
  {
   "cell_type": "code",
   "execution_count": null,
   "id": "4bb30b66-864d-418f-b784-4a0dc3c19e26",
   "metadata": {},
   "outputs": [],
   "source": []
  }
 ],
 "metadata": {
  "kernelspec": {
   "display_name": "Python 3 (ipykernel)",
   "language": "python",
   "name": "python3"
  },
  "language_info": {
   "codemirror_mode": {
    "name": "ipython",
    "version": 3
   },
   "file_extension": ".py",
   "mimetype": "text/x-python",
   "name": "python",
   "nbconvert_exporter": "python",
   "pygments_lexer": "ipython3",
   "version": "3.12.7"
  }
 },
 "nbformat": 4,
 "nbformat_minor": 5
}
