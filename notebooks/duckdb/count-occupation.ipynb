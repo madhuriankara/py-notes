{
 "cells": [
  {
   "cell_type": "code",
   "execution_count": 1,
   "id": "05fa7c29-ecb4-4edc-a6f1-58dc6a3209f7",
   "metadata": {},
   "outputs": [],
   "source": [
    "#Count the number of individuals with \"Post Graduate\" qualifications.\n"
   ]
  },
  {
   "cell_type": "code",
   "execution_count": 2,
   "id": "8b26c487-20e7-4b2a-b167-eabf424f1791",
   "metadata": {},
   "outputs": [],
   "source": [
    "import duckdb"
   ]
  },
  {
   "cell_type": "code",
   "execution_count": 3,
   "id": "1620a272-6f6c-4c94-a112-52c8cb6aba21",
   "metadata": {},
   "outputs": [],
   "source": [
    "con = duckdb.connect()"
   ]
  },
  {
   "cell_type": "code",
   "execution_count": 5,
   "id": "6ec08b07-0442-452e-8775-227cb4cf1abf",
   "metadata": {},
   "outputs": [
    {
     "data": {
      "text/plain": [
       "<duckdb.duckdb.DuckDBPyConnection at 0x106cef770>"
      ]
     },
     "execution_count": 5,
     "metadata": {},
     "output_type": "execute_result"
    }
   ],
   "source": [
    "con.execute(\"CREATE TABLE food AS SELECT * FROM 'updatedonline_file.csv'\")"
   ]
  },
  {
   "cell_type": "raw",
   "id": "ddb57a96-bd39-459d-9d4f-14a25a2239cc",
   "metadata": {},
   "source": []
  },
  {
   "cell_type": "code",
   "execution_count": 10,
   "id": "6d10af2b-1890-40e2-9663-df08a8a92b5f",
   "metadata": {},
   "outputs": [],
   "source": [
    "result = con.execute(\"\"\" SELECT COUNT(Occupation) FROM food \"\"\").fetchall()"
   ]
  },
  {
   "cell_type": "code",
   "execution_count": 11,
   "id": "08d779ba-58d9-487a-9a3f-c91c9e2176de",
   "metadata": {},
   "outputs": [
    {
     "data": {
      "text/plain": [
       "[(388,)]"
      ]
     },
     "execution_count": 11,
     "metadata": {},
     "output_type": "execute_result"
    }
   ],
   "source": [
    "result"
   ]
  },
  {
   "cell_type": "code",
   "execution_count": null,
   "id": "1f55a935-d844-4cd7-83ac-c9fd9546e165",
   "metadata": {},
   "outputs": [],
   "source": []
  }
 ],
 "metadata": {
  "kernelspec": {
   "display_name": "Python 3 (ipykernel)",
   "language": "python",
   "name": "python3"
  },
  "language_info": {
   "codemirror_mode": {
    "name": "ipython",
    "version": 3
   },
   "file_extension": ".py",
   "mimetype": "text/x-python",
   "name": "python",
   "nbconvert_exporter": "python",
   "pygments_lexer": "ipython3",
   "version": "3.12.7"
  }
 },
 "nbformat": 4,
 "nbformat_minor": 5
}
