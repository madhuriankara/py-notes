{
 "cells": [
  {
   "cell_type": "code",
   "execution_count": 1,
   "id": "ca7f88f3-3475-4df2-8ee1-c9fe052a5560",
   "metadata": {},
   "outputs": [],
   "source": [
    "##How many individuals belong to each family size?"
   ]
  },
  {
   "cell_type": "code",
   "execution_count": 2,
   "id": "12aceb46-2205-4506-af3c-978713dffc0f",
   "metadata": {},
   "outputs": [],
   "source": [
    "import duckdb"
   ]
  },
  {
   "cell_type": "code",
   "execution_count": 3,
   "id": "b90f7e0d-1878-4654-bef1-241ce2957846",
   "metadata": {},
   "outputs": [],
   "source": [
    "con = duckdb.connect()"
   ]
  },
  {
   "cell_type": "code",
   "execution_count": 4,
   "id": "b0189f6d-2f91-4c3f-a095-082dc3e85140",
   "metadata": {},
   "outputs": [
    {
     "data": {
      "text/plain": [
       "<duckdb.duckdb.DuckDBPyConnection at 0x107a0df70>"
      ]
     },
     "execution_count": 4,
     "metadata": {},
     "output_type": "execute_result"
    }
   ],
   "source": [
    "con.execute(\"CREATE TABLE food AS SELECT * FROM 'updated_file.csv'\")"
   ]
  },
  {
   "cell_type": "code",
   "execution_count": null,
   "id": "85bb293a-74df-4127-b485-5e8ccb86cac1",
   "metadata": {},
   "outputs": [],
   "source": [
    "#Retrieve all records where the monthly income is \"Below Rs.10000\"."
   ]
  },
  {
   "cell_type": "code",
   "execution_count": 17,
   "id": "b5b9bd0b-528a-4e46-965b-e1809a0c0958",
   "metadata": {},
   "outputs": [
    {
     "ename": "ConversionException",
     "evalue": "Conversion Error: Could not convert string 'No Income' to INT32\nLINE 2:             WHERE CAST(\"Monthly-Income...\n                          ^",
     "output_type": "error",
     "traceback": [
      "\u001b[0;31m---------------------------------------------------------------------------\u001b[0m",
      "\u001b[0;31mConversionException\u001b[0m                       Traceback (most recent call last)",
      "Cell \u001b[0;32mIn[17], line 1\u001b[0m\n\u001b[0;32m----> 1\u001b[0m result \u001b[38;5;241m=\u001b[39m \u001b[43mcon\u001b[49m\u001b[38;5;241;43m.\u001b[39;49m\u001b[43mexecute\u001b[49m\u001b[43m(\u001b[49m\u001b[38;5;124;43m\"\"\"\u001b[39;49m\u001b[38;5;124;43mSELECT * FROM food\u001b[39;49m\n\u001b[1;32m      2\u001b[0m \u001b[38;5;124;43m            WHERE CAST(\u001b[39;49m\u001b[38;5;124;43m\"\u001b[39;49m\u001b[38;5;124;43mMonthly-Income\u001b[39;49m\u001b[38;5;124;43m\"\u001b[39;49m\u001b[38;5;124;43m AS INTEGER) == 10000\u001b[39;49m\u001b[38;5;124;43m\"\"\"\u001b[39;49m\u001b[43m)\u001b[49m\u001b[38;5;241m.\u001b[39mfetchall()\n",
      "\u001b[0;31mConversionException\u001b[0m: Conversion Error: Could not convert string 'No Income' to INT32\nLINE 2:             WHERE CAST(\"Monthly-Income...\n                          ^"
     ]
    }
   ],
   "source": [
    "result = con.execute(\"\"\"SELECT * FROM food\n",
    "            WHERE CAST(\"Monthly-Income\" AS INTEGER) == 10000\"\"\").fetchall()"
   ]
  },
  {
   "cell_type": "code",
   "execution_count": null,
   "id": "78e0974d-68da-4e6a-9d8b-69d85a028840",
   "metadata": {},
   "outputs": [],
   "source": []
  }
 ],
 "metadata": {
  "kernelspec": {
   "display_name": "Python 3 (ipykernel)",
   "language": "python",
   "name": "python3"
  },
  "language_info": {
   "codemirror_mode": {
    "name": "ipython",
    "version": 3
   },
   "file_extension": ".py",
   "mimetype": "text/x-python",
   "name": "python",
   "nbconvert_exporter": "python",
   "pygments_lexer": "ipython3",
   "version": "3.12.7"
  }
 },
 "nbformat": 4,
 "nbformat_minor": 5
}
