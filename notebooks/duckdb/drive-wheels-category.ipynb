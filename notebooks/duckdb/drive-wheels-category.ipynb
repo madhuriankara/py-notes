{
 "cells": [
  {
   "cell_type": "code",
   "execution_count": 1,
   "id": "819bfd52-eb6a-48f1-a44f-548ce2e45936",
   "metadata": {},
   "outputs": [],
   "source": [
    "#!pip install duckdb"
   ]
  },
  {
   "cell_type": "code",
   "execution_count": 1,
   "id": "cccdfa10-2e53-49e9-af2c-fdef0d6b8404",
   "metadata": {},
   "outputs": [],
   "source": [
    "import duckdb"
   ]
  },
  {
   "cell_type": "code",
   "execution_count": 2,
   "id": "a47ddf1f-2aee-442e-836b-550cd86977e6",
   "metadata": {},
   "outputs": [],
   "source": [
    "# Connect to DuckDB\n",
    "con = duckdb.connect()\n"
   ]
  },
  {
   "cell_type": "code",
   "execution_count": 3,
   "id": "97f24a69-abc2-4a1e-9bb8-de0e702bfd16",
   "metadata": {},
   "outputs": [
    {
     "data": {
      "text/plain": [
       "<duckdb.duckdb.DuckDBPyConnection at 0x1237fb030>"
      ]
     },
     "execution_count": 3,
     "metadata": {},
     "output_type": "execute_result"
    }
   ],
   "source": [
    "# Load CSV file\n",
    "con.execute(\"CREATE TABLE automobile AS SELECT * FROM 'automobile_data.csv'\")\n"
   ]
  },
  {
   "cell_type": "code",
   "execution_count": 4,
   "id": "0b475d60-7166-49bc-90fd-3bb9e0932225",
   "metadata": {},
   "outputs": [],
   "source": [
    "#Find the number of cars for each drive-wheels category."
   ]
  },
  {
   "cell_type": "code",
   "execution_count": 11,
   "id": "37d48059-ff17-4f46-857e-29d7efe4f368",
   "metadata": {},
   "outputs": [],
   "source": [
    "result = con.execute(\"\"\"SELECT \"drive-wheels\",make, COUNT(*) AS number_cars FROM automobile\n",
    "                         GROUP BY make, \"drive-wheels\" \"\"\").fetchall()\n",
    "                        "
   ]
  },
  {
   "cell_type": "code",
   "execution_count": 12,
   "id": "7b814885-48a8-492b-b266-c90b8cbd3d82",
   "metadata": {},
   "outputs": [
    {
     "data": {
      "text/plain": [
       "[('4wd', 'audi', 2),\n",
       " ('fwd', 'dodge', 9),\n",
       " ('fwd', 'mazda', 11),\n",
       " ('rwd', 'mazda', 6),\n",
       " ('fwd', 'mitsubishi', 13),\n",
       " ('rwd', 'porsche', 5),\n",
       " ('fwd', 'renault', 2),\n",
       " ('fwd', 'volkswagen', 12),\n",
       " ('rwd', 'bmw', 8),\n",
       " ('rwd', 'mercury', 1),\n",
       " ('fwd', 'nissan', 15),\n",
       " ('rwd', 'nissan', 3),\n",
       " ('fwd', 'plymouth', 6),\n",
       " ('rwd', 'plymouth', 1),\n",
       " ('rwd', 'volvo', 11),\n",
       " ('rwd', 'isuzu', 2),\n",
       " ('fwd', 'isuzu', 2),\n",
       " ('rwd', 'jaguar', 3),\n",
       " ('fwd', 'honda', 13),\n",
       " ('fwd', 'subaru', 7),\n",
       " ('fwd', 'toyota', 16),\n",
       " ('rwd', 'toyota', 14),\n",
       " ('rwd', 'alfa-romero', 3),\n",
       " ('rwd', 'mercedes-benz', 8),\n",
       " ('4wd', 'subaru', 5),\n",
       " ('4wd', 'toyota', 2),\n",
       " ('fwd', 'audi', 5),\n",
       " ('fwd', 'chevrolet', 3),\n",
       " ('rwd', 'peugot', 11),\n",
       " ('fwd', 'saab', 6)]"
      ]
     },
     "execution_count": 12,
     "metadata": {},
     "output_type": "execute_result"
    }
   ],
   "source": [
    "result"
   ]
  },
  {
   "cell_type": "code",
   "execution_count": 21,
   "id": "ddd14e2d-93b9-4874-a801-265bcd71a320",
   "metadata": {},
   "outputs": [],
   "source": [
    "\n"
   ]
  },
  {
   "cell_type": "code",
   "execution_count": null,
   "id": "06767ef1-b2f4-4dcf-84d9-f3c0962fe8a9",
   "metadata": {},
   "outputs": [],
   "source": []
  },
  {
   "cell_type": "code",
   "execution_count": null,
   "id": "39ac3026-d488-4e7d-91e7-c05715a80530",
   "metadata": {},
   "outputs": [],
   "source": []
  },
  {
   "cell_type": "code",
   "execution_count": null,
   "id": "67444de4-bb23-4212-b2f3-ca2c174b616a",
   "metadata": {},
   "outputs": [],
   "source": []
  }
 ],
 "metadata": {
  "kernelspec": {
   "display_name": "Python 3 (ipykernel)",
   "language": "python",
   "name": "python3"
  },
  "language_info": {
   "codemirror_mode": {
    "name": "ipython",
    "version": 3
   },
   "file_extension": ".py",
   "mimetype": "text/x-python",
   "name": "python",
   "nbconvert_exporter": "python",
   "pygments_lexer": "ipython3",
   "version": "3.12.7"
  }
 },
 "nbformat": 4,
 "nbformat_minor": 5
}
