{
 "cells": [
  {
   "cell_type": "code",
   "execution_count": 10,
   "id": "12f9f6a4-cca4-4e80-b61d-87534b416736",
   "metadata": {},
   "outputs": [
    {
     "name": "stdout",
     "output_type": "stream",
     "text": [
      "Updated file saved as updatedonline_file.csv.\n"
     ]
    }
   ],
   "source": [
    "import pandas as pd\n",
    "\n",
    "# Load the CSV file\n",
    "file_path = 'onlinefoods.csv'\n",
    "data = pd.read_csv(file_path)\n",
    "\n",
    "# Replace spaces in column names with dashes\n",
    "data.columns = data.columns.str.replace(' ', '-')\n",
    "data['Monthly Income'] = data['Monthly-Income'].replace('No Income', '--')\n",
    "\n",
    "# Save the updated file\n",
    "updated_file_path = 'updatedonline_file.csv'\n",
    "data.to_csv(updated_file_path, index=False)\n",
    "\n",
    "print(f\"Updated file saved as {updated_file_path}.\")\n",
    "\n"
   ]
  },
  {
   "cell_type": "code",
   "execution_count": null,
   "id": "9a7bcf34-bee8-4878-9b74-7f470fa4e698",
   "metadata": {},
   "outputs": [],
   "source": [
    "\n"
   ]
  },
  {
   "cell_type": "code",
   "execution_count": null,
   "id": "b276fc80-2c69-4b9b-8be7-df8da834f498",
   "metadata": {},
   "outputs": [],
   "source": []
  }
 ],
 "metadata": {
  "kernelspec": {
   "display_name": "Python 3 (ipykernel)",
   "language": "python",
   "name": "python3"
  },
  "language_info": {
   "codemirror_mode": {
    "name": "ipython",
    "version": 3
   },
   "file_extension": ".py",
   "mimetype": "text/x-python",
   "name": "python",
   "nbconvert_exporter": "python",
   "pygments_lexer": "ipython3",
   "version": "3.12.7"
  }
 },
 "nbformat": 4,
 "nbformat_minor": 5
}
