{
 "cells": [
  {
   "cell_type": "code",
   "execution_count": 1,
   "id": "819bfd52-eb6a-48f1-a44f-548ce2e45936",
   "metadata": {},
   "outputs": [
    {
     "name": "stdout",
     "output_type": "stream",
     "text": [
      "Collecting duckdb\n",
      "  Downloading duckdb-1.1.3-cp312-cp312-macosx_12_0_arm64.whl.metadata (762 bytes)\n",
      "Downloading duckdb-1.1.3-cp312-cp312-macosx_12_0_arm64.whl (15.5 MB)\n",
      "\u001b[2K   \u001b[38;2;114;156;31m━━━━━━━━━━━━━━━━━━━━━━━━━━━━━━━━━━━━━━━━\u001b[0m \u001b[32m15.5/15.5 MB\u001b[0m \u001b[31m34.2 MB/s\u001b[0m eta \u001b[36m0:00:00\u001b[0m31m36.0 MB/s\u001b[0m eta \u001b[36m0:00:01\u001b[0m\n",
      "\u001b[?25hInstalling collected packages: duckdb\n",
      "Successfully installed duckdb-1.1.3\n"
     ]
    }
   ],
   "source": [
    "!pip install duckdb"
   ]
  },
  {
   "cell_type": "code",
   "execution_count": 2,
   "id": "cccdfa10-2e53-49e9-af2c-fdef0d6b8404",
   "metadata": {},
   "outputs": [],
   "source": [
    "import duckdb"
   ]
  },
  {
   "cell_type": "code",
   "execution_count": 8,
   "id": "a47ddf1f-2aee-442e-836b-550cd86977e6",
   "metadata": {},
   "outputs": [],
   "source": [
    "# Connect to DuckDB\n",
    "con = duckdb.connect()\n"
   ]
  },
  {
   "cell_type": "code",
   "execution_count": 17,
   "id": "97f24a69-abc2-4a1e-9bb8-de0e702bfd16",
   "metadata": {},
   "outputs": [
    {
     "data": {
      "text/plain": [
       "<duckdb.duckdb.DuckDBPyConnection at 0x104126bb0>"
      ]
     },
     "execution_count": 17,
     "metadata": {},
     "output_type": "execute_result"
    }
   ],
   "source": [
    "# Load CSV file\n",
    "con.execute(\"CREATE TABLE student AS SELECT * FROM '../student_data.csv'\")\n"
   ]
  },
  {
   "cell_type": "code",
   "execution_count": 19,
   "id": "37d48059-ff17-4f46-857e-29d7efe4f368",
   "metadata": {},
   "outputs": [],
   "source": [
    "result = con.execute(\"SELECT * FROM student WHERE student_id = 1\").fetchall()"
   ]
  },
  {
   "cell_type": "code",
   "execution_count": 20,
   "id": "7b814885-48a8-492b-b266-c90b8cbd3d82",
   "metadata": {},
   "outputs": [
    {
     "data": {
      "text/plain": [
       "[(1, 'John Doe', 85, 90, 80, 88, 1)]"
      ]
     },
     "execution_count": 20,
     "metadata": {},
     "output_type": "execute_result"
    }
   ],
   "source": [
    "result"
   ]
  },
  {
   "cell_type": "code",
   "execution_count": 21,
   "id": "ddd14e2d-93b9-4874-a801-265bcd71a320",
   "metadata": {},
   "outputs": [],
   "source": [
    "import pandas as pd\n",
    "from IPython.display import display\n",
    "\n",
    "def list2table(cdata, col_list = None):\n",
    "\n",
    "    first_row = cdata[0]\n",
    "    cols_count = len(first_row)\n",
    "\n",
    "    if not col_list:\n",
    "        col_list = []\n",
    "        for idx in range(cols_count):\n",
    "            col_list.append(f'col_{idx}')\n",
    "\n",
    "    # Convert the list of tuples to a DataFrame\n",
    "    df1 = pd.DataFrame(cdata, columns = col_list)\n",
    "    \n",
    "    # Set display options\n",
    "    pd.set_option('display.max_rows', 100)\n",
    "    pd.set_option('display.max_columns', 100)\n",
    "    \n",
    "    # Apply custom styling\n",
    "    styled_df = df1.style.set_properties(**{'text-align': 'center'})\n",
    "    \n",
    "    # Display the DataFrame\n",
    "    display(styled_df)"
   ]
  },
  {
   "cell_type": "code",
   "execution_count": 22,
   "id": "06767ef1-b2f4-4dcf-84d9-f3c0962fe8a9",
   "metadata": {},
   "outputs": [],
   "source": [
    "def q(query, col_list = None):\n",
    "\n",
    "    result = con.execute(query).fetchall()\n",
    "    # print(result)\n",
    "\n",
    "    return list2table(result, col_list)"
   ]
  },
  {
   "cell_type": "code",
   "execution_count": 23,
   "id": "39ac3026-d488-4e7d-91e7-c05715a80530",
   "metadata": {},
   "outputs": [
    {
     "data": {
      "text/html": [
       "<style type=\"text/css\">\n",
       "#T_01564_row0_col0, #T_01564_row0_col1, #T_01564_row0_col2, #T_01564_row0_col3, #T_01564_row0_col4, #T_01564_row0_col5, #T_01564_row0_col6 {\n",
       "  text-align: center;\n",
       "}\n",
       "</style>\n",
       "<table id=\"T_01564\">\n",
       "  <thead>\n",
       "    <tr>\n",
       "      <th class=\"blank level0\" >&nbsp;</th>\n",
       "      <th id=\"T_01564_level0_col0\" class=\"col_heading level0 col0\" >col_0</th>\n",
       "      <th id=\"T_01564_level0_col1\" class=\"col_heading level0 col1\" >col_1</th>\n",
       "      <th id=\"T_01564_level0_col2\" class=\"col_heading level0 col2\" >col_2</th>\n",
       "      <th id=\"T_01564_level0_col3\" class=\"col_heading level0 col3\" >col_3</th>\n",
       "      <th id=\"T_01564_level0_col4\" class=\"col_heading level0 col4\" >col_4</th>\n",
       "      <th id=\"T_01564_level0_col5\" class=\"col_heading level0 col5\" >col_5</th>\n",
       "      <th id=\"T_01564_level0_col6\" class=\"col_heading level0 col6\" >col_6</th>\n",
       "    </tr>\n",
       "  </thead>\n",
       "  <tbody>\n",
       "    <tr>\n",
       "      <th id=\"T_01564_level0_row0\" class=\"row_heading level0 row0\" >0</th>\n",
       "      <td id=\"T_01564_row0_col0\" class=\"data row0 col0\" >1</td>\n",
       "      <td id=\"T_01564_row0_col1\" class=\"data row0 col1\" >John Doe</td>\n",
       "      <td id=\"T_01564_row0_col2\" class=\"data row0 col2\" >85</td>\n",
       "      <td id=\"T_01564_row0_col3\" class=\"data row0 col3\" >90</td>\n",
       "      <td id=\"T_01564_row0_col4\" class=\"data row0 col4\" >80</td>\n",
       "      <td id=\"T_01564_row0_col5\" class=\"data row0 col5\" >88</td>\n",
       "      <td id=\"T_01564_row0_col6\" class=\"data row0 col6\" >1</td>\n",
       "    </tr>\n",
       "  </tbody>\n",
       "</table>\n"
      ],
      "text/plain": [
       "<pandas.io.formats.style.Styler at 0x104844c80>"
      ]
     },
     "metadata": {},
     "output_type": "display_data"
    }
   ],
   "source": [
    "q(\"SELECT * FROM student WHERE student_id = 1\")"
   ]
  },
  {
   "cell_type": "code",
   "execution_count": null,
   "id": "67444de4-bb23-4212-b2f3-ca2c174b616a",
   "metadata": {},
   "outputs": [],
   "source": []
  }
 ],
 "metadata": {
  "kernelspec": {
   "display_name": "Python 3 (ipykernel)",
   "language": "python",
   "name": "python3"
  },
  "language_info": {
   "codemirror_mode": {
    "name": "ipython",
    "version": 3
   },
   "file_extension": ".py",
   "mimetype": "text/x-python",
   "name": "python",
   "nbconvert_exporter": "python",
   "pygments_lexer": "ipython3",
   "version": "3.12.7"
  }
 },
 "nbformat": 4,
 "nbformat_minor": 5
}
