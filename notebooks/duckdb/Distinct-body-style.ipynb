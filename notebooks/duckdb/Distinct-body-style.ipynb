{
 "cells": [
  {
   "cell_type": "code",
   "execution_count": 2,
   "id": "dcc45873-5a9b-4e0f-9b8f-e05ec41b0eac",
   "metadata": {},
   "outputs": [],
   "source": [
    "import duckdb"
   ]
  },
  {
   "cell_type": "code",
   "execution_count": 3,
   "id": "fbdfdb2c-d31a-4ed2-b293-d68be095c3c0",
   "metadata": {},
   "outputs": [],
   "source": [
    "con = duckdb.connect()"
   ]
  },
  {
   "cell_type": "code",
   "execution_count": 4,
   "id": "583e160e-c0c2-4b32-a8da-8ebbf4cc7d19",
   "metadata": {},
   "outputs": [
    {
     "data": {
      "text/plain": [
       "<duckdb.duckdb.DuckDBPyConnection at 0x103747c70>"
      ]
     },
     "execution_count": 4,
     "metadata": {},
     "output_type": "execute_result"
    }
   ],
   "source": [
    "con.execute(\"CREATE TABLE automobile AS SELECT * FROM 'automobile_data.csv'\")"
   ]
  },
  {
   "cell_type": "code",
   "execution_count": 5,
   "id": "d6ea8a31-005f-4757-a198-97142ac543ef",
   "metadata": {},
   "outputs": [],
   "source": [
    "#Group by make and count the number of unique body-style values."
   ]
  },
  {
   "cell_type": "code",
   "execution_count": 14,
   "id": "78e14ff2-846a-43a0-9c4a-abb4748cc966",
   "metadata": {},
   "outputs": [],
   "source": [
    "result = con.execute(\"\"\"SELECT make,COUNT(DISTINCT \"body-style\") AS unique_body_style\n",
    "                       FROM automobile\n",
    "                       GROUP BY make\"\"\").fetchall()"
   ]
  },
  {
   "cell_type": "code",
   "execution_count": 15,
   "id": "4e7a7eec-c9a2-4be8-b707-b7d5f0d35d91",
   "metadata": {},
   "outputs": [
    {
     "data": {
      "text/plain": [
       "[('nissan', 4),\n",
       " ('mitsubishi', 2),\n",
       " ('audi', 3),\n",
       " ('peugot', 2),\n",
       " ('saab', 2),\n",
       " ('mercedes-benz', 4),\n",
       " ('volkswagen', 4),\n",
       " ('subaru', 3),\n",
       " ('mercury', 1),\n",
       " ('jaguar', 1),\n",
       " ('porsche', 3),\n",
       " ('renault', 2),\n",
       " ('chevrolet', 2),\n",
       " ('dodge', 3),\n",
       " ('honda', 3),\n",
       " ('volvo', 2),\n",
       " ('alfa-romero', 2),\n",
       " ('isuzu', 2),\n",
       " ('mazda', 2),\n",
       " ('toyota', 5),\n",
       " ('bmw', 1),\n",
       " ('plymouth', 3)]"
      ]
     },
     "execution_count": 15,
     "metadata": {},
     "output_type": "execute_result"
    }
   ],
   "source": [
    "result"
   ]
  },
  {
   "cell_type": "code",
   "execution_count": null,
   "id": "def74829-7569-4e9d-b1e3-43765fbe1adb",
   "metadata": {},
   "outputs": [],
   "source": []
  }
 ],
 "metadata": {
  "kernelspec": {
   "display_name": "Python 3 (ipykernel)",
   "language": "python",
   "name": "python3"
  },
  "language_info": {
   "codemirror_mode": {
    "name": "ipython",
    "version": 3
   },
   "file_extension": ".py",
   "mimetype": "text/x-python",
   "name": "python",
   "nbconvert_exporter": "python",
   "pygments_lexer": "ipython3",
   "version": "3.12.7"
  }
 },
 "nbformat": 4,
 "nbformat_minor": 5
}
