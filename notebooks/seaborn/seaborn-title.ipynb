{
 "cells": [
  {
   "cell_type": "code",
   "execution_count": 5,
   "id": "c2032364-dc86-4955-af31-b3dec7c254b7",
   "metadata": {},
   "outputs": [],
   "source": [
    "#https://www.statology.org/seaborn-title/"
   ]
  },
  {
   "cell_type": "code",
   "execution_count": 1,
   "id": "67f13060-a7e5-4c80-90ad-b5662b33e2ef",
   "metadata": {},
   "outputs": [],
   "source": [
    "import pandas as pd\n",
    "import seaborn as sns\n",
    "import matplotlib.pyplot as plt"
   ]
  },
  {
   "cell_type": "code",
   "execution_count": 2,
   "id": "45b70034-de9f-42e1-bf9e-5944cf56d0f3",
   "metadata": {},
   "outputs": [],
   "source": [
    "days_list = [\n",
    "    1, 1, 1, 1, 1,\n",
    "    2, 2, 2, 2, 2,\n",
    "    3, 3, 3, 3, 3\n",
    "]"
   ]
  },
  {
   "cell_type": "code",
   "execution_count": 3,
   "id": "8a700231-3ab2-42be-a89b-664bd7753ed3",
   "metadata": {},
   "outputs": [
    {
     "data": {
      "text/plain": [
       "15"
      ]
     },
     "execution_count": 3,
     "metadata": {},
     "output_type": "execute_result"
    }
   ],
   "source": [
    "len(days_list)"
   ]
  },
  {
   "cell_type": "code",
   "execution_count": 4,
   "id": "c3667759-bf28-4e64-9acd-7bc2d9ec2fdd",
   "metadata": {},
   "outputs": [],
   "source": [
    "learners_list = [\n",
    "    'Madhuri','Sarvana','Soundarya','Steve','Hari',\n",
    "    'Madhuri','Sarvana','Soundarya','Steve','Hari',\n",
    "    'Madhuri','Sarvana','Soundarya','Steve','Hari'\n",
    "]"
   ]
  },
  {
   "cell_type": "code",
   "execution_count": 5,
   "id": "abf82ef7-76fd-4a4a-b121-7c3e47249fa5",
   "metadata": {},
   "outputs": [
    {
     "data": {
      "text/plain": [
       "15"
      ]
     },
     "execution_count": 5,
     "metadata": {},
     "output_type": "execute_result"
    }
   ],
   "source": [
    "len(learners_list)"
   ]
  },
  {
   "cell_type": "code",
   "execution_count": 6,
   "id": "c715b8cc-c66a-494f-89f9-4fd729cbbcae",
   "metadata": {},
   "outputs": [],
   "source": [
    "score_list = [\n",
    "    0, 0, 0, 0, 0,\n",
    "    535,300,510,580,205,\n",
    "    880,490,600,625,205\n",
    "]\n",
    "    "
   ]
  },
  {
   "cell_type": "code",
   "execution_count": 7,
   "id": "aceee7a5-ce5d-4614-b6d4-7ea8dce5e34c",
   "metadata": {},
   "outputs": [
    {
     "data": {
      "text/plain": [
       "15"
      ]
     },
     "execution_count": 7,
     "metadata": {},
     "output_type": "execute_result"
    }
   ],
   "source": [
    "len(score_list)"
   ]
  },
  {
   "cell_type": "code",
   "execution_count": 8,
   "id": "8d334376-cc86-4873-b1a6-c8e509333afa",
   "metadata": {},
   "outputs": [],
   "source": [
    "data = {\n",
    "    'days':  days_list,\n",
    "    'learners': learners_list,\n",
    "    'score' : score_list\n",
    "}"
   ]
  },
  {
   "cell_type": "code",
   "execution_count": 9,
   "id": "13f6e402-0e7d-4d9c-b412-919018365373",
   "metadata": {},
   "outputs": [],
   "source": [
    "df = pd.DataFrame(data)"
   ]
  },
  {
   "cell_type": "code",
   "execution_count": 10,
   "id": "31a9cff5-f5c5-4c69-9954-002ca5e49dea",
   "metadata": {},
   "outputs": [
    {
     "data": {
      "text/html": [
       "<div>\n",
       "<style scoped>\n",
       "    .dataframe tbody tr th:only-of-type {\n",
       "        vertical-align: middle;\n",
       "    }\n",
       "\n",
       "    .dataframe tbody tr th {\n",
       "        vertical-align: top;\n",
       "    }\n",
       "\n",
       "    .dataframe thead th {\n",
       "        text-align: right;\n",
       "    }\n",
       "</style>\n",
       "<table border=\"1\" class=\"dataframe\">\n",
       "  <thead>\n",
       "    <tr style=\"text-align: right;\">\n",
       "      <th></th>\n",
       "      <th>days</th>\n",
       "      <th>learners</th>\n",
       "      <th>score</th>\n",
       "    </tr>\n",
       "  </thead>\n",
       "  <tbody>\n",
       "    <tr>\n",
       "      <th>0</th>\n",
       "      <td>1</td>\n",
       "      <td>Madhuri</td>\n",
       "      <td>0</td>\n",
       "    </tr>\n",
       "    <tr>\n",
       "      <th>1</th>\n",
       "      <td>1</td>\n",
       "      <td>Sarvana</td>\n",
       "      <td>0</td>\n",
       "    </tr>\n",
       "    <tr>\n",
       "      <th>2</th>\n",
       "      <td>1</td>\n",
       "      <td>Soundarya</td>\n",
       "      <td>0</td>\n",
       "    </tr>\n",
       "    <tr>\n",
       "      <th>3</th>\n",
       "      <td>1</td>\n",
       "      <td>Steve</td>\n",
       "      <td>0</td>\n",
       "    </tr>\n",
       "    <tr>\n",
       "      <th>4</th>\n",
       "      <td>1</td>\n",
       "      <td>Hari</td>\n",
       "      <td>0</td>\n",
       "    </tr>\n",
       "    <tr>\n",
       "      <th>5</th>\n",
       "      <td>2</td>\n",
       "      <td>Madhuri</td>\n",
       "      <td>535</td>\n",
       "    </tr>\n",
       "    <tr>\n",
       "      <th>6</th>\n",
       "      <td>2</td>\n",
       "      <td>Sarvana</td>\n",
       "      <td>300</td>\n",
       "    </tr>\n",
       "    <tr>\n",
       "      <th>7</th>\n",
       "      <td>2</td>\n",
       "      <td>Soundarya</td>\n",
       "      <td>510</td>\n",
       "    </tr>\n",
       "    <tr>\n",
       "      <th>8</th>\n",
       "      <td>2</td>\n",
       "      <td>Steve</td>\n",
       "      <td>580</td>\n",
       "    </tr>\n",
       "    <tr>\n",
       "      <th>9</th>\n",
       "      <td>2</td>\n",
       "      <td>Hari</td>\n",
       "      <td>205</td>\n",
       "    </tr>\n",
       "    <tr>\n",
       "      <th>10</th>\n",
       "      <td>3</td>\n",
       "      <td>Madhuri</td>\n",
       "      <td>880</td>\n",
       "    </tr>\n",
       "    <tr>\n",
       "      <th>11</th>\n",
       "      <td>3</td>\n",
       "      <td>Sarvana</td>\n",
       "      <td>490</td>\n",
       "    </tr>\n",
       "    <tr>\n",
       "      <th>12</th>\n",
       "      <td>3</td>\n",
       "      <td>Soundarya</td>\n",
       "      <td>600</td>\n",
       "    </tr>\n",
       "    <tr>\n",
       "      <th>13</th>\n",
       "      <td>3</td>\n",
       "      <td>Steve</td>\n",
       "      <td>625</td>\n",
       "    </tr>\n",
       "    <tr>\n",
       "      <th>14</th>\n",
       "      <td>3</td>\n",
       "      <td>Hari</td>\n",
       "      <td>205</td>\n",
       "    </tr>\n",
       "  </tbody>\n",
       "</table>\n",
       "</div>"
      ],
      "text/plain": [
       "    days   learners  score\n",
       "0      1    Madhuri      0\n",
       "1      1    Sarvana      0\n",
       "2      1  Soundarya      0\n",
       "3      1      Steve      0\n",
       "4      1       Hari      0\n",
       "5      2    Madhuri    535\n",
       "6      2    Sarvana    300\n",
       "7      2  Soundarya    510\n",
       "8      2      Steve    580\n",
       "9      2       Hari    205\n",
       "10     3    Madhuri    880\n",
       "11     3    Sarvana    490\n",
       "12     3  Soundarya    600\n",
       "13     3      Steve    625\n",
       "14     3       Hari    205"
      ]
     },
     "execution_count": 10,
     "metadata": {},
     "output_type": "execute_result"
    }
   ],
   "source": [
    "df"
   ]
  },
  {
   "cell_type": "code",
   "execution_count": 11,
   "id": "52bdb2fe-d011-4232-886b-c02fc2917b94",
   "metadata": {},
   "outputs": [],
   "source": [
    "df_wide = df.pivot(index ='days', columns = 'learners', values = 'score')"
   ]
  },
  {
   "cell_type": "code",
   "execution_count": 12,
   "id": "8312380f-0bb6-4f54-a462-e6f877bad300",
   "metadata": {},
   "outputs": [
    {
     "data": {
      "text/html": [
       "<div>\n",
       "<style scoped>\n",
       "    .dataframe tbody tr th:only-of-type {\n",
       "        vertical-align: middle;\n",
       "    }\n",
       "\n",
       "    .dataframe tbody tr th {\n",
       "        vertical-align: top;\n",
       "    }\n",
       "\n",
       "    .dataframe thead th {\n",
       "        text-align: right;\n",
       "    }\n",
       "</style>\n",
       "<table border=\"1\" class=\"dataframe\">\n",
       "  <thead>\n",
       "    <tr style=\"text-align: right;\">\n",
       "      <th>learners</th>\n",
       "      <th>Hari</th>\n",
       "      <th>Madhuri</th>\n",
       "      <th>Sarvana</th>\n",
       "      <th>Soundarya</th>\n",
       "      <th>Steve</th>\n",
       "    </tr>\n",
       "    <tr>\n",
       "      <th>days</th>\n",
       "      <th></th>\n",
       "      <th></th>\n",
       "      <th></th>\n",
       "      <th></th>\n",
       "      <th></th>\n",
       "    </tr>\n",
       "  </thead>\n",
       "  <tbody>\n",
       "    <tr>\n",
       "      <th>1</th>\n",
       "      <td>0</td>\n",
       "      <td>0</td>\n",
       "      <td>0</td>\n",
       "      <td>0</td>\n",
       "      <td>0</td>\n",
       "    </tr>\n",
       "    <tr>\n",
       "      <th>2</th>\n",
       "      <td>205</td>\n",
       "      <td>535</td>\n",
       "      <td>300</td>\n",
       "      <td>510</td>\n",
       "      <td>580</td>\n",
       "    </tr>\n",
       "    <tr>\n",
       "      <th>3</th>\n",
       "      <td>205</td>\n",
       "      <td>880</td>\n",
       "      <td>490</td>\n",
       "      <td>600</td>\n",
       "      <td>625</td>\n",
       "    </tr>\n",
       "  </tbody>\n",
       "</table>\n",
       "</div>"
      ],
      "text/plain": [
       "learners  Hari  Madhuri  Sarvana  Soundarya  Steve\n",
       "days                                              \n",
       "1            0        0        0          0      0\n",
       "2          205      535      300        510    580\n",
       "3          205      880      490        600    625"
      ]
     },
     "execution_count": 12,
     "metadata": {},
     "output_type": "execute_result"
    }
   ],
   "source": [
    "df_wide"
   ]
  },
  {
   "cell_type": "code",
   "execution_count": 13,
   "id": "2d780ffc-f95d-4ce3-b73d-8be464f3d163",
   "metadata": {},
   "outputs": [],
   "source": [
    "import seaborn as sns"
   ]
  },
  {
   "cell_type": "code",
   "execution_count": 75,
   "id": "e8c05a63-49e9-4e64-8e93-d1e249f9c2ad",
   "metadata": {},
   "outputs": [],
   "source": [
    "#!pip install seaborn"
   ]
  },
  {
   "cell_type": "code",
   "execution_count": null,
   "id": "ea698dc9-7ea4-4d4b-8114-550121cea5f8",
   "metadata": {},
   "outputs": [],
   "source": []
  },
  {
   "cell_type": "code",
   "execution_count": 14,
   "id": "9c493993-908b-4e1e-a132-464f18bd8bf0",
   "metadata": {},
   "outputs": [
    {
     "data": {
      "text/plain": [
       "<matplotlib.legend.Legend at 0x147592780>"
      ]
     },
     "execution_count": 14,
     "metadata": {},
     "output_type": "execute_result"
    },
    {
     "data": {
      "image/png": "[encoded data removed]",
      "text/plain": [
       "<Figure size 640x480 with 1 Axes>"
      ]
     },
     "metadata": {},
     "output_type": "display_data"
    }
   ],
   "source": [
    "sns.lineplot(data = df_wide).set(title= \"Learners Leaderboard\")\n",
    "bar = sns.barplot(data, x = \"days\", y =\"score\",color = \"green\")\n",
    "bar.set(xlabel = \"days\", ylabel = \"score\")\n",
    "bar\n",
    "plt.legend(labels = ['Learners','Days','Score'])"
   ]
  },
  {
   "cell_type": "code",
   "execution_count": null,
   "id": "2c742c02-c044-425e-a345-5955c87d6c88",
   "metadata": {},
   "outputs": [],
   "source": []
  },
  {
   "cell_type": "code",
   "execution_count": 85,
   "id": "25314427-68e5-4773-b7eb-a4225dee97fe",
   "metadata": {},
   "outputs": [],
   "source": []
  },
  {
   "cell_type": "code",
   "execution_count": null,
   "id": "df37b4e2-b006-4af2-9d63-4d0dcae43015",
   "metadata": {},
   "outputs": [],
   "source": []
  },
  {
   "cell_type": "code",
   "execution_count": null,
   "id": "110682b6-9f2b-4fc9-9961-f8b5f36d7b92",
   "metadata": {},
   "outputs": [],
   "source": []
  }
 ],
 "metadata": {
  "kernelspec": {
   "display_name": "Python 3 (ipykernel)",
   "language": "python",
   "name": "python3"
  },
  "language_info": {
   "codemirror_mode": {
    "name": "ipython",
    "version": 3
   },
   "file_extension": ".py",
   "mimetype": "text/x-python",
   "name": "python",
   "nbconvert_exporter": "python",
   "pygments_lexer": "ipython3",
   "version": "3.12.7"
  }
 },
 "nbformat": 4,
 "nbformat_minor": 5
}
