{
 "cells": [
  {
   "cell_type": "code",
   "execution_count": 19,
   "id": "c2032364-dc86-4955-af31-b3dec7c254b7",
   "metadata": {},
   "outputs": [],
   "source": [
    "import pandas as pd\n",
    "import matplotlib.pyplot as plt"
   ]
  },
  {
   "cell_type": "code",
   "execution_count": 20,
   "id": "45b70034-de9f-42e1-bf9e-5944cf56d0f3",
   "metadata": {},
   "outputs": [],
   "source": [
    "days_list = [\n",
    "    1, 1, 1, 1, 1,\n",
    "    2, 2, 2, 2, 2,\n",
    "    3, 3, 3, 3, 3\n",
    "]"
   ]
  },
  {
   "cell_type": "code",
   "execution_count": 21,
   "id": "8a700231-3ab2-42be-a89b-664bd7753ed3",
   "metadata": {},
   "outputs": [
    {
     "data": {
      "text/plain": [
       "15"
      ]
     },
     "execution_count": 21,
     "metadata": {},
     "output_type": "execute_result"
    }
   ],
   "source": [
    "len(days_list)"
   ]
  },
  {
   "cell_type": "code",
   "execution_count": 22,
   "id": "c3667759-bf28-4e64-9acd-7bc2d9ec2fdd",
   "metadata": {},
   "outputs": [],
   "source": [
    "learners_list = [\n",
    "    'Madhuri','Sarvana','Soundarya','Steve','Hari',\n",
    "    'Madhuri','Sarvana','Soundarya','Steve','Hari',\n",
    "    'Madhuri','Sarvana','Soundarya','Steve','Hari'\n",
    "]"
   ]
  },
  {
   "cell_type": "code",
   "execution_count": 23,
   "id": "abf82ef7-76fd-4a4a-b121-7c3e47249fa5",
   "metadata": {},
   "outputs": [
    {
     "data": {
      "text/plain": [
       "15"
      ]
     },
     "execution_count": 23,
     "metadata": {},
     "output_type": "execute_result"
    }
   ],
   "source": [
    "len(learners_list)"
   ]
  },
  {
   "cell_type": "code",
   "execution_count": 24,
   "id": "c715b8cc-c66a-494f-89f9-4fd729cbbcae",
   "metadata": {},
   "outputs": [],
   "source": [
    "score_list = [\n",
    "    0, 0, 0, 0, 0,\n",
    "    535,300,510,580,205,\n",
    "    880,490,600,625,205\n",
    "]\n",
    "    "
   ]
  },
  {
   "cell_type": "code",
   "execution_count": 25,
   "id": "aceee7a5-ce5d-4614-b6d4-7ea8dce5e34c",
   "metadata": {},
   "outputs": [
    {
     "data": {
      "text/plain": [
       "15"
      ]
     },
     "execution_count": 25,
     "metadata": {},
     "output_type": "execute_result"
    }
   ],
   "source": [
    "len(score_list)"
   ]
  },
  {
   "cell_type": "code",
   "execution_count": 26,
   "id": "8d334376-cc86-4873-b1a6-c8e509333afa",
   "metadata": {},
   "outputs": [],
   "source": [
    "data = {\n",
    "    'days':  days_list,\n",
    "    'learners': learners_list,\n",
    "    'score' : score_list\n",
    "}"
   ]
  },
  {
   "cell_type": "code",
   "execution_count": 27,
   "id": "13f6e402-0e7d-4d9c-b412-919018365373",
   "metadata": {},
   "outputs": [],
   "source": [
    "df = pd.DataFrame(data)"
   ]
  },
  {
   "cell_type": "code",
   "execution_count": 28,
   "id": "31a9cff5-f5c5-4c69-9954-002ca5e49dea",
   "metadata": {},
   "outputs": [
    {
     "data": {
      "text/html": [
       "<div>\n",
       "<style scoped>\n",
       "    .dataframe tbody tr th:only-of-type {\n",
       "        vertical-align: middle;\n",
       "    }\n",
       "\n",
       "    .dataframe tbody tr th {\n",
       "        vertical-align: top;\n",
       "    }\n",
       "\n",
       "    .dataframe thead th {\n",
       "        text-align: right;\n",
       "    }\n",
       "</style>\n",
       "<table border=\"1\" class=\"dataframe\">\n",
       "  <thead>\n",
       "    <tr style=\"text-align: right;\">\n",
       "      <th></th>\n",
       "      <th>days</th>\n",
       "      <th>learners</th>\n",
       "      <th>score</th>\n",
       "    </tr>\n",
       "  </thead>\n",
       "  <tbody>\n",
       "    <tr>\n",
       "      <th>0</th>\n",
       "      <td>1</td>\n",
       "      <td>Madhuri</td>\n",
       "      <td>0</td>\n",
       "    </tr>\n",
       "    <tr>\n",
       "      <th>1</th>\n",
       "      <td>1</td>\n",
       "      <td>Sarvana</td>\n",
       "      <td>0</td>\n",
       "    </tr>\n",
       "    <tr>\n",
       "      <th>2</th>\n",
       "      <td>1</td>\n",
       "      <td>Soundarya</td>\n",
       "      <td>0</td>\n",
       "    </tr>\n",
       "    <tr>\n",
       "      <th>3</th>\n",
       "      <td>1</td>\n",
       "      <td>Steve</td>\n",
       "      <td>0</td>\n",
       "    </tr>\n",
       "    <tr>\n",
       "      <th>4</th>\n",
       "      <td>1</td>\n",
       "      <td>Hari</td>\n",
       "      <td>0</td>\n",
       "    </tr>\n",
       "    <tr>\n",
       "      <th>5</th>\n",
       "      <td>2</td>\n",
       "      <td>Madhuri</td>\n",
       "      <td>535</td>\n",
       "    </tr>\n",
       "    <tr>\n",
       "      <th>6</th>\n",
       "      <td>2</td>\n",
       "      <td>Sarvana</td>\n",
       "      <td>300</td>\n",
       "    </tr>\n",
       "    <tr>\n",
       "      <th>7</th>\n",
       "      <td>2</td>\n",
       "      <td>Soundarya</td>\n",
       "      <td>510</td>\n",
       "    </tr>\n",
       "    <tr>\n",
       "      <th>8</th>\n",
       "      <td>2</td>\n",
       "      <td>Steve</td>\n",
       "      <td>580</td>\n",
       "    </tr>\n",
       "    <tr>\n",
       "      <th>9</th>\n",
       "      <td>2</td>\n",
       "      <td>Hari</td>\n",
       "      <td>205</td>\n",
       "    </tr>\n",
       "    <tr>\n",
       "      <th>10</th>\n",
       "      <td>3</td>\n",
       "      <td>Madhuri</td>\n",
       "      <td>880</td>\n",
       "    </tr>\n",
       "    <tr>\n",
       "      <th>11</th>\n",
       "      <td>3</td>\n",
       "      <td>Sarvana</td>\n",
       "      <td>490</td>\n",
       "    </tr>\n",
       "    <tr>\n",
       "      <th>12</th>\n",
       "      <td>3</td>\n",
       "      <td>Soundarya</td>\n",
       "      <td>600</td>\n",
       "    </tr>\n",
       "    <tr>\n",
       "      <th>13</th>\n",
       "      <td>3</td>\n",
       "      <td>Steve</td>\n",
       "      <td>625</td>\n",
       "    </tr>\n",
       "    <tr>\n",
       "      <th>14</th>\n",
       "      <td>3</td>\n",
       "      <td>Hari</td>\n",
       "      <td>205</td>\n",
       "    </tr>\n",
       "  </tbody>\n",
       "</table>\n",
       "</div>"
      ],
      "text/plain": [
       "    days   learners  score\n",
       "0      1    Madhuri      0\n",
       "1      1    Sarvana      0\n",
       "2      1  Soundarya      0\n",
       "3      1      Steve      0\n",
       "4      1       Hari      0\n",
       "5      2    Madhuri    535\n",
       "6      2    Sarvana    300\n",
       "7      2  Soundarya    510\n",
       "8      2      Steve    580\n",
       "9      2       Hari    205\n",
       "10     3    Madhuri    880\n",
       "11     3    Sarvana    490\n",
       "12     3  Soundarya    600\n",
       "13     3      Steve    625\n",
       "14     3       Hari    205"
      ]
     },
     "execution_count": 28,
     "metadata": {},
     "output_type": "execute_result"
    }
   ],
   "source": [
    "df"
   ]
  },
  {
   "cell_type": "code",
   "execution_count": 29,
   "id": "54b2f8ec-9d80-42ac-ba2e-cc8bd369d728",
   "metadata": {},
   "outputs": [],
   "source": [
    "df_wide = pd.DataFrame(data)"
   ]
  },
  {
   "cell_type": "code",
   "execution_count": 30,
   "id": "52bdb2fe-d011-4232-886b-c02fc2917b94",
   "metadata": {},
   "outputs": [],
   "source": [
    "df_wide = df.pivot(index ='days', columns = 'learners', values = 'score')"
   ]
  },
  {
   "cell_type": "code",
   "execution_count": 31,
   "id": "8312380f-0bb6-4f54-a462-e6f877bad300",
   "metadata": {},
   "outputs": [
    {
     "data": {
      "text/html": [
       "<div>\n",
       "<style scoped>\n",
       "    .dataframe tbody tr th:only-of-type {\n",
       "        vertical-align: middle;\n",
       "    }\n",
       "\n",
       "    .dataframe tbody tr th {\n",
       "        vertical-align: top;\n",
       "    }\n",
       "\n",
       "    .dataframe thead th {\n",
       "        text-align: right;\n",
       "    }\n",
       "</style>\n",
       "<table border=\"1\" class=\"dataframe\">\n",
       "  <thead>\n",
       "    <tr style=\"text-align: right;\">\n",
       "      <th>learners</th>\n",
       "      <th>Hari</th>\n",
       "      <th>Madhuri</th>\n",
       "      <th>Sarvana</th>\n",
       "      <th>Soundarya</th>\n",
       "      <th>Steve</th>\n",
       "    </tr>\n",
       "    <tr>\n",
       "      <th>days</th>\n",
       "      <th></th>\n",
       "      <th></th>\n",
       "      <th></th>\n",
       "      <th></th>\n",
       "      <th></th>\n",
       "    </tr>\n",
       "  </thead>\n",
       "  <tbody>\n",
       "    <tr>\n",
       "      <th>1</th>\n",
       "      <td>0</td>\n",
       "      <td>0</td>\n",
       "      <td>0</td>\n",
       "      <td>0</td>\n",
       "      <td>0</td>\n",
       "    </tr>\n",
       "    <tr>\n",
       "      <th>2</th>\n",
       "      <td>205</td>\n",
       "      <td>535</td>\n",
       "      <td>300</td>\n",
       "      <td>510</td>\n",
       "      <td>580</td>\n",
       "    </tr>\n",
       "    <tr>\n",
       "      <th>3</th>\n",
       "      <td>205</td>\n",
       "      <td>880</td>\n",
       "      <td>490</td>\n",
       "      <td>600</td>\n",
       "      <td>625</td>\n",
       "    </tr>\n",
       "  </tbody>\n",
       "</table>\n",
       "</div>"
      ],
      "text/plain": [
       "learners  Hari  Madhuri  Sarvana  Soundarya  Steve\n",
       "days                                              \n",
       "1            0        0        0          0      0\n",
       "2          205      535      300        510    580\n",
       "3          205      880      490        600    625"
      ]
     },
     "execution_count": 31,
     "metadata": {},
     "output_type": "execute_result"
    }
   ],
   "source": [
    "df_wide"
   ]
  },
  {
   "cell_type": "code",
   "execution_count": 32,
   "id": "d3e03bfb-92c7-4d20-916a-6b1b562a18cb",
   "metadata": {},
   "outputs": [],
   "source": [
    "df_wide = pd.DataFrame(data)"
   ]
  },
  {
   "cell_type": "code",
   "execution_count": null,
   "id": "cc45dccb-f46c-4937-ac50-c21ccd534d7a",
   "metadata": {},
   "outputs": [],
   "source": []
  },
  {
   "cell_type": "code",
   "execution_count": 33,
   "id": "2d780ffc-f95d-4ce3-b73d-8be464f3d163",
   "metadata": {},
   "outputs": [],
   "source": [
    "import seaborn as sns"
   ]
  },
  {
   "cell_type": "code",
   "execution_count": 34,
   "id": "e8c05a63-49e9-4e64-8e93-d1e249f9c2ad",
   "metadata": {},
   "outputs": [],
   "source": [
    "#!pip install seaborn"
   ]
  },
  {
   "cell_type": "code",
   "execution_count": 46,
   "id": "d2fd5f92-d19e-4a5b-8a09-c6437734c725",
   "metadata": {},
   "outputs": [
    {
     "data": {
      "text/plain": [
       "<matplotlib.collections.PolyCollection at 0x1500a58e0>"
      ]
     },
     "execution_count": 46,
     "metadata": {},
     "output_type": "execute_result"
    },
    {
     "data": {
      "image/png": "[encoded data removed]",
      "text/plain": [
       "<Figure size 640x480 with 1 Axes>"
      ]
     },
     "metadata": {},
     "output_type": "display_data"
    }
   ],
   "source": [
    "sns.lineplot(data=df_wide, x=\"days\", y=\"score\", hue=\"learners\", linestyle=\"--\", linewidth=1)\n",
    "\n",
    "plt.fill_between([1, 2], 0, 1000, color=\"red\", alpha=0.1, label=\"Low Performance (Days 1-2)\")\n",
    "plt.fill_between([2, 3], 0, 1000, color=\"green\", alpha=0.1, label=\"High Performance (Days 2-3)\")"
   ]
  },
  {
   "cell_type": "code",
   "execution_count": 28,
   "id": "cd693a4f-d924-4e5a-955f-779e540eba64",
   "metadata": {},
   "outputs": [],
   "source": []
  },
  {
   "cell_type": "code",
   "execution_count": null,
   "id": "9c493993-908b-4e1e-a132-464f18bd8bf0",
   "metadata": {},
   "outputs": [],
   "source": []
  },
  {
   "cell_type": "code",
   "execution_count": null,
   "id": "daa69ae9-c5b8-4b08-b78d-2176b988359d",
   "metadata": {},
   "outputs": [],
   "source": []
  },
  {
   "cell_type": "code",
   "execution_count": 18,
   "id": "df37b4e2-b006-4af2-9d63-4d0dcae43015",
   "metadata": {},
   "outputs": [],
   "source": []
  },
  {
   "cell_type": "code",
   "execution_count": null,
   "id": "d493a524-bdcc-4607-8abd-8d0b01fa1332",
   "metadata": {},
   "outputs": [],
   "source": []
  }
 ],
 "metadata": {
  "kernelspec": {
   "display_name": "Python 3 (ipykernel)",
   "language": "python",
   "name": "python3"
  },
  "language_info": {
   "codemirror_mode": {
    "name": "ipython",
    "version": 3
   },
   "file_extension": ".py",
   "mimetype": "text/x-python",
   "name": "python",
   "nbconvert_exporter": "python",
   "pygments_lexer": "ipython3",
   "version": "3.12.7"
  }
 },
 "nbformat": 4,
 "nbformat_minor": 5
}
