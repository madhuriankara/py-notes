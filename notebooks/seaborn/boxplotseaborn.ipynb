{
 "cells": [
  {
   "cell_type": "code",
   "execution_count": 12,
   "id": "99ff4ecb-2cc4-4e3c-a65e-adc2a7848313",
   "metadata": {},
   "outputs": [],
   "source": [
    "import pandas as pd\n",
    "import matplotlib.pyplot as plt"
   ]
  },
  {
   "cell_type": "code",
   "execution_count": 13,
   "id": "d8b55455-e6a4-4ccb-8454-f732b8a7191d",
   "metadata": {},
   "outputs": [],
   "source": [
    "import seaborn as sns"
   ]
  },
  {
   "cell_type": "code",
   "execution_count": 14,
   "id": "02a05d6b-1b20-46d7-916f-5eb2c0a7fa73",
   "metadata": {},
   "outputs": [],
   "source": [
    "days_list = [\n",
    "    1, 1, 1, 1, 1,\n",
    "    2, 2, 2, 2, 2,\n",
    "    3, 3, 3, 3, 3\n",
    "]"
   ]
  },
  {
   "cell_type": "code",
   "execution_count": 15,
   "id": "6946df1e-fa9d-4824-a217-313cb0089c32",
   "metadata": {},
   "outputs": [],
   "source": [
    "learners_list = [\n",
    "    'Madhuri','Sarvana','Soundarya','Steve','Hari',\n",
    "    'Madhuri','Sarvana','Soundarya','Steve','Hari',\n",
    "    'Madhuri','Sarvana','Soundarya','Steve','Hari'\n",
    "]"
   ]
  },
  {
   "cell_type": "code",
   "execution_count": 16,
   "id": "1e292dc0-3d25-4cc7-bc83-0d7424078872",
   "metadata": {},
   "outputs": [],
   "source": [
    "score_list = [\n",
    "    0, 0, 0, 0, 0,\n",
    "    535,300,510,580,205,\n",
    "    880,490,600,625,205\n",
    "]"
   ]
  },
  {
   "cell_type": "code",
   "execution_count": 17,
   "id": "bef6edbd-27fb-4d98-b615-8d8c841fc6c3",
   "metadata": {},
   "outputs": [],
   "source": [
    "data = {\n",
    "    'days':  days_list,\n",
    "    'learners': learners_list,\n",
    "    'score' : score_list\n",
    "}"
   ]
  },
  {
   "cell_type": "code",
   "execution_count": 18,
   "id": "6c6c5417-6e68-4353-829b-1d7085bb554a",
   "metadata": {},
   "outputs": [],
   "source": [
    "df = pd.DataFrame(data)"
   ]
  },
  {
   "cell_type": "code",
   "execution_count": 19,
   "id": "5659bf7a-160f-4184-bf2f-fe1147bc23c1",
   "metadata": {},
   "outputs": [],
   "source": [
    "df_wide = df.pivot(index ='days', columns = 'learners', values = 'score')"
   ]
  },
  {
   "cell_type": "code",
   "execution_count": 20,
   "id": "9fe130b0-48b6-459c-9dec-83679562d035",
   "metadata": {},
   "outputs": [],
   "source": [
    "df_wide = pd.DataFrame(data)"
   ]
  },
  {
   "cell_type": "code",
   "execution_count": 33,
   "id": "32d10659-c94d-4026-8902-c501015072eb",
   "metadata": {},
   "outputs": [
    {
     "data": {
      "text/plain": [
       "[Text(0.5, 1.0, 'Score Distribution')]"
      ]
     },
     "execution_count": 33,
     "metadata": {},
     "output_type": "execute_result"
    },
    {
     "data": {
      "image/png": "[encoded data removed]",
      "text/plain": [
       "<Figure size 640x480 with 1 Axes>"
      ]
     },
     "metadata": {},
     "output_type": "display_data"
    }
   ],
   "source": [
    "sns.boxplot(data=df_wide, x=\"learners\", y=\"score\").set(title = \"Score Distribution\")\n"
   ]
  },
  {
   "cell_type": "code",
   "execution_count": null,
   "id": "15678d7f-a70e-477e-94ac-dfdd6900fd4f",
   "metadata": {},
   "outputs": [],
   "source": []
  },
  {
   "cell_type": "code",
   "execution_count": null,
   "id": "7f3165ba-f002-413f-920d-507559f2eb34",
   "metadata": {},
   "outputs": [],
   "source": []
  }
 ],
 "metadata": {
  "kernelspec": {
   "display_name": "Python 3 (ipykernel)",
   "language": "python",
   "name": "python3"
  },
  "language_info": {
   "codemirror_mode": {
    "name": "ipython",
    "version": 3
   },
   "file_extension": ".py",
   "mimetype": "text/x-python",
   "name": "python",
   "nbconvert_exporter": "python",
   "pygments_lexer": "ipython3",
   "version": "3.12.7"
  }
 },
 "nbformat": 4,
 "nbformat_minor": 5
}
