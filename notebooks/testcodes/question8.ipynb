{
 "cells": [
  {
   "cell_type": "markdown",
   "id": "d8384c5f-cd60-45e8-8702-6c6f22f8b0fc",
   "metadata": {},
   "source": [
    "```python\n",
    "def reverse_words(sentence):\n",
    "    \"\"\"\n",
    "    Given a sentence, reverse the order of words in it.\n",
    "\n",
    "    Args:\n",
    "    sentence: A string representing the input sentence.\n",
    "\n",
    "    Returns:\n",
    "    A string with words in reversed order.\n",
    "    \"\"\"\n",
    "\n",
    "    # Split the sentence into words\n",
    "    words = sentence.split()\n",
    "\n",
    "    # do your code\n",
    "\n",
    "    return reversed_sentence\n",
    "\n",
    "# Test cases\n",
    "# print(reverse_words(\"Hello World\"))  # Output: \"World Hello\"\n",
    "# print(reverse_words(\"Python is awesome\"))  # Output: \"awesome is Python\"\n",
    "# print(reverse_words(\"Coding test in Python\"))  # Output: \"Python in test Coding\"\n",
    "```"
   ]
  },
  {
   "cell_type": "code",
   "execution_count": 18,
   "id": "b0e6dca8-9ea2-4e36-b4a6-1c14c21136e1",
   "metadata": {},
   "outputs": [
    {
     "name": "stdout",
     "output_type": "stream",
     "text": [
      "World Hello\n",
      "awesome is Python\n",
      "Python in test Coding\n"
     ]
    }
   ],
   "source": [
    "def reverse_words(sentence):\n",
    "    words = sentence.split()\n",
    "    return \" \".join(words[::-1])\n",
    "    \n",
    "        \n",
    "        \n",
    "print(reverse_words(\"Hello World\"))  # Output: \"World Hello\"\n",
    "print(reverse_words(\"Python is awesome\"))  # Output: \"awesome is Python\"\n",
    "print(reverse_words(\"Coding test in Python\"))  # Output: \"Python in test Coding\"\n",
    "    \n",
    "    "
   ]
  },
  {
   "cell_type": "code",
   "execution_count": null,
   "id": "5c3bb07a-3322-4cd1-81b4-08fb53527e51",
   "metadata": {},
   "outputs": [],
   "source": []
  }
 ],
 "metadata": {
  "kernelspec": {
   "display_name": "Python 3 (ipykernel)",
   "language": "python",
   "name": "python3"
  },
  "language_info": {
   "codemirror_mode": {
    "name": "ipython",
    "version": 3
   },
   "file_extension": ".py",
   "mimetype": "text/x-python",
   "name": "python",
   "nbconvert_exporter": "python",
   "pygments_lexer": "ipython3",
   "version": "3.12.7"
  }
 },
 "nbformat": 4,
 "nbformat_minor": 5
}
