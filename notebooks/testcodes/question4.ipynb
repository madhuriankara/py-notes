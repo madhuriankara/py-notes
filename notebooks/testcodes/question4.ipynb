{
 "cells": [
  {
   "cell_type": "markdown",
   "id": "46d7bce3-14b2-445e-bb2a-898201ecfc09",
   "metadata": {},
   "source": [
    "def generate_squares(n):\n",
    "    \"\"\"\n",
    "    Generate a list of squares of numbers from 1 to n.\n",
    "\n",
    "    Args:\n",
    "    n: an integer representing the upper limit of the range\n",
    "\n",
    "    Returns:\n",
    "    A list of squares of numbers from 1 to n\n",
    "    \"\"\"\n",
    "\n",
    "    # Initialize an empty list to store the squares\n",
    "    squares = []\n",
    "\n",
    "    # Pass\n",
    "\n",
    "# Sample test cases\n",
    "print(generate_squares(5))  # Output: [1, 4, 9, 16, 25]\n",
    "print(generate_squares(0))  # Output: []\n",
    "print(generate_squares(3))  # Output: [1, 4, 9]"
   ]
  },
  {
   "cell_type": "code",
   "execution_count": 8,
   "id": "319ed3a6-c714-454d-8795-9e3c5b2eed0f",
   "metadata": {},
   "outputs": [
    {
     "name": "stdout",
     "output_type": "stream",
     "text": [
      "1\n",
      "4\n",
      "9\n",
      "16\n",
      "25\n",
      "None\n"
     ]
    }
   ],
   "source": [
    "def generate_squares(n):\n",
    "    for i in range(1,n+1):\n",
    "        print(i**2)\n",
    "    \n",
    "\n",
    "\n",
    "\n",
    "print(generate_squares(5)) # Output: [1, 4, 9, 16, 25] print(generate_squares(0))\n",
    "    "
   ]
  },
  {
   "cell_type": "code",
   "execution_count": null,
   "id": "2fc0326b-f148-47bb-a813-fb850e77a1b3",
   "metadata": {},
   "outputs": [],
   "source": []
  },
  {
   "cell_type": "code",
   "execution_count": null,
   "id": "9805f7a2-0438-46ac-a1e2-1968a0898759",
   "metadata": {},
   "outputs": [],
   "source": []
  }
 ],
 "metadata": {
  "kernelspec": {
   "display_name": "Python 3 (ipykernel)",
   "language": "python",
   "name": "python3"
  },
  "language_info": {
   "codemirror_mode": {
    "name": "ipython",
    "version": 3
   },
   "file_extension": ".py",
   "mimetype": "text/x-python",
   "name": "python",
   "nbconvert_exporter": "python",
   "pygments_lexer": "ipython3",
   "version": "3.12.7"
  }
 },
 "nbformat": 4,
 "nbformat_minor": 5
}
