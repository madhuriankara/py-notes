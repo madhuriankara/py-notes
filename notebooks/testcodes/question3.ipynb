{
 "cells": [
  {
   "cell_type": "markdown",
   "id": "056b60c6-2092-492e-acca-e5a5aef805ab",
   "metadata": {},
   "source": [
    "def find_common_elements(list1, list2):\n",
    "    \"\"\"\n",
    "    Given two lists, find the common elements between them.\n",
    "\n",
    "    Args:\n",
    "    list1: First list of elements\n",
    "    list2: Second list of elements\n",
    "\n",
    "    Returns:\n",
    "    List of common elements between list1 and list2\n",
    "    \"\"\"\n",
    "\n",
    "    # Initialize an empty list to store common elements\n",
    "    common_elements = []\n",
    "\n",
    "    # pass\n",
    "\n",
    "# Sample test cases\n",
    "# print(find_common_elements([1, 2, 3, 4, 5], [4, 5, 6, 7, 8])) # Output should be [4, 5]\n",
    "# print(find_common_elements(['a', 'b', 'c'], ['b', 'c', 'd'])) # Output should be ['b', 'c']\n",
    "```"
   ]
  },
  {
   "cell_type": "code",
   "execution_count": 13,
   "id": "40e1d48b-40bb-4daa-9cc2-ddfbf6ce16b7",
   "metadata": {},
   "outputs": [
    {
     "ename": "SyntaxError",
     "evalue": "Missing parentheses in call to 'print'. Did you mean print(...)? (3987250625.py, line 8)",
     "output_type": "error",
     "traceback": [
      "\u001b[0;36m  Cell \u001b[0;32mIn[13], line 8\u001b[0;36m\u001b[0m\n\u001b[0;31m    print f'{common_elemets}'\u001b[0m\n\u001b[0m    ^\u001b[0m\n\u001b[0;31mSyntaxError\u001b[0m\u001b[0;31m:\u001b[0m Missing parentheses in call to 'print'. Did you mean print(...)?\n"
     ]
    }
   ],
   "source": [
    "def find_common_elements(list1, list2):\n",
    "    common_elements =[]\n",
    "    list1: [1,2,3,4,5]\n",
    "    list2: [4,5,6,7,8]\n",
    "    for i in list1:\n",
    "        for i in list2:\n",
    "            common_elements.append(i)\n",
    "            print f'{common_elemets}'\n"
   ]
  },
  {
   "cell_type": "code",
   "execution_count": 14,
   "id": "479df9f5-733f-461f-bcf6-6625e377852a",
   "metadata": {},
   "outputs": [
    {
     "ename": "NameError",
     "evalue": "name 'common_elemets' is not defined",
     "output_type": "error",
     "traceback": [
      "\u001b[0;31m---------------------------------------------------------------------------\u001b[0m",
      "\u001b[0;31mNameError\u001b[0m                                 Traceback (most recent call last)",
      "Cell \u001b[0;32mIn[14], line 1\u001b[0m\n\u001b[0;32m----> 1\u001b[0m \u001b[38;5;28mprint\u001b[39m(\u001b[43mfind_common_elements\u001b[49m\u001b[43m(\u001b[49m\u001b[43m[\u001b[49m\u001b[38;5;241;43m1\u001b[39;49m\u001b[43m,\u001b[49m\u001b[43m \u001b[49m\u001b[38;5;241;43m2\u001b[39;49m\u001b[43m,\u001b[49m\u001b[43m \u001b[49m\u001b[38;5;241;43m3\u001b[39;49m\u001b[43m,\u001b[49m\u001b[43m \u001b[49m\u001b[38;5;241;43m4\u001b[39;49m\u001b[43m,\u001b[49m\u001b[43m \u001b[49m\u001b[38;5;241;43m5\u001b[39;49m\u001b[43m]\u001b[49m\u001b[43m,\u001b[49m\u001b[43m \u001b[49m\u001b[43m[\u001b[49m\u001b[38;5;241;43m4\u001b[39;49m\u001b[43m,\u001b[49m\u001b[43m \u001b[49m\u001b[38;5;241;43m5\u001b[39;49m\u001b[43m,\u001b[49m\u001b[43m \u001b[49m\u001b[38;5;241;43m6\u001b[39;49m\u001b[43m,\u001b[49m\u001b[43m \u001b[49m\u001b[38;5;241;43m7\u001b[39;49m\u001b[43m,\u001b[49m\u001b[43m \u001b[49m\u001b[38;5;241;43m8\u001b[39;49m\u001b[43m]\u001b[49m\u001b[43m)\u001b[49m) \u001b[38;5;66;03m# Output should be [4, 5]\u001b[39;00m\n",
      "Cell \u001b[0;32mIn[11], line 8\u001b[0m, in \u001b[0;36mfind_common_elements\u001b[0;34m(list1, list2)\u001b[0m\n\u001b[1;32m      6\u001b[0m \u001b[38;5;28;01mfor\u001b[39;00m i \u001b[38;5;129;01min\u001b[39;00m list2:\n\u001b[1;32m      7\u001b[0m     common_elements\u001b[38;5;241m.\u001b[39mappend(i)\n\u001b[0;32m----> 8\u001b[0m     \u001b[38;5;28mprint\u001b[39m(\u001b[38;5;124mf\u001b[39m\u001b[38;5;124m'\u001b[39m\u001b[38;5;132;01m{\u001b[39;00m\u001b[43mcommon_elemets\u001b[49m\u001b[38;5;132;01m}\u001b[39;00m\u001b[38;5;124m'\u001b[39m)\n",
      "\u001b[0;31mNameError\u001b[0m: name 'common_elemets' is not defined"
     ]
    }
   ],
   "source": [
    "print(find_common_elements([1, 2, 3, 4, 5], [4, 5, 6, 7, 8])) # Output should be [4, 5]\n"
   ]
  },
  {
   "cell_type": "code",
   "execution_count": null,
   "id": "ef7f7620-99e6-4a87-9add-f14970ccab99",
   "metadata": {},
   "outputs": [],
   "source": []
  },
  {
   "cell_type": "code",
   "execution_count": null,
   "id": "8524da8b-0cc1-4c6d-b5ba-0bd678c0b342",
   "metadata": {},
   "outputs": [],
   "source": []
  }
 ],
 "metadata": {
  "kernelspec": {
   "display_name": "Python 3 (ipykernel)",
   "language": "python",
   "name": "python3"
  },
  "language_info": {
   "codemirror_mode": {
    "name": "ipython",
    "version": 3
   },
   "file_extension": ".py",
   "mimetype": "text/x-python",
   "name": "python",
   "nbconvert_exporter": "python",
   "pygments_lexer": "ipython3",
   "version": "3.12.7"
  }
 },
 "nbformat": 4,
 "nbformat_minor": 5
}
