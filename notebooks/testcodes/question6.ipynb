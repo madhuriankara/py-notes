{
 "cells": [
  {
   "cell_type": "markdown",
   "id": "6b8ff100-95b1-4ce3-8b49-cb7513a7dc27",
   "metadata": {},
   "source": [
    "def rotate_list(lst, k):\n",
    "    \"\"\"\n",
    "    Rotate a list by k positions.\n",
    "\n",
    "    Args:\n",
    "    lst: list - the list to rotate\n",
    "    k: int - the number of positions to rotate\n",
    "\n",
    "    Returns:\n",
    "    list - the rotated list\n",
    "    \"\"\"\n",
    "\n",
    "    # TODO: Implement the rotation logic here\n",
    "    pass\n",
    "\n",
    "# Sample test cases\n",
    "# print(rotate_list([1, 2, 3, 4, 5], 2))  # Output: [4, 5, 1, 2, 3]\n",
    "# print(rotate_list(['a', 'b', 'c', 'd', 'e'], 3))  # Output: ['c', 'd', 'e', 'a', 'b']\n",
    "```"
   ]
  },
  {
   "cell_type": "code",
   "execution_count": 16,
   "id": "610ff072-455f-4ec0-93d2-34474c71f9cf",
   "metadata": {},
   "outputs": [
    {
     "name": "stdout",
     "output_type": "stream",
     "text": [
      "List after left rotate by 3 : [4, 5, 1, 2, 3]\n",
      "None\n"
     ]
    }
   ],
   "source": [
    "def rotate_list(lst, k): \n",
    "    lst = lst[3:] + lst[:k+1]\n",
    "    print (\"List after left rotate by 3 : \" + str(lst))\n",
    "    \n",
    "\n",
    "\n",
    "\n",
    "\n",
    "\n",
    "print(rotate_list([1, 2, 3, 4, 5], 2)) # Output: [4, 5, 1, 2, 3]"
   ]
  },
  {
   "cell_type": "code",
   "execution_count": null,
   "id": "af540129-53d5-4faf-b4de-f220723f21e7",
   "metadata": {},
   "outputs": [],
   "source": []
  }
 ],
 "metadata": {
  "kernelspec": {
   "display_name": "Python 3 (ipykernel)",
   "language": "python",
   "name": "python3"
  },
  "language_info": {
   "codemirror_mode": {
    "name": "ipython",
    "version": 3
   },
   "file_extension": ".py",
   "mimetype": "text/x-python",
   "name": "python",
   "nbconvert_exporter": "python",
   "pygments_lexer": "ipython3",
   "version": "3.12.7"
  }
 },
 "nbformat": 4,
 "nbformat_minor": 5
}
