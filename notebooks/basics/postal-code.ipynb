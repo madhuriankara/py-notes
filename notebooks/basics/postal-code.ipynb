{
 "cells": [
  {
   "cell_type": "code",
   "execution_count": 28,
   "id": "74c538e3-0a1a-4785-8771-2c276cc19f26",
   "metadata": {},
   "outputs": [],
   "source": [
    "def postal_code(number):\n",
    "    try:\n",
    "        Zipcode_number = int(number)\n",
    "        print(\"This is an Indian code\")\n",
    "    except ValueError as e:\n",
    "        print(\"This is an Canadian postalcode\")\n",
    "        \n",
    "\n",
    "        "
   ]
  },
  {
   "cell_type": "code",
   "execution_count": 29,
   "id": "91b5cd60-df14-4679-96c1-5eae6c498129",
   "metadata": {},
   "outputs": [
    {
     "name": "stdout",
     "output_type": "stream",
     "text": [
      "This is an Canadian postalcode\n"
     ]
    }
   ],
   "source": [
    "postal_code(\"M1E5E6\")"
   ]
  },
  {
   "cell_type": "code",
   "execution_count": 31,
   "id": "36c14390-cc6b-4084-ad21-7f24843d2eed",
   "metadata": {},
   "outputs": [
    {
     "name": "stdout",
     "output_type": "stream",
     "text": [
      "This is an Indian code\n"
     ]
    }
   ],
   "source": [
    "postal_code(\"1234567\")"
   ]
  },
  {
   "cell_type": "code",
   "execution_count": null,
   "id": "b8ff9ce6-64c3-4bdb-a2fb-93a5c8272978",
   "metadata": {},
   "outputs": [],
   "source": []
  }
 ],
 "metadata": {
  "kernelspec": {
   "display_name": "Python 3 (ipykernel)",
   "language": "python",
   "name": "python3"
  },
  "language_info": {
   "codemirror_mode": {
    "name": "ipython",
    "version": 3
   },
   "file_extension": ".py",
   "mimetype": "text/x-python",
   "name": "python",
   "nbconvert_exporter": "python",
   "pygments_lexer": "ipython3",
   "version": "3.12.7"
  }
 },
 "nbformat": 4,
 "nbformat_minor": 5
}
