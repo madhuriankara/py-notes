{
 "cells": [
  {
   "cell_type": "code",
   "execution_count": 6,
   "id": "bb75385b-d5dd-49cd-8cd8-4bdaaebd98e7",
   "metadata": {},
   "outputs": [
    {
     "name": "stdout",
     "output_type": "stream",
     "text": [
      "3\n"
     ]
    }
   ],
   "source": [
    "def calculate_list_length(lst):\n",
    "    \"\"\"\n",
    "    Calculate the length of a list.\n",
    "\n",
    "    Parameters:\n",
    "    lst (list): A list of elements.\n",
    "\n",
    "    Returns:\n",
    "    int: The length of the list.\n",
    "    \"\"\"\n",
    "\n",
    "    # Implement the code to calculate the length of the list here\n",
    "    return len(lst)\n",
    "\n",
    "# Sample test cases\n",
    "print(calculate_list_length([1, 2, 3]))  # Expected output: 3"
   ]
  },
  {
   "cell_type": "code",
   "execution_count": 7,
   "id": "c4b8ea6b-afe9-4cc8-84c6-807b6a48b69c",
   "metadata": {},
   "outputs": [
    {
     "name": "stdout",
     "output_type": "stream",
     "text": [
      "0\n"
     ]
    }
   ],
   "source": [
    "print(calculate_list_length([]))  # Expected output: 0"
   ]
  },
  {
   "cell_type": "code",
   "execution_count": 8,
   "id": "68f791cc-725e-4114-82ca-b76dc177be3a",
   "metadata": {},
   "outputs": [
    {
     "name": "stdout",
     "output_type": "stream",
     "text": [
      "4\n"
     ]
    }
   ],
   "source": [
    "print(calculate_list_length(['a', 'b', 'c', 'd']))  # Expected output: 4"
   ]
  },
  {
   "cell_type": "code",
   "execution_count": null,
   "id": "04d6a968-f59f-4d7c-b3cc-5c32bc5de4d8",
   "metadata": {},
   "outputs": [],
   "source": []
  }
 ],
 "metadata": {
  "kernelspec": {
   "display_name": "Python 3 (ipykernel)",
   "language": "python",
   "name": "python3"
  },
  "language_info": {
   "codemirror_mode": {
    "name": "ipython",
    "version": 3
   },
   "file_extension": ".py",
   "mimetype": "text/x-python",
   "name": "python",
   "nbconvert_exporter": "python",
   "pygments_lexer": "ipython3",
   "version": "3.12.7"
  }
 },
 "nbformat": 4,
 "nbformat_minor": 5
}
