{
 "cells": [
  {
   "cell_type": "code",
   "execution_count": 1,
   "id": "e1ec9834-038b-4449-bafa-35ce1d8665b3",
   "metadata": {},
   "outputs": [
    {
     "name": "stdout",
     "output_type": "stream",
     "text": [
      "Positive\n"
     ]
    }
   ],
   "source": [
    "def check_number(num):\n",
    "    \"\"\"\n",
    "    This function checks if a number is positive, negative, or zero.\n",
    "\n",
    "    Parameters:\n",
    "    num (int): The number to be checked.\n",
    "\n",
    "    Returns:\n",
    "    str: 'Positive' if the number is positive, 'Negative' if the number is negative, 'Zero' if the number is zero.\n",
    "    \"\"\"\n",
    "    \n",
    "    # Implement the function here\n",
    "    if num < 0:\n",
    "        return \"Negative\"\n",
    "    if num == 0:\n",
    "        return \"zero\"\n",
    "    if num > 0:\n",
    "        return \"Positive\"\n",
    "\n",
    "# Sample test cases\n",
    "print(check_number(5))  # Expected output: 'Positive'\n",
    "\n"
   ]
  },
  {
   "cell_type": "code",
   "execution_count": 2,
   "id": "d7e42797-4bba-4b19-87ec-d037a5c8a632",
   "metadata": {},
   "outputs": [
    {
     "name": "stdout",
     "output_type": "stream",
     "text": [
      "Negative\n"
     ]
    }
   ],
   "source": [
    "print(check_number(-3))  # Expected output: 'Negative'"
   ]
  },
  {
   "cell_type": "code",
   "execution_count": 3,
   "id": "0c15654f-7db8-4260-b007-a6e03e6870d8",
   "metadata": {},
   "outputs": [
    {
     "name": "stdout",
     "output_type": "stream",
     "text": [
      "zero\n"
     ]
    }
   ],
   "source": [
    "print(check_number(0))  # Expected output: 'Zero'"
   ]
  },
  {
   "cell_type": "code",
   "execution_count": null,
   "id": "fbcb6d43-d6ca-4b23-b3b1-1b8ae8c457fa",
   "metadata": {},
   "outputs": [],
   "source": []
  }
 ],
 "metadata": {
  "kernelspec": {
   "display_name": "Python 3 (ipykernel)",
   "language": "python",
   "name": "python3"
  },
  "language_info": {
   "codemirror_mode": {
    "name": "ipython",
    "version": 3
   },
   "file_extension": ".py",
   "mimetype": "text/x-python",
   "name": "python",
   "nbconvert_exporter": "python",
   "pygments_lexer": "ipython3",
   "version": "3.12.7"
  }
 },
 "nbformat": 4,
 "nbformat_minor": 5
}
