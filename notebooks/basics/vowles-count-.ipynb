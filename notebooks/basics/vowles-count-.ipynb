{
 "cells": [
  {
   "cell_type": "code",
   "execution_count": 40,
   "id": "66c2bd27-b679-4aea-b0c4-b1a393242dd4",
   "metadata": {},
   "outputs": [
    {
     "name": "stdout",
     "output_type": "stream",
     "text": [
      "2\n"
     ]
    }
   ],
   "source": [
    "def count_vowels(s):\n",
    "    \"\"\"\n",
    "    This function counts the number of vowels in a given string.\n",
    "    \n",
    "    Parameters:\n",
    "    s (str): A string to count vowels from.\n",
    "    \n",
    "    Returns:\n",
    "    int: The number of vowels in the string.\n",
    "    \"\"\"\n",
    "    \n",
    "    # Initialize a variable to store the count of vowels\n",
    "    \n",
    "    \n",
    "    # Loop through each character in the string\n",
    "    \n",
    "    \n",
    "    # Return the count of vowels\n",
    "    vowels = ['a','e','i','o','u']\n",
    "    count = 0\n",
    "    for i in vowels:\n",
    "        count += s.count(i)\n",
    "    return count\n",
    "\n",
    "# Test cases\n",
    "print(count_vowels(\"hello\")) # Expected output: 2\n",
    "# print(count_vowels(\"Python\")) # Expected output: 1\n",
    "# print(count_vowels(\"programming\")) # Expected output: 4"
   ]
  },
  {
   "cell_type": "code",
   "execution_count": 41,
   "id": "8940e707-542e-494d-8e66-cb40727c5f5a",
   "metadata": {},
   "outputs": [
    {
     "name": "stdout",
     "output_type": "stream",
     "text": [
      "1\n"
     ]
    }
   ],
   "source": [
    "print(count_vowels(\"Python\")) # Expected output: 1"
   ]
  },
  {
   "cell_type": "code",
   "execution_count": 42,
   "id": "ea025025-8128-45b6-9a0b-9356f875daf1",
   "metadata": {},
   "outputs": [
    {
     "name": "stdout",
     "output_type": "stream",
     "text": [
      "3\n"
     ]
    }
   ],
   "source": [
    "print(count_vowels(\"programming\")) # Expected output: 4"
   ]
  },
  {
   "cell_type": "code",
   "execution_count": null,
   "id": "198e5b2d-9ec8-4a65-8dd7-d7693102594e",
   "metadata": {},
   "outputs": [],
   "source": []
  }
 ],
 "metadata": {
  "kernelspec": {
   "display_name": "Python 3 (ipykernel)",
   "language": "python",
   "name": "python3"
  },
  "language_info": {
   "codemirror_mode": {
    "name": "ipython",
    "version": 3
   },
   "file_extension": ".py",
   "mimetype": "text/x-python",
   "name": "python",
   "nbconvert_exporter": "python",
   "pygments_lexer": "ipython3",
   "version": "3.12.7"
  }
 },
 "nbformat": 4,
 "nbformat_minor": 5
}
