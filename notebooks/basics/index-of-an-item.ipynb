{
 "cells": [
  {
   "cell_type": "code",
   "execution_count": 106,
   "id": "d5900bb5-2de8-4eed-9995-6f71f7a3d136",
   "metadata": {},
   "outputs": [
    {
     "name": "stdout",
     "output_type": "stream",
     "text": [
      "2\n",
      "0\n",
      "-1\n"
     ]
    }
   ],
   "source": [
    "def find_index(item, lst):\n",
    "    \"\"\"\n",
    "    This function finds the index of an item in a list.\n",
    "\n",
    "    Parameters:\n",
    "    item (any): The item to find in the list.\n",
    "    lst (list): The list to search for the item.\n",
    "\n",
    "    Returns:\n",
    "    int: The index of the item in the list, or -1 if the item is not found.\n",
    "    \"\"\"\n",
    "\n",
    "    # TODO: Implement the function here\n",
    "    try:\n",
    "        index = lst.index(item)    \n",
    "        if item in lst:\n",
    "            return index\n",
    "    except:\n",
    "        return -1\n",
    "\n",
    "\n",
    "# Sample test cases\n",
    "print(find_index(3, [1, 2, 3, 4, 5]))  # Expected output: 2\n",
    "print(find_index('a', ['a', 'b', 'c']))  # Expected output: 0\n",
    "print(find_index(6, [1, 2, 3, 4, 5]))  # Expected output: -1"
   ]
  },
  {
   "cell_type": "code",
   "execution_count": null,
   "id": "bab145fb-9c1a-4f38-b1f5-ba2ccbc24ab7",
   "metadata": {},
   "outputs": [],
   "source": []
  },
  {
   "cell_type": "code",
   "execution_count": null,
   "id": "2cb77113-abd7-4d33-a399-928c44146250",
   "metadata": {},
   "outputs": [],
   "source": []
  }
 ],
 "metadata": {
  "kernelspec": {
   "display_name": "Python 3 (ipykernel)",
   "language": "python",
   "name": "python3"
  },
  "language_info": {
   "codemirror_mode": {
    "name": "ipython",
    "version": 3
   },
   "file_extension": ".py",
   "mimetype": "text/x-python",
   "name": "python",
   "nbconvert_exporter": "python",
   "pygments_lexer": "ipython3",
   "version": "3.12.7"
  }
 },
 "nbformat": 4,
 "nbformat_minor": 5
}
