{
 "cells": [
  {
   "cell_type": "code",
   "execution_count": 4,
   "id": "a132dec9-b175-4c71-a86f-a498a77c2f52",
   "metadata": {},
   "outputs": [
    {
     "name": "stdout",
     "output_type": "stream",
     "text": [
      "True\n"
     ]
    }
   ],
   "source": [
    "def is_list_empty(lst):\n",
    "    \"\"\"\n",
    "    Check if a list is empty.\n",
    "\n",
    "    Parameters:\n",
    "    lst (list): A list to check for emptiness.\n",
    "\n",
    "    Returns:\n",
    "    bool: True if the list is empty, False otherwise.\n",
    "    \"\"\"\n",
    "\n",
    "    if lst ==[]:\n",
    "        return True\n",
    "\n",
    "    return False\n",
    "    \n",
    "\n",
    "# Sample test cases\n",
    "print(is_list_empty([])) # True\n",
    "# print(is_list_empty([1, 2, 3])) # False\n"
   ]
  },
  {
   "cell_type": "code",
   "execution_count": 5,
   "id": "105d8d3d-da96-4c58-bd51-7cbda153dbae",
   "metadata": {},
   "outputs": [
    {
     "name": "stdout",
     "output_type": "stream",
     "text": [
      "False\n"
     ]
    }
   ],
   "source": [
    "print(is_list_empty([1, 2, 3])) # False"
   ]
  },
  {
   "cell_type": "code",
   "execution_count": null,
   "id": "d3dda35b-143a-4fbc-9da0-089dcf07cfe0",
   "metadata": {},
   "outputs": [],
   "source": []
  }
 ],
 "metadata": {
  "kernelspec": {
   "display_name": "Python 3 (ipykernel)",
   "language": "python",
   "name": "python3"
  },
  "language_info": {
   "codemirror_mode": {
    "name": "ipython",
    "version": 3
   },
   "file_extension": ".py",
   "mimetype": "text/x-python",
   "name": "python",
   "nbconvert_exporter": "python",
   "pygments_lexer": "ipython3",
   "version": "3.12.7"
  }
 },
 "nbformat": 4,
 "nbformat_minor": 5
}
