{
 "cells": [
  {
   "cell_type": "code",
   "execution_count": 82,
   "id": "e8b016d4-032a-4094-bd8d-b3cf2d2d808a",
   "metadata": {},
   "outputs": [
    {
     "name": "stdout",
     "output_type": "stream",
     "text": [
      "[1, 4, 9, 16, 25]\n",
      "[1, 4, 9]\n"
     ]
    }
   ],
   "source": [
    "def generate_squares(n):\n",
    "    \"\"\"\n",
    "    Generate a list of squares of numbers from 1 to n.\n",
    "\n",
    "    Parameters:\n",
    "    n (int): The upper limit of the range.\n",
    "\n",
    "    Returns:\n",
    "    list: A list of squares of numbers from 1 to n.\n",
    "    \"\"\"\n",
    "    list = [n ** 2 for n in range(1,n+1)]\n",
    "    return list\n",
    "\n",
    "\n",
    "print(generate_squares(5)) # Expected output: [1, 4, 9, 16, 25]\n",
    "print(generate_squares(3)) # Expected output: [1, 4, 9]"
   ]
  },
  {
   "cell_type": "code",
   "execution_count": null,
   "id": "6cc0a1f6-804f-4a29-a373-228262a6028d",
   "metadata": {},
   "outputs": [],
   "source": []
  },
  {
   "cell_type": "code",
   "execution_count": null,
   "id": "2593ed8c-bfc2-4d47-b99e-53dc4bf78491",
   "metadata": {},
   "outputs": [],
   "source": []
  }
 ],
 "metadata": {
  "kernelspec": {
   "display_name": "Python 3 (ipykernel)",
   "language": "python",
   "name": "python3"
  },
  "language_info": {
   "codemirror_mode": {
    "name": "ipython",
    "version": 3
   },
   "file_extension": ".py",
   "mimetype": "text/x-python",
   "name": "python",
   "nbconvert_exporter": "python",
   "pygments_lexer": "ipython3",
   "version": "3.12.7"
  }
 },
 "nbformat": 4,
 "nbformat_minor": 5
}
