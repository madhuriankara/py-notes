{
 "cells": [
  {
   "cell_type": "code",
   "execution_count": 16,
   "id": "df2660d7-d309-4e6d-a67a-1d9207857ae0",
   "metadata": {},
   "outputs": [
    {
     "name": "stdout",
     "output_type": "stream",
     "text": [
      "1\n"
     ]
    }
   ],
   "source": [
    "def find_smallest_number(nums):\n",
    "    \"\"\"\n",
    "    This function finds the smallest number in a list.\n",
    "\n",
    "    Parameters:\n",
    "    nums (list): A list of numbers\n",
    "\n",
    "    Returns:\n",
    "    int: The smallest number in the list\n",
    "    \"\"\"\n",
    "    \n",
    "    # TODO: Implement the function\n",
    "    \n",
    "    return min(nums)\n",
    "\n",
    "# Sample test cases\n",
    "print(find_smallest_number([5, 3, 8, 1, 9])) # Expected output: 1\n",
    "# "
   ]
  },
  {
   "cell_type": "code",
   "execution_count": 17,
   "id": "a4c4f5a4-232a-4965-9698-ba44641f421c",
   "metadata": {},
   "outputs": [
    {
     "name": "stdout",
     "output_type": "stream",
     "text": [
      "-5\n"
     ]
    }
   ],
   "source": [
    "print(find_smallest_number([-2, 0, 4, -5, 3])) # Expected output: -5"
   ]
  },
  {
   "cell_type": "code",
   "execution_count": null,
   "id": "00e4aca8-4714-4a17-af5e-a8c777772083",
   "metadata": {},
   "outputs": [],
   "source": []
  }
 ],
 "metadata": {
  "kernelspec": {
   "display_name": "Python 3 (ipykernel)",
   "language": "python",
   "name": "python3"
  },
  "language_info": {
   "codemirror_mode": {
    "name": "ipython",
    "version": 3
   },
   "file_extension": ".py",
   "mimetype": "text/x-python",
   "name": "python",
   "nbconvert_exporter": "python",
   "pygments_lexer": "ipython3",
   "version": "3.12.7"
  }
 },
 "nbformat": 4,
 "nbformat_minor": 5
}
