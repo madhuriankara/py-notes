{
 "cells": [
  {
   "cell_type": "code",
   "execution_count": 26,
   "id": "44f07b23-6310-4a62-8c6a-df80a5efa4a8",
   "metadata": {},
   "outputs": [
    {
     "name": "stdout",
     "output_type": "stream",
     "text": [
      "3\n"
     ]
    }
   ],
   "source": [
    "def count_occurrences(lst, item):\n",
    "    \"\"\"\n",
    "    Count the occurrences of an item in a list.\n",
    "\n",
    "    Parameters:\n",
    "    lst (list): The list to search for occurrences.\n",
    "    item: The item to count occurrences of.\n",
    "\n",
    "    Returns:\n",
    "    int: The number of occurrences of the item in the list.\n",
    "    \"\"\"\n",
    "    \n",
    "    # TODO: Implement the function\n",
    "    \n",
    "    a = lst.count(item)\n",
    "    return a\n",
    "\n",
    "\n",
    "# Sample test cases\n",
    "print(count_occurrences([1, 2, 2, 3, 4, 2], 2))  # Output: 3\n"
   ]
  },
  {
   "cell_type": "code",
   "execution_count": 27,
   "id": "a0283d4b-7c37-45fa-aa70-e0d85d85c4dd",
   "metadata": {},
   "outputs": [
    {
     "name": "stdout",
     "output_type": "stream",
     "text": [
      "3\n"
     ]
    }
   ],
   "source": [
    "print(count_occurrences(['a', 'b', 'c', 'a', 'a'], 'a'))  # Output: 3"
   ]
  },
  {
   "cell_type": "code",
   "execution_count": null,
   "id": "1d8d8f54-4294-4689-be51-a643a7258dd4",
   "metadata": {},
   "outputs": [],
   "source": []
  }
 ],
 "metadata": {
  "kernelspec": {
   "display_name": "Python 3 (ipykernel)",
   "language": "python",
   "name": "python3"
  },
  "language_info": {
   "codemirror_mode": {
    "name": "ipython",
    "version": 3
   },
   "file_extension": ".py",
   "mimetype": "text/x-python",
   "name": "python",
   "nbconvert_exporter": "python",
   "pygments_lexer": "ipython3",
   "version": "3.12.7"
  }
 },
 "nbformat": 4,
 "nbformat_minor": 5
}
