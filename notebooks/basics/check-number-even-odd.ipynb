{
 "cells": [
  {
   "cell_type": "code",
   "execution_count": 14,
   "id": "0f577b2a-812c-478c-86a8-9789036289cb",
   "metadata": {},
   "outputs": [
    {
     "name": "stdout",
     "output_type": "stream",
     "text": [
      "Even\n"
     ]
    }
   ],
   "source": [
    "def check_even_odd(num):\n",
    "    \"\"\"\n",
    "    This function checks if a number is even or odd.\n",
    "\n",
    "    Parameters:\n",
    "    num (int): The number to be checked.\n",
    "\n",
    "    Returns:\n",
    "    str: 'Even' if the number is even, 'Odd' if the number is odd.\n",
    "    \"\"\"\n",
    "\n",
    "    # Check if the number is even or odd\n",
    "    if num % 2 ==0:\n",
    "        return \"Even\"\n",
    "    return \"Odd\"\n",
    "\n",
    "# Sample test cases\n",
    "print(check_even_odd(2))  # Expected output: 'Even'\n",
    "\n"
   ]
  },
  {
   "cell_type": "code",
   "execution_count": 15,
   "id": "a957c48e-76ae-4c2e-9d62-2e58c9897c1d",
   "metadata": {},
   "outputs": [
    {
     "name": "stdout",
     "output_type": "stream",
     "text": [
      "Odd\n"
     ]
    }
   ],
   "source": [
    "print(check_even_odd(3))  # Expected output: 'Odd'"
   ]
  },
  {
   "cell_type": "code",
   "execution_count": 16,
   "id": "420674d5-0586-4f12-9186-47ee8bf69516",
   "metadata": {},
   "outputs": [
    {
     "name": "stdout",
     "output_type": "stream",
     "text": [
      "Even\n"
     ]
    }
   ],
   "source": [
    "print(check_even_odd(0))  # Expected output: 'Even'"
   ]
  },
  {
   "cell_type": "code",
   "execution_count": 17,
   "id": "1fa99a86-a94c-4c88-adec-71bf83b6593f",
   "metadata": {},
   "outputs": [
    {
     "name": "stdout",
     "output_type": "stream",
     "text": [
      "Odd\n"
     ]
    }
   ],
   "source": [
    "print(check_even_odd(1)) "
   ]
  },
  {
   "cell_type": "code",
   "execution_count": null,
   "id": "b9afb95d-2291-42a8-a230-cf73468dfa6c",
   "metadata": {},
   "outputs": [],
   "source": []
  }
 ],
 "metadata": {
  "kernelspec": {
   "display_name": "Python 3 (ipykernel)",
   "language": "python",
   "name": "python3"
  },
  "language_info": {
   "codemirror_mode": {
    "name": "ipython",
    "version": 3
   },
   "file_extension": ".py",
   "mimetype": "text/x-python",
   "name": "python",
   "nbconvert_exporter": "python",
   "pygments_lexer": "ipython3",
   "version": "3.12.7"
  }
 },
 "nbformat": 4,
 "nbformat_minor": 5
}
