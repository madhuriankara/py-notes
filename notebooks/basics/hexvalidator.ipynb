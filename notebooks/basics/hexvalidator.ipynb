{
 "cells": [
  {
   "cell_type": "code",
   "execution_count": 3,
   "id": "ee5eab61-f878-4fd7-a3c9-842e0a6f1347",
   "metadata": {},
   "outputs": [
    {
     "name": "stdout",
     "output_type": "stream",
     "text": [
      "True\n",
      "True\n",
      "False\n"
     ]
    }
   ],
   "source": [
    "import webcolors\n",
    "\n",
    "def is_valid_hex_color(color):\n",
    "    try:\n",
    "        webcolors.hex_to_rgb(color)\n",
    "        return True\n",
    "    except Exception as e :\n",
    "        return False\n",
    "\n",
    "# Examples\n",
    "print(is_valid_hex_color(\"#FFF\"))  # True\n",
    "print(is_valid_hex_color(\"#123ABC\"))  # True\n",
    "print(is_valid_hex_color(\"#123ABCG\"))  # False"
   ]
  },
  {
   "cell_type": "code",
   "execution_count": null,
   "id": "d682c4df-a7e9-42b7-8c7f-722c1e50b2fe",
   "metadata": {},
   "outputs": [],
   "source": []
  }
 ],
 "metadata": {
  "kernelspec": {
   "display_name": "Python 3 (ipykernel)",
   "language": "python",
   "name": "python3"
  },
  "language_info": {
   "codemirror_mode": {
    "name": "ipython",
    "version": 3
   },
   "file_extension": ".py",
   "mimetype": "text/x-python",
   "name": "python",
   "nbconvert_exporter": "python",
   "pygments_lexer": "ipython3",
   "version": "3.12.7"
  }
 },
 "nbformat": 4,
 "nbformat_minor": 5
}
