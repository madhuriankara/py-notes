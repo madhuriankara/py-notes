{
 "cells": [
  {
   "cell_type": "code",
   "execution_count": 26,
   "id": "b0635232-ac15-40aa-bed1-346cb8e0e0b6",
   "metadata": {},
   "outputs": [],
   "source": [
    "def is_prime(num):\n",
    "    \"\"\"\n",
    "    Check if a number is prime.\n",
    "\n",
    "    Parameters:\n",
    "    num (int): The number to check for primality.\n",
    "\n",
    "    Returns:\n",
    "    bool: True if the number is prime, False otherwise.\n",
    "    \"\"\"\n",
    "    for n in range( 2, int(num**0.5)+1):   \n",
    "        if (num % n) == 0:\n",
    "            return False\n",
    "        return True\n",
    "\n",
    "# Sample test cases\n",
    "# print(is_prime(5)) # Expected output: True\n",
    "# print(is_prime(10)) # Expected output: False\n",
    "# print(is_prime(17)) # Expected output: True"
   ]
  },
  {
   "cell_type": "code",
   "execution_count": 27,
   "id": "3e401d37-45a3-4e16-b6da-791587b0cf6f",
   "metadata": {},
   "outputs": [
    {
     "name": "stdout",
     "output_type": "stream",
     "text": [
      "True\n"
     ]
    }
   ],
   "source": [
    "print(is_prime(5)) # Expected output: True"
   ]
  },
  {
   "cell_type": "code",
   "execution_count": 28,
   "id": "98d13e8f-cbf8-497b-85c3-ff8fdb469358",
   "metadata": {},
   "outputs": [
    {
     "name": "stdout",
     "output_type": "stream",
     "text": [
      "False\n"
     ]
    }
   ],
   "source": [
    "print(is_prime(10)) # Expected output: False"
   ]
  },
  {
   "cell_type": "code",
   "execution_count": 29,
   "id": "251944f7-4ea3-41e6-a35b-66a6594f5450",
   "metadata": {},
   "outputs": [
    {
     "name": "stdout",
     "output_type": "stream",
     "text": [
      "True\n"
     ]
    }
   ],
   "source": [
    " print(is_prime(17)) # Expected output: True"
   ]
  },
  {
   "cell_type": "code",
   "execution_count": null,
   "id": "ed11e6a1-b6ea-4d13-9f14-24e75c827b21",
   "metadata": {},
   "outputs": [],
   "source": []
  }
 ],
 "metadata": {
  "kernelspec": {
   "display_name": "Python 3 (ipykernel)",
   "language": "python",
   "name": "python3"
  },
  "language_info": {
   "codemirror_mode": {
    "name": "ipython",
    "version": 3
   },
   "file_extension": ".py",
   "mimetype": "text/x-python",
   "name": "python",
   "nbconvert_exporter": "python",
   "pygments_lexer": "ipython3",
   "version": "3.12.7"
  }
 },
 "nbformat": 4,
 "nbformat_minor": 5
}
