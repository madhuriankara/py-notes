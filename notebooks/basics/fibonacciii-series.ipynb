{
 "cells": [
  {
   "cell_type": "code",
   "execution_count": 20,
   "id": "5bfffb9f-6c50-4d4c-992b-5ea098449a6d",
   "metadata": {},
   "outputs": [
    {
     "name": "stdout",
     "output_type": "stream",
     "text": [
      "[]\n",
      "[0]\n",
      "[0, 1, 1, 2, 3]\n"
     ]
    }
   ],
   "source": [
    "def fibonacci_numbers(n):\n",
    "    #Problem: Write a function to return the first n Fibonacci numbers.\n",
    "    \n",
    "    #Parameters:\n",
    "    #n (int): Number of Fibonacci numbers to return\n",
    "    \n",
    "    #Returns:\n",
    "    #list: List of the first n Fibonacci numbers\n",
    "    \n",
    "    \n",
    "    # Initialize the list to store Fibonacci numbers\n",
    "    fib = [0,1]\n",
    "    for i in range(2,n):\n",
    "        fib.append(fib[i-1] + fib[i-2])\n",
    "    return fib[:n]\n",
    "\n",
    "\n",
    "# Sample test cases\n",
    "print(fibonacci_numbers(0))  # Output: []\n",
    "print(fibonacci_numbers(1))  # Output: [0]\n",
    "print(fibonacci_numbers(5))  # Output: [0, 1, 1, 2, 3]"
   ]
  },
  {
   "cell_type": "code",
   "execution_count": null,
   "id": "89617e79-a34c-4856-a192-d41b77898a04",
   "metadata": {},
   "outputs": [],
   "source": []
  }
 ],
 "metadata": {
  "kernelspec": {
   "display_name": "Python 3 (ipykernel)",
   "language": "python",
   "name": "python3"
  },
  "language_info": {
   "codemirror_mode": {
    "name": "ipython",
    "version": 3
   },
   "file_extension": ".py",
   "mimetype": "text/x-python",
   "name": "python",
   "nbconvert_exporter": "python",
   "pygments_lexer": "ipython3",
   "version": "3.12.7"
  }
 },
 "nbformat": 4,
 "nbformat_minor": 5
}
