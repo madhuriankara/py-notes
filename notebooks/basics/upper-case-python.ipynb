{
 "cells": [
  {
   "cell_type": "code",
   "execution_count": 12,
   "id": "c341c464-dc82-4258-a224-41b2626d9aa7",
   "metadata": {},
   "outputs": [
    {
     "name": "stdout",
     "output_type": "stream",
     "text": [
      "HELLO\n"
     ]
    }
   ],
   "source": [
    "def convert_to_uppercase(s):\n",
    "    \"\"\"\n",
    "    Converts a given string to uppercase.\n",
    "\n",
    "    Parameters:\n",
    "    s (str): The input string to be converted.\n",
    "\n",
    "    Returns:\n",
    "    str: The input string converted to uppercase.\n",
    "    \"\"\"\n",
    "\n",
    "    # TODO: Implement the function to convert the string to uppercase\n",
    "    return s.upper()\n",
    "\n",
    "# Sample test cases\n",
    "print(convert_to_uppercase(\"hello\"))  # Expected output: \"HELLO\"\n",
    "# print(convert_to_uppercase(\"Python\"))  # Expected output: \"PYTHON\"\n"
   ]
  },
  {
   "cell_type": "code",
   "execution_count": 13,
   "id": "13959b34-5e9f-44a0-9f5f-ac25043fd7dc",
   "metadata": {},
   "outputs": [
    {
     "name": "stdout",
     "output_type": "stream",
     "text": [
      "PYTHON\n"
     ]
    }
   ],
   "source": [
    "print(convert_to_uppercase(\"Python\"))  # Expected output: \"PYTHON\"\n"
   ]
  },
  {
   "cell_type": "code",
   "execution_count": null,
   "id": "33c5558f-04e6-49a6-aae0-9b2d9ea032ff",
   "metadata": {},
   "outputs": [],
   "source": []
  }
 ],
 "metadata": {
  "kernelspec": {
   "display_name": "Python 3 (ipykernel)",
   "language": "python",
   "name": "python3"
  },
  "language_info": {
   "codemirror_mode": {
    "name": "ipython",
    "version": 3
   },
   "file_extension": ".py",
   "mimetype": "text/x-python",
   "name": "python",
   "nbconvert_exporter": "python",
   "pygments_lexer": "ipython3",
   "version": "3.12.7"
  }
 },
 "nbformat": 4,
 "nbformat_minor": 5
}
