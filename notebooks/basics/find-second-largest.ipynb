{
 "cells": [
  {
   "cell_type": "code",
   "execution_count": 7,
   "id": "94508ac5-26db-413d-afc0-60fe62211311",
   "metadata": {},
   "outputs": [
    {
     "name": "stdout",
     "output_type": "stream",
     "text": [
      "4\n"
     ]
    }
   ],
   "source": [
    "def find_second_largest(arr):\n",
    "    \"\"\"\n",
    "    Given a list of integers, find the second largest number in the list.\n",
    "\n",
    "    Parameters:\n",
    "    arr (list): A list of integers\n",
    "\n",
    "    Returns:\n",
    "    int: The second largest number in the list\n",
    "    \"\"\"\n",
    "    \n",
    "    # Sort the list in descending order\n",
    "    \n",
    "    \n",
    "    # Return the second element in the sorted list\n",
    "    arr.sort()\n",
    "    return arr[-2]\n",
    "    \n",
    "\n",
    "# Sample test cases\n",
    "print(find_second_largest([1, 2, 3, 4, 5])) # Expected output: 4\n",
    "# print(find_second_largest([10, 5, 20, 15, 30])) # Expected output: 20"
   ]
  },
  {
   "cell_type": "code",
   "execution_count": 8,
   "id": "c51aa806-d7fa-4d7d-a7b6-6074148a0223",
   "metadata": {},
   "outputs": [
    {
     "name": "stdout",
     "output_type": "stream",
     "text": [
      "20\n"
     ]
    }
   ],
   "source": [
    "print(find_second_largest([10, 5, 20, 15, 30])) # Expected output: 20"
   ]
  },
  {
   "cell_type": "code",
   "execution_count": 9,
   "id": "af707a32-50c0-4403-b7cd-6e9d1a6fa6c9",
   "metadata": {},
   "outputs": [
    {
     "name": "stdout",
     "output_type": "stream",
     "text": [
      "30\n"
     ]
    }
   ],
   "source": [
    "print(find_second_largest([10, 5, 25, 82, 30]))"
   ]
  },
  {
   "cell_type": "code",
   "execution_count": null,
   "id": "801d9c11-771e-411f-b0e1-e6eba53b686a",
   "metadata": {},
   "outputs": [],
   "source": []
  }
 ],
 "metadata": {
  "kernelspec": {
   "display_name": "Python 3 (ipykernel)",
   "language": "python",
   "name": "python3"
  },
  "language_info": {
   "codemirror_mode": {
    "name": "ipython",
    "version": 3
   },
   "file_extension": ".py",
   "mimetype": "text/x-python",
   "name": "python",
   "nbconvert_exporter": "python",
   "pygments_lexer": "ipython3",
   "version": "3.12.7"
  }
 },
 "nbformat": 4,
 "nbformat_minor": 5
}
