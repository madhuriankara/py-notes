{
 "cells": [
  {
   "cell_type": "code",
   "execution_count": 115,
   "id": "37a2cb07-f064-4de4-9057-13ec47fce9b6",
   "metadata": {},
   "outputs": [],
   "source": [
    "def factorial(n):\n",
    "    \"\"\"\n",
    "    Calculate the factorial of a number.\n",
    "\n",
    "    Parameters:\n",
    "    n (int): The number to calculate the factorial for.\n",
    "\n",
    "    Returns:\n",
    "    int: The factorial of the given number.\n",
    "    \"\"\"\n",
    "    \n",
    "    # TODO: Implement the factorial calculation here\n",
    "    if n ==0 or n ==1:\n",
    "        return 1\n",
    "        \n",
    "    result = 1\n",
    "    for i in range(2,n+1):\n",
    "        result *= i\n",
    "    return result\n",
    "        "
   ]
  },
  {
   "cell_type": "code",
   "execution_count": 116,
   "id": "09fb02e8-4700-4e42-9e03-b5d2cb3f3cdb",
   "metadata": {},
   "outputs": [
    {
     "name": "stdout",
     "output_type": "stream",
     "text": [
      "1\n"
     ]
    }
   ],
   "source": [
    "print(factorial(0)) # Expected output: 1\n",
    "#print(factorial(5)) # Expected output: 120\n",
    "#print(factorial(10)) # Expected output: 3628800"
   ]
  },
  {
   "cell_type": "code",
   "execution_count": 117,
   "id": "2ed0b734-5d21-4628-b223-995073d75fd1",
   "metadata": {},
   "outputs": [
    {
     "name": "stdout",
     "output_type": "stream",
     "text": [
      "120\n"
     ]
    }
   ],
   "source": [
    "print(factorial(5)) # Expected output: 120"
   ]
  },
  {
   "cell_type": "code",
   "execution_count": 118,
   "id": "dbf24d48-ebd7-4847-9ff6-fae038915462",
   "metadata": {},
   "outputs": [
    {
     "name": "stdout",
     "output_type": "stream",
     "text": [
      "3628800\n"
     ]
    }
   ],
   "source": [
    "print(factorial(10)) # Expected output: 3628800"
   ]
  },
  {
   "cell_type": "code",
   "execution_count": null,
   "id": "1148f73e-c0e0-4479-b8c3-0bd4d0b8e260",
   "metadata": {},
   "outputs": [],
   "source": []
  },
  {
   "cell_type": "code",
   "execution_count": null,
   "id": "66cbf825-015b-419c-bdde-aa43c832381a",
   "metadata": {},
   "outputs": [],
   "source": []
  },
  {
   "cell_type": "code",
   "execution_count": null,
   "id": "1b12f3d6-5f7e-4035-a524-fc0f48c1ac2c",
   "metadata": {},
   "outputs": [],
   "source": []
  },
  {
   "cell_type": "code",
   "execution_count": null,
   "id": "7890b3f8-4be8-45df-ba8e-d56af0fc6b65",
   "metadata": {},
   "outputs": [],
   "source": []
  }
 ],
 "metadata": {
  "kernelspec": {
   "display_name": "Python 3 (ipykernel)",
   "language": "python",
   "name": "python3"
  },
  "language_info": {
   "codemirror_mode": {
    "name": "ipython",
    "version": 3
   },
   "file_extension": ".py",
   "mimetype": "text/x-python",
   "name": "python",
   "nbconvert_exporter": "python",
   "pygments_lexer": "ipython3",
   "version": "3.12.7"
  }
 },
 "nbformat": 4,
 "nbformat_minor": 5
}
