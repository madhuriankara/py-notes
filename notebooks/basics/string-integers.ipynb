{
 "cells": [
  {
   "cell_type": "code",
   "execution_count": 7,
   "id": "2b0e8648-9c20-4d10-9c84-495aec447ebf",
   "metadata": {},
   "outputs": [
    {
     "name": "stdout",
     "output_type": "stream",
     "text": [
      "['1', '2', '3']\n"
     ]
    }
   ],
   "source": [
    "def convert_integers_to_strings(lst):\n",
    "    \"\"\"\n",
    "    Converts a list of integers to a list of strings.\n",
    "\n",
    "    Parameters:\n",
    "    lst (list): A list of integers to be converted.\n",
    "\n",
    "    Returns:\n",
    "    list: A list of strings converted from the integers.\n",
    "    \"\"\"\n",
    "    # TODO: Complete the implementation of this function\n",
    "    str_list = [str(i) for i in lst]\n",
    "    return str_list\n",
    "    \n",
    "\n",
    "# Sample test cases\n",
    "print(convert_integers_to_strings([1, 2, 3]))  # Expected output: ['1', '2', '3']\n"
   ]
  },
  {
   "cell_type": "code",
   "execution_count": 8,
   "id": "b7160a28-bf53-4076-b21b-5f14420d29d3",
   "metadata": {},
   "outputs": [
    {
     "name": "stdout",
     "output_type": "stream",
     "text": [
      "['10', '20', '30']\n"
     ]
    }
   ],
   "source": [
    "print(convert_integers_to_strings([10, 20, 30]))  # Expected output: ['10', '20', '30']"
   ]
  },
  {
   "cell_type": "code",
   "execution_count": null,
   "id": "370b4702-d932-454c-a33d-b3ddddf50c83",
   "metadata": {},
   "outputs": [],
   "source": []
  }
 ],
 "metadata": {
  "kernelspec": {
   "display_name": "Python 3 (ipykernel)",
   "language": "python",
   "name": "python3"
  },
  "language_info": {
   "codemirror_mode": {
    "name": "ipython",
    "version": 3
   },
   "file_extension": ".py",
   "mimetype": "text/x-python",
   "name": "python",
   "nbconvert_exporter": "python",
   "pygments_lexer": "ipython3",
   "version": "3.12.7"
  }
 },
 "nbformat": 4,
 "nbformat_minor": 5
}
