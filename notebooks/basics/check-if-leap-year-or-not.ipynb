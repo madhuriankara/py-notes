{
 "cells": [
  {
   "cell_type": "code",
   "execution_count": 34,
   "id": "3287d7f2-4b87-46ab-b66b-57e67ec5a243",
   "metadata": {},
   "outputs": [
    {
     "name": "stdout",
     "output_type": "stream",
     "text": [
      "True\n"
     ]
    }
   ],
   "source": [
    "def is_leap_year(year):\n",
    "    \"\"\"\n",
    "    Given a year, check if it is a leap year.\n",
    "\n",
    "    Parameters:\n",
    "    year (int): The year to be checked.\n",
    "\n",
    "    Returns:\n",
    "    bool: True if the year is a leap year, False otherwise.\n",
    "    \"\"\"\n",
    "\n",
    "    # Check if the year is divisible by 4\n",
    "    if year % 400 == 0 :\n",
    "        return True\n",
    "    return False\n",
    "\n",
    "# Sample test cases\n",
    "print(is_leap_year(2000)) # Expected output: True\n",
    "# print(is_leap_year(1900)) # Expected output: False\n",
    "# print(is_leap_year(2021)) # Expected output: False"
   ]
  },
  {
   "cell_type": "code",
   "execution_count": 35,
   "id": "d4386afc-658e-4aad-858d-47ac373f290e",
   "metadata": {},
   "outputs": [
    {
     "name": "stdout",
     "output_type": "stream",
     "text": [
      "False\n"
     ]
    }
   ],
   "source": [
    "print(is_leap_year(1900)) # Expected output: False"
   ]
  },
  {
   "cell_type": "code",
   "execution_count": 36,
   "id": "7d1830bc-c98c-4fe2-9ae0-0377e91a3a38",
   "metadata": {},
   "outputs": [
    {
     "name": "stdout",
     "output_type": "stream",
     "text": [
      "False\n"
     ]
    }
   ],
   "source": [
    "print(is_leap_year(2021)) # Expected output: False"
   ]
  },
  {
   "cell_type": "code",
   "execution_count": 32,
   "id": "e7737035-b496-4a2a-b5d6-e97abbb222aa",
   "metadata": {},
   "outputs": [
    {
     "name": "stdout",
     "output_type": "stream",
     "text": [
      "True\n"
     ]
    }
   ],
   "source": [
    "print(is_leap_year(1996))"
   ]
  },
  {
   "cell_type": "code",
   "execution_count": 33,
   "id": "c1f3b854-cb41-40c0-add9-c559cda3167b",
   "metadata": {},
   "outputs": [
    {
     "name": "stdout",
     "output_type": "stream",
     "text": [
      "True\n"
     ]
    }
   ],
   "source": [
    "print(is_leap_year(2044)) "
   ]
  },
  {
   "cell_type": "code",
   "execution_count": null,
   "id": "c009bc61-0c82-46b2-b973-c8f76985f9d7",
   "metadata": {},
   "outputs": [],
   "source": []
  }
 ],
 "metadata": {
  "kernelspec": {
   "display_name": "Python 3 (ipykernel)",
   "language": "python",
   "name": "python3"
  },
  "language_info": {
   "codemirror_mode": {
    "name": "ipython",
    "version": 3
   },
   "file_extension": ".py",
   "mimetype": "text/x-python",
   "name": "python",
   "nbconvert_exporter": "python",
   "pygments_lexer": "ipython3",
   "version": "3.12.7"
  }
 },
 "nbformat": 4,
 "nbformat_minor": 5
}
