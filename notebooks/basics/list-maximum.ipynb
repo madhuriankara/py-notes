{
 "cells": [
  {
   "cell_type": "code",
   "execution_count": 3,
   "id": "e11dfbe2-62ac-4056-b12b-fa843d67802e",
   "metadata": {},
   "outputs": [
    {
     "name": "stdout",
     "output_type": "stream",
     "text": [
      "5\n",
      "-1\n",
      "9\n"
     ]
    }
   ],
   "source": [
    "def find_max_number(nums):\n",
    "    \"\"\"\n",
    "    This function finds the maximum number in a list.\n",
    "\n",
    "    Args:\n",
    "    nums (list): A list of numbers.\n",
    "\n",
    "    Returns:\n",
    "    int: The maximum number in the list.\n",
    "    \"\"\"\n",
    "    \n",
    "    # TODO: Implement the function\n",
    "    \n",
    "    max_number = max(nums)\n",
    "    return max_number\n",
    "\n",
    "# Sample test cases\n",
    "print(find_max_number([1, 2, 3, 4, 5])) # Expected output: 5\n",
    "print(find_max_number([-1, -2, -3, -4, -5])) # Expected output: -1\n",
    "print(find_max_number([5, 3, 9, 2, 7])) # Expected output: 9\n",
    "\n",
    "\n",
    "\n"
   ]
  },
  {
   "cell_type": "code",
   "execution_count": null,
   "id": "aef4f9f5-ffec-4d41-902b-36371253d346",
   "metadata": {},
   "outputs": [],
   "source": []
  }
 ],
 "metadata": {
  "kernelspec": {
   "display_name": "Python 3 (ipykernel)",
   "language": "python",
   "name": "python3"
  },
  "language_info": {
   "codemirror_mode": {
    "name": "ipython",
    "version": 3
   },
   "file_extension": ".py",
   "mimetype": "text/x-python",
   "name": "python",
   "nbconvert_exporter": "python",
   "pygments_lexer": "ipython3",
   "version": "3.12.7"
  }
 },
 "nbformat": 4,
 "nbformat_minor": 5
}
