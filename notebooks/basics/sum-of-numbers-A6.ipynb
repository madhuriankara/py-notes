{
 "cells": [
  {
   "cell_type": "code",
   "execution_count": 15,
   "id": "dd437ead-0466-4aaf-a6e3-8816a71d83ae",
   "metadata": {},
   "outputs": [
    {
     "name": "stdout",
     "output_type": "stream",
     "text": [
      "6\n",
      "0\n"
     ]
    }
   ],
   "source": [
    "def calculate_sum(numbers):\n",
    "    \"\"\"\n",
    "    Calculate the sum of numbers in a list.\n",
    "\n",
    "    Parameters:\n",
    "    numbers (list): A list of numbers to calculate the sum for.\n",
    "\n",
    "    Returns:\n",
    "    int: The sum of numbers in the list.\n",
    "    \"\"\"\n",
    "    \n",
    "    # Half-implemented function\n",
    "    lst = sum(numbers)\n",
    "    return lst\n",
    "\n",
    "\n",
    "# Sample test cases\n",
    "print(calculate_sum([1, 2, 3])) # Expected output: 6\n",
    "print(calculate_sum([-1, 0, 1])) # Expected output: 0"
   ]
  },
  {
   "cell_type": "code",
   "execution_count": null,
   "id": "20fd19c9-1241-458b-84f1-b67608a85b5f",
   "metadata": {},
   "outputs": [],
   "source": []
  }
 ],
 "metadata": {
  "kernelspec": {
   "display_name": "Python 3 (ipykernel)",
   "language": "python",
   "name": "python3"
  },
  "language_info": {
   "codemirror_mode": {
    "name": "ipython",
    "version": 3
   },
   "file_extension": ".py",
   "mimetype": "text/x-python",
   "name": "python",
   "nbconvert_exporter": "python",
   "pygments_lexer": "ipython3",
   "version": "3.12.7"
  }
 },
 "nbformat": 4,
 "nbformat_minor": 5
}
