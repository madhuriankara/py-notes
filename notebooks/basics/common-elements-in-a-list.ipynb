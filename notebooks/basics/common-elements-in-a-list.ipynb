{
 "cells": [
  {
   "cell_type": "code",
   "execution_count": null,
   "id": "ee12b28d-30c0-4e51-8f77-2b77e4f0423d",
   "metadata": {},
   "outputs": [],
   "source": [
    "#https://stackoverflow.com/questions/2864842/common-elements-comparison-between-2-lists"
   ]
  },
  {
   "cell_type": "code",
   "execution_count": 12,
   "id": "c482a83b-a903-4769-b23f-ed0d6fd1264a",
   "metadata": {},
   "outputs": [
    {
     "name": "stdout",
     "output_type": "stream",
     "text": [
      "[4, 5]\n"
     ]
    }
   ],
   "source": [
    "def find_common_elements(list1, list2):\n",
    "    \"\"\"\n",
    "    Problem: Write a function to find the common elements in two lists.\n",
    "\n",
    "    Args:\n",
    "    list1: First list of elements\n",
    "    list2: Second list of elements\n",
    "\n",
    "    Returns:\n",
    "    List of common elements between list1 and list2\n",
    "    \"\"\"\n",
    "\n",
    "    # Initialize an empty list to store common elements\n",
    "    result = []\n",
    "    for i in list1:\n",
    "        if i in list2:\n",
    "            result.append(i)\n",
    "    return result\n",
    "\n",
    "# Sample test cases\n",
    "print(find_common_elements([1, 2, 3, 4, 5], [4, 5, 6, 7, 8]))  # Output should be [4, 5]\n"
   ]
  },
  {
   "cell_type": "code",
   "execution_count": 13,
   "id": "f56577bc-e04a-473f-913a-e784dddc3e73",
   "metadata": {},
   "outputs": [
    {
     "name": "stdout",
     "output_type": "stream",
     "text": [
      "[]\n"
     ]
    }
   ],
   "source": [
    "print(find_common_elements([1, 2, 3], [4, 5, 6]))  # Output should be []"
   ]
  },
  {
   "cell_type": "code",
   "execution_count": null,
   "id": "37e1f28e-d44a-4fc6-947c-b45ba39c8590",
   "metadata": {},
   "outputs": [],
   "source": []
  }
 ],
 "metadata": {
  "kernelspec": {
   "display_name": "Python 3 (ipykernel)",
   "language": "python",
   "name": "python3"
  },
  "language_info": {
   "codemirror_mode": {
    "name": "ipython",
    "version": 3
   },
   "file_extension": ".py",
   "mimetype": "text/x-python",
   "name": "python",
   "nbconvert_exporter": "python",
   "pygments_lexer": "ipython3",
   "version": "3.12.7"
  }
 },
 "nbformat": 4,
 "nbformat_minor": 5
}
