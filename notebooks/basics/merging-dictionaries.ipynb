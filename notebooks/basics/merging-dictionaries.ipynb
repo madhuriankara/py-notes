{
 "cells": [
  {
   "cell_type": "code",
   "execution_count": 4,
   "id": "d8e4e752-b827-4b19-b656-385b29114721",
   "metadata": {},
   "outputs": [
    {
     "name": "stdout",
     "output_type": "stream",
     "text": [
      "{'a': 1, 'b': 2, 'c': 3, 'd': 4}\n"
     ]
    }
   ],
   "source": [
    "def merge_dicts(dict1, dict2):\n",
    "    \"\"\"\n",
    "    Merge two dictionaries into one.\n",
    "\n",
    "    Parameters:\n",
    "    dict1 (dict): The first dictionary to be merged.\n",
    "    dict2 (dict): The second dictionary to be merged.\n",
    "\n",
    "    Returns:\n",
    "    dict: A new dictionary containing the merged key-value pairs from dict1 and dict2.\n",
    "    \"\"\"\n",
    "    \n",
    "    # Initialize an empty dictionary to store the merged result\n",
    "    \n",
    "    \n",
    "    # Loop through dict1 and add key-value pairs to the merged_dict\n",
    "    \n",
    "        \n",
    "    # Loop through dict2 and add key-value pairs to the merged_dict\n",
    "\n",
    "    merged = {**dict1, **dict2}\n",
    "    return merged\n",
    "    \n",
    "\n",
    "# Sample test cases\n",
    "print(merge_dicts({'a': 1, 'b': 2}, {'c': 3, 'd': 4}))  # Output: {'a': 1, 'b': 2, 'c': 3, 'd': 4}\n"
   ]
  },
  {
   "cell_type": "code",
   "execution_count": 5,
   "id": "189d53cf-45d4-4506-ae0e-9bda80f4dd2b",
   "metadata": {},
   "outputs": [
    {
     "name": "stdout",
     "output_type": "stream",
     "text": [
      "{'x': 10, 'y': 20, 'z': 30}\n"
     ]
    }
   ],
   "source": [
    "print(merge_dicts({'x': 10, 'y': 20}, {'z': 30}))  # Output: {'x': 10, 'y': 20, 'z': 30}"
   ]
  },
  {
   "cell_type": "code",
   "execution_count": null,
   "id": "a24168e2-29b1-415c-854b-5b59242daf0d",
   "metadata": {},
   "outputs": [],
   "source": []
  }
 ],
 "metadata": {
  "kernelspec": {
   "display_name": "Python 3 (ipykernel)",
   "language": "python",
   "name": "python3"
  },
  "language_info": {
   "codemirror_mode": {
    "name": "ipython",
    "version": 3
   },
   "file_extension": ".py",
   "mimetype": "text/x-python",
   "name": "python",
   "nbconvert_exporter": "python",
   "pygments_lexer": "ipython3",
   "version": "3.12.7"
  }
 },
 "nbformat": 4,
 "nbformat_minor": 5
}
