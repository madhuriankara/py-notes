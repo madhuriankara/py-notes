{
 "cells": [
  {
   "cell_type": "code",
   "execution_count": 25,
   "id": "326c73b7-d490-4144-a9da-18438198209e",
   "metadata": {},
   "outputs": [
    {
     "name": "stdout",
     "output_type": "stream",
     "text": [
      "[1, 1, 2, 3, 3, 4, 5, 5, 6, 9]\n"
     ]
    }
   ],
   "source": [
    "def sort_list_ascending(lst):\n",
    "    \"\"\"\n",
    "    Sort a list in ascending order.\n",
    "\n",
    "    Parameters:\n",
    "    lst (list): List to be sorted.\n",
    "\n",
    "    Returns:\n",
    "    list: Sorted list in ascending order.\n",
    "    \"\"\"\n",
    "\n",
    "    # TODO: Implement sorting algorithm\n",
    "    lst.sort(reverse = False)\n",
    "    return lst\n",
    "    \n",
    "\n",
    "# Sample test cases\n",
    "print(sort_list_ascending([3, 1, 4, 1, 5, 9, 2, 6, 5, 3]))  # Expected output: [1, 1, 2, 3, 3, 4, 5, 5, 6, 9]\n"
   ]
  },
  {
   "cell_type": "code",
   "execution_count": 26,
   "id": "2d3713fb-0a55-44cb-8775-d2457471a5d6",
   "metadata": {},
   "outputs": [
    {
     "name": "stdout",
     "output_type": "stream",
     "text": [
      "[1, 2, 3, 4, 5, 6, 7, 8, 9]\n"
     ]
    }
   ],
   "source": [
    "print(sort_list_ascending([9, 8, 7, 6, 5, 4, 3, 2, 1]))  # Expected output: [1, 2, 3, 4, 5, 6, 7, 8, 9]"
   ]
  },
  {
   "cell_type": "code",
   "execution_count": null,
   "id": "536c0da5-2c5e-4e60-afe1-57057193d1d0",
   "metadata": {},
   "outputs": [],
   "source": []
  }
 ],
 "metadata": {
  "kernelspec": {
   "display_name": "Python 3 (ipykernel)",
   "language": "python",
   "name": "python3"
  },
  "language_info": {
   "codemirror_mode": {
    "name": "ipython",
    "version": 3
   },
   "file_extension": ".py",
   "mimetype": "text/x-python",
   "name": "python",
   "nbconvert_exporter": "python",
   "pygments_lexer": "ipython3",
   "version": "3.12.7"
  }
 },
 "nbformat": 4,
 "nbformat_minor": 5
}
