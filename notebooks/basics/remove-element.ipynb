{
 "cells": [
  {
   "cell_type": "code",
   "execution_count": 13,
   "id": "00af6e81-6292-4ee4-8cbf-a6534162cde6",
   "metadata": {},
   "outputs": [
    {
     "name": "stdout",
     "output_type": "stream",
     "text": [
      "[1, 2, 4, 5]\n",
      "['a', 'c', 'd', 'e']\n"
     ]
    }
   ],
   "source": [
    "def remove_element(lst, value):\n",
    "    \"\"\"\n",
    "    Write a function to remove an element from a list by its value.\n",
    "    \n",
    "    Parameters:\n",
    "    lst (list): The list from which the element needs to be removed.\n",
    "    value: The value of the element to be removed.\n",
    "    \n",
    "    Returns:\n",
    "    list: The updated list after removing the element.\n",
    "    \"\"\"\n",
    "    lst.remove(value)\n",
    "    return lst\n",
    "\n",
    "# Sample test cases\n",
    "print(remove_element([1, 2, 3, 4, 5], 3)) # Expected output: [1, 2, 4, 5]\n",
    "print(remove_element(['a', 'b', 'c', 'd', 'e'], 'b')) # Expected output: ['a', 'c', 'd', 'e']"
   ]
  },
  {
   "cell_type": "code",
   "execution_count": null,
   "id": "d7f1529c-6209-4f2f-958d-537cdc5ca8b4",
   "metadata": {},
   "outputs": [],
   "source": []
  }
 ],
 "metadata": {
  "kernelspec": {
   "display_name": "Python 3 (ipykernel)",
   "language": "python",
   "name": "python3"
  },
  "language_info": {
   "codemirror_mode": {
    "name": "ipython",
    "version": 3
   },
   "file_extension": ".py",
   "mimetype": "text/x-python",
   "name": "python",
   "nbconvert_exporter": "python",
   "pygments_lexer": "ipython3",
   "version": "3.12.7"
  }
 },
 "nbformat": 4,
 "nbformat_minor": 5
}
