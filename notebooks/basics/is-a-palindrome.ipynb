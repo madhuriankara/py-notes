{
 "cells": [
  {
   "cell_type": "code",
   "execution_count": null,
   "id": "065f038d-ad5d-4783-ba56-acd8acd4ac6d",
   "metadata": {},
   "outputs": [],
   "source": [
    "#https://www.geeksforgeeks.org/python-program-check-string-palindrome-not/"
   ]
  },
  {
   "cell_type": "code",
   "execution_count": 3,
   "id": "d0576f26-4e6b-4596-a31e-a9bb2ae79ad3",
   "metadata": {},
   "outputs": [],
   "source": [
    "def is_palindrome(s):\n",
    "    \"\"\"\n",
    "    Problem: Write a function to check if a string is a palindrome.\n",
    "    \n",
    "    Args:\n",
    "    s: input string to be checked\n",
    "    \n",
    "    Returns:\n",
    "    True if the string is a palindrome, False otherwise\n",
    "    \"\"\"\n",
    "    \n",
    "    # Half-implemented function\n",
    "    # Implement the logic here\n",
    "    \n",
    "    return s == s[:: -1]\n",
    "\n",
    "# Sample test cases\n",
    "# print(is_palindrome(\"racecar\"))  # True\n",
    "# print(is_palindrome(\"hello\"))    # False\n",
    "# print(is_palindrome(\"level\"))    # True"
   ]
  },
  {
   "cell_type": "code",
   "execution_count": 4,
   "id": "df140d49-5c59-4ddb-b207-f1b702048a48",
   "metadata": {},
   "outputs": [
    {
     "name": "stdout",
     "output_type": "stream",
     "text": [
      "True\n"
     ]
    }
   ],
   "source": [
    "print(is_palindrome(\"racecar\"))"
   ]
  },
  {
   "cell_type": "code",
   "execution_count": 5,
   "id": "7120660b-2f8b-40ae-9c03-f681b1d2236a",
   "metadata": {},
   "outputs": [
    {
     "name": "stdout",
     "output_type": "stream",
     "text": [
      "False\n"
     ]
    }
   ],
   "source": [
    "print(is_palindrome(\"hello\"))"
   ]
  },
  {
   "cell_type": "code",
   "execution_count": 6,
   "id": "acf7175b-ae74-4dc7-a9e5-e0afe75e779d",
   "metadata": {},
   "outputs": [
    {
     "name": "stdout",
     "output_type": "stream",
     "text": [
      "True\n"
     ]
    }
   ],
   "source": [
    "print(is_palindrome(\"level\"))"
   ]
  },
  {
   "cell_type": "code",
   "execution_count": null,
   "id": "513c0b0f-7ad0-4959-be2f-0a4b758bc4ad",
   "metadata": {},
   "outputs": [],
   "source": []
  }
 ],
 "metadata": {
  "kernelspec": {
   "display_name": "Python 3 (ipykernel)",
   "language": "python",
   "name": "python3"
  },
  "language_info": {
   "codemirror_mode": {
    "name": "ipython",
    "version": 3
   },
   "file_extension": ".py",
   "mimetype": "text/x-python",
   "name": "python",
   "nbconvert_exporter": "python",
   "pygments_lexer": "ipython3",
   "version": "3.12.7"
  }
 },
 "nbformat": 4,
 "nbformat_minor": 5
}
