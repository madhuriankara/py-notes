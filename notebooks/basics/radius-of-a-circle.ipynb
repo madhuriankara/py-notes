{
 "cells": [
  {
   "cell_type": "code",
   "execution_count": 8,
   "id": "2b9b6443-7a2e-4555-b8a2-b51a7b9b752d",
   "metadata": {},
   "outputs": [
    {
     "name": "stdout",
     "output_type": "stream",
     "text": [
      "78.5\n"
     ]
    }
   ],
   "source": [
    "def calculate_circle_area(radius):\n",
    "    \"\"\"\n",
    "    Calculate the area of a circle given its radius.\n",
    "\n",
    "    Parameters:\n",
    "    radius (float): The radius of the circle.\n",
    "\n",
    "    Returns:\n",
    "    float: The area of the circle.\n",
    "    \"\"\"\n",
    "    area = 3.14 * radius **2\n",
    "    return area\n",
    "\n",
    "# Sample test cases\n",
    "print(calculate_circle_area(5))  # Expected output: 78.53975\n"
   ]
  },
  {
   "cell_type": "code",
   "execution_count": 9,
   "id": "ea1b0b66-002c-4f12-a17e-628a0510ab01",
   "metadata": {},
   "outputs": [
    {
     "name": "stdout",
     "output_type": "stream",
     "text": [
      "314.0\n"
     ]
    }
   ],
   "source": [
    "print(calculate_circle_area(10))  # Expected output: 314.159"
   ]
  },
  {
   "cell_type": "code",
   "execution_count": null,
   "id": "9141d755-bc26-4f7a-acff-37464c9f24d3",
   "metadata": {},
   "outputs": [],
   "source": []
  }
 ],
 "metadata": {
  "kernelspec": {
   "display_name": "Python 3 (ipykernel)",
   "language": "python",
   "name": "python3"
  },
  "language_info": {
   "codemirror_mode": {
    "name": "ipython",
    "version": 3
   },
   "file_extension": ".py",
   "mimetype": "text/x-python",
   "name": "python",
   "nbconvert_exporter": "python",
   "pygments_lexer": "ipython3",
   "version": "3.12.7"
  }
 },
 "nbformat": 4,
 "nbformat_minor": 5
}
