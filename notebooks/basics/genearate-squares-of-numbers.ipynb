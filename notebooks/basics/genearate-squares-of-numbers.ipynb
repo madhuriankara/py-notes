{
 "cells": [
  {
   "cell_type": "code",
   "execution_count": 92,
   "id": "6c85ca4d-2665-435f-9b16-8b8578a5958c",
   "metadata": {},
   "outputs": [
    {
     "name": "stdout",
     "output_type": "stream",
     "text": [
      "[1, 4, 9, 16, 25]\n"
     ]
    }
   ],
   "source": [
    "def generate_squares(n):\n",
    "    \"\"\"\n",
    "    Generate a list of squares of numbers from 1 to n.\n",
    "\n",
    "    Parameters:\n",
    "    n (int): The upper limit of the range.\n",
    "\n",
    "    Returns:\n",
    "    list: A list of squares of numbers from 1 to n.\n",
    "    \"\"\"\n",
    "    return [x ** 2 for x in range(1,n+1) ]\n",
    "        \n",
    "\n",
    "# Sample test cases\n",
    "print(generate_squares(5)) # Expected output: [1, 4, 9, 16, 25]\n"
   ]
  },
  {
   "cell_type": "code",
   "execution_count": 93,
   "id": "0e24bb86-3eef-4a9f-b293-93381cf85489",
   "metadata": {},
   "outputs": [
    {
     "name": "stdout",
     "output_type": "stream",
     "text": [
      "[1, 4, 9]\n"
     ]
    }
   ],
   "source": [
    "print(generate_squares(3)) # Expected output: [1, 4, 9]"
   ]
  },
  {
   "cell_type": "code",
   "execution_count": null,
   "id": "9a07e87c-6dfd-406d-8b85-6454fdc19942",
   "metadata": {},
   "outputs": [],
   "source": []
  }
 ],
 "metadata": {
  "kernelspec": {
   "display_name": "Python 3 (ipykernel)",
   "language": "python",
   "name": "python3"
  },
  "language_info": {
   "codemirror_mode": {
    "name": "ipython",
    "version": 3
   },
   "file_extension": ".py",
   "mimetype": "text/x-python",
   "name": "python",
   "nbconvert_exporter": "python",
   "pygments_lexer": "ipython3",
   "version": "3.12.7"
  }
 },
 "nbformat": 4,
 "nbformat_minor": 5
}
