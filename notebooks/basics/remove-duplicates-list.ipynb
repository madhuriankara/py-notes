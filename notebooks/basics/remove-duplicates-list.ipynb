{
 "cells": [
  {
   "cell_type": "code",
   "execution_count": null,
   "id": "1db02192-c7ca-4bea-bd93-563bf6642bc3",
   "metadata": {},
   "outputs": [],
   "source": [
    "#https://www.geeksforgeeks.org/python-ways-to-remove-duplicates-from-list/"
   ]
  },
  {
   "cell_type": "code",
   "execution_count": 9,
   "id": "1311646b-829b-4810-8b67-b8afb79a041d",
   "metadata": {},
   "outputs": [
    {
     "name": "stdout",
     "output_type": "stream",
     "text": [
      "[1, 2, 3, 4, 5]\n"
     ]
    }
   ],
   "source": [
    "def remove_duplicates(lst):\n",
    "    \"\"\"\n",
    "    Problem: Write a function to remove duplicates from a list.\n",
    "    \n",
    "    Args:\n",
    "    lst: a list of elements\n",
    "    \n",
    "    Returns:\n",
    "    a list with duplicates removed\n",
    "    \"\"\"\n",
    "    \n",
    "    # initialize an empty list to store unique elements\n",
    "    \n",
    "    # loop through the input list\n",
    "    \n",
    "    lst = list(dict.fromkeys(lst))\n",
    "    return lst\n",
    "    \n",
    "\n",
    "# Sample test cases\n",
    "print(remove_duplicates([1, 2, 2, 3, 4, 4, 5])) # Output: [1, 2, 3, 4, 5]\n",
    "# print(remove_duplicates(['a', 'b', 'a', 'c', 'd', 'b'])) # Output: ['a', 'b', 'c', 'd']"
   ]
  },
  {
   "cell_type": "code",
   "execution_count": 10,
   "id": "b7140656-abb9-4121-8a88-b287e66bea01",
   "metadata": {},
   "outputs": [
    {
     "name": "stdout",
     "output_type": "stream",
     "text": [
      "['a', 'b', 'c', 'd']\n"
     ]
    }
   ],
   "source": [
    "print(remove_duplicates(['a', 'b', 'a', 'c', 'd', 'b'])) # Output: ['a', 'b', 'c', 'd']"
   ]
  },
  {
   "cell_type": "code",
   "execution_count": null,
   "id": "2d7f0a72-0714-4d4f-9709-36c26f2acbea",
   "metadata": {},
   "outputs": [],
   "source": []
  }
 ],
 "metadata": {
  "kernelspec": {
   "display_name": "Python 3 (ipykernel)",
   "language": "python",
   "name": "python3"
  },
  "language_info": {
   "codemirror_mode": {
    "name": "ipython",
    "version": 3
   },
   "file_extension": ".py",
   "mimetype": "text/x-python",
   "name": "python",
   "nbconvert_exporter": "python",
   "pygments_lexer": "ipython3",
   "version": "3.12.7"
  }
 },
 "nbformat": 4,
 "nbformat_minor": 5
}
