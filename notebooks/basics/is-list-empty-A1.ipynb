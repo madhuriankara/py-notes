{
 "cells": [
  {
   "cell_type": "code",
   "execution_count": 18,
   "id": "5f1e55d3-ec13-4b6e-b73e-bd800fb206e3",
   "metadata": {},
   "outputs": [],
   "source": [
    "def is_list_empty(lst):\n",
    "    \"\"\"\n",
    "    Check if a list is empty.\n",
    "\n",
    "    Parameters:\n",
    "    lst (list): A list to be checked.\n",
    "\n",
    "    Returns:\n",
    "    bool: True if the list is empty, False otherwise.\n",
    "    \"\"\"\n",
    "    # Your code here\n",
    "    if lst:\n",
    "        return False\n",
    "        \n",
    "    return True\n",
    "    # Sample test cases\n",
    "#print(is_list_empty([])) \n",
    "#print(is_list_empty([1, 2, 3])) \n"
   ]
  },
  {
   "cell_type": "code",
   "execution_count": 19,
   "id": "f483957a-17d8-450d-b20e-6758e586dd11",
   "metadata": {},
   "outputs": [
    {
     "name": "stdout",
     "output_type": "stream",
     "text": [
      "True\n"
     ]
    }
   ],
   "source": [
    "print(is_list_empty([])) "
   ]
  },
  {
   "cell_type": "code",
   "execution_count": 20,
   "id": "6e2eb10a-7e39-4cbb-aef5-98e11c9bad37",
   "metadata": {},
   "outputs": [
    {
     "name": "stdout",
     "output_type": "stream",
     "text": [
      "False\n"
     ]
    }
   ],
   "source": [
    "print(is_list_empty([1, 2, 3])) "
   ]
  },
  {
   "cell_type": "code",
   "execution_count": null,
   "id": "8456a49d-65d5-4a63-902d-d21a058e6bc8",
   "metadata": {},
   "outputs": [],
   "source": []
  }
 ],
 "metadata": {
  "kernelspec": {
   "display_name": "Python 3 (ipykernel)",
   "language": "python",
   "name": "python3"
  },
  "language_info": {
   "codemirror_mode": {
    "name": "ipython",
    "version": 3
   },
   "file_extension": ".py",
   "mimetype": "text/x-python",
   "name": "python",
   "nbconvert_exporter": "python",
   "pygments_lexer": "ipython3",
   "version": "3.12.7"
  }
 },
 "nbformat": 4,
 "nbformat_minor": 5
}
