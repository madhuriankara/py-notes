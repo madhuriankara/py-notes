{
 "cells": [
  {
   "cell_type": "code",
   "execution_count": 1,
   "id": "fef34b96-28f5-4d2c-ad1e-4bc0db8fa094",
   "metadata": {},
   "outputs": [],
   "source": [
    "def print_everything(*args):\n",
    "        for count, thing in enumerate(args):\n",
    "            print( '{0}. {1}'.format(count, thing))"
   ]
  },
  {
   "cell_type": "code",
   "execution_count": 2,
   "id": "a31ac85c-b656-4874-9c33-2d44b9ba5c61",
   "metadata": {},
   "outputs": [
    {
     "name": "stdout",
     "output_type": "stream",
     "text": [
      "0. apple\n",
      "1. banana\n",
      "2. cabbage\n",
      "3. spinach\n"
     ]
    }
   ],
   "source": [
    "print_everything('apple', 'banana', 'cabbage', 'spinach')"
   ]
  },
  {
   "cell_type": "code",
   "execution_count": null,
   "id": "932b66d7-95aa-4f27-a2dd-8dfa126f26b4",
   "metadata": {},
   "outputs": [],
   "source": []
  }
 ],
 "metadata": {
  "kernelspec": {
   "display_name": "Python 3 (ipykernel)",
   "language": "python",
   "name": "python3"
  },
  "language_info": {
   "codemirror_mode": {
    "name": "ipython",
    "version": 3
   },
   "file_extension": ".py",
   "mimetype": "text/x-python",
   "name": "python",
   "nbconvert_exporter": "python",
   "pygments_lexer": "ipython3",
   "version": "3.12.7"
  }
 },
 "nbformat": 4,
 "nbformat_minor": 5
}
