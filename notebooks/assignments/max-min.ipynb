{
 "cells": [
  {
   "cell_type": "markdown",
   "id": "b72e1f00-bc67-4bca-ad51-e79f11c39b01",
   "metadata": {},
   "source": [
    "Assignment 4\n",
    "Find Minimum and Maximum\n",
    "Write a program that:\n",
    "\n",
    "Takes a list of numbers as input.\n",
    "Finds and prints the smallest and largest numbers in the list."
   ]
  },
  {
   "cell_type": "code",
   "execution_count": 33,
   "id": "409696ef-1047-4c6b-826e-d3526308e53b",
   "metadata": {},
   "outputs": [],
   "source": [
    "def get_max_min(number):\n",
    "    if number > 100:\n",
    "        return f'{number} is maximum'\n",
    "    else:\n",
    "        return f'{number} is minimum'"
   ]
  },
  {
   "cell_type": "code",
   "execution_count": 34,
   "id": "5f27cad4-679b-4839-b777-f01f52519559",
   "metadata": {},
   "outputs": [
    {
     "data": {
      "text/plain": [
       "'50 is minimum'"
      ]
     },
     "execution_count": 34,
     "metadata": {},
     "output_type": "execute_result"
    }
   ],
   "source": [
    "get_max_min(50)"
   ]
  },
  {
   "cell_type": "code",
   "execution_count": 35,
   "id": "bbf7b06a-e1cc-4840-9aff-0098cb2519a8",
   "metadata": {},
   "outputs": [
    {
     "data": {
      "text/plain": [
       "'102 is maximum'"
      ]
     },
     "execution_count": 35,
     "metadata": {},
     "output_type": "execute_result"
    }
   ],
   "source": [
    "get_max_min(102)"
   ]
  },
  {
   "cell_type": "code",
   "execution_count": null,
   "id": "522ae840-551f-43a4-a7c2-1936ad4e38a2",
   "metadata": {},
   "outputs": [],
   "source": []
  },
  {
   "cell_type": "code",
   "execution_count": null,
   "id": "87ace532-e3dc-4bef-9393-7e63808624df",
   "metadata": {},
   "outputs": [],
   "source": []
  }
 ],
 "metadata": {
  "kernelspec": {
   "display_name": "Python 3 (ipykernel)",
   "language": "python",
   "name": "python3"
  },
  "language_info": {
   "codemirror_mode": {
    "name": "ipython",
    "version": 3
   },
   "file_extension": ".py",
   "mimetype": "text/x-python",
   "name": "python",
   "nbconvert_exporter": "python",
   "pygments_lexer": "ipython3",
   "version": "3.12.7"
  }
 },
 "nbformat": 4,
 "nbformat_minor": 5
}
