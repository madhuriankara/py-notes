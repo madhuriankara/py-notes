{
 "cells": [
  {
   "cell_type": "markdown",
   "id": "fd8f28a1-9b84-4eb9-a91d-dd00e767a202",
   "metadata": {},
   "source": [
    "Calculates the sum of its digits.\n",
    "Prints the result.\n"
   ]
  },
  {
   "cell_type": "code",
   "execution_count": 21,
   "id": "97c09044-813f-4632-ab87-e32dd8fddfae",
   "metadata": {},
   "outputs": [],
   "source": [
    "def get_sum_of_numbers():\n",
    "    a = 10\n",
    "    b = 20\n",
    "    sum= a + b\n",
    "\n",
    "    return f'result = {sum}'\n",
    "        "
   ]
  },
  {
   "cell_type": "code",
   "execution_count": 22,
   "id": "7f8805bb-8c68-4358-89e7-3026b1e0e65a",
   "metadata": {},
   "outputs": [
    {
     "data": {
      "text/plain": [
       "'result = 30'"
      ]
     },
     "execution_count": 22,
     "metadata": {},
     "output_type": "execute_result"
    }
   ],
   "source": [
    "get_sum_of_numbers()"
   ]
  },
  {
   "cell_type": "code",
   "execution_count": null,
   "id": "e92e3bd0-ad01-4035-848e-dd1e8e7ce98b",
   "metadata": {},
   "outputs": [],
   "source": []
  },
  {
   "cell_type": "code",
   "execution_count": null,
   "id": "48454711-f19f-49cf-8c9e-96b28e1cbbf1",
   "metadata": {},
   "outputs": [],
   "source": []
  }
 ],
 "metadata": {
  "kernelspec": {
   "display_name": "Python 3 (ipykernel)",
   "language": "python",
   "name": "python3"
  },
  "language_info": {
   "codemirror_mode": {
    "name": "ipython",
    "version": 3
   },
   "file_extension": ".py",
   "mimetype": "text/x-python",
   "name": "python",
   "nbconvert_exporter": "python",
   "pygments_lexer": "ipython3",
   "version": "3.12.7"
  }
 },
 "nbformat": 4,
 "nbformat_minor": 5
}
