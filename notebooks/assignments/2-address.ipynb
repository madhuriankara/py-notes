{
 "cells": [
  {
   "cell_type": "code",
   "execution_count": 1,
   "id": "925fd463-51e3-4c05-813c-31a0664b2f2b",
   "metadata": {},
   "outputs": [],
   "source": [
    "from faker import Faker"
   ]
  },
  {
   "cell_type": "code",
   "execution_count": 2,
   "id": "530b2c29-b703-4353-8133-1599fdf34a07",
   "metadata": {},
   "outputs": [],
   "source": [
    "fake = Faker()"
   ]
  },
  {
   "cell_type": "code",
   "execution_count": 12,
   "id": "7d683732-3393-4118-a1b8-e0c702956d9c",
   "metadata": {},
   "outputs": [],
   "source": [
    "for _ in range(5):\n",
    "    SUITE_NO = f'{fake.random_int(1,99)} - {fake.random_int(1,99)}'"
   ]
  },
  {
   "cell_type": "code",
   "execution_count": 13,
   "id": "4de21573-acf1-4aa0-adfa-195144173aa2",
   "metadata": {},
   "outputs": [],
   "source": [
    "    STREET_NAME = fake.street_name()"
   ]
  },
  {
   "cell_type": "code",
   "execution_count": 15,
   "id": "9c744d01-2206-4ed2-a06b-06814f38a818",
   "metadata": {},
   "outputs": [
    {
     "name": "stdout",
     "output_type": "stream",
     "text": [
      "23 - 55 - Gabriel Summit\n"
     ]
    }
   ],
   "source": [
    "print (f'{SUITE_NO} - {STREET_NAME}')"
   ]
  },
  {
   "cell_type": "code",
   "execution_count": 17,
   "id": "858ec1b9-c3f5-41db-b6eb-af1593873f3e",
   "metadata": {},
   "outputs": [],
   "source": [
    "for _ in range(5):\n",
    "    SUITE_NO = f'{fake.random_int(5,10)} - {fake.random_int(2,60)}'"
   ]
  },
  {
   "cell_type": "code",
   "execution_count": 18,
   "id": "316e472f-6945-4756-b8f4-46ce77864be2",
   "metadata": {},
   "outputs": [],
   "source": [
    "STREET_NAME = fake.street_name()"
   ]
  },
  {
   "cell_type": "code",
   "execution_count": 19,
   "id": "54d70ea1-ac91-46b8-81bf-456893820279",
   "metadata": {},
   "outputs": [
    {
     "name": "stdout",
     "output_type": "stream",
     "text": [
      "7 - 45 - Malone Point\n"
     ]
    }
   ],
   "source": [
    "print (f'{SUITE_NO} - {STREET_NAME}')"
   ]
  },
  {
   "cell_type": "code",
   "execution_count": 20,
   "id": "fcc1054b-d930-456d-a1ce-e6f99bd0e1ae",
   "metadata": {},
   "outputs": [],
   "source": [
    "for _ in range(5):\n",
    "    SUITE_NO = f'{fake.random_int(1,99)} - {fake.random_int(1,99)}'"
   ]
  },
  {
   "cell_type": "code",
   "execution_count": 21,
   "id": "4ddc113c-b9c5-49df-b2ec-ce7aa7771d39",
   "metadata": {},
   "outputs": [],
   "source": [
    "STREET_NAME = fake.street_name()"
   ]
  },
  {
   "cell_type": "code",
   "execution_count": 22,
   "id": "7d613772-d894-401d-aa3d-873490ed992a",
   "metadata": {},
   "outputs": [
    {
     "name": "stdout",
     "output_type": "stream",
     "text": [
      "28 - 39 - Kristy Squares\n"
     ]
    }
   ],
   "source": [
    "print (f'{SUITE_NO} - {STREET_NAME}')"
   ]
  },
  {
   "cell_type": "code",
   "execution_count": null,
   "id": "b3a41506-e75a-4084-8113-66f1e0cae739",
   "metadata": {},
   "outputs": [],
   "source": []
  }
 ],
 "metadata": {
  "kernelspec": {
   "display_name": "Python 3 (ipykernel)",
   "language": "python",
   "name": "python3"
  },
  "language_info": {
   "codemirror_mode": {
    "name": "ipython",
    "version": 3
   },
   "file_extension": ".py",
   "mimetype": "text/x-python",
   "name": "python",
   "nbconvert_exporter": "python",
   "pygments_lexer": "ipython3",
   "version": "3.12.7"
  }
 },
 "nbformat": 4,
 "nbformat_minor": 5
}
