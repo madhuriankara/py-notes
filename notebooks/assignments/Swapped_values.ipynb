{
 "cells": [
  {
   "cell_type": "markdown",
   "id": "e9099d31-6939-4b5e-a9aa-25ebcb95da9b",
   "metadata": {},
   "source": [
    "Takes two variables.\n",
    "Swaps their values without using a third variable.\n",
    "Prints the swapped values."
   ]
  },
  {
   "cell_type": "code",
   "execution_count": 27,
   "id": "8f5eaf06-d171-4f62-8514-fc2a40dff678",
   "metadata": {},
   "outputs": [],
   "source": [
    "def swap_two_variables():\n",
    "    a=10\n",
    "    b=20\n",
    "    a,b = b,a\n",
    "    result = (a,b)\n",
    "    return f'The {result} is now swapped'\n",
    "    "
   ]
  },
  {
   "cell_type": "code",
   "execution_count": 28,
   "id": "87cd40d6-debb-41a3-9a59-face365a7e7e",
   "metadata": {},
   "outputs": [
    {
     "data": {
      "text/plain": [
       "'The (20, 10) is now swapped'"
      ]
     },
     "execution_count": 28,
     "metadata": {},
     "output_type": "execute_result"
    }
   ],
   "source": [
    "swap_two_variables()"
   ]
  },
  {
   "cell_type": "code",
   "execution_count": null,
   "id": "5b3aebe4-2c50-42bd-844b-eb19ee25a9d2",
   "metadata": {},
   "outputs": [],
   "source": []
  },
  {
   "cell_type": "code",
   "execution_count": null,
   "id": "768d8114-4558-4d3c-b563-b5d691ab9067",
   "metadata": {},
   "outputs": [],
   "source": []
  }
 ],
 "metadata": {
  "kernelspec": {
   "display_name": "Python 3 (ipykernel)",
   "language": "python",
   "name": "python3"
  },
  "language_info": {
   "codemirror_mode": {
    "name": "ipython",
    "version": 3
   },
   "file_extension": ".py",
   "mimetype": "text/x-python",
   "name": "python",
   "nbconvert_exporter": "python",
   "pygments_lexer": "ipython3",
   "version": "3.12.7"
  }
 },
 "nbformat": 4,
 "nbformat_minor": 5
}
