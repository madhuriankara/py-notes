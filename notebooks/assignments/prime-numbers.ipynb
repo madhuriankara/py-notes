{
 "cells": [
  {
   "cell_type": "markdown",
   "id": "b9844d12-6320-45ee-bd53-23aa63ffbd62",
   "metadata": {},
   "source": [
    "Assignment 5\n",
    "Checks if the number is a prime number.\n",
    "Prints \"Prime\" or \"Not Prime.\"\n"
   ]
  },
  {
   "cell_type": "code",
   "execution_count": 28,
   "id": "105d4c44-a80d-4cce-994a-88ac78b2d529",
   "metadata": {},
   "outputs": [],
   "source": [
    "def get_prime_number(number):\n",
    "    if number ==2:\n",
    "        for number in range(1,10):\n",
    "            if number % 2:\n",
    "                return f'The {number} is not prime'\n",
    "            else:\n",
    "                return f'The {number} is prime'"
   ]
  },
  {
   "cell_type": "code",
   "execution_count": 30,
   "id": "8b14ccf7-6ade-45c3-a26d-7b08cacfcb7b",
   "metadata": {},
   "outputs": [
    {
     "data": {
      "text/plain": [
       "'The 1 is not prime'"
      ]
     },
     "execution_count": 30,
     "metadata": {},
     "output_type": "execute_result"
    }
   ],
   "source": [
    "get_prime_number(2)"
   ]
  },
  {
   "cell_type": "code",
   "execution_count": null,
   "id": "a513b5b0-7251-4e85-a825-c8ead0b27780",
   "metadata": {},
   "outputs": [],
   "source": []
  },
  {
   "cell_type": "code",
   "execution_count": null,
   "id": "3ace3814-ea7a-44a4-bfef-a7857b988201",
   "metadata": {},
   "outputs": [],
   "source": []
  }
 ],
 "metadata": {
  "kernelspec": {
   "display_name": "Python 3 (ipykernel)",
   "language": "python",
   "name": "python3"
  },
  "language_info": {
   "codemirror_mode": {
    "name": "ipython",
    "version": 3
   },
   "file_extension": ".py",
   "mimetype": "text/x-python",
   "name": "python",
   "nbconvert_exporter": "python",
   "pygments_lexer": "ipython3",
   "version": "3.12.7"
  }
 },
 "nbformat": 4,
 "nbformat_minor": 5
}
