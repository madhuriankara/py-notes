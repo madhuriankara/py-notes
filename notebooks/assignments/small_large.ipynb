{
 "cells": [
  {
   "cell_type": "markdown",
   "id": "1cee9a9c-2c4c-4611-ba7b-aabe3d0fbed4",
   "metadata": {},
   "source": [
    "Finds and prints the smallest and largest numbers in the list."
   ]
  },
  {
   "cell_type": "code",
   "execution_count": 51,
   "id": "ac6f2c7a-25b5-4837-904d-b375a1284760",
   "metadata": {},
   "outputs": [],
   "source": [
    "def get_large_small(i):\n",
    "    if i <= 2:\n",
    "        print(\"The number is smallest\")\n",
    "    else:\n",
    "        print(\"The number is largest\")"
   ]
  },
  {
   "cell_type": "code",
   "execution_count": 52,
   "id": "1c57d146-adc1-4733-957f-c9c118660835",
   "metadata": {},
   "outputs": [
    {
     "name": "stdout",
     "output_type": "stream",
     "text": [
      "The number is smallest\n"
     ]
    }
   ],
   "source": [
    "get_large_small(0)"
   ]
  },
  {
   "cell_type": "code",
   "execution_count": null,
   "id": "784705e6-1ea7-4fd4-a296-9a160682328f",
   "metadata": {},
   "outputs": [],
   "source": []
  },
  {
   "cell_type": "code",
   "execution_count": 39,
   "id": "357a4514-6d78-4c50-92d4-efcd00e735f6",
   "metadata": {},
   "outputs": [
    {
     "name": "stdout",
     "output_type": "stream",
     "text": [
      "The number is largest\n"
     ]
    }
   ],
   "source": [
    "get_large_small(10)"
   ]
  },
  {
   "cell_type": "code",
   "execution_count": null,
   "id": "55b8e8f8-c935-4ab3-a33a-c42934c95ad8",
   "metadata": {},
   "outputs": [],
   "source": []
  },
  {
   "cell_type": "code",
   "execution_count": 53,
   "id": "348b675a-608d-4629-9667-7c76c88292f6",
   "metadata": {},
   "outputs": [],
   "source": [
    "def get_large_small(i):\n",
    "    numbers = [2, 4, 6, 8, 10]\n",
    "    \n",
    "    if i in numbers:\n",
    "        if i <= 2:\n",
    "            return f'The number {i} is the smallest'\n",
    "        else:\n",
    "            return f'The number {i} is not the smallest'\n",
    "    else:\n",
    "        return f'The number {i} is not in the list'\n"
   ]
  },
  {
   "cell_type": "code",
   "execution_count": 56,
   "id": "9ab2f85d-1c59-4ce9-bc01-ee34d433cd5d",
   "metadata": {},
   "outputs": [
    {
     "data": {
      "text/plain": [
       "'The number 10 is not the smallest'"
      ]
     },
     "execution_count": 56,
     "metadata": {},
     "output_type": "execute_result"
    }
   ],
   "source": [
    "get_large_small(10)"
   ]
  },
  {
   "cell_type": "code",
   "execution_count": null,
   "id": "0dac8a18-585a-4592-aac3-3a128ad22cd7",
   "metadata": {},
   "outputs": [],
   "source": []
  }
 ],
 "metadata": {
  "kernelspec": {
   "display_name": "Python 3 (ipykernel)",
   "language": "python",
   "name": "python3"
  },
  "language_info": {
   "codemirror_mode": {
    "name": "ipython",
    "version": 3
   },
   "file_extension": ".py",
   "mimetype": "text/x-python",
   "name": "python",
   "nbconvert_exporter": "python",
   "pygments_lexer": "ipython3",
   "version": "3.12.7"
  }
 },
 "nbformat": 4,
 "nbformat_minor": 5
}
