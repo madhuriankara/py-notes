{
 "cells": [
  {
   "cell_type": "markdown",
   "id": "c0240a4e-6e48-4158-8b8d-7a46cfe177a9",
   "metadata": {},
   "source": [
    "10\n",
    "Takes a number \n",
    "Checks if it is divisible by both 5 and 3.\n",
    "Prints \"Divisible by both\" or \"Not divisible by both.\""
   ]
  },
  {
   "cell_type": "code",
   "execution_count": 19,
   "id": "7863de9f-f2b3-4096-ad5d-10897d31022c",
   "metadata": {},
   "outputs": [],
   "source": [
    "def get_divisibility(i):\n",
    "        if i % 3 ==0 and i % 5 == 0:\n",
    "            return f' The number {i} is divisible by 3 and 5'\n",
    "        else:\n",
    "            return f'The number {i} is not divisible by 3 and 5'"
   ]
  },
  {
   "cell_type": "code",
   "execution_count": 20,
   "id": "f391aa18-d4c4-4451-b5d6-c28a7fbd5996",
   "metadata": {},
   "outputs": [
    {
     "data": {
      "text/plain": [
       "' The number 30 is divisible by 3 and 5'"
      ]
     },
     "execution_count": 20,
     "metadata": {},
     "output_type": "execute_result"
    }
   ],
   "source": [
    "get_divisibility(30)"
   ]
  },
  {
   "cell_type": "code",
   "execution_count": null,
   "id": "57652d0b-1557-40d0-9f4a-b708e4607496",
   "metadata": {},
   "outputs": [],
   "source": []
  },
  {
   "cell_type": "code",
   "execution_count": 21,
   "id": "703f44f5-f44e-4451-8afa-b76aa8f96044",
   "metadata": {},
   "outputs": [
    {
     "data": {
      "text/plain": [
       "'The number 22 is not divisible by 3 and 5'"
      ]
     },
     "execution_count": 21,
     "metadata": {},
     "output_type": "execute_result"
    }
   ],
   "source": [
    "get_divisibility(22)"
   ]
  },
  {
   "cell_type": "code",
   "execution_count": null,
   "id": "0d9d93c5-f253-49e3-acf3-0b8f0ae5c572",
   "metadata": {},
   "outputs": [],
   "source": []
  },
  {
   "cell_type": "code",
   "execution_count": 22,
   "id": "c91fd528-6f6a-4cea-87fd-a247e2fb7917",
   "metadata": {},
   "outputs": [
    {
     "data": {
      "text/plain": [
       "'The number 40 is not divisible by 3 and 5'"
      ]
     },
     "execution_count": 22,
     "metadata": {},
     "output_type": "execute_result"
    }
   ],
   "source": [
    "get_divisibility(40)"
   ]
  },
  {
   "cell_type": "code",
   "execution_count": null,
   "id": "b3b150ac-f54a-441f-9b6d-3a84d9cbd4c4",
   "metadata": {},
   "outputs": [],
   "source": []
  }
 ],
 "metadata": {
  "kernelspec": {
   "display_name": "Python 3 (ipykernel)",
   "language": "python",
   "name": "python3"
  },
  "language_info": {
   "codemirror_mode": {
    "name": "ipython",
    "version": 3
   },
   "file_extension": ".py",
   "mimetype": "text/x-python",
   "name": "python",
   "nbconvert_exporter": "python",
   "pygments_lexer": "ipython3",
   "version": "3.12.7"
  }
 },
 "nbformat": 4,
 "nbformat_minor": 5
}
