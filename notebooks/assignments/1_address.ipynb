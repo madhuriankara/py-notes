{
 "cells": [
  {
   "cell_type": "code",
   "execution_count": 4,
   "id": "beda0aa2-60ce-494a-9880-b879a1b966bd",
   "metadata": {},
   "outputs": [],
   "source": [
    "from faker import Faker\n",
    "\n",
    "fake = Faker()"
   ]
  },
  {
   "cell_type": "code",
   "execution_count": 3,
   "id": "cd1931d2-c78c-4672-bf71-4d035d6ba7be",
   "metadata": {},
   "outputs": [
    {
     "name": "stdout",
     "output_type": "stream",
     "text": [
      "Collecting faker\n",
      "  Downloading Faker-33.0.0-py3-none-any.whl.metadata (15 kB)\n",
      "Requirement already satisfied: python-dateutil>=2.4 in /opt/homebrew/Caskroom/miniconda/base/envs/py312/lib/python3.12/site-packages (from faker) (2.9.0.post0)\n",
      "Requirement already satisfied: typing-extensions in /opt/homebrew/Caskroom/miniconda/base/envs/py312/lib/python3.12/site-packages (from faker) (4.12.2)\n",
      "Requirement already satisfied: six>=1.5 in /opt/homebrew/Caskroom/miniconda/base/envs/py312/lib/python3.12/site-packages (from python-dateutil>=2.4->faker) (1.16.0)\n",
      "Downloading Faker-33.0.0-py3-none-any.whl (1.9 MB)\n",
      "\u001b[2K   \u001b[38;2;114;156;31m━━━━━━━━━━━━━━━━━━━━━━━━━━━━━━━━━━━━━━━━\u001b[0m \u001b[32m1.9/1.9 MB\u001b[0m \u001b[31m14.4 MB/s\u001b[0m eta \u001b[36m0:00:00\u001b[0m\n",
      "\u001b[?25hInstalling collected packages: faker\n",
      "Successfully installed faker-33.0.0\n"
     ]
    }
   ],
   "source": [
    "!pip install faker\n"
   ]
  },
  {
   "cell_type": "code",
   "execution_count": 7,
   "id": "08cb5d2c-7309-4396-9e50-df57a0304a8f",
   "metadata": {},
   "outputs": [],
   "source": [
    "for _ in range(5):\n",
    "    SUITE_NO = f'{fake.random_int(1,99)}/{fake.random_int(1,70)}'"
   ]
  },
  {
   "cell_type": "code",
   "execution_count": 11,
   "id": "a12f8d19-f038-48bf-8e8a-8e198cdc907f",
   "metadata": {},
   "outputs": [],
   "source": [
    "    STREET_NAME = fake.street_name()"
   ]
  },
  {
   "cell_type": "code",
   "execution_count": 12,
   "id": "db471b94-d6c3-4458-8dce-e8817b2ed030",
   "metadata": {},
   "outputs": [
    {
     "name": "stdout",
     "output_type": "stream",
     "text": [
      "80/63 Kim Pike\n"
     ]
    }
   ],
   "source": [
    "print(f'{SUITE_NO} {STREET_NAME}')"
   ]
  },
  {
   "cell_type": "code",
   "execution_count": 13,
   "id": "4c810951-b2f3-428e-b1c0-5425fbd9eb50",
   "metadata": {},
   "outputs": [
    {
     "name": "stdout",
     "output_type": "stream",
     "text": [
      "80/63 Kim Pike\n"
     ]
    }
   ],
   "source": [
    "print(f'{SUITE_NO} {STREET_NAME}')"
   ]
  },
  {
   "cell_type": "code",
   "execution_count": 16,
   "id": "0391b7c9-a9e0-475b-9d6a-e34f0aa0b7c7",
   "metadata": {},
   "outputs": [],
   "source": [
    "for _ in range(5):\n",
    "    SUITE_NO = f'{fake.random_int(1,60)}/{fake.random_int(1,70)}'"
   ]
  },
  {
   "cell_type": "code",
   "execution_count": 17,
   "id": "8242852d-8b06-4f24-9625-c620d651e8be",
   "metadata": {},
   "outputs": [],
   "source": [
    "STREET_NAME = fake.street_name()"
   ]
  },
  {
   "cell_type": "code",
   "execution_count": 18,
   "id": "137f68ad-b799-4db9-94a3-8e58d5ff43ab",
   "metadata": {},
   "outputs": [
    {
     "name": "stdout",
     "output_type": "stream",
     "text": [
      "28/68 Sloan Hill\n"
     ]
    }
   ],
   "source": [
    "print(f'{SUITE_NO} {STREET_NAME}')"
   ]
  },
  {
   "cell_type": "code",
   "execution_count": 19,
   "id": "74030379-09d6-481b-a1aa-a4f39a7292ec",
   "metadata": {},
   "outputs": [],
   "source": [
    "STREET_NAME = fake.street_name()"
   ]
  },
  {
   "cell_type": "code",
   "execution_count": 20,
   "id": "8755f3d9-285e-4a55-864e-2bc35ae267d4",
   "metadata": {},
   "outputs": [
    {
     "name": "stdout",
     "output_type": "stream",
     "text": [
      "28/68 Lin Isle\n"
     ]
    }
   ],
   "source": [
    "print(f'{SUITE_NO} {STREET_NAME}')"
   ]
  },
  {
   "cell_type": "code",
   "execution_count": null,
   "id": "418e7fb9-ee38-4c78-b266-0ebde0378d9e",
   "metadata": {},
   "outputs": [],
   "source": []
  }
 ],
 "metadata": {
  "kernelspec": {
   "display_name": "Python 3 (ipykernel)",
   "language": "python",
   "name": "python3"
  },
  "language_info": {
   "codemirror_mode": {
    "name": "ipython",
    "version": 3
   },
   "file_extension": ".py",
   "mimetype": "text/x-python",
   "name": "python",
   "nbconvert_exporter": "python",
   "pygments_lexer": "ipython3",
   "version": "3.12.7"
  }
 },
 "nbformat": 4,
 "nbformat_minor": 5
}
