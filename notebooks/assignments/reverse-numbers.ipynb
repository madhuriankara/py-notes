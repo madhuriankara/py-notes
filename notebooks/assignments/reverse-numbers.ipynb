{
 "cells": [
  {
   "cell_type": "markdown",
   "id": "d6c9b832-985f-4ae5-ad69-55e3fd118813",
   "metadata": {},
   "source": [
    "6\n",
    "Reverse the given list"
   ]
  },
  {
   "cell_type": "code",
   "execution_count": 33,
   "id": "46e750bd-3aa1-4414-95f1-954add6f81e5",
   "metadata": {},
   "outputs": [],
   "source": [
    "def get_reverse_numbers():\n",
    "    result = []\n",
    "    for i in range(10,0,-1):\n",
    "        result.append(i)\n",
    "    return f'series of numbers is now listed: {result}'\n"
   ]
  },
  {
   "cell_type": "code",
   "execution_count": 34,
   "id": "ff96ff86-a59e-47c9-abe2-fc66a65fc2af",
   "metadata": {},
   "outputs": [
    {
     "data": {
      "text/plain": [
       "'series of numbers is now listed: [10, 9, 8, 7, 6, 5, 4, 3, 2, 1]'"
      ]
     },
     "execution_count": 34,
     "metadata": {},
     "output_type": "execute_result"
    }
   ],
   "source": [
    "get_reverse_numbers()"
   ]
  },
  {
   "cell_type": "code",
   "execution_count": null,
   "id": "dfe92a15-4c8f-4c52-8b0c-55b97948acc4",
   "metadata": {},
   "outputs": [],
   "source": []
  },
  {
   "cell_type": "code",
   "execution_count": null,
   "id": "ff2bfc93-4dba-4e6d-9eac-ca01732effab",
   "metadata": {},
   "outputs": [],
   "source": []
  }
 ],
 "metadata": {
  "kernelspec": {
   "display_name": "Python 3 (ipykernel)",
   "language": "python",
   "name": "python3"
  },
  "language_info": {
   "codemirror_mode": {
    "name": "ipython",
    "version": 3
   },
   "file_extension": ".py",
   "mimetype": "text/x-python",
   "name": "python",
   "nbconvert_exporter": "python",
   "pygments_lexer": "ipython3",
   "version": "3.12.7"
  }
 },
 "nbformat": 4,
 "nbformat_minor": 5
}
