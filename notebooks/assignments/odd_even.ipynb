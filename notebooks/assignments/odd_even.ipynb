{
 "cells": [
  {
   "cell_type": "code",
   "execution_count": 21,
   "id": "dc75c9f3-272c-4a0b-b8eb-eab7ee93eb1b",
   "metadata": {},
   "outputs": [
    {
     "name": "stdout",
     "output_type": "stream",
     "text": [
      "The number 0 is even\n",
      "The number 1 is odd\n",
      "The number 2 is even\n",
      "The number 3 is odd\n",
      "The number 4 is even\n",
      "The number 5 is odd\n",
      "The number 6 is even\n",
      "The number 7 is odd\n",
      "The number 8 is even\n",
      "The number 9 is odd\n"
     ]
    }
   ],
   "source": [
    "def odd_even():\n",
    "    for i in range(10):      \n",
    "        if i % 2 == 0:\n",
    "              print(f\"The number {i} is even\")\n",
    "        else:\n",
    "            print(f\"The number {i} is odd\")\n",
    "odd_even()"
   ]
  },
  {
   "cell_type": "code",
   "execution_count": null,
   "id": "e0473b84-e236-48ae-9712-5e15f71623bf",
   "metadata": {},
   "outputs": [],
   "source": []
  },
  {
   "cell_type": "code",
   "execution_count": null,
   "id": "317bd27b-1b5b-4297-8d3d-ea3c87b77750",
   "metadata": {},
   "outputs": [],
   "source": []
  },
  {
   "cell_type": "code",
   "execution_count": null,
   "id": "7b374201-1b3b-4cd5-8086-d8fe9a28e4a0",
   "metadata": {},
   "outputs": [],
   "source": []
  },
  {
   "cell_type": "code",
   "execution_count": null,
   "id": "6be3f837-43f5-4619-acfb-f2f0027e01eb",
   "metadata": {},
   "outputs": [],
   "source": []
  },
  {
   "cell_type": "code",
   "execution_count": null,
   "id": "e412d1dd-b1eb-4a01-ae5d-5952dc746f4c",
   "metadata": {},
   "outputs": [],
   "source": []
  }
 ],
 "metadata": {
  "kernelspec": {
   "display_name": "Python 3 (ipykernel)",
   "language": "python",
   "name": "python3"
  },
  "language_info": {
   "codemirror_mode": {
    "name": "ipython",
    "version": 3
   },
   "file_extension": ".py",
   "mimetype": "text/x-python",
   "name": "python",
   "nbconvert_exporter": "python",
   "pygments_lexer": "ipython3",
   "version": "3.12.7"
  }
 },
 "nbformat": 4,
 "nbformat_minor": 5
}
