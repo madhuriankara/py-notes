{
 "cells": [
  {
   "cell_type": "markdown",
   "id": "20733caa-1a67-4120-a9cb-9dfa39dfc962",
   "metadata": {},
   "source": [
    "word count\n",
    "Nov 20 2024"
   ]
  },
  {
   "cell_type": "code",
   "execution_count": 32,
   "id": "31206742-ba89-4ff2-9d72-ab888456b3cb",
   "metadata": {},
   "outputs": [
    {
     "name": "stdout",
     "output_type": "stream",
     "text": [
      "2\n"
     ]
    }
   ],
   "source": [
    "def word_count(word):\n",
    "    word_list = word.split()\n",
    "\n",
    "    return len(word_list)\n",
    "print(word_count(\"hello world\"))  "
   ]
  },
  {
   "cell_type": "code",
   "execution_count": 33,
   "id": "7c550c7b-34be-4e7c-a2d4-97f91087c9cf",
   "metadata": {},
   "outputs": [
    {
     "name": "stdout",
     "output_type": "stream",
     "text": [
      "4\n"
     ]
    }
   ],
   "source": [
    "print(word_count(\"My name is Madhuri\"))  "
   ]
  },
  {
   "cell_type": "code",
   "execution_count": 34,
   "id": "09e17bdc-cd91-4bd6-be38-e589550358ec",
   "metadata": {},
   "outputs": [
    {
     "name": "stdout",
     "output_type": "stream",
     "text": [
      "9\n"
     ]
    }
   ],
   "source": [
    "print(word_count(\"List all the values that are between 2 cities\"))  "
   ]
  },
  {
   "cell_type": "code",
   "execution_count": null,
   "id": "347a53c2-fe82-455b-8b98-d928704cc5e9",
   "metadata": {},
   "outputs": [],
   "source": []
  }
 ],
 "metadata": {
  "kernelspec": {
   "display_name": "Python 3 (ipykernel)",
   "language": "python",
   "name": "python3"
  },
  "language_info": {
   "codemirror_mode": {
    "name": "ipython",
    "version": 3
   },
   "file_extension": ".py",
   "mimetype": "text/x-python",
   "name": "python",
   "nbconvert_exporter": "python",
   "pygments_lexer": "ipython3",
   "version": "3.12.7"
  }
 },
 "nbformat": 4,
 "nbformat_minor": 5
}
