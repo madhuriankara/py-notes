{
 "cells": [
  {
   "cell_type": "markdown",
   "id": "8ce37ee8-4906-4858-9eb5-99df240004a6",
   "metadata": {},
   "source": [
    "Assignment 3\n",
    " Check Leap Year\n",
    "Write a program that:\n",
    "\n",
    "Takes a year as input.\n",
    "Checks if it is a leap year or not.\n",
    "Prints \"Leap Year\" or \"Not a Leap Year.\"\n"
   ]
  },
  {
   "cell_type": "code",
   "execution_count": 10,
   "id": "74dfb3fb-1b8e-4743-88fb-c04dd19aa9c1",
   "metadata": {},
   "outputs": [
    {
     "data": {
      "text/plain": [
       "'2024 is leap year'"
      ]
     },
     "execution_count": 10,
     "metadata": {},
     "output_type": "execute_result"
    }
   ],
   "source": [
    "def get_leap_year(year):\n",
    "        if year % 4 ==0:\n",
    "            return f'{year} is leap year'\n",
    "        else:\n",
    "            return f'{year} is not a leap year'\n",
    "get_leap_year(2024)"
   ]
  },
  {
   "cell_type": "code",
   "execution_count": null,
   "id": "e817d62f-360f-4acd-9d64-8417b17e75fa",
   "metadata": {},
   "outputs": [],
   "source": []
  }
 ],
 "metadata": {
  "kernelspec": {
   "display_name": "Python 3 (ipykernel)",
   "language": "python",
   "name": "python3"
  },
  "language_info": {
   "codemirror_mode": {
    "name": "ipython",
    "version": 3
   },
   "file_extension": ".py",
   "mimetype": "text/x-python",
   "name": "python",
   "nbconvert_exporter": "python",
   "pygments_lexer": "ipython3",
   "version": "3.12.7"
  }
 },
 "nbformat": 4,
 "nbformat_minor": 5
}
