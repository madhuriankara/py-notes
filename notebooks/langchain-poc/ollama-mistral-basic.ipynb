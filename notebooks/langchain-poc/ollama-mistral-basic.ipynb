{
 "cells": [
  {
   "cell_type": "code",
   "execution_count": 1,
   "id": "32504e68-87b9-4790-b99f-94811ccb693f",
   "metadata": {},
   "outputs": [
    {
     "name": "stdout",
     "output_type": "stream",
     "text": [
      "Python 3.12.7\n"
     ]
    }
   ],
   "source": [
    "!python --version"
   ]
  },
  {
   "cell_type": "code",
   "execution_count": 2,
   "id": "7f285a1d-c99c-4e1f-824b-2b7a6149a044",
   "metadata": {},
   "outputs": [
    {
     "name": "stdout",
     "output_type": "stream",
     "text": [
      "Version: 0.3.8\n"
     ]
    }
   ],
   "source": [
    "!pip show langchain | grep \"Version:\""
   ]
  },
  {
   "cell_type": "code",
   "execution_count": 3,
   "id": "e8c34986-87e8-43f2-8ffe-0b929270ad66",
   "metadata": {},
   "outputs": [
    {
     "data": {
      "text/plain": [
       "'py312'"
      ]
     },
     "execution_count": 3,
     "metadata": {},
     "output_type": "execute_result"
    }
   ],
   "source": [
    "import os\n",
    "os.environ.get(\"CONDA_DEFAULT_ENV\")"
   ]
  },
  {
   "cell_type": "code",
   "execution_count": 4,
   "id": "9c407076-aa75-418d-a69e-c1b28e5c3446",
   "metadata": {},
   "outputs": [
    {
     "name": "stdout",
     "output_type": "stream",
     "text": [
      "\u001b[33mWARNING: Package(s) not found: langchain-community\u001b[0m\u001b[33m\n",
      "\u001b[0m"
     ]
    }
   ],
   "source": [
    "!pip show langchain-community | grep \"Version:\""
   ]
  },
  {
   "cell_type": "code",
   "execution_count": 5,
   "id": "6ed4e2d4-5502-4734-ab54-7ebf5252dfd8",
   "metadata": {},
   "outputs": [
    {
     "name": "stdout",
     "output_type": "stream",
     "text": [
      "Collecting langchain-community==0.3.8\n",
      "  Downloading langchain_community-0.3.8-py3-none-any.whl.metadata (2.9 kB)\n",
      "Requirement already satisfied: PyYAML>=5.3 in /opt/homebrew/Caskroom/miniconda/base/envs/py312/lib/python3.12/site-packages (from langchain-community==0.3.8) (6.0.2)\n",
      "Collecting SQLAlchemy<2.0.36,>=1.4 (from langchain-community==0.3.8)\n",
      "  Downloading SQLAlchemy-2.0.35-cp312-cp312-macosx_11_0_arm64.whl.metadata (9.6 kB)\n",
      "Requirement already satisfied: aiohttp<4.0.0,>=3.8.3 in /opt/homebrew/Caskroom/miniconda/base/envs/py312/lib/python3.12/site-packages (from langchain-community==0.3.8) (3.11.7)\n",
      "Collecting dataclasses-json<0.7,>=0.5.7 (from langchain-community==0.3.8)\n",
      "  Downloading dataclasses_json-0.6.7-py3-none-any.whl.metadata (25 kB)\n",
      "Collecting httpx-sse<0.5.0,>=0.4.0 (from langchain-community==0.3.8)\n",
      "  Downloading httpx_sse-0.4.0-py3-none-any.whl.metadata (9.0 kB)\n",
      "Requirement already satisfied: langchain<0.4.0,>=0.3.8 in /opt/homebrew/Caskroom/miniconda/base/envs/py312/lib/python3.12/site-packages (from langchain-community==0.3.8) (0.3.8)\n",
      "Requirement already satisfied: langchain-core<0.4.0,>=0.3.21 in /opt/homebrew/Caskroom/miniconda/base/envs/py312/lib/python3.12/site-packages (from langchain-community==0.3.8) (0.3.21)\n",
      "Requirement already satisfied: langsmith<0.2.0,>=0.1.125 in /opt/homebrew/Caskroom/miniconda/base/envs/py312/lib/python3.12/site-packages (from langchain-community==0.3.8) (0.1.145)\n",
      "Requirement already satisfied: numpy<2,>=1.26.2 in /opt/homebrew/Caskroom/miniconda/base/envs/py312/lib/python3.12/site-packages (from langchain-community==0.3.8) (1.26.4)\n",
      "Collecting pydantic-settings<3.0.0,>=2.4.0 (from langchain-community==0.3.8)\n",
      "  Downloading pydantic_settings-2.6.1-py3-none-any.whl.metadata (3.5 kB)\n",
      "Requirement already satisfied: requests<3,>=2 in /opt/homebrew/Caskroom/miniconda/base/envs/py312/lib/python3.12/site-packages (from langchain-community==0.3.8) (2.32.3)\n",
      "Requirement already satisfied: tenacity!=8.4.0,<10,>=8.1.0 in /opt/homebrew/Caskroom/miniconda/base/envs/py312/lib/python3.12/site-packages (from langchain-community==0.3.8) (9.0.0)\n",
      "Requirement already satisfied: aiohappyeyeballs>=2.3.0 in /opt/homebrew/Caskroom/miniconda/base/envs/py312/lib/python3.12/site-packages (from aiohttp<4.0.0,>=3.8.3->langchain-community==0.3.8) (2.4.3)\n",
      "Requirement already satisfied: aiosignal>=1.1.2 in /opt/homebrew/Caskroom/miniconda/base/envs/py312/lib/python3.12/site-packages (from aiohttp<4.0.0,>=3.8.3->langchain-community==0.3.8) (1.3.1)\n",
      "Requirement already satisfied: attrs>=17.3.0 in /opt/homebrew/Caskroom/miniconda/base/envs/py312/lib/python3.12/site-packages (from aiohttp<4.0.0,>=3.8.3->langchain-community==0.3.8) (24.2.0)\n",
      "Requirement already satisfied: frozenlist>=1.1.1 in /opt/homebrew/Caskroom/miniconda/base/envs/py312/lib/python3.12/site-packages (from aiohttp<4.0.0,>=3.8.3->langchain-community==0.3.8) (1.5.0)\n",
      "Requirement already satisfied: multidict<7.0,>=4.5 in /opt/homebrew/Caskroom/miniconda/base/envs/py312/lib/python3.12/site-packages (from aiohttp<4.0.0,>=3.8.3->langchain-community==0.3.8) (6.1.0)\n",
      "Requirement already satisfied: propcache>=0.2.0 in /opt/homebrew/Caskroom/miniconda/base/envs/py312/lib/python3.12/site-packages (from aiohttp<4.0.0,>=3.8.3->langchain-community==0.3.8) (0.2.0)\n",
      "Requirement already satisfied: yarl<2.0,>=1.17.0 in /opt/homebrew/Caskroom/miniconda/base/envs/py312/lib/python3.12/site-packages (from aiohttp<4.0.0,>=3.8.3->langchain-community==0.3.8) (1.18.0)\n",
      "Collecting marshmallow<4.0.0,>=3.18.0 (from dataclasses-json<0.7,>=0.5.7->langchain-community==0.3.8)\n",
      "  Downloading marshmallow-3.23.1-py3-none-any.whl.metadata (7.5 kB)\n",
      "Collecting typing-inspect<1,>=0.4.0 (from dataclasses-json<0.7,>=0.5.7->langchain-community==0.3.8)\n",
      "  Downloading typing_inspect-0.9.0-py3-none-any.whl.metadata (1.5 kB)\n",
      "Requirement already satisfied: langchain-text-splitters<0.4.0,>=0.3.0 in /opt/homebrew/Caskroom/miniconda/base/envs/py312/lib/python3.12/site-packages (from langchain<0.4.0,>=0.3.8->langchain-community==0.3.8) (0.3.2)\n",
      "Requirement already satisfied: pydantic<3.0.0,>=2.7.4 in /opt/homebrew/Caskroom/miniconda/base/envs/py312/lib/python3.12/site-packages (from langchain<0.4.0,>=0.3.8->langchain-community==0.3.8) (2.10.0)\n",
      "Requirement already satisfied: jsonpatch<2.0,>=1.33 in /opt/homebrew/Caskroom/miniconda/base/envs/py312/lib/python3.12/site-packages (from langchain-core<0.4.0,>=0.3.21->langchain-community==0.3.8) (1.33)\n",
      "Requirement already satisfied: packaging<25,>=23.2 in /opt/homebrew/Caskroom/miniconda/base/envs/py312/lib/python3.12/site-packages (from langchain-core<0.4.0,>=0.3.21->langchain-community==0.3.8) (24.1)\n",
      "Requirement already satisfied: typing-extensions>=4.7 in /opt/homebrew/Caskroom/miniconda/base/envs/py312/lib/python3.12/site-packages (from langchain-core<0.4.0,>=0.3.21->langchain-community==0.3.8) (4.12.2)\n",
      "Requirement already satisfied: httpx<1,>=0.23.0 in /opt/homebrew/Caskroom/miniconda/base/envs/py312/lib/python3.12/site-packages (from langsmith<0.2.0,>=0.1.125->langchain-community==0.3.8) (0.27.2)\n",
      "Requirement already satisfied: orjson<4.0.0,>=3.9.14 in /opt/homebrew/Caskroom/miniconda/base/envs/py312/lib/python3.12/site-packages (from langsmith<0.2.0,>=0.1.125->langchain-community==0.3.8) (3.10.12)\n",
      "Requirement already satisfied: requests-toolbelt<2.0.0,>=1.0.0 in /opt/homebrew/Caskroom/miniconda/base/envs/py312/lib/python3.12/site-packages (from langsmith<0.2.0,>=0.1.125->langchain-community==0.3.8) (1.0.0)\n",
      "Requirement already satisfied: python-dotenv>=0.21.0 in /opt/homebrew/Caskroom/miniconda/base/envs/py312/lib/python3.12/site-packages (from pydantic-settings<3.0.0,>=2.4.0->langchain-community==0.3.8) (0.21.0)\n",
      "Requirement already satisfied: charset-normalizer<4,>=2 in /opt/homebrew/Caskroom/miniconda/base/envs/py312/lib/python3.12/site-packages (from requests<3,>=2->langchain-community==0.3.8) (3.4.0)\n",
      "Requirement already satisfied: idna<4,>=2.5 in /opt/homebrew/Caskroom/miniconda/base/envs/py312/lib/python3.12/site-packages (from requests<3,>=2->langchain-community==0.3.8) (3.10)\n",
      "Requirement already satisfied: urllib3<3,>=1.21.1 in /opt/homebrew/Caskroom/miniconda/base/envs/py312/lib/python3.12/site-packages (from requests<3,>=2->langchain-community==0.3.8) (2.2.3)\n",
      "Requirement already satisfied: certifi>=2017.4.17 in /opt/homebrew/Caskroom/miniconda/base/envs/py312/lib/python3.12/site-packages (from requests<3,>=2->langchain-community==0.3.8) (2024.8.30)\n",
      "Requirement already satisfied: anyio in /opt/homebrew/Caskroom/miniconda/base/envs/py312/lib/python3.12/site-packages (from httpx<1,>=0.23.0->langsmith<0.2.0,>=0.1.125->langchain-community==0.3.8) (4.6.2.post1)\n",
      "Requirement already satisfied: httpcore==1.* in /opt/homebrew/Caskroom/miniconda/base/envs/py312/lib/python3.12/site-packages (from httpx<1,>=0.23.0->langsmith<0.2.0,>=0.1.125->langchain-community==0.3.8) (1.0.6)\n",
      "Requirement already satisfied: sniffio in /opt/homebrew/Caskroom/miniconda/base/envs/py312/lib/python3.12/site-packages (from httpx<1,>=0.23.0->langsmith<0.2.0,>=0.1.125->langchain-community==0.3.8) (1.3.1)\n",
      "Requirement already satisfied: h11<0.15,>=0.13 in /opt/homebrew/Caskroom/miniconda/base/envs/py312/lib/python3.12/site-packages (from httpcore==1.*->httpx<1,>=0.23.0->langsmith<0.2.0,>=0.1.125->langchain-community==0.3.8) (0.14.0)\n",
      "Requirement already satisfied: jsonpointer>=1.9 in /opt/homebrew/Caskroom/miniconda/base/envs/py312/lib/python3.12/site-packages (from jsonpatch<2.0,>=1.33->langchain-core<0.4.0,>=0.3.21->langchain-community==0.3.8) (3.0.0)\n",
      "Requirement already satisfied: annotated-types>=0.6.0 in /opt/homebrew/Caskroom/miniconda/base/envs/py312/lib/python3.12/site-packages (from pydantic<3.0.0,>=2.7.4->langchain<0.4.0,>=0.3.8->langchain-community==0.3.8) (0.7.0)\n",
      "Requirement already satisfied: pydantic-core==2.27.0 in /opt/homebrew/Caskroom/miniconda/base/envs/py312/lib/python3.12/site-packages (from pydantic<3.0.0,>=2.7.4->langchain<0.4.0,>=0.3.8->langchain-community==0.3.8) (2.27.0)\n",
      "Collecting mypy-extensions>=0.3.0 (from typing-inspect<1,>=0.4.0->dataclasses-json<0.7,>=0.5.7->langchain-community==0.3.8)\n",
      "  Downloading mypy_extensions-1.0.0-py3-none-any.whl.metadata (1.1 kB)\n",
      "Downloading langchain_community-0.3.8-py3-none-any.whl (2.4 MB)\n",
      "\u001b[2K   \u001b[38;2;114;156;31m━━━━━━━━━━━━━━━━━━━━━━━━━━━━━━━━━━━━━━━━\u001b[0m \u001b[32m2.4/2.4 MB\u001b[0m \u001b[31m31.4 MB/s\u001b[0m eta \u001b[36m0:00:00\u001b[0m\n",
      "\u001b[?25hDownloading dataclasses_json-0.6.7-py3-none-any.whl (28 kB)\n",
      "Downloading httpx_sse-0.4.0-py3-none-any.whl (7.8 kB)\n",
      "Downloading pydantic_settings-2.6.1-py3-none-any.whl (28 kB)\n",
      "Downloading SQLAlchemy-2.0.35-cp312-cp312-macosx_11_0_arm64.whl (2.1 MB)\n",
      "\u001b[2K   \u001b[38;2;114;156;31m━━━━━━━━━━━━━━━━━━━━━━━━━━━━━━━━━━━━━━━━\u001b[0m \u001b[32m2.1/2.1 MB\u001b[0m \u001b[31m77.1 MB/s\u001b[0m eta \u001b[36m0:00:00\u001b[0m\n",
      "\u001b[?25hDownloading marshmallow-3.23.1-py3-none-any.whl (49 kB)\n",
      "Downloading typing_inspect-0.9.0-py3-none-any.whl (8.8 kB)\n",
      "Downloading mypy_extensions-1.0.0-py3-none-any.whl (4.7 kB)\n",
      "Installing collected packages: SQLAlchemy, mypy-extensions, marshmallow, httpx-sse, typing-inspect, pydantic-settings, dataclasses-json, langchain-community\n",
      "  Attempting uninstall: SQLAlchemy\n",
      "    Found existing installation: SQLAlchemy 2.0.36\n",
      "    Uninstalling SQLAlchemy-2.0.36:\n",
      "      Successfully uninstalled SQLAlchemy-2.0.36\n",
      "Successfully installed SQLAlchemy-2.0.35 dataclasses-json-0.6.7 httpx-sse-0.4.0 langchain-community-0.3.8 marshmallow-3.23.1 mypy-extensions-1.0.0 pydantic-settings-2.6.1 typing-inspect-0.9.0\n"
     ]
    }
   ],
   "source": [
    "!pip install langchain-community==0.3.8"
   ]
  },
  {
   "cell_type": "code",
   "execution_count": 6,
   "id": "d2a03de5-3523-4ec9-b378-1e64d6d5b144",
   "metadata": {},
   "outputs": [
    {
     "name": "stdout",
     "output_type": "stream",
     "text": [
      "Version: 0.3.8\n"
     ]
    }
   ],
   "source": [
    "!pip show langchain-community | grep \"Version:\""
   ]
  },
  {
   "cell_type": "code",
   "execution_count": 7,
   "id": "5fbd899a-2c4b-4a5f-a93f-36048f6b71a5",
   "metadata": {},
   "outputs": [],
   "source": [
    "from langchain.llms import Ollama\n",
    "from langchain.prompts import PromptTemplate\n",
    "from langchain.chains import LLMChain"
   ]
  },
  {
   "cell_type": "code",
   "execution_count": 8,
   "id": "7e26a56d-c7f3-47b5-97e9-5ea24b3a456a",
   "metadata": {},
   "outputs": [
    {
     "name": "stderr",
     "output_type": "stream",
     "text": [
      "/var/folders/26/1_zstvd1579g9j700z2jnmp40000gn/T/ipykernel_16160/2585788740.py:1: LangChainDeprecationWarning: The class `Ollama` was deprecated in LangChain 0.3.1 and will be removed in 1.0.0. An updated version of the class exists in the :class:`~langchain-ollama package and should be used instead. To use it run `pip install -U :class:`~langchain-ollama` and import as `from :class:`~langchain_ollama import OllamaLLM``.\n",
      "  llm = Ollama(model=\"mistral\", base_url=\"http://localhost:11434\")\n"
     ]
    }
   ],
   "source": [
    "llm = Ollama(model=\"mistral\", base_url=\"http://localhost:11434\")"
   ]
  },
  {
   "cell_type": "code",
   "execution_count": 9,
   "id": "d21cdd6a-62d6-44ae-8737-8dce82d9a0bf",
   "metadata": {},
   "outputs": [
    {
     "data": {
      "text/plain": [
       "Ollama(model='mistral')"
      ]
     },
     "execution_count": 9,
     "metadata": {},
     "output_type": "execute_result"
    }
   ],
   "source": [
    "llm"
   ]
  },
  {
   "cell_type": "code",
   "execution_count": 10,
   "id": "1a778950-d89c-4d6c-9724-b5612cbbdc6d",
   "metadata": {},
   "outputs": [],
   "source": [
    "# Define a prompt template\n",
    "template = \"\"\"\n",
    "You are a helpful assistant. Please provide a short explanation of the following topic:\n",
    "\n",
    "{topic}\n",
    "\"\"\""
   ]
  },
  {
   "cell_type": "code",
   "execution_count": 11,
   "id": "6938dd40-0642-4668-a828-071f72708fe7",
   "metadata": {},
   "outputs": [],
   "source": [
    "prompt = PromptTemplate(\n",
    "    input_variables=[\"topic\"],\n",
    "    template=template,\n",
    ")\n"
   ]
  },
  {
   "cell_type": "code",
   "execution_count": 12,
   "id": "41acd4cf-a646-4da0-ba89-357e8d62e508",
   "metadata": {},
   "outputs": [
    {
     "name": "stderr",
     "output_type": "stream",
     "text": [
      "/var/folders/26/1_zstvd1579g9j700z2jnmp40000gn/T/ipykernel_16160/4149722537.py:1: LangChainDeprecationWarning: The class `LLMChain` was deprecated in LangChain 0.1.17 and will be removed in 1.0. Use :meth:`~RunnableSequence, e.g., `prompt | llm`` instead.\n",
      "  llm_chain = LLMChain(llm=llm, prompt=prompt)\n"
     ]
    }
   ],
   "source": [
    "llm_chain = LLMChain(llm=llm, prompt=prompt)"
   ]
  },
  {
   "cell_type": "code",
   "execution_count": 14,
   "id": "0b0b36e0-5293-48ab-bd52-fa0ae645cb81",
   "metadata": {},
   "outputs": [
    {
     "data": {
      "text/plain": [
       "' The Brazilian Forest, more specifically known as the Amazon Rainforest or Amazonia, is the world\\'s largest tropical rainforest, covering most of northwest Brazil and extending into Colombia, Peru, and other South American nations. It spans approximately 6.7 million square kilometers (2.6 million square miles), representing over half of the world\\'s remaining rainforests.\\n\\n   The Amazon Rainforest is often referred to as the \"lungs of the Earth\" due to its significant role in the global carbon cycle. It produces about 20% of the world\\'s oxygen and absorbs an estimated 2.2 billion metric tons of CO2 each year, helping combat climate change.\\n\\n   The Amazon is home to an immense variety of flora and fauna, with around 400 billion individual trees representing 16,000 species. It is believed that the forest may contain as much as 390 billion individual trees. Furthermore, it is inhabited by thousands of indigenous tribes who have developed a unique and rich culture in harmony with the rainforest.\\n\\n   However, the Amazon Rainforest faces numerous threats such as deforestation due to logging and agriculture (especially cattle ranching), mining activities, and infrastructure development. These human activities not only endanger the preservation of countless species but also contribute significantly to climate change by releasing stored carbon dioxide into the atmosphere.\\n\\n   Preservation efforts for the Amazon Rainforest are critical to maintain biodiversity, combat climate change, and support indigenous communities who rely on the forest for their livelihoods. Various initiatives have been established to protect the rainforest through reforestation projects, sustainable agriculture practices, and legal protections of indigenous lands.'"
      ]
     },
     "execution_count": 14,
     "metadata": {},
     "output_type": "execute_result"
    }
   ],
   "source": [
    "topic = \"About brazil forest\"\n",
    "llm_chain.run(topic=topic)"
   ]
  },
  {
   "cell_type": "code",
   "execution_count": 16,
   "id": "1e672970-cf79-423a-8c43-4e76e38df349",
   "metadata": {},
   "outputs": [
    {
     "data": {
      "text/plain": [
       "' The Amazon Forest, also known as the Amazon Rainforest or Amazonia, is the world\\'s largest tropical rainforest, spanning over 6.7 million square kilometers (2.6 million square miles) in South America. It is primarily located within Brazil but extends into nine other neighboring countries: Peru, Colombia, Venezuela, Ecuador, Bolivia, Guyana, Suriname, French Guiana (a department of France), and Paraguay.\\n\\n   This vast forest is home to an extraordinary level of biodiversity. It is estimated that there are more than 400 billion individual trees belonging to over 16,000 species. The Amazon is also known for its rich wildlife; among the many animals living within it are jaguars, anacondas, sloths, various monkeys, and countless bird species. Additionally, there are thought to be millions of insect species residing in the forest.\\n\\n   The Amazon Forest plays a critical role in regulating Earth\\'s climate as it absorbs large amounts of carbon dioxide and releases oxygen through photosynthesis. It is often referred to as the \"lungs of the Earth.\" However, deforestation poses significant threats to the Amazon Rainforest, leading to habitat loss for its rich biodiversity and contributing to climate change due to the release of stored carbon dioxide when trees are cut down.'"
      ]
     },
     "execution_count": 16,
     "metadata": {},
     "output_type": "execute_result"
    }
   ],
   "source": [
    "topic = \"Amazon forest\"\n",
    "llm_chain.run(topic=topic)"
   ]
  },
  {
   "cell_type": "code",
   "execution_count": null,
   "id": "5db7cf2e-123a-4ad5-a2a7-010a40ab3ec1",
   "metadata": {},
   "outputs": [],
   "source": []
  }
 ],
 "metadata": {
  "kernelspec": {
   "display_name": "Python 3 (ipykernel)",
   "language": "python",
   "name": "python3"
  },
  "language_info": {
   "codemirror_mode": {
    "name": "ipython",
    "version": 3
   },
   "file_extension": ".py",
   "mimetype": "text/x-python",
   "name": "python",
   "nbconvert_exporter": "python",
   "pygments_lexer": "ipython3",
   "version": "3.12.7"
  }
 },
 "nbformat": 4,
 "nbformat_minor": 5
}
