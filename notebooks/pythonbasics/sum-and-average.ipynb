{
 "cells": [
  {
   "cell_type": "code",
   "execution_count": 11,
   "id": "921f073c-70ed-4a1f-873d-c801eff2d26e",
   "metadata": {},
   "outputs": [
    {
     "data": {
      "text/plain": [
       "30"
      ]
     },
     "execution_count": 11,
     "metadata": {},
     "output_type": "execute_result"
    }
   ],
   "source": [
    "def get_sum_average():\n",
    "    list = [2, 4, 6, 8, 10]\n",
    "    for i in list:\n",
    "        return sum(list)\n",
    "get_sum_average()"
   ]
  },
  {
   "cell_type": "code",
   "execution_count": null,
   "id": "5712344a-c720-4b02-9f04-a5d841e39c1b",
   "metadata": {},
   "outputs": [],
   "source": []
  }
 ],
 "metadata": {
  "kernelspec": {
   "display_name": "Python 3 (ipykernel)",
   "language": "python",
   "name": "python3"
  },
  "language_info": {
   "codemirror_mode": {
    "name": "ipython",
    "version": 3
   },
   "file_extension": ".py",
   "mimetype": "text/x-python",
   "name": "python",
   "nbconvert_exporter": "python",
   "pygments_lexer": "ipython3",
   "version": "3.12.7"
  }
 },
 "nbformat": 4,
 "nbformat_minor": 5
}
