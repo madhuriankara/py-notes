{
 "cells": [
  {
   "cell_type": "code",
   "execution_count": 1,
   "id": "dda818cd-1a42-4c75-9416-27122e452c22",
   "metadata": {},
   "outputs": [],
   "source": [
    "#Remove all elements from a list that are greater than a given threshold"
   ]
  },
  {
   "cell_type": "code",
   "execution_count": 15,
   "id": "a2b1b5b5-6811-4eb0-8d7f-d21668e4ef2e",
   "metadata": {},
   "outputs": [
    {
     "data": {
      "text/plain": [
       "[1, 2, 5, 3]"
      ]
     },
     "execution_count": 15,
     "metadata": {},
     "output_type": "execute_result"
    }
   ],
   "source": [
    "def remove_elements():\n",
    "    lst = [1, 2, 5, 7, 3, 9]\n",
    "    threshold = 5\n",
    "    lst = [i for i in lst if i <= threshold]\n",
    "    return lst\n",
    "remove_elements()"
   ]
  },
  {
   "cell_type": "code",
   "execution_count": null,
   "id": "e42be45c-e86a-4df4-b943-bf14f7ba5093",
   "metadata": {},
   "outputs": [],
   "source": []
  }
 ],
 "metadata": {
  "kernelspec": {
   "display_name": "Python 3 (ipykernel)",
   "language": "python",
   "name": "python3"
  },
  "language_info": {
   "codemirror_mode": {
    "name": "ipython",
    "version": 3
   },
   "file_extension": ".py",
   "mimetype": "text/x-python",
   "name": "python",
   "nbconvert_exporter": "python",
   "pygments_lexer": "ipython3",
   "version": "3.12.7"
  }
 },
 "nbformat": 4,
 "nbformat_minor": 5
}
