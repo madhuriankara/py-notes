{
 "cells": [
  {
   "cell_type": "code",
   "execution_count": 1,
   "id": "5c1e569e-c600-4135-87cd-4f0b4325cfd0",
   "metadata": {},
   "outputs": [],
   "source": [
    "#Flatten a nested list"
   ]
  },
  {
   "cell_type": "code",
   "execution_count": 11,
   "id": "cf14257d-43aa-4d70-94b4-45c9990a4e8f",
   "metadata": {},
   "outputs": [
    {
     "data": {
      "text/plain": [
       "(1, 2, 3, 4, 5, 6)"
      ]
     },
     "execution_count": 11,
     "metadata": {},
     "output_type": "execute_result"
    }
   ],
   "source": [
    "def nested_list():\n",
    "    lst = [[1, 2, 3], [4, 5], [6]]\n",
    "    a = tuple(i for sublist in lst for i in sublist) \n",
    "    return a \n",
    "nested_list()"
   ]
  },
  {
   "cell_type": "code",
   "execution_count": null,
   "id": "3f9a8aa1-e37d-43c7-b67a-5bb23974eedd",
   "metadata": {},
   "outputs": [],
   "source": []
  }
 ],
 "metadata": {
  "kernelspec": {
   "display_name": "Python 3 (ipykernel)",
   "language": "python",
   "name": "python3"
  },
  "language_info": {
   "codemirror_mode": {
    "name": "ipython",
    "version": 3
   },
   "file_extension": ".py",
   "mimetype": "text/x-python",
   "name": "python",
   "nbconvert_exporter": "python",
   "pygments_lexer": "ipython3",
   "version": "3.12.7"
  }
 },
 "nbformat": 4,
 "nbformat_minor": 5
}
