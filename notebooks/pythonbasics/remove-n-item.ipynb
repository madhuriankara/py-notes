{
 "cells": [
  {
   "cell_type": "code",
   "execution_count": 15,
   "id": "eeefe8e6-ff80-415b-a1e0-d2525d990d27",
   "metadata": {},
   "outputs": [
    {
     "data": {
      "text/plain": [
       "[1, 2, 4, 5, 6, 7, 8]"
      ]
     },
     "execution_count": 15,
     "metadata": {},
     "output_type": "execute_result"
    }
   ],
   "source": [
    "def remove_n_item():\n",
    "    lst = [1, 2, 3, 4, 5, 6, 7, 8]\n",
    "    item = 3\n",
    "    lst.remove(item)\n",
    "    return lst\n",
    "remove_n_item()"
   ]
  },
  {
   "cell_type": "code",
   "execution_count": null,
   "id": "9ee4e41c-0eb6-4fcc-b6ad-bb8f578e1276",
   "metadata": {},
   "outputs": [],
   "source": []
  }
 ],
 "metadata": {
  "kernelspec": {
   "display_name": "Python 3 (ipykernel)",
   "language": "python",
   "name": "python3"
  },
  "language_info": {
   "codemirror_mode": {
    "name": "ipython",
    "version": 3
   },
   "file_extension": ".py",
   "mimetype": "text/x-python",
   "name": "python",
   "nbconvert_exporter": "python",
   "pygments_lexer": "ipython3",
   "version": "3.12.7"
  }
 },
 "nbformat": 4,
 "nbformat_minor": 5
}
