{
 "cells": [
  {
   "cell_type": "code",
   "execution_count": 1,
   "id": "25761e4f-a13f-4dbe-9382-3318d360e0a4",
   "metadata": {},
   "outputs": [],
   "source": [
    "#Create a list of tuples where each tuple contains a number and its square"
   ]
  },
  {
   "cell_type": "code",
   "execution_count": 7,
   "id": "7a950c2e-981e-4bd2-95cc-36cd7c312d98",
   "metadata": {},
   "outputs": [
    {
     "data": {
      "text/plain": [
       "(1, 4, 9, 16)"
      ]
     },
     "execution_count": 7,
     "metadata": {},
     "output_type": "execute_result"
    }
   ],
   "source": [
    "def create_tuple():\n",
    "    lst = [1, 2, 3, 4]\n",
    "    squares = tuple(i ** 2 for i in lst)\n",
    "    return squares\n",
    "create_tuple()"
   ]
  },
  {
   "cell_type": "code",
   "execution_count": null,
   "id": "1f44dc98-a710-476c-a23b-e3433ff8e3b4",
   "metadata": {},
   "outputs": [],
   "source": []
  }
 ],
 "metadata": {
  "kernelspec": {
   "display_name": "Python 3 (ipykernel)",
   "language": "python",
   "name": "python3"
  },
  "language_info": {
   "codemirror_mode": {
    "name": "ipython",
    "version": 3
   },
   "file_extension": ".py",
   "mimetype": "text/x-python",
   "name": "python",
   "nbconvert_exporter": "python",
   "pygments_lexer": "ipython3",
   "version": "3.12.7"
  }
 },
 "nbformat": 4,
 "nbformat_minor": 5
}
