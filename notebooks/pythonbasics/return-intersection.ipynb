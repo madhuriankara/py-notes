{
 "cells": [
  {
   "cell_type": "code",
   "execution_count": 8,
   "id": "f4b3a078-2509-437c-8ff5-18eba874fedc",
   "metadata": {},
   "outputs": [
    {
     "data": {
      "text/plain": [
       "[3, 4]"
      ]
     },
     "execution_count": 8,
     "metadata": {},
     "output_type": "execute_result"
    }
   ],
   "source": [
    "def get_intersection():\n",
    "    intersection = []\n",
    "    list1 = [1, 2, 3, 4]\n",
    "    list2 = [3, 4, 5, 6]\n",
    "    for i in list1:\n",
    "        if i in list2:\n",
    "            intersection.append(i)\n",
    "    return intersection\n",
    "get_intersection()"
   ]
  },
  {
   "cell_type": "code",
   "execution_count": null,
   "id": "467ec05d-7ffe-4dfc-82e1-4e0ac92f32db",
   "metadata": {},
   "outputs": [],
   "source": []
  }
 ],
 "metadata": {
  "kernelspec": {
   "display_name": "Python 3 (ipykernel)",
   "language": "python",
   "name": "python3"
  },
  "language_info": {
   "codemirror_mode": {
    "name": "ipython",
    "version": 3
   },
   "file_extension": ".py",
   "mimetype": "text/x-python",
   "name": "python",
   "nbconvert_exporter": "python",
   "pygments_lexer": "ipython3",
   "version": "3.12.7"
  }
 },
 "nbformat": 4,
 "nbformat_minor": 5
}
