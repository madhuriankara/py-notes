{
 "cells": [
  {
   "cell_type": "code",
   "execution_count": 1,
   "id": "abd71c6c-2e2a-497d-ba68-500e58c75be1",
   "metadata": {},
   "outputs": [],
   "source": [
    "#Find the three largest numbers in a list"
   ]
  },
  {
   "cell_type": "code",
   "execution_count": 40,
   "id": "933efa24-529e-46ce-8dd6-6be0f6d7b502",
   "metadata": {},
   "outputs": [],
   "source": [
    "def find_largest_three_numbers():\n",
    "    lst = [4,7,8,9,1,2]\n",
    "    largest = sorted(lst, reverse = True)[:-3]\n",
    "    return largest\n",
    "        "
   ]
  },
  {
   "cell_type": "code",
   "execution_count": 41,
   "id": "07f60695-7df5-4f10-a7cc-746a44618230",
   "metadata": {},
   "outputs": [
    {
     "data": {
      "text/plain": [
       "[9, 8, 7]"
      ]
     },
     "execution_count": 41,
     "metadata": {},
     "output_type": "execute_result"
    }
   ],
   "source": [
    "find_largest_three_numbers()"
   ]
  },
  {
   "cell_type": "code",
   "execution_count": null,
   "id": "5a4a85c4-cbda-42ee-94a0-656bdf031fbf",
   "metadata": {},
   "outputs": [],
   "source": []
  }
 ],
 "metadata": {
  "kernelspec": {
   "display_name": "Python 3 (ipykernel)",
   "language": "python",
   "name": "python3"
  },
  "language_info": {
   "codemirror_mode": {
    "name": "ipython",
    "version": 3
   },
   "file_extension": ".py",
   "mimetype": "text/x-python",
   "name": "python",
   "nbconvert_exporter": "python",
   "pygments_lexer": "ipython3",
   "version": "3.12.7"
  }
 },
 "nbformat": 4,
 "nbformat_minor": 5
}
