{
 "cells": [
  {
   "cell_type": "code",
   "execution_count": 2,
   "id": "b575390e-477e-4c31-9eb4-4968edfa6bb7",
   "metadata": {},
   "outputs": [
    {
     "data": {
      "text/plain": [
       "[1, 3, 5, 2, 4, 6]"
      ]
     },
     "execution_count": 2,
     "metadata": {},
     "output_type": "execute_result"
    }
   ],
   "source": [
    "def merge_list():\n",
    "    list1 = [1, 3, 5]\n",
    "    list2 = [2, 4, 6]\n",
    "    merge = list1 + list2\n",
    "    return merge\n",
    "merge_list()"
   ]
  },
  {
   "cell_type": "code",
   "execution_count": null,
   "id": "98df909f-8a1b-4897-a496-afa8d0f6fd5c",
   "metadata": {},
   "outputs": [],
   "source": []
  }
 ],
 "metadata": {
  "kernelspec": {
   "display_name": "Python 3 (ipykernel)",
   "language": "python",
   "name": "python3"
  },
  "language_info": {
   "codemirror_mode": {
    "name": "ipython",
    "version": 3
   },
   "file_extension": ".py",
   "mimetype": "text/x-python",
   "name": "python",
   "nbconvert_exporter": "python",
   "pygments_lexer": "ipython3",
   "version": "3.12.7"
  }
 },
 "nbformat": 4,
 "nbformat_minor": 5
}
