{
 "cells": [
  {
   "cell_type": "code",
   "execution_count": 8,
   "id": "18984894-a132-433b-8a46-9901b598c778",
   "metadata": {},
   "outputs": [
    {
     "data": {
      "text/plain": [
       "7"
      ]
     },
     "execution_count": 8,
     "metadata": {},
     "output_type": "execute_result"
    }
   ],
   "source": [
    "def second_largest():\n",
    "    lst = [7, 1, 5, 3, 9, 4]\n",
    "    largest = max(lst)\n",
    "    lst.remove(largest)\n",
    "    second_largest = max(lst)\n",
    "    return second_largest\n",
    "second_largest()"
   ]
  },
  {
   "cell_type": "code",
   "execution_count": null,
   "id": "a3e983ba-e8f0-4ae1-888f-dfe2a65c4293",
   "metadata": {},
   "outputs": [],
   "source": []
  }
 ],
 "metadata": {
  "kernelspec": {
   "display_name": "Python 3 (ipykernel)",
   "language": "python",
   "name": "python3"
  },
  "language_info": {
   "codemirror_mode": {
    "name": "ipython",
    "version": 3
   },
   "file_extension": ".py",
   "mimetype": "text/x-python",
   "name": "python",
   "nbconvert_exporter": "python",
   "pygments_lexer": "ipython3",
   "version": "3.12.7"
  }
 },
 "nbformat": 4,
 "nbformat_minor": 5
}
