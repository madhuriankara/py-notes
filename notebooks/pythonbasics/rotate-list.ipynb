{
 "cells": [
  {
   "cell_type": "code",
   "execution_count": 14,
   "id": "b9e207b7-b5b5-4c1b-af46-c015b869eecc",
   "metadata": {},
   "outputs": [
    {
     "data": {
      "text/plain": [
       "[3, 4, 5, 1, 2]"
      ]
     },
     "execution_count": 14,
     "metadata": {},
     "output_type": "execute_result"
    }
   ],
   "source": [
    "def get_rotate_lst():\n",
    "    lst = [1, 2, 3, 4, 5]\n",
    "    n = 3\n",
    "    rotated_lst = lst[-n:] + lst[:-n] \n",
    "    return rotated_lst\n",
    "get_rotate_lst()"
   ]
  },
  {
   "cell_type": "code",
   "execution_count": null,
   "id": "29a10eb6-d665-45c5-9489-06651d5805d9",
   "metadata": {},
   "outputs": [],
   "source": []
  }
 ],
 "metadata": {
  "kernelspec": {
   "display_name": "Python 3 (ipykernel)",
   "language": "python",
   "name": "python3"
  },
  "language_info": {
   "codemirror_mode": {
    "name": "ipython",
    "version": 3
   },
   "file_extension": ".py",
   "mimetype": "text/x-python",
   "name": "python",
   "nbconvert_exporter": "python",
   "pygments_lexer": "ipython3",
   "version": "3.12.7"
  }
 },
 "nbformat": 4,
 "nbformat_minor": 5
}
