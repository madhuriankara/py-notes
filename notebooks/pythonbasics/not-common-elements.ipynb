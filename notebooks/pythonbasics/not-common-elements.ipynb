{
 "cells": [
  {
   "cell_type": "code",
   "execution_count": 9,
   "id": "57ce92a6-0e7b-446f-9865-189b8eb4f9c9",
   "metadata": {},
   "outputs": [
    {
     "data": {
      "text/plain": [
       "{1, 2, 5, 6}"
      ]
     },
     "execution_count": 9,
     "metadata": {},
     "output_type": "execute_result"
    }
   ],
   "source": [
    "def get_not_common_elements():\n",
    "    set1 = {1, 2, 3, 4}\n",
    "    set2 = {3, 4, 5, 6}\n",
    "    not_common = (set1 - set2) | (set2 - set1)\n",
    "    return not_common\n",
    "get_not_common_elements()"
   ]
  },
  {
   "cell_type": "code",
   "execution_count": null,
   "id": "6f085a2b-410a-4089-b697-0d0b7ce1f7a8",
   "metadata": {},
   "outputs": [],
   "source": []
  }
 ],
 "metadata": {
  "kernelspec": {
   "display_name": "Python 3 (ipykernel)",
   "language": "python",
   "name": "python3"
  },
  "language_info": {
   "codemirror_mode": {
    "name": "ipython",
    "version": 3
   },
   "file_extension": ".py",
   "mimetype": "text/x-python",
   "name": "python",
   "nbconvert_exporter": "python",
   "pygments_lexer": "ipython3",
   "version": "3.12.7"
  }
 },
 "nbformat": 4,
 "nbformat_minor": 5
}
