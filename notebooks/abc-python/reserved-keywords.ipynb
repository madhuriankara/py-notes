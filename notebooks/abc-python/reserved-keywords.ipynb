{
 "cells": [
  {
   "cell_type": "code",
   "execution_count": 1,
   "id": "0962928f-cba9-4e68-8563-da17a6bf1eae",
   "metadata": {},
   "outputs": [],
   "source": [
    "# created on 20250113"
   ]
  },
  {
   "cell_type": "code",
   "execution_count": 2,
   "id": "3baff40e-0585-4f5c-b101-97ecec7858a3",
   "metadata": {},
   "outputs": [],
   "source": [
    "#https://www.scientecheasy.com/2022/09/reserved-keywords-in-python.html/"
   ]
  },
  {
   "cell_type": "code",
   "execution_count": 3,
   "id": "9de59059-24ce-4da1-9450-c34367d58e10",
   "metadata": {},
   "outputs": [
    {
     "name": "stdout",
     "output_type": "stream",
     "text": [
      "['False', 'None', 'True', 'and', 'as', 'assert', 'async', 'await', 'break', 'class', 'continue', 'def', 'del', 'elif', 'else', 'except', 'finally', 'for', 'from', 'global', 'if', 'import', 'in', 'is', 'lambda', 'nonlocal', 'not', 'or', 'pass', 'raise', 'return', 'try', 'while', 'with', 'yield']\n"
     ]
    }
   ],
   "source": [
    "import keyword\n",
    "print(keyword.kwlist)\n"
   ]
  },
  {
   "cell_type": "code",
   "execution_count": 4,
   "id": "8f638734-447d-46b2-afa2-e1ae258da332",
   "metadata": {},
   "outputs": [],
   "source": [
    "#True and False"
   ]
  },
  {
   "cell_type": "code",
   "execution_count": 5,
   "id": "839cc73e-2c16-4222-83cc-8a68cd3a45c7",
   "metadata": {},
   "outputs": [
    {
     "name": "stdout",
     "output_type": "stream",
     "text": [
      "True\n",
      "True\n",
      "True\n",
      "True\n"
     ]
    }
   ],
   "source": [
    "print( 5 == 5 )\n",
    "print( 10 > 9 )\n",
    "print( True or False )\n",
    "print( 9 <= 28 )\n"
   ]
  },
  {
   "cell_type": "code",
   "execution_count": 6,
   "id": "a710d70c-c4ea-4aa0-bc9a-3f0191896a6a",
   "metadata": {},
   "outputs": [
    {
     "name": "stdout",
     "output_type": "stream",
     "text": [
      "True\n",
      "3\n"
     ]
    }
   ],
   "source": [
    "print( True == 1 )\n",
    "print( True + True + True)\n"
   ]
  },
  {
   "cell_type": "code",
   "execution_count": 7,
   "id": "2add46c9-943c-493c-94c7-ce7bd5c59109",
   "metadata": {},
   "outputs": [
    {
     "name": "stdout",
     "output_type": "stream",
     "text": [
      "False\n",
      "False\n",
      "False\n",
      "True\n",
      "1\n"
     ]
    }
   ],
   "source": [
    "print(10 > 20)\n",
    "print(50 <= 30)\n",
    "print(False == 1)\n",
    "print(False == 0)\n",
    "print(False + False + 1) \n"
   ]
  },
  {
   "cell_type": "code",
   "execution_count": 9,
   "id": "c7549df1-e142-4db0-ba6a-db5a2b96ce5f",
   "metadata": {},
   "outputs": [],
   "source": [
    "#None Keyword"
   ]
  },
  {
   "cell_type": "code",
   "execution_count": 10,
   "id": "30c62ac7-53b8-422b-806e-073eb11f4921",
   "metadata": {},
   "outputs": [
    {
     "name": "stdout",
     "output_type": "stream",
     "text": [
      "False\n",
      "False\n",
      "False\n"
     ]
    }
   ],
   "source": [
    "print(None == False)\n",
    "print( None == 0 )\n",
    "print( None == \" \" )\n"
   ]
  },
  {
   "cell_type": "code",
   "execution_count": 11,
   "id": "21c39a00-4c3e-4694-9553-616a36071943",
   "metadata": {},
   "outputs": [
    {
     "name": "stdout",
     "output_type": "stream",
     "text": [
      "True\n",
      "True\n",
      "True\n"
     ]
    }
   ],
   "source": [
    "A = None\n",
    "B = None\n",
    "C = None\n",
    "print( A == B )\n",
    "print( B == C )\n",
    "print( A == C )\n"
   ]
  },
  {
   "cell_type": "code",
   "execution_count": 12,
   "id": "cd319a44-705d-4364-83d2-6eba0dada94a",
   "metadata": {},
   "outputs": [
    {
     "name": "stdout",
     "output_type": "stream",
     "text": [
      "True\n",
      "False\n",
      "1\n"
     ]
    }
   ],
   "source": [
    "print(True and True)\n",
    "print(True and False and True)\n",
    "print(True and 1)\n"
   ]
  },
  {
   "cell_type": "code",
   "execution_count": 13,
   "id": "0891e0ba-485c-494d-afb3-d67c3a6e8b87",
   "metadata": {},
   "outputs": [
    {
     "name": "stdout",
     "output_type": "stream",
     "text": [
      "True\n",
      "True\n",
      "True\n",
      "True\n"
     ]
    }
   ],
   "source": [
    "print(True or True)\n",
    "print(False or False or True)\n",
    "print(True or False)\n",
    "print(True or 1)\n"
   ]
  },
  {
   "cell_type": "code",
   "execution_count": 14,
   "id": "998973c2-697d-47f9-bbb1-0490259ee63f",
   "metadata": {},
   "outputs": [
    {
     "name": "stdout",
     "output_type": "stream",
     "text": [
      "True\n",
      "False\n"
     ]
    }
   ],
   "source": [
    "num = [10, 20, 30, 40, 50]\n",
    "print(50 in num)\n",
    "print(15 in num)\n"
   ]
  },
  {
   "cell_type": "code",
   "execution_count": 15,
   "id": "55dbf61e-cd26-4f42-a8e2-c78cb8d2c1c1",
   "metadata": {},
   "outputs": [
    {
     "name": "stdout",
     "output_type": "stream",
     "text": [
      "k\n",
      "e\n",
      "y\n",
      "w\n",
      "o\n",
      "r\n",
      "d\n"
     ]
    }
   ],
   "source": [
    "for i in 'keyword':\n",
    "     print(i)\n"
   ]
  },
  {
   "cell_type": "code",
   "execution_count": 18,
   "id": "956235ce-51ce-4965-a765-fc716a66c7c9",
   "metadata": {},
   "outputs": [
    {
     "name": "stdout",
     "output_type": "stream",
     "text": [
      "True\n",
      "False\n",
      "True\n",
      "True\n"
     ]
    }
   ],
   "source": [
    "print( True == True )\n",
    "print( False == True )\n",
    "print( None == None )\n",
    "print((2 + 4) == (3 * 2))\n"
   ]
  },
  {
   "cell_type": "code",
   "execution_count": 19,
   "id": "1b220a69-8b4c-41f4-8b92-d97e0a2b4ee5",
   "metadata": {},
   "outputs": [],
   "source": [
    "#for loop"
   ]
  },
  {
   "cell_type": "code",
   "execution_count": 20,
   "id": "472edae0-78b8-4c1e-96d3-4efa6615cb06",
   "metadata": {},
   "outputs": [
    {
     "name": "stdout",
     "output_type": "stream",
     "text": [
      "Scientech Easy, Dhanbad\n",
      "Scientech Easy, Dhanbad\n",
      "Scientech Easy, Dhanbad\n"
     ]
    }
   ],
   "source": [
    "for count in range(1, 4):\n",
    "  print(\"Scientech Easy, Dhanbad\")\n"
   ]
  },
  {
   "cell_type": "code",
   "execution_count": 21,
   "id": "ab416d98-3a96-43b6-831d-f96faa8f95f6",
   "metadata": {},
   "outputs": [],
   "source": [
    "#while"
   ]
  },
  {
   "cell_type": "code",
   "execution_count": 22,
   "id": "2c42d336-512b-4170-8f36-313e10e7f929",
   "metadata": {},
   "outputs": [
    {
     "name": "stdout",
     "output_type": "stream",
     "text": [
      "The current count is:  0\n",
      "The current count is:  1\n",
      "The current count is:  2\n",
      "While loop ended!\n"
     ]
    }
   ],
   "source": [
    "count = 0\n",
    "while(count < 3):\n",
    "    print(\"The current count is: \", count)\n",
    "    count = count + 1\n",
    "print(\"While loop ended!\")\n"
   ]
  },
  {
   "cell_type": "code",
   "execution_count": 23,
   "id": "74ff747f-be73-43e5-be1b-b471219ddb25",
   "metadata": {},
   "outputs": [],
   "source": [
    "#break"
   ]
  },
  {
   "cell_type": "code",
   "execution_count": 24,
   "id": "e4816ab9-4600-4b66-b2f1-bd89782918c9",
   "metadata": {},
   "outputs": [
    {
     "name": "stdout",
     "output_type": "stream",
     "text": [
      "1\n",
      "2\n"
     ]
    }
   ],
   "source": [
    "for i in range(1, 5):\n",
    "    if i == 3:\n",
    "        break\n",
    "    print(i)\n"
   ]
  },
  {
   "cell_type": "code",
   "execution_count": 25,
   "id": "eafd9862-87e2-4c51-93e0-95e5fadef81e",
   "metadata": {},
   "outputs": [],
   "source": [
    "#continue"
   ]
  },
  {
   "cell_type": "code",
   "execution_count": 26,
   "id": "cd47b4a6-5971-46a1-9bb6-753e574da558",
   "metadata": {},
   "outputs": [
    {
     "name": "stdout",
     "output_type": "stream",
     "text": [
      "1\n",
      "2\n",
      "3\n",
      "5\n"
     ]
    }
   ],
   "source": [
    "for i in range(1, 6):\n",
    "    if i == 4:\n",
    "       continue\n",
    "    print(i)\n"
   ]
  },
  {
   "cell_type": "code",
   "execution_count": 27,
   "id": "9cf6e9c0-d4af-4f79-8f89-99c7bbcff8fe",
   "metadata": {},
   "outputs": [],
   "source": [
    "#Python Conditional keywords – if, else, and elif"
   ]
  },
  {
   "cell_type": "code",
   "execution_count": 28,
   "id": "43c0f04b-f244-4fd2-9704-f639ada46562",
   "metadata": {},
   "outputs": [
    {
     "name": "stdout",
     "output_type": "stream",
     "text": [
      "Python keywords\n"
     ]
    }
   ],
   "source": [
    "i = 10\n",
    "if (i == 5):\n",
    "    print (\"Hello\")\n",
    "elif (i == 10):\n",
    "    print (\"Python keywords\")\n",
    "else:\n",
    "    print (\"Hello Python\")\n"
   ]
  },
  {
   "cell_type": "code",
   "execution_count": 29,
   "id": "8c466143-601b-41e9-b66d-6af7d42861d1",
   "metadata": {},
   "outputs": [],
   "source": [
    "#def keyword"
   ]
  },
  {
   "cell_type": "code",
   "execution_count": 30,
   "id": "68041ad4-0d66-42f4-8bd7-5b2f900e274b",
   "metadata": {},
   "outputs": [
    {
     "name": "stdout",
     "output_type": "stream",
     "text": [
      "Inside Function\n"
     ]
    }
   ],
   "source": [
    "# Declaring a user-defined function.\n",
    "def func():\n",
    "    print(\"Inside Function\")\n",
    "func()\n"
   ]
  },
  {
   "cell_type": "code",
   "execution_count": 31,
   "id": "9d3fc331-3e59-463d-a486-71e9b4381e0f",
   "metadata": {},
   "outputs": [],
   "source": [
    "#return keyword"
   ]
  },
  {
   "cell_type": "code",
   "execution_count": 32,
   "id": "f7dec897-9b20-4c1c-9a7e-960fc5cda933",
   "metadata": {},
   "outputs": [
    {
     "name": "stdout",
     "output_type": "stream",
     "text": [
      "20\n",
      "None\n"
     ]
    }
   ],
   "source": [
    "def func_return():\n",
    "    x = 20\n",
    "    return x\n",
    "\n",
    "def func_no_return():\n",
    "    y = 50\n",
    "print(func_return())\n",
    "print(func_no_return())\n"
   ]
  },
  {
   "cell_type": "code",
   "execution_count": 33,
   "id": "1d387847-2777-4077-a000-10080c12e458",
   "metadata": {},
   "outputs": [],
   "source": [
    "#yield"
   ]
  },
  {
   "cell_type": "code",
   "execution_count": 34,
   "id": "0ec6eb68-6250-4ea7-9cd6-d490bd8b2760",
   "metadata": {},
   "outputs": [
    {
     "name": "stdout",
     "output_type": "stream",
     "text": [
      "0\n",
      "1\n",
      "3\n",
      "6\n",
      "10\n"
     ]
    }
   ],
   "source": [
    "# Yield Keyword\n",
    "def func():\n",
    "    x = 0\n",
    "    for i in range(5):\n",
    "        x += i\n",
    "        yield x\n",
    "for i in func():\n",
    "    print(i)\n"
   ]
  },
  {
   "cell_type": "code",
   "execution_count": 35,
   "id": "ea573b86-03d5-4f0f-ac68-451c5faa11e8",
   "metadata": {},
   "outputs": [],
   "source": [
    "#class Keyword"
   ]
  },
  {
   "cell_type": "code",
   "execution_count": 36,
   "id": "83bf3f32-4e5e-449f-981e-e19d0018eff8",
   "metadata": {},
   "outputs": [
    {
     "ename": "SyntaxError",
     "evalue": "invalid syntax (2575277477.py, line 3)",
     "output_type": "error",
     "traceback": [
      "\u001b[0;36m  Cell \u001b[0;32mIn[36], line 3\u001b[0;36m\u001b[0m\n\u001b[0;31m    . . . .\u001b[0m\n\u001b[0m    ^\u001b[0m\n\u001b[0;31mSyntaxError\u001b[0m\u001b[0;31m:\u001b[0m invalid syntax\n"
     ]
    }
   ],
   "source": [
    "class ClassExample:\n",
    "    def func1(parameters):\n",
    "        . . . .\n",
    "    def func2(parameters):\n",
    "        . . . .\n"
   ]
  },
  {
   "cell_type": "code",
   "execution_count": 37,
   "id": "a875af52-9cac-42ed-b5eb-c3e8ad0aa602",
   "metadata": {},
   "outputs": [],
   "source": [
    "#with Keyword"
   ]
  },
  {
   "cell_type": "code",
   "execution_count": 38,
   "id": "6e763652-8111-4a0d-903d-fb7191b05c1a",
   "metadata": {},
   "outputs": [],
   "source": [
    "with open('myfile.txt', 'w') as file:\n",
    "    file.write('Scientech Easy!')\n"
   ]
  },
  {
   "cell_type": "code",
   "execution_count": 39,
   "id": "9c82d13f-2114-41f7-9188-db20c5ea5bea",
   "metadata": {},
   "outputs": [],
   "source": [
    "#as Keyword"
   ]
  },
  {
   "cell_type": "code",
   "execution_count": 40,
   "id": "6419fc53-ec81-48b0-8154-980ca14859d8",
   "metadata": {},
   "outputs": [
    {
     "name": "stdout",
     "output_type": "stream",
     "text": [
      "1.0\n"
     ]
    }
   ],
   "source": [
    "import math as x\n",
    "print(x.cos(0))\n"
   ]
  },
  {
   "cell_type": "code",
   "execution_count": 41,
   "id": "a13382d0-cb54-4fc6-9ff1-49779b7ffc60",
   "metadata": {},
   "outputs": [],
   "source": [
    "#lambda Keyword\n"
   ]
  },
  {
   "cell_type": "code",
   "execution_count": 42,
   "id": "f19786dd-88a2-4eb6-a927-b45cf60b14f0",
   "metadata": {},
   "outputs": [
    {
     "name": "stdout",
     "output_type": "stream",
     "text": [
      "343\n"
     ]
    }
   ],
   "source": [
    "# Lambda keyword\n",
    "cube = lambda x: x * x * x\n",
    "print(cube(7))\n"
   ]
  },
  {
   "cell_type": "code",
   "execution_count": 43,
   "id": "e68a9816-1422-4dd7-b599-ae69de0608a1",
   "metadata": {},
   "outputs": [],
   "source": [
    "#del Keyword"
   ]
  },
  {
   "cell_type": "code",
   "execution_count": 44,
   "id": "b6f7e0c1-3a84-4183-b025-13d361efa784",
   "metadata": {},
   "outputs": [
    {
     "name": "stdout",
     "output_type": "stream",
     "text": [
      "200\n",
      "Scientech Easy\n"
     ]
    },
    {
     "ename": "NameError",
     "evalue": "name 'my_var1' is not defined",
     "output_type": "error",
     "traceback": [
      "\u001b[0;31m---------------------------------------------------------------------------\u001b[0m",
      "\u001b[0;31mNameError\u001b[0m                                 Traceback (most recent call last)",
      "Cell \u001b[0;32mIn[44], line 13\u001b[0m\n\u001b[1;32m     10\u001b[0m \u001b[38;5;28;01mdel\u001b[39;00m my_var2\n\u001b[1;32m     12\u001b[0m \u001b[38;5;66;03m# check if my_var1 and my_var2 exists\u001b[39;00m\n\u001b[0;32m---> 13\u001b[0m \u001b[38;5;28mprint\u001b[39m(\u001b[43mmy_var1\u001b[49m)\n\u001b[1;32m     14\u001b[0m \u001b[38;5;28mprint\u001b[39m(my_var2)\n",
      "\u001b[0;31mNameError\u001b[0m: name 'my_var1' is not defined"
     ]
    }
   ],
   "source": [
    "my_var1 = 200\n",
    "my_var2 = \"Scientech Easy\"\n",
    "\n",
    "# check if my_var1 and my_var2 exists.\n",
    "print(my_var1)\n",
    "print(my_var2)\n",
    "\n",
    "# delete both the variables.\n",
    "del my_var1\n",
    "del my_var2\n",
    "\n",
    "# check if my_var1 and my_var2 exists\n",
    "print(my_var1)\n",
    "print(my_var2)\n"
   ]
  },
  {
   "cell_type": "code",
   "execution_count": 45,
   "id": "ae3d0849-3352-429b-96bb-fdab6d50d8dd",
   "metadata": {},
   "outputs": [],
   "source": [
    "#try, except, raise, and finally"
   ]
  },
  {
   "cell_type": "code",
   "execution_count": 46,
   "id": "bfe70187-55d0-4449-bb7c-7553c090afa1",
   "metadata": {},
   "outputs": [
    {
     "name": "stdout",
     "output_type": "stream",
     "text": [
      "Cannot divide by zero\n",
      "finally block always gets executed\n"
     ]
    }
   ],
   "source": [
    "# initializing the value of variables.\n",
    "x = 10\n",
    "y = 0\n",
    "# No exception raised in try block\n",
    "try:\n",
    "    z = x // y  # raises divide by zero exception.\n",
    "    print(z)\n",
    "# handles zero division exception\n",
    "except ZeroDivisionError:\n",
    "    print(\"Cannot divide by zero\")\n",
    "\n",
    "finally:\n",
    "    # this block always gets executed regardless of exception produced.\n",
    "    print('finally block always gets executed')\n"
   ]
  },
  {
   "cell_type": "code",
   "execution_count": 47,
   "id": "e27c05ff-6260-4680-ab5e-847ca5a9f917",
   "metadata": {},
   "outputs": [],
   "source": [
    "#assert Keyword"
   ]
  },
  {
   "cell_type": "code",
   "execution_count": 49,
   "id": "17e14ea9-15cc-447a-8832-748c44333b60",
   "metadata": {},
   "outputs": [
    {
     "ename": "AssertionError",
     "evalue": "",
     "output_type": "error",
     "traceback": [
      "\u001b[0;31m---------------------------------------------------------------------------\u001b[0m",
      "\u001b[0;31mAssertionError\u001b[0m                            Traceback (most recent call last)",
      "Cell \u001b[0;32mIn[49], line 3\u001b[0m\n\u001b[1;32m      1\u001b[0m x \u001b[38;5;241m=\u001b[39m \u001b[38;5;241m10\u001b[39m\n\u001b[1;32m      2\u001b[0m \u001b[38;5;28;01massert\u001b[39;00m x \u001b[38;5;241m>\u001b[39m\u001b[38;5;241m=\u001b[39m \u001b[38;5;241m10\u001b[39m\n\u001b[0;32m----> 3\u001b[0m \u001b[38;5;28;01massert\u001b[39;00m x \u001b[38;5;241m<\u001b[39m \u001b[38;5;241m10\u001b[39m\n",
      "\u001b[0;31mAssertionError\u001b[0m: "
     ]
    }
   ],
   "source": [
    "x = 10\n",
    "assert x >= 10\n",
    "assert x < 10"
   ]
  },
  {
   "cell_type": "code",
   "execution_count": null,
   "id": "b0adb8c5-6d63-46b9-bd93-e575c3e78790",
   "metadata": {},
   "outputs": [],
   "source": []
  }
 ],
 "metadata": {
  "kernelspec": {
   "display_name": "Python 3 (ipykernel)",
   "language": "python",
   "name": "python3"
  },
  "language_info": {
   "codemirror_mode": {
    "name": "ipython",
    "version": 3
   },
   "file_extension": ".py",
   "mimetype": "text/x-python",
   "name": "python",
   "nbconvert_exporter": "python",
   "pygments_lexer": "ipython3",
   "version": "3.12.7"
  }
 },
 "nbformat": 4,
 "nbformat_minor": 5
}
