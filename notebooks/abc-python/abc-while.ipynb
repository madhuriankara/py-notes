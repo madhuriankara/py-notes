{
 "cells": [
  {
   "cell_type": "code",
   "execution_count": 1,
   "id": "2ac2a57c-ff8e-4c14-adda-d35adcdfea97",
   "metadata": {},
   "outputs": [],
   "source": [
    "#created on 20250120"
   ]
  },
  {
   "cell_type": "code",
   "execution_count": 2,
   "id": "0b7a1f70-ab5b-435e-8308-ee793984a35a",
   "metadata": {},
   "outputs": [],
   "source": [
    "#https://www.scientecheasy.com/2022/10/while-loop-in-python.html/"
   ]
  },
  {
   "cell_type": "code",
   "execution_count": 3,
   "id": "367fda16-771f-4ea2-b29c-440192fb1a63",
   "metadata": {},
   "outputs": [
    {
     "name": "stdout",
     "output_type": "stream",
     "text": [
      "Current value of i is  1\n",
      "Current value of i is  2\n",
      "Current value of i is  3\n",
      "Current value of i is  4\n",
      "Current value of i is  5\n"
     ]
    }
   ],
   "source": [
    "i = 1 # Initialization.\n",
    "while i <= 5:\n",
    "    print('Current value of i is ',i)\n",
    "    i = i + 1 # Increment by 1.\n"
   ]
  },
  {
   "cell_type": "code",
   "execution_count": 6,
   "id": "6d70bdd4-73af-4f3a-bf86-0775664fc7c6",
   "metadata": {},
   "outputs": [
    {
     "name": "stdin",
     "output_type": "stream",
     "text": [
      "Enter your name:  rita\n"
     ]
    },
    {
     "name": "stdout",
     "output_type": "stream",
     "text": [
      "rita\n",
      "rita\n",
      "rita\n",
      "rita\n",
      "rita\n"
     ]
    }
   ],
   "source": [
    "i = 0 \n",
    "name = input('Enter your name: ')\n",
    "while i < 5:\n",
    "    print(name)\n",
    "    i = i + 1 # Increment by 1.\n"
   ]
  },
  {
   "cell_type": "code",
   "execution_count": 7,
   "id": "ed242bb3-9783-4318-882c-656c954b7e9f",
   "metadata": {},
   "outputs": [
    {
     "name": "stdout",
     "output_type": "stream",
     "text": [
      "5\n",
      "4\n",
      "3\n",
      "2\n",
      "1\n",
      "Loop finished\n"
     ]
    }
   ],
   "source": [
    "i = 5 # Initialization.\n",
    "while i >= 1:\n",
    "    print(i)\n",
    "    i = i - 1 # decrement by 1.\n",
    "print('Loop finished')"
   ]
  },
  {
   "cell_type": "code",
   "execution_count": 8,
   "id": "eb61512a-2951-41f8-ad25-d3fd72b58e8f",
   "metadata": {},
   "outputs": [
    {
     "name": "stdin",
     "output_type": "stream",
     "text": [
      "Enter a number up to which you want to calculate average:  7\n"
     ]
    },
    {
     "name": "stdout",
     "output_type": "stream",
     "text": [
      "Average of 7 natural numbers =  4.0\n"
     ]
    }
   ],
   "source": [
    "# Program to display the average of n natural numbers.\n",
    "num = int(input('Enter a number up to which you want to calculate average: '))\n",
    "i = 0\n",
    "sum = 0\n",
    "count = 0 # Initialization.\n",
    "while i < num:\n",
    "    i = i + 1 # Increment by 1.\n",
    "    sum = sum + i\n",
    "    count = count + 1\n",
    "average = sum / count\n",
    "print('Average of', num,'natural numbers = ', average)\n"
   ]
  },
  {
   "cell_type": "code",
   "execution_count": 9,
   "id": "aa584104-17ce-447a-b45c-957d851db2a7",
   "metadata": {},
   "outputs": [
    {
     "name": "stdout",
     "output_type": "stream",
     "text": [
      "Sum of 10 natural numbers =  55\n"
     ]
    }
   ],
   "source": [
    "# Program to display the sum of first 10 natural numbers.\n",
    "sum = 0\n",
    "count = 0 # Initialization.\n",
    "while count <= 10:\n",
    "    sum = sum + count\n",
    "    count = count + 1\n",
    "print('Sum of 10 natural numbers = ', sum)\n"
   ]
  },
  {
   "cell_type": "code",
   "execution_count": null,
   "id": "9136138a-e931-4e2d-a964-9bc02fc8a385",
   "metadata": {},
   "outputs": [],
   "source": []
  }
 ],
 "metadata": {
  "kernelspec": {
   "display_name": "Python 3 (ipykernel)",
   "language": "python",
   "name": "python3"
  },
  "language_info": {
   "codemirror_mode": {
    "name": "ipython",
    "version": 3
   },
   "file_extension": ".py",
   "mimetype": "text/x-python",
   "name": "python",
   "nbconvert_exporter": "python",
   "pygments_lexer": "ipython3",
   "version": "3.12.7"
  }
 },
 "nbformat": 4,
 "nbformat_minor": 5
}
