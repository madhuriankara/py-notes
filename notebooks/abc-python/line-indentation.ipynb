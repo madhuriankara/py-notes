{
 "cells": [
  {
   "cell_type": "code",
   "execution_count": 1,
   "id": "1d81eb0c-cf8c-4f31-9b96-b0a0bbb43a8e",
   "metadata": {},
   "outputs": [],
   "source": [
    "# created on 20250113"
   ]
  },
  {
   "cell_type": "code",
   "execution_count": 2,
   "id": "35486bd0-2022-44e6-ba7e-c180db4bba11",
   "metadata": {},
   "outputs": [],
   "source": [
    "# https://www.scientecheasy.com/2022/09/indentation-in-python.html/"
   ]
  },
  {
   "cell_type": "code",
   "execution_count": 3,
   "id": "fc835109-edab-4fd4-99cc-9acea4c2f48f",
   "metadata": {},
   "outputs": [],
   "source": [
    "# line indentation"
   ]
  },
  {
   "cell_type": "code",
   "execution_count": 4,
   "id": "0c5078c5-b50a-4151-b552-338fbd0c6d35",
   "metadata": {},
   "outputs": [
    {
     "name": "stdout",
     "output_type": "stream",
     "text": [
      "Scientech Easy\n"
     ]
    }
   ],
   "source": [
    "def display():\n",
    "    var = \"Scientech Easy\"\n",
    "    print(var)\n",
    "display()"
   ]
  },
  {
   "cell_type": "code",
   "execution_count": 5,
   "id": "38946ff6-137f-4aa4-aca7-07f026fb6a0e",
   "metadata": {},
   "outputs": [],
   "source": [
    "## Declare a user-defined function with parameter."
   ]
  },
  {
   "cell_type": "code",
   "execution_count": 6,
   "id": "5dca0e77-5595-4170-bd0a-808201884aab",
   "metadata": {},
   "outputs": [
    {
     "name": "stdout",
     "output_type": "stream",
     "text": [
      "Hello\n",
      "Hello Python\n"
     ]
    }
   ],
   "source": [
    "def display(parameter):\n",
    "    var = \"Hello\"\n",
    "    print(var)\n",
    "    print(var, parameter)\n",
    "display(\"Python\")"
   ]
  },
  {
   "cell_type": "code",
   "execution_count": 7,
   "id": "939deeb8-7d27-4e18-8dff-50b6a0332528",
   "metadata": {},
   "outputs": [],
   "source": [
    "#line indentation"
   ]
  },
  {
   "cell_type": "code",
   "execution_count": 8,
   "id": "29d6020e-3849-4744-8fd9-f46b41f006bb",
   "metadata": {},
   "outputs": [
    {
     "name": "stdout",
     "output_type": "stream",
     "text": [
      "WelCome Ivaan..\n",
      "How are you, today?\n",
      "I am fine, thank you!\n",
      "Have a nice day!\n"
     ]
    }
   ],
   "source": [
    "name = 'Ivaan'\n",
    "if name == 'Ivaan':\n",
    "    print('WelCome Ivaan..')\n",
    "    print('How are you, today?')\n",
    "else:\n",
    "    print('Dude! whoever are you ')\n",
    "    print('Why are you here?')\n",
    "\n",
    "print('I am fine, thank you!')\n",
    "print('Have a nice day!')\n",
    "    "
   ]
  },
  {
   "cell_type": "code",
   "execution_count": 9,
   "id": "58bf7708-3779-40fb-a08e-c84485314e32",
   "metadata": {},
   "outputs": [],
   "source": [
    "#An example in which we will use two different blocks with two different sets of indentation."
   ]
  },
  {
   "cell_type": "code",
   "execution_count": 10,
   "id": "f3d898f5-1d57-438b-b8b0-3107b87892c8",
   "metadata": {},
   "outputs": [
    {
     "name": "stdout",
     "output_type": "stream",
     "text": [
      "RSVM\n",
      "Dhanbad\n"
     ]
    }
   ],
   "source": [
    "def school(parameter):\n",
    "  print(parameter) \n",
    "\n",
    "def city(parameter):\n",
    "    print(parameter)\n",
    "\n",
    "# Calling methods.\n",
    "school('RSVM')\n",
    "city('Dhanbad')"
   ]
  },
  {
   "cell_type": "code",
   "execution_count": 11,
   "id": "343cddfc-0e08-4c7c-9fde-096acf94b6cc",
   "metadata": {},
   "outputs": [],
   "source": [
    "#Mismatch Indentation"
   ]
  },
  {
   "cell_type": "code",
   "execution_count": 12,
   "id": "6d43da83-02f8-4e57-bf22-de70b470f71c",
   "metadata": {},
   "outputs": [
    {
     "ename": "IndentationError",
     "evalue": "unexpected indent (3525287416.py, line 6)",
     "output_type": "error",
     "traceback": [
      "\u001b[0;36m  Cell \u001b[0;32mIn[12], line 6\u001b[0;36m\u001b[0m\n\u001b[0;31m    print(\"b is greater than a but less than c\")\u001b[0m\n\u001b[0m    ^\u001b[0m\n\u001b[0;31mIndentationError\u001b[0m\u001b[0;31m:\u001b[0m unexpected indent\n"
     ]
    }
   ],
   "source": [
    "a = 10\n",
    "b = 20\n",
    "c = 30\n",
    "if(b > a):\n",
    "  print(\"b is greater than a\")\n",
    "    print(\"b is greater than a but less than c\")"
   ]
  },
  {
   "cell_type": "code",
   "execution_count": 13,
   "id": "db929e43-2f72-41db-a1c4-51601c39533e",
   "metadata": {},
   "outputs": [
    {
     "name": "stdout",
     "output_type": "stream",
     "text": [
      "b is greater than a\n",
      "b is greater than a but less than c\n"
     ]
    }
   ],
   "source": [
    "a = 10\n",
    "b = 20\n",
    "c = 30\n",
    "if(b > a):\n",
    "  print(\"b is greater than a\")\n",
    "  print(\"b is greater than a but less than c\")"
   ]
  },
  {
   "cell_type": "code",
   "execution_count": 14,
   "id": "207e697d-a52e-4a1a-bbbd-d5756e9e781e",
   "metadata": {},
   "outputs": [
    {
     "name": "stdout",
     "output_type": "stream",
     "text": [
      "John\n"
     ]
    }
   ],
   "source": [
    "def display(): \n",
    "    name = 'John'\n",
    "    print(name)\n",
    "display()"
   ]
  },
  {
   "cell_type": "code",
   "execution_count": null,
   "id": "83497b1c-92eb-4e28-9295-3f0382dacb75",
   "metadata": {},
   "outputs": [],
   "source": []
  }
 ],
 "metadata": {
  "kernelspec": {
   "display_name": "Python 3 (ipykernel)",
   "language": "python",
   "name": "python3"
  },
  "language_info": {
   "codemirror_mode": {
    "name": "ipython",
    "version": 3
   },
   "file_extension": ".py",
   "mimetype": "text/x-python",
   "name": "python",
   "nbconvert_exporter": "python",
   "pygments_lexer": "ipython3",
   "version": "3.12.7"
  }
 },
 "nbformat": 4,
 "nbformat_minor": 5
}
