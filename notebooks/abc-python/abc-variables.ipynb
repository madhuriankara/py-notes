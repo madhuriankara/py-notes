{
 "cells": [
  {
   "cell_type": "code",
   "execution_count": 1,
   "id": "a8f96102-8c48-4e45-89d5-c8e2bf9b0d12",
   "metadata": {},
   "outputs": [],
   "source": [
    "#created on 20250114"
   ]
  },
  {
   "cell_type": "code",
   "execution_count": 2,
   "id": "d4b82bf9-a9d0-43e6-b2a0-2c36fdea488a",
   "metadata": {},
   "outputs": [],
   "source": [
    "#https://www.scientecheasy.com/2022/09/variables-in-python.html/"
   ]
  },
  {
   "cell_type": "code",
   "execution_count": 3,
   "id": "975ac4aa-600c-45ce-a677-f213c1022a87",
   "metadata": {},
   "outputs": [],
   "source": [
    "#Variables in python"
   ]
  },
  {
   "cell_type": "code",
   "execution_count": 4,
   "id": "fdc4ac3f-7013-4173-9c4d-adbcacd2ca26",
   "metadata": {},
   "outputs": [],
   "source": [
    "num = 20 # an integer variable.\n"
   ]
  },
  {
   "cell_type": "code",
   "execution_count": 5,
   "id": "8ca69c2c-2be8-41ba-bbfc-41dd2b980f00",
   "metadata": {},
   "outputs": [
    {
     "name": "stdout",
     "output_type": "stream",
     "text": [
      "4304953712\n"
     ]
    }
   ],
   "source": [
    "num = 20\n",
    "print(id(num))\n"
   ]
  },
  {
   "cell_type": "code",
   "execution_count": 6,
   "id": "b055c1e6-3909-4df5-bd56-30022d594ec3",
   "metadata": {},
   "outputs": [
    {
     "name": "stdout",
     "output_type": "stream",
     "text": [
      "20\n",
      "50\n",
      "100\n"
     ]
    }
   ],
   "source": [
    "# Integer assignments.\n",
    "x = 20 \n",
    "y = 50\n",
    "z = 100\n",
    "# Print the values of variables on the console.\n",
    "print(x)\n",
    "print(y)\n",
    "print(z)\n"
   ]
  },
  {
   "cell_type": "code",
   "execution_count": 7,
   "id": "b35acfaa-c59d-47e4-85ff-840efd7ad5fb",
   "metadata": {},
   "outputs": [
    {
     "name": "stdout",
     "output_type": "stream",
     "text": [
      "Marks obtained in three subjects:  265\n",
      "Percentage:  88.33333333333333\n"
     ]
    }
   ],
   "source": [
    "phy = 89\n",
    "chem = 86\n",
    "maths = 90\n",
    "# Adding the marks of three subjects.\n",
    "marks_obtained = phy + chem + maths\n",
    "\n",
    "# Calculating the percentage.\n",
    "per = (marks_obtained * 100) / 300\n",
    "# Displaying the marks obtained and percentage.\n",
    "print(\"Marks obtained in three subjects: \", marks_obtained)\n",
    "print(\"Percentage: \", per)\n"
   ]
  },
  {
   "cell_type": "code",
   "execution_count": 8,
   "id": "3ee7b6ed-e2d5-4e14-b8e4-0113acd1fa4e",
   "metadata": {},
   "outputs": [
    {
     "name": "stdout",
     "output_type": "stream",
     "text": [
      "80\n",
      "99.99\n",
      "Radhika\n"
     ]
    }
   ],
   "source": [
    "x = 80 # an integer assignment.\n",
    "y = 99.99 # a floating point assignment.\n",
    "name = 'Radhika' # a string assignment.\n",
    "print(x); print(y); print(name);\n"
   ]
  },
  {
   "cell_type": "code",
   "execution_count": 9,
   "id": "bb0bb8bc-c093-407f-8ad7-421ec437573e",
   "metadata": {},
   "outputs": [
    {
     "name": "stdout",
     "output_type": "stream",
     "text": [
      "Perimeter of the circle =  31.400000000000002\n",
      "Area of the circle =  78.5\n"
     ]
    }
   ],
   "source": [
    "radius = 5\n",
    "pi = 3.14\n",
    "perimeter = 2 * pi * radius\n",
    "area = 3.14 * radius * radius\n",
    "print(\"Perimeter of the circle = \", perimeter)\n",
    "print(\"Area of the circle = \", area)\n"
   ]
  },
  {
   "cell_type": "code",
   "execution_count": 10,
   "id": "5a8f1ac9-7f9f-458d-aacd-0082c34a0746",
   "metadata": {},
   "outputs": [
    {
     "name": "stdout",
     "output_type": "stream",
     "text": [
      "text\n",
      "25.5\n",
      "True\n"
     ]
    }
   ],
   "source": [
    "# Assigning the new value to the same variable.\n",
    "x = 10 \n",
    "x = 'text'\n",
    "print(x)\n",
    "x = 25.50 \n",
    "print(x)\n",
    "x = True \n",
    "print(x)\n"
   ]
  },
  {
   "cell_type": "code",
   "execution_count": 11,
   "id": "1ad6e302-6827-4086-a795-3854f96c126c",
   "metadata": {},
   "outputs": [
    {
     "name": "stdout",
     "output_type": "stream",
     "text": [
      "4304953712\n",
      "4304953712\n",
      "4304953712\n"
     ]
    }
   ],
   "source": [
    "x = y = z = 20\n",
    "print(id(x))\n",
    "print(id(y))\n",
    "print(id(z))\n"
   ]
  },
  {
   "cell_type": "code",
   "execution_count": 12,
   "id": "53c8c283-4d84-4720-845e-2040312c0ee3",
   "metadata": {},
   "outputs": [
    {
     "name": "stdout",
     "output_type": "stream",
     "text": [
      "4304953712\n",
      "4349586480\n",
      "4305008960\n"
     ]
    }
   ],
   "source": [
    "x, y, z = 20, 25.50, 'text'\n",
    "print(id(x))\n",
    "print(id(y))\n",
    "print(id(z))\n"
   ]
  },
  {
   "cell_type": "code",
   "execution_count": 13,
   "id": "e3a71301-3f6c-439c-b132-440a1b38e3cd",
   "metadata": {},
   "outputs": [
    {
     "name": "stdout",
     "output_type": "stream",
     "text": [
      "Banana\n",
      "Orange\n",
      "Mango\n"
     ]
    }
   ],
   "source": [
    "fruit1, fruit2, fruit3 = \"Banana\", \"Orange\", \"Mango\"\n",
    "print(fruit1)\n",
    "print(fruit2)\n",
    "print(fruit3)\n"
   ]
  },
  {
   "cell_type": "code",
   "execution_count": 14,
   "id": "25fa2142-2687-45a3-8566-02518d75611c",
   "metadata": {},
   "outputs": [
    {
     "name": "stdout",
     "output_type": "stream",
     "text": [
      "<class 'int'>\n"
     ]
    }
   ],
   "source": [
    "num = 100\n",
    "print(type(num))\n"
   ]
  },
  {
   "cell_type": "code",
   "execution_count": 15,
   "id": "9080210f-5cf2-4fe5-be08-e8120934f4a3",
   "metadata": {},
   "outputs": [
    {
     "name": "stdout",
     "output_type": "stream",
     "text": [
      "<class 'float'>\n"
     ]
    }
   ],
   "source": [
    "num = 100.990\n",
    "print(type(num))\n"
   ]
  },
  {
   "cell_type": "code",
   "execution_count": null,
   "id": "75134243-0b8d-4064-8543-8c67d20f98cf",
   "metadata": {},
   "outputs": [],
   "source": []
  }
 ],
 "metadata": {
  "kernelspec": {
   "display_name": "Python 3 (ipykernel)",
   "language": "python",
   "name": "python3"
  },
  "language_info": {
   "codemirror_mode": {
    "name": "ipython",
    "version": 3
   },
   "file_extension": ".py",
   "mimetype": "text/x-python",
   "name": "python",
   "nbconvert_exporter": "python",
   "pygments_lexer": "ipython3",
   "version": "3.12.7"
  }
 },
 "nbformat": 4,
 "nbformat_minor": 5
}
