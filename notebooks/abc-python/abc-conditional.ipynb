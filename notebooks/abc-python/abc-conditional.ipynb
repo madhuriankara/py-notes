{
 "cells": [
  {
   "cell_type": "code",
   "execution_count": 1,
   "id": "fbc1dc6b-43a0-47f0-9704-4a1143128b09",
   "metadata": {},
   "outputs": [],
   "source": [
    "#created on 20250121"
   ]
  },
  {
   "cell_type": "code",
   "execution_count": 2,
   "id": "ea345c61-c51b-486a-81cc-42625cdd1eb1",
   "metadata": {},
   "outputs": [],
   "source": [
    "#https://www.scientecheasy.com/2022/11/conditional-statements-in-python.html/"
   ]
  },
  {
   "cell_type": "code",
   "execution_count": 3,
   "id": "b4c68486-aed6-40ea-bf49-91f2e9995fc5",
   "metadata": {},
   "outputs": [
    {
     "name": "stdout",
     "output_type": "stream",
     "text": [
      "Area of triangle = 9.92\n"
     ]
    }
   ],
   "source": [
    "# Python program to calculate the area of a triangle.\n",
    "x = 4\n",
    "y = 5\n",
    "z = 6\n",
    "# Calculating the semi-perimeter.\n",
    "s = (x + y + z) / 2\n",
    "# Calculating the area of triangle.\n",
    "area = (s * (s -x) * (s -y) * (s - z)) ** 0.5\n",
    "print('Area of triangle = %0.2f'%area)\n"
   ]
  },
  {
   "cell_type": "code",
   "execution_count": null,
   "id": "d5de1dec-a7a4-41c7-9313-4e8239a2da4a",
   "metadata": {},
   "outputs": [],
   "source": []
  }
 ],
 "metadata": {
  "kernelspec": {
   "display_name": "Python 3 (ipykernel)",
   "language": "python",
   "name": "python3"
  },
  "language_info": {
   "codemirror_mode": {
    "name": "ipython",
    "version": 3
   },
   "file_extension": ".py",
   "mimetype": "text/x-python",
   "name": "python",
   "nbconvert_exporter": "python",
   "pygments_lexer": "ipython3",
   "version": "3.12.7"
  }
 },
 "nbformat": 4,
 "nbformat_minor": 5
}
