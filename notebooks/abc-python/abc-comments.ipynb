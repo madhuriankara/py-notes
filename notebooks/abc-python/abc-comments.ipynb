{
 "cells": [
  {
   "cell_type": "code",
   "execution_count": 1,
   "id": "dd6cbac8-98d1-4f3e-bb19-915e055e923f",
   "metadata": {},
   "outputs": [],
   "source": [
    "# created on 20250113"
   ]
  },
  {
   "cell_type": "code",
   "execution_count": 2,
   "id": "9aed26d8-8902-4c07-a1aa-9ea5a9231eaa",
   "metadata": {},
   "outputs": [],
   "source": [
    "#https://www.scientecheasy.com/2022/09/comments-in-python.html/"
   ]
  },
  {
   "cell_type": "code",
   "execution_count": 3,
   "id": "f244ffaf-c62c-45e6-8c89-65a8f95834ed",
   "metadata": {},
   "outputs": [],
   "source": [
    "#Comments in Python"
   ]
  },
  {
   "cell_type": "code",
   "execution_count": null,
   "id": "2a6c761b-a483-4bd3-aa50-193774b4a3f9",
   "metadata": {},
   "outputs": [],
   "source": [
    "#Types of Comments in Python"
   ]
  },
  {
   "cell_type": "code",
   "execution_count": 9,
   "id": "dca8925a-51e5-4e8c-8a41-088307b7e142",
   "metadata": {},
   "outputs": [],
   "source": [
    "#Single-line comment\n",
    "#Inline comment\n",
    "#Multiline comment"
   ]
  },
  {
   "cell_type": "code",
   "execution_count": 4,
   "id": "78c47fef-24c8-49c4-95eb-0d1aef4aeff2",
   "metadata": {},
   "outputs": [],
   "source": [
    "# Hello, I am your first comment."
   ]
  },
  {
   "cell_type": "code",
   "execution_count": 5,
   "id": "c621c34f-432a-49af-9b3d-fa7754a74d04",
   "metadata": {},
   "outputs": [
    {
     "name": "stdout",
     "output_type": "stream",
     "text": [
      "Hello Comments!!\n"
     ]
    }
   ],
   "source": [
    "print('Hello Comments!!') # Do not worry, I am a comment and will not be displayed on the console.\n"
   ]
  },
  {
   "cell_type": "code",
   "execution_count": 6,
   "id": "a12e6eaa-c231-403c-b687-da3388af7823",
   "metadata": {},
   "outputs": [],
   "source": [
    "a = 10 # Variable declaration and initialization.\n"
   ]
  },
  {
   "cell_type": "code",
   "execution_count": 7,
   "id": "5a63fb2d-66b5-4be4-8ce1-325922914cc4",
   "metadata": {},
   "outputs": [
    {
     "data": {
      "text/plain": [
       "'\\nI \\nam\\nmultiline \\ncomments\\n'"
      ]
     },
     "execution_count": 7,
     "metadata": {},
     "output_type": "execute_result"
    }
   ],
   "source": [
    "'''\n",
    "I \n",
    "am\n",
    "multiline \n",
    "comments\n",
    "'''\n"
   ]
  },
  {
   "cell_type": "code",
   "execution_count": 8,
   "id": "2a865c76-9ca1-4473-95c8-fc1002dfa083",
   "metadata": {},
   "outputs": [
    {
     "name": "stdout",
     "output_type": "stream",
     "text": [
      "Hello # Comments\n"
     ]
    }
   ],
   "source": [
    "msg = 'Hello # Comments'\n",
    "print(msg)\n"
   ]
  },
  {
   "cell_type": "code",
   "execution_count": 10,
   "id": "dcd3df40-92c5-48ca-93aa-937d9da1ddfd",
   "metadata": {},
   "outputs": [],
   "source": [
    "#Single-line comment:"
   ]
  },
  {
   "cell_type": "code",
   "execution_count": 11,
   "id": "0bb97431-10ed-4b49-a3ae-3bdddc1dfcc7",
   "metadata": {},
   "outputs": [],
   "source": [
    "# Python program to find the sum of three numbers.\n"
   ]
  },
  {
   "cell_type": "code",
   "execution_count": 12,
   "id": "80dc6469-14aa-4302-ac43-a94de862ee1e",
   "metadata": {},
   "outputs": [
    {
     "name": "stdout",
     "output_type": "stream",
     "text": [
      "Welcome you to Scientech Easy!\n"
     ]
    }
   ],
   "source": [
    "# msg is a method which will accept a parameter and print the value of it.\n",
    "def msg(parameter):\n",
    "    print(parameter)\n",
    "msg('Welcome you to Scientech Easy!')\n"
   ]
  },
  {
   "cell_type": "code",
   "execution_count": null,
   "id": "a4fac82a-d36c-4366-9ffc-5ec8260e8a09",
   "metadata": {},
   "outputs": [],
   "source": [
    "#Inline comment:"
   ]
  },
  {
   "cell_type": "code",
   "execution_count": 13,
   "id": "2669fd21-b789-4a5a-a18e-873e53d1df60",
   "metadata": {},
   "outputs": [],
   "source": [
    "x = 100 # Here, x is an integer variable that stores the value 100. \n"
   ]
  },
  {
   "cell_type": "code",
   "execution_count": 14,
   "id": "9149445a-da26-4fe9-bafb-32d1ed0284ae",
   "metadata": {},
   "outputs": [
    {
     "name": "stdout",
     "output_type": "stream",
     "text": [
      "Dhanbad\n"
     ]
    }
   ],
   "source": [
    "# city is a method which will accept a parameter and print the value of it.\n",
    "def city(parameter):\n",
    "# This statement will print the value of parameter variable.\n",
    "    print(parameter) # indented by four spaces by default.\n",
    "city('Dhanbad')\n"
   ]
  },
  {
   "cell_type": "code",
   "execution_count": 15,
   "id": "92fdc120-3969-4308-828f-c54daf2d186d",
   "metadata": {},
   "outputs": [],
   "source": [
    "# Multiline comment:"
   ]
  },
  {
   "cell_type": "code",
   "execution_count": 17,
   "id": "3b9d1a1f-0fc0-4583-9c46-dfb68e275fc0",
   "metadata": {},
   "outputs": [
    {
     "data": {
      "text/plain": [
       "' Python\\nprogram\\nto calculate\\nthe sum of\\nthree\\nnumbers.\\n'"
      ]
     },
     "execution_count": 17,
     "metadata": {},
     "output_type": "execute_result"
    }
   ],
   "source": [
    "\"\"\" Python\n",
    "program\n",
    "to calculate\n",
    "the sum of\n",
    "three\n",
    "numbers.\n",
    "\"\"\"\n",
    "''' Python\n",
    "program\n",
    "to calculate\n",
    "the sum of\n",
    "three\n",
    "numbers.\n",
    "'''\n"
   ]
  },
  {
   "cell_type": "code",
   "execution_count": 18,
   "id": "c81e8226-f648-4fae-b8fa-01bd8ccee408",
   "metadata": {},
   "outputs": [
    {
     "name": "stdout",
     "output_type": "stream",
     "text": [
      "Sum of three numbers =  60\n"
     ]
    }
   ],
   "source": [
    "\"\"\"Python\n",
    "program\n",
    "to calculate\n",
    "the sum of\n",
    "three\n",
    "numbers.\n",
    "\"\"\"\n",
    "def sum(x, y, z):\n",
    "    s = x + y + z\n",
    "    print(\"Sum of three numbers = \", s)\n",
    "sum(10, 20, 30) \n"
   ]
  },
  {
   "cell_type": "code",
   "execution_count": null,
   "id": "c8af2776-cd04-4377-8cab-ba33d41cd9c6",
   "metadata": {},
   "outputs": [],
   "source": []
  }
 ],
 "metadata": {
  "kernelspec": {
   "display_name": "Python 3 (ipykernel)",
   "language": "python",
   "name": "python3"
  },
  "language_info": {
   "codemirror_mode": {
    "name": "ipython",
    "version": 3
   },
   "file_extension": ".py",
   "mimetype": "text/x-python",
   "name": "python",
   "nbconvert_exporter": "python",
   "pygments_lexer": "ipython3",
   "version": "3.12.7"
  }
 },
 "nbformat": 4,
 "nbformat_minor": 5
}
