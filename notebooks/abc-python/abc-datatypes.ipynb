{
 "cells": [
  {
   "cell_type": "code",
   "execution_count": 1,
   "id": "0c3ac26c-67a2-4d13-9094-d4e9f21de1ee",
   "metadata": {},
   "outputs": [],
   "source": [
    "#created on 20250115"
   ]
  },
  {
   "cell_type": "code",
   "execution_count": 2,
   "id": "636c03d1-5b8f-4d13-9ea9-d5a713b9a90d",
   "metadata": {},
   "outputs": [],
   "source": [
    "#https://www.scientecheasy.com/2022/09/data-types-in-python.html/"
   ]
  },
  {
   "cell_type": "code",
   "execution_count": 3,
   "id": "91f9f05f-4980-4e51-aa02-6a6f1f3ef029",
   "metadata": {},
   "outputs": [],
   "source": [
    "#datatypes"
   ]
  },
  {
   "cell_type": "code",
   "execution_count": 4,
   "id": "e50ec968-b673-4759-8441-73c4508d06c2",
   "metadata": {},
   "outputs": [],
   "source": [
    "my_var = \"Hi Friends!\" \n",
    "my_var = 25\n",
    "my_var = True \n"
   ]
  },
  {
   "cell_type": "code",
   "execution_count": null,
   "id": "7759ec2d-3482-4144-8943-7a1851d8453a",
   "metadata": {},
   "outputs": [],
   "source": [
    "#int datatype"
   ]
  },
  {
   "cell_type": "code",
   "execution_count": 5,
   "id": "97c8a05f-bdac-44b2-a4e3-bae7a4154cdb",
   "metadata": {},
   "outputs": [
    {
     "name": "stdout",
     "output_type": "stream",
     "text": [
      "10\n",
      "20\n",
      "30\n"
     ]
    }
   ],
   "source": [
    "num1 = 10\n",
    "num2 = 20\n",
    "num3 = 30\n",
    "print(num1)\n",
    "print(num2)\n",
    "print(num3)\n"
   ]
  },
  {
   "cell_type": "code",
   "execution_count": 6,
   "id": "73812689-844b-4519-9e78-38180704b62c",
   "metadata": {},
   "outputs": [
    {
     "name": "stdout",
     "output_type": "stream",
     "text": [
      "300\n"
     ]
    }
   ],
   "source": [
    "num1 = 100\n",
    "num2 = 200\n",
    "result = num1 + num2\n",
    "print(result)\n"
   ]
  },
  {
   "cell_type": "code",
   "execution_count": 7,
   "id": "8c9e7e13-1f54-48b4-8bf4-c581c056981a",
   "metadata": {},
   "outputs": [],
   "source": [
    "#Float Data type"
   ]
  },
  {
   "cell_type": "code",
   "execution_count": 8,
   "id": "73e94f18-acf2-4cfa-a4a4-b094becbdd16",
   "metadata": {},
   "outputs": [
    {
     "name": "stdout",
     "output_type": "stream",
     "text": [
      "31.544999999999998\n"
     ]
    }
   ],
   "source": [
    "num1 = 10.555\n",
    "num2 = 20.99\n",
    "result = num1 + num2\n",
    "print(result)\n"
   ]
  },
  {
   "cell_type": "code",
   "execution_count": 9,
   "id": "e5cc1f0c-fb62-4fe5-9736-d101af0570cd",
   "metadata": {},
   "outputs": [
    {
     "name": "stdout",
     "output_type": "stream",
     "text": [
      "350000.0\n"
     ]
    }
   ],
   "source": [
    "num1 = 1.20E5\n",
    "num2 = 2.30E5\n",
    "result = num1 + num2\n",
    "print(result)\n"
   ]
  },
  {
   "cell_type": "code",
   "execution_count": 10,
   "id": "5aee0d38-6e93-4d78-aeae-3b2d1d6b92ad",
   "metadata": {},
   "outputs": [],
   "source": [
    "#Boolean datatype"
   ]
  },
  {
   "cell_type": "code",
   "execution_count": 11,
   "id": "c5420730-6975-4f1e-8d60-44270d2c6ef5",
   "metadata": {},
   "outputs": [
    {
     "name": "stdout",
     "output_type": "stream",
     "text": [
      "True True False\n"
     ]
    }
   ],
   "source": [
    "a = (10 >= 4)\n",
    "b = (25 == 5 * 5)\n",
    "c = (18 != 2 * 9)\n",
    "# Use the print function to see values stored in each variable.\n",
    "print(a, b, c)\n"
   ]
  },
  {
   "cell_type": "code",
   "execution_count": 12,
   "id": "19ed7a75-72e7-4e21-b7a1-0097685fa333",
   "metadata": {},
   "outputs": [
    {
     "name": "stdout",
     "output_type": "stream",
     "text": [
      "True 6 0\n",
      "<class 'bool'>\n"
     ]
    }
   ],
   "source": [
    "a = True\n",
    "b = True + 5 \n",
    "c = False * False\n",
    "print(a, b, c)\n",
    "print(type(a))\n"
   ]
  },
  {
   "cell_type": "code",
   "execution_count": 13,
   "id": "d400b337-dc48-4d70-af4b-6210f38f45fe",
   "metadata": {},
   "outputs": [
    {
     "name": "stdout",
     "output_type": "stream",
     "text": [
      "None\n",
      "<class 'NoneType'>\n"
     ]
    }
   ],
   "source": [
    "a = None\n",
    "print(a)\n",
    "print(type(a))\n"
   ]
  },
  {
   "cell_type": "code",
   "execution_count": 14,
   "id": "d4fb1f3e-cec1-4e6f-811a-410c11021c56",
   "metadata": {},
   "outputs": [],
   "source": [
    "#String Data type in Python"
   ]
  },
  {
   "cell_type": "code",
   "execution_count": 15,
   "id": "24ba0464-53d9-4231-baef-7b5f412afb2a",
   "metadata": {},
   "outputs": [
    {
     "name": "stdout",
     "output_type": "stream",
     "text": [
      "Hello Python\n",
      "Happy birthday to you\n",
      "<class 'str'>\n"
     ]
    }
   ],
   "source": [
    "str1 = \"Hello Python\"\n",
    "str2 = 'Happy birthday to you'\n",
    "print(str1)\n",
    "print(str2)\n",
    "print(type(str1))\n"
   ]
  },
  {
   "cell_type": "code",
   "execution_count": 16,
   "id": "4c305f33-98e8-4a2b-a052-635a139dbacb",
   "metadata": {},
   "outputs": [],
   "source": [
    "str = \"\"\"Welcome to Scientech Easy,\n",
    "           Dhanbad, Jharkhand, India.\"\"\"\n"
   ]
  },
  {
   "cell_type": "code",
   "execution_count": 17,
   "id": "a12366d3-67d3-4014-a4dd-a26778fdda91",
   "metadata": {},
   "outputs": [],
   "source": [
    "#List Data type"
   ]
  },
  {
   "cell_type": "code",
   "execution_count": 18,
   "id": "f2312e47-0eff-48a0-8e66-bb530329b69d",
   "metadata": {},
   "outputs": [
    {
     "name": "stdout",
     "output_type": "stream",
     "text": [
      "[10, 20.5, 'Python', True]\n",
      "<class 'list'>\n"
     ]
    }
   ],
   "source": [
    "list = [10, 20.50, \"Python\", True]\n",
    "print(list)\n",
    "print(type(list))\n"
   ]
  },
  {
   "cell_type": "code",
   "execution_count": 19,
   "id": "3d146376-1cb7-43df-aa0c-8dbacb589db9",
   "metadata": {},
   "outputs": [
    {
     "name": "stdout",
     "output_type": "stream",
     "text": [
      "[10, 20, 30, 40]\n",
      "[10, 20, 50, 40]\n"
     ]
    }
   ],
   "source": [
    "num_list = [10, 20, 30, 40]\n",
    "print(num_list)\n",
    "num_list[2] = 50 # updating element.\n",
    "print(num_list)\n"
   ]
  },
  {
   "cell_type": "code",
   "execution_count": 20,
   "id": "558d21cb-b4c4-450e-8271-84108c9256f6",
   "metadata": {},
   "outputs": [],
   "source": [
    "#Tuple Data type"
   ]
  },
  {
   "cell_type": "code",
   "execution_count": 21,
   "id": "ebdc1086-02e6-414d-95fe-d1dacd9b773c",
   "metadata": {},
   "outputs": [
    {
     "name": "stdout",
     "output_type": "stream",
     "text": [
      "(10, 20, 'Python', (2+10j))\n",
      "<class 'tuple'>\n"
     ]
    }
   ],
   "source": [
    "t = (10, 20, \"Python\", 2 + 10j)\n",
    "print(t)\n",
    "print(type(t))\n"
   ]
  },
  {
   "cell_type": "code",
   "execution_count": 22,
   "id": "00cefec2-a00f-4acb-b232-ce109c74b69a",
   "metadata": {},
   "outputs": [],
   "source": [
    "#Set Data type"
   ]
  },
  {
   "cell_type": "code",
   "execution_count": 23,
   "id": "ec5c4b2e-524c-40db-8b74-9aa1d3f8ef07",
   "metadata": {},
   "outputs": [
    {
     "name": "stdout",
     "output_type": "stream",
     "text": [
      "{1, 2, (4+50j), 'Hello'}\n",
      "<class 'set'>\n"
     ]
    }
   ],
   "source": [
    "s = {1, 2, 'Hello', 4 + 50j}\n",
    "print(s)\n",
    "print(type(s))\n"
   ]
  },
  {
   "cell_type": "code",
   "execution_count": 24,
   "id": "4455250b-c6fa-4020-ac7d-9391a393f64d",
   "metadata": {},
   "outputs": [],
   "source": [
    "#Dictionary Data type"
   ]
  },
  {
   "cell_type": "code",
   "execution_count": 25,
   "id": "3b5027d7-9923-42ec-828b-f58f8667cd5d",
   "metadata": {},
   "outputs": [
    {
     "name": "stdout",
     "output_type": "stream",
     "text": [
      "{1: 'Orange', 2: 'Apple', 3: 'Banana'}\n",
      "<class 'dict'>\n"
     ]
    }
   ],
   "source": [
    "dict = {1 : 'Orange',\n",
    "        2 : 'Apple',\n",
    "        3 : 'Banana'}\n",
    "print(dict)\n",
    "print(type(dict))\n"
   ]
  },
  {
   "cell_type": "code",
   "execution_count": null,
   "id": "e5f1d3ab-2aa6-4bd0-9e36-f91c928aadd4",
   "metadata": {},
   "outputs": [],
   "source": []
  }
 ],
 "metadata": {
  "kernelspec": {
   "display_name": "Python 3 (ipykernel)",
   "language": "python",
   "name": "python3"
  },
  "language_info": {
   "codemirror_mode": {
    "name": "ipython",
    "version": 3
   },
   "file_extension": ".py",
   "mimetype": "text/x-python",
   "name": "python",
   "nbconvert_exporter": "python",
   "pygments_lexer": "ipython3",
   "version": "3.12.7"
  }
 },
 "nbformat": 4,
 "nbformat_minor": 5
}
