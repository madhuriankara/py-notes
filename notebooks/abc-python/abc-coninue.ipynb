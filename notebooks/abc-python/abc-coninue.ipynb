{
 "cells": [
  {
   "cell_type": "code",
   "execution_count": 2,
   "id": "2731458c-d74b-4153-a65b-a77a98eb5e02",
   "metadata": {},
   "outputs": [],
   "source": [
    "#created on 20150120"
   ]
  },
  {
   "cell_type": "code",
   "execution_count": null,
   "id": "d6dabc07-3de2-45d4-90d2-e82ce7a61778",
   "metadata": {},
   "outputs": [],
   "source": [
    "#https://www.scientecheasy.com/2022/11/python-continue.html/"
   ]
  },
  {
   "cell_type": "code",
   "execution_count": 1,
   "id": "33a53efd-e470-47dd-a89f-d4184e416333",
   "metadata": {},
   "outputs": [
    {
     "name": "stdout",
     "output_type": "stream",
     "text": [
      "T\n",
      "e\n",
      "c\n",
      "h\n",
      "Skipping the loop at n\n",
      "o\n",
      "l\n",
      "o\n",
      "g\n",
      "y\n"
     ]
    }
   ],
   "source": [
    "for letter in 'Technology':\n",
    "    if letter == 'n':\n",
    "        print('Skipping the loop at', letter)\n",
    "        continue\n",
    "    print(letter)"
   ]
  },
  {
   "cell_type": "code",
   "execution_count": 3,
   "id": "9c712717-2551-421f-9f65-e40bfba87f2c",
   "metadata": {},
   "outputs": [
    {
     "name": "stdout",
     "output_type": "stream",
     "text": [
      "1\n",
      "2\n",
      "4\n",
      "5\n",
      "6\n"
     ]
    }
   ],
   "source": [
    "x = 1 # Initialization.\n",
    "while x <= 6:\n",
    "    if x == 3:\n",
    "        x = x + 1\n",
    "        continue\n",
    "    print(x)\n",
    "    x = x + 1\n"
   ]
  },
  {
   "cell_type": "code",
   "execution_count": 4,
   "id": "13d3fea5-a43a-4299-a69e-18391a26dd4b",
   "metadata": {},
   "outputs": [
    {
     "name": "stdout",
     "output_type": "stream",
     "text": [
      "1 1\n",
      "1 2\n",
      "1 3\n",
      "2 1\n",
      "2 2\n",
      "3 1\n",
      "3 2\n",
      "3 3\n"
     ]
    }
   ],
   "source": [
    "for x in range(1, 4):\n",
    "     for y in range(1, 4):\n",
    "       if x == 2 and y == 3:\n",
    "           continue \n",
    "       print(x,y)\n"
   ]
  },
  {
   "cell_type": "code",
   "execution_count": 5,
   "id": "54aa91eb-ec2e-4c25-b6d4-eefa6c905c7c",
   "metadata": {},
   "outputs": [
    {
     "name": "stdout",
     "output_type": "stream",
     "text": [
      "2\n",
      "3\n",
      "4\n",
      "40\n",
      "5\n",
      "50\n",
      "6\n",
      "60\n"
     ]
    }
   ],
   "source": [
    "for x in range(1, 7):\n",
    "    if x < 2:\n",
    "        continue\n",
    "    print(x)\n",
    "    if x < 4:\n",
    "        continue\n",
    "    print(10 * x)\n"
   ]
  },
  {
   "cell_type": "code",
   "execution_count": null,
   "id": "64e21853-9606-48c8-9f0f-9f9e35a5b32b",
   "metadata": {},
   "outputs": [],
   "source": []
  }
 ],
 "metadata": {
  "kernelspec": {
   "display_name": "Python 3 (ipykernel)",
   "language": "python",
   "name": "python3"
  },
  "language_info": {
   "codemirror_mode": {
    "name": "ipython",
    "version": 3
   },
   "file_extension": ".py",
   "mimetype": "text/x-python",
   "name": "python",
   "nbconvert_exporter": "python",
   "pygments_lexer": "ipython3",
   "version": "3.12.7"
  }
 },
 "nbformat": 4,
 "nbformat_minor": 5
}
