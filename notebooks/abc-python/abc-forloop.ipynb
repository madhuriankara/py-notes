{
 "cells": [
  {
   "cell_type": "code",
   "execution_count": 1,
   "id": "b44bd293-e90c-412f-8558-8de28e32d8c9",
   "metadata": {},
   "outputs": [],
   "source": [
    "#created on 20250120"
   ]
  },
  {
   "cell_type": "code",
   "execution_count": null,
   "id": "1fdc315c-7485-4479-808c-80d04b2e5728",
   "metadata": {},
   "outputs": [],
   "source": []
  },
  {
   "cell_type": "code",
   "execution_count": 2,
   "id": "563ce583-8071-4fd4-bac6-18c62131e30d",
   "metadata": {},
   "outputs": [
    {
     "name": "stdout",
     "output_type": "stream",
     "text": [
      "You are the high scorer!\n",
      "You are the high scorer!\n",
      "You are the high scorer!\n",
      "You are the high scorer!\n",
      "You are the high scorer!\n"
     ]
    }
   ],
   "source": [
    "for count in range(0, 5):\n",
    "    print('You are the high scorer!')\n"
   ]
  },
  {
   "cell_type": "code",
   "execution_count": 5,
   "id": "394e8640-e935-48bd-8d15-f181e184aee6",
   "metadata": {},
   "outputs": [
    {
     "name": "stdout",
     "output_type": "stream",
     "text": [
      "I love to code in Python\n",
      "I love to code in Python\n"
     ]
    }
   ],
   "source": [
    "for count in 1, 2:\n",
    "    print('I love to code in Python')\n",
    "\n"
   ]
  },
  {
   "cell_type": "code",
   "execution_count": 6,
   "id": "c27a6315-0156-4e43-915b-9c016d5d719b",
   "metadata": {},
   "outputs": [
    {
     "name": "stdout",
     "output_type": "stream",
     "text": [
      "count =  1\n",
      "count =  2\n",
      "count =  3\n",
      "count =  4\n"
     ]
    }
   ],
   "source": [
    "\n",
    "for count in 1, 2, 3, 4:\n",
    "    print('count = ',count)\n"
   ]
  },
  {
   "cell_type": "code",
   "execution_count": 7,
   "id": "d5ca2ea3-0e43-4543-a84d-c97258fcc827",
   "metadata": {},
   "outputs": [
    {
     "name": "stdout",
     "output_type": "stream",
     "text": [
      "Only stop argument values specified in the range function: \n",
      "0\n",
      "1\n",
      "2\n",
      "Start and stop argument values specified in the range function: \n",
      "2\n",
      "3\n",
      "4\n",
      "Start, stop, and step argument values specified in the range function: \n",
      "1\n",
      "4\n",
      "7\n"
     ]
    }
   ],
   "source": [
    "print('Only stop argument values specified in the range function: ')\n",
    "for x in range(3):\n",
    "    print(x)\n",
    "print('Start and stop argument values specified in the range function: ')\n",
    "for x in range(2, 5):\n",
    "    print(x)\n",
    "print('Start, stop, and step argument values specified in the range function: ')\n",
    "for x in range(1, 9, 3):\n",
    "    print(x)\n"
   ]
  },
  {
   "cell_type": "code",
   "execution_count": null,
   "id": "64cbb23f-79e4-45d1-acf6-386c57adebaa",
   "metadata": {},
   "outputs": [],
   "source": []
  }
 ],
 "metadata": {
  "kernelspec": {
   "display_name": "Python 3 (ipykernel)",
   "language": "python",
   "name": "python3"
  },
  "language_info": {
   "codemirror_mode": {
    "name": "ipython",
    "version": 3
   },
   "file_extension": ".py",
   "mimetype": "text/x-python",
   "name": "python",
   "nbconvert_exporter": "python",
   "pygments_lexer": "ipython3",
   "version": "3.12.7"
  }
 },
 "nbformat": 4,
 "nbformat_minor": 5
}
