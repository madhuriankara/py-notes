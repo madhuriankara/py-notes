{
 "cells": [
  {
   "cell_type": "code",
   "execution_count": 1,
   "id": "a03bb9d2-0c3d-4adc-8c6f-83c12f1d4084",
   "metadata": {},
   "outputs": [],
   "source": [
    "#created on 20250120"
   ]
  },
  {
   "cell_type": "code",
   "execution_count": 2,
   "id": "a27975c1-be40-4979-9d8c-c785b4dd12f9",
   "metadata": {},
   "outputs": [],
   "source": [
    "#https://www.scientecheasy.com/2022/11/python-pass-statement.html/"
   ]
  },
  {
   "cell_type": "code",
   "execution_count": 3,
   "id": "df6ddbc4-30ac-4b2c-b49d-0db215949d37",
   "metadata": {},
   "outputs": [],
   "source": [
    "x = 20\n",
    "y = 30\n",
    "if x > y:\n",
    "    pass\n"
   ]
  },
  {
   "cell_type": "code",
   "execution_count": 4,
   "id": "1787622c-294f-46f7-aec1-21740196f422",
   "metadata": {},
   "outputs": [
    {
     "name": "stdout",
     "output_type": "stream",
     "text": [
      "1 2 3 4 5 6 "
     ]
    }
   ],
   "source": [
    "count = 0\n",
    "while count <= 5:\n",
    "    count = count + 1\n",
    "    if count == 3:\n",
    "        pass # nothing to be done on this line for output.\n",
    "    print(count, end=' ')\n"
   ]
  },
  {
   "cell_type": "code",
   "execution_count": 5,
   "id": "60f3ed56-6ce6-4334-9a90-d2257addc9df",
   "metadata": {},
   "outputs": [
    {
     "name": "stdout",
     "output_type": "stream",
     "text": [
      "2 3 4 5 "
     ]
    }
   ],
   "source": [
    "for x in range(2, 6):\n",
    "    if x == 4:\n",
    "        pass\n",
    "    print(x, end=' ')\n"
   ]
  },
  {
   "cell_type": "code",
   "execution_count": 6,
   "id": "cecc6dff-506a-41d5-9262-0f251b6cebe9",
   "metadata": {},
   "outputs": [
    {
     "name": "stdout",
     "output_type": "stream",
     "text": [
      "1 3 5 7 9 "
     ]
    }
   ],
   "source": [
    "for n in range(1, 11):\n",
    "    if n % 2 == 0:\n",
    "        pass \n",
    "    else:\n",
    "        print(n, end=' ') \n"
   ]
  },
  {
   "cell_type": "code",
   "execution_count": 7,
   "id": "7f4afa2e-b61a-44a0-b78a-ea6e5d90046f",
   "metadata": {},
   "outputs": [
    {
     "name": "stdout",
     "output_type": "stream",
     "text": [
      "Current value:  6\n",
      "Current value:  5\n",
      "Current value:  4\n",
      "Pass block executed\n",
      "Current value:  3\n",
      "Current value:  2\n",
      "Current value:  1\n"
     ]
    }
   ],
   "source": [
    "num = 6\n",
    "while num > 0:\n",
    "    if num == 3:\n",
    "        pass\n",
    "        print('Pass block executed')\n",
    "    print('Current value: ',num)\n",
    "    num = num - 1\n"
   ]
  },
  {
   "cell_type": "code",
   "execution_count": null,
   "id": "1be4cbfa-ed88-4727-a75c-e88fa410b3f4",
   "metadata": {},
   "outputs": [],
   "source": [
    "\n"
   ]
  },
  {
   "cell_type": "code",
   "execution_count": null,
   "id": "3b903798-a7a9-4785-aa4d-c105520f724b",
   "metadata": {},
   "outputs": [],
   "source": []
  }
 ],
 "metadata": {
  "kernelspec": {
   "display_name": "Python 3 (ipykernel)",
   "language": "python",
   "name": "python3"
  },
  "language_info": {
   "codemirror_mode": {
    "name": "ipython",
    "version": 3
   },
   "file_extension": ".py",
   "mimetype": "text/x-python",
   "name": "python",
   "nbconvert_exporter": "python",
   "pygments_lexer": "ipython3",
   "version": "3.12.7"
  }
 },
 "nbformat": 4,
 "nbformat_minor": 5
}
