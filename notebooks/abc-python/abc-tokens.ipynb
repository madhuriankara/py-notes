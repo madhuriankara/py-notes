{
 "cells": [
  {
   "cell_type": "code",
   "execution_count": 1,
   "id": "015159a0-6ea8-43e3-b906-b5125d5389ed",
   "metadata": {},
   "outputs": [],
   "source": [
    "#created on 20250113"
   ]
  },
  {
   "cell_type": "code",
   "execution_count": 4,
   "id": "1b360d41-6a8a-4b39-95dd-b2700d7a14a4",
   "metadata": {},
   "outputs": [],
   "source": [
    "#https://www.scientecheasy.com/2022/09/python-tokens.html/"
   ]
  },
  {
   "cell_type": "code",
   "execution_count": 5,
   "id": "5d3dbb73-2f57-426e-871e-c4cd9d959ab9",
   "metadata": {},
   "outputs": [],
   "source": [
    "#Keywords (Reserved words) : True, False, None, class, continue, break, if, elif, else, from, or, def, del, import, etc.\n",
    "#Identifier : User-defined names\n",
    "#Literals : String, Numeric, Boolean, Collection,\n",
    "#Delimeters : ( ), { }, [ ], :, ., =, ;, +=, -=, *=, /=, %=, etc.\n",
    "#Operators : +, -, *, **, /, %, <<, >>, etc."
   ]
  },
  {
   "cell_type": "code",
   "execution_count": 6,
   "id": "fec84c5b-98ee-419e-a531-92bed1d853c3",
   "metadata": {},
   "outputs": [
    {
     "name": "stdin",
     "output_type": "stream",
     "text": [
      "Enter your first number =  10\n",
      "Enter your second number =  20\n"
     ]
    },
    {
     "name": "stdout",
     "output_type": "stream",
     "text": [
      "Result =  -10\n"
     ]
    }
   ],
   "source": [
    "# Python program to find the subtraction of two numbers.\n",
    "x = int(input(\"Enter your first number = \"))\n",
    "y = int(input(\"Enter your second number = \"))\n",
    "sub = x - y\n",
    "print(\"Result = \", sub)\n"
   ]
  },
  {
   "cell_type": "code",
   "execution_count": null,
   "id": "25e87aa0-0145-451e-a48a-1d56988a8de4",
   "metadata": {},
   "outputs": [],
   "source": []
  }
 ],
 "metadata": {
  "kernelspec": {
   "display_name": "Python 3 (ipykernel)",
   "language": "python",
   "name": "python3"
  },
  "language_info": {
   "codemirror_mode": {
    "name": "ipython",
    "version": 3
   },
   "file_extension": ".py",
   "mimetype": "text/x-python",
   "name": "python",
   "nbconvert_exporter": "python",
   "pygments_lexer": "ipython3",
   "version": "3.12.7"
  }
 },
 "nbformat": 4,
 "nbformat_minor": 5
}
