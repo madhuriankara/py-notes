{
 "cells": [
  {
   "cell_type": "code",
   "execution_count": 1,
   "id": "8c4118d6-b6fd-4b89-8541-e1da52d90717",
   "metadata": {},
   "outputs": [],
   "source": [
    "#created on 20250115"
   ]
  },
  {
   "cell_type": "code",
   "execution_count": 2,
   "id": "6fb042f1-74ec-4883-8041-6fa51a3239b1",
   "metadata": {},
   "outputs": [],
   "source": [
    "#https://www.scientecheasy.com/2022/09/global-and-local-variables-in-python.html/"
   ]
  },
  {
   "cell_type": "code",
   "execution_count": 3,
   "id": "5ea06040-cd03-43dd-aebd-902095a60b75",
   "metadata": {},
   "outputs": [],
   "source": [
    "#Global and Local Variables in Python"
   ]
  },
  {
   "cell_type": "code",
   "execution_count": 4,
   "id": "f07a761b-8ce9-4dc0-b6e0-a0079584613a",
   "metadata": {},
   "outputs": [
    {
     "name": "stdout",
     "output_type": "stream",
     "text": [
      "Inside function:  20\n",
      "Outside function:  20\n"
     ]
    }
   ],
   "source": [
    "x = 20 # a global variable.\n",
    "def my_function():\n",
    "    print(\"Inside function: \", x)\n",
    "my_function()\n",
    "print(\"Outside function: \", x)\n"
   ]
  },
  {
   "cell_type": "code",
   "execution_count": 5,
   "id": "468b2594-77e0-424e-80db-c2d9d6a0adc4",
   "metadata": {},
   "outputs": [
    {
     "name": "stdout",
     "output_type": "stream",
     "text": [
      "Inside function:  600\n",
      "Outside function:  20\n"
     ]
    }
   ],
   "source": [
    "x = 20\n",
    "def my_function():\n",
    "    x = 20 * 30 \n",
    "    print(\"Inside function: \", x)\n",
    "my_function()\n",
    "print(\"Outside function: \", x)\n"
   ]
  },
  {
   "cell_type": "code",
   "execution_count": 6,
   "id": "16df91c9-db2a-486d-8452-49cfb03756f4",
   "metadata": {},
   "outputs": [
    {
     "name": "stdout",
     "output_type": "stream",
     "text": [
      "Inside function:  Bob\n",
      "Inside another function:  Bob\n",
      "Outside function:  Bob\n"
     ]
    }
   ],
   "source": [
    "name = 'John' \n",
    "def my_function1():\n",
    "    global name\n",
    "    name = 'Bob' \n",
    "    print(\"Inside function: \", name)\n",
    "def my_function2():\n",
    "    print(\"Inside another function: \", name)\n",
    "\n",
    "my_function1()\n",
    "my_function2()\n",
    "\n",
    "# Accessing the global variable from outside the functions.\n",
    "print(\"Outside function: \", name)\n"
   ]
  },
  {
   "cell_type": "code",
   "execution_count": 12,
   "id": "8db118ee-3118-4c2b-90b4-7084d031b29d",
   "metadata": {},
   "outputs": [
    {
     "name": "stdout",
     "output_type": "stream",
     "text": [
      "Inside my_function1:  Dhanbad\n",
      "Inside my_function2:  Sydney\n",
      "Outside function:  Sydney\n"
     ]
    }
   ],
   "source": [
    "city = 'New York' \n",
    "def my_function1():\n",
    "    global city\n",
    "    city = 'Dhanbad'\n",
    "    print(\"Inside my_function1: \", city)\n",
    "def my_function2():\n",
    "    global city\n",
    "    city = 'Sydney'\n",
    "    print(\"Inside my_function2: \",city)\n",
    "my_function1()\n",
    "my_function2()\n",
    "print(\"Outside function: \", city)\n"
   ]
  },
  {
   "cell_type": "code",
   "execution_count": 11,
   "id": "049cbde7-ffc1-4ad2-963f-7ab35c48a92d",
   "metadata": {},
   "outputs": [
    {
     "name": "stdout",
     "output_type": "stream",
     "text": [
      "This is a global variable, and we can access it anywhere in the program.\n",
      "This is a local variable, and we can access it only inside the function body.\n"
     ]
    }
   ],
   "source": [
    "message1 = \"This is a global variable, and we can access it anywhere in the program.\"\n",
    "def display():\n",
    "    message2 = \"This is a local variable, and we can access it only inside the function body.\"\n",
    "    print(message2) \n",
    "\n",
    "print(message1); \n",
    "display() \n",
    "\n"
   ]
  },
  {
   "cell_type": "code",
   "execution_count": 10,
   "id": "6edd680d-119e-46ab-8e35-40aa916a438a",
   "metadata": {},
   "outputs": [
    {
     "name": "stdout",
     "output_type": "stream",
     "text": [
      "Harry   Deep\n",
      "John   Larry\n"
     ]
    }
   ],
   "source": [
    "student1 = \"John\"\n",
    "student2 = \"Larry\"\n",
    "\n",
    "def showMe():\n",
    "    student2 = \"Harry\" \n",
    "    student3 = \"Deep\"\n",
    "    print(student2, \" \",student3)\n",
    "\n",
    "showMe(); # calling function.\n",
    "print(student1, \" \", student2)\n"
   ]
  },
  {
   "cell_type": "code",
   "execution_count": null,
   "id": "672b31fd-2686-4146-af01-16c7e20d7313",
   "metadata": {},
   "outputs": [],
   "source": []
  }
 ],
 "metadata": {
  "kernelspec": {
   "display_name": "Python 3 (ipykernel)",
   "language": "python",
   "name": "python3"
  },
  "language_info": {
   "codemirror_mode": {
    "name": "ipython",
    "version": 3
   },
   "file_extension": ".py",
   "mimetype": "text/x-python",
   "name": "python",
   "nbconvert_exporter": "python",
   "pygments_lexer": "ipython3",
   "version": "3.12.7"
  }
 },
 "nbformat": 4,
 "nbformat_minor": 5
}
