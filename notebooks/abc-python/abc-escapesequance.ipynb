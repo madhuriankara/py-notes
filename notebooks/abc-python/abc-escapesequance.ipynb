{
 "cells": [
  {
   "cell_type": "code",
   "execution_count": 1,
   "id": "9e7b6e76-12c2-4391-8bae-f88e69ed4e0d",
   "metadata": {},
   "outputs": [],
   "source": [
    "#Escape Sequence "
   ]
  },
  {
   "cell_type": "code",
   "execution_count": 2,
   "id": "288ce4aa-6e31-406e-99ea-8116c6028e44",
   "metadata": {},
   "outputs": [
    {
     "ename": "SyntaxError",
     "evalue": "invalid syntax. Perhaps you forgot a comma? (200330748.py, line 1)",
     "output_type": "error",
     "traceback": [
      "\u001b[0;36m  Cell \u001b[0;32mIn[2], line 1\u001b[0;36m\u001b[0m\n\u001b[0;31m    print('He said 'Python is fun unlimited'')\u001b[0m\n\u001b[0m          ^\u001b[0m\n\u001b[0;31mSyntaxError\u001b[0m\u001b[0;31m:\u001b[0m invalid syntax. Perhaps you forgot a comma?\n"
     ]
    }
   ],
   "source": [
    "print('He said 'Python is fun unlimited'')\n"
   ]
  },
  {
   "cell_type": "code",
   "execution_count": 3,
   "id": "7475500e-f6aa-4e98-b952-e00a1b551a1f",
   "metadata": {},
   "outputs": [
    {
     "name": "stdout",
     "output_type": "stream",
     "text": [
      "He said 'Python is fun unlimited'\n"
     ]
    }
   ],
   "source": [
    "print(\"He said 'Python is fun unlimited'\")\n"
   ]
  },
  {
   "cell_type": "code",
   "execution_count": 4,
   "id": "d8ca7dfc-466d-4be8-9a57-2f2c6f0956da",
   "metadata": {},
   "outputs": [
    {
     "name": "stdout",
     "output_type": "stream",
     "text": [
      "He said \"Python is fun unlimited\"\n"
     ]
    }
   ],
   "source": [
    "print('He said \"Python is fun unlimited\"')\n"
   ]
  },
  {
   "cell_type": "code",
   "execution_count": 5,
   "id": "ef377b5d-ae1a-46ec-bc8d-30db6a37ec06",
   "metadata": {},
   "outputs": [
    {
     "name": "stdout",
     "output_type": "stream",
     "text": [
      "He said \"Python is fun unlimited\"\n"
     ]
    }
   ],
   "source": [
    "print(\"He said \\\"Python is fun unlimited\\\"\")\n"
   ]
  },
  {
   "cell_type": "code",
   "execution_count": 6,
   "id": "ec48ef0f-3d9a-4611-ba9d-94311be63048",
   "metadata": {},
   "outputs": [],
   "source": [
    "#Program based on the escape sequence \\’:"
   ]
  },
  {
   "cell_type": "code",
   "execution_count": 7,
   "id": "c43fba8d-bf5d-47db-bf1e-f8b1cfdbb720",
   "metadata": {},
   "outputs": [
    {
     "name": "stdout",
     "output_type": "stream",
     "text": [
      "Good Morning 'Scientech Easy'\n"
     ]
    }
   ],
   "source": [
    "# \\': Used for printing the text string with a single quotation mark.\n",
    "print('Good Morning \\'Scientech Easy\\'')\n"
   ]
  },
  {
   "cell_type": "code",
   "execution_count": 8,
   "id": "943d2d20-976a-4265-bc87-acbac181cf6e",
   "metadata": {},
   "outputs": [
    {
     "name": "stdout",
     "output_type": "stream",
     "text": [
      "Welcome to \"Scientech Easy\"\n"
     ]
    }
   ],
   "source": [
    "# \\\": Used for printing the text string with double quotation marks.\n",
    "print(\"Welcome to \\\"Scientech Easy\\\"\")\n"
   ]
  },
  {
   "cell_type": "code",
   "execution_count": 9,
   "id": "0bd24df5-2912-4763-be64-c624eaae0aab",
   "metadata": {},
   "outputs": [
    {
     "name": "stdout",
     "output_type": "stream",
     "text": [
      "Welcome to\tScientech Easy\n"
     ]
    }
   ],
   "source": [
    "# \\t: It gives a tab between two words.\n",
    "print(\"Welcome to\\tScientech Easy\")\n"
   ]
  },
  {
   "cell_type": "code",
   "execution_count": 10,
   "id": "9080b83e-2542-4374-a654-c9d94b231c51",
   "metadata": {},
   "outputs": [
    {
     "name": "stdout",
     "output_type": "stream",
     "text": [
      "Good Morning \n",
      "Scientech Easy\n",
      "*\n",
      "**\n",
      "***\n",
      "\n"
     ]
    }
   ],
   "source": [
    "# \\n: This escape sequence breaks the statement line into two lines.\n",
    "print(\"Good Morning \\nScientech Easy\")\n",
    "print(\"*\\n**\\n***\\n\")\n"
   ]
  },
  {
   "cell_type": "code",
   "execution_count": 11,
   "id": "231dcdde-68f3-4566-b2a1-6459d0258bde",
   "metadata": {},
   "outputs": [
    {
     "name": "stdout",
     "output_type": "stream",
     "text": [
      "Good Evening \\Scientech Easy\\\n"
     ]
    }
   ],
   "source": [
    "# \\\\: It prints the text string with backslash.\n",
    "print('Good Evening \\\\Scientech Easy\\\\')\n"
   ]
  },
  {
   "cell_type": "code",
   "execution_count": 12,
   "id": "b022158e-e6bd-41a8-80df-1a630a815867",
   "metadata": {},
   "outputs": [
    {
     "name": "stdout",
     "output_type": "stream",
     "text": [
      "Scientech Easy\n"
     ]
    }
   ],
   "source": [
    "# \\r: This escape sequence moves the output \\\n",
    "# point back to the beginning of the line without moving down a line (generally).\n",
    "print('Good Morning \\rScientech Easy')"
   ]
  },
  {
   "cell_type": "code",
   "execution_count": 13,
   "id": "157f1729-ca17-4bd9-aa7f-ade35e0f50f3",
   "metadata": {},
   "outputs": [
    {
     "name": "stdout",
     "output_type": "stream",
     "text": [
      "Employee code:  IT-35264 \n",
      "Name:  Ivaan Sagar\n",
      "Designation:  Sr. Software Programmer \tCompany:  TCS\n",
      "Annual Salary:  USD 40000\n"
     ]
    }
   ],
   "source": [
    "emp_code = \"IT-35264\"\n",
    "name = \"Ivaan Sagar\"\n",
    "desig = \"Sr. Software Programmer\"\n",
    "comp = \"TCS\"\n",
    "salary = \"USD 40000\"\n",
    "\n",
    "print(\"Employee code: \", emp_code, \"\\nName: \", name)\n",
    "print(\"Designation: \",desig, \"\\tCompany: \", comp)\n",
    "print(\"Annual Salary: \", salary)\n"
   ]
  },
  {
   "cell_type": "code",
   "execution_count": 14,
   "id": "3f5b2e61-9605-4a8c-96f8-3324d9c033bf",
   "metadata": {},
   "outputs": [
    {
     "name": "stdout",
     "output_type": "stream",
     "text": [
      "1. Hello 'Python\n",
      "2. Hello \"Python\n",
      "3. Hello \tPython\n",
      "4. Hello \n",
      "Python\n",
      "Pythonlo \n",
      "6. Hello \u0007 Python\n",
      "7. Hello \\Python\n",
      "8. \\ooo 20\n",
      "9. Hello \n",
      "Python\n",
      "10. HelloPython\n",
      "11. Hello \f",
      "Python\n",
      "12. Hello \u000b",
      "Python\n"
     ]
    },
    {
     "name": "stderr",
     "output_type": "stream",
     "text": [
      "<>:8: SyntaxWarning: invalid escape sequence '\\o'\n",
      "<>:8: SyntaxWarning: invalid escape sequence '\\o'\n",
      "/var/folders/26/1_zstvd1579g9j700z2jnmp40000gn/T/ipykernel_53479/839562236.py:8: SyntaxWarning: invalid escape sequence '\\o'\n",
      "  print(\"8. \\ooo 20\")\n"
     ]
    }
   ],
   "source": [
    "print(\"1. Hello \\'Python\")\n",
    "print(\"2. Hello \\\"Python\")\n",
    "print(\"3. Hello \\tPython\")\n",
    "print(\"4. Hello \\nPython\")\n",
    "print(\"5. Hello \\rPython\")\n",
    "print(\"6. Hello \\a Python\")\n",
    "print(\"7. Hello \\\\Python\")\n",
    "print(\"8. \\ooo 20\")\n",
    "print(\"9. Hello \\nPython\")\n",
    "print(\"10. Hello \\bPython\")\n",
    "print(\"11. Hello \\fPython\")\n",
    "print(\"12. Hello \\vPython\")\n"
   ]
  },
  {
   "cell_type": "code",
   "execution_count": null,
   "id": "5fd1fdfc-09b0-47f9-a484-6c957a4ac41a",
   "metadata": {},
   "outputs": [],
   "source": []
  }
 ],
 "metadata": {
  "kernelspec": {
   "display_name": "Python 3 (ipykernel)",
   "language": "python",
   "name": "python3"
  },
  "language_info": {
   "codemirror_mode": {
    "name": "ipython",
    "version": 3
   },
   "file_extension": ".py",
   "mimetype": "text/x-python",
   "name": "python",
   "nbconvert_exporter": "python",
   "pygments_lexer": "ipython3",
   "version": "3.12.7"
  }
 },
 "nbformat": 4,
 "nbformat_minor": 5
}
