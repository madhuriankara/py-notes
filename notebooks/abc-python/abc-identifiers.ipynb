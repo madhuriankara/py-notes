{
 "cells": [
  {
   "cell_type": "code",
   "execution_count": 1,
   "id": "4948f929-07a1-4113-b72c-dee80fed1564",
   "metadata": {},
   "outputs": [],
   "source": [
    "#created on 20250113"
   ]
  },
  {
   "cell_type": "code",
   "execution_count": 2,
   "id": "c743f914-fe2a-4d01-8534-5064f7cff0d2",
   "metadata": {},
   "outputs": [],
   "source": [
    "#https://www.scientecheasy.com/2022/09/identifiers-in-python.html/"
   ]
  },
  {
   "cell_type": "code",
   "execution_count": 3,
   "id": "4de8a945-96b9-4fad-9fa6-8418451b07f1",
   "metadata": {},
   "outputs": [],
   "source": [
    "#Five Rules for writing Identifiers in Python\n"
   ]
  },
  {
   "cell_type": "code",
   "execution_count": 4,
   "id": "b6b9b202-5f3e-4eee-90e6-4fffa0998339",
   "metadata": {},
   "outputs": [
    {
     "ename": "SyntaxError",
     "evalue": "invalid syntax (1551882446.py, line 1)",
     "output_type": "error",
     "traceback": [
      "\u001b[0;36m  Cell \u001b[0;32mIn[4], line 1\u001b[0;36m\u001b[0m\n\u001b[0;31m    class = 10\u001b[0m\n\u001b[0m          ^\u001b[0m\n\u001b[0;31mSyntaxError\u001b[0m\u001b[0;31m:\u001b[0m invalid syntax\n"
     ]
    }
   ],
   "source": [
    "class = 10\n",
    "print(class)"
   ]
  },
  {
   "cell_type": "code",
   "execution_count": 5,
   "id": "f14b916f-73fa-4af3-b273-276d22a1d1ce",
   "metadata": {},
   "outputs": [
    {
     "name": "stdout",
     "output_type": "stream",
     "text": [
      "RSVM\n"
     ]
    }
   ],
   "source": [
    "class_ = \"RSVM\"\n",
    "print(class_)\n"
   ]
  },
  {
   "cell_type": "code",
   "execution_count": null,
   "id": "0acd4009-65c9-40e5-9e18-2c952d4d71b4",
   "metadata": {},
   "outputs": [],
   "source": [
    "#Identifiers does not include symbols !, @, #, $, % "
   ]
  },
  {
   "cell_type": "code",
   "execution_count": 6,
   "id": "4fb84573-1440-4802-9812-7d83f4c21881",
   "metadata": {},
   "outputs": [
    {
     "ename": "SyntaxError",
     "evalue": "invalid syntax (633319357.py, line 1)",
     "output_type": "error",
     "traceback": [
      "\u001b[0;36m  Cell \u001b[0;32mIn[6], line 1\u001b[0;36m\u001b[0m\n\u001b[0;31m    school@ = \"RSVM\"\u001b[0m\n\u001b[0m            ^\u001b[0m\n\u001b[0;31mSyntaxError\u001b[0m\u001b[0;31m:\u001b[0m invalid syntax\n"
     ]
    }
   ],
   "source": [
    "school@ = \"RSVM\"\n",
    "print(school@)\n"
   ]
  },
  {
   "cell_type": "code",
   "execution_count": null,
   "id": "651d112f-4a33-4cf4-950f-ffb4e47cdca7",
   "metadata": {},
   "outputs": [],
   "source": []
  }
 ],
 "metadata": {
  "kernelspec": {
   "display_name": "Python 3 (ipykernel)",
   "language": "python",
   "name": "python3"
  },
  "language_info": {
   "codemirror_mode": {
    "name": "ipython",
    "version": 3
   },
   "file_extension": ".py",
   "mimetype": "text/x-python",
   "name": "python",
   "nbconvert_exporter": "python",
   "pygments_lexer": "ipython3",
   "version": "3.12.7"
  }
 },
 "nbformat": 4,
 "nbformat_minor": 5
}
