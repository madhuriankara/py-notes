{
 "cells": [
  {
   "cell_type": "code",
   "execution_count": 1,
   "id": "63257757-34ae-498d-a9e0-8344f82fe92b",
   "metadata": {},
   "outputs": [],
   "source": [
    "#created on 20250113"
   ]
  },
  {
   "cell_type": "code",
   "execution_count": 2,
   "id": "ad237d9d-dffc-4638-b89e-ec73577d082e",
   "metadata": {},
   "outputs": [],
   "source": [
    "#https://www.scientecheasy.com/2022/09/literals-in-python.html/"
   ]
  },
  {
   "cell_type": "code",
   "execution_count": 3,
   "id": "0d91af0e-3cef-43fa-96b6-1c26b76937d4",
   "metadata": {},
   "outputs": [],
   "source": [
    "#Literals"
   ]
  },
  {
   "cell_type": "code",
   "execution_count": 4,
   "id": "54b08372-0714-4a91-a5e5-dab5afcf6e19",
   "metadata": {},
   "outputs": [],
   "source": [
    "#single-line literal"
   ]
  },
  {
   "cell_type": "code",
   "execution_count": null,
   "id": "92d04a6e-9dee-4a27-af84-cddc0a7a6ff4",
   "metadata": {},
   "outputs": [],
   "source": [
    "single_line_string = ‘Scientech Easy’"
   ]
  },
  {
   "cell_type": "code",
   "execution_count": 6,
   "id": "72e1f25e-9db6-48e1-95a7-a512a229f045",
   "metadata": {},
   "outputs": [],
   "source": [
    "#Multi-line String"
   ]
  },
  {
   "cell_type": "code",
   "execution_count": 7,
   "id": "be1aa494-bfc0-4181-9d15-f05cc0669c8c",
   "metadata": {},
   "outputs": [
    {
     "name": "stdout",
     "output_type": "stream",
     "text": [
      "Welcome to Scientech Easy\n"
     ]
    }
   ],
   "source": [
    "multi_line_string = 'Welcome \\\n",
    "to \\\n",
    "Scientech Easy'\n",
    "print(multi_line_string)\n"
   ]
  },
  {
   "cell_type": "code",
   "execution_count": 8,
   "id": "7a36a3bd-eb14-4a6d-9e6a-7b7b2a209646",
   "metadata": {},
   "outputs": [],
   "source": [
    "#We can also create a multi-line string literal using triple quotation marks."
   ]
  },
  {
   "cell_type": "code",
   "execution_count": 9,
   "id": "571ddcb6-7946-47ea-9203-60220242eb06",
   "metadata": {},
   "outputs": [
    {
     "name": "stdout",
     "output_type": "stream",
     "text": [
      "Welcome to Scientech Easy, Dhanbad\n"
     ]
    }
   ],
   "source": [
    "multi_line_string = '''Welcome \\\n",
    "to \\\n",
    "Scientech Easy, \\\n",
    "Dhanbad'''\n",
    "print(multi_line_string)\n"
   ]
  },
  {
   "cell_type": "code",
   "execution_count": 10,
   "id": "0e85ae46-1ff0-4ff6-96d1-dbf09568c92b",
   "metadata": {},
   "outputs": [],
   "source": [
    "#Numeric literal "
   ]
  },
  {
   "cell_type": "code",
   "execution_count": 11,
   "id": "acb0f569-2f6e-4c12-934b-d078765cd54f",
   "metadata": {},
   "outputs": [
    {
     "name": "stdout",
     "output_type": "stream",
     "text": [
      "Decimal literal representation:  50\n",
      "Octal literal representation:  50\n",
      "Hexadecimal representation:  50\n"
     ]
    }
   ],
   "source": [
    "x = 50 # Decimal integer\n",
    "y = 0o62 # Octal integer\n",
    "z = 0x32 # Hexadecimal integer\n",
    "\n",
    "print(\"Decimal literal representation: \", x)\n",
    "print(\"Octal literal representation: \", y)\n",
    "print(\"Hexadecimal representation: \", z)\n"
   ]
  },
  {
   "cell_type": "code",
   "execution_count": 12,
   "id": "224aba7a-8859-4853-8dc0-570351fa997b",
   "metadata": {},
   "outputs": [],
   "source": [
    "#floating-point"
   ]
  },
  {
   "cell_type": "code",
   "execution_count": 13,
   "id": "586d8dcb-96f5-4a56-a10e-abf69fb9b786",
   "metadata": {},
   "outputs": [
    {
     "name": "stdout",
     "output_type": "stream",
     "text": [
      "0.75\n",
      "0.75\n"
     ]
    }
   ],
   "source": [
    "x = 75e-2\n",
    "y = 0.75\n",
    "print(x)\n",
    "print(y)\n"
   ]
  },
  {
   "cell_type": "code",
   "execution_count": 14,
   "id": "0b5edf7d-1d52-4fbf-b933-02678bdf69e9",
   "metadata": {},
   "outputs": [],
   "source": [
    "#Complex literal"
   ]
  },
  {
   "cell_type": "code",
   "execution_count": 15,
   "id": "1f104c13-d133-4e3b-99e9-600ee0a9a634",
   "metadata": {},
   "outputs": [
    {
     "name": "stdout",
     "output_type": "stream",
     "text": [
      "(5+10j)\n",
      "2j\n"
     ]
    }
   ],
   "source": [
    "# complex literal\n",
    "a = 5 + 10j\n",
    "b = 2j\n",
    "print(a)\n",
    "print(b)\n"
   ]
  },
  {
   "cell_type": "code",
   "execution_count": 16,
   "id": "063cddcb-15c9-4a30-b560-9a8ee80d608e",
   "metadata": {},
   "outputs": [],
   "source": [
    "#Boolean literals"
   ]
  },
  {
   "cell_type": "code",
   "execution_count": 17,
   "id": "228ab68a-8ce5-4265-b779-7844385aa4d4",
   "metadata": {},
   "outputs": [
    {
     "name": "stdout",
     "output_type": "stream",
     "text": [
      "a is  True\n",
      "b is  False\n",
      "c is  6\n",
      "d is  5\n"
     ]
    }
   ],
   "source": [
    "# boolean literals\n",
    "a = (9 == 9)\n",
    "b = (5 == False)\n",
    "c = True + 5\n",
    "d = False + 5 \n",
    "\n",
    "print(\"a is \", a)\n",
    "print(\"b is \", b)\n",
    "print(\"c is \", c)\n",
    "print(\"d is \", d)\n"
   ]
  },
  {
   "cell_type": "code",
   "execution_count": 18,
   "id": "9b230379-93f0-4a9b-9476-4a3bc228f68f",
   "metadata": {},
   "outputs": [],
   "source": [
    "#Special literals\n",
    "#Python language contains only one special literal, i.e., None"
   ]
  },
  {
   "cell_type": "code",
   "execution_count": 19,
   "id": "e5488583-b32a-49ae-999f-3b05a4fd46a6",
   "metadata": {},
   "outputs": [
    {
     "name": "stdout",
     "output_type": "stream",
     "text": [
      "None\n"
     ]
    }
   ],
   "source": [
    "# Special literals\n",
    "a = None\n",
    "print(a) \n"
   ]
  },
  {
   "cell_type": "code",
   "execution_count": 20,
   "id": "4e9b5121-f1c6-490a-abb2-3b7dcb170cdc",
   "metadata": {},
   "outputs": [],
   "source": [
    "#List literals"
   ]
  },
  {
   "cell_type": "code",
   "execution_count": 21,
   "id": "08bba41e-a45e-4ba1-a3af-18e5cf9693dc",
   "metadata": {},
   "outputs": [
    {
     "name": "stdout",
     "output_type": "stream",
     "text": [
      "['Scientech Easy', 'Joraphatak Road', 'Dhanbad']\n"
     ]
    }
   ],
   "source": [
    "# List literals\n",
    "address = ['Scientech Easy', 'Joraphatak Road', 'Dhanbad']\n",
    "print(address)\n"
   ]
  },
  {
   "cell_type": "code",
   "execution_count": 22,
   "id": "64f0490a-2480-4c12-ab2e-325a4442ed54",
   "metadata": {},
   "outputs": [
    {
     "name": "stdout",
     "output_type": "stream",
     "text": [
      "[1, 2, 3, 4, 5, 6, 7, 8, 9, 10]\n"
     ]
    }
   ],
   "source": [
    "num = [1, 2, 3, 4, 5, 6, 7, 8, 9, 10]\n",
    "print(num)\n"
   ]
  },
  {
   "cell_type": "code",
   "execution_count": 23,
   "id": "f4a496d9-e67a-4a45-8a60-7de8104829a6",
   "metadata": {},
   "outputs": [],
   "source": [
    "#Dictionary Literals"
   ]
  },
  {
   "cell_type": "code",
   "execution_count": 24,
   "id": "a19025ff-12a3-4a1e-b919-f949bf2f4b2d",
   "metadata": {},
   "outputs": [
    {
     "name": "stdout",
     "output_type": "stream",
     "text": [
      "{'a': 'apple', 'o': 'orange', 'b': 'banana'}\n"
     ]
    }
   ],
   "source": [
    "# Dictionary literals\n",
    "fruits_dict = {'a': 'apple',\n",
    "               'o': 'orange',\n",
    "               'b': 'banana'}\n",
    "print(fruits_dict)\n"
   ]
  },
  {
   "cell_type": "code",
   "execution_count": 25,
   "id": "2da82f50-a6ae-4842-90ec-75474ae02065",
   "metadata": {},
   "outputs": [],
   "source": [
    "#Tuple Literals"
   ]
  },
  {
   "cell_type": "code",
   "execution_count": 26,
   "id": "4b1f4fc0-1c3b-4d3e-ab1a-957748e074ac",
   "metadata": {},
   "outputs": [
    {
     "name": "stdout",
     "output_type": "stream",
     "text": [
      "(2, 4, 6, 8, 10, 12)\n",
      "('a', 'e', 'i', 'o', 'u')\n",
      "('North', 'South', 'East', 'West')\n"
     ]
    }
   ],
   "source": [
    "# tuple literals\n",
    "even_numbers = (2, 4, 6, 8, 10, 12)\n",
    "vowels = ('a','e','i','o','u')\n",
    "direction = ('North', 'South', 'East', 'West')\n",
    "\n",
    "print(even_numbers)\n",
    "print(vowels)\n",
    "print(direction)\n"
   ]
  },
  {
   "cell_type": "code",
   "execution_count": 27,
   "id": "981a2d2e-155e-4263-9c7b-b0c532a7851e",
   "metadata": {},
   "outputs": [],
   "source": [
    "#Set Literals\n",
    "#Set literals in Python are a well-defined collection of unordered data that cannot be changed."
   ]
  },
  {
   "cell_type": "code",
   "execution_count": 28,
   "id": "5cbb7eeb-dca0-48ce-9a0d-0d15b69ab748",
   "metadata": {},
   "outputs": [
    {
     "name": "stdout",
     "output_type": "stream",
     "text": [
      "{'Apple', 'Grape', 'Mango', 'Orange', 'Banana'}\n"
     ]
    }
   ],
   "source": [
    "# Set literals\n",
    "fruits = {'Apple', 'Mango', 'Banana', 'Orange', 'Grape'}\n",
    "print(fruits)\n"
   ]
  },
  {
   "cell_type": "code",
   "execution_count": 29,
   "id": "5922c31d-6166-4347-b999-47ba65d72a89",
   "metadata": {},
   "outputs": [
    {
     "name": "stdout",
     "output_type": "stream",
     "text": [
      "{'Apple', 'Grape', 'Mango', 'Orange', 'Banana'}\n"
     ]
    }
   ],
   "source": [
    "# Set literals\n",
    "fruits = {'Apple', 'Mango', 'Banana', 'Orange', 'Grape'}\n",
    "print(fruits)\n"
   ]
  },
  {
   "cell_type": "code",
   "execution_count": null,
   "id": "b4240a9e-4a2c-478e-929c-ad5355676852",
   "metadata": {},
   "outputs": [],
   "source": []
  }
 ],
 "metadata": {
  "kernelspec": {
   "display_name": "Python 3 (ipykernel)",
   "language": "python",
   "name": "python3"
  },
  "language_info": {
   "codemirror_mode": {
    "name": "ipython",
    "version": 3
   },
   "file_extension": ".py",
   "mimetype": "text/x-python",
   "name": "python",
   "nbconvert_exporter": "python",
   "pygments_lexer": "ipython3",
   "version": "3.12.7"
  }
 },
 "nbformat": 4,
 "nbformat_minor": 5
}
