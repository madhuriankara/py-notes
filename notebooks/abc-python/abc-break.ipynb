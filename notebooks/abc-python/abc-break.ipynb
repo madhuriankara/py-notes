{
 "cells": [
  {
   "cell_type": "code",
   "execution_count": 1,
   "id": "fab48dc4-5d67-4b38-b4fc-41295d0b26a7",
   "metadata": {},
   "outputs": [],
   "source": [
    "#created on 20250120"
   ]
  },
  {
   "cell_type": "code",
   "execution_count": 2,
   "id": "e3d303ca-7119-44b8-8818-92c6578f8f47",
   "metadata": {},
   "outputs": [],
   "source": [
    "#https://www.scientecheasy.com/2022/11/break-statement-in-python.html/"
   ]
  },
  {
   "cell_type": "code",
   "execution_count": 6,
   "id": "baa7a23a-b824-4eb7-9a70-924fc7b59bb1",
   "metadata": {},
   "outputs": [
    {
     "name": "stdout",
     "output_type": "stream",
     "text": [
      "X =  1\n",
      "X =  2\n",
      "X =  3\n",
      "X =  4\n"
     ]
    }
   ],
   "source": [
    "for x in range(1, 11):\n",
    "    if x == 5:\n",
    "        break \n",
    "    print(\"X = \",x)\n"
   ]
  },
  {
   "cell_type": "code",
   "execution_count": 7,
   "id": "94acc490-a7b0-4912-bb34-8502a0a9e644",
   "metadata": {},
   "outputs": [
    {
     "name": "stdout",
     "output_type": "stream",
     "text": [
      "Current letter is  P\n",
      "Current letter is  y\n"
     ]
    }
   ],
   "source": [
    "for letter in 'Python':\n",
    "    if letter == 't':\n",
    "        break\n",
    "    print('Current letter is ',letter)\n"
   ]
  },
  {
   "cell_type": "code",
   "execution_count": 10,
   "id": "1e771c3d-9c65-48a9-b6ae-a503eab69193",
   "metadata": {},
   "outputs": [
    {
     "name": "stdin",
     "output_type": "stream",
     "text": [
      "Enter a number:  79\n"
     ]
    },
    {
     "name": "stdout",
     "output_type": "stream",
     "text": [
      "Entered number not found in the list.\n"
     ]
    }
   ],
   "source": [
    "num = int(input('Enter a number: '))\n",
    "num_list = [20, 40, 60, 80, 100, 120]\n",
    "for n in num_list:\n",
    "    if n == num:\n",
    "        print('Entered number found in the list.')\n",
    "        break\n",
    "else:\n",
    "    print('Entered number not found in the list.')\n"
   ]
  },
  {
   "cell_type": "code",
   "execution_count": null,
   "id": "15473774-2daf-436b-af2f-77c23a067c48",
   "metadata": {},
   "outputs": [],
   "source": []
  }
 ],
 "metadata": {
  "kernelspec": {
   "display_name": "Python 3 (ipykernel)",
   "language": "python",
   "name": "python3"
  },
  "language_info": {
   "codemirror_mode": {
    "name": "ipython",
    "version": 3
   },
   "file_extension": ".py",
   "mimetype": "text/x-python",
   "name": "python",
   "nbconvert_exporter": "python",
   "pygments_lexer": "ipython3",
   "version": "3.12.7"
  }
 },
 "nbformat": 4,
 "nbformat_minor": 5
}
