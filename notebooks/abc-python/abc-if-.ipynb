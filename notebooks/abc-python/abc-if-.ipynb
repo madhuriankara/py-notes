{
 "cells": [
  {
   "cell_type": "code",
   "execution_count": 1,
   "id": "17fcdfdb-00a0-41a8-b8bf-717524c82bde",
   "metadata": {},
   "outputs": [],
   "source": [
    "#created on 20250121"
   ]
  },
  {
   "cell_type": "code",
   "execution_count": 2,
   "id": "d7ab1cd9-54aa-4cdd-aefb-0840a2d9475d",
   "metadata": {},
   "outputs": [
    {
     "name": "stdout",
     "output_type": "stream",
     "text": [
      "Code to be executed\n"
     ]
    }
   ],
   "source": [
    "if(True): # Here, we have used a boolean value True to check whether the condition is true or not.\n",
    "    print(\"Code to be executed\") # It will print statement. \n",
    "\n",
    "if(False): \n",
    "    print(\"Code not to be executed\") # It will not print statement."
   ]
  },
  {
   "cell_type": "code",
   "execution_count": 3,
   "id": "e57e99ed-aaf1-43db-99f2-c098ae00f47b",
   "metadata": {},
   "outputs": [
    {
     "name": "stdout",
     "output_type": "stream",
     "text": [
      "1  is a positive number\n",
      "10  is a nonzero number\n",
      "x and y are equal number\n",
      "x is less than y\n",
      "You are eligible to cast vote\n"
     ]
    }
   ],
   "source": [
    "x = 1\n",
    "if x > 0:\n",
    "    print(x, \" is a positive number\")\n",
    "\n",
    "x = 10\n",
    "if(x): # same as: if(x != 0)\n",
    "    print(x, \" is a nonzero number\");\n",
    "\n",
    "x, y = 10, 10\n",
    "if(x == y):\n",
    "    print(\"x and y are equal number\")\n",
    "\n",
    "x, y = 5, 10\n",
    "if x < y:\n",
    "    print(\"x is less than y\")\n",
    "\n",
    "x = True\n",
    "if(x): # Here, we have used a boolean value to check whether the condition is true or not.\n",
    "    print(\"You are eligible to cast vote\")\n"
   ]
  },
  {
   "cell_type": "code",
   "execution_count": 4,
   "id": "cc94e1f9-eb16-4346-95d6-dcbc2d5aba31",
   "metadata": {},
   "outputs": [
    {
     "name": "stdout",
     "output_type": "stream",
     "text": [
      "Area of circle:  19.625\n"
     ]
    }
   ],
   "source": [
    "radius = 2.5\n",
    "pi = 3.14\n",
    "if radius >= 0:\n",
    "    area = radius * radius * pi\n",
    "    print(\"Area of circle: \", area)\n"
   ]
  },
  {
   "cell_type": "code",
   "execution_count": 7,
   "id": "b672d15f-ae28-4a2c-8fbf-8e8b874cd59c",
   "metadata": {},
   "outputs": [
    {
     "name": "stdin",
     "output_type": "stream",
     "text": [
      "Enter a number that you want to check it is divisible by 2 or not:  9\n"
     ]
    },
    {
     "name": "stdout",
     "output_type": "stream",
     "text": [
      "9  is not divisible by 2.\n"
     ]
    }
   ],
   "source": [
    "# Prompt the user to enter a number.\n",
    "num = int(input(\"Enter a number that you want to check it is divisible by 2 or not: \"))\n",
    "if num % 2 == 0:\n",
    "    print(num, \" is divisible by 2.\")\n",
    "if num % 2 != 0:\n",
    "    print(num, \" is not divisible by 2.\")\n"
   ]
  },
  {
   "cell_type": "code",
   "execution_count": 8,
   "id": "c42a18a6-1363-41ff-a44e-4a3715c0efc4",
   "metadata": {},
   "outputs": [
    {
     "name": "stdin",
     "output_type": "stream",
     "text": [
      "Enter your age to check you are eligible to cast a vote or not:  30\n"
     ]
    },
    {
     "name": "stdout",
     "output_type": "stream",
     "text": [
      "You are eligible to cast a vote.\n"
     ]
    }
   ],
   "source": [
    "# Prompt the user to enter your age.\n",
    "age = int(input(\"Enter your age to check you are eligible to cast a vote or not: \"))\n",
    "if age >= 18:\n",
    "    print(\"You are eligible to cast a vote.\")\n",
    "\n",
    "if age < 18:\n",
    "    print(\"You are not eligible to cast a vote\")\n"
   ]
  },
  {
   "cell_type": "code",
   "execution_count": 9,
   "id": "f8b78793-c921-4f86-b04a-ef750504a334",
   "metadata": {},
   "outputs": [
    {
     "name": "stdin",
     "output_type": "stream",
     "text": [
      "Enter your physics marks:  99\n",
      "Enter your chemistry marks:  99\n",
      "Enter your math marks:  99\n"
     ]
    },
    {
     "name": "stdout",
     "output_type": "stream",
     "text": [
      "Total marks obtained:  297\n",
      "Your percentage:  99.0\n",
      "Grade A\n"
     ]
    }
   ],
   "source": [
    "# Prompt the user to enter marks of three subjects.\n",
    "phy = int(input(\"Enter your physics marks: \"))\n",
    "chem = int(input(\"Enter your chemistry marks: \"))\n",
    "maths = int(input(\"Enter your math marks: \"))\n",
    "totalMarks = phy + chem + maths\n",
    "\n",
    "myPer = totalMarks / 3\n",
    "print(\"Total marks obtained: \", totalMarks)\n",
    "print(\"Your percentage: \", myPer)\n",
    "\n",
    "if(myPer >= 90.0): \n",
    "    print(\"Grade A\")\n",
    "if(myPer < 90.0): \n",
    "    print(\"Grade B\")\n"
   ]
  },
  {
   "cell_type": "code",
   "execution_count": 10,
   "id": "aeb3da3c-a214-4237-81a8-28a0b81dee8c",
   "metadata": {},
   "outputs": [
    {
     "name": "stdin",
     "output_type": "stream",
     "text": [
      "Enter a number:  9\n"
     ]
    },
    {
     "name": "stdout",
     "output_type": "stream",
     "text": [
      "9 is a odd number\n"
     ]
    }
   ],
   "source": [
    "# Read the number from the user to check even or odd.\n",
    "num = int(input(\"Enter a number: \"))\n",
    "if num % 2 == 0:\n",
    "    print(num, 'is an even number')\n",
    "if num % 2 != 0:\n",
    "    print(num, 'is a odd number')\n"
   ]
  },
  {
   "cell_type": "code",
   "execution_count": 11,
   "id": "0fc6935f-8ab1-4743-a1a2-ed79cc843ba9",
   "metadata": {},
   "outputs": [
    {
     "name": "stdout",
     "output_type": "stream",
     "text": [
      "y is greater than x but smaller than z\n",
      "y is divisible by x\n"
     ]
    }
   ],
   "source": [
    "x, y, z = 20, 40, 50\n",
    "if((y > x) and (y < z)): # True \n",
    "     print(\"y is greater than x but smaller than z\") \n",
    "if((x > y) and (y < z)): # False\n",
    "     print(\"z is greater than x, y\")\n",
    "if(y % x == 0 and x != 0): # True\n",
    "     print(\"y is divisible by x\")\n"
   ]
  },
  {
   "cell_type": "code",
   "execution_count": 12,
   "id": "8db13ee2-fca0-4bb6-8ffa-d092b786ae91",
   "metadata": {},
   "outputs": [
    {
     "name": "stdout",
     "output_type": "stream",
     "text": [
      "True\n",
      "True\n",
      "True\n"
     ]
    }
   ],
   "source": [
    "x, y, z = 2, 1, 4\n",
    "if(value := x > y or y < z): \n",
    "    print(value) \n",
    "if(value := x > y or y > z):\n",
    "    print(value)\n",
    "\n",
    "if(value := x < y or y < z):\n",
    "    print(value)\n",
    "if(value := x < y or y > z):\n",
    "    print(value)\n"
   ]
  },
  {
   "cell_type": "code",
   "execution_count": null,
   "id": "8b57b866-2379-4782-86e2-a8bb0b45a857",
   "metadata": {},
   "outputs": [],
   "source": []
  }
 ],
 "metadata": {
  "kernelspec": {
   "display_name": "Python 3 (ipykernel)",
   "language": "python",
   "name": "python3"
  },
  "language_info": {
   "codemirror_mode": {
    "name": "ipython",
    "version": 3
   },
   "file_extension": ".py",
   "mimetype": "text/x-python",
   "name": "python",
   "nbconvert_exporter": "python",
   "pygments_lexer": "ipython3",
   "version": "3.12.7"
  }
 },
 "nbformat": 4,
 "nbformat_minor": 5
}
