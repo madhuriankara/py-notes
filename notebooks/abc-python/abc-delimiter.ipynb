{
 "cells": [
  {
   "cell_type": "code",
   "execution_count": 1,
   "id": "9212dd0c-b202-4434-8355-85fa9a92aac7",
   "metadata": {},
   "outputs": [],
   "source": [
    "#Delimiters in Python"
   ]
  },
  {
   "cell_type": "code",
   "execution_count": 2,
   "id": "f6c1efa4-2399-482e-8b63-0e2138f11bee",
   "metadata": {},
   "outputs": [
    {
     "name": "stdout",
     "output_type": "stream",
     "text": [
      "Welcome to Scientech Easy, Dhanbad\n",
      "[1, 2, 3, 4, 5, 6, 7, 8, 9, 10]\n",
      "('Banana', 'Orange', 'Mango', 'Apple')\n",
      "{'Name': 'John', 'Age': 25, 'Salary': 50000}\n"
     ]
    }
   ],
   "source": [
    "# A string literal with a single quote delimiter.\n",
    "msg = 'Welcome to Scientech Easy, Dhanbad'\n",
    "\n",
    "# A list with a square braces delimiter ([ ]).\n",
    "num = [1, 2, 3, 4, 5, 6, 7, 8, 9, 10]\n",
    "\n",
    "# A tuple with parenthesis delimiter ( () ).\n",
    "fruits = ('Banana', 'Orange', 'Mango', 'Apple')\n",
    "\n",
    "# A dictionary with curly braces ({ }) delimiter.\n",
    "emp_profile = {\"Name\" : \"John\",\n",
    "               \"Age\" : 25,\n",
    "               \"Salary\" : 50000}\n",
    "\n",
    "print(msg)\n",
    "print(num)\n",
    "print(fruits)\n",
    "print(emp_profile)\n"
   ]
  },
  {
   "cell_type": "code",
   "execution_count": null,
   "id": "51c7d6e6-cf78-45dc-a6dc-531e68de01c3",
   "metadata": {},
   "outputs": [],
   "source": []
  }
 ],
 "metadata": {
  "kernelspec": {
   "display_name": "Python 3 (ipykernel)",
   "language": "python",
   "name": "python3"
  },
  "language_info": {
   "codemirror_mode": {
    "name": "ipython",
    "version": 3
   },
   "file_extension": ".py",
   "mimetype": "text/x-python",
   "name": "python",
   "nbconvert_exporter": "python",
   "pygments_lexer": "ipython3",
   "version": "3.12.7"
  }
 },
 "nbformat": 4,
 "nbformat_minor": 5
}
