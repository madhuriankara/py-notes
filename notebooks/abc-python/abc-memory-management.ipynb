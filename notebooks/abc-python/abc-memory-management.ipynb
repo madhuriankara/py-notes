{
 "cells": [
  {
   "cell_type": "code",
   "execution_count": 2,
   "id": "a6a6f32a-0da9-4526-985d-263e1f52a4e9",
   "metadata": {},
   "outputs": [],
   "source": [
    "#created on 20250115"
   ]
  },
  {
   "cell_type": "code",
   "execution_count": 3,
   "id": "c7e841dd-2427-41c3-b6a8-f104e8765ac7",
   "metadata": {},
   "outputs": [],
   "source": [
    "#https://www.scientecheasy.com/2022/09/memory-management-in-python.html/"
   ]
  },
  {
   "cell_type": "code",
   "execution_count": 4,
   "id": "7c5a83fb-89ea-428a-ba43-83d411700033",
   "metadata": {},
   "outputs": [
    {
     "name": "stdout",
     "output_type": "stream",
     "text": [
      "4316160048\n"
     ]
    }
   ],
   "source": [
    "x = 10\n",
    "print(id(x))\n"
   ]
  },
  {
   "cell_type": "code",
   "execution_count": 5,
   "id": "7831c80e-6988-4176-b8f0-b4c065d42699",
   "metadata": {},
   "outputs": [
    {
     "name": "stdout",
     "output_type": "stream",
     "text": [
      "4316160048\n",
      "4316160048\n"
     ]
    }
   ],
   "source": [
    "x = 10\n",
    "print(id(x))\n",
    "y = 10\n",
    "print(id(y))\n"
   ]
  },
  {
   "cell_type": "code",
   "execution_count": 6,
   "id": "9675cf7b-ca8f-4575-b458-a0fda242f365",
   "metadata": {},
   "outputs": [
    {
     "name": "stdout",
     "output_type": "stream",
     "text": [
      "4316160048\n",
      "4316160048\n",
      "4316160048\n"
     ]
    }
   ],
   "source": [
    "x = 10\n",
    "print(id(x))\n",
    "\n",
    "y = 10\n",
    "print(id(y))\n",
    "\n",
    "z = y\n",
    "print(id(z))\n"
   ]
  },
  {
   "cell_type": "code",
   "execution_count": 7,
   "id": "4f1a9eeb-c181-4aa5-afae-9948012691f5",
   "metadata": {},
   "outputs": [
    {
     "name": "stdout",
     "output_type": "stream",
     "text": [
      "Final value =  150\n"
     ]
    }
   ],
   "source": [
    "def func(x):\n",
    "    value = (x + 5) * 10\n",
    "    return value\n",
    "x = 10\n",
    "final_value = func(x)\n",
    "print(\"Final value = \", final_value)\n"
   ]
  },
  {
   "cell_type": "code",
   "execution_count": 8,
   "id": "92c23fbe-dcd5-4d53-9bb5-df5449169fbe",
   "metadata": {},
   "outputs": [],
   "source": [
    "def func(x):\n",
    "    value = (x + 5) * 10\n",
    "    return value\n"
   ]
  },
  {
   "cell_type": "code",
   "execution_count": null,
   "id": "8764fd3d-749d-432a-a785-9f69a8d3b225",
   "metadata": {},
   "outputs": [],
   "source": []
  }
 ],
 "metadata": {
  "kernelspec": {
   "display_name": "Python 3 (ipykernel)",
   "language": "python",
   "name": "python3"
  },
  "language_info": {
   "codemirror_mode": {
    "name": "ipython",
    "version": 3
   },
   "file_extension": ".py",
   "mimetype": "text/x-python",
   "name": "python",
   "nbconvert_exporter": "python",
   "pygments_lexer": "ipython3",
   "version": "3.12.7"
  }
 },
 "nbformat": 4,
 "nbformat_minor": 5
}
