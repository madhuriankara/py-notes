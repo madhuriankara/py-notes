{
 "cells": [
  {
   "cell_type": "code",
   "execution_count": 1,
   "id": "11ecc23d-a261-4590-ba70-490192bd2e61",
   "metadata": {},
   "outputs": [],
   "source": [
    "#created on 20250115"
   ]
  },
  {
   "cell_type": "code",
   "execution_count": 2,
   "id": "8a943a83-cb2f-4ed8-959d-1c7d072a18ac",
   "metadata": {},
   "outputs": [],
   "source": [
    "#https://www.scientecheasy.com/2022/10/operators-in-python.html/"
   ]
  },
  {
   "cell_type": "code",
   "execution_count": 3,
   "id": "672c2e13-4923-415c-82b0-d6a242525c28",
   "metadata": {},
   "outputs": [
    {
     "name": "stdout",
     "output_type": "stream",
     "text": [
      "Sum:  50\n"
     ]
    }
   ],
   "source": [
    "x = 20\n",
    "y = 30\n",
    "sum = x + y \n",
    "print(\"Sum: \", sum) \n"
   ]
  },
  {
   "cell_type": "code",
   "execution_count": 4,
   "id": "de1d3359-77b4-4faa-8624-c7401ad8963f",
   "metadata": {},
   "outputs": [
    {
     "name": "stdout",
     "output_type": "stream",
     "text": [
      "Sum of two numbers:  50.6\n"
     ]
    }
   ],
   "source": [
    "x = 20 \n",
    "y = 30.60 \n",
    "sum = x + y \n",
    "print(\"Sum of two numbers: \", sum) \n"
   ]
  },
  {
   "cell_type": "code",
   "execution_count": 5,
   "id": "8b5435d8-1cc7-4235-90e2-2d9f76285e7a",
   "metadata": {},
   "outputs": [
    {
     "name": "stdout",
     "output_type": "stream",
     "text": [
      "Full name:  JohnMichael\n"
     ]
    }
   ],
   "source": [
    "firstName = \"John\"\n",
    "lastName = \"Michael\"\n",
    "fullName = firstName + lastName \n",
    "print(\"Full name: \", fullName) \n"
   ]
  },
  {
   "cell_type": "code",
   "execution_count": 6,
   "id": "3fe12db7-d07f-47f0-9b06-e65ac473f4be",
   "metadata": {},
   "outputs": [],
   "source": [
    "#List Concatenation using (+) operator"
   ]
  },
  {
   "cell_type": "code",
   "execution_count": 7,
   "id": "8e9a51e4-168d-47ec-a1b8-a12021bd9bd9",
   "metadata": {},
   "outputs": [
    {
     "name": "stdout",
     "output_type": "stream",
     "text": [
      "[1, 2, 3, 4, 5, 6, 7, 8]\n"
     ]
    }
   ],
   "source": [
    "x = [1, 2, 3, 4]\n",
    "y = [5, 6, 7, 8]\n",
    "result = x + y \n",
    "print(result)\n"
   ]
  },
  {
   "cell_type": "code",
   "execution_count": 8,
   "id": "e59a3354-e916-4206-9f65-d83c8aa5edbf",
   "metadata": {},
   "outputs": [
    {
     "name": "stdout",
     "output_type": "stream",
     "text": [
      "('Hello', 20, 20.5, 'Hi', 20, 89)\n"
     ]
    }
   ],
   "source": [
    "x = ('Hello', 20)\n",
    "y = (20.50, 'Hi')\n",
    "z = (20, 89)\n",
    "result = x + y + z\n",
    "print(result)\n"
   ]
  },
  {
   "cell_type": "code",
   "execution_count": 9,
   "id": "9204c5a4-a5a0-4e69-a8bf-7ad6d5263359",
   "metadata": {},
   "outputs": [
    {
     "name": "stdout",
     "output_type": "stream",
     "text": [
      "Subtraction:  -10.600000000000001\n"
     ]
    }
   ],
   "source": [
    "x = 20\n",
    "y = 30.60\n",
    "sub = x - y\n",
    "print(\"Subtraction: \", +sub)\n"
   ]
  },
  {
   "cell_type": "code",
   "execution_count": 10,
   "id": "a95b8862-9952-47df-b57d-31638a130787",
   "metadata": {},
   "outputs": [
    {
     "name": "stdout",
     "output_type": "stream",
     "text": [
      "Multiplication:  404.0\n"
     ]
    }
   ],
   "source": [
    "x = 20\n",
    "y = 20.20\n",
    "result = x * y \n",
    "print(\"Multiplication: \", result)\n"
   ]
  },
  {
   "cell_type": "code",
   "execution_count": 11,
   "id": "4d05f41d-72af-43ae-a4ee-7f0a65e9e7d2",
   "metadata": {},
   "outputs": [
    {
     "name": "stdout",
     "output_type": "stream",
     "text": [
      "Result:  HelloHello\n"
     ]
    }
   ],
   "source": [
    "text = 'Hello'\n",
    "y = 2\n",
    "result = text * y\n",
    "print(\"Result: \", result)\n"
   ]
  },
  {
   "cell_type": "code",
   "execution_count": 12,
   "id": "50f8492f-090f-4c33-a979-06292f77b583",
   "metadata": {},
   "outputs": [
    {
     "name": "stdout",
     "output_type": "stream",
     "text": [
      "Result:  ['Python', 'Programming', 'Python', 'Programming']\n"
     ]
    }
   ],
   "source": [
    "list = ['Python', 'Programming']\n",
    "y = 2\n",
    "result = list * y\n",
    "print(\"Result: \", result)\n"
   ]
  },
  {
   "cell_type": "code",
   "execution_count": 13,
   "id": "57b695e0-a536-46c3-90f9-3ff2acdef4d6",
   "metadata": {},
   "outputs": [
    {
     "name": "stdout",
     "output_type": "stream",
     "text": [
      "Division:  1.0\n",
      "Division:  2.0\n"
     ]
    }
   ],
   "source": [
    "x = 5 \n",
    "y = 5 \n",
    "z = x / y\n",
    "print(\"Division: \", z)\n",
    "\n",
    "x = 2.4 \n",
    "y = 1.2 \n",
    "z = x / y\n",
    "print(\"Division: \", z)\n"
   ]
  },
  {
   "cell_type": "code",
   "execution_count": 14,
   "id": "860c041a-62ff-4224-8573-8a8a73683dfc",
   "metadata": {},
   "outputs": [
    {
     "name": "stdout",
     "output_type": "stream",
     "text": [
      "Remainder after division:  3\n",
      "Remainder after division:  0.20000000000000018\n"
     ]
    }
   ],
   "source": [
    "num1 = 23\n",
    "num2 = 5\n",
    "num = num1 % num2\n",
    "print(\"Remainder after division: \", num)\n",
    "\n",
    "x = 2.6\n",
    "y = 1.2\n",
    "z = x % y\n",
    "print(\"Remainder after division: \", z)\n"
   ]
  },
  {
   "cell_type": "code",
   "execution_count": 15,
   "id": "067d8398-8415-4dcb-9c8f-28982aec50f7",
   "metadata": {},
   "outputs": [
    {
     "name": "stdout",
     "output_type": "stream",
     "text": [
      "Result:  16\n",
      "Result:  1.7279999999999998\n"
     ]
    }
   ],
   "source": [
    "num1 = 2\n",
    "num2 = 4\n",
    "exp = num1 ** num2\n",
    "print(\"Result: \", exp)\n",
    "\n",
    "x = 1.2\n",
    "y = 3\n",
    "exp = x ** y\n",
    "print(\"Result: \", exp)\n"
   ]
  },
  {
   "cell_type": "code",
   "execution_count": 16,
   "id": "3a5b17be-4c38-4276-bbe7-bb54b038f152",
   "metadata": {},
   "outputs": [
    {
     "name": "stdout",
     "output_type": "stream",
     "text": [
      "Result:  2\n",
      "Result:  3.0\n"
     ]
    }
   ],
   "source": [
    "num1 = 5\n",
    "num2 = 2\n",
    "num = num1 // num2\n",
    "print(\"Result: \", num)\n",
    "\n",
    "x = 12.2\n",
    "y = 3.1\n",
    "z = x // y\n",
    "print(\"Result: \", z)\n"
   ]
  },
  {
   "cell_type": "code",
   "execution_count": 17,
   "id": "094bc099-044a-4851-8b17-94f57e60fd54",
   "metadata": {},
   "outputs": [
    {
     "name": "stdin",
     "output_type": "stream",
     "text": [
      "Enter the first number:  10\n",
      "Enter the second number:  20\n"
     ]
    },
    {
     "name": "stdout",
     "output_type": "stream",
     "text": [
      "Addition (num1 + num2):  30\n",
      "Subtraction (num1 - num2):  -10\n",
      "Multiplication (num1 * num2):  200\n",
      "Division (num1 / num2):  0.5\n",
      "Floor division (num1 // num2):  0\n",
      "Modulus (num1 % num2):  10\n",
      "Exponential (num1 ** num2):  100000000000000000000\n"
     ]
    }
   ],
   "source": [
    "num1 = int(input(\"Enter the first number: \"))\n",
    "num2 = int(input(\"Enter the second number: \"))\n",
    "\n",
    "print(\"Addition (num1 + num2): \", (num1 + num2))\n",
    "print(\"Subtraction (num1 - num2): \", (num1 - num2))\n",
    "print(\"Multiplication (num1 * num2): \", (num1 * num2))\n",
    "\n",
    "print(\"Division (num1 / num2): \", (num1 / num2))\n",
    "print(\"Floor division (num1 // num2): \", (num1 // num2))\n",
    "\n",
    "print(\"Modulus (num1 % num2): \", (num1 % num2))\n",
    "print(\"Exponential (num1 ** num2): \", (num1 ** num2))\n"
   ]
  },
  {
   "cell_type": "code",
   "execution_count": null,
   "id": "d1d6f72f-5999-4346-8cff-60d0b6dd326c",
   "metadata": {},
   "outputs": [],
   "source": []
  }
 ],
 "metadata": {
  "kernelspec": {
   "display_name": "Python 3 (ipykernel)",
   "language": "python",
   "name": "python3"
  },
  "language_info": {
   "codemirror_mode": {
    "name": "ipython",
    "version": 3
   },
   "file_extension": ".py",
   "mimetype": "text/x-python",
   "name": "python",
   "nbconvert_exporter": "python",
   "pygments_lexer": "ipython3",
   "version": "3.12.7"
  }
 },
 "nbformat": 4,
 "nbformat_minor": 5
}
