{
 "cells": [
  {
   "cell_type": "code",
   "execution_count": null,
   "id": "01fb312b-f19e-4e43-98c6-35eba75df2ca",
   "metadata": {},
   "outputs": [],
   "source": [
    "# created on 20250113"
   ]
  },
  {
   "cell_type": "code",
   "execution_count": null,
   "id": "1ffe9a37-d0b4-4b17-8179-2f8eccf84f3c",
   "metadata": {},
   "outputs": [],
   "source": [
    "# https://www.scientecheasy.com/2022/09/first-python-program.html/"
   ]
  },
  {
   "cell_type": "code",
   "execution_count": 1,
   "id": "d05760c9-b458-4e30-8bfd-c16ba877f03a",
   "metadata": {},
   "outputs": [
    {
     "name": "stdout",
     "output_type": "stream",
     "text": [
      "Hello, world\n"
     ]
    }
   ],
   "source": [
    "print(\"Hello, world\")"
   ]
  },
  {
   "cell_type": "code",
   "execution_count": 4,
   "id": "7f3df480-f77c-4fc1-92d8-7d6bf6ffa992",
   "metadata": {},
   "outputs": [
    {
     "name": "stdout",
     "output_type": "stream",
     "text": [
      "Hello, world\n"
     ]
    }
   ],
   "source": [
    "print(\"Hello, world\")"
   ]
  },
  {
   "cell_type": "code",
   "execution_count": 7,
   "id": "b195fcf8-ac7b-4911-92a9-0c11b83031e4",
   "metadata": {},
   "outputs": [
    {
     "name": "stdin",
     "output_type": "stream",
     "text": [
      "What is your name Madhuri\n"
     ]
    },
    {
     "name": "stdout",
     "output_type": "stream",
     "text": [
      "Hello Madhuri\n"
     ]
    }
   ],
   "source": [
    "person = input(\"What is your name\")\n",
    "print(\"Hello\", person)"
   ]
  },
  {
   "cell_type": "code",
   "execution_count": null,
   "id": "1762d926-e8fc-4218-a283-54e5e9af0706",
   "metadata": {},
   "outputs": [],
   "source": []
  }
 ],
 "metadata": {
  "kernelspec": {
   "display_name": "Python 3 (ipykernel)",
   "language": "python",
   "name": "python3"
  },
  "language_info": {
   "codemirror_mode": {
    "name": "ipython",
    "version": 3
   },
   "file_extension": ".py",
   "mimetype": "text/x-python",
   "name": "python",
   "nbconvert_exporter": "python",
   "pygments_lexer": "ipython3",
   "version": "3.12.7"
  }
 },
 "nbformat": 4,
 "nbformat_minor": 5
}
