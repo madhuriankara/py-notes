{
 "cells": [
  {
   "cell_type": "code",
   "execution_count": 1,
   "id": "f330e5f0-e3a8-4798-83a2-bf6ee17ec17a",
   "metadata": {},
   "outputs": [],
   "source": [
    "#Find the maximum and minimum prices of food items in each Category."
   ]
  },
  {
   "cell_type": "code",
   "execution_count": 2,
   "id": "ba491f2e-4835-4a31-90d9-119c69bc1ab4",
   "metadata": {},
   "outputs": [],
   "source": [
    "import pandas as pd"
   ]
  },
  {
   "cell_type": "code",
   "execution_count": 3,
   "id": "0ef6ea66-15b3-48de-9d1a-b102c9a26ba1",
   "metadata": {},
   "outputs": [],
   "source": [
    "FILEPATH = 'food.csv'"
   ]
  },
  {
   "cell_type": "code",
   "execution_count": 4,
   "id": "9e94fd53-ced6-4cf3-99c5-8fe5d9ebd50c",
   "metadata": {},
   "outputs": [],
   "source": [
    "df = pd.read_csv(FILEPATH)"
   ]
  },
  {
   "cell_type": "code",
   "execution_count": 5,
   "id": "69a998f1-fb00-4415-afc9-3becd0452207",
   "metadata": {},
   "outputs": [
    {
     "data": {
      "text/html": [
       "<div>\n",
       "<style scoped>\n",
       "    .dataframe tbody tr th:only-of-type {\n",
       "        vertical-align: middle;\n",
       "    }\n",
       "\n",
       "    .dataframe tbody tr th {\n",
       "        vertical-align: top;\n",
       "    }\n",
       "\n",
       "    .dataframe thead th {\n",
       "        text-align: right;\n",
       "    }\n",
       "</style>\n",
       "<table border=\"1\" class=\"dataframe\">\n",
       "  <thead>\n",
       "    <tr style=\"text-align: right;\">\n",
       "      <th></th>\n",
       "      <th>Food_ID</th>\n",
       "      <th>Food_Name</th>\n",
       "      <th>Category</th>\n",
       "      <th>Price</th>\n",
       "      <th>Calories</th>\n",
       "      <th>Available</th>\n",
       "    </tr>\n",
       "  </thead>\n",
       "  <tbody>\n",
       "    <tr>\n",
       "      <th>0</th>\n",
       "      <td>1</td>\n",
       "      <td>Pizza</td>\n",
       "      <td>Fast Food</td>\n",
       "      <td>8.99</td>\n",
       "      <td>300</td>\n",
       "      <td>Yes</td>\n",
       "    </tr>\n",
       "    <tr>\n",
       "      <th>1</th>\n",
       "      <td>2</td>\n",
       "      <td>Burger</td>\n",
       "      <td>Fast Food</td>\n",
       "      <td>5.49</td>\n",
       "      <td>450</td>\n",
       "      <td>Yes</td>\n",
       "    </tr>\n",
       "    <tr>\n",
       "      <th>2</th>\n",
       "      <td>3</td>\n",
       "      <td>Pasta</td>\n",
       "      <td>Italian</td>\n",
       "      <td>7.99</td>\n",
       "      <td>400</td>\n",
       "      <td>No</td>\n",
       "    </tr>\n",
       "    <tr>\n",
       "      <th>3</th>\n",
       "      <td>4</td>\n",
       "      <td>Sushi</td>\n",
       "      <td>Japanese</td>\n",
       "      <td>12.99</td>\n",
       "      <td>250</td>\n",
       "      <td>Yes</td>\n",
       "    </tr>\n",
       "    <tr>\n",
       "      <th>4</th>\n",
       "      <td>5</td>\n",
       "      <td>Tacos</td>\n",
       "      <td>Mexican</td>\n",
       "      <td>6.99</td>\n",
       "      <td>200</td>\n",
       "      <td>No</td>\n",
       "    </tr>\n",
       "    <tr>\n",
       "      <th>5</th>\n",
       "      <td>6</td>\n",
       "      <td>Salad</td>\n",
       "      <td>Healthy</td>\n",
       "      <td>4.99</td>\n",
       "      <td>150</td>\n",
       "      <td>Yes</td>\n",
       "    </tr>\n",
       "    <tr>\n",
       "      <th>6</th>\n",
       "      <td>7</td>\n",
       "      <td>Fried Rice</td>\n",
       "      <td>Asian</td>\n",
       "      <td>5.99</td>\n",
       "      <td>350</td>\n",
       "      <td>Yes</td>\n",
       "    </tr>\n",
       "    <tr>\n",
       "      <th>7</th>\n",
       "      <td>8</td>\n",
       "      <td>Ice Cream</td>\n",
       "      <td>Dessert</td>\n",
       "      <td>3.99</td>\n",
       "      <td>200</td>\n",
       "      <td>Yes</td>\n",
       "    </tr>\n",
       "    <tr>\n",
       "      <th>8</th>\n",
       "      <td>9</td>\n",
       "      <td>Steak</td>\n",
       "      <td>Grill</td>\n",
       "      <td>14.99</td>\n",
       "      <td>700</td>\n",
       "      <td>No</td>\n",
       "    </tr>\n",
       "    <tr>\n",
       "      <th>9</th>\n",
       "      <td>10</td>\n",
       "      <td>Soup</td>\n",
       "      <td>Healthy</td>\n",
       "      <td>3.49</td>\n",
       "      <td>100</td>\n",
       "      <td>Yes</td>\n",
       "    </tr>\n",
       "  </tbody>\n",
       "</table>\n",
       "</div>"
      ],
      "text/plain": [
       "   Food_ID   Food_Name   Category  Price  Calories Available\n",
       "0        1       Pizza  Fast Food   8.99       300       Yes\n",
       "1        2      Burger  Fast Food   5.49       450       Yes\n",
       "2        3       Pasta    Italian   7.99       400        No\n",
       "3        4       Sushi   Japanese  12.99       250       Yes\n",
       "4        5       Tacos    Mexican   6.99       200        No\n",
       "5        6       Salad    Healthy   4.99       150       Yes\n",
       "6        7  Fried Rice      Asian   5.99       350       Yes\n",
       "7        8   Ice Cream    Dessert   3.99       200       Yes\n",
       "8        9       Steak      Grill  14.99       700        No\n",
       "9       10        Soup    Healthy   3.49       100       Yes"
      ]
     },
     "execution_count": 5,
     "metadata": {},
     "output_type": "execute_result"
    }
   ],
   "source": [
    "df"
   ]
  },
  {
   "cell_type": "code",
   "execution_count": 27,
   "id": "ffe820ff-2205-4e09-9c49-92c9eeb3d4cd",
   "metadata": {},
   "outputs": [],
   "source": [
    "new_df = df['Price'].max() "
   ]
  },
  {
   "cell_type": "code",
   "execution_count": 28,
   "id": "114daf53-d702-475d-8447-7e9953216253",
   "metadata": {},
   "outputs": [
    {
     "data": {
      "text/plain": [
       "14.99"
      ]
     },
     "execution_count": 28,
     "metadata": {},
     "output_type": "execute_result"
    }
   ],
   "source": [
    "new_df"
   ]
  },
  {
   "cell_type": "code",
   "execution_count": 29,
   "id": "bb2f477e-7f62-43a1-b47c-8ce0396eeb44",
   "metadata": {},
   "outputs": [],
   "source": [
    "result = df['Price'].min()"
   ]
  },
  {
   "cell_type": "code",
   "execution_count": 30,
   "id": "796d2083-31cd-465c-904a-6ba9810f7cc2",
   "metadata": {},
   "outputs": [
    {
     "data": {
      "text/plain": [
       "3.49"
      ]
     },
     "execution_count": 30,
     "metadata": {},
     "output_type": "execute_result"
    }
   ],
   "source": [
    "result"
   ]
  },
  {
   "cell_type": "code",
   "execution_count": 37,
   "id": "a28c29e8-c712-45f2-957e-7c0db6be7b77",
   "metadata": {},
   "outputs": [],
   "source": [
    "max_result = df.groupby('Category')['Price'].max()"
   ]
  },
  {
   "cell_type": "code",
   "execution_count": 38,
   "id": "c2c8cd6c-ae4e-4118-9e4e-d58b4f751611",
   "metadata": {},
   "outputs": [
    {
     "data": {
      "text/plain": [
       "Category\n",
       "Asian         5.99\n",
       "Dessert       3.99\n",
       "Fast Food     8.99\n",
       "Grill        14.99\n",
       "Healthy       4.99\n",
       "Italian       7.99\n",
       "Japanese     12.99\n",
       "Mexican       6.99\n",
       "Name: Price, dtype: float64"
      ]
     },
     "execution_count": 38,
     "metadata": {},
     "output_type": "execute_result"
    }
   ],
   "source": [
    "max_result"
   ]
  },
  {
   "cell_type": "code",
   "execution_count": null,
   "id": "319edb8b-4e15-4abd-bd64-5dd60e8598e9",
   "metadata": {},
   "outputs": [],
   "source": []
  }
 ],
 "metadata": {
  "kernelspec": {
   "display_name": "Python 3 (ipykernel)",
   "language": "python",
   "name": "python3"
  },
  "language_info": {
   "codemirror_mode": {
    "name": "ipython",
    "version": 3
   },
   "file_extension": ".py",
   "mimetype": "text/x-python",
   "name": "python",
   "nbconvert_exporter": "python",
   "pygments_lexer": "ipython3",
   "version": "3.12.7"
  }
 },
 "nbformat": 4,
 "nbformat_minor": 5
}
