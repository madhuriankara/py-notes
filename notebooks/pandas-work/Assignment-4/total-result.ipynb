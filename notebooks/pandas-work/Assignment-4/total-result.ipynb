{
 "cells": [
  {
   "cell_type": "code",
   "execution_count": 1,
   "id": "fa7a4e31-dae6-4f39-b9c8-81dfe2da59bd",
   "metadata": {},
   "outputs": [],
   "source": [
    "#Calculate the total calories for all food items grouped by the Available column."
   ]
  },
  {
   "cell_type": "code",
   "execution_count": 2,
   "id": "91b68346-9421-465f-9dc7-8f4c700e9b00",
   "metadata": {},
   "outputs": [],
   "source": [
    "import pandas as pd"
   ]
  },
  {
   "cell_type": "code",
   "execution_count": 3,
   "id": "121b7494-411a-4ad8-9155-e0a6790244bb",
   "metadata": {},
   "outputs": [],
   "source": [
    "FILEPATH = 'food.csv'"
   ]
  },
  {
   "cell_type": "code",
   "execution_count": 4,
   "id": "f2ece219-4eb0-4595-ad7f-41512712dbc5",
   "metadata": {},
   "outputs": [],
   "source": [
    "df = pd.read_csv(FILEPATH)"
   ]
  },
  {
   "cell_type": "code",
   "execution_count": 5,
   "id": "f5b6fdea-4753-4f9d-8093-1b79f234b3b0",
   "metadata": {},
   "outputs": [
    {
     "data": {
      "text/html": [
       "<div>\n",
       "<style scoped>\n",
       "    .dataframe tbody tr th:only-of-type {\n",
       "        vertical-align: middle;\n",
       "    }\n",
       "\n",
       "    .dataframe tbody tr th {\n",
       "        vertical-align: top;\n",
       "    }\n",
       "\n",
       "    .dataframe thead th {\n",
       "        text-align: right;\n",
       "    }\n",
       "</style>\n",
       "<table border=\"1\" class=\"dataframe\">\n",
       "  <thead>\n",
       "    <tr style=\"text-align: right;\">\n",
       "      <th></th>\n",
       "      <th>Food_ID</th>\n",
       "      <th>Food_Name</th>\n",
       "      <th>Category</th>\n",
       "      <th>Price</th>\n",
       "      <th>Calories</th>\n",
       "      <th>Available</th>\n",
       "    </tr>\n",
       "  </thead>\n",
       "  <tbody>\n",
       "    <tr>\n",
       "      <th>0</th>\n",
       "      <td>1</td>\n",
       "      <td>Pizza</td>\n",
       "      <td>Fast Food</td>\n",
       "      <td>8.99</td>\n",
       "      <td>300</td>\n",
       "      <td>Yes</td>\n",
       "    </tr>\n",
       "    <tr>\n",
       "      <th>1</th>\n",
       "      <td>2</td>\n",
       "      <td>Burger</td>\n",
       "      <td>Fast Food</td>\n",
       "      <td>5.49</td>\n",
       "      <td>450</td>\n",
       "      <td>Yes</td>\n",
       "    </tr>\n",
       "    <tr>\n",
       "      <th>2</th>\n",
       "      <td>3</td>\n",
       "      <td>Pasta</td>\n",
       "      <td>Italian</td>\n",
       "      <td>7.99</td>\n",
       "      <td>400</td>\n",
       "      <td>No</td>\n",
       "    </tr>\n",
       "    <tr>\n",
       "      <th>3</th>\n",
       "      <td>4</td>\n",
       "      <td>Sushi</td>\n",
       "      <td>Japanese</td>\n",
       "      <td>12.99</td>\n",
       "      <td>250</td>\n",
       "      <td>Yes</td>\n",
       "    </tr>\n",
       "    <tr>\n",
       "      <th>4</th>\n",
       "      <td>5</td>\n",
       "      <td>Tacos</td>\n",
       "      <td>Mexican</td>\n",
       "      <td>6.99</td>\n",
       "      <td>200</td>\n",
       "      <td>No</td>\n",
       "    </tr>\n",
       "    <tr>\n",
       "      <th>5</th>\n",
       "      <td>6</td>\n",
       "      <td>Salad</td>\n",
       "      <td>Healthy</td>\n",
       "      <td>4.99</td>\n",
       "      <td>150</td>\n",
       "      <td>Yes</td>\n",
       "    </tr>\n",
       "    <tr>\n",
       "      <th>6</th>\n",
       "      <td>7</td>\n",
       "      <td>Fried Rice</td>\n",
       "      <td>Asian</td>\n",
       "      <td>5.99</td>\n",
       "      <td>350</td>\n",
       "      <td>Yes</td>\n",
       "    </tr>\n",
       "    <tr>\n",
       "      <th>7</th>\n",
       "      <td>8</td>\n",
       "      <td>Ice Cream</td>\n",
       "      <td>Dessert</td>\n",
       "      <td>3.99</td>\n",
       "      <td>200</td>\n",
       "      <td>Yes</td>\n",
       "    </tr>\n",
       "    <tr>\n",
       "      <th>8</th>\n",
       "      <td>9</td>\n",
       "      <td>Steak</td>\n",
       "      <td>Grill</td>\n",
       "      <td>14.99</td>\n",
       "      <td>700</td>\n",
       "      <td>No</td>\n",
       "    </tr>\n",
       "    <tr>\n",
       "      <th>9</th>\n",
       "      <td>10</td>\n",
       "      <td>Soup</td>\n",
       "      <td>Healthy</td>\n",
       "      <td>3.49</td>\n",
       "      <td>100</td>\n",
       "      <td>Yes</td>\n",
       "    </tr>\n",
       "  </tbody>\n",
       "</table>\n",
       "</div>"
      ],
      "text/plain": [
       "   Food_ID   Food_Name   Category  Price  Calories Available\n",
       "0        1       Pizza  Fast Food   8.99       300       Yes\n",
       "1        2      Burger  Fast Food   5.49       450       Yes\n",
       "2        3       Pasta    Italian   7.99       400        No\n",
       "3        4       Sushi   Japanese  12.99       250       Yes\n",
       "4        5       Tacos    Mexican   6.99       200        No\n",
       "5        6       Salad    Healthy   4.99       150       Yes\n",
       "6        7  Fried Rice      Asian   5.99       350       Yes\n",
       "7        8   Ice Cream    Dessert   3.99       200       Yes\n",
       "8        9       Steak      Grill  14.99       700        No\n",
       "9       10        Soup    Healthy   3.49       100       Yes"
      ]
     },
     "execution_count": 5,
     "metadata": {},
     "output_type": "execute_result"
    }
   ],
   "source": [
    "df"
   ]
  },
  {
   "cell_type": "code",
   "execution_count": 7,
   "id": "5492c21b-947f-465f-9885-22afcb2015a7",
   "metadata": {},
   "outputs": [],
   "source": [
    "new_df = df.groupby('Available')[['Calories']].sum()"
   ]
  },
  {
   "cell_type": "code",
   "execution_count": 8,
   "id": "4e5e860c-4330-4e56-b66f-71f3e30a37f1",
   "metadata": {},
   "outputs": [
    {
     "data": {
      "text/html": [
       "<div>\n",
       "<style scoped>\n",
       "    .dataframe tbody tr th:only-of-type {\n",
       "        vertical-align: middle;\n",
       "    }\n",
       "\n",
       "    .dataframe tbody tr th {\n",
       "        vertical-align: top;\n",
       "    }\n",
       "\n",
       "    .dataframe thead th {\n",
       "        text-align: right;\n",
       "    }\n",
       "</style>\n",
       "<table border=\"1\" class=\"dataframe\">\n",
       "  <thead>\n",
       "    <tr style=\"text-align: right;\">\n",
       "      <th></th>\n",
       "      <th>Calories</th>\n",
       "    </tr>\n",
       "    <tr>\n",
       "      <th>Available</th>\n",
       "      <th></th>\n",
       "    </tr>\n",
       "  </thead>\n",
       "  <tbody>\n",
       "    <tr>\n",
       "      <th>No</th>\n",
       "      <td>1300</td>\n",
       "    </tr>\n",
       "    <tr>\n",
       "      <th>Yes</th>\n",
       "      <td>1800</td>\n",
       "    </tr>\n",
       "  </tbody>\n",
       "</table>\n",
       "</div>"
      ],
      "text/plain": [
       "           Calories\n",
       "Available          \n",
       "No             1300\n",
       "Yes            1800"
      ]
     },
     "execution_count": 8,
     "metadata": {},
     "output_type": "execute_result"
    }
   ],
   "source": [
    "new_df"
   ]
  },
  {
   "cell_type": "code",
   "execution_count": null,
   "id": "1c144102-5709-4f8b-8f4a-1d2f9d9c3e42",
   "metadata": {},
   "outputs": [],
   "source": []
  }
 ],
 "metadata": {
  "kernelspec": {
   "display_name": "Python 3 (ipykernel)",
   "language": "python",
   "name": "python3"
  },
  "language_info": {
   "codemirror_mode": {
    "name": "ipython",
    "version": 3
   },
   "file_extension": ".py",
   "mimetype": "text/x-python",
   "name": "python",
   "nbconvert_exporter": "python",
   "pygments_lexer": "ipython3",
   "version": "3.12.7"
  }
 },
 "nbformat": 4,
 "nbformat_minor": 5
}
