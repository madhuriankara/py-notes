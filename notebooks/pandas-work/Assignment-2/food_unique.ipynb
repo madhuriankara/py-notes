{
 "cells": [
  {
   "cell_type": "code",
   "execution_count": 1,
   "id": "6cd20fe5-9780-43f4-a52a-3d1154ea1bf4",
   "metadata": {},
   "outputs": [],
   "source": [
    "import pandas as pd"
   ]
  },
  {
   "cell_type": "code",
   "execution_count": 2,
   "id": "30258869-6238-4aa5-93f4-80e17ed06fc3",
   "metadata": {},
   "outputs": [],
   "source": [
    "FILEPATH = 'food.csv'"
   ]
  },
  {
   "cell_type": "code",
   "execution_count": 3,
   "id": "8def6ff7-073b-41f9-95c6-49b269daaad2",
   "metadata": {},
   "outputs": [],
   "source": [
    "df = pd.read_csv(FILEPATH)"
   ]
  },
  {
   "cell_type": "code",
   "execution_count": 6,
   "id": "3b06f77e-95a9-4e68-8e58-fe7115f5efdf",
   "metadata": {},
   "outputs": [
    {
     "data": {
      "text/plain": [
       "0    Fast Food\n",
       "1    Fast Food\n",
       "2      Italian\n",
       "3     Japanese\n",
       "4      Mexican\n",
       "5      Healthy\n",
       "6        Asian\n",
       "7      Dessert\n",
       "8        Grill\n",
       "9      Healthy\n",
       "Name: Category, dtype: object"
      ]
     },
     "execution_count": 6,
     "metadata": {},
     "output_type": "execute_result"
    }
   ],
   "source": [
    "df.Category"
   ]
  },
  {
   "cell_type": "code",
   "execution_count": null,
   "id": "37c30880-3dda-4265-909b-c13d6e19cb55",
   "metadata": {},
   "outputs": [],
   "source": []
  }
 ],
 "metadata": {
  "kernelspec": {
   "display_name": "Python 3 (ipykernel)",
   "language": "python",
   "name": "python3"
  },
  "language_info": {
   "codemirror_mode": {
    "name": "ipython",
    "version": 3
   },
   "file_extension": ".py",
   "mimetype": "text/x-python",
   "name": "python",
   "nbconvert_exporter": "python",
   "pygments_lexer": "ipython3",
   "version": "3.12.7"
  }
 },
 "nbformat": 4,
 "nbformat_minor": 5
}
