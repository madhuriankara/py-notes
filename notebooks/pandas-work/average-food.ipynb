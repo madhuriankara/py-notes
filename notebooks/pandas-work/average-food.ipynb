{
 "cells": [
  {
   "cell_type": "code",
   "execution_count": 1,
   "id": "ab933485-a9f0-4569-81c8-4bef0fbd2ee0",
   "metadata": {},
   "outputs": [],
   "source": [
    "import pandas as pd"
   ]
  },
  {
   "cell_type": "code",
   "execution_count": 3,
   "id": "f96420c3-2939-44ae-952f-e184d63af520",
   "metadata": {},
   "outputs": [],
   "source": [
    "FILEPATH = 'food.csv'"
   ]
  },
  {
   "cell_type": "code",
   "execution_count": 4,
   "id": "3232a150-4d35-474b-8b1a-89b87085f402",
   "metadata": {},
   "outputs": [],
   "source": [
    "df =pd.read_csv(FILEPATH)"
   ]
  },
  {
   "cell_type": "code",
   "execution_count": null,
   "id": "35a7e2b3-52e0-45e1-871b-aecfd23fd356",
   "metadata": {},
   "outputs": [],
   "source": []
  },
  {
   "cell_type": "code",
   "execution_count": 7,
   "id": "76b13870-ed6d-43c5-9a4a-ab93e0d77cc9",
   "metadata": {},
   "outputs": [
    {
     "data": {
      "text/plain": [
       "7.589999999999999"
      ]
     },
     "execution_count": 7,
     "metadata": {},
     "output_type": "execute_result"
    }
   ],
   "source": [
    "df[\"Price\"].mean()"
   ]
  },
  {
   "cell_type": "code",
   "execution_count": null,
   "id": "1fee2612-e6ae-46f5-843e-d2c02542edcd",
   "metadata": {},
   "outputs": [],
   "source": []
  }
 ],
 "metadata": {
  "kernelspec": {
   "display_name": "Python 3 (ipykernel)",
   "language": "python",
   "name": "python3"
  },
  "language_info": {
   "codemirror_mode": {
    "name": "ipython",
    "version": 3
   },
   "file_extension": ".py",
   "mimetype": "text/x-python",
   "name": "python",
   "nbconvert_exporter": "python",
   "pygments_lexer": "ipython3",
   "version": "3.12.7"
  }
 },
 "nbformat": 4,
 "nbformat_minor": 5
}
