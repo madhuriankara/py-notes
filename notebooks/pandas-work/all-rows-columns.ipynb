{
 "cells": [
  {
   "cell_type": "code",
   "execution_count": 1,
   "id": "0c7f661a-ee2f-4578-a0f5-e98424c10232",
   "metadata": {},
   "outputs": [],
   "source": [
    "import pandas as pd"
   ]
  },
  {
   "cell_type": "code",
   "execution_count": 3,
   "id": "6b2e2133-530c-45f1-b07b-b087975cbe4d",
   "metadata": {},
   "outputs": [],
   "source": [
    "FILEPATH = 'food.csv'"
   ]
  },
  {
   "cell_type": "code",
   "execution_count": 5,
   "id": "5d5924c2-6f82-4cc8-aa00-68e5df02cd93",
   "metadata": {},
   "outputs": [],
   "source": [
    "df = pd.read_csv(FILEPATH)"
   ]
  },
  {
   "cell_type": "code",
   "execution_count": 19,
   "id": "e55fe1b5-71cd-4ce7-9f52-2f8c3077c296",
   "metadata": {},
   "outputs": [],
   "source": [
    "rows_count = len(df)"
   ]
  },
  {
   "cell_type": "code",
   "execution_count": 20,
   "id": "8963d4be-7236-4626-b3a7-0abef0e93179",
   "metadata": {},
   "outputs": [
    {
     "data": {
      "text/plain": [
       "10"
      ]
     },
     "execution_count": 20,
     "metadata": {},
     "output_type": "execute_result"
    }
   ],
   "source": [
    "rows_count"
   ]
  },
  {
   "cell_type": "raw",
   "id": "430fe083-7ddb-4569-949e-dd1928478276",
   "metadata": {},
   "source": []
  },
  {
   "cell_type": "code",
   "execution_count": null,
   "id": "0d07509b-92fd-4a3a-afcb-7eef6057036b",
   "metadata": {},
   "outputs": [],
   "source": []
  },
  {
   "cell_type": "code",
   "execution_count": 17,
   "id": "76465578-c22f-46bb-9670-dee38be688d9",
   "metadata": {},
   "outputs": [],
   "source": [
    "columns = len(df)"
   ]
  },
  {
   "cell_type": "code",
   "execution_count": 18,
   "id": "0af9744e-932f-4f81-a1cc-7af2eaa2e877",
   "metadata": {},
   "outputs": [
    {
     "data": {
      "text/plain": [
       "10"
      ]
     },
     "execution_count": 18,
     "metadata": {},
     "output_type": "execute_result"
    }
   ],
   "source": [
    "columns"
   ]
  },
  {
   "cell_type": "code",
   "execution_count": null,
   "id": "88de095a-13e8-482d-b680-a236685ba165",
   "metadata": {},
   "outputs": [],
   "source": []
  }
 ],
 "metadata": {
  "kernelspec": {
   "display_name": "Python 3 (ipykernel)",
   "language": "python",
   "name": "python3"
  },
  "language_info": {
   "codemirror_mode": {
    "name": "ipython",
    "version": 3
   },
   "file_extension": ".py",
   "mimetype": "text/x-python",
   "name": "python",
   "nbconvert_exporter": "python",
   "pygments_lexer": "ipython3",
   "version": "3.12.7"
  }
 },
 "nbformat": 4,
 "nbformat_minor": 5
}
