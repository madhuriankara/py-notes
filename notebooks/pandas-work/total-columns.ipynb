{
 "cells": [
  {
   "cell_type": "code",
   "execution_count": 1,
   "id": "3c469409-a83b-4c90-adb9-e7584d468578",
   "metadata": {},
   "outputs": [],
   "source": [
    "import pandas as pd"
   ]
  },
  {
   "cell_type": "code",
   "execution_count": 2,
   "id": "16c13c87-cb81-42c2-9d41-38a62d012b11",
   "metadata": {},
   "outputs": [],
   "source": [
    "FILEPATH ='food.csv'"
   ]
  },
  {
   "cell_type": "code",
   "execution_count": 3,
   "id": "e975f9b3-8b14-4e08-ad49-483e28257755",
   "metadata": {},
   "outputs": [],
   "source": [
    "df = pd.read_csv(FILEPATH)"
   ]
  },
  {
   "cell_type": "code",
   "execution_count": null,
   "id": "6cd00582-977c-44d2-b660-2d165f2e75c1",
   "metadata": {},
   "outputs": [],
   "source": []
  },
  {
   "cell_type": "code",
   "execution_count": null,
   "id": "2bba002f-d822-4cf1-b709-5c89ba6524fb",
   "metadata": {},
   "outputs": [],
   "source": []
  },
  {
   "cell_type": "code",
   "execution_count": null,
   "id": "f9866cb0-4334-4e42-b5e4-e4b3ff6c05ed",
   "metadata": {},
   "outputs": [],
   "source": []
  }
 ],
 "metadata": {
  "kernelspec": {
   "display_name": "Python 3 (ipykernel)",
   "language": "python",
   "name": "python3"
  },
  "language_info": {
   "codemirror_mode": {
    "name": "ipython",
    "version": 3
   },
   "file_extension": ".py",
   "mimetype": "text/x-python",
   "name": "python",
   "nbconvert_exporter": "python",
   "pygments_lexer": "ipython3",
   "version": "3.12.7"
  }
 },
 "nbformat": 4,
 "nbformat_minor": 5
}
