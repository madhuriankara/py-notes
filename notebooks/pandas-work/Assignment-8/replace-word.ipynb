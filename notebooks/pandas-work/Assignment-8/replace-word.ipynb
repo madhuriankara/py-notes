{
 "cells": [
  {
   "cell_type": "code",
   "execution_count": 1,
   "id": "95f67837-fbda-4441-a57f-ca76b3464c92",
   "metadata": {},
   "outputs": [],
   "source": [
    "#Replace the word \"Rice\" in Food_Name with \"Grain\"."
   ]
  },
  {
   "cell_type": "code",
   "execution_count": 2,
   "id": "d9c58e57-ca35-4251-8efb-52d13c729f97",
   "metadata": {},
   "outputs": [],
   "source": [
    "import pandas as pd"
   ]
  },
  {
   "cell_type": "code",
   "execution_count": 3,
   "id": "5dac39dd-0d20-4d02-9b2d-3122b88eb05d",
   "metadata": {},
   "outputs": [],
   "source": [
    "food = pd.read_csv('food.csv')"
   ]
  },
  {
   "cell_type": "code",
   "execution_count": 4,
   "id": "ee748be2-505e-40b4-baa6-b25bd590715f",
   "metadata": {},
   "outputs": [],
   "source": [
    "food_sales = pd.read_csv('food_sales.csv')"
   ]
  },
  {
   "cell_type": "code",
   "execution_count": 5,
   "id": "2f62d2e0-ce78-493f-ad29-3781603f11ff",
   "metadata": {},
   "outputs": [],
   "source": [
    "df = pd.merge(food, food_sales, on= 'Food_Name')"
   ]
  },
  {
   "cell_type": "code",
   "execution_count": 6,
   "id": "aa9adcaf-ed27-450a-9404-57198a4c3634",
   "metadata": {},
   "outputs": [
    {
     "data": {
      "text/html": [
       "<div>\n",
       "<style scoped>\n",
       "    .dataframe tbody tr th:only-of-type {\n",
       "        vertical-align: middle;\n",
       "    }\n",
       "\n",
       "    .dataframe tbody tr th {\n",
       "        vertical-align: top;\n",
       "    }\n",
       "\n",
       "    .dataframe thead th {\n",
       "        text-align: right;\n",
       "    }\n",
       "</style>\n",
       "<table border=\"1\" class=\"dataframe\">\n",
       "  <thead>\n",
       "    <tr style=\"text-align: right;\">\n",
       "      <th></th>\n",
       "      <th>Food_ID</th>\n",
       "      <th>Food_Name</th>\n",
       "      <th>Category</th>\n",
       "      <th>Price</th>\n",
       "      <th>Calories</th>\n",
       "      <th>Available</th>\n",
       "      <th>Units_Sold</th>\n",
       "    </tr>\n",
       "  </thead>\n",
       "  <tbody>\n",
       "    <tr>\n",
       "      <th>0</th>\n",
       "      <td>1</td>\n",
       "      <td>Pizza</td>\n",
       "      <td>Fast Food</td>\n",
       "      <td>8.99</td>\n",
       "      <td>300</td>\n",
       "      <td>Yes</td>\n",
       "      <td>120</td>\n",
       "    </tr>\n",
       "    <tr>\n",
       "      <th>1</th>\n",
       "      <td>2</td>\n",
       "      <td>Burger</td>\n",
       "      <td>Fast Food</td>\n",
       "      <td>5.49</td>\n",
       "      <td>450</td>\n",
       "      <td>Yes</td>\n",
       "      <td>200</td>\n",
       "    </tr>\n",
       "    <tr>\n",
       "      <th>2</th>\n",
       "      <td>3</td>\n",
       "      <td>Pasta</td>\n",
       "      <td>Italian</td>\n",
       "      <td>7.99</td>\n",
       "      <td>400</td>\n",
       "      <td>No</td>\n",
       "      <td>150</td>\n",
       "    </tr>\n",
       "    <tr>\n",
       "      <th>3</th>\n",
       "      <td>4</td>\n",
       "      <td>Sushi</td>\n",
       "      <td>Japanese</td>\n",
       "      <td>12.99</td>\n",
       "      <td>250</td>\n",
       "      <td>Yes</td>\n",
       "      <td>50</td>\n",
       "    </tr>\n",
       "    <tr>\n",
       "      <th>4</th>\n",
       "      <td>5</td>\n",
       "      <td>Tacos</td>\n",
       "      <td>Mexican</td>\n",
       "      <td>6.99</td>\n",
       "      <td>200</td>\n",
       "      <td>No</td>\n",
       "      <td>180</td>\n",
       "    </tr>\n",
       "    <tr>\n",
       "      <th>5</th>\n",
       "      <td>6</td>\n",
       "      <td>Salad</td>\n",
       "      <td>Healthy</td>\n",
       "      <td>4.99</td>\n",
       "      <td>150</td>\n",
       "      <td>Yes</td>\n",
       "      <td>300</td>\n",
       "    </tr>\n",
       "    <tr>\n",
       "      <th>6</th>\n",
       "      <td>7</td>\n",
       "      <td>Fried Rice</td>\n",
       "      <td>Asian</td>\n",
       "      <td>5.99</td>\n",
       "      <td>350</td>\n",
       "      <td>Yes</td>\n",
       "      <td>100</td>\n",
       "    </tr>\n",
       "    <tr>\n",
       "      <th>7</th>\n",
       "      <td>8</td>\n",
       "      <td>Ice Cream</td>\n",
       "      <td>Dessert</td>\n",
       "      <td>3.99</td>\n",
       "      <td>200</td>\n",
       "      <td>Yes</td>\n",
       "      <td>400</td>\n",
       "    </tr>\n",
       "    <tr>\n",
       "      <th>8</th>\n",
       "      <td>9</td>\n",
       "      <td>Steak</td>\n",
       "      <td>Grill</td>\n",
       "      <td>14.99</td>\n",
       "      <td>700</td>\n",
       "      <td>No</td>\n",
       "      <td>80</td>\n",
       "    </tr>\n",
       "    <tr>\n",
       "      <th>9</th>\n",
       "      <td>10</td>\n",
       "      <td>Soup</td>\n",
       "      <td>Healthy</td>\n",
       "      <td>3.49</td>\n",
       "      <td>100</td>\n",
       "      <td>Yes</td>\n",
       "      <td>250</td>\n",
       "    </tr>\n",
       "  </tbody>\n",
       "</table>\n",
       "</div>"
      ],
      "text/plain": [
       "   Food_ID   Food_Name   Category  Price  Calories Available  Units_Sold\n",
       "0        1       Pizza  Fast Food   8.99       300       Yes         120\n",
       "1        2      Burger  Fast Food   5.49       450       Yes         200\n",
       "2        3       Pasta    Italian   7.99       400        No         150\n",
       "3        4       Sushi   Japanese  12.99       250       Yes          50\n",
       "4        5       Tacos    Mexican   6.99       200        No         180\n",
       "5        6       Salad    Healthy   4.99       150       Yes         300\n",
       "6        7  Fried Rice      Asian   5.99       350       Yes         100\n",
       "7        8   Ice Cream    Dessert   3.99       200       Yes         400\n",
       "8        9       Steak      Grill  14.99       700        No          80\n",
       "9       10        Soup    Healthy   3.49       100       Yes         250"
      ]
     },
     "execution_count": 6,
     "metadata": {},
     "output_type": "execute_result"
    }
   ],
   "source": [
    "df"
   ]
  },
  {
   "cell_type": "code",
   "execution_count": 25,
   "id": "efd89eff-3940-48ed-ae7b-87001168346e",
   "metadata": {},
   "outputs": [],
   "source": [
    "df_rice = df['Food_Name'].str.replace('Rice','Grain', case = False , regex=True)"
   ]
  },
  {
   "cell_type": "code",
   "execution_count": 26,
   "id": "05c88194-3ea9-4581-99c3-03c6c3ef93a0",
   "metadata": {},
   "outputs": [
    {
     "data": {
      "text/plain": [
       "0          Pizza\n",
       "1         Burger\n",
       "2          Pasta\n",
       "3          Sushi\n",
       "4          Tacos\n",
       "5          Salad\n",
       "6    Fried Grain\n",
       "7      Ice Cream\n",
       "8          Steak\n",
       "9           Soup\n",
       "Name: Food_Name, dtype: object"
      ]
     },
     "execution_count": 26,
     "metadata": {},
     "output_type": "execute_result"
    }
   ],
   "source": [
    "df_rice "
   ]
  },
  {
   "cell_type": "code",
   "execution_count": null,
   "id": "5babb74d-6ccd-4181-be10-f3fb9171d997",
   "metadata": {},
   "outputs": [],
   "source": []
  }
 ],
 "metadata": {
  "kernelspec": {
   "display_name": "Python 3 (ipykernel)",
   "language": "python",
   "name": "python3"
  },
  "language_info": {
   "codemirror_mode": {
    "name": "ipython",
    "version": 3
   },
   "file_extension": ".py",
   "mimetype": "text/x-python",
   "name": "python",
   "nbconvert_exporter": "python",
   "pygments_lexer": "ipython3",
   "version": "3.12.7"
  }
 },
 "nbformat": 4,
 "nbformat_minor": 5
}
