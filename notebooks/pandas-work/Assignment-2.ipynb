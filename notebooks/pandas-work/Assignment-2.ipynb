{
 "cells": [
  {
   "cell_type": "code",
   "execution_count": 1,
   "id": "cbd1122b-ab87-496c-929d-4547641bb3ea",
   "metadata": {},
   "outputs": [],
   "source": [
    "import pandas as pd"
   ]
  },
  {
   "cell_type": "code",
   "execution_count": 2,
   "id": "2262b8b2-61af-44cd-8d13-e145ebd53bc0",
   "metadata": {},
   "outputs": [],
   "source": [
    "FILEPATH = 'food.csv'"
   ]
  },
  {
   "cell_type": "code",
   "execution_count": 3,
   "id": "48c59127-2fcc-49ae-a308-0fb6afe86084",
   "metadata": {},
   "outputs": [],
   "source": [
    "df = pd.read_csv(FILEPATH)"
   ]
  },
  {
   "cell_type": "code",
   "execution_count": 4,
   "id": "ea4067d8-d2bd-417f-9f25-a921d148bba2",
   "metadata": {},
   "outputs": [
    {
     "data": {
      "text/plain": [
       "Food_ID      True\n",
       "Food_Name    True\n",
       "Category     True\n",
       "Price        True\n",
       "Calories     True\n",
       "Available    True\n",
       "dtype: bool"
      ]
     },
     "execution_count": 4,
     "metadata": {},
     "output_type": "execute_result"
    }
   ],
   "source": [
    "df.all()"
   ]
  },
  {
   "cell_type": "code",
   "execution_count": 9,
   "id": "a20e2f92-02cf-4db5-b65c-2db4c559a31f",
   "metadata": {},
   "outputs": [],
   "source": [
    "df['Price'] = df['Price']>10"
   ]
  },
  {
   "cell_type": "code",
   "execution_count": null,
   "id": "af4195cd-245a-4351-869a-b6d66e177888",
   "metadata": {},
   "outputs": [],
   "source": []
  },
  {
   "cell_type": "code",
   "execution_count": null,
   "id": "cedccca0-75cc-4c0b-bfbe-cb909e1d6969",
   "metadata": {},
   "outputs": [],
   "source": []
  }
 ],
 "metadata": {
  "kernelspec": {
   "display_name": "Python 3 (ipykernel)",
   "language": "python",
   "name": "python3"
  },
  "language_info": {
   "codemirror_mode": {
    "name": "ipython",
    "version": 3
   },
   "file_extension": ".py",
   "mimetype": "text/x-python",
   "name": "python",
   "nbconvert_exporter": "python",
   "pygments_lexer": "ipython3",
   "version": "3.12.7"
  }
 },
 "nbformat": 4,
 "nbformat_minor": 5
}
