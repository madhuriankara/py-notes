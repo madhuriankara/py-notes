{
 "cells": [
  {
   "cell_type": "code",
   "execution_count": 1,
   "id": "b3b055ce-3d86-4a63-b6f8-65d048b5e035",
   "metadata": {},
   "outputs": [],
   "source": [
    "#Determine the standard deviation of the Calories column."
   ]
  },
  {
   "cell_type": "code",
   "execution_count": 2,
   "id": "03fdcf70-752e-4c7c-bc74-1f8fc9dad312",
   "metadata": {},
   "outputs": [],
   "source": [
    "import pandas as pd"
   ]
  },
  {
   "cell_type": "code",
   "execution_count": 4,
   "id": "ad8bf45f-d490-4ff6-af10-e376a0610f5c",
   "metadata": {},
   "outputs": [],
   "source": [
    "food = pd.read_csv('food.csv')"
   ]
  },
  {
   "cell_type": "code",
   "execution_count": 6,
   "id": "755701c5-36e5-4b9a-bbf3-a44c3ef7b39c",
   "metadata": {},
   "outputs": [],
   "source": [
    "food_sales = pd.read_csv('food_sales.csv')"
   ]
  },
  {
   "cell_type": "code",
   "execution_count": 18,
   "id": "1f516293-6e71-4917-8606-7e4e0ddd2ee1",
   "metadata": {},
   "outputs": [],
   "source": [
    "df = pd.merge(food, food_sales, on ='Food_Name')"
   ]
  },
  {
   "cell_type": "code",
   "execution_count": 19,
   "id": "4fc06ebe-a199-4337-ab4d-87a5745fce8d",
   "metadata": {},
   "outputs": [
    {
     "data": {
      "text/html": [
       "<div>\n",
       "<style scoped>\n",
       "    .dataframe tbody tr th:only-of-type {\n",
       "        vertical-align: middle;\n",
       "    }\n",
       "\n",
       "    .dataframe tbody tr th {\n",
       "        vertical-align: top;\n",
       "    }\n",
       "\n",
       "    .dataframe thead th {\n",
       "        text-align: right;\n",
       "    }\n",
       "</style>\n",
       "<table border=\"1\" class=\"dataframe\">\n",
       "  <thead>\n",
       "    <tr style=\"text-align: right;\">\n",
       "      <th></th>\n",
       "      <th>Food_ID</th>\n",
       "      <th>Food_Name</th>\n",
       "      <th>Category</th>\n",
       "      <th>Price</th>\n",
       "      <th>Calories</th>\n",
       "      <th>Available</th>\n",
       "      <th>Units_Sold</th>\n",
       "    </tr>\n",
       "  </thead>\n",
       "  <tbody>\n",
       "    <tr>\n",
       "      <th>0</th>\n",
       "      <td>1</td>\n",
       "      <td>Pizza</td>\n",
       "      <td>Fast Food</td>\n",
       "      <td>8.99</td>\n",
       "      <td>300</td>\n",
       "      <td>Yes</td>\n",
       "      <td>120</td>\n",
       "    </tr>\n",
       "    <tr>\n",
       "      <th>1</th>\n",
       "      <td>2</td>\n",
       "      <td>Burger</td>\n",
       "      <td>Fast Food</td>\n",
       "      <td>5.49</td>\n",
       "      <td>450</td>\n",
       "      <td>Yes</td>\n",
       "      <td>200</td>\n",
       "    </tr>\n",
       "    <tr>\n",
       "      <th>2</th>\n",
       "      <td>3</td>\n",
       "      <td>Pasta</td>\n",
       "      <td>Italian</td>\n",
       "      <td>7.99</td>\n",
       "      <td>400</td>\n",
       "      <td>No</td>\n",
       "      <td>150</td>\n",
       "    </tr>\n",
       "    <tr>\n",
       "      <th>3</th>\n",
       "      <td>4</td>\n",
       "      <td>Sushi</td>\n",
       "      <td>Japanese</td>\n",
       "      <td>12.99</td>\n",
       "      <td>250</td>\n",
       "      <td>Yes</td>\n",
       "      <td>50</td>\n",
       "    </tr>\n",
       "    <tr>\n",
       "      <th>4</th>\n",
       "      <td>5</td>\n",
       "      <td>Tacos</td>\n",
       "      <td>Mexican</td>\n",
       "      <td>6.99</td>\n",
       "      <td>200</td>\n",
       "      <td>No</td>\n",
       "      <td>180</td>\n",
       "    </tr>\n",
       "    <tr>\n",
       "      <th>5</th>\n",
       "      <td>6</td>\n",
       "      <td>Salad</td>\n",
       "      <td>Healthy</td>\n",
       "      <td>4.99</td>\n",
       "      <td>150</td>\n",
       "      <td>Yes</td>\n",
       "      <td>300</td>\n",
       "    </tr>\n",
       "    <tr>\n",
       "      <th>6</th>\n",
       "      <td>7</td>\n",
       "      <td>Fried Rice</td>\n",
       "      <td>Asian</td>\n",
       "      <td>5.99</td>\n",
       "      <td>350</td>\n",
       "      <td>Yes</td>\n",
       "      <td>100</td>\n",
       "    </tr>\n",
       "    <tr>\n",
       "      <th>7</th>\n",
       "      <td>8</td>\n",
       "      <td>Ice Cream</td>\n",
       "      <td>Dessert</td>\n",
       "      <td>3.99</td>\n",
       "      <td>200</td>\n",
       "      <td>Yes</td>\n",
       "      <td>400</td>\n",
       "    </tr>\n",
       "    <tr>\n",
       "      <th>8</th>\n",
       "      <td>9</td>\n",
       "      <td>Steak</td>\n",
       "      <td>Grill</td>\n",
       "      <td>14.99</td>\n",
       "      <td>700</td>\n",
       "      <td>No</td>\n",
       "      <td>80</td>\n",
       "    </tr>\n",
       "    <tr>\n",
       "      <th>9</th>\n",
       "      <td>10</td>\n",
       "      <td>Soup</td>\n",
       "      <td>Healthy</td>\n",
       "      <td>3.49</td>\n",
       "      <td>100</td>\n",
       "      <td>Yes</td>\n",
       "      <td>250</td>\n",
       "    </tr>\n",
       "  </tbody>\n",
       "</table>\n",
       "</div>"
      ],
      "text/plain": [
       "   Food_ID   Food_Name   Category  Price  Calories Available  Units_Sold\n",
       "0        1       Pizza  Fast Food   8.99       300       Yes         120\n",
       "1        2      Burger  Fast Food   5.49       450       Yes         200\n",
       "2        3       Pasta    Italian   7.99       400        No         150\n",
       "3        4       Sushi   Japanese  12.99       250       Yes          50\n",
       "4        5       Tacos    Mexican   6.99       200        No         180\n",
       "5        6       Salad    Healthy   4.99       150       Yes         300\n",
       "6        7  Fried Rice      Asian   5.99       350       Yes         100\n",
       "7        8   Ice Cream    Dessert   3.99       200       Yes         400\n",
       "8        9       Steak      Grill  14.99       700        No          80\n",
       "9       10        Soup    Healthy   3.49       100       Yes         250"
      ]
     },
     "execution_count": 19,
     "metadata": {},
     "output_type": "execute_result"
    }
   ],
   "source": [
    "df"
   ]
  },
  {
   "cell_type": "code",
   "execution_count": 21,
   "id": "8ffc715c-a2d0-4230-ada9-cee61e223497",
   "metadata": {},
   "outputs": [],
   "source": [
    "df1 = df['Calories'].std()"
   ]
  },
  {
   "cell_type": "code",
   "execution_count": 22,
   "id": "548d083f-7e56-4b2f-815b-db2d6c8cb9bf",
   "metadata": {},
   "outputs": [
    {
     "data": {
      "text/plain": [
       "176.0681686165901"
      ]
     },
     "execution_count": 22,
     "metadata": {},
     "output_type": "execute_result"
    }
   ],
   "source": [
    "df1"
   ]
  },
  {
   "cell_type": "code",
   "execution_count": 23,
   "id": "1145b361-1f83-404c-b2e2-57ff704c010b",
   "metadata": {},
   "outputs": [
    {
     "data": {
      "text/html": [
       "<div>\n",
       "<style scoped>\n",
       "    .dataframe tbody tr th:only-of-type {\n",
       "        vertical-align: middle;\n",
       "    }\n",
       "\n",
       "    .dataframe tbody tr th {\n",
       "        vertical-align: top;\n",
       "    }\n",
       "\n",
       "    .dataframe thead th {\n",
       "        text-align: right;\n",
       "    }\n",
       "</style>\n",
       "<table border=\"1\" class=\"dataframe\">\n",
       "  <thead>\n",
       "    <tr style=\"text-align: right;\">\n",
       "      <th></th>\n",
       "      <th>Food_ID</th>\n",
       "      <th>Food_Name</th>\n",
       "      <th>Category</th>\n",
       "      <th>Price</th>\n",
       "      <th>Calories</th>\n",
       "      <th>Available</th>\n",
       "      <th>Units_Sold</th>\n",
       "    </tr>\n",
       "  </thead>\n",
       "  <tbody>\n",
       "    <tr>\n",
       "      <th>0</th>\n",
       "      <td>1</td>\n",
       "      <td>Pizza</td>\n",
       "      <td>Fast Food</td>\n",
       "      <td>8.99</td>\n",
       "      <td>300</td>\n",
       "      <td>Yes</td>\n",
       "      <td>120</td>\n",
       "    </tr>\n",
       "    <tr>\n",
       "      <th>1</th>\n",
       "      <td>2</td>\n",
       "      <td>Burger</td>\n",
       "      <td>Fast Food</td>\n",
       "      <td>5.49</td>\n",
       "      <td>450</td>\n",
       "      <td>Yes</td>\n",
       "      <td>200</td>\n",
       "    </tr>\n",
       "    <tr>\n",
       "      <th>2</th>\n",
       "      <td>3</td>\n",
       "      <td>Pasta</td>\n",
       "      <td>Italian</td>\n",
       "      <td>7.99</td>\n",
       "      <td>400</td>\n",
       "      <td>No</td>\n",
       "      <td>150</td>\n",
       "    </tr>\n",
       "    <tr>\n",
       "      <th>3</th>\n",
       "      <td>4</td>\n",
       "      <td>Sushi</td>\n",
       "      <td>Japanese</td>\n",
       "      <td>12.99</td>\n",
       "      <td>250</td>\n",
       "      <td>Yes</td>\n",
       "      <td>50</td>\n",
       "    </tr>\n",
       "    <tr>\n",
       "      <th>4</th>\n",
       "      <td>5</td>\n",
       "      <td>Tacos</td>\n",
       "      <td>Mexican</td>\n",
       "      <td>6.99</td>\n",
       "      <td>200</td>\n",
       "      <td>No</td>\n",
       "      <td>180</td>\n",
       "    </tr>\n",
       "    <tr>\n",
       "      <th>5</th>\n",
       "      <td>6</td>\n",
       "      <td>Salad</td>\n",
       "      <td>Healthy</td>\n",
       "      <td>4.99</td>\n",
       "      <td>150</td>\n",
       "      <td>Yes</td>\n",
       "      <td>300</td>\n",
       "    </tr>\n",
       "    <tr>\n",
       "      <th>6</th>\n",
       "      <td>7</td>\n",
       "      <td>Fried Rice</td>\n",
       "      <td>Asian</td>\n",
       "      <td>5.99</td>\n",
       "      <td>350</td>\n",
       "      <td>Yes</td>\n",
       "      <td>100</td>\n",
       "    </tr>\n",
       "    <tr>\n",
       "      <th>7</th>\n",
       "      <td>8</td>\n",
       "      <td>Ice Cream</td>\n",
       "      <td>Dessert</td>\n",
       "      <td>3.99</td>\n",
       "      <td>200</td>\n",
       "      <td>Yes</td>\n",
       "      <td>400</td>\n",
       "    </tr>\n",
       "    <tr>\n",
       "      <th>8</th>\n",
       "      <td>9</td>\n",
       "      <td>Steak</td>\n",
       "      <td>Grill</td>\n",
       "      <td>14.99</td>\n",
       "      <td>700</td>\n",
       "      <td>No</td>\n",
       "      <td>80</td>\n",
       "    </tr>\n",
       "    <tr>\n",
       "      <th>9</th>\n",
       "      <td>10</td>\n",
       "      <td>Soup</td>\n",
       "      <td>Healthy</td>\n",
       "      <td>3.49</td>\n",
       "      <td>100</td>\n",
       "      <td>Yes</td>\n",
       "      <td>250</td>\n",
       "    </tr>\n",
       "  </tbody>\n",
       "</table>\n",
       "</div>"
      ],
      "text/plain": [
       "   Food_ID   Food_Name   Category  Price  Calories Available  Units_Sold\n",
       "0        1       Pizza  Fast Food   8.99       300       Yes         120\n",
       "1        2      Burger  Fast Food   5.49       450       Yes         200\n",
       "2        3       Pasta    Italian   7.99       400        No         150\n",
       "3        4       Sushi   Japanese  12.99       250       Yes          50\n",
       "4        5       Tacos    Mexican   6.99       200        No         180\n",
       "5        6       Salad    Healthy   4.99       150       Yes         300\n",
       "6        7  Fried Rice      Asian   5.99       350       Yes         100\n",
       "7        8   Ice Cream    Dessert   3.99       200       Yes         400\n",
       "8        9       Steak      Grill  14.99       700        No          80\n",
       "9       10        Soup    Healthy   3.49       100       Yes         250"
      ]
     },
     "execution_count": 23,
     "metadata": {},
     "output_type": "execute_result"
    }
   ],
   "source": [
    "df"
   ]
  },
  {
   "cell_type": "code",
   "execution_count": null,
   "id": "1e968d09-5a39-4b3e-8b79-96d48def3ed8",
   "metadata": {},
   "outputs": [],
   "source": [
    "#Identify the food item with the highest and lowest calorie counts."
   ]
  },
  {
   "cell_type": "code",
   "execution_count": 57,
   "id": "a70183ef-c198-47c8-9fa1-59ae47a9eafe",
   "metadata": {},
   "outputs": [],
   "source": [
    "df_max = df.loc[[df['Calories'].idxmax()]], "
   ]
  },
  {
   "cell_type": "code",
   "execution_count": 58,
   "id": "2c1d80ea-fab6-41d7-b2e1-1a94938a7fbc",
   "metadata": {},
   "outputs": [
    {
     "data": {
      "text/plain": [
       "(   Food_ID Food_Name Category  Price  Calories Available  Units_Sold\n",
       " 8        9     Steak    Grill  14.99       700        No          80,)"
      ]
     },
     "execution_count": 58,
     "metadata": {},
     "output_type": "execute_result"
    }
   ],
   "source": [
    "df_max"
   ]
  },
  {
   "cell_type": "code",
   "execution_count": 62,
   "id": "71450169-eb28-4ff2-94a4-9ed7ff31b408",
   "metadata": {},
   "outputs": [],
   "source": [
    "df_min = df.loc[[df['Calories'].idxmin()]]"
   ]
  },
  {
   "cell_type": "code",
   "execution_count": 63,
   "id": "1d7340e2-3dd9-4899-aee0-acfa4d90bc05",
   "metadata": {},
   "outputs": [
    {
     "data": {
      "text/html": [
       "<div>\n",
       "<style scoped>\n",
       "    .dataframe tbody tr th:only-of-type {\n",
       "        vertical-align: middle;\n",
       "    }\n",
       "\n",
       "    .dataframe tbody tr th {\n",
       "        vertical-align: top;\n",
       "    }\n",
       "\n",
       "    .dataframe thead th {\n",
       "        text-align: right;\n",
       "    }\n",
       "</style>\n",
       "<table border=\"1\" class=\"dataframe\">\n",
       "  <thead>\n",
       "    <tr style=\"text-align: right;\">\n",
       "      <th></th>\n",
       "      <th>Food_ID</th>\n",
       "      <th>Food_Name</th>\n",
       "      <th>Category</th>\n",
       "      <th>Price</th>\n",
       "      <th>Calories</th>\n",
       "      <th>Available</th>\n",
       "      <th>Units_Sold</th>\n",
       "    </tr>\n",
       "  </thead>\n",
       "  <tbody>\n",
       "    <tr>\n",
       "      <th>9</th>\n",
       "      <td>10</td>\n",
       "      <td>Soup</td>\n",
       "      <td>Healthy</td>\n",
       "      <td>3.49</td>\n",
       "      <td>100</td>\n",
       "      <td>Yes</td>\n",
       "      <td>250</td>\n",
       "    </tr>\n",
       "  </tbody>\n",
       "</table>\n",
       "</div>"
      ],
      "text/plain": [
       "   Food_ID Food_Name Category  Price  Calories Available  Units_Sold\n",
       "9       10      Soup  Healthy   3.49       100       Yes         250"
      ]
     },
     "execution_count": 63,
     "metadata": {},
     "output_type": "execute_result"
    }
   ],
   "source": [
    "df_min"
   ]
  },
  {
   "cell_type": "code",
   "execution_count": null,
   "id": "19512364-f13c-4580-bae3-ae72582dbc76",
   "metadata": {},
   "outputs": [],
   "source": []
  }
 ],
 "metadata": {
  "kernelspec": {
   "display_name": "Python 3 (ipykernel)",
   "language": "python",
   "name": "python3"
  },
  "language_info": {
   "codemirror_mode": {
    "name": "ipython",
    "version": 3
   },
   "file_extension": ".py",
   "mimetype": "text/x-python",
   "name": "python",
   "nbconvert_exporter": "python",
   "pygments_lexer": "ipython3",
   "version": "3.12.7"
  }
 },
 "nbformat": 4,
 "nbformat_minor": 5
}
