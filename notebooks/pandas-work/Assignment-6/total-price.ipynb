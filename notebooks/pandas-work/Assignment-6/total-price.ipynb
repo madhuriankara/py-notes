{
 "cells": [
  {
   "cell_type": "code",
   "execution_count": 1,
   "id": "7225aeb7-6e9f-46f3-83d3-fee03e1589a2",
   "metadata": {},
   "outputs": [],
   "source": [
    "#Find the total price of all items that are marked as Available = \"Yes\"."
   ]
  },
  {
   "cell_type": "code",
   "execution_count": 2,
   "id": "5f45f077-4ee8-4120-a0f0-65f389db7425",
   "metadata": {},
   "outputs": [],
   "source": [
    "import pandas as pd"
   ]
  },
  {
   "cell_type": "code",
   "execution_count": 3,
   "id": "84a70d38-2946-4f59-918d-d3dc34789d47",
   "metadata": {},
   "outputs": [],
   "source": [
    "food = pd.read_csv('food.csv')"
   ]
  },
  {
   "cell_type": "code",
   "execution_count": 4,
   "id": "f8fb2045-1785-4f78-bf3a-2da2ceb96e6d",
   "metadata": {},
   "outputs": [],
   "source": [
    "food_sales = pd.read_csv('food_sales.csv')"
   ]
  },
  {
   "cell_type": "code",
   "execution_count": 5,
   "id": "b36f5101-03d7-4156-b47f-0b8a0621d21b",
   "metadata": {},
   "outputs": [],
   "source": [
    "df = pd.merge(food, food_sales, on = 'Food_Name')"
   ]
  },
  {
   "cell_type": "code",
   "execution_count": 6,
   "id": "5624b1f3-10dd-45ec-8b78-585d11fe40dc",
   "metadata": {},
   "outputs": [
    {
     "data": {
      "text/html": [
       "<div>\n",
       "<style scoped>\n",
       "    .dataframe tbody tr th:only-of-type {\n",
       "        vertical-align: middle;\n",
       "    }\n",
       "\n",
       "    .dataframe tbody tr th {\n",
       "        vertical-align: top;\n",
       "    }\n",
       "\n",
       "    .dataframe thead th {\n",
       "        text-align: right;\n",
       "    }\n",
       "</style>\n",
       "<table border=\"1\" class=\"dataframe\">\n",
       "  <thead>\n",
       "    <tr style=\"text-align: right;\">\n",
       "      <th></th>\n",
       "      <th>Food_ID</th>\n",
       "      <th>Food_Name</th>\n",
       "      <th>Category</th>\n",
       "      <th>Price</th>\n",
       "      <th>Calories</th>\n",
       "      <th>Available</th>\n",
       "      <th>Units_Sold</th>\n",
       "    </tr>\n",
       "  </thead>\n",
       "  <tbody>\n",
       "    <tr>\n",
       "      <th>0</th>\n",
       "      <td>1</td>\n",
       "      <td>Pizza</td>\n",
       "      <td>Fast Food</td>\n",
       "      <td>8.99</td>\n",
       "      <td>300</td>\n",
       "      <td>Yes</td>\n",
       "      <td>120</td>\n",
       "    </tr>\n",
       "    <tr>\n",
       "      <th>1</th>\n",
       "      <td>2</td>\n",
       "      <td>Burger</td>\n",
       "      <td>Fast Food</td>\n",
       "      <td>5.49</td>\n",
       "      <td>450</td>\n",
       "      <td>Yes</td>\n",
       "      <td>200</td>\n",
       "    </tr>\n",
       "    <tr>\n",
       "      <th>2</th>\n",
       "      <td>3</td>\n",
       "      <td>Pasta</td>\n",
       "      <td>Italian</td>\n",
       "      <td>7.99</td>\n",
       "      <td>400</td>\n",
       "      <td>No</td>\n",
       "      <td>150</td>\n",
       "    </tr>\n",
       "    <tr>\n",
       "      <th>3</th>\n",
       "      <td>4</td>\n",
       "      <td>Sushi</td>\n",
       "      <td>Japanese</td>\n",
       "      <td>12.99</td>\n",
       "      <td>250</td>\n",
       "      <td>Yes</td>\n",
       "      <td>50</td>\n",
       "    </tr>\n",
       "    <tr>\n",
       "      <th>4</th>\n",
       "      <td>5</td>\n",
       "      <td>Tacos</td>\n",
       "      <td>Mexican</td>\n",
       "      <td>6.99</td>\n",
       "      <td>200</td>\n",
       "      <td>No</td>\n",
       "      <td>180</td>\n",
       "    </tr>\n",
       "    <tr>\n",
       "      <th>5</th>\n",
       "      <td>6</td>\n",
       "      <td>Salad</td>\n",
       "      <td>Healthy</td>\n",
       "      <td>4.99</td>\n",
       "      <td>150</td>\n",
       "      <td>Yes</td>\n",
       "      <td>300</td>\n",
       "    </tr>\n",
       "    <tr>\n",
       "      <th>6</th>\n",
       "      <td>7</td>\n",
       "      <td>Fried Rice</td>\n",
       "      <td>Asian</td>\n",
       "      <td>5.99</td>\n",
       "      <td>350</td>\n",
       "      <td>Yes</td>\n",
       "      <td>100</td>\n",
       "    </tr>\n",
       "    <tr>\n",
       "      <th>7</th>\n",
       "      <td>8</td>\n",
       "      <td>Ice Cream</td>\n",
       "      <td>Dessert</td>\n",
       "      <td>3.99</td>\n",
       "      <td>200</td>\n",
       "      <td>Yes</td>\n",
       "      <td>400</td>\n",
       "    </tr>\n",
       "    <tr>\n",
       "      <th>8</th>\n",
       "      <td>9</td>\n",
       "      <td>Steak</td>\n",
       "      <td>Grill</td>\n",
       "      <td>14.99</td>\n",
       "      <td>700</td>\n",
       "      <td>No</td>\n",
       "      <td>80</td>\n",
       "    </tr>\n",
       "    <tr>\n",
       "      <th>9</th>\n",
       "      <td>10</td>\n",
       "      <td>Soup</td>\n",
       "      <td>Healthy</td>\n",
       "      <td>3.49</td>\n",
       "      <td>100</td>\n",
       "      <td>Yes</td>\n",
       "      <td>250</td>\n",
       "    </tr>\n",
       "  </tbody>\n",
       "</table>\n",
       "</div>"
      ],
      "text/plain": [
       "   Food_ID   Food_Name   Category  Price  Calories Available  Units_Sold\n",
       "0        1       Pizza  Fast Food   8.99       300       Yes         120\n",
       "1        2      Burger  Fast Food   5.49       450       Yes         200\n",
       "2        3       Pasta    Italian   7.99       400        No         150\n",
       "3        4       Sushi   Japanese  12.99       250       Yes          50\n",
       "4        5       Tacos    Mexican   6.99       200        No         180\n",
       "5        6       Salad    Healthy   4.99       150       Yes         300\n",
       "6        7  Fried Rice      Asian   5.99       350       Yes         100\n",
       "7        8   Ice Cream    Dessert   3.99       200       Yes         400\n",
       "8        9       Steak      Grill  14.99       700        No          80\n",
       "9       10        Soup    Healthy   3.49       100       Yes         250"
      ]
     },
     "execution_count": 6,
     "metadata": {},
     "output_type": "execute_result"
    }
   ],
   "source": [
    "df"
   ]
  },
  {
   "cell_type": "code",
   "execution_count": 7,
   "id": "550b7729-080b-43d5-850a-8f758e653422",
   "metadata": {},
   "outputs": [],
   "source": [
    "df['Total_price'] = df['Price'] * df['Units_Sold']"
   ]
  },
  {
   "cell_type": "code",
   "execution_count": 8,
   "id": "5a1713b8-e208-473a-8ce9-18a863097de0",
   "metadata": {},
   "outputs": [
    {
     "data": {
      "text/plain": [
       "0    1078.8\n",
       "1    1098.0\n",
       "2    1198.5\n",
       "3     649.5\n",
       "4    1258.2\n",
       "5    1497.0\n",
       "6     599.0\n",
       "7    1596.0\n",
       "8    1199.2\n",
       "9     872.5\n",
       "Name: Total_price, dtype: float64"
      ]
     },
     "execution_count": 8,
     "metadata": {},
     "output_type": "execute_result"
    }
   ],
   "source": [
    "df['Total_price']"
   ]
  },
  {
   "cell_type": "code",
   "execution_count": 9,
   "id": "c382f68a-bd00-4fb0-ba3f-fb721475dc8b",
   "metadata": {},
   "outputs": [
    {
     "data": {
      "text/html": [
       "<div>\n",
       "<style scoped>\n",
       "    .dataframe tbody tr th:only-of-type {\n",
       "        vertical-align: middle;\n",
       "    }\n",
       "\n",
       "    .dataframe tbody tr th {\n",
       "        vertical-align: top;\n",
       "    }\n",
       "\n",
       "    .dataframe thead th {\n",
       "        text-align: right;\n",
       "    }\n",
       "</style>\n",
       "<table border=\"1\" class=\"dataframe\">\n",
       "  <thead>\n",
       "    <tr style=\"text-align: right;\">\n",
       "      <th></th>\n",
       "      <th>Food_ID</th>\n",
       "      <th>Food_Name</th>\n",
       "      <th>Category</th>\n",
       "      <th>Price</th>\n",
       "      <th>Calories</th>\n",
       "      <th>Available</th>\n",
       "      <th>Units_Sold</th>\n",
       "      <th>Total_price</th>\n",
       "    </tr>\n",
       "  </thead>\n",
       "  <tbody>\n",
       "    <tr>\n",
       "      <th>0</th>\n",
       "      <td>1</td>\n",
       "      <td>Pizza</td>\n",
       "      <td>Fast Food</td>\n",
       "      <td>8.99</td>\n",
       "      <td>300</td>\n",
       "      <td>Yes</td>\n",
       "      <td>120</td>\n",
       "      <td>1078.8</td>\n",
       "    </tr>\n",
       "    <tr>\n",
       "      <th>1</th>\n",
       "      <td>2</td>\n",
       "      <td>Burger</td>\n",
       "      <td>Fast Food</td>\n",
       "      <td>5.49</td>\n",
       "      <td>450</td>\n",
       "      <td>Yes</td>\n",
       "      <td>200</td>\n",
       "      <td>1098.0</td>\n",
       "    </tr>\n",
       "    <tr>\n",
       "      <th>2</th>\n",
       "      <td>3</td>\n",
       "      <td>Pasta</td>\n",
       "      <td>Italian</td>\n",
       "      <td>7.99</td>\n",
       "      <td>400</td>\n",
       "      <td>No</td>\n",
       "      <td>150</td>\n",
       "      <td>1198.5</td>\n",
       "    </tr>\n",
       "    <tr>\n",
       "      <th>3</th>\n",
       "      <td>4</td>\n",
       "      <td>Sushi</td>\n",
       "      <td>Japanese</td>\n",
       "      <td>12.99</td>\n",
       "      <td>250</td>\n",
       "      <td>Yes</td>\n",
       "      <td>50</td>\n",
       "      <td>649.5</td>\n",
       "    </tr>\n",
       "    <tr>\n",
       "      <th>4</th>\n",
       "      <td>5</td>\n",
       "      <td>Tacos</td>\n",
       "      <td>Mexican</td>\n",
       "      <td>6.99</td>\n",
       "      <td>200</td>\n",
       "      <td>No</td>\n",
       "      <td>180</td>\n",
       "      <td>1258.2</td>\n",
       "    </tr>\n",
       "    <tr>\n",
       "      <th>5</th>\n",
       "      <td>6</td>\n",
       "      <td>Salad</td>\n",
       "      <td>Healthy</td>\n",
       "      <td>4.99</td>\n",
       "      <td>150</td>\n",
       "      <td>Yes</td>\n",
       "      <td>300</td>\n",
       "      <td>1497.0</td>\n",
       "    </tr>\n",
       "    <tr>\n",
       "      <th>6</th>\n",
       "      <td>7</td>\n",
       "      <td>Fried Rice</td>\n",
       "      <td>Asian</td>\n",
       "      <td>5.99</td>\n",
       "      <td>350</td>\n",
       "      <td>Yes</td>\n",
       "      <td>100</td>\n",
       "      <td>599.0</td>\n",
       "    </tr>\n",
       "    <tr>\n",
       "      <th>7</th>\n",
       "      <td>8</td>\n",
       "      <td>Ice Cream</td>\n",
       "      <td>Dessert</td>\n",
       "      <td>3.99</td>\n",
       "      <td>200</td>\n",
       "      <td>Yes</td>\n",
       "      <td>400</td>\n",
       "      <td>1596.0</td>\n",
       "    </tr>\n",
       "    <tr>\n",
       "      <th>8</th>\n",
       "      <td>9</td>\n",
       "      <td>Steak</td>\n",
       "      <td>Grill</td>\n",
       "      <td>14.99</td>\n",
       "      <td>700</td>\n",
       "      <td>No</td>\n",
       "      <td>80</td>\n",
       "      <td>1199.2</td>\n",
       "    </tr>\n",
       "    <tr>\n",
       "      <th>9</th>\n",
       "      <td>10</td>\n",
       "      <td>Soup</td>\n",
       "      <td>Healthy</td>\n",
       "      <td>3.49</td>\n",
       "      <td>100</td>\n",
       "      <td>Yes</td>\n",
       "      <td>250</td>\n",
       "      <td>872.5</td>\n",
       "    </tr>\n",
       "  </tbody>\n",
       "</table>\n",
       "</div>"
      ],
      "text/plain": [
       "   Food_ID   Food_Name   Category  Price  Calories Available  Units_Sold  \\\n",
       "0        1       Pizza  Fast Food   8.99       300       Yes         120   \n",
       "1        2      Burger  Fast Food   5.49       450       Yes         200   \n",
       "2        3       Pasta    Italian   7.99       400        No         150   \n",
       "3        4       Sushi   Japanese  12.99       250       Yes          50   \n",
       "4        5       Tacos    Mexican   6.99       200        No         180   \n",
       "5        6       Salad    Healthy   4.99       150       Yes         300   \n",
       "6        7  Fried Rice      Asian   5.99       350       Yes         100   \n",
       "7        8   Ice Cream    Dessert   3.99       200       Yes         400   \n",
       "8        9       Steak      Grill  14.99       700        No          80   \n",
       "9       10        Soup    Healthy   3.49       100       Yes         250   \n",
       "\n",
       "   Total_price  \n",
       "0       1078.8  \n",
       "1       1098.0  \n",
       "2       1198.5  \n",
       "3        649.5  \n",
       "4       1258.2  \n",
       "5       1497.0  \n",
       "6        599.0  \n",
       "7       1596.0  \n",
       "8       1199.2  \n",
       "9        872.5  "
      ]
     },
     "execution_count": 9,
     "metadata": {},
     "output_type": "execute_result"
    }
   ],
   "source": [
    "df"
   ]
  },
  {
   "cell_type": "code",
   "execution_count": 28,
   "id": "cf76f637-9294-4c1d-b9be-2c7acba67d3d",
   "metadata": {},
   "outputs": [],
   "source": [
    "df1 = df[df['Available']== 'Yes'],df['Total_price']"
   ]
  },
  {
   "cell_type": "code",
   "execution_count": 29,
   "id": "07c77f27-e640-415c-85ba-503753a7cfdf",
   "metadata": {},
   "outputs": [
    {
     "data": {
      "text/plain": [
       "(   Food_ID   Food_Name   Category  Price  Calories Available  Units_Sold  \\\n",
       " 0        1       Pizza  Fast Food   8.99       300       Yes         120   \n",
       " 1        2      Burger  Fast Food   5.49       450       Yes         200   \n",
       " 3        4       Sushi   Japanese  12.99       250       Yes          50   \n",
       " 5        6       Salad    Healthy   4.99       150       Yes         300   \n",
       " 6        7  Fried Rice      Asian   5.99       350       Yes         100   \n",
       " 7        8   Ice Cream    Dessert   3.99       200       Yes         400   \n",
       " 9       10        Soup    Healthy   3.49       100       Yes         250   \n",
       " \n",
       "    Total_price  \n",
       " 0       1078.8  \n",
       " 1       1098.0  \n",
       " 3        649.5  \n",
       " 5       1497.0  \n",
       " 6        599.0  \n",
       " 7       1596.0  \n",
       " 9        872.5  ,\n",
       " 0    1078.8\n",
       " 1    1098.0\n",
       " 2    1198.5\n",
       " 3     649.5\n",
       " 4    1258.2\n",
       " 5    1497.0\n",
       " 6     599.0\n",
       " 7    1596.0\n",
       " 8    1199.2\n",
       " 9     872.5\n",
       " Name: Total_price, dtype: float64)"
      ]
     },
     "execution_count": 29,
     "metadata": {},
     "output_type": "execute_result"
    }
   ],
   "source": [
    "df1"
   ]
  },
  {
   "cell_type": "code",
   "execution_count": 30,
   "id": "f91afeff-508f-4369-af25-63c894722488",
   "metadata": {},
   "outputs": [],
   "source": [
    "#Count the number of unique categories in the dataset."
   ]
  },
  {
   "cell_type": "code",
   "execution_count": 51,
   "id": "13241161-fe16-4b24-b6a2-432913530916",
   "metadata": {},
   "outputs": [],
   "source": [
    "df_unique = df['Category'].nunique()"
   ]
  },
  {
   "cell_type": "code",
   "execution_count": 52,
   "id": "e6fbbdae-154a-4dd3-be05-29b5ad6300a5",
   "metadata": {},
   "outputs": [
    {
     "data": {
      "text/plain": [
       "8"
      ]
     },
     "execution_count": 52,
     "metadata": {},
     "output_type": "execute_result"
    }
   ],
   "source": [
    "df_unique"
   ]
  },
  {
   "cell_type": "code",
   "execution_count": null,
   "id": "b3ea4d59-dcd0-4c35-930c-e79f3537d001",
   "metadata": {},
   "outputs": [],
   "source": []
  }
 ],
 "metadata": {
  "kernelspec": {
   "display_name": "Python 3 (ipykernel)",
   "language": "python",
   "name": "python3"
  },
  "language_info": {
   "codemirror_mode": {
    "name": "ipython",
    "version": 3
   },
   "file_extension": ".py",
   "mimetype": "text/x-python",
   "name": "python",
   "nbconvert_exporter": "python",
   "pygments_lexer": "ipython3",
   "version": "3.12.7"
  }
 },
 "nbformat": 4,
 "nbformat_minor": 5
}
