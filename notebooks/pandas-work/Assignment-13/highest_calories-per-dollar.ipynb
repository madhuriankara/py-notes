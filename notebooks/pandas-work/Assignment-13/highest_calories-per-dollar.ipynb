{
 "cells": [
  {
   "cell_type": "code",
   "execution_count": 1,
   "id": "4ed6d707-71bf-4849-af65-fa7483c8103c",
   "metadata": {},
   "outputs": [],
   "source": [
    "#Identify the 3 most calorie-dense food items (highest Calories per Dollar)."
   ]
  },
  {
   "cell_type": "code",
   "execution_count": 2,
   "id": "eab6c0ac-dffd-43e5-9a63-46d628934296",
   "metadata": {},
   "outputs": [],
   "source": [
    "import pandas as pd"
   ]
  },
  {
   "cell_type": "code",
   "execution_count": 3,
   "id": "ae5c1447-45c7-40fc-8521-47b2af8d6750",
   "metadata": {},
   "outputs": [],
   "source": [
    "food = pd.read_csv('food.csv')"
   ]
  },
  {
   "cell_type": "code",
   "execution_count": 4,
   "id": "529498a8-da06-43dd-99c8-7f13814bfca1",
   "metadata": {},
   "outputs": [],
   "source": [
    "food_sales = pd.read_csv('food_sales.csv')"
   ]
  },
  {
   "cell_type": "code",
   "execution_count": 5,
   "id": "5ae84e18-e4c2-4358-b8c7-24dbb06efa1a",
   "metadata": {},
   "outputs": [],
   "source": [
    "ratings = pd.read_csv('ratings.csv')"
   ]
  },
  {
   "cell_type": "code",
   "execution_count": 6,
   "id": "21570f86-f177-4bbf-a346-af1126f4bd79",
   "metadata": {},
   "outputs": [],
   "source": [
    "df = pd.merge(food, food_sales, on='Food_Name', how='outer')"
   ]
  },
  {
   "cell_type": "code",
   "execution_count": 7,
   "id": "d58a23d7-9362-4407-a692-2573991a1f65",
   "metadata": {},
   "outputs": [],
   "source": [
    "df = pd.merge(df, ratings, on='Food_Name', how='outer')"
   ]
  },
  {
   "cell_type": "code",
   "execution_count": 8,
   "id": "dde051b3-aa2f-4ebe-bb92-1e7ad787dfe2",
   "metadata": {},
   "outputs": [
    {
     "data": {
      "text/html": [
       "<div>\n",
       "<style scoped>\n",
       "    .dataframe tbody tr th:only-of-type {\n",
       "        vertical-align: middle;\n",
       "    }\n",
       "\n",
       "    .dataframe tbody tr th {\n",
       "        vertical-align: top;\n",
       "    }\n",
       "\n",
       "    .dataframe thead th {\n",
       "        text-align: right;\n",
       "    }\n",
       "</style>\n",
       "<table border=\"1\" class=\"dataframe\">\n",
       "  <thead>\n",
       "    <tr style=\"text-align: right;\">\n",
       "      <th></th>\n",
       "      <th>Food_ID</th>\n",
       "      <th>Food_Name</th>\n",
       "      <th>Category</th>\n",
       "      <th>Price</th>\n",
       "      <th>Calories</th>\n",
       "      <th>Available</th>\n",
       "      <th>Units_Sold</th>\n",
       "      <th>Rating</th>\n",
       "    </tr>\n",
       "  </thead>\n",
       "  <tbody>\n",
       "    <tr>\n",
       "      <th>0</th>\n",
       "      <td>2</td>\n",
       "      <td>Burger</td>\n",
       "      <td>Fast Food</td>\n",
       "      <td>5.49</td>\n",
       "      <td>450</td>\n",
       "      <td>Yes</td>\n",
       "      <td>200</td>\n",
       "      <td>4.0</td>\n",
       "    </tr>\n",
       "    <tr>\n",
       "      <th>1</th>\n",
       "      <td>7</td>\n",
       "      <td>Fried Rice</td>\n",
       "      <td>Asian</td>\n",
       "      <td>5.99</td>\n",
       "      <td>350</td>\n",
       "      <td>Yes</td>\n",
       "      <td>100</td>\n",
       "      <td>3.9</td>\n",
       "    </tr>\n",
       "    <tr>\n",
       "      <th>2</th>\n",
       "      <td>8</td>\n",
       "      <td>Ice Cream</td>\n",
       "      <td>Dessert</td>\n",
       "      <td>3.99</td>\n",
       "      <td>200</td>\n",
       "      <td>Yes</td>\n",
       "      <td>400</td>\n",
       "      <td>4.8</td>\n",
       "    </tr>\n",
       "    <tr>\n",
       "      <th>3</th>\n",
       "      <td>3</td>\n",
       "      <td>Pasta</td>\n",
       "      <td>Italian</td>\n",
       "      <td>7.99</td>\n",
       "      <td>400</td>\n",
       "      <td>No</td>\n",
       "      <td>150</td>\n",
       "      <td>3.8</td>\n",
       "    </tr>\n",
       "    <tr>\n",
       "      <th>4</th>\n",
       "      <td>1</td>\n",
       "      <td>Pizza</td>\n",
       "      <td>Fast Food</td>\n",
       "      <td>8.99</td>\n",
       "      <td>300</td>\n",
       "      <td>Yes</td>\n",
       "      <td>120</td>\n",
       "      <td>4.5</td>\n",
       "    </tr>\n",
       "    <tr>\n",
       "      <th>5</th>\n",
       "      <td>6</td>\n",
       "      <td>Salad</td>\n",
       "      <td>Healthy</td>\n",
       "      <td>4.99</td>\n",
       "      <td>150</td>\n",
       "      <td>Yes</td>\n",
       "      <td>300</td>\n",
       "      <td>4.6</td>\n",
       "    </tr>\n",
       "    <tr>\n",
       "      <th>6</th>\n",
       "      <td>10</td>\n",
       "      <td>Soup</td>\n",
       "      <td>Healthy</td>\n",
       "      <td>3.49</td>\n",
       "      <td>100</td>\n",
       "      <td>Yes</td>\n",
       "      <td>250</td>\n",
       "      <td>4.3</td>\n",
       "    </tr>\n",
       "    <tr>\n",
       "      <th>7</th>\n",
       "      <td>9</td>\n",
       "      <td>Steak</td>\n",
       "      <td>Grill</td>\n",
       "      <td>14.99</td>\n",
       "      <td>700</td>\n",
       "      <td>No</td>\n",
       "      <td>80</td>\n",
       "      <td>4.4</td>\n",
       "    </tr>\n",
       "    <tr>\n",
       "      <th>8</th>\n",
       "      <td>4</td>\n",
       "      <td>Sushi</td>\n",
       "      <td>Japanese</td>\n",
       "      <td>12.99</td>\n",
       "      <td>250</td>\n",
       "      <td>Yes</td>\n",
       "      <td>50</td>\n",
       "      <td>4.7</td>\n",
       "    </tr>\n",
       "    <tr>\n",
       "      <th>9</th>\n",
       "      <td>5</td>\n",
       "      <td>Tacos</td>\n",
       "      <td>Mexican</td>\n",
       "      <td>6.99</td>\n",
       "      <td>200</td>\n",
       "      <td>No</td>\n",
       "      <td>180</td>\n",
       "      <td>4.2</td>\n",
       "    </tr>\n",
       "  </tbody>\n",
       "</table>\n",
       "</div>"
      ],
      "text/plain": [
       "   Food_ID   Food_Name   Category  Price  Calories Available  Units_Sold  \\\n",
       "0        2      Burger  Fast Food   5.49       450       Yes         200   \n",
       "1        7  Fried Rice      Asian   5.99       350       Yes         100   \n",
       "2        8   Ice Cream    Dessert   3.99       200       Yes         400   \n",
       "3        3       Pasta    Italian   7.99       400        No         150   \n",
       "4        1       Pizza  Fast Food   8.99       300       Yes         120   \n",
       "5        6       Salad    Healthy   4.99       150       Yes         300   \n",
       "6       10        Soup    Healthy   3.49       100       Yes         250   \n",
       "7        9       Steak      Grill  14.99       700        No          80   \n",
       "8        4       Sushi   Japanese  12.99       250       Yes          50   \n",
       "9        5       Tacos    Mexican   6.99       200        No         180   \n",
       "\n",
       "   Rating  \n",
       "0     4.0  \n",
       "1     3.9  \n",
       "2     4.8  \n",
       "3     3.8  \n",
       "4     4.5  \n",
       "5     4.6  \n",
       "6     4.3  \n",
       "7     4.4  \n",
       "8     4.7  \n",
       "9     4.2  "
      ]
     },
     "execution_count": 8,
     "metadata": {},
     "output_type": "execute_result"
    }
   ],
   "source": [
    "df"
   ]
  },
  {
   "cell_type": "code",
   "execution_count": 35,
   "id": "4a37022f-7658-4fbf-881a-6c3151b7ff59",
   "metadata": {},
   "outputs": [],
   "source": [
    "Calorie_df = df[df['Calories'] > 400],df['Calories']* df['Price']"
   ]
  },
  {
   "cell_type": "code",
   "execution_count": 37,
   "id": "bb1534f2-2d52-4ab0-a1b2-98592fff14cd",
   "metadata": {},
   "outputs": [
    {
     "data": {
      "text/plain": [
       "(   Food_ID Food_Name   Category  Price  Calories Available  Units_Sold  Rating\n",
       " 0        2    Burger  Fast Food   5.49       450       Yes         200     4.0\n",
       " 7        9     Steak      Grill  14.99       700        No          80     4.4,\n",
       " 0     2470.5\n",
       " 1     2096.5\n",
       " 2      798.0\n",
       " 3     3196.0\n",
       " 4     2697.0\n",
       " 5      748.5\n",
       " 6      349.0\n",
       " 7    10493.0\n",
       " 8     3247.5\n",
       " 9     1398.0\n",
       " dtype: float64)"
      ]
     },
     "execution_count": 37,
     "metadata": {},
     "output_type": "execute_result"
    }
   ],
   "source": [
    "Calorie_df"
   ]
  },
  {
   "cell_type": "code",
   "execution_count": null,
   "id": "a92d1edc-a78a-4263-bf65-62faeeb64ea8",
   "metadata": {},
   "outputs": [],
   "source": []
  },
  {
   "cell_type": "code",
   "execution_count": null,
   "id": "a81819fe-caf0-42eb-afb0-2921be0a80ce",
   "metadata": {},
   "outputs": [],
   "source": []
  },
  {
   "cell_type": "code",
   "execution_count": null,
   "id": "a254f7d8-967a-4c63-bb89-7259eba15af4",
   "metadata": {},
   "outputs": [],
   "source": []
  }
 ],
 "metadata": {
  "kernelspec": {
   "display_name": "Python 3 (ipykernel)",
   "language": "python",
   "name": "python3"
  },
  "language_info": {
   "codemirror_mode": {
    "name": "ipython",
    "version": 3
   },
   "file_extension": ".py",
   "mimetype": "text/x-python",
   "name": "python",
   "nbconvert_exporter": "python",
   "pygments_lexer": "ipython3",
   "version": "3.12.7"
  }
 },
 "nbformat": 4,
 "nbformat_minor": 5
}
