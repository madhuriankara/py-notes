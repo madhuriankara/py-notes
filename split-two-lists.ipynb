{
 "cells": [
  {
   "cell_type": "code",
   "execution_count": 1,
   "id": "896216a9-a8ff-48b7-bf24-923eac96f90d",
   "metadata": {},
   "outputs": [],
   "source": [
    "#Split a list into a list of even and odd numbers"
   ]
  },
  {
   "cell_type": "code",
   "execution_count": 13,
   "id": "29cb0e37-5aff-4576-84e9-50a44f74e5a0",
   "metadata": {},
   "outputs": [],
   "source": [
    "def split_list():\n",
    "    lst = [1,2,3,4,5,6]\n",
    "    lst1 = []\n",
    "    lst2 = []\n",
    "    for i in lst:\n",
    "        if i % 2 ==0:\n",
    "            lst1.append(i) \n",
    "        else:\n",
    "            lst2.append(i)\n",
    "    return lst1, lst2"
   ]
  },
  {
   "cell_type": "code",
   "execution_count": 14,
   "id": "f33cee9e-6dc8-477c-bbbb-a6160a5c73d0",
   "metadata": {},
   "outputs": [
    {
     "data": {
      "text/plain": [
       "([2, 4, 6], [1, 3, 5])"
      ]
     },
     "execution_count": 14,
     "metadata": {},
     "output_type": "execute_result"
    }
   ],
   "source": [
    "split_list()"
   ]
  },
  {
   "cell_type": "code",
   "execution_count": null,
   "id": "0c28d87e-02cd-4eec-8c6c-e477ef870dfb",
   "metadata": {},
   "outputs": [],
   "source": []
  }
 ],
 "metadata": {
  "kernelspec": {
   "display_name": "Python 3 (ipykernel)",
   "language": "python",
   "name": "python3"
  },
  "language_info": {
   "codemirror_mode": {
    "name": "ipython",
    "version": 3
   },
   "file_extension": ".py",
   "mimetype": "text/x-python",
   "name": "python",
   "nbconvert_exporter": "python",
   "pygments_lexer": "ipython3",
   "version": "3.12.7"
  }
 },
 "nbformat": 4,
 "nbformat_minor": 5
}
